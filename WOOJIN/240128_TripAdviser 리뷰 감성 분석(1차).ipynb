{
 "cells": [
  {
   "cell_type": "markdown",
   "id": "86eae928",
   "metadata": {},
   "source": [
    "# 제목\n",
    "\n",
    "2024.01.28"
   ]
  },
  {
   "cell_type": "markdown",
   "id": "f9fed36a",
   "metadata": {},
   "source": [
    "---"
   ]
  },
  {
   "cell_type": "markdown",
   "id": "d1337e66",
   "metadata": {},
   "source": [
    "## 1. 프로젝트 개요"
   ]
  },
  {
   "cell_type": "markdown",
   "id": "90453dd7",
   "metadata": {},
   "source": [
    "### 1-1. 프로젝트 요약\n",
    "- 제목: 제목\n",
    "- 설명: 설명\n",
    "- 사용한 데이터셋\n",
    "    - [제목](링크): 설명\n",
    "- 진행 절차 및 내용\n",
    "    - 내용1\n",
    "    - 내용2\n",
    "- 사용한 스킬셋\n",
    "    - pandas\n",
    "    - matplotlib, seaborn\n",
    "    - ..."
   ]
  },
  {
   "cell_type": "markdown",
   "id": "52d7a1cc",
   "metadata": {},
   "source": [
    "### 1-2. 프로젝트 진행 배경\n",
    "\n",
    "내용"
   ]
  },
  {
   "cell_type": "markdown",
   "id": "a6bdae6a",
   "metadata": {},
   "source": [
    "---"
   ]
  },
  {
   "cell_type": "markdown",
   "id": "91e2c594",
   "metadata": {},
   "source": [
    "## 2. 데이터 로딩 및 EDA"
   ]
  },
  {
   "cell_type": "markdown",
   "id": "63499328",
   "metadata": {},
   "source": [
    "### 2-1. 데이터 불러오기"
   ]
  },
  {
   "cell_type": "code",
   "execution_count": 71,
   "id": "eec0d7e3",
   "metadata": {
    "ExecuteTime": {
     "end_time": "2024-01-28T10:42:58.815183Z",
     "start_time": "2024-01-28T10:42:58.803704Z"
    }
   },
   "outputs": [],
   "source": [
    "import pandas as pd\n",
    "import numpy as np\n",
    "import matplotlib.pyplot as plt\n",
    "import koreanize_matplotlib\n",
    "import seaborn as sns\n",
    "import pickle\n",
    "import json\n",
    "from datetime import datetime"
   ]
  },
  {
   "cell_type": "code",
   "execution_count": 2,
   "id": "956e808e",
   "metadata": {
    "ExecuteTime": {
     "end_time": "2024-01-28T10:02:22.164034Z",
     "start_time": "2024-01-28T10:02:22.102578Z"
    }
   },
   "outputs": [
    {
     "data": {
      "text/html": [
       "<div>\n",
       "<style scoped>\n",
       "    .dataframe tbody tr th:only-of-type {\n",
       "        vertical-align: middle;\n",
       "    }\n",
       "\n",
       "    .dataframe tbody tr th {\n",
       "        vertical-align: top;\n",
       "    }\n",
       "\n",
       "    .dataframe thead th {\n",
       "        text-align: right;\n",
       "    }\n",
       "</style>\n",
       "<table border=\"1\" class=\"dataframe\">\n",
       "  <thead>\n",
       "    <tr style=\"text-align: right;\">\n",
       "      <th></th>\n",
       "      <th>hotel_class</th>\n",
       "      <th>region_id</th>\n",
       "      <th>url</th>\n",
       "      <th>phone</th>\n",
       "      <th>details</th>\n",
       "      <th>address</th>\n",
       "      <th>type</th>\n",
       "      <th>id</th>\n",
       "      <th>name</th>\n",
       "    </tr>\n",
       "  </thead>\n",
       "  <tbody>\n",
       "    <tr>\n",
       "      <th>0</th>\n",
       "      <td>4.0</td>\n",
       "      <td>60763</td>\n",
       "      <td>http://www.tripadvisor.com/Hotel_Review-g60763...</td>\n",
       "      <td>NaN</td>\n",
       "      <td>NaN</td>\n",
       "      <td>{'region': 'NY', 'street-address': '147 West 4...</td>\n",
       "      <td>hotel</td>\n",
       "      <td>113317</td>\n",
       "      <td>Casablanca Hotel Times Square</td>\n",
       "    </tr>\n",
       "    <tr>\n",
       "      <th>1</th>\n",
       "      <td>5.0</td>\n",
       "      <td>32655</td>\n",
       "      <td>http://www.tripadvisor.com/Hotel_Review-g32655...</td>\n",
       "      <td>NaN</td>\n",
       "      <td>NaN</td>\n",
       "      <td>{'region': 'CA', 'street-address': '300 S Dohe...</td>\n",
       "      <td>hotel</td>\n",
       "      <td>76049</td>\n",
       "      <td>Four Seasons Hotel Los Angeles at Beverly Hills</td>\n",
       "    </tr>\n",
       "    <tr>\n",
       "      <th>2</th>\n",
       "      <td>3.5</td>\n",
       "      <td>60763</td>\n",
       "      <td>http://www.tripadvisor.com/Hotel_Review-g60763...</td>\n",
       "      <td>NaN</td>\n",
       "      <td>NaN</td>\n",
       "      <td>{'region': 'NY', 'street-address': '790 Eighth...</td>\n",
       "      <td>hotel</td>\n",
       "      <td>99352</td>\n",
       "      <td>Hilton Garden Inn Times Square</td>\n",
       "    </tr>\n",
       "    <tr>\n",
       "      <th>3</th>\n",
       "      <td>4.0</td>\n",
       "      <td>60763</td>\n",
       "      <td>http://www.tripadvisor.com/Hotel_Review-g60763...</td>\n",
       "      <td>NaN</td>\n",
       "      <td>NaN</td>\n",
       "      <td>{'region': 'NY', 'street-address': '152 West 5...</td>\n",
       "      <td>hotel</td>\n",
       "      <td>93589</td>\n",
       "      <td>The Michelangelo Hotel</td>\n",
       "    </tr>\n",
       "    <tr>\n",
       "      <th>4</th>\n",
       "      <td>4.0</td>\n",
       "      <td>60763</td>\n",
       "      <td>http://www.tripadvisor.com/Hotel_Review-g60763...</td>\n",
       "      <td>NaN</td>\n",
       "      <td>NaN</td>\n",
       "      <td>{'region': 'NY', 'street-address': '130 West 4...</td>\n",
       "      <td>hotel</td>\n",
       "      <td>217616</td>\n",
       "      <td>The Muse Hotel New York</td>\n",
       "    </tr>\n",
       "    <tr>\n",
       "      <th>...</th>\n",
       "      <td>...</td>\n",
       "      <td>...</td>\n",
       "      <td>...</td>\n",
       "      <td>...</td>\n",
       "      <td>...</td>\n",
       "      <td>...</td>\n",
       "      <td>...</td>\n",
       "      <td>...</td>\n",
       "      <td>...</td>\n",
       "    </tr>\n",
       "    <tr>\n",
       "      <th>4328</th>\n",
       "      <td>5.0</td>\n",
       "      <td>28970</td>\n",
       "      <td>http://www.tripadvisor.com/Hotel_Review-g28970...</td>\n",
       "      <td>NaN</td>\n",
       "      <td>NaN</td>\n",
       "      <td>{'region': 'DC', 'street-address': '1201 24th ...</td>\n",
       "      <td>hotel</td>\n",
       "      <td>84090</td>\n",
       "      <td>Park Hyatt Washington</td>\n",
       "    </tr>\n",
       "    <tr>\n",
       "      <th>4329</th>\n",
       "      <td>5.0</td>\n",
       "      <td>28970</td>\n",
       "      <td>http://www.tripadvisor.com/Hotel_Review-g28970...</td>\n",
       "      <td>NaN</td>\n",
       "      <td>NaN</td>\n",
       "      <td>{'region': 'DC', 'street-address': '2800 Penns...</td>\n",
       "      <td>hotel</td>\n",
       "      <td>84065</td>\n",
       "      <td>Four Seasons Washington D.C.</td>\n",
       "    </tr>\n",
       "    <tr>\n",
       "      <th>4330</th>\n",
       "      <td>4.0</td>\n",
       "      <td>28970</td>\n",
       "      <td>http://www.tripadvisor.com/Hotel_Review-g28970...</td>\n",
       "      <td>NaN</td>\n",
       "      <td>NaN</td>\n",
       "      <td>{'region': 'DC', 'street-address': '2121 P Str...</td>\n",
       "      <td>hotel</td>\n",
       "      <td>84093</td>\n",
       "      <td>Palomar Washington DC, a Kimpton Hotel</td>\n",
       "    </tr>\n",
       "    <tr>\n",
       "      <th>4331</th>\n",
       "      <td>4.5</td>\n",
       "      <td>28970</td>\n",
       "      <td>http://www.tripadvisor.com/Hotel_Review-g28970...</td>\n",
       "      <td>NaN</td>\n",
       "      <td>NaN</td>\n",
       "      <td>{'region': 'DC', 'street-address': '806 15th S...</td>\n",
       "      <td>hotel</td>\n",
       "      <td>235513</td>\n",
       "      <td>Sofitel Washington DC</td>\n",
       "    </tr>\n",
       "    <tr>\n",
       "      <th>4332</th>\n",
       "      <td>5.0</td>\n",
       "      <td>28970</td>\n",
       "      <td>http://www.tripadvisor.com/Hotel_Review-g28970...</td>\n",
       "      <td>NaN</td>\n",
       "      <td>NaN</td>\n",
       "      <td>{'region': 'DC', 'street-address': '16th &amp; H S...</td>\n",
       "      <td>hotel</td>\n",
       "      <td>84117</td>\n",
       "      <td>The Hay-Adams</td>\n",
       "    </tr>\n",
       "  </tbody>\n",
       "</table>\n",
       "<p>4333 rows × 9 columns</p>\n",
       "</div>"
      ],
      "text/plain": [
       "      hotel_class  region_id  \\\n",
       "0             4.0      60763   \n",
       "1             5.0      32655   \n",
       "2             3.5      60763   \n",
       "3             4.0      60763   \n",
       "4             4.0      60763   \n",
       "...           ...        ...   \n",
       "4328          5.0      28970   \n",
       "4329          5.0      28970   \n",
       "4330          4.0      28970   \n",
       "4331          4.5      28970   \n",
       "4332          5.0      28970   \n",
       "\n",
       "                                                    url  phone  details  \\\n",
       "0     http://www.tripadvisor.com/Hotel_Review-g60763...    NaN      NaN   \n",
       "1     http://www.tripadvisor.com/Hotel_Review-g32655...    NaN      NaN   \n",
       "2     http://www.tripadvisor.com/Hotel_Review-g60763...    NaN      NaN   \n",
       "3     http://www.tripadvisor.com/Hotel_Review-g60763...    NaN      NaN   \n",
       "4     http://www.tripadvisor.com/Hotel_Review-g60763...    NaN      NaN   \n",
       "...                                                 ...    ...      ...   \n",
       "4328  http://www.tripadvisor.com/Hotel_Review-g28970...    NaN      NaN   \n",
       "4329  http://www.tripadvisor.com/Hotel_Review-g28970...    NaN      NaN   \n",
       "4330  http://www.tripadvisor.com/Hotel_Review-g28970...    NaN      NaN   \n",
       "4331  http://www.tripadvisor.com/Hotel_Review-g28970...    NaN      NaN   \n",
       "4332  http://www.tripadvisor.com/Hotel_Review-g28970...    NaN      NaN   \n",
       "\n",
       "                                                address   type      id  \\\n",
       "0     {'region': 'NY', 'street-address': '147 West 4...  hotel  113317   \n",
       "1     {'region': 'CA', 'street-address': '300 S Dohe...  hotel   76049   \n",
       "2     {'region': 'NY', 'street-address': '790 Eighth...  hotel   99352   \n",
       "3     {'region': 'NY', 'street-address': '152 West 5...  hotel   93589   \n",
       "4     {'region': 'NY', 'street-address': '130 West 4...  hotel  217616   \n",
       "...                                                 ...    ...     ...   \n",
       "4328  {'region': 'DC', 'street-address': '1201 24th ...  hotel   84090   \n",
       "4329  {'region': 'DC', 'street-address': '2800 Penns...  hotel   84065   \n",
       "4330  {'region': 'DC', 'street-address': '2121 P Str...  hotel   84093   \n",
       "4331  {'region': 'DC', 'street-address': '806 15th S...  hotel  235513   \n",
       "4332  {'region': 'DC', 'street-address': '16th & H S...  hotel   84117   \n",
       "\n",
       "                                                 name  \n",
       "0                       Casablanca Hotel Times Square  \n",
       "1     Four Seasons Hotel Los Angeles at Beverly Hills  \n",
       "2                      Hilton Garden Inn Times Square  \n",
       "3                              The Michelangelo Hotel  \n",
       "4                             The Muse Hotel New York  \n",
       "...                                               ...  \n",
       "4328                            Park Hyatt Washington  \n",
       "4329                     Four Seasons Washington D.C.  \n",
       "4330           Palomar Washington DC, a Kimpton Hotel  \n",
       "4331                            Sofitel Washington DC  \n",
       "4332                                    The Hay-Adams  \n",
       "\n",
       "[4333 rows x 9 columns]"
      ]
     },
     "execution_count": 2,
     "metadata": {},
     "output_type": "execute_result"
    }
   ],
   "source": [
    "offering_df = pd.read_csv('offerings.csv')\n",
    "offering_df"
   ]
  },
  {
   "cell_type": "code",
   "execution_count": 3,
   "id": "2b4c094b",
   "metadata": {
    "ExecuteTime": {
     "end_time": "2024-01-28T10:02:22.195862Z",
     "start_time": "2024-01-28T10:02:22.166305Z"
    }
   },
   "outputs": [
    {
     "name": "stdout",
     "output_type": "stream",
     "text": [
      "<class 'pandas.core.frame.DataFrame'>\n",
      "RangeIndex: 4333 entries, 0 to 4332\n",
      "Data columns (total 9 columns):\n",
      " #   Column       Non-Null Count  Dtype  \n",
      "---  ------       --------------  -----  \n",
      " 0   hotel_class  3141 non-null   float64\n",
      " 1   region_id    4333 non-null   int64  \n",
      " 2   url          4333 non-null   object \n",
      " 3   phone        0 non-null      float64\n",
      " 4   details      0 non-null      float64\n",
      " 5   address      4333 non-null   object \n",
      " 6   type         4333 non-null   object \n",
      " 7   id           4333 non-null   int64  \n",
      " 8   name         4333 non-null   object \n",
      "dtypes: float64(3), int64(2), object(4)\n",
      "memory usage: 304.8+ KB\n"
     ]
    }
   ],
   "source": [
    "offering_df.info()"
   ]
  },
  {
   "cell_type": "code",
   "execution_count": 4,
   "id": "ea3d654f",
   "metadata": {
    "ExecuteTime": {
     "end_time": "2024-01-28T10:02:22.227418Z",
     "start_time": "2024-01-28T10:02:22.198211Z"
    }
   },
   "outputs": [
    {
     "data": {
      "text/plain": [
       "hotel_class    1192\n",
       "region_id         0\n",
       "url               0\n",
       "phone          4333\n",
       "details        4333\n",
       "address           0\n",
       "type              0\n",
       "id                0\n",
       "name              0\n",
       "dtype: int64"
      ]
     },
     "execution_count": 4,
     "metadata": {},
     "output_type": "execute_result"
    }
   ],
   "source": [
    "offering_df.isna().sum()"
   ]
  },
  {
   "cell_type": "code",
   "execution_count": 5,
   "id": "d8ecde7a",
   "metadata": {
    "ExecuteTime": {
     "end_time": "2024-01-28T10:02:22.258187Z",
     "start_time": "2024-01-28T10:02:22.229404Z"
    }
   },
   "outputs": [
    {
     "data": {
      "text/plain": [
       "hotel_class    1192\n",
       "region_id         0\n",
       "url               0\n",
       "address           0\n",
       "type              0\n",
       "id                0\n",
       "name              0\n",
       "dtype: int64"
      ]
     },
     "execution_count": 5,
     "metadata": {},
     "output_type": "execute_result"
    }
   ],
   "source": [
    "offering_df = offering_df.drop(['phone', 'details'], axis=1)\n",
    "offering_df.isna().sum()"
   ]
  },
  {
   "cell_type": "code",
   "execution_count": 26,
   "id": "4d305a4e",
   "metadata": {
    "ExecuteTime": {
     "end_time": "2024-01-28T10:16:45.350028Z",
     "start_time": "2024-01-28T10:16:34.945445Z"
    }
   },
   "outputs": [
    {
     "data": {
      "text/html": [
       "<div>\n",
       "<style scoped>\n",
       "    .dataframe tbody tr th:only-of-type {\n",
       "        vertical-align: middle;\n",
       "    }\n",
       "\n",
       "    .dataframe tbody tr th {\n",
       "        vertical-align: top;\n",
       "    }\n",
       "\n",
       "    .dataframe thead th {\n",
       "        text-align: right;\n",
       "    }\n",
       "</style>\n",
       "<table border=\"1\" class=\"dataframe\">\n",
       "  <thead>\n",
       "    <tr style=\"text-align: right;\">\n",
       "      <th></th>\n",
       "      <th>ratings</th>\n",
       "      <th>title</th>\n",
       "      <th>text</th>\n",
       "      <th>author</th>\n",
       "      <th>date_stayed</th>\n",
       "      <th>offering_id</th>\n",
       "      <th>num_helpful_votes</th>\n",
       "      <th>date</th>\n",
       "      <th>id</th>\n",
       "      <th>via_mobile</th>\n",
       "    </tr>\n",
       "  </thead>\n",
       "  <tbody>\n",
       "    <tr>\n",
       "      <th>0</th>\n",
       "      <td>{'service': 5.0, 'cleanliness': 5.0, 'overall'...</td>\n",
       "      <td>“Truly is \"Jewel of the Upper Wets Side\"”</td>\n",
       "      <td>Stayed in a king suite for 11 nights and yes i...</td>\n",
       "      <td>{'username': 'Papa_Panda', 'num_cities': 22, '...</td>\n",
       "      <td>December 2012</td>\n",
       "      <td>93338</td>\n",
       "      <td>0</td>\n",
       "      <td>2012-12-17</td>\n",
       "      <td>147643103</td>\n",
       "      <td>False</td>\n",
       "    </tr>\n",
       "    <tr>\n",
       "      <th>1</th>\n",
       "      <td>{'service': 5.0, 'cleanliness': 5.0, 'overall'...</td>\n",
       "      <td>“My home away from home!”</td>\n",
       "      <td>On every visit to NYC, the Hotel Beacon is the...</td>\n",
       "      <td>{'username': 'Maureen V', 'num_reviews': 2, 'n...</td>\n",
       "      <td>December 2012</td>\n",
       "      <td>93338</td>\n",
       "      <td>0</td>\n",
       "      <td>2012-12-17</td>\n",
       "      <td>147639004</td>\n",
       "      <td>False</td>\n",
       "    </tr>\n",
       "    <tr>\n",
       "      <th>2</th>\n",
       "      <td>{'service': 4.0, 'cleanliness': 5.0, 'overall'...</td>\n",
       "      <td>“Great Stay”</td>\n",
       "      <td>This is a great property in Midtown. We two di...</td>\n",
       "      <td>{'username': 'vuguru', 'num_cities': 12, 'num_...</td>\n",
       "      <td>December 2012</td>\n",
       "      <td>1762573</td>\n",
       "      <td>0</td>\n",
       "      <td>2012-12-18</td>\n",
       "      <td>147697954</td>\n",
       "      <td>False</td>\n",
       "    </tr>\n",
       "    <tr>\n",
       "      <th>3</th>\n",
       "      <td>{'service': 5.0, 'cleanliness': 5.0, 'overall'...</td>\n",
       "      <td>“Modern Convenience”</td>\n",
       "      <td>The Andaz is a nice hotel in a central locatio...</td>\n",
       "      <td>{'username': 'Hotel-Designer', 'num_cities': 5...</td>\n",
       "      <td>August 2012</td>\n",
       "      <td>1762573</td>\n",
       "      <td>0</td>\n",
       "      <td>2012-12-17</td>\n",
       "      <td>147625723</td>\n",
       "      <td>False</td>\n",
       "    </tr>\n",
       "    <tr>\n",
       "      <th>4</th>\n",
       "      <td>{'service': 4.0, 'cleanliness': 5.0, 'overall'...</td>\n",
       "      <td>“Its the best of the Andaz Brand in the US....”</td>\n",
       "      <td>I have stayed at each of the US Andaz properti...</td>\n",
       "      <td>{'username': 'JamesE339', 'num_cities': 34, 'n...</td>\n",
       "      <td>December 2012</td>\n",
       "      <td>1762573</td>\n",
       "      <td>0</td>\n",
       "      <td>2012-12-17</td>\n",
       "      <td>147612823</td>\n",
       "      <td>False</td>\n",
       "    </tr>\n",
       "    <tr>\n",
       "      <th>...</th>\n",
       "      <td>...</td>\n",
       "      <td>...</td>\n",
       "      <td>...</td>\n",
       "      <td>...</td>\n",
       "      <td>...</td>\n",
       "      <td>...</td>\n",
       "      <td>...</td>\n",
       "      <td>...</td>\n",
       "      <td>...</td>\n",
       "      <td>...</td>\n",
       "    </tr>\n",
       "    <tr>\n",
       "      <th>878556</th>\n",
       "      <td>{'overall': 4.0}</td>\n",
       "      <td>“vil komme igen”</td>\n",
       "      <td>Pænt hotel i et livligt miljø. Store værelser,...</td>\n",
       "      <td>{'username': '', 'id': '', 'location': ''}</td>\n",
       "      <td>NaN</td>\n",
       "      <td>84093</td>\n",
       "      <td>0</td>\n",
       "      <td>2008-08-31</td>\n",
       "      <td>51441576</td>\n",
       "      <td>False</td>\n",
       "    </tr>\n",
       "    <tr>\n",
       "      <th>878557</th>\n",
       "      <td>{'service': 4.0, 'cleanliness': 5.0, 'overall'...</td>\n",
       "      <td>“excellent”</td>\n",
       "      <td>un excellent hotel 4 *, pour un prix raisonnab...</td>\n",
       "      <td>{'username': 'dan016', 'num_reviews': 2, 'num_...</td>\n",
       "      <td>July 2008</td>\n",
       "      <td>84093</td>\n",
       "      <td>0</td>\n",
       "      <td>2008-07-18</td>\n",
       "      <td>18003332</td>\n",
       "      <td>False</td>\n",
       "    </tr>\n",
       "    <tr>\n",
       "      <th>878558</th>\n",
       "      <td>{'cleanliness': 5.0, 'overall': 5.0, 'rooms': ...</td>\n",
       "      <td>“Un hotel eccezionale”</td>\n",
       "      <td>L'hotel, situato in una zona tranquilla e a du...</td>\n",
       "      <td>{'username': '', 'id': '', 'location': ''}</td>\n",
       "      <td>July 2008</td>\n",
       "      <td>84093</td>\n",
       "      <td>0</td>\n",
       "      <td>2008-04-18</td>\n",
       "      <td>15564515</td>\n",
       "      <td>False</td>\n",
       "    </tr>\n",
       "    <tr>\n",
       "      <th>878559</th>\n",
       "      <td>{'cleanliness': 5.0, 'overall': 5.0, 'rooms': ...</td>\n",
       "      <td>“Gerne wieder”</td>\n",
       "      <td>Sehr schön ausgestattetes Hotel in bester Lage...</td>\n",
       "      <td>{'username': '', 'id': '', 'location': ''}</td>\n",
       "      <td>July 2008</td>\n",
       "      <td>84093</td>\n",
       "      <td>0</td>\n",
       "      <td>2008-04-01</td>\n",
       "      <td>15564508</td>\n",
       "      <td>False</td>\n",
       "    </tr>\n",
       "    <tr>\n",
       "      <th>878560</th>\n",
       "      <td>{'service': 4.0, 'cleanliness': 4.0, 'overall'...</td>\n",
       "      <td>“Nuevo... novísimo. Estupendo lugar.”</td>\n",
       "      <td>El hotel está entre el aeropuerto y Washington...</td>\n",
       "      <td>{'username': 'Basajaun', 'num_cities': 8, 'num...</td>\n",
       "      <td>March 2008</td>\n",
       "      <td>84093</td>\n",
       "      <td>0</td>\n",
       "      <td>2008-03-13</td>\n",
       "      <td>14259290</td>\n",
       "      <td>False</td>\n",
       "    </tr>\n",
       "  </tbody>\n",
       "</table>\n",
       "<p>878561 rows × 10 columns</p>\n",
       "</div>"
      ],
      "text/plain": [
       "                                                  ratings  \\\n",
       "0       {'service': 5.0, 'cleanliness': 5.0, 'overall'...   \n",
       "1       {'service': 5.0, 'cleanliness': 5.0, 'overall'...   \n",
       "2       {'service': 4.0, 'cleanliness': 5.0, 'overall'...   \n",
       "3       {'service': 5.0, 'cleanliness': 5.0, 'overall'...   \n",
       "4       {'service': 4.0, 'cleanliness': 5.0, 'overall'...   \n",
       "...                                                   ...   \n",
       "878556                                   {'overall': 4.0}   \n",
       "878557  {'service': 4.0, 'cleanliness': 5.0, 'overall'...   \n",
       "878558  {'cleanliness': 5.0, 'overall': 5.0, 'rooms': ...   \n",
       "878559  {'cleanliness': 5.0, 'overall': 5.0, 'rooms': ...   \n",
       "878560  {'service': 4.0, 'cleanliness': 4.0, 'overall'...   \n",
       "\n",
       "                                                  title  \\\n",
       "0             “Truly is \"Jewel of the Upper Wets Side\"”   \n",
       "1                             “My home away from home!”   \n",
       "2                                          “Great Stay”   \n",
       "3                                  “Modern Convenience”   \n",
       "4       “Its the best of the Andaz Brand in the US....”   \n",
       "...                                                 ...   \n",
       "878556                                 “vil komme igen”   \n",
       "878557                                      “excellent”   \n",
       "878558                           “Un hotel eccezionale”   \n",
       "878559                                   “Gerne wieder”   \n",
       "878560            “Nuevo... novísimo. Estupendo lugar.”   \n",
       "\n",
       "                                                     text  \\\n",
       "0       Stayed in a king suite for 11 nights and yes i...   \n",
       "1       On every visit to NYC, the Hotel Beacon is the...   \n",
       "2       This is a great property in Midtown. We two di...   \n",
       "3       The Andaz is a nice hotel in a central locatio...   \n",
       "4       I have stayed at each of the US Andaz properti...   \n",
       "...                                                   ...   \n",
       "878556  Pænt hotel i et livligt miljø. Store værelser,...   \n",
       "878557  un excellent hotel 4 *, pour un prix raisonnab...   \n",
       "878558  L'hotel, situato in una zona tranquilla e a du...   \n",
       "878559  Sehr schön ausgestattetes Hotel in bester Lage...   \n",
       "878560  El hotel está entre el aeropuerto y Washington...   \n",
       "\n",
       "                                                   author    date_stayed  \\\n",
       "0       {'username': 'Papa_Panda', 'num_cities': 22, '...  December 2012   \n",
       "1       {'username': 'Maureen V', 'num_reviews': 2, 'n...  December 2012   \n",
       "2       {'username': 'vuguru', 'num_cities': 12, 'num_...  December 2012   \n",
       "3       {'username': 'Hotel-Designer', 'num_cities': 5...    August 2012   \n",
       "4       {'username': 'JamesE339', 'num_cities': 34, 'n...  December 2012   \n",
       "...                                                   ...            ...   \n",
       "878556         {'username': '', 'id': '', 'location': ''}            NaN   \n",
       "878557  {'username': 'dan016', 'num_reviews': 2, 'num_...      July 2008   \n",
       "878558         {'username': '', 'id': '', 'location': ''}      July 2008   \n",
       "878559         {'username': '', 'id': '', 'location': ''}      July 2008   \n",
       "878560  {'username': 'Basajaun', 'num_cities': 8, 'num...     March 2008   \n",
       "\n",
       "        offering_id  num_helpful_votes        date         id  via_mobile  \n",
       "0             93338                  0  2012-12-17  147643103       False  \n",
       "1             93338                  0  2012-12-17  147639004       False  \n",
       "2           1762573                  0  2012-12-18  147697954       False  \n",
       "3           1762573                  0  2012-12-17  147625723       False  \n",
       "4           1762573                  0  2012-12-17  147612823       False  \n",
       "...             ...                ...         ...        ...         ...  \n",
       "878556        84093                  0  2008-08-31   51441576       False  \n",
       "878557        84093                  0  2008-07-18   18003332       False  \n",
       "878558        84093                  0  2008-04-18   15564515       False  \n",
       "878559        84093                  0  2008-04-01   15564508       False  \n",
       "878560        84093                  0  2008-03-13   14259290       False  \n",
       "\n",
       "[878561 rows x 10 columns]"
      ]
     },
     "execution_count": 26,
     "metadata": {},
     "output_type": "execute_result"
    }
   ],
   "source": [
    "review_df = pd.read_csv('reviews.csv')\n",
    "review_df"
   ]
  },
  {
   "cell_type": "code",
   "execution_count": 7,
   "id": "5ffdc718",
   "metadata": {
    "ExecuteTime": {
     "end_time": "2024-01-28T10:02:33.286470Z",
     "start_time": "2024-01-28T10:02:32.734798Z"
    }
   },
   "outputs": [
    {
     "name": "stdout",
     "output_type": "stream",
     "text": [
      "<class 'pandas.core.frame.DataFrame'>\n",
      "RangeIndex: 878561 entries, 0 to 878560\n",
      "Data columns (total 10 columns):\n",
      " #   Column             Non-Null Count   Dtype \n",
      "---  ------             --------------   ----- \n",
      " 0   ratings            878561 non-null  object\n",
      " 1   title              878561 non-null  object\n",
      " 2   text               878561 non-null  object\n",
      " 3   author             878561 non-null  object\n",
      " 4   date_stayed        810967 non-null  object\n",
      " 5   offering_id        878561 non-null  int64 \n",
      " 6   num_helpful_votes  878561 non-null  int64 \n",
      " 7   date               878561 non-null  object\n",
      " 8   id                 878561 non-null  int64 \n",
      " 9   via_mobile         878561 non-null  bool  \n",
      "dtypes: bool(1), int64(3), object(6)\n",
      "memory usage: 61.2+ MB\n"
     ]
    }
   ],
   "source": [
    "review_df.info()"
   ]
  },
  {
   "cell_type": "code",
   "execution_count": 27,
   "id": "40d7e794",
   "metadata": {
    "ExecuteTime": {
     "end_time": "2024-01-28T10:16:49.375076Z",
     "start_time": "2024-01-28T10:16:48.822364Z"
    }
   },
   "outputs": [
    {
     "data": {
      "text/html": [
       "<div>\n",
       "<style scoped>\n",
       "    .dataframe tbody tr th:only-of-type {\n",
       "        vertical-align: middle;\n",
       "    }\n",
       "\n",
       "    .dataframe tbody tr th {\n",
       "        vertical-align: top;\n",
       "    }\n",
       "\n",
       "    .dataframe thead th {\n",
       "        text-align: right;\n",
       "    }\n",
       "</style>\n",
       "<table border=\"1\" class=\"dataframe\">\n",
       "  <thead>\n",
       "    <tr style=\"text-align: right;\">\n",
       "      <th></th>\n",
       "      <th>NaN</th>\n",
       "      <th>Count</th>\n",
       "      <th>NaN Ratio</th>\n",
       "    </tr>\n",
       "  </thead>\n",
       "  <tbody>\n",
       "    <tr>\n",
       "      <th>date_stayed</th>\n",
       "      <td>67594</td>\n",
       "      <td>878561</td>\n",
       "      <td>0.076937</td>\n",
       "    </tr>\n",
       "  </tbody>\n",
       "</table>\n",
       "</div>"
      ],
      "text/plain": [
       "               NaN   Count  NaN Ratio\n",
       "date_stayed  67594  878561   0.076937"
      ]
     },
     "execution_count": 27,
     "metadata": {},
     "output_type": "execute_result"
    }
   ],
   "source": [
    "isna_df = review_df.isna().sum().to_frame().rename(columns={0: 'NaN'})\n",
    "isna_df['Count'] = review_df.shape[0]\n",
    "isna_df['NaN Ratio'] = isna_df['NaN'] / isna_df['Count']\n",
    "isna_df[isna_df['NaN Ratio'] > 0]"
   ]
  },
  {
   "cell_type": "markdown",
   "id": "3ee03073",
   "metadata": {},
   "source": [
    "대략 8.3% 정도의 결측치가 있다. 숙박을 하지 않은 상태에서 리뷰를 달 수가 있는 모양이다."
   ]
  },
  {
   "cell_type": "markdown",
   "id": "fd0b53dd",
   "metadata": {},
   "source": [
    "### 2-2. 데이터 분포 확인 및 전처리 (reviews.csv)"
   ]
  },
  {
   "cell_type": "markdown",
   "id": "363a1252",
   "metadata": {},
   "source": [
    "#### 2-2-1. 컬럼별 EDA (ratings)"
   ]
  },
  {
   "cell_type": "code",
   "execution_count": 29,
   "id": "16d62c08",
   "metadata": {
    "ExecuteTime": {
     "end_time": "2024-01-28T10:17:26.516234Z",
     "start_time": "2024-01-28T10:17:26.503782Z"
    }
   },
   "outputs": [
    {
     "data": {
      "text/plain": [
       "\"{'service': 5.0, 'cleanliness': 5.0, 'overall': 5.0, 'value': 5.0, 'location': 5.0, 'sleep_quality': 5.0, 'rooms': 5.0}\""
      ]
     },
     "execution_count": 29,
     "metadata": {},
     "output_type": "execute_result"
    }
   ],
   "source": [
    "review_df['ratings'][0]"
   ]
  },
  {
   "cell_type": "markdown",
   "id": "6e98f10d",
   "metadata": {},
   "source": [
    "json으로 들어가 있는데 또 결측치가 있는 케이스가 있어서... 꽤나 골치아프다."
   ]
  },
  {
   "cell_type": "code",
   "execution_count": 28,
   "id": "80e0826d",
   "metadata": {
    "ExecuteTime": {
     "end_time": "2024-01-28T10:17:26.500873Z",
     "start_time": "2024-01-28T10:17:05.921478Z"
    }
   },
   "outputs": [
    {
     "data": {
      "text/html": [
       "<div>\n",
       "<style scoped>\n",
       "    .dataframe tbody tr th:only-of-type {\n",
       "        vertical-align: middle;\n",
       "    }\n",
       "\n",
       "    .dataframe tbody tr th {\n",
       "        vertical-align: top;\n",
       "    }\n",
       "\n",
       "    .dataframe thead th {\n",
       "        text-align: right;\n",
       "    }\n",
       "</style>\n",
       "<table border=\"1\" class=\"dataframe\">\n",
       "  <thead>\n",
       "    <tr style=\"text-align: right;\">\n",
       "      <th></th>\n",
       "      <th>ratings_overall</th>\n",
       "      <th>ratings_service</th>\n",
       "      <th>ratings_cleanliness</th>\n",
       "      <th>ratings_value</th>\n",
       "      <th>ratings_location</th>\n",
       "      <th>ratings_sleep_quality</th>\n",
       "      <th>ratings_rooms</th>\n",
       "    </tr>\n",
       "  </thead>\n",
       "  <tbody>\n",
       "    <tr>\n",
       "      <th>0</th>\n",
       "      <td>5.0</td>\n",
       "      <td>5.0</td>\n",
       "      <td>5.0</td>\n",
       "      <td>5.0</td>\n",
       "      <td>5.0</td>\n",
       "      <td>5.0</td>\n",
       "      <td>5.0</td>\n",
       "    </tr>\n",
       "    <tr>\n",
       "      <th>1</th>\n",
       "      <td>5.0</td>\n",
       "      <td>5.0</td>\n",
       "      <td>5.0</td>\n",
       "      <td>5.0</td>\n",
       "      <td>5.0</td>\n",
       "      <td>5.0</td>\n",
       "      <td>5.0</td>\n",
       "    </tr>\n",
       "    <tr>\n",
       "      <th>2</th>\n",
       "      <td>4.0</td>\n",
       "      <td>4.0</td>\n",
       "      <td>5.0</td>\n",
       "      <td>4.0</td>\n",
       "      <td>5.0</td>\n",
       "      <td>4.0</td>\n",
       "      <td>4.0</td>\n",
       "    </tr>\n",
       "    <tr>\n",
       "      <th>3</th>\n",
       "      <td>4.0</td>\n",
       "      <td>5.0</td>\n",
       "      <td>5.0</td>\n",
       "      <td>5.0</td>\n",
       "      <td>5.0</td>\n",
       "      <td>5.0</td>\n",
       "      <td>5.0</td>\n",
       "    </tr>\n",
       "    <tr>\n",
       "      <th>4</th>\n",
       "      <td>4.0</td>\n",
       "      <td>4.0</td>\n",
       "      <td>5.0</td>\n",
       "      <td>3.0</td>\n",
       "      <td>5.0</td>\n",
       "      <td>5.0</td>\n",
       "      <td>5.0</td>\n",
       "    </tr>\n",
       "    <tr>\n",
       "      <th>...</th>\n",
       "      <td>...</td>\n",
       "      <td>...</td>\n",
       "      <td>...</td>\n",
       "      <td>...</td>\n",
       "      <td>...</td>\n",
       "      <td>...</td>\n",
       "      <td>...</td>\n",
       "    </tr>\n",
       "    <tr>\n",
       "      <th>878556</th>\n",
       "      <td>4.0</td>\n",
       "      <td>NaN</td>\n",
       "      <td>NaN</td>\n",
       "      <td>NaN</td>\n",
       "      <td>NaN</td>\n",
       "      <td>NaN</td>\n",
       "      <td>NaN</td>\n",
       "    </tr>\n",
       "    <tr>\n",
       "      <th>878557</th>\n",
       "      <td>4.0</td>\n",
       "      <td>4.0</td>\n",
       "      <td>5.0</td>\n",
       "      <td>4.0</td>\n",
       "      <td>4.0</td>\n",
       "      <td>NaN</td>\n",
       "      <td>5.0</td>\n",
       "    </tr>\n",
       "    <tr>\n",
       "      <th>878558</th>\n",
       "      <td>5.0</td>\n",
       "      <td>5.0</td>\n",
       "      <td>5.0</td>\n",
       "      <td>NaN</td>\n",
       "      <td>NaN</td>\n",
       "      <td>NaN</td>\n",
       "      <td>5.0</td>\n",
       "    </tr>\n",
       "    <tr>\n",
       "      <th>878559</th>\n",
       "      <td>5.0</td>\n",
       "      <td>5.0</td>\n",
       "      <td>5.0</td>\n",
       "      <td>NaN</td>\n",
       "      <td>NaN</td>\n",
       "      <td>NaN</td>\n",
       "      <td>5.0</td>\n",
       "    </tr>\n",
       "    <tr>\n",
       "      <th>878560</th>\n",
       "      <td>4.0</td>\n",
       "      <td>4.0</td>\n",
       "      <td>4.0</td>\n",
       "      <td>4.0</td>\n",
       "      <td>3.0</td>\n",
       "      <td>NaN</td>\n",
       "      <td>4.0</td>\n",
       "    </tr>\n",
       "  </tbody>\n",
       "</table>\n",
       "<p>878561 rows × 7 columns</p>\n",
       "</div>"
      ],
      "text/plain": [
       "        ratings_overall  ratings_service  ratings_cleanliness  ratings_value  \\\n",
       "0                   5.0              5.0                  5.0            5.0   \n",
       "1                   5.0              5.0                  5.0            5.0   \n",
       "2                   4.0              4.0                  5.0            4.0   \n",
       "3                   4.0              5.0                  5.0            5.0   \n",
       "4                   4.0              4.0                  5.0            3.0   \n",
       "...                 ...              ...                  ...            ...   \n",
       "878556              4.0              NaN                  NaN            NaN   \n",
       "878557              4.0              4.0                  5.0            4.0   \n",
       "878558              5.0              5.0                  5.0            NaN   \n",
       "878559              5.0              5.0                  5.0            NaN   \n",
       "878560              4.0              4.0                  4.0            4.0   \n",
       "\n",
       "        ratings_location  ratings_sleep_quality  ratings_rooms  \n",
       "0                    5.0                    5.0            5.0  \n",
       "1                    5.0                    5.0            5.0  \n",
       "2                    5.0                    4.0            4.0  \n",
       "3                    5.0                    5.0            5.0  \n",
       "4                    5.0                    5.0            5.0  \n",
       "...                  ...                    ...            ...  \n",
       "878556               NaN                    NaN            NaN  \n",
       "878557               4.0                    NaN            5.0  \n",
       "878558               NaN                    NaN            5.0  \n",
       "878559               NaN                    NaN            5.0  \n",
       "878560               3.0                    NaN            4.0  \n",
       "\n",
       "[878561 rows x 7 columns]"
      ]
     },
     "execution_count": 28,
     "metadata": {},
     "output_type": "execute_result"
    }
   ],
   "source": [
    "def extract_ratings_overall(txt):\n",
    "    try:\n",
    "        return json.loads(txt.replace(\"'\", '\"'))['overall']\n",
    "    except (json.JSONDecodeError, KeyError):\n",
    "        return None\n",
    "    \n",
    "def extract_ratings_service(txt):\n",
    "    try:\n",
    "        return json.loads(txt.replace(\"'\", '\"'))['service']\n",
    "    except (json.JSONDecodeError, KeyError):\n",
    "        return None\n",
    "    \n",
    "def extract_ratings_cleanliness(txt):\n",
    "    try:\n",
    "        return json.loads(txt.replace(\"'\", '\"'))['cleanliness']\n",
    "    except (json.JSONDecodeError, KeyError):\n",
    "        return None\n",
    "    \n",
    "def extract_ratings_value(txt):\n",
    "    try:\n",
    "        return json.loads(txt.replace(\"'\", '\"'))['value']\n",
    "    except (json.JSONDecodeError, KeyError):\n",
    "        return None\n",
    "    \n",
    "def extract_ratings_location(txt):\n",
    "    try:\n",
    "        return json.loads(txt.replace(\"'\", '\"'))['location']\n",
    "    except (json.JSONDecodeError, KeyError):\n",
    "        return None\n",
    "\n",
    "def extract_ratings_sleep_quality(txt):\n",
    "    try:\n",
    "        return json.loads(txt.replace(\"'\", '\"'))['sleep_quality']\n",
    "    except (json.JSONDecodeError, KeyError):\n",
    "        return None\n",
    "\n",
    "def extract_ratings_rooms(txt):\n",
    "    try:\n",
    "        return json.loads(txt.replace(\"'\", '\"'))['rooms']\n",
    "    except (json.JSONDecodeError, KeyError):\n",
    "        return None\n",
    "    \n",
    "review_df['ratings_overall'] = review_df['ratings'].apply(extract_ratings_overall)\n",
    "review_df['ratings_service'] = review_df['ratings'].apply(extract_ratings_service)\n",
    "review_df['ratings_cleanliness'] = review_df['ratings'].apply(extract_ratings_cleanliness)\n",
    "review_df['ratings_value'] = review_df['ratings'].apply(extract_ratings_value)\n",
    "review_df['ratings_location'] = review_df['ratings'].apply(extract_ratings_location)\n",
    "review_df['ratings_sleep_quality'] = review_df['ratings'].apply(extract_ratings_sleep_quality)\n",
    "review_df['ratings_rooms'] = review_df['ratings'].apply(extract_ratings_rooms)\n",
    "\n",
    "review_df[[\n",
    "    'ratings_overall', 'ratings_service', 'ratings_cleanliness', 'ratings_value',\n",
    "    'ratings_location', 'ratings_sleep_quality', 'ratings_rooms'\n",
    "]]"
   ]
  },
  {
   "cell_type": "code",
   "execution_count": 32,
   "id": "580ac8ca",
   "metadata": {
    "ExecuteTime": {
     "end_time": "2024-01-28T10:19:21.237051Z",
     "start_time": "2024-01-28T10:19:21.220101Z"
    }
   },
   "outputs": [],
   "source": [
    "rating_columns = [\n",
    "    'ratings_overall', 'ratings_service', 'ratings_cleanliness', 'ratings_value',\n",
    "    'ratings_location', 'ratings_sleep_quality', 'ratings_rooms'\n",
    "]"
   ]
  },
  {
   "cell_type": "code",
   "execution_count": 33,
   "id": "3991b665",
   "metadata": {
    "ExecuteTime": {
     "end_time": "2024-01-28T10:19:22.497694Z",
     "start_time": "2024-01-28T10:19:22.456273Z"
    }
   },
   "outputs": [
    {
     "data": {
      "text/plain": [
       "ratings_overall               0\n",
       "ratings_service          117643\n",
       "ratings_cleanliness      118726\n",
       "ratings_value            124866\n",
       "ratings_location         213657\n",
       "ratings_sleep_quality    377658\n",
       "ratings_rooms            173157\n",
       "dtype: int64"
      ]
     },
     "execution_count": 33,
     "metadata": {},
     "output_type": "execute_result"
    }
   ],
   "source": [
    "review_df[rating_columns].isna().sum()"
   ]
  },
  {
   "cell_type": "code",
   "execution_count": 34,
   "id": "353e5838",
   "metadata": {
    "ExecuteTime": {
     "end_time": "2024-01-28T10:19:27.771214Z",
     "start_time": "2024-01-28T10:19:27.721147Z"
    }
   },
   "outputs": [
    {
     "data": {
      "text/html": [
       "<div>\n",
       "<style scoped>\n",
       "    .dataframe tbody tr th:only-of-type {\n",
       "        vertical-align: middle;\n",
       "    }\n",
       "\n",
       "    .dataframe tbody tr th {\n",
       "        vertical-align: top;\n",
       "    }\n",
       "\n",
       "    .dataframe thead th {\n",
       "        text-align: right;\n",
       "    }\n",
       "</style>\n",
       "<table border=\"1\" class=\"dataframe\">\n",
       "  <thead>\n",
       "    <tr style=\"text-align: right;\">\n",
       "      <th></th>\n",
       "      <th>NaN</th>\n",
       "      <th>Count</th>\n",
       "      <th>NaN Ratio</th>\n",
       "    </tr>\n",
       "  </thead>\n",
       "  <tbody>\n",
       "    <tr>\n",
       "      <th>ratings_service</th>\n",
       "      <td>117643</td>\n",
       "      <td>878561</td>\n",
       "      <td>0.133904</td>\n",
       "    </tr>\n",
       "    <tr>\n",
       "      <th>ratings_cleanliness</th>\n",
       "      <td>118726</td>\n",
       "      <td>878561</td>\n",
       "      <td>0.135137</td>\n",
       "    </tr>\n",
       "    <tr>\n",
       "      <th>ratings_value</th>\n",
       "      <td>124866</td>\n",
       "      <td>878561</td>\n",
       "      <td>0.142126</td>\n",
       "    </tr>\n",
       "    <tr>\n",
       "      <th>ratings_location</th>\n",
       "      <td>213657</td>\n",
       "      <td>878561</td>\n",
       "      <td>0.243190</td>\n",
       "    </tr>\n",
       "    <tr>\n",
       "      <th>ratings_sleep_quality</th>\n",
       "      <td>377658</td>\n",
       "      <td>878561</td>\n",
       "      <td>0.429860</td>\n",
       "    </tr>\n",
       "    <tr>\n",
       "      <th>ratings_rooms</th>\n",
       "      <td>173157</td>\n",
       "      <td>878561</td>\n",
       "      <td>0.197092</td>\n",
       "    </tr>\n",
       "  </tbody>\n",
       "</table>\n",
       "</div>"
      ],
      "text/plain": [
       "                          NaN   Count  NaN Ratio\n",
       "ratings_service        117643  878561   0.133904\n",
       "ratings_cleanliness    118726  878561   0.135137\n",
       "ratings_value          124866  878561   0.142126\n",
       "ratings_location       213657  878561   0.243190\n",
       "ratings_sleep_quality  377658  878561   0.429860\n",
       "ratings_rooms          173157  878561   0.197092"
      ]
     },
     "execution_count": 34,
     "metadata": {},
     "output_type": "execute_result"
    }
   ],
   "source": [
    "isna_df = review_df[rating_columns].isna().sum().to_frame().rename(columns={0: 'NaN'})\n",
    "isna_df['Count'] = review_df.shape[0]\n",
    "isna_df['NaN Ratio'] = isna_df['NaN'] / isna_df['Count']\n",
    "isna_df[isna_df['NaN Ratio'] > 0]"
   ]
  },
  {
   "cell_type": "markdown",
   "id": "3a74c68a",
   "metadata": {},
   "source": [
    "```ratings_overall```를 제외한 모든 컬럼에 결측치가 있다."
   ]
  },
  {
   "cell_type": "code",
   "execution_count": 53,
   "id": "da52c21b",
   "metadata": {
    "ExecuteTime": {
     "end_time": "2024-01-28T10:23:21.104314Z",
     "start_time": "2024-01-28T10:23:20.074997Z"
    }
   },
   "outputs": [
    {
     "data": {
      "image/png": "[encoded data removed]",
      "text/plain": [
       "<Figure size 1300x400 with 7 Axes>"
      ]
     },
     "metadata": {},
     "output_type": "display_data"
    }
   ],
   "source": [
    "fig, axes = plt.subplots(ncols=7, figsize=(13, 4), constrained_layout=True)\n",
    "\n",
    "for i in range(7):\n",
    "    axes[i].boxplot(\n",
    "        review_df[rating_columns[i]].dropna(),\n",
    "        labels=[rating_columns[i]]\n",
    "    )\n",
    "\n",
    "    axes[i].set_title(f'{rating_columns[i]} 분포')\n",
    "\n",
    "plt.show()"
   ]
  },
  {
   "cell_type": "markdown",
   "id": "677d6ae3",
   "metadata": {},
   "source": [
    "평점은 대체적으로 3~5점이 일반적이고, 이상치로 1점 또는 2점 분포하는 경우가 많다. 특히 청결 상태, 위치, 수면의 질 항목에 대해서는 5점의 비율이 높다.\n",
    "\n",
    "이 결과로부터, 유저가 1점 ~ 5점에 **균등하게 응답하지 않는다**는 점을 기억해 둘 필요가 있겠다. 유저가 각자의 기준에 따라 점수를 매긴다는 점은 추후 무언가 모델링을 할 때 유저 개인의 편향성을 제거해야 할 소요가 있을 수도 있음을 의미한다."
   ]
  },
  {
   "cell_type": "markdown",
   "id": "707a474f",
   "metadata": {},
   "source": [
    "#### 2-2-2. 컬럼별 EDA (author)"
   ]
  },
  {
   "cell_type": "code",
   "execution_count": 55,
   "id": "7f940a0a",
   "metadata": {
    "ExecuteTime": {
     "end_time": "2024-01-28T10:26:03.910741Z",
     "start_time": "2024-01-28T10:26:03.887095Z"
    }
   },
   "outputs": [
    {
     "data": {
      "text/plain": [
       "\"{'username': 'Papa_Panda', 'num_cities': 22, 'num_helpful_votes': 12, 'num_reviews': 29, 'num_type_reviews': 24, 'id': '8C0B42FF3C0FA366A21CFD785302A032', 'location': 'Gold Coast'}\""
      ]
     },
     "execution_count": 55,
     "metadata": {},
     "output_type": "execute_result"
    }
   ],
   "source": [
    "review_df['author'][0]"
   ]
  },
  {
   "cell_type": "markdown",
   "id": "eb485df4",
   "metadata": {},
   "source": [
    "#### 2-2-3. 컬럼별 EDA (date_stayed)"
   ]
  },
  {
   "cell_type": "code",
   "execution_count": 68,
   "id": "fbc80e29",
   "metadata": {
    "ExecuteTime": {
     "end_time": "2024-01-28T10:35:59.658991Z",
     "start_time": "2024-01-28T10:35:59.633456Z"
    }
   },
   "outputs": [
    {
     "data": {
      "text/plain": [
       "0         December 2012\n",
       "1         December 2012\n",
       "2         December 2012\n",
       "3           August 2012\n",
       "4         December 2012\n",
       "              ...      \n",
       "878556              NaN\n",
       "878557        July 2008\n",
       "878558        July 2008\n",
       "878559        July 2008\n",
       "878560       March 2008\n",
       "Name: date_stayed, Length: 878561, dtype: object"
      ]
     },
     "execution_count": 68,
     "metadata": {},
     "output_type": "execute_result"
    }
   ],
   "source": [
    "review_df['date_stayed']"
   ]
  },
  {
   "cell_type": "markdown",
   "id": "de4931e5",
   "metadata": {},
   "source": [
    "연도와 월을 담고 있는 컬럼이다."
   ]
  },
  {
   "cell_type": "code",
   "execution_count": 80,
   "id": "2dca265b",
   "metadata": {
    "ExecuteTime": {
     "end_time": "2024-01-28T10:48:11.381845Z",
     "start_time": "2024-01-28T10:48:02.342833Z"
    }
   },
   "outputs": [],
   "source": [
    "def generate_year(date):\n",
    "    try:\n",
    "        return datetime.strptime(date, '%B %Y').year\n",
    "    except:\n",
    "        return None\n",
    "\n",
    "def generate_month(date):\n",
    "    try:\n",
    "        return datetime.strptime(date, '%B %Y').month\n",
    "    except:\n",
    "        return None\n",
    "\n",
    "review_df['date_stayed_year'] = review_df['date_stayed'].apply(generate_year)\n",
    "review_df['date_stayed_month'] = review_df['date_stayed'].apply(generate_month)"
   ]
  },
  {
   "cell_type": "markdown",
   "id": "5a44d317",
   "metadata": {},
   "source": [
    "연도와 월이 내가 익숙치 않은 형식이기 때문에 각각 연도 컬럼, 월 컬럼으로 바꿔줬다."
   ]
  },
  {
   "cell_type": "code",
   "execution_count": 81,
   "id": "61c8a5bf",
   "metadata": {
    "ExecuteTime": {
     "end_time": "2024-01-28T10:48:12.648104Z",
     "start_time": "2024-01-28T10:48:12.568109Z"
    }
   },
   "outputs": [
    {
     "data": {
      "text/html": [
       "<div>\n",
       "<style scoped>\n",
       "    .dataframe tbody tr th:only-of-type {\n",
       "        vertical-align: middle;\n",
       "    }\n",
       "\n",
       "    .dataframe tbody tr th {\n",
       "        vertical-align: top;\n",
       "    }\n",
       "\n",
       "    .dataframe thead th {\n",
       "        text-align: right;\n",
       "    }\n",
       "</style>\n",
       "<table border=\"1\" class=\"dataframe\">\n",
       "  <thead>\n",
       "    <tr style=\"text-align: right;\">\n",
       "      <th></th>\n",
       "      <th>date_stayed</th>\n",
       "      <th>date_stayed_year</th>\n",
       "      <th>date_stayed_month</th>\n",
       "    </tr>\n",
       "  </thead>\n",
       "  <tbody>\n",
       "    <tr>\n",
       "      <th>0</th>\n",
       "      <td>December 2012</td>\n",
       "      <td>2012.0</td>\n",
       "      <td>12.0</td>\n",
       "    </tr>\n",
       "    <tr>\n",
       "      <th>1</th>\n",
       "      <td>December 2012</td>\n",
       "      <td>2012.0</td>\n",
       "      <td>12.0</td>\n",
       "    </tr>\n",
       "    <tr>\n",
       "      <th>2</th>\n",
       "      <td>December 2012</td>\n",
       "      <td>2012.0</td>\n",
       "      <td>12.0</td>\n",
       "    </tr>\n",
       "    <tr>\n",
       "      <th>3</th>\n",
       "      <td>August 2012</td>\n",
       "      <td>2012.0</td>\n",
       "      <td>8.0</td>\n",
       "    </tr>\n",
       "    <tr>\n",
       "      <th>4</th>\n",
       "      <td>December 2012</td>\n",
       "      <td>2012.0</td>\n",
       "      <td>12.0</td>\n",
       "    </tr>\n",
       "    <tr>\n",
       "      <th>...</th>\n",
       "      <td>...</td>\n",
       "      <td>...</td>\n",
       "      <td>...</td>\n",
       "    </tr>\n",
       "    <tr>\n",
       "      <th>878556</th>\n",
       "      <td>NaN</td>\n",
       "      <td>NaN</td>\n",
       "      <td>NaN</td>\n",
       "    </tr>\n",
       "    <tr>\n",
       "      <th>878557</th>\n",
       "      <td>July 2008</td>\n",
       "      <td>2008.0</td>\n",
       "      <td>7.0</td>\n",
       "    </tr>\n",
       "    <tr>\n",
       "      <th>878558</th>\n",
       "      <td>July 2008</td>\n",
       "      <td>2008.0</td>\n",
       "      <td>7.0</td>\n",
       "    </tr>\n",
       "    <tr>\n",
       "      <th>878559</th>\n",
       "      <td>July 2008</td>\n",
       "      <td>2008.0</td>\n",
       "      <td>7.0</td>\n",
       "    </tr>\n",
       "    <tr>\n",
       "      <th>878560</th>\n",
       "      <td>March 2008</td>\n",
       "      <td>2008.0</td>\n",
       "      <td>3.0</td>\n",
       "    </tr>\n",
       "  </tbody>\n",
       "</table>\n",
       "<p>878561 rows × 3 columns</p>\n",
       "</div>"
      ],
      "text/plain": [
       "          date_stayed  date_stayed_year  date_stayed_month\n",
       "0       December 2012            2012.0               12.0\n",
       "1       December 2012            2012.0               12.0\n",
       "2       December 2012            2012.0               12.0\n",
       "3         August 2012            2012.0                8.0\n",
       "4       December 2012            2012.0               12.0\n",
       "...               ...               ...                ...\n",
       "878556            NaN               NaN                NaN\n",
       "878557      July 2008            2008.0                7.0\n",
       "878558      July 2008            2008.0                7.0\n",
       "878559      July 2008            2008.0                7.0\n",
       "878560     March 2008            2008.0                3.0\n",
       "\n",
       "[878561 rows x 3 columns]"
      ]
     },
     "execution_count": 81,
     "metadata": {},
     "output_type": "execute_result"
    }
   ],
   "source": [
    "review_df[['date_stayed', 'date_stayed_year', 'date_stayed_month']]"
   ]
  },
  {
   "cell_type": "code",
   "execution_count": 86,
   "id": "18b12faa",
   "metadata": {
    "ExecuteTime": {
     "end_time": "2024-01-28T10:50:29.501239Z",
     "start_time": "2024-01-28T10:50:29.463445Z"
    }
   },
   "outputs": [
    {
     "data": {
      "text/html": [
       "<div>\n",
       "<style scoped>\n",
       "    .dataframe tbody tr th:only-of-type {\n",
       "        vertical-align: middle;\n",
       "    }\n",
       "\n",
       "    .dataframe tbody tr th {\n",
       "        vertical-align: top;\n",
       "    }\n",
       "\n",
       "    .dataframe thead th {\n",
       "        text-align: right;\n",
       "    }\n",
       "</style>\n",
       "<table border=\"1\" class=\"dataframe\">\n",
       "  <thead>\n",
       "    <tr style=\"text-align: right;\">\n",
       "      <th></th>\n",
       "      <th>id</th>\n",
       "    </tr>\n",
       "    <tr>\n",
       "      <th>date_stayed_year</th>\n",
       "      <th></th>\n",
       "    </tr>\n",
       "  </thead>\n",
       "  <tbody>\n",
       "    <tr>\n",
       "      <th>1999.0</th>\n",
       "      <td>30</td>\n",
       "    </tr>\n",
       "    <tr>\n",
       "      <th>2000.0</th>\n",
       "      <td>38</td>\n",
       "    </tr>\n",
       "    <tr>\n",
       "      <th>2001.0</th>\n",
       "      <td>52</td>\n",
       "    </tr>\n",
       "    <tr>\n",
       "      <th>2002.0</th>\n",
       "      <td>153</td>\n",
       "    </tr>\n",
       "    <tr>\n",
       "      <th>2003.0</th>\n",
       "      <td>945</td>\n",
       "    </tr>\n",
       "    <tr>\n",
       "      <th>2004.0</th>\n",
       "      <td>4376</td>\n",
       "    </tr>\n",
       "    <tr>\n",
       "      <th>2005.0</th>\n",
       "      <td>22299</td>\n",
       "    </tr>\n",
       "    <tr>\n",
       "      <th>2006.0</th>\n",
       "      <td>29392</td>\n",
       "    </tr>\n",
       "    <tr>\n",
       "      <th>2007.0</th>\n",
       "      <td>46312</td>\n",
       "    </tr>\n",
       "    <tr>\n",
       "      <th>2008.0</th>\n",
       "      <td>54329</td>\n",
       "    </tr>\n",
       "    <tr>\n",
       "      <th>2009.0</th>\n",
       "      <td>76101</td>\n",
       "    </tr>\n",
       "    <tr>\n",
       "      <th>2010.0</th>\n",
       "      <td>113157</td>\n",
       "    </tr>\n",
       "    <tr>\n",
       "      <th>2011.0</th>\n",
       "      <td>199289</td>\n",
       "    </tr>\n",
       "    <tr>\n",
       "      <th>2012.0</th>\n",
       "      <td>264468</td>\n",
       "    </tr>\n",
       "  </tbody>\n",
       "</table>\n",
       "</div>"
      ],
      "text/plain": [
       "                      id\n",
       "date_stayed_year        \n",
       "1999.0                30\n",
       "2000.0                38\n",
       "2001.0                52\n",
       "2002.0               153\n",
       "2003.0               945\n",
       "2004.0              4376\n",
       "2005.0             22299\n",
       "2006.0             29392\n",
       "2007.0             46312\n",
       "2008.0             54329\n",
       "2009.0             76101\n",
       "2010.0            113157\n",
       "2011.0            199289\n",
       "2012.0            264468"
      ]
     },
     "execution_count": 86,
     "metadata": {},
     "output_type": "execute_result"
    }
   ],
   "source": [
    "comments_by_year = review_df.groupby('date_stayed_year').agg({'id': 'count'})\n",
    "comments_by_year"
   ]
  },
  {
   "cell_type": "code",
   "execution_count": 101,
   "id": "99fd6f75",
   "metadata": {
    "ExecuteTime": {
     "end_time": "2024-01-28T10:56:25.458631Z",
     "start_time": "2024-01-28T10:56:25.343910Z"
    }
   },
   "outputs": [
    {
     "data": {
      "image/png": "[encoded data removed]",
      "text/plain": [
       "<Figure size 640x480 with 1 Axes>"
      ]
     },
     "metadata": {},
     "output_type": "display_data"
    }
   ],
   "source": [
    "plt.plot(\n",
    "    comments_by_year\n",
    ")\n",
    "plt.ylabel('댓글 개수')\n",
    "plt.title('숙박 연도에 따른 댓글 개수')\n",
    "plt.show()"
   ]
  },
  {
   "cell_type": "code",
   "execution_count": 89,
   "id": "8d411e27",
   "metadata": {
    "ExecuteTime": {
     "end_time": "2024-01-28T10:51:26.630829Z",
     "start_time": "2024-01-28T10:51:26.594707Z"
    }
   },
   "outputs": [
    {
     "data": {
      "text/html": [
       "<div>\n",
       "<style scoped>\n",
       "    .dataframe tbody tr th:only-of-type {\n",
       "        vertical-align: middle;\n",
       "    }\n",
       "\n",
       "    .dataframe tbody tr th {\n",
       "        vertical-align: top;\n",
       "    }\n",
       "\n",
       "    .dataframe thead th {\n",
       "        text-align: right;\n",
       "    }\n",
       "</style>\n",
       "<table border=\"1\" class=\"dataframe\">\n",
       "  <thead>\n",
       "    <tr style=\"text-align: right;\">\n",
       "      <th></th>\n",
       "      <th>id</th>\n",
       "    </tr>\n",
       "    <tr>\n",
       "      <th>date_stayed_month</th>\n",
       "      <th></th>\n",
       "    </tr>\n",
       "  </thead>\n",
       "  <tbody>\n",
       "    <tr>\n",
       "      <th>1.0</th>\n",
       "      <td>41575</td>\n",
       "    </tr>\n",
       "    <tr>\n",
       "      <th>2.0</th>\n",
       "      <td>44694</td>\n",
       "    </tr>\n",
       "    <tr>\n",
       "      <th>3.0</th>\n",
       "      <td>58825</td>\n",
       "    </tr>\n",
       "    <tr>\n",
       "      <th>4.0</th>\n",
       "      <td>64692</td>\n",
       "    </tr>\n",
       "    <tr>\n",
       "      <th>5.0</th>\n",
       "      <td>67532</td>\n",
       "    </tr>\n",
       "    <tr>\n",
       "      <th>6.0</th>\n",
       "      <td>74042</td>\n",
       "    </tr>\n",
       "    <tr>\n",
       "      <th>7.0</th>\n",
       "      <td>87348</td>\n",
       "    </tr>\n",
       "    <tr>\n",
       "      <th>8.0</th>\n",
       "      <td>89284</td>\n",
       "    </tr>\n",
       "    <tr>\n",
       "      <th>9.0</th>\n",
       "      <td>80360</td>\n",
       "    </tr>\n",
       "    <tr>\n",
       "      <th>10.0</th>\n",
       "      <td>81407</td>\n",
       "    </tr>\n",
       "    <tr>\n",
       "      <th>11.0</th>\n",
       "      <td>64995</td>\n",
       "    </tr>\n",
       "    <tr>\n",
       "      <th>12.0</th>\n",
       "      <td>56187</td>\n",
       "    </tr>\n",
       "  </tbody>\n",
       "</table>\n",
       "</div>"
      ],
      "text/plain": [
       "                      id\n",
       "date_stayed_month       \n",
       "1.0                41575\n",
       "2.0                44694\n",
       "3.0                58825\n",
       "4.0                64692\n",
       "5.0                67532\n",
       "6.0                74042\n",
       "7.0                87348\n",
       "8.0                89284\n",
       "9.0                80360\n",
       "10.0               81407\n",
       "11.0               64995\n",
       "12.0               56187"
      ]
     },
     "execution_count": 89,
     "metadata": {},
     "output_type": "execute_result"
    }
   ],
   "source": [
    "comments_by_month = review_df.groupby('date_stayed_month').agg({'id': 'count'})\n",
    "comments_by_month"
   ]
  },
  {
   "cell_type": "code",
   "execution_count": 96,
   "id": "995e184b",
   "metadata": {
    "ExecuteTime": {
     "end_time": "2024-01-28T10:52:12.869377Z",
     "start_time": "2024-01-28T10:52:12.850658Z"
    }
   },
   "outputs": [
    {
     "data": {
      "text/plain": [
       "Float64Index([1.0, 2.0, 3.0, 4.0, 5.0, 6.0, 7.0, 8.0, 9.0, 10.0, 11.0, 12.0], dtype='float64', name='date_stayed_month')"
      ]
     },
     "execution_count": 96,
     "metadata": {},
     "output_type": "execute_result"
    }
   ],
   "source": [
    "comments_by_month.index"
   ]
  },
  {
   "cell_type": "code",
   "execution_count": 102,
   "id": "cf6f5ad6",
   "metadata": {
    "ExecuteTime": {
     "end_time": "2024-01-28T10:56:31.209298Z",
     "start_time": "2024-01-28T10:56:31.082631Z"
    }
   },
   "outputs": [
    {
     "data": {
      "image/png": "[encoded data removed]",
      "text/plain": [
       "<Figure size 640x480 with 1 Axes>"
      ]
     },
     "metadata": {},
     "output_type": "display_data"
    }
   ],
   "source": [
    "plt.bar(\n",
    "    comments_by_month.index,\n",
    "    comments_by_month['id']\n",
    ")\n",
    "plt.xticks([i for i in range(1, 13)])\n",
    "plt.ylabel('댓글 개수')\n",
    "plt.title('숙박 월에 따른 댓글 개수')\n",
    "plt.show()"
   ]
  },
  {
   "cell_type": "markdown",
   "id": "340ff504",
   "metadata": {},
   "source": [
    "확실히 7~8월이 많다."
   ]
  },
  {
   "cell_type": "markdown",
   "id": "e61c7b7f",
   "metadata": {},
   "source": [
    "#### 2-2-4. 컬럼별 EDA (num_helpful_votes)"
   ]
  },
  {
   "cell_type": "code",
   "execution_count": 66,
   "id": "9a4d58e9",
   "metadata": {
    "ExecuteTime": {
     "end_time": "2024-01-28T10:34:26.728335Z",
     "start_time": "2024-01-28T10:34:26.682317Z"
    }
   },
   "outputs": [
    {
     "data": {
      "text/plain": [
       "count    878561.000000\n",
       "mean          1.153104\n",
       "std           2.898120\n",
       "min           0.000000\n",
       "25%           0.000000\n",
       "50%           0.000000\n",
       "75%           1.000000\n",
       "max         515.000000\n",
       "Name: num_helpful_votes, dtype: float64"
      ]
     },
     "execution_count": 66,
     "metadata": {},
     "output_type": "execute_result"
    }
   ],
   "source": [
    "review_df['num_helpful_votes'].describe()"
   ]
  },
  {
   "cell_type": "code",
   "execution_count": 67,
   "id": "7e8d2ec8",
   "metadata": {
    "ExecuteTime": {
     "end_time": "2024-01-28T10:34:59.630150Z",
     "start_time": "2024-01-28T10:34:59.392915Z"
    },
    "scrolled": false
   },
   "outputs": [
    {
     "data": {
      "image/png": "[encoded data removed]",
      "text/plain": [
       "<Figure size 640x480 with 1 Axes>"
      ]
     },
     "metadata": {},
     "output_type": "display_data"
    }
   ],
   "source": [
    "plt.boxplot(\n",
    "    review_df['num_helpful_votes'],\n",
    "    labels=['num_helpful_votes']\n",
    ")\n",
    "plt.title('num_helpful_votes의 분포')\n",
    "plt.show()"
   ]
  },
  {
   "cell_type": "markdown",
   "id": "fd7c98a0",
   "metadata": {},
   "source": [
    "좋아요 개수는 0개 또는 1개가 일반적이다."
   ]
  },
  {
   "cell_type": "code",
   "execution_count": 110,
   "id": "82318caa",
   "metadata": {
    "ExecuteTime": {
     "end_time": "2024-01-28T10:59:28.527157Z",
     "start_time": "2024-01-28T10:59:28.471602Z"
    }
   },
   "outputs": [
    {
     "data": {
      "text/html": [
       "<div>\n",
       "<style scoped>\n",
       "    .dataframe tbody tr th:only-of-type {\n",
       "        vertical-align: middle;\n",
       "    }\n",
       "\n",
       "    .dataframe tbody tr th {\n",
       "        vertical-align: top;\n",
       "    }\n",
       "\n",
       "    .dataframe thead th {\n",
       "        text-align: right;\n",
       "    }\n",
       "</style>\n",
       "<table border=\"1\" class=\"dataframe\">\n",
       "  <thead>\n",
       "    <tr style=\"text-align: right;\">\n",
       "      <th></th>\n",
       "      <th>num_helpful_votes</th>\n",
       "    </tr>\n",
       "    <tr>\n",
       "      <th>date_stayed_year</th>\n",
       "      <th></th>\n",
       "    </tr>\n",
       "  </thead>\n",
       "  <tbody>\n",
       "    <tr>\n",
       "      <th>1999.0</th>\n",
       "      <td>6.466667</td>\n",
       "    </tr>\n",
       "    <tr>\n",
       "      <th>2000.0</th>\n",
       "      <td>6.394737</td>\n",
       "    </tr>\n",
       "    <tr>\n",
       "      <th>2001.0</th>\n",
       "      <td>6.365385</td>\n",
       "    </tr>\n",
       "    <tr>\n",
       "      <th>2002.0</th>\n",
       "      <td>5.196078</td>\n",
       "    </tr>\n",
       "    <tr>\n",
       "      <th>2003.0</th>\n",
       "      <td>4.580952</td>\n",
       "    </tr>\n",
       "    <tr>\n",
       "      <th>2004.0</th>\n",
       "      <td>4.789534</td>\n",
       "    </tr>\n",
       "    <tr>\n",
       "      <th>2005.0</th>\n",
       "      <td>6.689269</td>\n",
       "    </tr>\n",
       "    <tr>\n",
       "      <th>2006.0</th>\n",
       "      <td>4.900585</td>\n",
       "    </tr>\n",
       "    <tr>\n",
       "      <th>2007.0</th>\n",
       "      <td>2.087299</td>\n",
       "    </tr>\n",
       "    <tr>\n",
       "      <th>2008.0</th>\n",
       "      <td>0.860977</td>\n",
       "    </tr>\n",
       "    <tr>\n",
       "      <th>2009.0</th>\n",
       "      <td>0.579611</td>\n",
       "    </tr>\n",
       "    <tr>\n",
       "      <th>2010.0</th>\n",
       "      <td>0.422395</td>\n",
       "    </tr>\n",
       "    <tr>\n",
       "      <th>2011.0</th>\n",
       "      <td>0.713356</td>\n",
       "    </tr>\n",
       "    <tr>\n",
       "      <th>2012.0</th>\n",
       "      <td>0.647984</td>\n",
       "    </tr>\n",
       "  </tbody>\n",
       "</table>\n",
       "</div>"
      ],
      "text/plain": [
       "                  num_helpful_votes\n",
       "date_stayed_year                   \n",
       "1999.0                     6.466667\n",
       "2000.0                     6.394737\n",
       "2001.0                     6.365385\n",
       "2002.0                     5.196078\n",
       "2003.0                     4.580952\n",
       "2004.0                     4.789534\n",
       "2005.0                     6.689269\n",
       "2006.0                     4.900585\n",
       "2007.0                     2.087299\n",
       "2008.0                     0.860977\n",
       "2009.0                     0.579611\n",
       "2010.0                     0.422395\n",
       "2011.0                     0.713356\n",
       "2012.0                     0.647984"
      ]
     },
     "execution_count": 110,
     "metadata": {},
     "output_type": "execute_result"
    }
   ],
   "source": [
    "yearly_votes = review_df.groupby('date_stayed_year').agg({'num_helpful_votes': 'mean'})\n",
    "yearly_votes"
   ]
  },
  {
   "cell_type": "code",
   "execution_count": 118,
   "id": "79b3c19c",
   "metadata": {
    "ExecuteTime": {
     "end_time": "2024-01-28T11:03:29.920887Z",
     "start_time": "2024-01-28T11:03:29.783114Z"
    }
   },
   "outputs": [
    {
     "data": {
      "image/png": "[encoded data removed]",
      "text/plain": [
       "<Figure size 1200x800 with 1 Axes>"
      ]
     },
     "metadata": {},
     "output_type": "display_data"
    }
   ],
   "source": [
    "plt.figure(figsize=(12, 8))\n",
    "plt.bar(\n",
    "    yearly_votes.index,\n",
    "    yearly_votes['num_helpful_votes']\n",
    ")\n",
    "\n",
    "plt.xticks(yearly_votes.index)\n",
    "plt.title('연도별 댓글 좋아요 평균')\n",
    "plt.show()"
   ]
  },
  {
   "cell_type": "markdown",
   "id": "58527282",
   "metadata": {},
   "source": [
    "2007~2008년 이후로 댓글당 평균 좋아요 개수가 확 줄어든 감이 있다. 이는 댓글 개수가 많아졌기 때문으로 보인다."
   ]
  },
  {
   "cell_type": "code",
   "execution_count": null,
   "id": "7e816b4e",
   "metadata": {},
   "outputs": [],
   "source": [
    "# 분포 확인, 시각화, 전처리"
   ]
  },
  {
   "cell_type": "code",
   "execution_count": null,
   "id": "0fe53f86",
   "metadata": {},
   "outputs": [],
   "source": [
    "# pickle로 저장"
   ]
  },
  {
   "cell_type": "markdown",
   "id": "5a6a8ec9",
   "metadata": {},
   "source": [
    "---"
   ]
  },
  {
   "cell_type": "markdown",
   "id": "6dcd5034",
   "metadata": {},
   "source": [
    "## 3. 데이터 분석"
   ]
  },
  {
   "cell_type": "markdown",
   "id": "99332bdb",
   "metadata": {},
   "source": [
    "### 3-1. 문제 정의\n",
    "\n",
    "2007~2008년 이전의 표본과 이후"
   ]
  },
  {
   "cell_type": "markdown",
   "id": "14d2f3ca",
   "metadata": {},
   "source": [
    "### 3-2. 데이터 분석"
   ]
  },
  {
   "cell_type": "code",
   "execution_count": null,
   "id": "d47770ab",
   "metadata": {},
   "outputs": [],
   "source": [
    "# 가설 검정, 머신러닝, ..."
   ]
  },
  {
   "cell_type": "markdown",
   "id": "687950ec",
   "metadata": {},
   "source": [
    "### 3-3. 결과 해석\n",
    "\n",
    "내용"
   ]
  },
  {
   "cell_type": "markdown",
   "id": "811987c2",
   "metadata": {},
   "source": [
    "---"
   ]
  },
  {
   "cell_type": "markdown",
   "id": "8947cf07",
   "metadata": {},
   "source": [
    "## 4. 후기"
   ]
  },
  {
   "cell_type": "markdown",
   "id": "9fb18056",
   "metadata": {},
   "source": [
    "내용"
   ]
  }
 ],
 "metadata": {
  "kernelspec": {
   "display_name": "Python 3 (ipykernel)",
   "language": "python",
   "name": "python3"
  },
  "language_info": {
   "codemirror_mode": {
    "name": "ipython",
    "version": 3
   },
   "file_extension": ".py",
   "mimetype": "text/x-python",
   "name": "python",
   "nbconvert_exporter": "python",
   "pygments_lexer": "ipython3",
   "version": "3.9.16"
  },
  "toc": {
   "base_numbering": 1,
   "nav_menu": {},
   "number_sections": false,
   "sideBar": true,
   "skip_h1_title": false,
   "title_cell": "Table of Contents",
   "title_sidebar": "Contents",
   "toc_cell": false,
   "toc_position": {
    "height": "calc(100% - 180px)",
    "left": "10px",
    "top": "150px",
    "width": "301.6px"
   },
   "toc_section_display": true,
   "toc_window_display": true
  }
 },
 "nbformat": 4,
 "nbformat_minor": 5
}
