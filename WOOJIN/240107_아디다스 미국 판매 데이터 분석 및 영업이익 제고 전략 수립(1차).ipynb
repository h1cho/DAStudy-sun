{
 "cells": [
  {
   "cell_type": "markdown",
   "id": "86eae928",
   "metadata": {},
   "source": [
    "# 아디다스 미국 판매 데이터 분석 및 영업이익 제고 전략 수립\n",
    "\n",
    "2024.01.07"
   ]
  },
  {
   "cell_type": "markdown",
   "id": "f9fed36a",
   "metadata": {},
   "source": [
    "---"
   ]
  },
  {
   "cell_type": "markdown",
   "id": "d1337e66",
   "metadata": {},
   "source": [
    "## 1. 프로젝트 개요"
   ]
  },
  {
   "cell_type": "markdown",
   "id": "90453dd7",
   "metadata": {},
   "source": [
    "### 1-1. 프로젝트 요약\n",
    "- 제목: 아디다스 미국 판매 데이터 분석 및 영업이익 제고 전략 수립\n",
    "- 설명: 미국에서 수집된 아디다스 판매 데이터를 바탕으로 영업이익을 제고하기 위한 판매 전략 수립\n",
    "- 사용한 데이터셋\n",
    "    - [Adidas Sales Dataset](https://www.kaggle.com/datasets/heemalichaudhari/adidas-sales-dataset/data): 아디다스 판매 유닛 수, 총 판매 수익, 판매 위치, 판매된 제품의 유형, 기타 다른 관련 정보들을 담은 데이터셋\n",
    "- 진행 절차 및 내용\n",
    "    - 데이터 로딩, 컬럼별 EDA\n",
    "    - ...\n",
    "- 사용한 스킬셋\n",
    "    - pandas\n",
    "    - matplotlib, seaborn\n",
    "    - ..."
   ]
  },
  {
   "cell_type": "markdown",
   "id": "52d7a1cc",
   "metadata": {},
   "source": [
    "### 1-2. 프로젝트 진행 배경\n",
    "\n",
    "..."
   ]
  },
  {
   "cell_type": "markdown",
   "id": "a6bdae6a",
   "metadata": {},
   "source": [
    "---"
   ]
  },
  {
   "cell_type": "markdown",
   "id": "91e2c594",
   "metadata": {},
   "source": [
    "## 2. 데이터 로딩 및 EDA"
   ]
  },
  {
   "cell_type": "markdown",
   "id": "63499328",
   "metadata": {},
   "source": [
    "### 2-1. 데이터 불러오기"
   ]
  },
  {
   "cell_type": "code",
   "execution_count": 2,
   "id": "eec0d7e3",
   "metadata": {
    "ExecuteTime": {
     "end_time": "2024-01-07T09:25:19.825941Z",
     "start_time": "2024-01-07T09:25:18.886720Z"
    }
   },
   "outputs": [],
   "source": [
    "import pandas as pd\n",
    "import numpy as np\n",
    "import matplotlib.pyplot as plt\n",
    "import koreanize_matplotlib\n",
    "import pickle"
   ]
  },
  {
   "cell_type": "code",
   "execution_count": 19,
   "id": "956e808e",
   "metadata": {
    "ExecuteTime": {
     "end_time": "2024-01-07T10:10:35.107230Z",
     "start_time": "2024-01-07T10:10:33.953726Z"
    }
   },
   "outputs": [],
   "source": [
    "adidas_df = pd.read_excel('Adidas US Sales Datasets.xlsx', header=4).drop('Unnamed: 0', axis=1)"
   ]
  },
  {
   "cell_type": "code",
   "execution_count": 22,
   "id": "f983f167",
   "metadata": {
    "ExecuteTime": {
     "end_time": "2024-01-07T10:10:49.285023Z",
     "start_time": "2024-01-07T10:10:49.223008Z"
    }
   },
   "outputs": [
    {
     "data": {
      "text/html": [
       "<div>\n",
       "<style scoped>\n",
       "    .dataframe tbody tr th:only-of-type {\n",
       "        vertical-align: middle;\n",
       "    }\n",
       "\n",
       "    .dataframe tbody tr th {\n",
       "        vertical-align: top;\n",
       "    }\n",
       "\n",
       "    .dataframe thead th {\n",
       "        text-align: right;\n",
       "    }\n",
       "</style>\n",
       "<table border=\"1\" class=\"dataframe\">\n",
       "  <thead>\n",
       "    <tr style=\"text-align: right;\">\n",
       "      <th></th>\n",
       "      <th>Retailer</th>\n",
       "      <th>Retailer ID</th>\n",
       "      <th>Invoice Date</th>\n",
       "      <th>Region</th>\n",
       "      <th>State</th>\n",
       "      <th>City</th>\n",
       "      <th>Product</th>\n",
       "      <th>Price per Unit</th>\n",
       "      <th>Units Sold</th>\n",
       "      <th>Total Sales</th>\n",
       "      <th>Operating Profit</th>\n",
       "      <th>Operating Margin</th>\n",
       "      <th>Sales Method</th>\n",
       "    </tr>\n",
       "  </thead>\n",
       "  <tbody>\n",
       "    <tr>\n",
       "      <th>0</th>\n",
       "      <td>Foot Locker</td>\n",
       "      <td>1185732</td>\n",
       "      <td>2020-01-01</td>\n",
       "      <td>Northeast</td>\n",
       "      <td>New York</td>\n",
       "      <td>New York</td>\n",
       "      <td>Men's Street Footwear</td>\n",
       "      <td>50.0</td>\n",
       "      <td>1200</td>\n",
       "      <td>600000.0</td>\n",
       "      <td>300000.00</td>\n",
       "      <td>0.50</td>\n",
       "      <td>In-store</td>\n",
       "    </tr>\n",
       "    <tr>\n",
       "      <th>1</th>\n",
       "      <td>Foot Locker</td>\n",
       "      <td>1185732</td>\n",
       "      <td>2020-01-02</td>\n",
       "      <td>Northeast</td>\n",
       "      <td>New York</td>\n",
       "      <td>New York</td>\n",
       "      <td>Men's Athletic Footwear</td>\n",
       "      <td>50.0</td>\n",
       "      <td>1000</td>\n",
       "      <td>500000.0</td>\n",
       "      <td>150000.00</td>\n",
       "      <td>0.30</td>\n",
       "      <td>In-store</td>\n",
       "    </tr>\n",
       "    <tr>\n",
       "      <th>2</th>\n",
       "      <td>Foot Locker</td>\n",
       "      <td>1185732</td>\n",
       "      <td>2020-01-03</td>\n",
       "      <td>Northeast</td>\n",
       "      <td>New York</td>\n",
       "      <td>New York</td>\n",
       "      <td>Women's Street Footwear</td>\n",
       "      <td>40.0</td>\n",
       "      <td>1000</td>\n",
       "      <td>400000.0</td>\n",
       "      <td>140000.00</td>\n",
       "      <td>0.35</td>\n",
       "      <td>In-store</td>\n",
       "    </tr>\n",
       "    <tr>\n",
       "      <th>3</th>\n",
       "      <td>Foot Locker</td>\n",
       "      <td>1185732</td>\n",
       "      <td>2020-01-04</td>\n",
       "      <td>Northeast</td>\n",
       "      <td>New York</td>\n",
       "      <td>New York</td>\n",
       "      <td>Women's Athletic Footwear</td>\n",
       "      <td>45.0</td>\n",
       "      <td>850</td>\n",
       "      <td>382500.0</td>\n",
       "      <td>133875.00</td>\n",
       "      <td>0.35</td>\n",
       "      <td>In-store</td>\n",
       "    </tr>\n",
       "    <tr>\n",
       "      <th>4</th>\n",
       "      <td>Foot Locker</td>\n",
       "      <td>1185732</td>\n",
       "      <td>2020-01-05</td>\n",
       "      <td>Northeast</td>\n",
       "      <td>New York</td>\n",
       "      <td>New York</td>\n",
       "      <td>Men's Apparel</td>\n",
       "      <td>60.0</td>\n",
       "      <td>900</td>\n",
       "      <td>540000.0</td>\n",
       "      <td>162000.00</td>\n",
       "      <td>0.30</td>\n",
       "      <td>In-store</td>\n",
       "    </tr>\n",
       "    <tr>\n",
       "      <th>...</th>\n",
       "      <td>...</td>\n",
       "      <td>...</td>\n",
       "      <td>...</td>\n",
       "      <td>...</td>\n",
       "      <td>...</td>\n",
       "      <td>...</td>\n",
       "      <td>...</td>\n",
       "      <td>...</td>\n",
       "      <td>...</td>\n",
       "      <td>...</td>\n",
       "      <td>...</td>\n",
       "      <td>...</td>\n",
       "      <td>...</td>\n",
       "    </tr>\n",
       "    <tr>\n",
       "      <th>9643</th>\n",
       "      <td>Foot Locker</td>\n",
       "      <td>1185732</td>\n",
       "      <td>2021-01-24</td>\n",
       "      <td>Northeast</td>\n",
       "      <td>New Hampshire</td>\n",
       "      <td>Manchester</td>\n",
       "      <td>Men's Apparel</td>\n",
       "      <td>50.0</td>\n",
       "      <td>64</td>\n",
       "      <td>3200.0</td>\n",
       "      <td>896.00</td>\n",
       "      <td>0.28</td>\n",
       "      <td>Outlet</td>\n",
       "    </tr>\n",
       "    <tr>\n",
       "      <th>9644</th>\n",
       "      <td>Foot Locker</td>\n",
       "      <td>1185732</td>\n",
       "      <td>2021-01-24</td>\n",
       "      <td>Northeast</td>\n",
       "      <td>New Hampshire</td>\n",
       "      <td>Manchester</td>\n",
       "      <td>Women's Apparel</td>\n",
       "      <td>41.0</td>\n",
       "      <td>105</td>\n",
       "      <td>4305.0</td>\n",
       "      <td>1377.60</td>\n",
       "      <td>0.32</td>\n",
       "      <td>Outlet</td>\n",
       "    </tr>\n",
       "    <tr>\n",
       "      <th>9645</th>\n",
       "      <td>Foot Locker</td>\n",
       "      <td>1185732</td>\n",
       "      <td>2021-02-22</td>\n",
       "      <td>Northeast</td>\n",
       "      <td>New Hampshire</td>\n",
       "      <td>Manchester</td>\n",
       "      <td>Men's Street Footwear</td>\n",
       "      <td>41.0</td>\n",
       "      <td>184</td>\n",
       "      <td>7544.0</td>\n",
       "      <td>2791.28</td>\n",
       "      <td>0.37</td>\n",
       "      <td>Outlet</td>\n",
       "    </tr>\n",
       "    <tr>\n",
       "      <th>9646</th>\n",
       "      <td>Foot Locker</td>\n",
       "      <td>1185732</td>\n",
       "      <td>2021-02-22</td>\n",
       "      <td>Northeast</td>\n",
       "      <td>New Hampshire</td>\n",
       "      <td>Manchester</td>\n",
       "      <td>Men's Athletic Footwear</td>\n",
       "      <td>42.0</td>\n",
       "      <td>70</td>\n",
       "      <td>2940.0</td>\n",
       "      <td>1234.80</td>\n",
       "      <td>0.42</td>\n",
       "      <td>Outlet</td>\n",
       "    </tr>\n",
       "    <tr>\n",
       "      <th>9647</th>\n",
       "      <td>Foot Locker</td>\n",
       "      <td>1185732</td>\n",
       "      <td>2021-02-22</td>\n",
       "      <td>Northeast</td>\n",
       "      <td>New Hampshire</td>\n",
       "      <td>Manchester</td>\n",
       "      <td>Women's Street Footwear</td>\n",
       "      <td>29.0</td>\n",
       "      <td>83</td>\n",
       "      <td>2407.0</td>\n",
       "      <td>649.89</td>\n",
       "      <td>0.27</td>\n",
       "      <td>Outlet</td>\n",
       "    </tr>\n",
       "  </tbody>\n",
       "</table>\n",
       "<p>9648 rows × 13 columns</p>\n",
       "</div>"
      ],
      "text/plain": [
       "         Retailer  Retailer ID Invoice Date     Region          State  \\\n",
       "0     Foot Locker      1185732   2020-01-01  Northeast       New York   \n",
       "1     Foot Locker      1185732   2020-01-02  Northeast       New York   \n",
       "2     Foot Locker      1185732   2020-01-03  Northeast       New York   \n",
       "3     Foot Locker      1185732   2020-01-04  Northeast       New York   \n",
       "4     Foot Locker      1185732   2020-01-05  Northeast       New York   \n",
       "...           ...          ...          ...        ...            ...   \n",
       "9643  Foot Locker      1185732   2021-01-24  Northeast  New Hampshire   \n",
       "9644  Foot Locker      1185732   2021-01-24  Northeast  New Hampshire   \n",
       "9645  Foot Locker      1185732   2021-02-22  Northeast  New Hampshire   \n",
       "9646  Foot Locker      1185732   2021-02-22  Northeast  New Hampshire   \n",
       "9647  Foot Locker      1185732   2021-02-22  Northeast  New Hampshire   \n",
       "\n",
       "            City                    Product  Price per Unit  Units Sold  \\\n",
       "0       New York      Men's Street Footwear            50.0        1200   \n",
       "1       New York    Men's Athletic Footwear            50.0        1000   \n",
       "2       New York    Women's Street Footwear            40.0        1000   \n",
       "3       New York  Women's Athletic Footwear            45.0         850   \n",
       "4       New York              Men's Apparel            60.0         900   \n",
       "...          ...                        ...             ...         ...   \n",
       "9643  Manchester              Men's Apparel            50.0          64   \n",
       "9644  Manchester            Women's Apparel            41.0         105   \n",
       "9645  Manchester      Men's Street Footwear            41.0         184   \n",
       "9646  Manchester    Men's Athletic Footwear            42.0          70   \n",
       "9647  Manchester    Women's Street Footwear            29.0          83   \n",
       "\n",
       "      Total Sales  Operating Profit  Operating Margin Sales Method  \n",
       "0        600000.0         300000.00              0.50     In-store  \n",
       "1        500000.0         150000.00              0.30     In-store  \n",
       "2        400000.0         140000.00              0.35     In-store  \n",
       "3        382500.0         133875.00              0.35     In-store  \n",
       "4        540000.0         162000.00              0.30     In-store  \n",
       "...           ...               ...               ...          ...  \n",
       "9643       3200.0            896.00              0.28       Outlet  \n",
       "9644       4305.0           1377.60              0.32       Outlet  \n",
       "9645       7544.0           2791.28              0.37       Outlet  \n",
       "9646       2940.0           1234.80              0.42       Outlet  \n",
       "9647       2407.0            649.89              0.27       Outlet  \n",
       "\n",
       "[9648 rows x 13 columns]"
      ]
     },
     "execution_count": 22,
     "metadata": {},
     "output_type": "execute_result"
    }
   ],
   "source": [
    "adidas_df"
   ]
  },
  {
   "cell_type": "code",
   "execution_count": 23,
   "id": "611deef6",
   "metadata": {
    "ExecuteTime": {
     "end_time": "2024-01-07T10:10:52.039895Z",
     "start_time": "2024-01-07T10:10:51.975825Z"
    }
   },
   "outputs": [
    {
     "name": "stdout",
     "output_type": "stream",
     "text": [
      "<class 'pandas.core.frame.DataFrame'>\n",
      "RangeIndex: 9648 entries, 0 to 9647\n",
      "Data columns (total 13 columns):\n",
      " #   Column            Non-Null Count  Dtype         \n",
      "---  ------            --------------  -----         \n",
      " 0   Retailer          9648 non-null   object        \n",
      " 1   Retailer ID       9648 non-null   int64         \n",
      " 2   Invoice Date      9648 non-null   datetime64[ns]\n",
      " 3   Region            9648 non-null   object        \n",
      " 4   State             9648 non-null   object        \n",
      " 5   City              9648 non-null   object        \n",
      " 6   Product           9648 non-null   object        \n",
      " 7   Price per Unit    9648 non-null   float64       \n",
      " 8   Units Sold        9648 non-null   int64         \n",
      " 9   Total Sales       9648 non-null   float64       \n",
      " 10  Operating Profit  9648 non-null   float64       \n",
      " 11  Operating Margin  9648 non-null   float64       \n",
      " 12  Sales Method      9648 non-null   object        \n",
      "dtypes: datetime64[ns](1), float64(4), int64(2), object(6)\n",
      "memory usage: 980.0+ KB\n"
     ]
    }
   ],
   "source": [
    "adidas_df.info()"
   ]
  },
  {
   "cell_type": "code",
   "execution_count": 24,
   "id": "cc289b62",
   "metadata": {
    "ExecuteTime": {
     "end_time": "2024-01-07T10:11:05.280550Z",
     "start_time": "2024-01-07T10:11:05.225580Z"
    }
   },
   "outputs": [
    {
     "data": {
      "text/plain": [
       "Retailer            0\n",
       "Retailer ID         0\n",
       "Invoice Date        0\n",
       "Region              0\n",
       "State               0\n",
       "City                0\n",
       "Product             0\n",
       "Price per Unit      0\n",
       "Units Sold          0\n",
       "Total Sales         0\n",
       "Operating Profit    0\n",
       "Operating Margin    0\n",
       "Sales Method        0\n",
       "dtype: int64"
      ]
     },
     "execution_count": 24,
     "metadata": {},
     "output_type": "execute_result"
    }
   ],
   "source": [
    "adidas_df.isna().sum()"
   ]
  },
  {
   "cell_type": "markdown",
   "id": "fd0b53dd",
   "metadata": {},
   "source": [
    "### 2-2. 데이터 분포 확인 및 전처리"
   ]
  },
  {
   "cell_type": "markdown",
   "id": "9a6e559e",
   "metadata": {},
   "source": [
    "#### 2-2-1. 컬럼별 분포 확인(소매점)"
   ]
  },
  {
   "cell_type": "code",
   "execution_count": 25,
   "id": "7e816b4e",
   "metadata": {
    "ExecuteTime": {
     "end_time": "2024-01-07T10:13:11.713897Z",
     "start_time": "2024-01-07T10:13:11.663104Z"
    }
   },
   "outputs": [
    {
     "data": {
      "text/plain": [
       "Foot Locker      2637\n",
       "West Gear        2374\n",
       "Sports Direct    2032\n",
       "Kohl's           1030\n",
       "Amazon            949\n",
       "Walmart           626\n",
       "Name: Retailer, dtype: int64"
      ]
     },
     "execution_count": 25,
     "metadata": {},
     "output_type": "execute_result"
    }
   ],
   "source": [
    "adidas_df['Retailer'].value_counts()"
   ]
  },
  {
   "cell_type": "code",
   "execution_count": 34,
   "id": "0c90305d",
   "metadata": {
    "ExecuteTime": {
     "end_time": "2024-01-07T10:15:21.634353Z",
     "start_time": "2024-01-07T10:15:21.498491Z"
    }
   },
   "outputs": [
    {
     "data": {
      "image/png": "[encoded data removed]",
      "text/plain": [
       "<Figure size 640x480 with 1 Axes>"
      ]
     },
     "metadata": {},
     "output_type": "display_data"
    }
   ],
   "source": [
    "plt.pie(\n",
    "    adidas_df['Retailer'].value_counts(),\n",
    "    explode=[0.1 if i == 0 else 0 for i in range(len(adidas_df['Retailer'].unique()))],\n",
    "    autopct='%.1f%%',\n",
    "    labels=adidas_df['Retailer'].value_counts().index,\n",
    "    startangle=140\n",
    ")\n",
    "\n",
    "plt.title('소매점 분포')\n",
    "plt.show()"
   ]
  },
  {
   "cell_type": "markdown",
   "id": "6964f6b9",
   "metadata": {},
   "source": [
    "Foot Locker, West Gear, Sports Direct의 비중이 크다."
   ]
  },
  {
   "cell_type": "code",
   "execution_count": 37,
   "id": "a19e6a27",
   "metadata": {
    "ExecuteTime": {
     "end_time": "2024-01-07T10:16:39.855788Z",
     "start_time": "2024-01-07T10:16:39.803295Z"
    }
   },
   "outputs": [
    {
     "data": {
      "text/plain": [
       "Retailer       Retailer ID\n",
       "Foot Locker    1185732        2018\n",
       "West Gear      1128299        1164\n",
       "Sports Direct  1185732         962\n",
       "Amazon         1185732         949\n",
       "West Gear      1185732         916\n",
       "Sports Direct  1197831         789\n",
       "Foot Locker    1128299         515\n",
       "Kohl's         1189833         360\n",
       "Walmart        1197831         300\n",
       "West Gear      1197831         294\n",
       "Kohl's         1185732         288\n",
       "Sports Direct  1128299         281\n",
       "Kohl's         1128299         216\n",
       "Walmart        1128299         194\n",
       "Kohl's         1197831         166\n",
       "Walmart        1185732         132\n",
       "Foot Locker    1197831         104\n",
       "dtype: int64"
      ]
     },
     "execution_count": 37,
     "metadata": {},
     "output_type": "execute_result"
    }
   ],
   "source": [
    "adidas_df[['Retailer', 'Retailer ID']].value_counts()"
   ]
  },
  {
   "cell_type": "code",
   "execution_count": 38,
   "id": "22bed961",
   "metadata": {
    "ExecuteTime": {
     "end_time": "2024-01-07T10:16:52.364632Z",
     "start_time": "2024-01-07T10:16:52.314485Z"
    }
   },
   "outputs": [
    {
     "data": {
      "text/plain": [
       "1185732    5265\n",
       "1128299    2370\n",
       "1197831    1653\n",
       "1189833     360\n",
       "Name: Retailer ID, dtype: int64"
      ]
     },
     "execution_count": 38,
     "metadata": {},
     "output_type": "execute_result"
    }
   ],
   "source": [
    "adidas_df['Retailer ID'].value_counts()"
   ]
  },
  {
   "cell_type": "markdown",
   "id": "2729c9ed",
   "metadata": {},
   "source": [
    "Retailer ID가 대체 뭐지...?"
   ]
  },
  {
   "cell_type": "markdown",
   "id": "e6e6d266",
   "metadata": {},
   "source": [
    "#### 2-2-2. 컬럼별 분포 확인(지역)"
   ]
  },
  {
   "cell_type": "code",
   "execution_count": 42,
   "id": "a322d349",
   "metadata": {
    "ExecuteTime": {
     "end_time": "2024-01-07T10:17:55.402131Z",
     "start_time": "2024-01-07T10:17:55.346520Z"
    }
   },
   "outputs": [
    {
     "data": {
      "text/plain": [
       "West         2448\n",
       "Northeast    2376\n",
       "Midwest      1872\n",
       "South        1728\n",
       "Southeast    1224\n",
       "Name: Region, dtype: int64"
      ]
     },
     "execution_count": 42,
     "metadata": {},
     "output_type": "execute_result"
    }
   ],
   "source": [
    "adidas_df['Region'].value_counts()"
   ]
  },
  {
   "cell_type": "code",
   "execution_count": 76,
   "id": "54ad67e2",
   "metadata": {
    "ExecuteTime": {
     "end_time": "2024-01-07T10:33:17.651097Z",
     "start_time": "2024-01-07T10:33:17.601237Z"
    }
   },
   "outputs": [
    {
     "data": {
      "text/html": [
       "<div>\n",
       "<style scoped>\n",
       "    .dataframe tbody tr th:only-of-type {\n",
       "        vertical-align: middle;\n",
       "    }\n",
       "\n",
       "    .dataframe tbody tr th {\n",
       "        vertical-align: top;\n",
       "    }\n",
       "\n",
       "    .dataframe thead th {\n",
       "        text-align: right;\n",
       "    }\n",
       "</style>\n",
       "<table border=\"1\" class=\"dataframe\">\n",
       "  <thead>\n",
       "    <tr style=\"text-align: right;\">\n",
       "      <th></th>\n",
       "      <th>Total Sales</th>\n",
       "      <th>Operating Profit</th>\n",
       "      <th>Units Sold</th>\n",
       "    </tr>\n",
       "    <tr>\n",
       "      <th>Region</th>\n",
       "      <th></th>\n",
       "      <th></th>\n",
       "      <th></th>\n",
       "    </tr>\n",
       "  </thead>\n",
       "  <tbody>\n",
       "    <tr>\n",
       "      <th>Midwest</th>\n",
       "      <td>135800459.0</td>\n",
       "      <td>52811346.48</td>\n",
       "      <td>391337</td>\n",
       "    </tr>\n",
       "    <tr>\n",
       "      <th>Northeast</th>\n",
       "      <td>186324067.0</td>\n",
       "      <td>68020587.65</td>\n",
       "      <td>501279</td>\n",
       "    </tr>\n",
       "    <tr>\n",
       "      <th>South</th>\n",
       "      <td>144663181.0</td>\n",
       "      <td>61138004.07</td>\n",
       "      <td>492260</td>\n",
       "    </tr>\n",
       "    <tr>\n",
       "      <th>Southeast</th>\n",
       "      <td>163171236.0</td>\n",
       "      <td>60555416.70</td>\n",
       "      <td>407000</td>\n",
       "    </tr>\n",
       "    <tr>\n",
       "      <th>West</th>\n",
       "      <td>269943182.0</td>\n",
       "      <td>89609406.55</td>\n",
       "      <td>686985</td>\n",
       "    </tr>\n",
       "  </tbody>\n",
       "</table>\n",
       "</div>"
      ],
      "text/plain": [
       "           Total Sales  Operating Profit  Units Sold\n",
       "Region                                              \n",
       "Midwest    135800459.0       52811346.48      391337\n",
       "Northeast  186324067.0       68020587.65      501279\n",
       "South      144663181.0       61138004.07      492260\n",
       "Southeast  163171236.0       60555416.70      407000\n",
       "West       269943182.0       89609406.55      686985"
      ]
     },
     "execution_count": 76,
     "metadata": {},
     "output_type": "execute_result"
    }
   ],
   "source": [
    "sales_by_region = adidas_df.groupby('Region').agg({'Total Sales': 'sum', 'Operating Profit': 'sum', 'Units Sold': 'sum'})\n",
    "sales_by_region"
   ]
  },
  {
   "cell_type": "code",
   "execution_count": 83,
   "id": "977658b4",
   "metadata": {
    "ExecuteTime": {
     "end_time": "2024-01-07T10:35:08.050678Z",
     "start_time": "2024-01-07T10:35:07.718043Z"
    }
   },
   "outputs": [
    {
     "data": {
      "image/png": "[encoded data removed]",
      "text/plain": [
       "<Figure size 1200x400 with 3 Axes>"
      ]
     },
     "metadata": {},
     "output_type": "display_data"
    }
   ],
   "source": [
    "fig, axes = plt.subplots(ncols=3, figsize=(12, 4), constrained_layout=True)\n",
    "\n",
    "axes[0].bar(\n",
    "    sales_by_region.index,\n",
    "    sales_by_region['Total Sales']\n",
    ")\n",
    "axes[0].set_title('지역별 총 판매액')\n",
    "\n",
    "axes[1].bar(\n",
    "    sales_by_region.index,\n",
    "    sales_by_region['Operating Profit']\n",
    ")\n",
    "axes[1].set_title('지역별 영업이익')\n",
    "\n",
    "axes[2].bar(\n",
    "    sales_by_region.index,\n",
    "    sales_by_region['Units Sold']\n",
    ")\n",
    "axes[2].set_title('지역별 판매 개수')\n",
    "\n",
    "plt.show()"
   ]
  },
  {
   "cell_type": "markdown",
   "id": "3eea8e4e",
   "metadata": {},
   "source": [
    "지역별 실적을 보면 **서부가 가장 높고**, 중서부가 가장 낮다. 북동부, 남부, 남동부는 비슷한 편인데 이때 남동부는 남부에 비해 판매액이 많지만, 실질 영업이익은 적은 점을 확인할 수 있다."
   ]
  },
  {
   "cell_type": "markdown",
   "id": "8d4be70b",
   "metadata": {},
   "source": [
    "#### 2-2-3. 컬럼별 분포 확인(판매 데이터)"
   ]
  },
  {
   "cell_type": "code",
   "execution_count": 49,
   "id": "c6c2612c",
   "metadata": {
    "ExecuteTime": {
     "end_time": "2024-01-07T10:21:32.617903Z",
     "start_time": "2024-01-07T10:21:32.549037Z"
    }
   },
   "outputs": [
    {
     "data": {
      "text/html": [
       "<div>\n",
       "<style scoped>\n",
       "    .dataframe tbody tr th:only-of-type {\n",
       "        vertical-align: middle;\n",
       "    }\n",
       "\n",
       "    .dataframe tbody tr th {\n",
       "        vertical-align: top;\n",
       "    }\n",
       "\n",
       "    .dataframe thead th {\n",
       "        text-align: right;\n",
       "    }\n",
       "</style>\n",
       "<table border=\"1\" class=\"dataframe\">\n",
       "  <thead>\n",
       "    <tr style=\"text-align: right;\">\n",
       "      <th></th>\n",
       "      <th>Price per Unit</th>\n",
       "      <th>Units Sold</th>\n",
       "      <th>Total Sales</th>\n",
       "      <th>Operating Profit</th>\n",
       "      <th>Operating Margin</th>\n",
       "    </tr>\n",
       "  </thead>\n",
       "  <tbody>\n",
       "    <tr>\n",
       "      <th>count</th>\n",
       "      <td>9648.000000</td>\n",
       "      <td>9648.000000</td>\n",
       "      <td>9648.000000</td>\n",
       "      <td>9648.000000</td>\n",
       "      <td>9648.000000</td>\n",
       "    </tr>\n",
       "    <tr>\n",
       "      <th>mean</th>\n",
       "      <td>45.216625</td>\n",
       "      <td>256.930037</td>\n",
       "      <td>93273.437500</td>\n",
       "      <td>34425.244761</td>\n",
       "      <td>0.422991</td>\n",
       "    </tr>\n",
       "    <tr>\n",
       "      <th>std</th>\n",
       "      <td>14.705397</td>\n",
       "      <td>214.252030</td>\n",
       "      <td>141916.016727</td>\n",
       "      <td>54193.113713</td>\n",
       "      <td>0.097197</td>\n",
       "    </tr>\n",
       "    <tr>\n",
       "      <th>min</th>\n",
       "      <td>7.000000</td>\n",
       "      <td>0.000000</td>\n",
       "      <td>0.000000</td>\n",
       "      <td>0.000000</td>\n",
       "      <td>0.100000</td>\n",
       "    </tr>\n",
       "    <tr>\n",
       "      <th>25%</th>\n",
       "      <td>35.000000</td>\n",
       "      <td>106.000000</td>\n",
       "      <td>4254.500000</td>\n",
       "      <td>1921.752500</td>\n",
       "      <td>0.350000</td>\n",
       "    </tr>\n",
       "    <tr>\n",
       "      <th>50%</th>\n",
       "      <td>45.000000</td>\n",
       "      <td>176.000000</td>\n",
       "      <td>9576.000000</td>\n",
       "      <td>4371.420000</td>\n",
       "      <td>0.410000</td>\n",
       "    </tr>\n",
       "    <tr>\n",
       "      <th>75%</th>\n",
       "      <td>55.000000</td>\n",
       "      <td>350.000000</td>\n",
       "      <td>150000.000000</td>\n",
       "      <td>52062.500000</td>\n",
       "      <td>0.490000</td>\n",
       "    </tr>\n",
       "    <tr>\n",
       "      <th>max</th>\n",
       "      <td>110.000000</td>\n",
       "      <td>1275.000000</td>\n",
       "      <td>825000.000000</td>\n",
       "      <td>390000.000000</td>\n",
       "      <td>0.800000</td>\n",
       "    </tr>\n",
       "  </tbody>\n",
       "</table>\n",
       "</div>"
      ],
      "text/plain": [
       "       Price per Unit   Units Sold    Total Sales  Operating Profit  \\\n",
       "count     9648.000000  9648.000000    9648.000000       9648.000000   \n",
       "mean        45.216625   256.930037   93273.437500      34425.244761   \n",
       "std         14.705397   214.252030  141916.016727      54193.113713   \n",
       "min          7.000000     0.000000       0.000000          0.000000   \n",
       "25%         35.000000   106.000000    4254.500000       1921.752500   \n",
       "50%         45.000000   176.000000    9576.000000       4371.420000   \n",
       "75%         55.000000   350.000000  150000.000000      52062.500000   \n",
       "max        110.000000  1275.000000  825000.000000     390000.000000   \n",
       "\n",
       "       Operating Margin  \n",
       "count       9648.000000  \n",
       "mean           0.422991  \n",
       "std            0.097197  \n",
       "min            0.100000  \n",
       "25%            0.350000  \n",
       "50%            0.410000  \n",
       "75%            0.490000  \n",
       "max            0.800000  "
      ]
     },
     "execution_count": 49,
     "metadata": {},
     "output_type": "execute_result"
    }
   ],
   "source": [
    "adidas_df[['Price per Unit', 'Units Sold', 'Total Sales', 'Operating Profit', 'Operating Margin']].describe()"
   ]
  },
  {
   "cell_type": "code",
   "execution_count": 64,
   "id": "6f2cbd60",
   "metadata": {
    "ExecuteTime": {
     "end_time": "2024-01-07T10:28:38.371676Z",
     "start_time": "2024-01-07T10:28:37.787632Z"
    }
   },
   "outputs": [
    {
     "data": {
      "image/png": "[encoded data removed]",
      "text/plain": [
       "<Figure size 1000x800 with 6 Axes>"
      ]
     },
     "metadata": {},
     "output_type": "display_data"
    }
   ],
   "source": [
    "fig, axes = plt.subplots(nrows=2, ncols=3, figsize=(10, 8), constrained_layout=True)\n",
    "\n",
    "axes[0][0].boxplot(adidas_df['Price per Unit'], labels=['Price per Unit'])\n",
    "axes[0][0].set_title('유닛당 가격 분포')\n",
    "\n",
    "axes[0][1].boxplot(adidas_df['Units Sold'], labels=['Units Sold'])\n",
    "axes[0][1].set_title('판매 개수 분포')\n",
    "\n",
    "axes[0][2].boxplot(adidas_df['Total Sales'], labels=['Total Sales'])\n",
    "axes[0][2].set_title('총 판매액 분포')\n",
    "\n",
    "axes[1][0].boxplot(adidas_df['Operating Profit'], labels=['Operating Profit'])\n",
    "axes[1][0].set_title('영업이익 분포')\n",
    "\n",
    "axes[1][1].boxplot(adidas_df['Operating Margin'], labels=['Operating Margin'])\n",
    "axes[1][1].set_title('영업이익률 분포')\n",
    "\n",
    "axes[1][2].set_xticks([])\n",
    "axes[1][2].set_yticks([])\n",
    "axes[1][2].spines['top'].set_visible(False)\n",
    "axes[1][2].spines['right'].set_visible(False)\n",
    "axes[1][2].spines['bottom'].set_visible(False)\n",
    "axes[1][2].spines['left'].set_visible(False)\n",
    "\n",
    "plt.show()"
   ]
  },
  {
   "cell_type": "markdown",
   "id": "46fbe048",
   "metadata": {},
   "source": [
    "#### 2-2-4. 컬럼별 분포 확인(판매 방법)"
   ]
  },
  {
   "cell_type": "code",
   "execution_count": 84,
   "id": "a80aaa2d",
   "metadata": {
    "ExecuteTime": {
     "end_time": "2024-01-07T10:38:13.151016Z",
     "start_time": "2024-01-07T10:38:13.079683Z"
    }
   },
   "outputs": [
    {
     "data": {
      "text/plain": [
       "Online      4889\n",
       "Outlet      3019\n",
       "In-store    1740\n",
       "Name: Sales Method, dtype: int64"
      ]
     },
     "execution_count": 84,
     "metadata": {},
     "output_type": "execute_result"
    }
   ],
   "source": [
    "adidas_df['Sales Method'].value_counts()"
   ]
  },
  {
   "cell_type": "code",
   "execution_count": 90,
   "id": "7a1cb1ba",
   "metadata": {
    "ExecuteTime": {
     "end_time": "2024-01-07T10:40:04.381557Z",
     "start_time": "2024-01-07T10:40:04.198132Z"
    }
   },
   "outputs": [
    {
     "data": {
      "image/png": "[encoded data removed]",
      "text/plain": [
       "<Figure size 640x480 with 1 Axes>"
      ]
     },
     "metadata": {},
     "output_type": "display_data"
    }
   ],
   "source": [
    "plt.pie(\n",
    "    adidas_df['Sales Method'].value_counts(),\n",
    "    explode=[0.1 if i==0 else 0 for i in range(len(adidas_df['Sales Method'].unique()))],\n",
    "    labels=adidas_df['Sales Method'].value_counts().index,\n",
    "    autopct='%.1f%%',\n",
    "    startangle=140\n",
    ")\n",
    "\n",
    "plt.title('판매 방법별 분포')\n",
    "plt.show()"
   ]
  },
  {
   "cell_type": "code",
   "execution_count": 91,
   "id": "0948324a",
   "metadata": {
    "ExecuteTime": {
     "end_time": "2024-01-07T10:40:33.589276Z",
     "start_time": "2024-01-07T10:40:33.496730Z"
    }
   },
   "outputs": [
    {
     "data": {
      "text/html": [
       "<div>\n",
       "<style scoped>\n",
       "    .dataframe tbody tr th:only-of-type {\n",
       "        vertical-align: middle;\n",
       "    }\n",
       "\n",
       "    .dataframe tbody tr th {\n",
       "        vertical-align: top;\n",
       "    }\n",
       "\n",
       "    .dataframe thead th {\n",
       "        text-align: right;\n",
       "    }\n",
       "</style>\n",
       "<table border=\"1\" class=\"dataframe\">\n",
       "  <thead>\n",
       "    <tr style=\"text-align: right;\">\n",
       "      <th></th>\n",
       "      <th>Total Sales</th>\n",
       "      <th>Operating Profit</th>\n",
       "      <th>Units Sold</th>\n",
       "    </tr>\n",
       "    <tr>\n",
       "      <th>Sales Method</th>\n",
       "      <th></th>\n",
       "      <th></th>\n",
       "      <th></th>\n",
       "    </tr>\n",
       "  </thead>\n",
       "  <tbody>\n",
       "    <tr>\n",
       "      <th>In-store</th>\n",
       "      <td>356643750.0</td>\n",
       "      <td>1.275913e+08</td>\n",
       "      <td>689990</td>\n",
       "    </tr>\n",
       "    <tr>\n",
       "      <th>Online</th>\n",
       "      <td>247672882.0</td>\n",
       "      <td>9.655518e+07</td>\n",
       "      <td>939093</td>\n",
       "    </tr>\n",
       "    <tr>\n",
       "      <th>Outlet</th>\n",
       "      <td>295585493.0</td>\n",
       "      <td>1.079883e+08</td>\n",
       "      <td>849778</td>\n",
       "    </tr>\n",
       "  </tbody>\n",
       "</table>\n",
       "</div>"
      ],
      "text/plain": [
       "              Total Sales  Operating Profit  Units Sold\n",
       "Sales Method                                           \n",
       "In-store      356643750.0      1.275913e+08      689990\n",
       "Online        247672882.0      9.655518e+07      939093\n",
       "Outlet        295585493.0      1.079883e+08      849778"
      ]
     },
     "execution_count": 91,
     "metadata": {},
     "output_type": "execute_result"
    }
   ],
   "source": [
    "sales_by_method = adidas_df.groupby('Sales Method').agg({'Total Sales': 'sum', 'Operating Profit': 'sum', 'Units Sold': 'sum'})\n",
    "sales_by_method"
   ]
  },
  {
   "cell_type": "code",
   "execution_count": 92,
   "id": "ea09e9fd",
   "metadata": {
    "ExecuteTime": {
     "end_time": "2024-01-07T10:41:00.332936Z",
     "start_time": "2024-01-07T10:40:59.654335Z"
    }
   },
   "outputs": [
    {
     "data": {
      "image/png": "[encoded data removed]",
      "text/plain": [
       "<Figure size 1200x400 with 3 Axes>"
      ]
     },
     "metadata": {},
     "output_type": "display_data"
    }
   ],
   "source": [
    "fig, axes = plt.subplots(ncols=3, figsize=(12, 4), constrained_layout=True)\n",
    "\n",
    "axes[0].bar(\n",
    "    sales_by_method.index,\n",
    "    sales_by_method['Total Sales']\n",
    ")\n",
    "axes[0].set_title('판매 방법별 총 판매액')\n",
    "\n",
    "axes[1].bar(\n",
    "    sales_by_method.index,\n",
    "    sales_by_method['Operating Profit']\n",
    ")\n",
    "axes[1].set_title('판매 방법별 영업이익')\n",
    "\n",
    "axes[2].bar(\n",
    "    sales_by_method.index,\n",
    "    sales_by_method['Units Sold']\n",
    ")\n",
    "axes[2].set_title('판매 방법별 판매 개수')\n",
    "\n",
    "plt.show()"
   ]
  },
  {
   "cell_type": "markdown",
   "id": "1d4b5926",
   "metadata": {},
   "source": [
    "판매 개수는 온라인이 가장 높다. 그런데 온라인이 **영업이익이 가장 낮다.** 접근성 좋은 온라인의 장점, 배송 비용 등의 코스트가 발생하는 온라인의 단점을 잘 보여주는 사례인 것 같다."
   ]
  },
  {
   "cell_type": "code",
   "execution_count": 95,
   "id": "0fe53f86",
   "metadata": {
    "ExecuteTime": {
     "end_time": "2024-01-07T10:47:47.810708Z",
     "start_time": "2024-01-07T10:47:47.745725Z"
    }
   },
   "outputs": [],
   "source": [
    "# pickle로 저장\n",
    "with open('adidas_df.pkl', 'wb') as file:\n",
    "    pickle.dump(adidas_df, file)"
   ]
  },
  {
   "cell_type": "markdown",
   "id": "5a6a8ec9",
   "metadata": {},
   "source": [
    "---"
   ]
  },
  {
   "cell_type": "markdown",
   "id": "6dcd5034",
   "metadata": {},
   "source": [
    "## 3. 데이터 분석"
   ]
  },
  {
   "cell_type": "markdown",
   "id": "99332bdb",
   "metadata": {},
   "source": [
    "### 3-1. 문제 정의\n",
    "\n",
    "아디다스의 전략 분석 팀에서는 영업이익 제고를 위한 전략을 수립하고자 한다. 이를 위해 풀어야 할 문제는 다음과 같다.\n",
    "- **가장 높은 영업이익**을 기대할 수 있는 판매 지역, 판매 방법은 무엇인가?\n",
    "\n",
    "이를 위해 다음과 같은 접근법을 이용한다.\n",
    "- 판매 지역별 영업이익 평균에 대한 t검정 수행\n",
    "- 판매 방법별 영업이익 평균에 대한 t검정 수행"
   ]
  },
  {
   "cell_type": "markdown",
   "id": "14d2f3ca",
   "metadata": {},
   "source": [
    "### 3-2. 데이터 분석"
   ]
  },
  {
   "cell_type": "code",
   "execution_count": null,
   "id": "d47770ab",
   "metadata": {},
   "outputs": [],
   "source": []
  },
  {
   "cell_type": "markdown",
   "id": "687950ec",
   "metadata": {},
   "source": [
    "### 3-3. 결과 해석\n",
    "\n",
    "내용"
   ]
  },
  {
   "cell_type": "markdown",
   "id": "811987c2",
   "metadata": {},
   "source": [
    "---"
   ]
  },
  {
   "cell_type": "markdown",
   "id": "8947cf07",
   "metadata": {},
   "source": [
    "## 4. 후기"
   ]
  },
  {
   "cell_type": "markdown",
   "id": "9fb18056",
   "metadata": {},
   "source": [
    "내용"
   ]
  }
 ],
 "metadata": {
  "kernelspec": {
   "display_name": "Python 3 (ipykernel)",
   "language": "python",
   "name": "python3"
  },
  "language_info": {
   "codemirror_mode": {
    "name": "ipython",
    "version": 3
   },
   "file_extension": ".py",
   "mimetype": "text/x-python",
   "name": "python",
   "nbconvert_exporter": "python",
   "pygments_lexer": "ipython3",
   "version": "3.9.16"
  },
  "toc": {
   "base_numbering": 1,
   "nav_menu": {},
   "number_sections": false,
   "sideBar": true,
   "skip_h1_title": false,
   "title_cell": "Table of Contents",
   "title_sidebar": "Contents",
   "toc_cell": false,
   "toc_position": {
    "height": "calc(100% - 180px)",
    "left": "10px",
    "top": "150px",
    "width": "329.6px"
   },
   "toc_section_display": true,
   "toc_window_display": true
  }
 },
 "nbformat": 4,
 "nbformat_minor": 5
}
