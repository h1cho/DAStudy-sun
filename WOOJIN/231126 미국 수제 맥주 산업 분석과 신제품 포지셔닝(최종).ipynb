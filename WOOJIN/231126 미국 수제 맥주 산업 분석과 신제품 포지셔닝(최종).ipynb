{
 "cells": [
  {
   "cell_type": "markdown",
   "id": "6fbc8efa",
   "metadata": {},
   "source": [
    "# 미국 수제 맥주 산업 분석과 신제품 포지셔닝\n",
    "\n",
    "2023.11.19 ~ 2023.11.21"
   ]
  },
  {
   "cell_type": "markdown",
   "id": "bc2fb12c",
   "metadata": {},
   "source": [
    "## 1. 프로젝트 개요\n",
    "- **주제: 미국 수제 맥주 산업 분석과 신제품 포지셔닝**\n",
    "- 설명: 미국의 수제 맥주 및 양조장 데이터를 분석하여 수제 맥주 산업을 이루는 요소들을 탐색하고, 가상의 신규 제품을 개발해 보는 과정을 수행\n",
    "- 사용한 데이터셋\n",
    "    - [Craft Beers Dataset](https://www.kaggle.com/datasets/nickhould/craft-cans/)(Kaggle): 미국의 캔맥주 2K+, 미국의 500개 이상 양조장 데이터\n",
    "- 진행 절차 및 내용\n",
    "    - 수제 맥주 데이터, 양조장 데이터를 로딩하여 **각 컬럼별 EDA 및 결측치 처리**\n",
    "    - **선형회귀분석**을 통해 핵심 컬럼들 간의 관계를 분석하고 통계적으로 검증\n",
    "    - **클러스터링**을 통해 가상의 신규 제품 'HONEY DEW'의 시장 내 포지셔닝 진행\n",
    "- 사용한 스킬셋\n",
    "    - Pandas, Numpy\n",
    "    - Matplotlib, Seaborn\n",
    "    - Scipy\n",
    "    - Scikit-learn (KMeansClustering)"
   ]
  },
  {
   "cell_type": "markdown",
   "id": "4b27e1e8",
   "metadata": {},
   "source": [
    "## 2. 데이터 로딩 및 분포 확인"
   ]
  },
  {
   "cell_type": "markdown",
   "id": "6fe82a97",
   "metadata": {},
   "source": [
    "### 2-1. beers.csv"
   ]
  },
  {
   "cell_type": "markdown",
   "id": "89ab33b6",
   "metadata": {},
   "source": [
    "#### 2-1-1. 데이터 불러오기"
   ]
  },
  {
   "cell_type": "code",
   "execution_count": 22,
   "id": "a081a038",
   "metadata": {
    "ExecuteTime": {
     "end_time": "2023-11-21T06:03:25.298782Z",
     "start_time": "2023-11-21T06:03:25.268309Z"
    }
   },
   "outputs": [],
   "source": [
    "import pandas as pd\n",
    "import numpy as np\n",
    "import matplotlib.pyplot as plt\n",
    "import koreanize_matplotlib\n",
    "import seaborn as sns\n",
    "from scipy import stats\n",
    "from sklearn.cluster import KMeans"
   ]
  },
  {
   "cell_type": "code",
   "execution_count": 2,
   "id": "b3620408",
   "metadata": {
    "ExecuteTime": {
     "end_time": "2023-11-21T05:28:21.531368Z",
     "start_time": "2023-11-21T05:28:21.486307Z"
    }
   },
   "outputs": [
    {
     "data": {
      "text/html": [
       "<div>\n",
       "<style scoped>\n",
       "    .dataframe tbody tr th:only-of-type {\n",
       "        vertical-align: middle;\n",
       "    }\n",
       "\n",
       "    .dataframe tbody tr th {\n",
       "        vertical-align: top;\n",
       "    }\n",
       "\n",
       "    .dataframe thead th {\n",
       "        text-align: right;\n",
       "    }\n",
       "</style>\n",
       "<table border=\"1\" class=\"dataframe\">\n",
       "  <thead>\n",
       "    <tr style=\"text-align: right;\">\n",
       "      <th></th>\n",
       "      <th>abv</th>\n",
       "      <th>ibu</th>\n",
       "      <th>id</th>\n",
       "      <th>name</th>\n",
       "      <th>style</th>\n",
       "      <th>brewery_id</th>\n",
       "      <th>ounces</th>\n",
       "    </tr>\n",
       "  </thead>\n",
       "  <tbody>\n",
       "    <tr>\n",
       "      <th>0</th>\n",
       "      <td>0.050</td>\n",
       "      <td>NaN</td>\n",
       "      <td>1436</td>\n",
       "      <td>Pub Beer</td>\n",
       "      <td>American Pale Lager</td>\n",
       "      <td>408</td>\n",
       "      <td>12.0</td>\n",
       "    </tr>\n",
       "    <tr>\n",
       "      <th>1</th>\n",
       "      <td>0.066</td>\n",
       "      <td>NaN</td>\n",
       "      <td>2265</td>\n",
       "      <td>Devil's Cup</td>\n",
       "      <td>American Pale Ale (APA)</td>\n",
       "      <td>177</td>\n",
       "      <td>12.0</td>\n",
       "    </tr>\n",
       "    <tr>\n",
       "      <th>2</th>\n",
       "      <td>0.071</td>\n",
       "      <td>NaN</td>\n",
       "      <td>2264</td>\n",
       "      <td>Rise of the Phoenix</td>\n",
       "      <td>American IPA</td>\n",
       "      <td>177</td>\n",
       "      <td>12.0</td>\n",
       "    </tr>\n",
       "    <tr>\n",
       "      <th>3</th>\n",
       "      <td>0.090</td>\n",
       "      <td>NaN</td>\n",
       "      <td>2263</td>\n",
       "      <td>Sinister</td>\n",
       "      <td>American Double / Imperial IPA</td>\n",
       "      <td>177</td>\n",
       "      <td>12.0</td>\n",
       "    </tr>\n",
       "    <tr>\n",
       "      <th>4</th>\n",
       "      <td>0.075</td>\n",
       "      <td>NaN</td>\n",
       "      <td>2262</td>\n",
       "      <td>Sex and Candy</td>\n",
       "      <td>American IPA</td>\n",
       "      <td>177</td>\n",
       "      <td>12.0</td>\n",
       "    </tr>\n",
       "    <tr>\n",
       "      <th>...</th>\n",
       "      <td>...</td>\n",
       "      <td>...</td>\n",
       "      <td>...</td>\n",
       "      <td>...</td>\n",
       "      <td>...</td>\n",
       "      <td>...</td>\n",
       "      <td>...</td>\n",
       "    </tr>\n",
       "    <tr>\n",
       "      <th>2405</th>\n",
       "      <td>0.067</td>\n",
       "      <td>45.0</td>\n",
       "      <td>928</td>\n",
       "      <td>Belgorado</td>\n",
       "      <td>Belgian IPA</td>\n",
       "      <td>424</td>\n",
       "      <td>12.0</td>\n",
       "    </tr>\n",
       "    <tr>\n",
       "      <th>2406</th>\n",
       "      <td>0.052</td>\n",
       "      <td>NaN</td>\n",
       "      <td>807</td>\n",
       "      <td>Rail Yard Ale</td>\n",
       "      <td>American Amber / Red Ale</td>\n",
       "      <td>424</td>\n",
       "      <td>12.0</td>\n",
       "    </tr>\n",
       "    <tr>\n",
       "      <th>2407</th>\n",
       "      <td>0.055</td>\n",
       "      <td>NaN</td>\n",
       "      <td>620</td>\n",
       "      <td>B3K Black Lager</td>\n",
       "      <td>Schwarzbier</td>\n",
       "      <td>424</td>\n",
       "      <td>12.0</td>\n",
       "    </tr>\n",
       "    <tr>\n",
       "      <th>2408</th>\n",
       "      <td>0.055</td>\n",
       "      <td>40.0</td>\n",
       "      <td>145</td>\n",
       "      <td>Silverback Pale Ale</td>\n",
       "      <td>American Pale Ale (APA)</td>\n",
       "      <td>424</td>\n",
       "      <td>12.0</td>\n",
       "    </tr>\n",
       "    <tr>\n",
       "      <th>2409</th>\n",
       "      <td>0.052</td>\n",
       "      <td>NaN</td>\n",
       "      <td>84</td>\n",
       "      <td>Rail Yard Ale (2009)</td>\n",
       "      <td>American Amber / Red Ale</td>\n",
       "      <td>424</td>\n",
       "      <td>12.0</td>\n",
       "    </tr>\n",
       "  </tbody>\n",
       "</table>\n",
       "<p>2410 rows × 7 columns</p>\n",
       "</div>"
      ],
      "text/plain": [
       "        abv   ibu    id                  name                           style  \\\n",
       "0     0.050   NaN  1436              Pub Beer             American Pale Lager   \n",
       "1     0.066   NaN  2265           Devil's Cup         American Pale Ale (APA)   \n",
       "2     0.071   NaN  2264   Rise of the Phoenix                    American IPA   \n",
       "3     0.090   NaN  2263              Sinister  American Double / Imperial IPA   \n",
       "4     0.075   NaN  2262         Sex and Candy                    American IPA   \n",
       "...     ...   ...   ...                   ...                             ...   \n",
       "2405  0.067  45.0   928             Belgorado                     Belgian IPA   \n",
       "2406  0.052   NaN   807         Rail Yard Ale        American Amber / Red Ale   \n",
       "2407  0.055   NaN   620       B3K Black Lager                     Schwarzbier   \n",
       "2408  0.055  40.0   145   Silverback Pale Ale         American Pale Ale (APA)   \n",
       "2409  0.052   NaN    84  Rail Yard Ale (2009)        American Amber / Red Ale   \n",
       "\n",
       "      brewery_id  ounces  \n",
       "0            408    12.0  \n",
       "1            177    12.0  \n",
       "2            177    12.0  \n",
       "3            177    12.0  \n",
       "4            177    12.0  \n",
       "...          ...     ...  \n",
       "2405         424    12.0  \n",
       "2406         424    12.0  \n",
       "2407         424    12.0  \n",
       "2408         424    12.0  \n",
       "2409         424    12.0  \n",
       "\n",
       "[2410 rows x 7 columns]"
      ]
     },
     "execution_count": 2,
     "metadata": {},
     "output_type": "execute_result"
    }
   ],
   "source": [
    "beers_df = pd.read_csv('beers.csv', index_col=0)\n",
    "beers_df"
   ]
  },
  {
   "cell_type": "code",
   "execution_count": 6,
   "id": "90db5474",
   "metadata": {
    "ExecuteTime": {
     "end_time": "2023-11-19T06:07:48.121225Z",
     "start_time": "2023-11-19T06:07:48.089534Z"
    }
   },
   "outputs": [
    {
     "name": "stdout",
     "output_type": "stream",
     "text": [
      "<class 'pandas.core.frame.DataFrame'>\n",
      "Int64Index: 2410 entries, 0 to 2409\n",
      "Data columns (total 7 columns):\n",
      " #   Column      Non-Null Count  Dtype  \n",
      "---  ------      --------------  -----  \n",
      " 0   abv         2348 non-null   float64\n",
      " 1   ibu         1405 non-null   float64\n",
      " 2   id          2410 non-null   int64  \n",
      " 3   name        2410 non-null   object \n",
      " 4   style       2405 non-null   object \n",
      " 5   brewery_id  2410 non-null   int64  \n",
      " 6   ounces      2410 non-null   float64\n",
      "dtypes: float64(3), int64(2), object(2)\n",
      "memory usage: 150.6+ KB\n"
     ]
    }
   ],
   "source": [
    "beers_df.info()"
   ]
  },
  {
   "cell_type": "code",
   "execution_count": 7,
   "id": "d7f23ed5",
   "metadata": {
    "ExecuteTime": {
     "end_time": "2023-11-19T06:07:55.876296Z",
     "start_time": "2023-11-19T06:07:55.859925Z"
    }
   },
   "outputs": [
    {
     "data": {
      "text/plain": [
       "abv             62\n",
       "ibu           1005\n",
       "id               0\n",
       "name             0\n",
       "style            5\n",
       "brewery_id       0\n",
       "ounces           0\n",
       "dtype: int64"
      ]
     },
     "execution_count": 7,
     "metadata": {},
     "output_type": "execute_result"
    }
   ],
   "source": [
    "beers_df.isna().sum()"
   ]
  },
  {
   "cell_type": "markdown",
   "id": "53203838",
   "metadata": {},
   "source": [
    "```beers_df```를 보면서 생각한 점\n",
    "- 컬럼명 한글화\n",
    "- abv, ibu 컬럼 null값 처리\n",
    "- 컬럼별로 분포 확인"
   ]
  },
  {
   "cell_type": "code",
   "execution_count": 3,
   "id": "ec4a5af1",
   "metadata": {
    "ExecuteTime": {
     "end_time": "2023-11-21T05:28:26.532768Z",
     "start_time": "2023-11-21T05:28:26.502245Z"
    }
   },
   "outputs": [
    {
     "data": {
      "text/html": [
       "<div>\n",
       "<style scoped>\n",
       "    .dataframe tbody tr th:only-of-type {\n",
       "        vertical-align: middle;\n",
       "    }\n",
       "\n",
       "    .dataframe tbody tr th {\n",
       "        vertical-align: top;\n",
       "    }\n",
       "\n",
       "    .dataframe thead th {\n",
       "        text-align: right;\n",
       "    }\n",
       "</style>\n",
       "<table border=\"1\" class=\"dataframe\">\n",
       "  <thead>\n",
       "    <tr style=\"text-align: right;\">\n",
       "      <th></th>\n",
       "      <th>알코올 도수</th>\n",
       "      <th>쓴 정도</th>\n",
       "      <th>id</th>\n",
       "      <th>이름</th>\n",
       "      <th>스타일</th>\n",
       "      <th>brewery_id</th>\n",
       "      <th>질량</th>\n",
       "    </tr>\n",
       "  </thead>\n",
       "  <tbody>\n",
       "    <tr>\n",
       "      <th>0</th>\n",
       "      <td>0.050</td>\n",
       "      <td>NaN</td>\n",
       "      <td>1436</td>\n",
       "      <td>Pub Beer</td>\n",
       "      <td>American Pale Lager</td>\n",
       "      <td>408</td>\n",
       "      <td>12.0</td>\n",
       "    </tr>\n",
       "    <tr>\n",
       "      <th>1</th>\n",
       "      <td>0.066</td>\n",
       "      <td>NaN</td>\n",
       "      <td>2265</td>\n",
       "      <td>Devil's Cup</td>\n",
       "      <td>American Pale Ale (APA)</td>\n",
       "      <td>177</td>\n",
       "      <td>12.0</td>\n",
       "    </tr>\n",
       "    <tr>\n",
       "      <th>2</th>\n",
       "      <td>0.071</td>\n",
       "      <td>NaN</td>\n",
       "      <td>2264</td>\n",
       "      <td>Rise of the Phoenix</td>\n",
       "      <td>American IPA</td>\n",
       "      <td>177</td>\n",
       "      <td>12.0</td>\n",
       "    </tr>\n",
       "    <tr>\n",
       "      <th>3</th>\n",
       "      <td>0.090</td>\n",
       "      <td>NaN</td>\n",
       "      <td>2263</td>\n",
       "      <td>Sinister</td>\n",
       "      <td>American Double / Imperial IPA</td>\n",
       "      <td>177</td>\n",
       "      <td>12.0</td>\n",
       "    </tr>\n",
       "    <tr>\n",
       "      <th>4</th>\n",
       "      <td>0.075</td>\n",
       "      <td>NaN</td>\n",
       "      <td>2262</td>\n",
       "      <td>Sex and Candy</td>\n",
       "      <td>American IPA</td>\n",
       "      <td>177</td>\n",
       "      <td>12.0</td>\n",
       "    </tr>\n",
       "    <tr>\n",
       "      <th>...</th>\n",
       "      <td>...</td>\n",
       "      <td>...</td>\n",
       "      <td>...</td>\n",
       "      <td>...</td>\n",
       "      <td>...</td>\n",
       "      <td>...</td>\n",
       "      <td>...</td>\n",
       "    </tr>\n",
       "    <tr>\n",
       "      <th>2405</th>\n",
       "      <td>0.067</td>\n",
       "      <td>45.0</td>\n",
       "      <td>928</td>\n",
       "      <td>Belgorado</td>\n",
       "      <td>Belgian IPA</td>\n",
       "      <td>424</td>\n",
       "      <td>12.0</td>\n",
       "    </tr>\n",
       "    <tr>\n",
       "      <th>2406</th>\n",
       "      <td>0.052</td>\n",
       "      <td>NaN</td>\n",
       "      <td>807</td>\n",
       "      <td>Rail Yard Ale</td>\n",
       "      <td>American Amber / Red Ale</td>\n",
       "      <td>424</td>\n",
       "      <td>12.0</td>\n",
       "    </tr>\n",
       "    <tr>\n",
       "      <th>2407</th>\n",
       "      <td>0.055</td>\n",
       "      <td>NaN</td>\n",
       "      <td>620</td>\n",
       "      <td>B3K Black Lager</td>\n",
       "      <td>Schwarzbier</td>\n",
       "      <td>424</td>\n",
       "      <td>12.0</td>\n",
       "    </tr>\n",
       "    <tr>\n",
       "      <th>2408</th>\n",
       "      <td>0.055</td>\n",
       "      <td>40.0</td>\n",
       "      <td>145</td>\n",
       "      <td>Silverback Pale Ale</td>\n",
       "      <td>American Pale Ale (APA)</td>\n",
       "      <td>424</td>\n",
       "      <td>12.0</td>\n",
       "    </tr>\n",
       "    <tr>\n",
       "      <th>2409</th>\n",
       "      <td>0.052</td>\n",
       "      <td>NaN</td>\n",
       "      <td>84</td>\n",
       "      <td>Rail Yard Ale (2009)</td>\n",
       "      <td>American Amber / Red Ale</td>\n",
       "      <td>424</td>\n",
       "      <td>12.0</td>\n",
       "    </tr>\n",
       "  </tbody>\n",
       "</table>\n",
       "<p>2410 rows × 7 columns</p>\n",
       "</div>"
      ],
      "text/plain": [
       "      알코올 도수  쓴 정도    id                    이름  \\\n",
       "0      0.050   NaN  1436              Pub Beer   \n",
       "1      0.066   NaN  2265           Devil's Cup   \n",
       "2      0.071   NaN  2264   Rise of the Phoenix   \n",
       "3      0.090   NaN  2263              Sinister   \n",
       "4      0.075   NaN  2262         Sex and Candy   \n",
       "...      ...   ...   ...                   ...   \n",
       "2405   0.067  45.0   928             Belgorado   \n",
       "2406   0.052   NaN   807         Rail Yard Ale   \n",
       "2407   0.055   NaN   620       B3K Black Lager   \n",
       "2408   0.055  40.0   145   Silverback Pale Ale   \n",
       "2409   0.052   NaN    84  Rail Yard Ale (2009)   \n",
       "\n",
       "                                 스타일  brewery_id    질량  \n",
       "0                American Pale Lager         408  12.0  \n",
       "1            American Pale Ale (APA)         177  12.0  \n",
       "2                       American IPA         177  12.0  \n",
       "3     American Double / Imperial IPA         177  12.0  \n",
       "4                       American IPA         177  12.0  \n",
       "...                              ...         ...   ...  \n",
       "2405                     Belgian IPA         424  12.0  \n",
       "2406        American Amber / Red Ale         424  12.0  \n",
       "2407                     Schwarzbier         424  12.0  \n",
       "2408         American Pale Ale (APA)         424  12.0  \n",
       "2409        American Amber / Red Ale         424  12.0  \n",
       "\n",
       "[2410 rows x 7 columns]"
      ]
     },
     "execution_count": 3,
     "metadata": {},
     "output_type": "execute_result"
    }
   ],
   "source": [
    "named_beers_df = beers_df.rename(columns={\n",
    "    'abv': '알코올 도수',\n",
    "    'ibu': '쓴 정도',\n",
    "    # id는 안 바꾸기\n",
    "    'name': '이름',\n",
    "    'style': '스타일',\n",
    "    # brewery_id는 안 바꾸기\n",
    "    'ounces': '질량'\n",
    "})\n",
    "\n",
    "named_beers_df"
   ]
  },
  {
   "cell_type": "markdown",
   "id": "389fdad5",
   "metadata": {},
   "source": [
    "#### 2-1-2. 컬럼별 분포 확인(이름)"
   ]
  },
  {
   "cell_type": "code",
   "execution_count": 67,
   "id": "36e04fde",
   "metadata": {
    "ExecuteTime": {
     "end_time": "2023-11-19T06:35:16.398143Z",
     "start_time": "2023-11-19T06:35:16.380196Z"
    }
   },
   "outputs": [
    {
     "data": {
      "text/plain": [
       "2305"
      ]
     },
     "execution_count": 67,
     "metadata": {},
     "output_type": "execute_result"
    }
   ],
   "source": [
    "named_beers_df['이름'].nunique()"
   ]
  },
  {
   "cell_type": "markdown",
   "id": "3bc0bc5c",
   "metadata": {},
   "source": [
    "데이터 개수가 2410개인데 이름의 고유값이 2305종류라는 것은 중복으로 들어간 게 105개라는 뜻 같다."
   ]
  },
  {
   "cell_type": "code",
   "execution_count": 72,
   "id": "d7792d26",
   "metadata": {
    "ExecuteTime": {
     "end_time": "2023-11-19T06:37:04.550315Z",
     "start_time": "2023-11-19T06:37:04.531308Z"
    }
   },
   "outputs": [
    {
     "data": {
      "text/html": [
       "<div>\n",
       "<style scoped>\n",
       "    .dataframe tbody tr th:only-of-type {\n",
       "        vertical-align: middle;\n",
       "    }\n",
       "\n",
       "    .dataframe tbody tr th {\n",
       "        vertical-align: top;\n",
       "    }\n",
       "\n",
       "    .dataframe thead th {\n",
       "        text-align: right;\n",
       "    }\n",
       "</style>\n",
       "<table border=\"1\" class=\"dataframe\">\n",
       "  <thead>\n",
       "    <tr style=\"text-align: right;\">\n",
       "      <th></th>\n",
       "      <th>알코올 도수</th>\n",
       "      <th>쓴 정도</th>\n",
       "      <th>id</th>\n",
       "      <th>이름</th>\n",
       "      <th>스타일</th>\n",
       "      <th>brewery_id</th>\n",
       "      <th>질량</th>\n",
       "    </tr>\n",
       "  </thead>\n",
       "  <tbody>\n",
       "    <tr>\n",
       "      <th>1254</th>\n",
       "      <td>0.051</td>\n",
       "      <td>20.0</td>\n",
       "      <td>360</td>\n",
       "      <td>#9</td>\n",
       "      <td>Fruit / Vegetable Beer</td>\n",
       "      <td>303</td>\n",
       "      <td>12.0</td>\n",
       "    </tr>\n",
       "    <tr>\n",
       "      <th>304</th>\n",
       "      <td>0.056</td>\n",
       "      <td>37.0</td>\n",
       "      <td>886</td>\n",
       "      <td>1327 Pod's ESB</td>\n",
       "      <td>Extra Special / Strong Bitter (ESB)</td>\n",
       "      <td>380</td>\n",
       "      <td>12.0</td>\n",
       "    </tr>\n",
       "    <tr>\n",
       "      <th>305</th>\n",
       "      <td>0.056</td>\n",
       "      <td>37.0</td>\n",
       "      <td>612</td>\n",
       "      <td>1327 Pod's ESB</td>\n",
       "      <td>Extra Special / Strong Bitter (ESB)</td>\n",
       "      <td>380</td>\n",
       "      <td>12.0</td>\n",
       "    </tr>\n",
       "    <tr>\n",
       "      <th>916</th>\n",
       "      <td>0.054</td>\n",
       "      <td>30.0</td>\n",
       "      <td>2202</td>\n",
       "      <td>312 Urban Pale Ale</td>\n",
       "      <td>American Pale Ale (APA)</td>\n",
       "      <td>88</td>\n",
       "      <td>12.0</td>\n",
       "    </tr>\n",
       "    <tr>\n",
       "      <th>918</th>\n",
       "      <td>0.042</td>\n",
       "      <td>18.0</td>\n",
       "      <td>1829</td>\n",
       "      <td>312 Urban Wheat Ale</td>\n",
       "      <td>American Pale Wheat Ale</td>\n",
       "      <td>88</td>\n",
       "      <td>12.0</td>\n",
       "    </tr>\n",
       "    <tr>\n",
       "      <th>...</th>\n",
       "      <td>...</td>\n",
       "      <td>...</td>\n",
       "      <td>...</td>\n",
       "      <td>...</td>\n",
       "      <td>...</td>\n",
       "      <td>...</td>\n",
       "      <td>...</td>\n",
       "    </tr>\n",
       "    <tr>\n",
       "      <th>1320</th>\n",
       "      <td>0.072</td>\n",
       "      <td>75.0</td>\n",
       "      <td>2185</td>\n",
       "      <td>Tsunami IPA</td>\n",
       "      <td>American IPA</td>\n",
       "      <td>203</td>\n",
       "      <td>12.0</td>\n",
       "    </tr>\n",
       "    <tr>\n",
       "      <th>1696</th>\n",
       "      <td>0.047</td>\n",
       "      <td>25.0</td>\n",
       "      <td>2513</td>\n",
       "      <td>Vanilla Porter</td>\n",
       "      <td>American Porter</td>\n",
       "      <td>68</td>\n",
       "      <td>16.0</td>\n",
       "    </tr>\n",
       "    <tr>\n",
       "      <th>2173</th>\n",
       "      <td>0.051</td>\n",
       "      <td>11.0</td>\n",
       "      <td>2421</td>\n",
       "      <td>Watermelon Ale</td>\n",
       "      <td>Fruit / Vegetable Beer</td>\n",
       "      <td>108</td>\n",
       "      <td>12.0</td>\n",
       "    </tr>\n",
       "    <tr>\n",
       "      <th>558</th>\n",
       "      <td>0.047</td>\n",
       "      <td>NaN</td>\n",
       "      <td>638</td>\n",
       "      <td>White Zombie Ale</td>\n",
       "      <td>Witbier</td>\n",
       "      <td>331</td>\n",
       "      <td>12.0</td>\n",
       "    </tr>\n",
       "    <tr>\n",
       "      <th>1563</th>\n",
       "      <td>0.085</td>\n",
       "      <td>NaN</td>\n",
       "      <td>992</td>\n",
       "      <td>oSKAr the G'Rauch</td>\n",
       "      <td>American IPA</td>\n",
       "      <td>166</td>\n",
       "      <td>16.0</td>\n",
       "    </tr>\n",
       "  </tbody>\n",
       "</table>\n",
       "<p>105 rows × 7 columns</p>\n",
       "</div>"
      ],
      "text/plain": [
       "      알코올 도수  쓴 정도    id                   이름  \\\n",
       "1254   0.051  20.0   360                   #9   \n",
       "304    0.056  37.0   886       1327 Pod's ESB   \n",
       "305    0.056  37.0   612       1327 Pod's ESB   \n",
       "916    0.054  30.0  2202   312 Urban Pale Ale   \n",
       "918    0.042  18.0  1829  312 Urban Wheat Ale   \n",
       "...      ...   ...   ...                  ...   \n",
       "1320   0.072  75.0  2185          Tsunami IPA   \n",
       "1696   0.047  25.0  2513       Vanilla Porter   \n",
       "2173   0.051  11.0  2421       Watermelon Ale   \n",
       "558    0.047   NaN   638     White Zombie Ale   \n",
       "1563   0.085   NaN   992    oSKAr the G'Rauch   \n",
       "\n",
       "                                      스타일  brewery_id    질량  \n",
       "1254               Fruit / Vegetable Beer         303  12.0  \n",
       "304   Extra Special / Strong Bitter (ESB)         380  12.0  \n",
       "305   Extra Special / Strong Bitter (ESB)         380  12.0  \n",
       "916               American Pale Ale (APA)          88  12.0  \n",
       "918               American Pale Wheat Ale          88  12.0  \n",
       "...                                   ...         ...   ...  \n",
       "1320                         American IPA         203  12.0  \n",
       "1696                      American Porter          68  16.0  \n",
       "2173               Fruit / Vegetable Beer         108  12.0  \n",
       "558                               Witbier         331  12.0  \n",
       "1563                         American IPA         166  16.0  \n",
       "\n",
       "[105 rows x 7 columns]"
      ]
     },
     "execution_count": 72,
     "metadata": {},
     "output_type": "execute_result"
    }
   ],
   "source": [
    "named_beers_df[named_beers_df['이름'].duplicated()].sort_values('이름')"
   ]
  },
  {
   "cell_type": "markdown",
   "id": "a4812c32",
   "metadata": {},
   "source": [
    "중복되는 값들은 drop하는 게 좋겠다."
   ]
  },
  {
   "cell_type": "code",
   "execution_count": 4,
   "id": "cbfc5f2c",
   "metadata": {
    "ExecuteTime": {
     "end_time": "2023-11-21T05:28:33.025037Z",
     "start_time": "2023-11-21T05:28:32.987527Z"
    }
   },
   "outputs": [
    {
     "data": {
      "text/html": [
       "<div>\n",
       "<style scoped>\n",
       "    .dataframe tbody tr th:only-of-type {\n",
       "        vertical-align: middle;\n",
       "    }\n",
       "\n",
       "    .dataframe tbody tr th {\n",
       "        vertical-align: top;\n",
       "    }\n",
       "\n",
       "    .dataframe thead th {\n",
       "        text-align: right;\n",
       "    }\n",
       "</style>\n",
       "<table border=\"1\" class=\"dataframe\">\n",
       "  <thead>\n",
       "    <tr style=\"text-align: right;\">\n",
       "      <th></th>\n",
       "      <th>알코올 도수</th>\n",
       "      <th>쓴 정도</th>\n",
       "      <th>id</th>\n",
       "      <th>이름</th>\n",
       "      <th>스타일</th>\n",
       "      <th>brewery_id</th>\n",
       "      <th>질량</th>\n",
       "    </tr>\n",
       "  </thead>\n",
       "  <tbody>\n",
       "    <tr>\n",
       "      <th>0</th>\n",
       "      <td>0.050</td>\n",
       "      <td>NaN</td>\n",
       "      <td>1436</td>\n",
       "      <td>Pub Beer</td>\n",
       "      <td>American Pale Lager</td>\n",
       "      <td>408</td>\n",
       "      <td>12.0</td>\n",
       "    </tr>\n",
       "    <tr>\n",
       "      <th>1</th>\n",
       "      <td>0.066</td>\n",
       "      <td>NaN</td>\n",
       "      <td>2265</td>\n",
       "      <td>Devil's Cup</td>\n",
       "      <td>American Pale Ale (APA)</td>\n",
       "      <td>177</td>\n",
       "      <td>12.0</td>\n",
       "    </tr>\n",
       "    <tr>\n",
       "      <th>2</th>\n",
       "      <td>0.071</td>\n",
       "      <td>NaN</td>\n",
       "      <td>2264</td>\n",
       "      <td>Rise of the Phoenix</td>\n",
       "      <td>American IPA</td>\n",
       "      <td>177</td>\n",
       "      <td>12.0</td>\n",
       "    </tr>\n",
       "    <tr>\n",
       "      <th>3</th>\n",
       "      <td>0.090</td>\n",
       "      <td>NaN</td>\n",
       "      <td>2263</td>\n",
       "      <td>Sinister</td>\n",
       "      <td>American Double / Imperial IPA</td>\n",
       "      <td>177</td>\n",
       "      <td>12.0</td>\n",
       "    </tr>\n",
       "    <tr>\n",
       "      <th>4</th>\n",
       "      <td>0.075</td>\n",
       "      <td>NaN</td>\n",
       "      <td>2262</td>\n",
       "      <td>Sex and Candy</td>\n",
       "      <td>American IPA</td>\n",
       "      <td>177</td>\n",
       "      <td>12.0</td>\n",
       "    </tr>\n",
       "    <tr>\n",
       "      <th>...</th>\n",
       "      <td>...</td>\n",
       "      <td>...</td>\n",
       "      <td>...</td>\n",
       "      <td>...</td>\n",
       "      <td>...</td>\n",
       "      <td>...</td>\n",
       "      <td>...</td>\n",
       "    </tr>\n",
       "    <tr>\n",
       "      <th>2405</th>\n",
       "      <td>0.067</td>\n",
       "      <td>45.0</td>\n",
       "      <td>928</td>\n",
       "      <td>Belgorado</td>\n",
       "      <td>Belgian IPA</td>\n",
       "      <td>424</td>\n",
       "      <td>12.0</td>\n",
       "    </tr>\n",
       "    <tr>\n",
       "      <th>2406</th>\n",
       "      <td>0.052</td>\n",
       "      <td>NaN</td>\n",
       "      <td>807</td>\n",
       "      <td>Rail Yard Ale</td>\n",
       "      <td>American Amber / Red Ale</td>\n",
       "      <td>424</td>\n",
       "      <td>12.0</td>\n",
       "    </tr>\n",
       "    <tr>\n",
       "      <th>2407</th>\n",
       "      <td>0.055</td>\n",
       "      <td>NaN</td>\n",
       "      <td>620</td>\n",
       "      <td>B3K Black Lager</td>\n",
       "      <td>Schwarzbier</td>\n",
       "      <td>424</td>\n",
       "      <td>12.0</td>\n",
       "    </tr>\n",
       "    <tr>\n",
       "      <th>2408</th>\n",
       "      <td>0.055</td>\n",
       "      <td>40.0</td>\n",
       "      <td>145</td>\n",
       "      <td>Silverback Pale Ale</td>\n",
       "      <td>American Pale Ale (APA)</td>\n",
       "      <td>424</td>\n",
       "      <td>12.0</td>\n",
       "    </tr>\n",
       "    <tr>\n",
       "      <th>2409</th>\n",
       "      <td>0.052</td>\n",
       "      <td>NaN</td>\n",
       "      <td>84</td>\n",
       "      <td>Rail Yard Ale (2009)</td>\n",
       "      <td>American Amber / Red Ale</td>\n",
       "      <td>424</td>\n",
       "      <td>12.0</td>\n",
       "    </tr>\n",
       "  </tbody>\n",
       "</table>\n",
       "<p>2305 rows × 7 columns</p>\n",
       "</div>"
      ],
      "text/plain": [
       "      알코올 도수  쓴 정도    id                    이름  \\\n",
       "0      0.050   NaN  1436              Pub Beer   \n",
       "1      0.066   NaN  2265           Devil's Cup   \n",
       "2      0.071   NaN  2264   Rise of the Phoenix   \n",
       "3      0.090   NaN  2263              Sinister   \n",
       "4      0.075   NaN  2262         Sex and Candy   \n",
       "...      ...   ...   ...                   ...   \n",
       "2405   0.067  45.0   928             Belgorado   \n",
       "2406   0.052   NaN   807         Rail Yard Ale   \n",
       "2407   0.055   NaN   620       B3K Black Lager   \n",
       "2408   0.055  40.0   145   Silverback Pale Ale   \n",
       "2409   0.052   NaN    84  Rail Yard Ale (2009)   \n",
       "\n",
       "                                 스타일  brewery_id    질량  \n",
       "0                American Pale Lager         408  12.0  \n",
       "1            American Pale Ale (APA)         177  12.0  \n",
       "2                       American IPA         177  12.0  \n",
       "3     American Double / Imperial IPA         177  12.0  \n",
       "4                       American IPA         177  12.0  \n",
       "...                              ...         ...   ...  \n",
       "2405                     Belgian IPA         424  12.0  \n",
       "2406        American Amber / Red Ale         424  12.0  \n",
       "2407                     Schwarzbier         424  12.0  \n",
       "2408         American Pale Ale (APA)         424  12.0  \n",
       "2409        American Amber / Red Ale         424  12.0  \n",
       "\n",
       "[2305 rows x 7 columns]"
      ]
     },
     "execution_count": 4,
     "metadata": {},
     "output_type": "execute_result"
    }
   ],
   "source": [
    "named_beers_df.drop_duplicates('이름', inplace=True)\n",
    "named_beers_df"
   ]
  },
  {
   "cell_type": "markdown",
   "id": "b3c238e3",
   "metadata": {},
   "source": [
    "#### 2-1-3. 컬럼별 분포 확인(알코올 도수)"
   ]
  },
  {
   "cell_type": "code",
   "execution_count": 121,
   "id": "5b1f0021",
   "metadata": {
    "ExecuteTime": {
     "end_time": "2023-11-19T07:38:32.592946Z",
     "start_time": "2023-11-19T07:38:32.567607Z"
    }
   },
   "outputs": [
    {
     "data": {
      "text/html": [
       "<div>\n",
       "<style scoped>\n",
       "    .dataframe tbody tr th:only-of-type {\n",
       "        vertical-align: middle;\n",
       "    }\n",
       "\n",
       "    .dataframe tbody tr th {\n",
       "        vertical-align: top;\n",
       "    }\n",
       "\n",
       "    .dataframe thead th {\n",
       "        text-align: right;\n",
       "    }\n",
       "</style>\n",
       "<table border=\"1\" class=\"dataframe\">\n",
       "  <thead>\n",
       "    <tr style=\"text-align: right;\">\n",
       "      <th></th>\n",
       "      <th>알코올 도수</th>\n",
       "    </tr>\n",
       "  </thead>\n",
       "  <tbody>\n",
       "    <tr>\n",
       "      <th>count</th>\n",
       "      <td>2245.000000</td>\n",
       "    </tr>\n",
       "    <tr>\n",
       "      <th>mean</th>\n",
       "      <td>0.059923</td>\n",
       "    </tr>\n",
       "    <tr>\n",
       "      <th>std</th>\n",
       "      <td>0.013555</td>\n",
       "    </tr>\n",
       "    <tr>\n",
       "      <th>min</th>\n",
       "      <td>0.001000</td>\n",
       "    </tr>\n",
       "    <tr>\n",
       "      <th>25%</th>\n",
       "      <td>0.050000</td>\n",
       "    </tr>\n",
       "    <tr>\n",
       "      <th>50%</th>\n",
       "      <td>0.057000</td>\n",
       "    </tr>\n",
       "    <tr>\n",
       "      <th>75%</th>\n",
       "      <td>0.068000</td>\n",
       "    </tr>\n",
       "    <tr>\n",
       "      <th>max</th>\n",
       "      <td>0.128000</td>\n",
       "    </tr>\n",
       "  </tbody>\n",
       "</table>\n",
       "</div>"
      ],
      "text/plain": [
       "            알코올 도수\n",
       "count  2245.000000\n",
       "mean      0.059923\n",
       "std       0.013555\n",
       "min       0.001000\n",
       "25%       0.050000\n",
       "50%       0.057000\n",
       "75%       0.068000\n",
       "max       0.128000"
      ]
     },
     "execution_count": 121,
     "metadata": {},
     "output_type": "execute_result"
    }
   ],
   "source": [
    "named_beers_df['알코올 도수'].describe().to_frame()"
   ]
  },
  {
   "cell_type": "code",
   "execution_count": 123,
   "id": "2d1ea7e8",
   "metadata": {
    "ExecuteTime": {
     "end_time": "2023-11-19T07:38:38.779475Z",
     "start_time": "2023-11-19T07:38:38.655082Z"
    }
   },
   "outputs": [
    {
     "data": {
      "image/png": "[encoded data removed]",
      "text/plain": [
       "<Figure size 640x480 with 1 Axes>"
      ]
     },
     "metadata": {},
     "output_type": "display_data"
    }
   ],
   "source": [
    "named_beers_df['알코올 도수'].plot(kind='box')\n",
    "plt.title('알코올 도수 분포')\n",
    "plt.show()"
   ]
  },
  {
   "cell_type": "markdown",
   "id": "4d89a1fc",
   "metadata": {},
   "source": [
    "우리가 흔히 생각하는 맥주의 도수에 분포가 몰려있는데, 12도 이상의 높은 분포를 보이는 맥주들도 있다."
   ]
  },
  {
   "cell_type": "code",
   "execution_count": 124,
   "id": "6f16f9a3",
   "metadata": {
    "ExecuteTime": {
     "end_time": "2023-11-19T07:38:46.017196Z",
     "start_time": "2023-11-19T07:38:45.984703Z"
    }
   },
   "outputs": [
    {
     "data": {
      "text/html": [
       "<div>\n",
       "<style scoped>\n",
       "    .dataframe tbody tr th:only-of-type {\n",
       "        vertical-align: middle;\n",
       "    }\n",
       "\n",
       "    .dataframe tbody tr th {\n",
       "        vertical-align: top;\n",
       "    }\n",
       "\n",
       "    .dataframe thead th {\n",
       "        text-align: right;\n",
       "    }\n",
       "</style>\n",
       "<table border=\"1\" class=\"dataframe\">\n",
       "  <thead>\n",
       "    <tr style=\"text-align: right;\">\n",
       "      <th></th>\n",
       "      <th>알코올 도수</th>\n",
       "      <th>쓴 정도</th>\n",
       "      <th>id</th>\n",
       "      <th>이름</th>\n",
       "      <th>스타일</th>\n",
       "      <th>brewery_id</th>\n",
       "      <th>질량</th>\n",
       "    </tr>\n",
       "  </thead>\n",
       "  <tbody>\n",
       "    <tr>\n",
       "      <th>2278</th>\n",
       "      <td>0.128</td>\n",
       "      <td>NaN</td>\n",
       "      <td>2565</td>\n",
       "      <td>Lee Hill Series Vol. 5 - Belgian Style Quadrup...</td>\n",
       "      <td>Quadrupel (Quad)</td>\n",
       "      <td>51</td>\n",
       "      <td>19.2</td>\n",
       "    </tr>\n",
       "  </tbody>\n",
       "</table>\n",
       "</div>"
      ],
      "text/plain": [
       "      알코올 도수  쓴 정도    id                                                 이름  \\\n",
       "2278   0.128   NaN  2565  Lee Hill Series Vol. 5 - Belgian Style Quadrup...   \n",
       "\n",
       "                   스타일  brewery_id    질량  \n",
       "2278  Quadrupel (Quad)          51  19.2  "
      ]
     },
     "execution_count": 124,
     "metadata": {},
     "output_type": "execute_result"
    }
   ],
   "source": [
    "named_beers_df[named_beers_df['알코올 도수'] == np.max(named_beers_df['알코올 도수'])]"
   ]
  },
  {
   "cell_type": "markdown",
   "id": "7ea69e17",
   "metadata": {},
   "source": [
    "알코올 도수가 최대값인 맥주는 Lee Hill Series Vol. 5 - Belgian Style Quadrup... 로 12.8%에 달한다."
   ]
  },
  {
   "cell_type": "code",
   "execution_count": 125,
   "id": "64948955",
   "metadata": {
    "ExecuteTime": {
     "end_time": "2023-11-19T07:38:48.874324Z",
     "start_time": "2023-11-19T07:38:48.855968Z"
    }
   },
   "outputs": [
    {
     "data": {
      "text/html": [
       "<div>\n",
       "<style scoped>\n",
       "    .dataframe tbody tr th:only-of-type {\n",
       "        vertical-align: middle;\n",
       "    }\n",
       "\n",
       "    .dataframe tbody tr th {\n",
       "        vertical-align: top;\n",
       "    }\n",
       "\n",
       "    .dataframe thead th {\n",
       "        text-align: right;\n",
       "    }\n",
       "</style>\n",
       "<table border=\"1\" class=\"dataframe\">\n",
       "  <thead>\n",
       "    <tr style=\"text-align: right;\">\n",
       "      <th></th>\n",
       "      <th>알코올 도수</th>\n",
       "      <th>쓴 정도</th>\n",
       "      <th>id</th>\n",
       "      <th>이름</th>\n",
       "      <th>스타일</th>\n",
       "      <th>brewery_id</th>\n",
       "      <th>질량</th>\n",
       "    </tr>\n",
       "  </thead>\n",
       "  <tbody>\n",
       "    <tr>\n",
       "      <th>2266</th>\n",
       "      <td>0.001</td>\n",
       "      <td>NaN</td>\n",
       "      <td>606</td>\n",
       "      <td>Scotty K NA</td>\n",
       "      <td>Low Alcohol Beer</td>\n",
       "      <td>522</td>\n",
       "      <td>16.0</td>\n",
       "    </tr>\n",
       "  </tbody>\n",
       "</table>\n",
       "</div>"
      ],
      "text/plain": [
       "      알코올 도수  쓴 정도   id           이름               스타일  brewery_id    질량\n",
       "2266   0.001   NaN  606  Scotty K NA  Low Alcohol Beer         522  16.0"
      ]
     },
     "execution_count": 125,
     "metadata": {},
     "output_type": "execute_result"
    }
   ],
   "source": [
    "named_beers_df[named_beers_df['알코올 도수'] == np.min(named_beers_df['알코올 도수'])]"
   ]
  },
  {
   "cell_type": "markdown",
   "id": "62a55a1e",
   "metadata": {},
   "source": [
    "알코올 도수가 최소값인 맥주는 Scotty K NA로 0.1%다. 음료수 아님?"
   ]
  },
  {
   "cell_type": "code",
   "execution_count": 126,
   "id": "2a30c2fb",
   "metadata": {
    "ExecuteTime": {
     "end_time": "2023-11-19T07:38:51.090568Z",
     "start_time": "2023-11-19T07:38:51.071764Z"
    }
   },
   "outputs": [
    {
     "name": "stdout",
     "output_type": "stream",
     "text": [
      "결측치 개수: 60\n",
      "결측치 비율: 2.67%\n"
     ]
    }
   ],
   "source": [
    "print(f\"결측치 개수: {named_beers_df['알코올 도수'].isna().sum()}\")\n",
    "print(f\"결측치 비율: {round(named_beers_df['알코올 도수'].isna().sum() * 100 / named_beers_df['알코올 도수'].count(), 2)}%\")"
   ]
  },
  {
   "cell_type": "markdown",
   "id": "21b2076f",
   "metadata": {},
   "source": [
    "#### 2-1-3. 컬럼별 분포 확인(쓴 정도)"
   ]
  },
  {
   "cell_type": "code",
   "execution_count": 127,
   "id": "b7e6cb33",
   "metadata": {
    "ExecuteTime": {
     "end_time": "2023-11-19T07:38:54.337194Z",
     "start_time": "2023-11-19T07:38:54.304414Z"
    }
   },
   "outputs": [
    {
     "data": {
      "text/html": [
       "<div>\n",
       "<style scoped>\n",
       "    .dataframe tbody tr th:only-of-type {\n",
       "        vertical-align: middle;\n",
       "    }\n",
       "\n",
       "    .dataframe tbody tr th {\n",
       "        vertical-align: top;\n",
       "    }\n",
       "\n",
       "    .dataframe thead th {\n",
       "        text-align: right;\n",
       "    }\n",
       "</style>\n",
       "<table border=\"1\" class=\"dataframe\">\n",
       "  <thead>\n",
       "    <tr style=\"text-align: right;\">\n",
       "      <th></th>\n",
       "      <th>쓴 정도</th>\n",
       "    </tr>\n",
       "  </thead>\n",
       "  <tbody>\n",
       "    <tr>\n",
       "      <th>count</th>\n",
       "      <td>1326.000000</td>\n",
       "    </tr>\n",
       "    <tr>\n",
       "      <th>mean</th>\n",
       "      <td>42.957768</td>\n",
       "    </tr>\n",
       "    <tr>\n",
       "      <th>std</th>\n",
       "      <td>25.972636</td>\n",
       "    </tr>\n",
       "    <tr>\n",
       "      <th>min</th>\n",
       "      <td>4.000000</td>\n",
       "    </tr>\n",
       "    <tr>\n",
       "      <th>25%</th>\n",
       "      <td>22.000000</td>\n",
       "    </tr>\n",
       "    <tr>\n",
       "      <th>50%</th>\n",
       "      <td>35.000000</td>\n",
       "    </tr>\n",
       "    <tr>\n",
       "      <th>75%</th>\n",
       "      <td>64.000000</td>\n",
       "    </tr>\n",
       "    <tr>\n",
       "      <th>max</th>\n",
       "      <td>138.000000</td>\n",
       "    </tr>\n",
       "  </tbody>\n",
       "</table>\n",
       "</div>"
      ],
      "text/plain": [
       "              쓴 정도\n",
       "count  1326.000000\n",
       "mean     42.957768\n",
       "std      25.972636\n",
       "min       4.000000\n",
       "25%      22.000000\n",
       "50%      35.000000\n",
       "75%      64.000000\n",
       "max     138.000000"
      ]
     },
     "execution_count": 127,
     "metadata": {},
     "output_type": "execute_result"
    }
   ],
   "source": [
    "named_beers_df['쓴 정도'].describe().to_frame()"
   ]
  },
  {
   "cell_type": "code",
   "execution_count": 128,
   "id": "ff9b9f05",
   "metadata": {
    "ExecuteTime": {
     "end_time": "2023-11-19T07:38:58.061755Z",
     "start_time": "2023-11-19T07:38:57.951332Z"
    }
   },
   "outputs": [
    {
     "data": {
      "image/png": "[encoded data removed]",
      "text/plain": [
       "<Figure size 640x480 with 1 Axes>"
      ]
     },
     "metadata": {},
     "output_type": "display_data"
    }
   ],
   "source": [
    "named_beers_df['쓴 정도'].plot(kind='box')\n",
    "plt.title('쓴 정도(IBU) 분포')\n",
    "plt.show()"
   ]
  },
  {
   "cell_type": "markdown",
   "id": "f1898cec",
   "metadata": {},
   "source": [
    "쓴 정도는 21 ~ 64에 몰려있다. 찾아봤을 때에는 0부터 100까지의 스케일로 되어있다고 했는데 왜 138 같은 애가 있는지 잘 모르겠다."
   ]
  },
  {
   "cell_type": "code",
   "execution_count": 129,
   "id": "d8b23692",
   "metadata": {
    "ExecuteTime": {
     "end_time": "2023-11-19T07:39:19.110567Z",
     "start_time": "2023-11-19T07:39:19.080014Z"
    }
   },
   "outputs": [
    {
     "data": {
      "text/html": [
       "<div>\n",
       "<style scoped>\n",
       "    .dataframe tbody tr th:only-of-type {\n",
       "        vertical-align: middle;\n",
       "    }\n",
       "\n",
       "    .dataframe tbody tr th {\n",
       "        vertical-align: top;\n",
       "    }\n",
       "\n",
       "    .dataframe thead th {\n",
       "        text-align: right;\n",
       "    }\n",
       "</style>\n",
       "<table border=\"1\" class=\"dataframe\">\n",
       "  <thead>\n",
       "    <tr style=\"text-align: right;\">\n",
       "      <th></th>\n",
       "      <th>알코올 도수</th>\n",
       "      <th>쓴 정도</th>\n",
       "      <th>id</th>\n",
       "      <th>이름</th>\n",
       "      <th>스타일</th>\n",
       "      <th>brewery_id</th>\n",
       "      <th>질량</th>\n",
       "    </tr>\n",
       "  </thead>\n",
       "  <tbody>\n",
       "    <tr>\n",
       "      <th>147</th>\n",
       "      <td>0.082</td>\n",
       "      <td>138.0</td>\n",
       "      <td>980</td>\n",
       "      <td>Bitter Bitch Imperial IPA</td>\n",
       "      <td>American Double / Imperial IPA</td>\n",
       "      <td>374</td>\n",
       "      <td>12.0</td>\n",
       "    </tr>\n",
       "  </tbody>\n",
       "</table>\n",
       "</div>"
      ],
      "text/plain": [
       "     알코올 도수   쓴 정도   id                         이름  \\\n",
       "147   0.082  138.0  980  Bitter Bitch Imperial IPA   \n",
       "\n",
       "                                스타일  brewery_id    질량  \n",
       "147  American Double / Imperial IPA         374  12.0  "
      ]
     },
     "execution_count": 129,
     "metadata": {},
     "output_type": "execute_result"
    }
   ],
   "source": [
    "named_beers_df[named_beers_df['쓴 정도'] == np.max(named_beers_df['쓴 정도'])]"
   ]
  },
  {
   "cell_type": "markdown",
   "id": "cead1515",
   "metadata": {},
   "source": [
    "이름부터가 Bitter인 거 보니까 작정하고 쓰게 만들었나... 원래 맥주면 100 안에 들어와야 하는데 그것보다도 훨씬 써서 138인가?"
   ]
  },
  {
   "cell_type": "code",
   "execution_count": 130,
   "id": "65ac0e96",
   "metadata": {
    "ExecuteTime": {
     "end_time": "2023-11-19T07:39:20.478943Z",
     "start_time": "2023-11-19T07:39:20.448583Z"
    }
   },
   "outputs": [
    {
     "data": {
      "text/html": [
       "<div>\n",
       "<style scoped>\n",
       "    .dataframe tbody tr th:only-of-type {\n",
       "        vertical-align: middle;\n",
       "    }\n",
       "\n",
       "    .dataframe tbody tr th {\n",
       "        vertical-align: top;\n",
       "    }\n",
       "\n",
       "    .dataframe thead th {\n",
       "        text-align: right;\n",
       "    }\n",
       "</style>\n",
       "<table border=\"1\" class=\"dataframe\">\n",
       "  <thead>\n",
       "    <tr style=\"text-align: right;\">\n",
       "      <th></th>\n",
       "      <th>알코올 도수</th>\n",
       "      <th>쓴 정도</th>\n",
       "      <th>id</th>\n",
       "      <th>이름</th>\n",
       "      <th>스타일</th>\n",
       "      <th>brewery_id</th>\n",
       "      <th>질량</th>\n",
       "    </tr>\n",
       "  </thead>\n",
       "  <tbody>\n",
       "    <tr>\n",
       "      <th>106</th>\n",
       "      <td>0.056</td>\n",
       "      <td>4.0</td>\n",
       "      <td>1350</td>\n",
       "      <td>Summer Solstice</td>\n",
       "      <td>Cream Ale</td>\n",
       "      <td>171</td>\n",
       "      <td>12.0</td>\n",
       "    </tr>\n",
       "    <tr>\n",
       "      <th>112</th>\n",
       "      <td>0.056</td>\n",
       "      <td>4.0</td>\n",
       "      <td>753</td>\n",
       "      <td>Summer Solstice Cerveza Crema (2009)</td>\n",
       "      <td>Cream Ale</td>\n",
       "      <td>171</td>\n",
       "      <td>12.0</td>\n",
       "    </tr>\n",
       "    <tr>\n",
       "      <th>117</th>\n",
       "      <td>0.056</td>\n",
       "      <td>4.0</td>\n",
       "      <td>77</td>\n",
       "      <td>Summer Solstice (2011)</td>\n",
       "      <td>Cream Ale</td>\n",
       "      <td>171</td>\n",
       "      <td>12.0</td>\n",
       "    </tr>\n",
       "  </tbody>\n",
       "</table>\n",
       "</div>"
      ],
      "text/plain": [
       "     알코올 도수  쓴 정도    id                                    이름        스타일  \\\n",
       "106   0.056   4.0  1350                       Summer Solstice  Cream Ale   \n",
       "112   0.056   4.0   753  Summer Solstice Cerveza Crema (2009)  Cream Ale   \n",
       "117   0.056   4.0    77                Summer Solstice (2011)  Cream Ale   \n",
       "\n",
       "     brewery_id    질량  \n",
       "106         171  12.0  \n",
       "112         171  12.0  \n",
       "117         171  12.0  "
      ]
     },
     "execution_count": 130,
     "metadata": {},
     "output_type": "execute_result"
    }
   ],
   "source": [
    "named_beers_df[named_beers_df['쓴 정도'] == np.min(named_beers_df['쓴 정도'])]"
   ]
  },
  {
   "cell_type": "markdown",
   "id": "7adf2967",
   "metadata": {},
   "source": [
    "나는 쓴 맛을 싫어해서 이 친구들이 가장 좋을 것 같다. 셋 다 Cream Ale 스타일인 걸 보면 나중에 스타일별로 알코올 도수, 쓴 정도 보는 것도 재밌겠다."
   ]
  },
  {
   "cell_type": "code",
   "execution_count": 131,
   "id": "cf1a2707",
   "metadata": {
    "ExecuteTime": {
     "end_time": "2023-11-19T07:39:42.530695Z",
     "start_time": "2023-11-19T07:39:42.512388Z"
    }
   },
   "outputs": [
    {
     "name": "stdout",
     "output_type": "stream",
     "text": [
      "결측치 개수: 979\n",
      "결측치 비율: 43.61%\n"
     ]
    }
   ],
   "source": [
    "print(f\"결측치 개수: {named_beers_df['쓴 정도'].isna().sum()}\")\n",
    "print(f\"결측치 비율: {round(named_beers_df['쓴 정도'].isna().sum() * 100 / named_beers_df['알코올 도수'].count(), 2)}%\")"
   ]
  },
  {
   "cell_type": "markdown",
   "id": "98a1b1dc",
   "metadata": {},
   "source": [
    "결측치 겁나 많네..."
   ]
  },
  {
   "cell_type": "markdown",
   "id": "7ff5f2f7",
   "metadata": {},
   "source": [
    "#### 2-1-5. 컬럼별 분포 확인(스타일)"
   ]
  },
  {
   "cell_type": "code",
   "execution_count": 132,
   "id": "a36c2468",
   "metadata": {
    "ExecuteTime": {
     "end_time": "2023-11-19T07:39:50.517158Z",
     "start_time": "2023-11-19T07:39:50.495626Z"
    }
   },
   "outputs": [
    {
     "data": {
      "text/plain": [
       "99"
      ]
     },
     "execution_count": 132,
     "metadata": {},
     "output_type": "execute_result"
    }
   ],
   "source": [
    "named_beers_df['스타일'].nunique()"
   ]
  },
  {
   "cell_type": "code",
   "execution_count": 133,
   "id": "f8d90cf3",
   "metadata": {
    "ExecuteTime": {
     "end_time": "2023-11-19T07:39:51.286449Z",
     "start_time": "2023-11-19T07:39:51.256437Z"
    }
   },
   "outputs": [
    {
     "data": {
      "text/html": [
       "<div>\n",
       "<style scoped>\n",
       "    .dataframe tbody tr th:only-of-type {\n",
       "        vertical-align: middle;\n",
       "    }\n",
       "\n",
       "    .dataframe tbody tr th {\n",
       "        vertical-align: top;\n",
       "    }\n",
       "\n",
       "    .dataframe thead th {\n",
       "        text-align: right;\n",
       "    }\n",
       "</style>\n",
       "<table border=\"1\" class=\"dataframe\">\n",
       "  <thead>\n",
       "    <tr style=\"text-align: right;\">\n",
       "      <th></th>\n",
       "      <th>개수</th>\n",
       "    </tr>\n",
       "  </thead>\n",
       "  <tbody>\n",
       "    <tr>\n",
       "      <th>American IPA</th>\n",
       "      <td>409</td>\n",
       "    </tr>\n",
       "    <tr>\n",
       "      <th>American Pale Ale (APA)</th>\n",
       "      <td>233</td>\n",
       "    </tr>\n",
       "    <tr>\n",
       "      <th>American Amber / Red Ale</th>\n",
       "      <td>131</td>\n",
       "    </tr>\n",
       "    <tr>\n",
       "      <th>American Blonde Ale</th>\n",
       "      <td>103</td>\n",
       "    </tr>\n",
       "    <tr>\n",
       "      <th>American Double / Imperial IPA</th>\n",
       "      <td>99</td>\n",
       "    </tr>\n",
       "    <tr>\n",
       "      <th>...</th>\n",
       "      <td>...</td>\n",
       "    </tr>\n",
       "    <tr>\n",
       "      <th>American Malt Liquor</th>\n",
       "      <td>1</td>\n",
       "    </tr>\n",
       "    <tr>\n",
       "      <th>Wheat Ale</th>\n",
       "      <td>1</td>\n",
       "    </tr>\n",
       "    <tr>\n",
       "      <th>Flanders Red Ale</th>\n",
       "      <td>1</td>\n",
       "    </tr>\n",
       "    <tr>\n",
       "      <th>Kristalweizen</th>\n",
       "      <td>1</td>\n",
       "    </tr>\n",
       "    <tr>\n",
       "      <th>Low Alcohol Beer</th>\n",
       "      <td>1</td>\n",
       "    </tr>\n",
       "  </tbody>\n",
       "</table>\n",
       "<p>99 rows × 1 columns</p>\n",
       "</div>"
      ],
      "text/plain": [
       "                                 개수\n",
       "American IPA                    409\n",
       "American Pale Ale (APA)         233\n",
       "American Amber / Red Ale        131\n",
       "American Blonde Ale             103\n",
       "American Double / Imperial IPA   99\n",
       "...                             ...\n",
       "American Malt Liquor              1\n",
       "Wheat Ale                         1\n",
       "Flanders Red Ale                  1\n",
       "Kristalweizen                     1\n",
       "Low Alcohol Beer                  1\n",
       "\n",
       "[99 rows x 1 columns]"
      ]
     },
     "execution_count": 133,
     "metadata": {},
     "output_type": "execute_result"
    }
   ],
   "source": [
    "beer_styles_df = named_beers_df['스타일'].value_counts().to_frame().rename(columns={'스타일': '개수'})\n",
    "beer_styles_df"
   ]
  },
  {
   "cell_type": "code",
   "execution_count": 134,
   "id": "e9efca27",
   "metadata": {
    "ExecuteTime": {
     "end_time": "2023-11-19T07:39:53.679429Z",
     "start_time": "2023-11-19T07:39:53.657338Z"
    }
   },
   "outputs": [
    {
     "name": "stdout",
     "output_type": "stream",
     "text": [
      "개수가 10개 미만인 스타일: 51종\n",
      "개수가 10개 이상 50개 미만인 스타일: 38종\n",
      "개수가 50개 이상인 스타일: 10종\n"
     ]
    }
   ],
   "source": [
    "print(\"개수가 10개 미만인 스타일:\", end=' ')\n",
    "print(f\"{int(beer_styles_df[beer_styles_df['개수'] < 10].count())}종\")\n",
    "\n",
    "print(\"개수가 10개 이상 50개 미만인 스타일:\", end=' ')\n",
    "print(f\"{int(beer_styles_df[(beer_styles_df['개수'] >= 10) & (beer_styles_df['개수'] < 50)].count())}종\")\n",
    "\n",
    "print(\"개수가 50개 이상인 스타일:\", end=' ')\n",
    "print(f\"{int(beer_styles_df[beer_styles_df['개수'] >= 50].count())}종\")"
   ]
  },
  {
   "cell_type": "code",
   "execution_count": 169,
   "id": "1289648b",
   "metadata": {
    "ExecuteTime": {
     "end_time": "2023-11-19T07:50:51.988443Z",
     "start_time": "2023-11-19T07:50:51.846757Z"
    }
   },
   "outputs": [
    {
     "data": {
      "image/png": "[encoded data removed]",
      "text/plain": [
       "<Figure size 640x480 with 1 Axes>"
      ]
     },
     "metadata": {},
     "output_type": "display_data"
    }
   ],
   "source": [
    "pd.DataFrame({\n",
    "    '10개 미만': int(beer_styles_df[beer_styles_df['개수'] < 10].count()),\n",
    "    '10개 이상 50개 미만': int(beer_styles_df[(beer_styles_df['개수'] >= 10) & (beer_styles_df['개수'] < 50)].count()),\n",
    "    '50개 이상': int(beer_styles_df[beer_styles_df['개수'] >= 50].count())\n",
    "}, index=['맥주 스타일 빈도']).T.plot(kind='bar')\n",
    "\n",
    "plt.title('스타일별 맥주 개수 분포')\n",
    "plt.show()"
   ]
  },
  {
   "cell_type": "markdown",
   "id": "858a1581",
   "metadata": {},
   "source": [
    "개수가 10개 미만인 스타일이 51종이나 있다."
   ]
  },
  {
   "cell_type": "code",
   "execution_count": 170,
   "id": "7c82496f",
   "metadata": {
    "ExecuteTime": {
     "end_time": "2023-11-19T07:51:29.717521Z",
     "start_time": "2023-11-19T07:51:29.690145Z"
    }
   },
   "outputs": [
    {
     "data": {
      "text/html": [
       "<div>\n",
       "<style scoped>\n",
       "    .dataframe tbody tr th:only-of-type {\n",
       "        vertical-align: middle;\n",
       "    }\n",
       "\n",
       "    .dataframe tbody tr th {\n",
       "        vertical-align: top;\n",
       "    }\n",
       "\n",
       "    .dataframe thead th {\n",
       "        text-align: right;\n",
       "    }\n",
       "</style>\n",
       "<table border=\"1\" class=\"dataframe\">\n",
       "  <thead>\n",
       "    <tr style=\"text-align: right;\">\n",
       "      <th></th>\n",
       "      <th>맥주 스타일 빈도</th>\n",
       "    </tr>\n",
       "    <tr>\n",
       "      <th>개수</th>\n",
       "      <th></th>\n",
       "    </tr>\n",
       "  </thead>\n",
       "  <tbody>\n",
       "    <tr>\n",
       "      <th>1</th>\n",
       "      <td>10</td>\n",
       "    </tr>\n",
       "    <tr>\n",
       "      <th>2</th>\n",
       "      <td>7</td>\n",
       "    </tr>\n",
       "    <tr>\n",
       "      <th>3</th>\n",
       "      <td>9</td>\n",
       "    </tr>\n",
       "    <tr>\n",
       "      <th>4</th>\n",
       "      <td>4</td>\n",
       "    </tr>\n",
       "    <tr>\n",
       "      <th>5</th>\n",
       "      <td>5</td>\n",
       "    </tr>\n",
       "    <tr>\n",
       "      <th>6</th>\n",
       "      <td>8</td>\n",
       "    </tr>\n",
       "    <tr>\n",
       "      <th>7</th>\n",
       "      <td>4</td>\n",
       "    </tr>\n",
       "    <tr>\n",
       "      <th>9</th>\n",
       "      <td>4</td>\n",
       "    </tr>\n",
       "  </tbody>\n",
       "</table>\n",
       "</div>"
      ],
      "text/plain": [
       "    맥주 스타일 빈도\n",
       "개수           \n",
       "1          10\n",
       "2           7\n",
       "3           9\n",
       "4           4\n",
       "5           5\n",
       "6           8\n",
       "7           4\n",
       "9           4"
      ]
     },
     "execution_count": 170,
     "metadata": {},
     "output_type": "execute_result"
    }
   ],
   "source": [
    "beer_styles_df[beer_styles_df['개수'] < 10]['개수'].value_counts().to_frame().reset_index().rename(columns={\n",
    "    '개수': '맥주 스타일 빈도',\n",
    "    'index': '개수'\n",
    "}).sort_values('개수').set_index('개수')"
   ]
  },
  {
   "cell_type": "markdown",
   "id": "471f95d1",
   "metadata": {},
   "source": [
    "보니까 개수가 1개뿐인 스타일도 10종이나 있다. 맥주 스타일이 이렇게 다양하게 있구나..."
   ]
  },
  {
   "cell_type": "markdown",
   "id": "9bd7e546",
   "metadata": {},
   "source": [
    "#### 2-1-6. 컬럼별 분포 확인(질량)"
   ]
  },
  {
   "cell_type": "code",
   "execution_count": 136,
   "id": "599a6d18",
   "metadata": {
    "ExecuteTime": {
     "end_time": "2023-11-19T07:40:08.489645Z",
     "start_time": "2023-11-19T07:40:08.470318Z"
    }
   },
   "outputs": [
    {
     "data": {
      "text/plain": [
       "count    2305.000000\n",
       "mean       13.587375\n",
       "std         2.363536\n",
       "min         8.400000\n",
       "25%        12.000000\n",
       "50%        12.000000\n",
       "75%        16.000000\n",
       "max        32.000000\n",
       "Name: 질량, dtype: float64"
      ]
     },
     "execution_count": 136,
     "metadata": {},
     "output_type": "execute_result"
    }
   ],
   "source": [
    "named_beers_df['질량'].describe()"
   ]
  },
  {
   "cell_type": "code",
   "execution_count": 137,
   "id": "9d52b48f",
   "metadata": {
    "ExecuteTime": {
     "end_time": "2023-11-19T07:40:10.504290Z",
     "start_time": "2023-11-19T07:40:10.392431Z"
    }
   },
   "outputs": [
    {
     "data": {
      "image/png": "[encoded data removed]",
      "text/plain": [
       "<Figure size 640x480 with 1 Axes>"
      ]
     },
     "metadata": {},
     "output_type": "display_data"
    }
   ],
   "source": [
    "named_beers_df['질량'].plot(kind='box')\n",
    "plt.title('질량의 분포')\n",
    "plt.ylabel('질량(온스)')\n",
    "plt.show()"
   ]
  },
  {
   "cell_type": "markdown",
   "id": "9792e679",
   "metadata": {},
   "source": [
    "12온스가 압도적으로 많은 분포를 띠는 모양이다. 12온스는 약 340g이다. 우리가 흔히 보는 355ml짜리 캔을 말하는 것 같다."
   ]
  },
  {
   "cell_type": "code",
   "execution_count": 138,
   "id": "ac01de3d",
   "metadata": {
    "ExecuteTime": {
     "end_time": "2023-11-19T07:40:14.116596Z",
     "start_time": "2023-11-19T07:40:14.102064Z"
    }
   },
   "outputs": [
    {
     "data": {
      "text/plain": [
       "12.0    1463\n",
       "16.0     800\n",
       "24.0      22\n",
       "19.2      13\n",
       "32.0       5\n",
       "8.4        1\n",
       "16.9       1\n",
       "Name: 질량, dtype: int64"
      ]
     },
     "execution_count": 138,
     "metadata": {},
     "output_type": "execute_result"
    }
   ],
   "source": [
    "named_beers_df['질량'].value_counts()"
   ]
  },
  {
   "cell_type": "markdown",
   "id": "123f02ce",
   "metadata": {},
   "source": [
    "16온스는 454g이니까 500ml 캔인 것 같다. 역시 355ml와 500ml 용량이 압도적인 분포를 보인다."
   ]
  },
  {
   "cell_type": "code",
   "execution_count": 139,
   "id": "a122e11e",
   "metadata": {
    "ExecuteTime": {
     "end_time": "2023-11-19T07:40:17.400607Z",
     "start_time": "2023-11-19T07:40:17.368371Z"
    }
   },
   "outputs": [
    {
     "data": {
      "text/html": [
       "<div>\n",
       "<style scoped>\n",
       "    .dataframe tbody tr th:only-of-type {\n",
       "        vertical-align: middle;\n",
       "    }\n",
       "\n",
       "    .dataframe tbody tr th {\n",
       "        vertical-align: top;\n",
       "    }\n",
       "\n",
       "    .dataframe thead th {\n",
       "        text-align: right;\n",
       "    }\n",
       "</style>\n",
       "<table border=\"1\" class=\"dataframe\">\n",
       "  <thead>\n",
       "    <tr style=\"text-align: right;\">\n",
       "      <th></th>\n",
       "      <th>알코올 도수</th>\n",
       "      <th>쓴 정도</th>\n",
       "      <th>id</th>\n",
       "      <th>이름</th>\n",
       "      <th>스타일</th>\n",
       "      <th>brewery_id</th>\n",
       "      <th>질량</th>\n",
       "    </tr>\n",
       "  </thead>\n",
       "  <tbody>\n",
       "    <tr>\n",
       "      <th>1374</th>\n",
       "      <td>0.050</td>\n",
       "      <td>NaN</td>\n",
       "      <td>2442</td>\n",
       "      <td>Cortez Gold</td>\n",
       "      <td>Belgian Pale Ale</td>\n",
       "      <td>98</td>\n",
       "      <td>32.0</td>\n",
       "    </tr>\n",
       "    <tr>\n",
       "      <th>1375</th>\n",
       "      <td>0.068</td>\n",
       "      <td>66.0</td>\n",
       "      <td>2441</td>\n",
       "      <td>Mission IPA</td>\n",
       "      <td>American IPA</td>\n",
       "      <td>98</td>\n",
       "      <td>32.0</td>\n",
       "    </tr>\n",
       "    <tr>\n",
       "      <th>1376</th>\n",
       "      <td>0.048</td>\n",
       "      <td>44.0</td>\n",
       "      <td>1460</td>\n",
       "      <td>El Conquistador Extra Pale Ale</td>\n",
       "      <td>American Pale Ale (APA)</td>\n",
       "      <td>98</td>\n",
       "      <td>32.0</td>\n",
       "    </tr>\n",
       "    <tr>\n",
       "      <th>1377</th>\n",
       "      <td>0.092</td>\n",
       "      <td>75.0</td>\n",
       "      <td>1459</td>\n",
       "      <td>Shipwrecked Double IPA</td>\n",
       "      <td>American Double / Imperial IPA</td>\n",
       "      <td>98</td>\n",
       "      <td>32.0</td>\n",
       "    </tr>\n",
       "    <tr>\n",
       "      <th>1554</th>\n",
       "      <td>NaN</td>\n",
       "      <td>NaN</td>\n",
       "      <td>1796</td>\n",
       "      <td>The CROWLER™</td>\n",
       "      <td>NaN</td>\n",
       "      <td>166</td>\n",
       "      <td>32.0</td>\n",
       "    </tr>\n",
       "  </tbody>\n",
       "</table>\n",
       "</div>"
      ],
      "text/plain": [
       "      알코올 도수  쓴 정도    id                              이름  \\\n",
       "1374   0.050   NaN  2442                     Cortez Gold   \n",
       "1375   0.068  66.0  2441                     Mission IPA   \n",
       "1376   0.048  44.0  1460  El Conquistador Extra Pale Ale   \n",
       "1377   0.092  75.0  1459          Shipwrecked Double IPA   \n",
       "1554     NaN   NaN  1796                    The CROWLER™   \n",
       "\n",
       "                                 스타일  brewery_id    질량  \n",
       "1374                Belgian Pale Ale          98  32.0  \n",
       "1375                    American IPA          98  32.0  \n",
       "1376         American Pale Ale (APA)          98  32.0  \n",
       "1377  American Double / Imperial IPA          98  32.0  \n",
       "1554                             NaN         166  32.0  "
      ]
     },
     "execution_count": 139,
     "metadata": {},
     "output_type": "execute_result"
    }
   ],
   "source": [
    "named_beers_df[named_beers_df['질량'] == np.max(named_beers_df['질량'])]"
   ]
  },
  {
   "cell_type": "markdown",
   "id": "8a6c5f6f",
   "metadata": {},
   "source": [
    "가장 큰 맥주는 32온스(=907g)이다. 분명 캔맥주 데이터랬는데 1L짜리 캔이 있다고?!"
   ]
  },
  {
   "cell_type": "code",
   "execution_count": 140,
   "id": "2423c39e",
   "metadata": {
    "ExecuteTime": {
     "end_time": "2023-11-19T07:40:22.713053Z",
     "start_time": "2023-11-19T07:40:22.694703Z"
    }
   },
   "outputs": [
    {
     "data": {
      "text/html": [
       "<div>\n",
       "<style scoped>\n",
       "    .dataframe tbody tr th:only-of-type {\n",
       "        vertical-align: middle;\n",
       "    }\n",
       "\n",
       "    .dataframe tbody tr th {\n",
       "        vertical-align: top;\n",
       "    }\n",
       "\n",
       "    .dataframe thead th {\n",
       "        text-align: right;\n",
       "    }\n",
       "</style>\n",
       "<table border=\"1\" class=\"dataframe\">\n",
       "  <thead>\n",
       "    <tr style=\"text-align: right;\">\n",
       "      <th></th>\n",
       "      <th>알코올 도수</th>\n",
       "      <th>쓴 정도</th>\n",
       "      <th>id</th>\n",
       "      <th>이름</th>\n",
       "      <th>스타일</th>\n",
       "      <th>brewery_id</th>\n",
       "      <th>질량</th>\n",
       "    </tr>\n",
       "  </thead>\n",
       "  <tbody>\n",
       "    <tr>\n",
       "      <th>21</th>\n",
       "      <td>0.099</td>\n",
       "      <td>92.0</td>\n",
       "      <td>1036</td>\n",
       "      <td>Lower De Boom</td>\n",
       "      <td>American Barleywine</td>\n",
       "      <td>368</td>\n",
       "      <td>8.4</td>\n",
       "    </tr>\n",
       "  </tbody>\n",
       "</table>\n",
       "</div>"
      ],
      "text/plain": [
       "    알코올 도수  쓴 정도    id             이름                  스타일  brewery_id   질량\n",
       "21   0.099  92.0  1036  Lower De Boom  American Barleywine         368  8.4"
      ]
     },
     "execution_count": 140,
     "metadata": {},
     "output_type": "execute_result"
    }
   ],
   "source": [
    "named_beers_df[named_beers_df['질량'] == np.min(named_beers_df['질량'])]"
   ]
  },
  {
   "cell_type": "markdown",
   "id": "53cb6f0f",
   "metadata": {},
   "source": [
    "가장 작은 맥주는 8.4온스(=238g)이다. "
   ]
  },
  {
   "cell_type": "markdown",
   "id": "6c469c5b",
   "metadata": {},
   "source": [
    "### 2-2. breweries.csv"
   ]
  },
  {
   "cell_type": "markdown",
   "id": "38af2345",
   "metadata": {},
   "source": [
    "#### 2-2-1. 데이터 불러오기"
   ]
  },
  {
   "cell_type": "code",
   "execution_count": 5,
   "id": "648556b2",
   "metadata": {
    "ExecuteTime": {
     "end_time": "2023-11-21T05:29:21.961261Z",
     "start_time": "2023-11-21T05:29:21.939485Z"
    }
   },
   "outputs": [
    {
     "data": {
      "text/html": [
       "<div>\n",
       "<style scoped>\n",
       "    .dataframe tbody tr th:only-of-type {\n",
       "        vertical-align: middle;\n",
       "    }\n",
       "\n",
       "    .dataframe tbody tr th {\n",
       "        vertical-align: top;\n",
       "    }\n",
       "\n",
       "    .dataframe thead th {\n",
       "        text-align: right;\n",
       "    }\n",
       "</style>\n",
       "<table border=\"1\" class=\"dataframe\">\n",
       "  <thead>\n",
       "    <tr style=\"text-align: right;\">\n",
       "      <th></th>\n",
       "      <th>Unnamed: 0</th>\n",
       "      <th>name</th>\n",
       "      <th>city</th>\n",
       "      <th>state</th>\n",
       "    </tr>\n",
       "  </thead>\n",
       "  <tbody>\n",
       "    <tr>\n",
       "      <th>0</th>\n",
       "      <td>0</td>\n",
       "      <td>NorthGate Brewing</td>\n",
       "      <td>Minneapolis</td>\n",
       "      <td>MN</td>\n",
       "    </tr>\n",
       "    <tr>\n",
       "      <th>1</th>\n",
       "      <td>1</td>\n",
       "      <td>Against the Grain Brewery</td>\n",
       "      <td>Louisville</td>\n",
       "      <td>KY</td>\n",
       "    </tr>\n",
       "    <tr>\n",
       "      <th>2</th>\n",
       "      <td>2</td>\n",
       "      <td>Jack's Abby Craft Lagers</td>\n",
       "      <td>Framingham</td>\n",
       "      <td>MA</td>\n",
       "    </tr>\n",
       "    <tr>\n",
       "      <th>3</th>\n",
       "      <td>3</td>\n",
       "      <td>Mike Hess Brewing Company</td>\n",
       "      <td>San Diego</td>\n",
       "      <td>CA</td>\n",
       "    </tr>\n",
       "    <tr>\n",
       "      <th>4</th>\n",
       "      <td>4</td>\n",
       "      <td>Fort Point Beer Company</td>\n",
       "      <td>San Francisco</td>\n",
       "      <td>CA</td>\n",
       "    </tr>\n",
       "    <tr>\n",
       "      <th>...</th>\n",
       "      <td>...</td>\n",
       "      <td>...</td>\n",
       "      <td>...</td>\n",
       "      <td>...</td>\n",
       "    </tr>\n",
       "    <tr>\n",
       "      <th>553</th>\n",
       "      <td>553</td>\n",
       "      <td>Covington Brewhouse</td>\n",
       "      <td>Covington</td>\n",
       "      <td>LA</td>\n",
       "    </tr>\n",
       "    <tr>\n",
       "      <th>554</th>\n",
       "      <td>554</td>\n",
       "      <td>Dave's Brewfarm</td>\n",
       "      <td>Wilson</td>\n",
       "      <td>WI</td>\n",
       "    </tr>\n",
       "    <tr>\n",
       "      <th>555</th>\n",
       "      <td>555</td>\n",
       "      <td>Ukiah Brewing Company</td>\n",
       "      <td>Ukiah</td>\n",
       "      <td>CA</td>\n",
       "    </tr>\n",
       "    <tr>\n",
       "      <th>556</th>\n",
       "      <td>556</td>\n",
       "      <td>Butternuts Beer and Ale</td>\n",
       "      <td>Garrattsville</td>\n",
       "      <td>NY</td>\n",
       "    </tr>\n",
       "    <tr>\n",
       "      <th>557</th>\n",
       "      <td>557</td>\n",
       "      <td>Sleeping Lady Brewing Company</td>\n",
       "      <td>Anchorage</td>\n",
       "      <td>AK</td>\n",
       "    </tr>\n",
       "  </tbody>\n",
       "</table>\n",
       "<p>558 rows × 4 columns</p>\n",
       "</div>"
      ],
      "text/plain": [
       "     Unnamed: 0                           name           city state\n",
       "0             0             NorthGate Brewing     Minneapolis    MN\n",
       "1             1      Against the Grain Brewery     Louisville    KY\n",
       "2             2       Jack's Abby Craft Lagers     Framingham    MA\n",
       "3             3      Mike Hess Brewing Company      San Diego    CA\n",
       "4             4        Fort Point Beer Company  San Francisco    CA\n",
       "..          ...                            ...            ...   ...\n",
       "553         553            Covington Brewhouse      Covington    LA\n",
       "554         554                Dave's Brewfarm         Wilson    WI\n",
       "555         555          Ukiah Brewing Company          Ukiah    CA\n",
       "556         556        Butternuts Beer and Ale  Garrattsville    NY\n",
       "557         557  Sleeping Lady Brewing Company      Anchorage    AK\n",
       "\n",
       "[558 rows x 4 columns]"
      ]
     },
     "execution_count": 5,
     "metadata": {},
     "output_type": "execute_result"
    }
   ],
   "source": [
    "breweries_df = pd.read_csv('breweries.csv')\n",
    "breweries_df"
   ]
  },
  {
   "cell_type": "code",
   "execution_count": 142,
   "id": "8f907421",
   "metadata": {
    "ExecuteTime": {
     "end_time": "2023-11-19T07:41:21.980431Z",
     "start_time": "2023-11-19T07:41:21.959662Z"
    }
   },
   "outputs": [
    {
     "name": "stdout",
     "output_type": "stream",
     "text": [
      "<class 'pandas.core.frame.DataFrame'>\n",
      "RangeIndex: 558 entries, 0 to 557\n",
      "Data columns (total 4 columns):\n",
      " #   Column      Non-Null Count  Dtype \n",
      "---  ------      --------------  ----- \n",
      " 0   Unnamed: 0  558 non-null    int64 \n",
      " 1   name        558 non-null    object\n",
      " 2   city        558 non-null    object\n",
      " 3   state       558 non-null    object\n",
      "dtypes: int64(1), object(3)\n",
      "memory usage: 17.6+ KB\n"
     ]
    }
   ],
   "source": [
    "breweries_df.info()"
   ]
  },
  {
   "cell_type": "code",
   "execution_count": 143,
   "id": "9b063faa",
   "metadata": {
    "ExecuteTime": {
     "end_time": "2023-11-19T07:41:24.276988Z",
     "start_time": "2023-11-19T07:41:24.255389Z"
    }
   },
   "outputs": [
    {
     "data": {
      "text/plain": [
       "Unnamed: 0    0\n",
       "name          0\n",
       "city          0\n",
       "state         0\n",
       "dtype: int64"
      ]
     },
     "execution_count": 143,
     "metadata": {},
     "output_type": "execute_result"
    }
   ],
   "source": [
    "breweries_df.isna().sum()"
   ]
  },
  {
   "cell_type": "markdown",
   "id": "cff21fbb",
   "metadata": {},
   "source": [
    "```breweries_df```를 보면서 생각한 것\n",
    "- 있어야 할 ```brewery_id``` 컬럼이 없다. 아마 맨 앞에 index로 들어가야 하는 컬럼(```Unnamed: 0```)이 그 역할인 것 같다.\n",
    "- 솔직히 얘는 컬럼명 알아보기 쉬워서 한글화 딱히 필요없을 듯\n",
    "- 근데 추후 merge할 때를 생각하면 컬럼명에 양조장을 붙여야 더 구체적으로 설명이 될 것 같다\n",
    "- 정수형 데이터가 하나도 없고 전부 텍스트로 구성되어 있다\n",
    "- 결측치 하나도 없어서 아주 마음에 든다"
   ]
  },
  {
   "cell_type": "code",
   "execution_count": 6,
   "id": "6d0f6019",
   "metadata": {
    "ExecuteTime": {
     "end_time": "2023-11-21T05:29:28.168095Z",
     "start_time": "2023-11-21T05:29:28.144555Z"
    }
   },
   "outputs": [
    {
     "data": {
      "text/html": [
       "<div>\n",
       "<style scoped>\n",
       "    .dataframe tbody tr th:only-of-type {\n",
       "        vertical-align: middle;\n",
       "    }\n",
       "\n",
       "    .dataframe tbody tr th {\n",
       "        vertical-align: top;\n",
       "    }\n",
       "\n",
       "    .dataframe thead th {\n",
       "        text-align: right;\n",
       "    }\n",
       "</style>\n",
       "<table border=\"1\" class=\"dataframe\">\n",
       "  <thead>\n",
       "    <tr style=\"text-align: right;\">\n",
       "      <th></th>\n",
       "      <th>brewery_id</th>\n",
       "      <th>양조장 이름</th>\n",
       "      <th>양조장 소재 도시</th>\n",
       "      <th>양조장 소재 주</th>\n",
       "    </tr>\n",
       "  </thead>\n",
       "  <tbody>\n",
       "    <tr>\n",
       "      <th>0</th>\n",
       "      <td>0</td>\n",
       "      <td>NorthGate Brewing</td>\n",
       "      <td>Minneapolis</td>\n",
       "      <td>MN</td>\n",
       "    </tr>\n",
       "    <tr>\n",
       "      <th>1</th>\n",
       "      <td>1</td>\n",
       "      <td>Against the Grain Brewery</td>\n",
       "      <td>Louisville</td>\n",
       "      <td>KY</td>\n",
       "    </tr>\n",
       "    <tr>\n",
       "      <th>2</th>\n",
       "      <td>2</td>\n",
       "      <td>Jack's Abby Craft Lagers</td>\n",
       "      <td>Framingham</td>\n",
       "      <td>MA</td>\n",
       "    </tr>\n",
       "    <tr>\n",
       "      <th>3</th>\n",
       "      <td>3</td>\n",
       "      <td>Mike Hess Brewing Company</td>\n",
       "      <td>San Diego</td>\n",
       "      <td>CA</td>\n",
       "    </tr>\n",
       "    <tr>\n",
       "      <th>4</th>\n",
       "      <td>4</td>\n",
       "      <td>Fort Point Beer Company</td>\n",
       "      <td>San Francisco</td>\n",
       "      <td>CA</td>\n",
       "    </tr>\n",
       "    <tr>\n",
       "      <th>...</th>\n",
       "      <td>...</td>\n",
       "      <td>...</td>\n",
       "      <td>...</td>\n",
       "      <td>...</td>\n",
       "    </tr>\n",
       "    <tr>\n",
       "      <th>553</th>\n",
       "      <td>553</td>\n",
       "      <td>Covington Brewhouse</td>\n",
       "      <td>Covington</td>\n",
       "      <td>LA</td>\n",
       "    </tr>\n",
       "    <tr>\n",
       "      <th>554</th>\n",
       "      <td>554</td>\n",
       "      <td>Dave's Brewfarm</td>\n",
       "      <td>Wilson</td>\n",
       "      <td>WI</td>\n",
       "    </tr>\n",
       "    <tr>\n",
       "      <th>555</th>\n",
       "      <td>555</td>\n",
       "      <td>Ukiah Brewing Company</td>\n",
       "      <td>Ukiah</td>\n",
       "      <td>CA</td>\n",
       "    </tr>\n",
       "    <tr>\n",
       "      <th>556</th>\n",
       "      <td>556</td>\n",
       "      <td>Butternuts Beer and Ale</td>\n",
       "      <td>Garrattsville</td>\n",
       "      <td>NY</td>\n",
       "    </tr>\n",
       "    <tr>\n",
       "      <th>557</th>\n",
       "      <td>557</td>\n",
       "      <td>Sleeping Lady Brewing Company</td>\n",
       "      <td>Anchorage</td>\n",
       "      <td>AK</td>\n",
       "    </tr>\n",
       "  </tbody>\n",
       "</table>\n",
       "<p>558 rows × 4 columns</p>\n",
       "</div>"
      ],
      "text/plain": [
       "     brewery_id                         양조장 이름      양조장 소재 도시 양조장 소재 주\n",
       "0             0             NorthGate Brewing     Minneapolis       MN\n",
       "1             1      Against the Grain Brewery     Louisville       KY\n",
       "2             2       Jack's Abby Craft Lagers     Framingham       MA\n",
       "3             3      Mike Hess Brewing Company      San Diego       CA\n",
       "4             4        Fort Point Beer Company  San Francisco       CA\n",
       "..          ...                            ...            ...      ...\n",
       "553         553            Covington Brewhouse      Covington       LA\n",
       "554         554                Dave's Brewfarm         Wilson       WI\n",
       "555         555          Ukiah Brewing Company          Ukiah       CA\n",
       "556         556        Butternuts Beer and Ale  Garrattsville       NY\n",
       "557         557  Sleeping Lady Brewing Company      Anchorage       AK\n",
       "\n",
       "[558 rows x 4 columns]"
      ]
     },
     "execution_count": 6,
     "metadata": {},
     "output_type": "execute_result"
    }
   ],
   "source": [
    "named_breweries_df = breweries_df.rename(columns={\n",
    "    'Unnamed: 0': 'brewery_id', 'name': '양조장 이름', 'city': '양조장 소재 도시', 'state': '양조장 소재 주'\n",
    "})\n",
    "\n",
    "named_breweries_df"
   ]
  },
  {
   "cell_type": "markdown",
   "id": "e44c9a68",
   "metadata": {},
   "source": [
    "#### 2-2-2. 컬럼별 분포 확인(양조장 이름)"
   ]
  },
  {
   "cell_type": "code",
   "execution_count": 145,
   "id": "f34aba62",
   "metadata": {
    "ExecuteTime": {
     "end_time": "2023-11-19T07:42:38.080462Z",
     "start_time": "2023-11-19T07:42:38.065939Z"
    }
   },
   "outputs": [
    {
     "data": {
      "text/plain": [
       "551"
      ]
     },
     "execution_count": 145,
     "metadata": {},
     "output_type": "execute_result"
    }
   ],
   "source": [
    "named_breweries_df['양조장 이름'].nunique()"
   ]
  },
  {
   "cell_type": "code",
   "execution_count": 7,
   "id": "d1a5dbfa",
   "metadata": {
    "ExecuteTime": {
     "end_time": "2023-11-20T11:28:58.205573Z",
     "start_time": "2023-11-20T11:28:58.184820Z"
    }
   },
   "outputs": [
    {
     "data": {
      "text/html": [
       "<div>\n",
       "<style scoped>\n",
       "    .dataframe tbody tr th:only-of-type {\n",
       "        vertical-align: middle;\n",
       "    }\n",
       "\n",
       "    .dataframe tbody tr th {\n",
       "        vertical-align: top;\n",
       "    }\n",
       "\n",
       "    .dataframe thead th {\n",
       "        text-align: right;\n",
       "    }\n",
       "</style>\n",
       "<table border=\"1\" class=\"dataframe\">\n",
       "  <thead>\n",
       "    <tr style=\"text-align: right;\">\n",
       "      <th></th>\n",
       "      <th>brewery_id</th>\n",
       "      <th>양조장 이름</th>\n",
       "      <th>양조장 소재 도시</th>\n",
       "      <th>양조장 소재 주</th>\n",
       "    </tr>\n",
       "  </thead>\n",
       "  <tbody>\n",
       "    <tr>\n",
       "      <th>95</th>\n",
       "      <td>95</td>\n",
       "      <td>Blackrocks Brewery</td>\n",
       "      <td>Marquette</td>\n",
       "      <td>MA</td>\n",
       "    </tr>\n",
       "    <tr>\n",
       "      <th>414</th>\n",
       "      <td>414</td>\n",
       "      <td>Blue Mountain Brewery</td>\n",
       "      <td>Arrington</td>\n",
       "      <td>VA</td>\n",
       "    </tr>\n",
       "    <tr>\n",
       "      <th>456</th>\n",
       "      <td>456</td>\n",
       "      <td>Lucette Brewing Company</td>\n",
       "      <td>Menominie</td>\n",
       "      <td>WI</td>\n",
       "    </tr>\n",
       "    <tr>\n",
       "      <th>503</th>\n",
       "      <td>503</td>\n",
       "      <td>Oskar Blues Brewery</td>\n",
       "      <td>Lyons</td>\n",
       "      <td>CO</td>\n",
       "    </tr>\n",
       "    <tr>\n",
       "      <th>275</th>\n",
       "      <td>275</td>\n",
       "      <td>Otter Creek Brewing</td>\n",
       "      <td>Middlebury</td>\n",
       "      <td>VT</td>\n",
       "    </tr>\n",
       "    <tr>\n",
       "      <th>371</th>\n",
       "      <td>371</td>\n",
       "      <td>Sly Fox Brewing Company</td>\n",
       "      <td>Pottstown</td>\n",
       "      <td>PA</td>\n",
       "    </tr>\n",
       "    <tr>\n",
       "      <th>138</th>\n",
       "      <td>138</td>\n",
       "      <td>Summit Brewing Company</td>\n",
       "      <td>St Paul</td>\n",
       "      <td>MN</td>\n",
       "    </tr>\n",
       "  </tbody>\n",
       "</table>\n",
       "</div>"
      ],
      "text/plain": [
       "     brewery_id                   양조장 이름   양조장 소재 도시 양조장 소재 주\n",
       "95           95       Blackrocks Brewery   Marquette       MA\n",
       "414         414    Blue Mountain Brewery   Arrington       VA\n",
       "456         456  Lucette Brewing Company   Menominie       WI\n",
       "503         503      Oskar Blues Brewery       Lyons       CO\n",
       "275         275      Otter Creek Brewing  Middlebury       VT\n",
       "371         371  Sly Fox Brewing Company   Pottstown       PA\n",
       "138         138   Summit Brewing Company     St Paul       MN"
      ]
     },
     "execution_count": 7,
     "metadata": {},
     "output_type": "execute_result"
    }
   ],
   "source": [
    "named_breweries_df[named_breweries_df['양조장 이름'].duplicated()].sort_values('양조장 이름')"
   ]
  },
  {
   "cell_type": "markdown",
   "id": "e4bf54bc",
   "metadata": {},
   "source": [
    "7개의 중복된 양조장이 들어가 있다."
   ]
  },
  {
   "cell_type": "code",
   "execution_count": 7,
   "id": "af5bde7a",
   "metadata": {
    "ExecuteTime": {
     "end_time": "2023-11-21T05:29:40.554663Z",
     "start_time": "2023-11-21T05:29:40.529733Z"
    }
   },
   "outputs": [
    {
     "data": {
      "text/html": [
       "<div>\n",
       "<style scoped>\n",
       "    .dataframe tbody tr th:only-of-type {\n",
       "        vertical-align: middle;\n",
       "    }\n",
       "\n",
       "    .dataframe tbody tr th {\n",
       "        vertical-align: top;\n",
       "    }\n",
       "\n",
       "    .dataframe thead th {\n",
       "        text-align: right;\n",
       "    }\n",
       "</style>\n",
       "<table border=\"1\" class=\"dataframe\">\n",
       "  <thead>\n",
       "    <tr style=\"text-align: right;\">\n",
       "      <th></th>\n",
       "      <th>brewery_id</th>\n",
       "      <th>양조장 이름</th>\n",
       "      <th>양조장 소재 도시</th>\n",
       "      <th>양조장 소재 주</th>\n",
       "    </tr>\n",
       "  </thead>\n",
       "  <tbody>\n",
       "    <tr>\n",
       "      <th>0</th>\n",
       "      <td>0</td>\n",
       "      <td>NorthGate Brewing</td>\n",
       "      <td>Minneapolis</td>\n",
       "      <td>MN</td>\n",
       "    </tr>\n",
       "    <tr>\n",
       "      <th>1</th>\n",
       "      <td>1</td>\n",
       "      <td>Against the Grain Brewery</td>\n",
       "      <td>Louisville</td>\n",
       "      <td>KY</td>\n",
       "    </tr>\n",
       "    <tr>\n",
       "      <th>2</th>\n",
       "      <td>2</td>\n",
       "      <td>Jack's Abby Craft Lagers</td>\n",
       "      <td>Framingham</td>\n",
       "      <td>MA</td>\n",
       "    </tr>\n",
       "    <tr>\n",
       "      <th>3</th>\n",
       "      <td>3</td>\n",
       "      <td>Mike Hess Brewing Company</td>\n",
       "      <td>San Diego</td>\n",
       "      <td>CA</td>\n",
       "    </tr>\n",
       "    <tr>\n",
       "      <th>4</th>\n",
       "      <td>4</td>\n",
       "      <td>Fort Point Beer Company</td>\n",
       "      <td>San Francisco</td>\n",
       "      <td>CA</td>\n",
       "    </tr>\n",
       "    <tr>\n",
       "      <th>...</th>\n",
       "      <td>...</td>\n",
       "      <td>...</td>\n",
       "      <td>...</td>\n",
       "      <td>...</td>\n",
       "    </tr>\n",
       "    <tr>\n",
       "      <th>553</th>\n",
       "      <td>553</td>\n",
       "      <td>Covington Brewhouse</td>\n",
       "      <td>Covington</td>\n",
       "      <td>LA</td>\n",
       "    </tr>\n",
       "    <tr>\n",
       "      <th>554</th>\n",
       "      <td>554</td>\n",
       "      <td>Dave's Brewfarm</td>\n",
       "      <td>Wilson</td>\n",
       "      <td>WI</td>\n",
       "    </tr>\n",
       "    <tr>\n",
       "      <th>555</th>\n",
       "      <td>555</td>\n",
       "      <td>Ukiah Brewing Company</td>\n",
       "      <td>Ukiah</td>\n",
       "      <td>CA</td>\n",
       "    </tr>\n",
       "    <tr>\n",
       "      <th>556</th>\n",
       "      <td>556</td>\n",
       "      <td>Butternuts Beer and Ale</td>\n",
       "      <td>Garrattsville</td>\n",
       "      <td>NY</td>\n",
       "    </tr>\n",
       "    <tr>\n",
       "      <th>557</th>\n",
       "      <td>557</td>\n",
       "      <td>Sleeping Lady Brewing Company</td>\n",
       "      <td>Anchorage</td>\n",
       "      <td>AK</td>\n",
       "    </tr>\n",
       "  </tbody>\n",
       "</table>\n",
       "<p>551 rows × 4 columns</p>\n",
       "</div>"
      ],
      "text/plain": [
       "     brewery_id                         양조장 이름      양조장 소재 도시 양조장 소재 주\n",
       "0             0             NorthGate Brewing     Minneapolis       MN\n",
       "1             1      Against the Grain Brewery     Louisville       KY\n",
       "2             2       Jack's Abby Craft Lagers     Framingham       MA\n",
       "3             3      Mike Hess Brewing Company      San Diego       CA\n",
       "4             4        Fort Point Beer Company  San Francisco       CA\n",
       "..          ...                            ...            ...      ...\n",
       "553         553            Covington Brewhouse      Covington       LA\n",
       "554         554                Dave's Brewfarm         Wilson       WI\n",
       "555         555          Ukiah Brewing Company          Ukiah       CA\n",
       "556         556        Butternuts Beer and Ale  Garrattsville       NY\n",
       "557         557  Sleeping Lady Brewing Company      Anchorage       AK\n",
       "\n",
       "[551 rows x 4 columns]"
      ]
     },
     "execution_count": 7,
     "metadata": {},
     "output_type": "execute_result"
    }
   ],
   "source": [
    "named_breweries_df.drop_duplicates('양조장 이름', inplace=True)\n",
    "named_breweries_df"
   ]
  },
  {
   "cell_type": "markdown",
   "id": "dfb0b7cb",
   "metadata": {},
   "source": [
    "#### 2-2-3. 컬럼별 분포 확인(양조장 소재 도시)"
   ]
  },
  {
   "cell_type": "code",
   "execution_count": 172,
   "id": "dad1753d",
   "metadata": {
    "ExecuteTime": {
     "end_time": "2023-11-19T07:52:45.098958Z",
     "start_time": "2023-11-19T07:52:45.072437Z"
    }
   },
   "outputs": [
    {
     "data": {
      "text/html": [
       "<div>\n",
       "<style scoped>\n",
       "    .dataframe tbody tr th:only-of-type {\n",
       "        vertical-align: middle;\n",
       "    }\n",
       "\n",
       "    .dataframe tbody tr th {\n",
       "        vertical-align: top;\n",
       "    }\n",
       "\n",
       "    .dataframe thead th {\n",
       "        text-align: right;\n",
       "    }\n",
       "</style>\n",
       "<table border=\"1\" class=\"dataframe\">\n",
       "  <thead>\n",
       "    <tr style=\"text-align: right;\">\n",
       "      <th></th>\n",
       "      <th>개수</th>\n",
       "    </tr>\n",
       "  </thead>\n",
       "  <tbody>\n",
       "    <tr>\n",
       "      <th>Portland</th>\n",
       "      <td>17</td>\n",
       "    </tr>\n",
       "    <tr>\n",
       "      <th>Chicago</th>\n",
       "      <td>9</td>\n",
       "    </tr>\n",
       "    <tr>\n",
       "      <th>Seattle</th>\n",
       "      <td>9</td>\n",
       "    </tr>\n",
       "    <tr>\n",
       "      <th>Boulder</th>\n",
       "      <td>9</td>\n",
       "    </tr>\n",
       "    <tr>\n",
       "      <th>San Diego</th>\n",
       "      <td>8</td>\n",
       "    </tr>\n",
       "    <tr>\n",
       "      <th>...</th>\n",
       "      <td>...</td>\n",
       "    </tr>\n",
       "    <tr>\n",
       "      <th>Henderson</th>\n",
       "      <td>1</td>\n",
       "    </tr>\n",
       "    <tr>\n",
       "      <th>Buellton</th>\n",
       "      <td>1</td>\n",
       "    </tr>\n",
       "    <tr>\n",
       "      <th>Dripping Springs</th>\n",
       "      <td>1</td>\n",
       "    </tr>\n",
       "    <tr>\n",
       "      <th>Gloucester</th>\n",
       "      <td>1</td>\n",
       "    </tr>\n",
       "    <tr>\n",
       "      <th>Garrattsville</th>\n",
       "      <td>1</td>\n",
       "    </tr>\n",
       "  </tbody>\n",
       "</table>\n",
       "<p>381 rows × 1 columns</p>\n",
       "</div>"
      ],
      "text/plain": [
       "                  개수\n",
       "Portland          17\n",
       "Chicago            9\n",
       "Seattle            9\n",
       "Boulder            9\n",
       "San Diego          8\n",
       "...               ..\n",
       "Henderson          1\n",
       "Buellton           1\n",
       "Dripping Springs   1\n",
       "Gloucester         1\n",
       "Garrattsville      1\n",
       "\n",
       "[381 rows x 1 columns]"
      ]
     },
     "execution_count": 172,
     "metadata": {},
     "output_type": "execute_result"
    }
   ],
   "source": [
    "cities_df = named_breweries_df['양조장 소재 도시'].value_counts().to_frame().rename(columns={'양조장 소재 도시': '개수'})\n",
    "cities_df"
   ]
  },
  {
   "cell_type": "code",
   "execution_count": 177,
   "id": "a85bdb62",
   "metadata": {
    "ExecuteTime": {
     "end_time": "2023-11-19T07:54:19.131023Z",
     "start_time": "2023-11-19T07:54:19.112307Z"
    }
   },
   "outputs": [
    {
     "data": {
      "text/html": [
       "<div>\n",
       "<style scoped>\n",
       "    .dataframe tbody tr th:only-of-type {\n",
       "        vertical-align: middle;\n",
       "    }\n",
       "\n",
       "    .dataframe tbody tr th {\n",
       "        vertical-align: top;\n",
       "    }\n",
       "\n",
       "    .dataframe thead th {\n",
       "        text-align: right;\n",
       "    }\n",
       "</style>\n",
       "<table border=\"1\" class=\"dataframe\">\n",
       "  <thead>\n",
       "    <tr style=\"text-align: right;\">\n",
       "      <th></th>\n",
       "      <th>도시 수</th>\n",
       "    </tr>\n",
       "    <tr>\n",
       "      <th>개수</th>\n",
       "      <th></th>\n",
       "    </tr>\n",
       "  </thead>\n",
       "  <tbody>\n",
       "    <tr>\n",
       "      <th>1</th>\n",
       "      <td>299</td>\n",
       "    </tr>\n",
       "    <tr>\n",
       "      <th>2</th>\n",
       "      <td>51</td>\n",
       "    </tr>\n",
       "    <tr>\n",
       "      <th>3</th>\n",
       "      <td>17</td>\n",
       "    </tr>\n",
       "    <tr>\n",
       "      <th>4</th>\n",
       "      <td>5</td>\n",
       "    </tr>\n",
       "    <tr>\n",
       "      <th>5</th>\n",
       "      <td>1</td>\n",
       "    </tr>\n",
       "    <tr>\n",
       "      <th>6</th>\n",
       "      <td>1</td>\n",
       "    </tr>\n",
       "    <tr>\n",
       "      <th>8</th>\n",
       "      <td>3</td>\n",
       "    </tr>\n",
       "    <tr>\n",
       "      <th>9</th>\n",
       "      <td>3</td>\n",
       "    </tr>\n",
       "    <tr>\n",
       "      <th>17</th>\n",
       "      <td>1</td>\n",
       "    </tr>\n",
       "  </tbody>\n",
       "</table>\n",
       "</div>"
      ],
      "text/plain": [
       "    도시 수\n",
       "개수      \n",
       "1    299\n",
       "2     51\n",
       "3     17\n",
       "4      5\n",
       "5      1\n",
       "6      1\n",
       "8      3\n",
       "9      3\n",
       "17     1"
      ]
     },
     "execution_count": 177,
     "metadata": {},
     "output_type": "execute_result"
    }
   ],
   "source": [
    "cities_df['개수'].value_counts().to_frame().reset_index().sort_values('index').rename(columns={\n",
    "    'index': '개수', '개수': '도시 수'\n",
    "}).set_index('개수')"
   ]
  },
  {
   "cell_type": "markdown",
   "id": "41399021",
   "metadata": {},
   "source": [
    "양조장이 1개 있는 도시가 299개나 있다. 양조장이 굉장히 다양하게 분포되어 있음을 파악할 수 있다."
   ]
  },
  {
   "cell_type": "markdown",
   "id": "11874263",
   "metadata": {},
   "source": [
    "#### 2-2-4. 컬럼별 분포 확인(양조장 소재 주)"
   ]
  },
  {
   "cell_type": "code",
   "execution_count": 194,
   "id": "6be4e89a",
   "metadata": {
    "ExecuteTime": {
     "end_time": "2023-11-19T08:15:33.419982Z",
     "start_time": "2023-11-19T08:15:33.394623Z"
    }
   },
   "outputs": [
    {
     "data": {
      "text/html": [
       "<div>\n",
       "<style scoped>\n",
       "    .dataframe tbody tr th:only-of-type {\n",
       "        vertical-align: middle;\n",
       "    }\n",
       "\n",
       "    .dataframe tbody tr th {\n",
       "        vertical-align: top;\n",
       "    }\n",
       "\n",
       "    .dataframe thead th {\n",
       "        text-align: right;\n",
       "    }\n",
       "</style>\n",
       "<table border=\"1\" class=\"dataframe\">\n",
       "  <thead>\n",
       "    <tr style=\"text-align: right;\">\n",
       "      <th></th>\n",
       "      <th>주</th>\n",
       "      <th>개수</th>\n",
       "    </tr>\n",
       "  </thead>\n",
       "  <tbody>\n",
       "    <tr>\n",
       "      <th>0</th>\n",
       "      <td>CO</td>\n",
       "      <td>46</td>\n",
       "    </tr>\n",
       "    <tr>\n",
       "      <th>1</th>\n",
       "      <td>CA</td>\n",
       "      <td>39</td>\n",
       "    </tr>\n",
       "    <tr>\n",
       "      <th>2</th>\n",
       "      <td>MI</td>\n",
       "      <td>32</td>\n",
       "    </tr>\n",
       "    <tr>\n",
       "      <th>3</th>\n",
       "      <td>OR</td>\n",
       "      <td>29</td>\n",
       "    </tr>\n",
       "    <tr>\n",
       "      <th>4</th>\n",
       "      <td>TX</td>\n",
       "      <td>28</td>\n",
       "    </tr>\n",
       "    <tr>\n",
       "      <th>5</th>\n",
       "      <td>PA</td>\n",
       "      <td>24</td>\n",
       "    </tr>\n",
       "    <tr>\n",
       "      <th>6</th>\n",
       "      <td>WA</td>\n",
       "      <td>23</td>\n",
       "    </tr>\n",
       "    <tr>\n",
       "      <th>7</th>\n",
       "      <td>MA</td>\n",
       "      <td>22</td>\n",
       "    </tr>\n",
       "    <tr>\n",
       "      <th>8</th>\n",
       "      <td>IN</td>\n",
       "      <td>22</td>\n",
       "    </tr>\n",
       "    <tr>\n",
       "      <th>9</th>\n",
       "      <td>NC</td>\n",
       "      <td>19</td>\n",
       "    </tr>\n",
       "    <tr>\n",
       "      <th>10</th>\n",
       "      <td>WI</td>\n",
       "      <td>19</td>\n",
       "    </tr>\n",
       "    <tr>\n",
       "      <th>11</th>\n",
       "      <td>IL</td>\n",
       "      <td>18</td>\n",
       "    </tr>\n",
       "    <tr>\n",
       "      <th>12</th>\n",
       "      <td>NY</td>\n",
       "      <td>16</td>\n",
       "    </tr>\n",
       "    <tr>\n",
       "      <th>13</th>\n",
       "      <td>OH</td>\n",
       "      <td>15</td>\n",
       "    </tr>\n",
       "    <tr>\n",
       "      <th>14</th>\n",
       "      <td>FL</td>\n",
       "      <td>15</td>\n",
       "    </tr>\n",
       "    <tr>\n",
       "      <th>15</th>\n",
       "      <td>VA</td>\n",
       "      <td>15</td>\n",
       "    </tr>\n",
       "    <tr>\n",
       "      <th>16</th>\n",
       "      <td>MN</td>\n",
       "      <td>11</td>\n",
       "    </tr>\n",
       "    <tr>\n",
       "      <th>17</th>\n",
       "      <td>AZ</td>\n",
       "      <td>11</td>\n",
       "    </tr>\n",
       "    <tr>\n",
       "      <th>18</th>\n",
       "      <td>ME</td>\n",
       "      <td>9</td>\n",
       "    </tr>\n",
       "    <tr>\n",
       "      <th>19</th>\n",
       "      <td>VT</td>\n",
       "      <td>9</td>\n",
       "    </tr>\n",
       "    <tr>\n",
       "      <th>20</th>\n",
       "      <td>MO</td>\n",
       "      <td>9</td>\n",
       "    </tr>\n",
       "    <tr>\n",
       "      <th>21</th>\n",
       "      <td>MT</td>\n",
       "      <td>9</td>\n",
       "    </tr>\n",
       "    <tr>\n",
       "      <th>22</th>\n",
       "      <td>CT</td>\n",
       "      <td>8</td>\n",
       "    </tr>\n",
       "    <tr>\n",
       "      <th>23</th>\n",
       "      <td>AK</td>\n",
       "      <td>7</td>\n",
       "    </tr>\n",
       "    <tr>\n",
       "      <th>24</th>\n",
       "      <td>GA</td>\n",
       "      <td>7</td>\n",
       "    </tr>\n",
       "    <tr>\n",
       "      <th>25</th>\n",
       "      <td>MD</td>\n",
       "      <td>7</td>\n",
       "    </tr>\n",
       "    <tr>\n",
       "      <th>26</th>\n",
       "      <td>OK</td>\n",
       "      <td>6</td>\n",
       "    </tr>\n",
       "    <tr>\n",
       "      <th>27</th>\n",
       "      <td>LA</td>\n",
       "      <td>5</td>\n",
       "    </tr>\n",
       "    <tr>\n",
       "      <th>28</th>\n",
       "      <td>NE</td>\n",
       "      <td>5</td>\n",
       "    </tr>\n",
       "    <tr>\n",
       "      <th>29</th>\n",
       "      <td>ID</td>\n",
       "      <td>5</td>\n",
       "    </tr>\n",
       "    <tr>\n",
       "      <th>30</th>\n",
       "      <td>IA</td>\n",
       "      <td>5</td>\n",
       "    </tr>\n",
       "    <tr>\n",
       "      <th>31</th>\n",
       "      <td>RI</td>\n",
       "      <td>5</td>\n",
       "    </tr>\n",
       "    <tr>\n",
       "      <th>32</th>\n",
       "      <td>NM</td>\n",
       "      <td>4</td>\n",
       "    </tr>\n",
       "    <tr>\n",
       "      <th>33</th>\n",
       "      <td>SC</td>\n",
       "      <td>4</td>\n",
       "    </tr>\n",
       "    <tr>\n",
       "      <th>34</th>\n",
       "      <td>KY</td>\n",
       "      <td>4</td>\n",
       "    </tr>\n",
       "    <tr>\n",
       "      <th>35</th>\n",
       "      <td>WY</td>\n",
       "      <td>4</td>\n",
       "    </tr>\n",
       "    <tr>\n",
       "      <th>36</th>\n",
       "      <td>HI</td>\n",
       "      <td>4</td>\n",
       "    </tr>\n",
       "    <tr>\n",
       "      <th>37</th>\n",
       "      <td>UT</td>\n",
       "      <td>4</td>\n",
       "    </tr>\n",
       "    <tr>\n",
       "      <th>38</th>\n",
       "      <td>AL</td>\n",
       "      <td>3</td>\n",
       "    </tr>\n",
       "    <tr>\n",
       "      <th>39</th>\n",
       "      <td>TN</td>\n",
       "      <td>3</td>\n",
       "    </tr>\n",
       "    <tr>\n",
       "      <th>40</th>\n",
       "      <td>NJ</td>\n",
       "      <td>3</td>\n",
       "    </tr>\n",
       "    <tr>\n",
       "      <th>41</th>\n",
       "      <td>KS</td>\n",
       "      <td>3</td>\n",
       "    </tr>\n",
       "    <tr>\n",
       "      <th>42</th>\n",
       "      <td>NH</td>\n",
       "      <td>3</td>\n",
       "    </tr>\n",
       "    <tr>\n",
       "      <th>43</th>\n",
       "      <td>NV</td>\n",
       "      <td>2</td>\n",
       "    </tr>\n",
       "    <tr>\n",
       "      <th>44</th>\n",
       "      <td>AR</td>\n",
       "      <td>2</td>\n",
       "    </tr>\n",
       "    <tr>\n",
       "      <th>45</th>\n",
       "      <td>MS</td>\n",
       "      <td>2</td>\n",
       "    </tr>\n",
       "    <tr>\n",
       "      <th>46</th>\n",
       "      <td>DE</td>\n",
       "      <td>2</td>\n",
       "    </tr>\n",
       "    <tr>\n",
       "      <th>47</th>\n",
       "      <td>SD</td>\n",
       "      <td>1</td>\n",
       "    </tr>\n",
       "    <tr>\n",
       "      <th>48</th>\n",
       "      <td>DC</td>\n",
       "      <td>1</td>\n",
       "    </tr>\n",
       "    <tr>\n",
       "      <th>49</th>\n",
       "      <td>WV</td>\n",
       "      <td>1</td>\n",
       "    </tr>\n",
       "    <tr>\n",
       "      <th>50</th>\n",
       "      <td>ND</td>\n",
       "      <td>1</td>\n",
       "    </tr>\n",
       "  </tbody>\n",
       "</table>\n",
       "</div>"
      ],
      "text/plain": [
       "      주  개수\n",
       "0    CO  46\n",
       "1    CA  39\n",
       "2    MI  32\n",
       "3    OR  29\n",
       "4    TX  28\n",
       "5    PA  24\n",
       "6    WA  23\n",
       "7    MA  22\n",
       "8    IN  22\n",
       "9    NC  19\n",
       "10   WI  19\n",
       "11   IL  18\n",
       "12   NY  16\n",
       "13   OH  15\n",
       "14   FL  15\n",
       "15   VA  15\n",
       "16   MN  11\n",
       "17   AZ  11\n",
       "18   ME   9\n",
       "19   VT   9\n",
       "20   MO   9\n",
       "21   MT   9\n",
       "22   CT   8\n",
       "23   AK   7\n",
       "24   GA   7\n",
       "25   MD   7\n",
       "26   OK   6\n",
       "27   LA   5\n",
       "28   NE   5\n",
       "29   ID   5\n",
       "30   IA   5\n",
       "31   RI   5\n",
       "32   NM   4\n",
       "33   SC   4\n",
       "34   KY   4\n",
       "35   WY   4\n",
       "36   HI   4\n",
       "37   UT   4\n",
       "38   AL   3\n",
       "39   TN   3\n",
       "40   NJ   3\n",
       "41   KS   3\n",
       "42   NH   3\n",
       "43   NV   2\n",
       "44   AR   2\n",
       "45   MS   2\n",
       "46   DE   2\n",
       "47   SD   1\n",
       "48   DC   1\n",
       "49   WV   1\n",
       "50   ND   1"
      ]
     },
     "execution_count": 194,
     "metadata": {},
     "output_type": "execute_result"
    }
   ],
   "source": [
    "states_df = named_breweries_df['양조장 소재 주'].value_counts().to_frame().reset_index().rename(columns={\n",
    "    '양조장 소재 주': '개수', 'index': '주'\n",
    "})\n",
    "states_df"
   ]
  },
  {
   "cell_type": "markdown",
   "id": "a1b844d0",
   "metadata": {},
   "source": [
    "아 예... 그렇군요"
   ]
  },
  {
   "cell_type": "markdown",
   "id": "2c7626d5",
   "metadata": {},
   "source": [
    "### 2-3. 데이터 병합"
   ]
  },
  {
   "cell_type": "markdown",
   "id": "35b0b9fa",
   "metadata": {},
   "source": [
    "#### 2-3-1. 데이터 합치기"
   ]
  },
  {
   "cell_type": "code",
   "execution_count": 8,
   "id": "a608b1ee",
   "metadata": {
    "ExecuteTime": {
     "end_time": "2023-11-21T05:29:58.563632Z",
     "start_time": "2023-11-21T05:29:58.522659Z"
    }
   },
   "outputs": [
    {
     "data": {
      "text/html": [
       "<div>\n",
       "<style scoped>\n",
       "    .dataframe tbody tr th:only-of-type {\n",
       "        vertical-align: middle;\n",
       "    }\n",
       "\n",
       "    .dataframe tbody tr th {\n",
       "        vertical-align: top;\n",
       "    }\n",
       "\n",
       "    .dataframe thead th {\n",
       "        text-align: right;\n",
       "    }\n",
       "</style>\n",
       "<table border=\"1\" class=\"dataframe\">\n",
       "  <thead>\n",
       "    <tr style=\"text-align: right;\">\n",
       "      <th></th>\n",
       "      <th>알코올 도수</th>\n",
       "      <th>쓴 정도</th>\n",
       "      <th>id</th>\n",
       "      <th>이름</th>\n",
       "      <th>스타일</th>\n",
       "      <th>brewery_id</th>\n",
       "      <th>질량</th>\n",
       "      <th>양조장 이름</th>\n",
       "      <th>양조장 소재 도시</th>\n",
       "      <th>양조장 소재 주</th>\n",
       "    </tr>\n",
       "  </thead>\n",
       "  <tbody>\n",
       "    <tr>\n",
       "      <th>0</th>\n",
       "      <td>0.050</td>\n",
       "      <td>NaN</td>\n",
       "      <td>1436</td>\n",
       "      <td>Pub Beer</td>\n",
       "      <td>American Pale Lager</td>\n",
       "      <td>408</td>\n",
       "      <td>12.0</td>\n",
       "      <td>10 Barrel Brewing Company</td>\n",
       "      <td>Bend</td>\n",
       "      <td>OR</td>\n",
       "    </tr>\n",
       "    <tr>\n",
       "      <th>1</th>\n",
       "      <td>0.066</td>\n",
       "      <td>NaN</td>\n",
       "      <td>2265</td>\n",
       "      <td>Devil's Cup</td>\n",
       "      <td>American Pale Ale (APA)</td>\n",
       "      <td>177</td>\n",
       "      <td>12.0</td>\n",
       "      <td>18th Street Brewery</td>\n",
       "      <td>Gary</td>\n",
       "      <td>IN</td>\n",
       "    </tr>\n",
       "    <tr>\n",
       "      <th>2</th>\n",
       "      <td>0.071</td>\n",
       "      <td>NaN</td>\n",
       "      <td>2264</td>\n",
       "      <td>Rise of the Phoenix</td>\n",
       "      <td>American IPA</td>\n",
       "      <td>177</td>\n",
       "      <td>12.0</td>\n",
       "      <td>18th Street Brewery</td>\n",
       "      <td>Gary</td>\n",
       "      <td>IN</td>\n",
       "    </tr>\n",
       "    <tr>\n",
       "      <th>3</th>\n",
       "      <td>0.090</td>\n",
       "      <td>NaN</td>\n",
       "      <td>2263</td>\n",
       "      <td>Sinister</td>\n",
       "      <td>American Double / Imperial IPA</td>\n",
       "      <td>177</td>\n",
       "      <td>12.0</td>\n",
       "      <td>18th Street Brewery</td>\n",
       "      <td>Gary</td>\n",
       "      <td>IN</td>\n",
       "    </tr>\n",
       "    <tr>\n",
       "      <th>4</th>\n",
       "      <td>0.075</td>\n",
       "      <td>NaN</td>\n",
       "      <td>2262</td>\n",
       "      <td>Sex and Candy</td>\n",
       "      <td>American IPA</td>\n",
       "      <td>177</td>\n",
       "      <td>12.0</td>\n",
       "      <td>18th Street Brewery</td>\n",
       "      <td>Gary</td>\n",
       "      <td>IN</td>\n",
       "    </tr>\n",
       "    <tr>\n",
       "      <th>...</th>\n",
       "      <td>...</td>\n",
       "      <td>...</td>\n",
       "      <td>...</td>\n",
       "      <td>...</td>\n",
       "      <td>...</td>\n",
       "      <td>...</td>\n",
       "      <td>...</td>\n",
       "      <td>...</td>\n",
       "      <td>...</td>\n",
       "      <td>...</td>\n",
       "    </tr>\n",
       "    <tr>\n",
       "      <th>2300</th>\n",
       "      <td>0.067</td>\n",
       "      <td>45.0</td>\n",
       "      <td>928</td>\n",
       "      <td>Belgorado</td>\n",
       "      <td>Belgian IPA</td>\n",
       "      <td>424</td>\n",
       "      <td>12.0</td>\n",
       "      <td>Wynkoop Brewing Company</td>\n",
       "      <td>Denver</td>\n",
       "      <td>CO</td>\n",
       "    </tr>\n",
       "    <tr>\n",
       "      <th>2301</th>\n",
       "      <td>0.052</td>\n",
       "      <td>NaN</td>\n",
       "      <td>807</td>\n",
       "      <td>Rail Yard Ale</td>\n",
       "      <td>American Amber / Red Ale</td>\n",
       "      <td>424</td>\n",
       "      <td>12.0</td>\n",
       "      <td>Wynkoop Brewing Company</td>\n",
       "      <td>Denver</td>\n",
       "      <td>CO</td>\n",
       "    </tr>\n",
       "    <tr>\n",
       "      <th>2302</th>\n",
       "      <td>0.055</td>\n",
       "      <td>NaN</td>\n",
       "      <td>620</td>\n",
       "      <td>B3K Black Lager</td>\n",
       "      <td>Schwarzbier</td>\n",
       "      <td>424</td>\n",
       "      <td>12.0</td>\n",
       "      <td>Wynkoop Brewing Company</td>\n",
       "      <td>Denver</td>\n",
       "      <td>CO</td>\n",
       "    </tr>\n",
       "    <tr>\n",
       "      <th>2303</th>\n",
       "      <td>0.055</td>\n",
       "      <td>40.0</td>\n",
       "      <td>145</td>\n",
       "      <td>Silverback Pale Ale</td>\n",
       "      <td>American Pale Ale (APA)</td>\n",
       "      <td>424</td>\n",
       "      <td>12.0</td>\n",
       "      <td>Wynkoop Brewing Company</td>\n",
       "      <td>Denver</td>\n",
       "      <td>CO</td>\n",
       "    </tr>\n",
       "    <tr>\n",
       "      <th>2304</th>\n",
       "      <td>0.052</td>\n",
       "      <td>NaN</td>\n",
       "      <td>84</td>\n",
       "      <td>Rail Yard Ale (2009)</td>\n",
       "      <td>American Amber / Red Ale</td>\n",
       "      <td>424</td>\n",
       "      <td>12.0</td>\n",
       "      <td>Wynkoop Brewing Company</td>\n",
       "      <td>Denver</td>\n",
       "      <td>CO</td>\n",
       "    </tr>\n",
       "  </tbody>\n",
       "</table>\n",
       "<p>2305 rows × 10 columns</p>\n",
       "</div>"
      ],
      "text/plain": [
       "      알코올 도수  쓴 정도    id                    이름  \\\n",
       "0      0.050   NaN  1436              Pub Beer   \n",
       "1      0.066   NaN  2265           Devil's Cup   \n",
       "2      0.071   NaN  2264   Rise of the Phoenix   \n",
       "3      0.090   NaN  2263              Sinister   \n",
       "4      0.075   NaN  2262         Sex and Candy   \n",
       "...      ...   ...   ...                   ...   \n",
       "2300   0.067  45.0   928             Belgorado   \n",
       "2301   0.052   NaN   807         Rail Yard Ale   \n",
       "2302   0.055   NaN   620       B3K Black Lager   \n",
       "2303   0.055  40.0   145   Silverback Pale Ale   \n",
       "2304   0.052   NaN    84  Rail Yard Ale (2009)   \n",
       "\n",
       "                                 스타일  brewery_id    질량  \\\n",
       "0                American Pale Lager         408  12.0   \n",
       "1            American Pale Ale (APA)         177  12.0   \n",
       "2                       American IPA         177  12.0   \n",
       "3     American Double / Imperial IPA         177  12.0   \n",
       "4                       American IPA         177  12.0   \n",
       "...                              ...         ...   ...   \n",
       "2300                     Belgian IPA         424  12.0   \n",
       "2301        American Amber / Red Ale         424  12.0   \n",
       "2302                     Schwarzbier         424  12.0   \n",
       "2303         American Pale Ale (APA)         424  12.0   \n",
       "2304        American Amber / Red Ale         424  12.0   \n",
       "\n",
       "                         양조장 이름 양조장 소재 도시 양조장 소재 주  \n",
       "0     10 Barrel Brewing Company      Bend       OR  \n",
       "1           18th Street Brewery      Gary       IN  \n",
       "2           18th Street Brewery      Gary       IN  \n",
       "3           18th Street Brewery      Gary       IN  \n",
       "4           18th Street Brewery      Gary       IN  \n",
       "...                         ...       ...      ...  \n",
       "2300    Wynkoop Brewing Company    Denver       CO  \n",
       "2301    Wynkoop Brewing Company    Denver       CO  \n",
       "2302    Wynkoop Brewing Company    Denver       CO  \n",
       "2303    Wynkoop Brewing Company    Denver       CO  \n",
       "2304    Wynkoop Brewing Company    Denver       CO  \n",
       "\n",
       "[2305 rows x 10 columns]"
      ]
     },
     "execution_count": 8,
     "metadata": {},
     "output_type": "execute_result"
    }
   ],
   "source": [
    "merged_df = pd.merge(\n",
    "    left=named_beers_df,\n",
    "    right=named_breweries_df,\n",
    "    how='left',\n",
    "    on='brewery_id'\n",
    ")\n",
    "\n",
    "merged_df"
   ]
  },
  {
   "cell_type": "markdown",
   "id": "4ef48f38",
   "metadata": {},
   "source": [
    "#### 2-3-2. 결측치 처리"
   ]
  },
  {
   "cell_type": "code",
   "execution_count": 17,
   "id": "67e65e8f",
   "metadata": {
    "ExecuteTime": {
     "end_time": "2023-11-20T11:37:16.203179Z",
     "start_time": "2023-11-20T11:37:16.181731Z"
    }
   },
   "outputs": [
    {
     "data": {
      "text/plain": [
       "알코올 도수         60\n",
       "쓴 정도          979\n",
       "id              0\n",
       "이름              0\n",
       "스타일             5\n",
       "brewery_id      0\n",
       "질량              0\n",
       "양조장 이름         32\n",
       "양조장 소재 도시      32\n",
       "양조장 소재 주       32\n",
       "dtype: int64"
      ]
     },
     "execution_count": 17,
     "metadata": {},
     "output_type": "execute_result"
    }
   ],
   "source": [
    "merged_df.isna().sum()"
   ]
  },
  {
   "cell_type": "markdown",
   "id": "68581878",
   "metadata": {},
   "source": [
    "다른 컬럼들은 제거해 주면 될 것 같은데 쓴 정도 컬럼이 너무 많다."
   ]
  },
  {
   "cell_type": "code",
   "execution_count": 19,
   "id": "19df8ff2",
   "metadata": {
    "ExecuteTime": {
     "end_time": "2023-11-20T11:40:03.332236Z",
     "start_time": "2023-11-20T11:40:03.311522Z"
    }
   },
   "outputs": [
    {
     "data": {
      "text/plain": [
       "American IPA                121\n",
       "American Pale Ale (APA)      91\n",
       "American Amber / Red Ale     55\n",
       "American Blonde Ale          46\n",
       "Cider                        36\n",
       "                           ... \n",
       "English Strong Ale            1\n",
       "Kristalweizen                 1\n",
       "Euro Pale Lager               1\n",
       "Munich Dunkel Lager           1\n",
       "Chile Beer                    1\n",
       "Name: 스타일, Length: 88, dtype: int64"
      ]
     },
     "execution_count": 19,
     "metadata": {},
     "output_type": "execute_result"
    }
   ],
   "source": [
    "merged_df[merged_df['쓴 정도'].isna()]['스타일'].value_counts()"
   ]
  },
  {
   "cell_type": "markdown",
   "id": "b2f9ee34",
   "metadata": {},
   "source": [
    "같은 스타일이면 비슷한 쓴 정도를 나타낸다고 가정하고, 결측치를 **해당 스타일의 평균**으로 대체한다."
   ]
  },
  {
   "cell_type": "code",
   "execution_count": 9,
   "id": "4b6758c3",
   "metadata": {
    "ExecuteTime": {
     "end_time": "2023-11-21T05:30:12.569951Z",
     "start_time": "2023-11-21T05:30:12.090430Z"
    }
   },
   "outputs": [],
   "source": [
    "for idx, row in merged_df.iterrows():\n",
    "    if pd.isna(row['쓴 정도']):\n",
    "        merged_df.at[idx, '쓴 정도'] = merged_df[merged_df['스타일'] == row['스타일']]['쓴 정도'].mean()"
   ]
  },
  {
   "cell_type": "code",
   "execution_count": 54,
   "id": "3f300138",
   "metadata": {
    "ExecuteTime": {
     "end_time": "2023-11-20T11:57:05.510927Z",
     "start_time": "2023-11-20T11:57:05.486748Z"
    }
   },
   "outputs": [
    {
     "data": {
      "text/plain": [
       "알코올 도수        60\n",
       "쓴 정도          54\n",
       "id             0\n",
       "이름             0\n",
       "스타일            5\n",
       "brewery_id     0\n",
       "질량             0\n",
       "양조장 이름        32\n",
       "양조장 소재 도시     32\n",
       "양조장 소재 주      32\n",
       "dtype: int64"
      ]
     },
     "execution_count": 54,
     "metadata": {},
     "output_type": "execute_result"
    }
   ],
   "source": [
    "merged_df.isna().sum()"
   ]
  },
  {
   "cell_type": "code",
   "execution_count": 64,
   "id": "e572b1f4",
   "metadata": {
    "ExecuteTime": {
     "end_time": "2023-11-20T12:01:25.350635Z",
     "start_time": "2023-11-20T12:01:25.330231Z"
    }
   },
   "outputs": [
    {
     "name": "stdout",
     "output_type": "stream",
     "text": [
      "결측치 개수: 54\n",
      "결측치 비율: 2.4%\n"
     ]
    }
   ],
   "source": [
    "print(f\"결측치 개수: {merged_df['쓴 정도'].isna().sum()}\")\n",
    "print(f\"결측치 비율: {round(merged_df['쓴 정도'].isna().sum() * 100 / merged_df['쓴 정도'].count(), 2)}%\")"
   ]
  },
  {
   "cell_type": "markdown",
   "id": "132e0a99",
   "metadata": {},
   "source": [
    "여전히 54개의 결측치가 들어가 있는데, 아마 해당 스타일에 해당하는 쓴 정도 값이 전부 결측치인 경우일 것이다. 이런 경우에는 그냥 drop해주는 것이 편하겠다."
   ]
  },
  {
   "cell_type": "code",
   "execution_count": 10,
   "id": "0ca5e177",
   "metadata": {
    "ExecuteTime": {
     "end_time": "2023-11-21T05:30:21.504126Z",
     "start_time": "2023-11-21T05:30:21.492275Z"
    }
   },
   "outputs": [],
   "source": [
    "merged_df.dropna(inplace=True)"
   ]
  },
  {
   "cell_type": "code",
   "execution_count": 70,
   "id": "488ac3e1",
   "metadata": {
    "ExecuteTime": {
     "end_time": "2023-11-20T12:05:41.898416Z",
     "start_time": "2023-11-20T12:05:41.875916Z"
    }
   },
   "outputs": [
    {
     "data": {
      "text/plain": [
       "알코올 도수        0\n",
       "쓴 정도          0\n",
       "id            0\n",
       "이름            0\n",
       "스타일           0\n",
       "brewery_id    0\n",
       "질량            0\n",
       "양조장 이름        0\n",
       "양조장 소재 도시     0\n",
       "양조장 소재 주      0\n",
       "dtype: int64"
      ]
     },
     "execution_count": 70,
     "metadata": {},
     "output_type": "execute_result"
    }
   ],
   "source": [
    "merged_df.isna().sum()"
   ]
  },
  {
   "cell_type": "markdown",
   "id": "fa999076",
   "metadata": {},
   "source": [
    "## 3. 데이터 분석"
   ]
  },
  {
   "cell_type": "markdown",
   "id": "975cd397",
   "metadata": {},
   "source": [
    "이슬(26)씨는 원래 소주 회사에 재직하다가 최근 미국 수제 맥주 회사의 제품 기획팀으로 이직하였다. 이슬씨의 회사는 갓 법인을 창립하여 이제 수제 맥주 시장에 발을 들이려는 따끈따끈한 신생 회사다. 이슬씨가 속한 제품 기획팀의 목표는 소비자들에게 인정받고 시장에서 성공할 만한 신규 제품을 개발하는 것이다. 제품 기획에 앞서 수제 맥주 시장에 대한 리서치를 진행하던 이슬씨는 수제 맥주를 이루는 두 가지 주요 핵심 사항에 대해 알게 되었다.\n",
    "\n",
    "- 알코올 도수\n",
    "- 쓴 정도\n",
    "\n",
    "이슬씨는 이 두 요인을 기준으로 시장에서 제품 포지셔닝을 잡는 게 좋겠다고 생각했다. 그래서 우선적으로 시중에 있는 제품들의 알코올 도수와 쓴 정도를 분석하고, 소비자 선호도가 높은 제품의 특성을 발굴하여, 신규 제품의 레퍼런스로 삼기로 결정했다.\n",
    "\n",
    "본 분석에서는 이슬씨의 입장에서 **신규 제품의 시장 내 포지셔닝**을 기획하는 과정을 수행한다."
   ]
  },
  {
   "cell_type": "markdown",
   "id": "d4b820db",
   "metadata": {},
   "source": [
    "### 3-1. 알코올 도수와 쓴 정도 사이의 관계 분석 (선형회귀)"
   ]
  },
  {
   "cell_type": "markdown",
   "id": "12a6a778",
   "metadata": {},
   "source": [
    "먼저, 시중에 존재하는 수제 맥주 제품들을 대상으로, 알코올 도수와 쓴 정도 사이에 어떤 선형 관계가 존재하는지를 확인해 보고자 한다."
   ]
  },
  {
   "cell_type": "code",
   "execution_count": 31,
   "id": "279b7ed3",
   "metadata": {
    "ExecuteTime": {
     "end_time": "2023-11-21T06:04:39.013450Z",
     "start_time": "2023-11-21T06:04:38.994316Z"
    }
   },
   "outputs": [
    {
     "data": {
      "text/plain": [
       "LinregressResult(slope=1031.2859321897258, intercept=-20.729009038366392, rvalue=0.5852119836413339, pvalue=9.905659111408955e-199, stderr=30.760751150512718, intercept_stderr=1.886702591052626)"
      ]
     },
     "execution_count": 31,
     "metadata": {},
     "output_type": "execute_result"
    }
   ],
   "source": [
    "X = merged_df['알코올 도수'].values\n",
    "y = merged_df['쓴 정도'].values\n",
    "\n",
    "lr_result = stats.linregress(X, y)\n",
    "lr_result"
   ]
  },
  {
   "cell_type": "code",
   "execution_count": 32,
   "id": "277c6300",
   "metadata": {
    "ExecuteTime": {
     "end_time": "2023-11-21T06:04:39.576590Z",
     "start_time": "2023-11-21T06:04:39.555939Z"
    }
   },
   "outputs": [],
   "source": [
    "beta_0 = lr_result.intercept\n",
    "beta_1 = lr_result.slope\n",
    "p_value = lr_result.pvalue"
   ]
  },
  {
   "cell_type": "code",
   "execution_count": 33,
   "id": "b8f3ac12",
   "metadata": {
    "ExecuteTime": {
     "end_time": "2023-11-21T06:04:40.416541Z",
     "start_time": "2023-11-21T06:04:40.283913Z"
    }
   },
   "outputs": [
    {
     "data": {
      "image/png": "[encoded data removed]",
      "text/plain": [
       "<Figure size 640x480 with 1 Axes>"
      ]
     },
     "metadata": {},
     "output_type": "display_data"
    }
   ],
   "source": [
    "plt.scatter(X, y, s=8)\n",
    "plt.plot(X, beta_1*X + beta_0, color='red')\n",
    "plt.xlabel('알코올 도수')\n",
    "plt.ylabel('쓴 정도(IBU)')\n",
    "plt.title('알코올 도수와 쓴 정도의 관계')\n",
    "plt.show()"
   ]
  },
  {
   "cell_type": "markdown",
   "id": "5dad01e6",
   "metadata": {},
   "source": [
    "산점도를 통해 확인해 본 결과 알코올 도수와 쓴 정도 사이에는 **양의 상관관계**가 존재함을 파악할 수 있었다. 이어서 이 회귀선이 유의미한지를 분석해 본다."
   ]
  },
  {
   "cell_type": "code",
   "execution_count": 98,
   "id": "203ab20d",
   "metadata": {
    "ExecuteTime": {
     "end_time": "2023-11-20T12:30:48.617708Z",
     "start_time": "2023-11-20T12:30:48.585859Z"
    }
   },
   "outputs": [
    {
     "name": "stdout",
     "output_type": "stream",
     "text": [
      "회귀계수가 통계적으로 유의미하다.\n"
     ]
    }
   ],
   "source": [
    "alpha = 0.05\n",
    "if p_value < alpha:\n",
    "    print('회귀계수가 통계적으로 유의미하다.')\n",
    "else:\n",
    "    print('회귀계수가 통계적으로 유의미하지 않다.')"
   ]
  },
  {
   "cell_type": "markdown",
   "id": "bb34b0d1",
   "metadata": {},
   "source": [
    "알코올 도수와 쓴 정도 사이에 유의미한 상관관계가 있는 것으로 분석되었다. 이상의 결과를 요약하면, 전반적으로 센 맥주(알코올 도수가 높은 맥주)일수록 쓴 맛도 강하고, 약한 맥주(알코올 도수가 낮은 맥주)일수록 쓴 맛도 약한 편으로 이해할 수 있다. 그렇다면 우리가 취할 수 있는 제품 포지셔닝 전략은 다음과 같을 것이다.\n",
    "- 매니아틱한 수제 맥주 (알코올 도수가 강하고, 쓴 맛이 강한 제품)\n",
    "- 입문용 수제 맥주 (알코올 도수가 약하고, 쓴 맛이 약한 제품)"
   ]
  },
  {
   "cell_type": "markdown",
   "id": "995418a8",
   "metadata": {},
   "source": [
    "### 3-2. 소비자 선호도가 높은 제품군 분석 (클러스터링)"
   ]
  },
  {
   "cell_type": "markdown",
   "id": "ad183f00",
   "metadata": {},
   "source": [
    "우리가 표본으로 사용하는 데이터에는 제품의 판매량이나 소비자의 선호도 같은 직접적인 지표가 없기 때문에, 간접적인 방법을 통해 결과를 도출해야 한다. 따라서 본 분석에서는 **시장에 많이 출시된 유형**의 제품일수록 **소비자의 선호도가 높은** 것으로 가정한다.\n",
    "\n",
    "소비자의 선호도가 높은 제품의 특성을 알아보기 위해, 수제 맥주를 구성하는 주요 요인(알코올 도수, 쓴 정도)에 따른 **클러스터링**을 수행한다."
   ]
  },
  {
   "cell_type": "code",
   "execution_count": 34,
   "id": "feacc97a",
   "metadata": {
    "ExecuteTime": {
     "end_time": "2023-11-21T06:04:54.615475Z",
     "start_time": "2023-11-21T06:04:52.944512Z"
    }
   },
   "outputs": [
    {
     "name": "stderr",
     "output_type": "stream",
     "text": [
      "C:\\Users\\louis\\anaconda3\\envs\\ml\\lib\\site-packages\\sklearn\\cluster\\_kmeans.py:870: FutureWarning: The default value of `n_init` will change from 10 to 'auto' in 1.4. Set the value of `n_init` explicitly to suppress the warning\n",
      "  warnings.warn(\n",
      "C:\\Users\\louis\\anaconda3\\envs\\ml\\lib\\site-packages\\sklearn\\cluster\\_kmeans.py:870: FutureWarning: The default value of `n_init` will change from 10 to 'auto' in 1.4. Set the value of `n_init` explicitly to suppress the warning\n",
      "  warnings.warn(\n",
      "C:\\Users\\louis\\anaconda3\\envs\\ml\\lib\\site-packages\\sklearn\\cluster\\_kmeans.py:870: FutureWarning: The default value of `n_init` will change from 10 to 'auto' in 1.4. Set the value of `n_init` explicitly to suppress the warning\n",
      "  warnings.warn(\n",
      "C:\\Users\\louis\\anaconda3\\envs\\ml\\lib\\site-packages\\sklearn\\cluster\\_kmeans.py:870: FutureWarning: The default value of `n_init` will change from 10 to 'auto' in 1.4. Set the value of `n_init` explicitly to suppress the warning\n",
      "  warnings.warn(\n",
      "C:\\Users\\louis\\anaconda3\\envs\\ml\\lib\\site-packages\\sklearn\\cluster\\_kmeans.py:870: FutureWarning: The default value of `n_init` will change from 10 to 'auto' in 1.4. Set the value of `n_init` explicitly to suppress the warning\n",
      "  warnings.warn(\n",
      "C:\\Users\\louis\\anaconda3\\envs\\ml\\lib\\site-packages\\sklearn\\cluster\\_kmeans.py:870: FutureWarning: The default value of `n_init` will change from 10 to 'auto' in 1.4. Set the value of `n_init` explicitly to suppress the warning\n",
      "  warnings.warn(\n",
      "C:\\Users\\louis\\anaconda3\\envs\\ml\\lib\\site-packages\\sklearn\\cluster\\_kmeans.py:870: FutureWarning: The default value of `n_init` will change from 10 to 'auto' in 1.4. Set the value of `n_init` explicitly to suppress the warning\n",
      "  warnings.warn(\n",
      "C:\\Users\\louis\\anaconda3\\envs\\ml\\lib\\site-packages\\sklearn\\cluster\\_kmeans.py:870: FutureWarning: The default value of `n_init` will change from 10 to 'auto' in 1.4. Set the value of `n_init` explicitly to suppress the warning\n",
      "  warnings.warn(\n",
      "C:\\Users\\louis\\anaconda3\\envs\\ml\\lib\\site-packages\\sklearn\\cluster\\_kmeans.py:870: FutureWarning: The default value of `n_init` will change from 10 to 'auto' in 1.4. Set the value of `n_init` explicitly to suppress the warning\n",
      "  warnings.warn(\n",
      "C:\\Users\\louis\\anaconda3\\envs\\ml\\lib\\site-packages\\sklearn\\cluster\\_kmeans.py:870: FutureWarning: The default value of `n_init` will change from 10 to 'auto' in 1.4. Set the value of `n_init` explicitly to suppress the warning\n",
      "  warnings.warn(\n",
      "C:\\Users\\louis\\anaconda3\\envs\\ml\\lib\\site-packages\\sklearn\\cluster\\_kmeans.py:870: FutureWarning: The default value of `n_init` will change from 10 to 'auto' in 1.4. Set the value of `n_init` explicitly to suppress the warning\n",
      "  warnings.warn(\n",
      "C:\\Users\\louis\\anaconda3\\envs\\ml\\lib\\site-packages\\sklearn\\cluster\\_kmeans.py:870: FutureWarning: The default value of `n_init` will change from 10 to 'auto' in 1.4. Set the value of `n_init` explicitly to suppress the warning\n",
      "  warnings.warn(\n",
      "C:\\Users\\louis\\anaconda3\\envs\\ml\\lib\\site-packages\\sklearn\\cluster\\_kmeans.py:870: FutureWarning: The default value of `n_init` will change from 10 to 'auto' in 1.4. Set the value of `n_init` explicitly to suppress the warning\n",
      "  warnings.warn(\n",
      "C:\\Users\\louis\\anaconda3\\envs\\ml\\lib\\site-packages\\sklearn\\cluster\\_kmeans.py:870: FutureWarning: The default value of `n_init` will change from 10 to 'auto' in 1.4. Set the value of `n_init` explicitly to suppress the warning\n",
      "  warnings.warn(\n",
      "C:\\Users\\louis\\anaconda3\\envs\\ml\\lib\\site-packages\\sklearn\\cluster\\_kmeans.py:870: FutureWarning: The default value of `n_init` will change from 10 to 'auto' in 1.4. Set the value of `n_init` explicitly to suppress the warning\n",
      "  warnings.warn(\n",
      "C:\\Users\\louis\\anaconda3\\envs\\ml\\lib\\site-packages\\sklearn\\cluster\\_kmeans.py:870: FutureWarning: The default value of `n_init` will change from 10 to 'auto' in 1.4. Set the value of `n_init` explicitly to suppress the warning\n",
      "  warnings.warn(\n",
      "C:\\Users\\louis\\anaconda3\\envs\\ml\\lib\\site-packages\\sklearn\\cluster\\_kmeans.py:870: FutureWarning: The default value of `n_init` will change from 10 to 'auto' in 1.4. Set the value of `n_init` explicitly to suppress the warning\n",
      "  warnings.warn(\n",
      "C:\\Users\\louis\\anaconda3\\envs\\ml\\lib\\site-packages\\sklearn\\cluster\\_kmeans.py:870: FutureWarning: The default value of `n_init` will change from 10 to 'auto' in 1.4. Set the value of `n_init` explicitly to suppress the warning\n",
      "  warnings.warn(\n",
      "C:\\Users\\louis\\anaconda3\\envs\\ml\\lib\\site-packages\\sklearn\\cluster\\_kmeans.py:870: FutureWarning: The default value of `n_init` will change from 10 to 'auto' in 1.4. Set the value of `n_init` explicitly to suppress the warning\n",
      "  warnings.warn(\n",
      "C:\\Users\\louis\\anaconda3\\envs\\ml\\lib\\site-packages\\sklearn\\cluster\\_kmeans.py:870: FutureWarning: The default value of `n_init` will change from 10 to 'auto' in 1.4. Set the value of `n_init` explicitly to suppress the warning\n",
      "  warnings.warn(\n"
     ]
    },
    {
     "data": {
      "image/png": "[encoded data removed]",
      "text/plain": [
       "<Figure size 640x480 with 1 Axes>"
      ]
     },
     "metadata": {},
     "output_type": "display_data"
    }
   ],
   "source": [
    "X = merged_df[['알코올 도수', '쓴 정도']]\n",
    "\n",
    "# 적절한 K 값을 결정하기 위한 엘보우 메소드\n",
    "wcss = []\n",
    "for i in range(1, 21):\n",
    "    kmeans = KMeans(n_clusters=i, random_state=0)\n",
    "    kmeans.fit(X)\n",
    "    wcss.append(kmeans.inertia_)\n",
    "\n",
    "# 엘보우 그래프를 그려서 적절한 K 값을 선택\n",
    "plt.plot(range(1, 21), wcss)\n",
    "plt.xticks([i for i in range(21)])\n",
    "plt.xlabel('클러스터 수')\n",
    "plt.ylabel('클러스터 내 분산의 합')\n",
    "plt.show()"
   ]
  },
  {
   "cell_type": "markdown",
   "id": "213cc102",
   "metadata": {},
   "source": [
    "엘보우 메소드에 따라 군집의 개수 **k = 4**로 결정한다."
   ]
  },
  {
   "cell_type": "code",
   "execution_count": 35,
   "id": "ea4c7f24",
   "metadata": {
    "ExecuteTime": {
     "end_time": "2023-11-21T06:05:05.714569Z",
     "start_time": "2023-11-21T06:05:05.625198Z"
    }
   },
   "outputs": [
    {
     "name": "stderr",
     "output_type": "stream",
     "text": [
      "C:\\Users\\louis\\anaconda3\\envs\\ml\\lib\\site-packages\\sklearn\\cluster\\_kmeans.py:870: FutureWarning: The default value of `n_init` will change from 10 to 'auto' in 1.4. Set the value of `n_init` explicitly to suppress the warning\n",
      "  warnings.warn(\n"
     ]
    },
    {
     "data": {
      "text/html": [
       "<div>\n",
       "<style scoped>\n",
       "    .dataframe tbody tr th:only-of-type {\n",
       "        vertical-align: middle;\n",
       "    }\n",
       "\n",
       "    .dataframe tbody tr th {\n",
       "        vertical-align: top;\n",
       "    }\n",
       "\n",
       "    .dataframe thead th {\n",
       "        text-align: right;\n",
       "    }\n",
       "</style>\n",
       "<table border=\"1\" class=\"dataframe\">\n",
       "  <thead>\n",
       "    <tr style=\"text-align: right;\">\n",
       "      <th></th>\n",
       "      <th>알코올 도수</th>\n",
       "      <th>쓴 정도</th>\n",
       "      <th>id</th>\n",
       "      <th>이름</th>\n",
       "      <th>스타일</th>\n",
       "      <th>brewery_id</th>\n",
       "      <th>질량</th>\n",
       "      <th>양조장 이름</th>\n",
       "      <th>양조장 소재 도시</th>\n",
       "      <th>양조장 소재 주</th>\n",
       "      <th>클러스터</th>\n",
       "    </tr>\n",
       "  </thead>\n",
       "  <tbody>\n",
       "    <tr>\n",
       "      <th>0</th>\n",
       "      <td>0.050</td>\n",
       "      <td>26.600000</td>\n",
       "      <td>1436</td>\n",
       "      <td>Pub Beer</td>\n",
       "      <td>American Pale Lager</td>\n",
       "      <td>408</td>\n",
       "      <td>12.0</td>\n",
       "      <td>10 Barrel Brewing Company</td>\n",
       "      <td>Bend</td>\n",
       "      <td>OR</td>\n",
       "      <td>2</td>\n",
       "    </tr>\n",
       "    <tr>\n",
       "      <th>1</th>\n",
       "      <td>0.066</td>\n",
       "      <td>44.394366</td>\n",
       "      <td>2265</td>\n",
       "      <td>Devil's Cup</td>\n",
       "      <td>American Pale Ale (APA)</td>\n",
       "      <td>177</td>\n",
       "      <td>12.0</td>\n",
       "      <td>18th Street Brewery</td>\n",
       "      <td>Gary</td>\n",
       "      <td>IN</td>\n",
       "      <td>0</td>\n",
       "    </tr>\n",
       "    <tr>\n",
       "      <th>2</th>\n",
       "      <td>0.071</td>\n",
       "      <td>67.694444</td>\n",
       "      <td>2264</td>\n",
       "      <td>Rise of the Phoenix</td>\n",
       "      <td>American IPA</td>\n",
       "      <td>177</td>\n",
       "      <td>12.0</td>\n",
       "      <td>18th Street Brewery</td>\n",
       "      <td>Gary</td>\n",
       "      <td>IN</td>\n",
       "      <td>3</td>\n",
       "    </tr>\n",
       "    <tr>\n",
       "      <th>3</th>\n",
       "      <td>0.090</td>\n",
       "      <td>93.323944</td>\n",
       "      <td>2263</td>\n",
       "      <td>Sinister</td>\n",
       "      <td>American Double / Imperial IPA</td>\n",
       "      <td>177</td>\n",
       "      <td>12.0</td>\n",
       "      <td>18th Street Brewery</td>\n",
       "      <td>Gary</td>\n",
       "      <td>IN</td>\n",
       "      <td>1</td>\n",
       "    </tr>\n",
       "    <tr>\n",
       "      <th>4</th>\n",
       "      <td>0.075</td>\n",
       "      <td>67.694444</td>\n",
       "      <td>2262</td>\n",
       "      <td>Sex and Candy</td>\n",
       "      <td>American IPA</td>\n",
       "      <td>177</td>\n",
       "      <td>12.0</td>\n",
       "      <td>18th Street Brewery</td>\n",
       "      <td>Gary</td>\n",
       "      <td>IN</td>\n",
       "      <td>3</td>\n",
       "    </tr>\n",
       "    <tr>\n",
       "      <th>...</th>\n",
       "      <td>...</td>\n",
       "      <td>...</td>\n",
       "      <td>...</td>\n",
       "      <td>...</td>\n",
       "      <td>...</td>\n",
       "      <td>...</td>\n",
       "      <td>...</td>\n",
       "      <td>...</td>\n",
       "      <td>...</td>\n",
       "      <td>...</td>\n",
       "      <td>...</td>\n",
       "    </tr>\n",
       "    <tr>\n",
       "      <th>2300</th>\n",
       "      <td>0.067</td>\n",
       "      <td>45.000000</td>\n",
       "      <td>928</td>\n",
       "      <td>Belgorado</td>\n",
       "      <td>Belgian IPA</td>\n",
       "      <td>424</td>\n",
       "      <td>12.0</td>\n",
       "      <td>Wynkoop Brewing Company</td>\n",
       "      <td>Denver</td>\n",
       "      <td>CO</td>\n",
       "      <td>0</td>\n",
       "    </tr>\n",
       "    <tr>\n",
       "      <th>2301</th>\n",
       "      <td>0.052</td>\n",
       "      <td>36.539474</td>\n",
       "      <td>807</td>\n",
       "      <td>Rail Yard Ale</td>\n",
       "      <td>American Amber / Red Ale</td>\n",
       "      <td>424</td>\n",
       "      <td>12.0</td>\n",
       "      <td>Wynkoop Brewing Company</td>\n",
       "      <td>Denver</td>\n",
       "      <td>CO</td>\n",
       "      <td>0</td>\n",
       "    </tr>\n",
       "    <tr>\n",
       "      <th>2302</th>\n",
       "      <td>0.055</td>\n",
       "      <td>31.000000</td>\n",
       "      <td>620</td>\n",
       "      <td>B3K Black Lager</td>\n",
       "      <td>Schwarzbier</td>\n",
       "      <td>424</td>\n",
       "      <td>12.0</td>\n",
       "      <td>Wynkoop Brewing Company</td>\n",
       "      <td>Denver</td>\n",
       "      <td>CO</td>\n",
       "      <td>0</td>\n",
       "    </tr>\n",
       "    <tr>\n",
       "      <th>2303</th>\n",
       "      <td>0.055</td>\n",
       "      <td>40.000000</td>\n",
       "      <td>145</td>\n",
       "      <td>Silverback Pale Ale</td>\n",
       "      <td>American Pale Ale (APA)</td>\n",
       "      <td>424</td>\n",
       "      <td>12.0</td>\n",
       "      <td>Wynkoop Brewing Company</td>\n",
       "      <td>Denver</td>\n",
       "      <td>CO</td>\n",
       "      <td>0</td>\n",
       "    </tr>\n",
       "    <tr>\n",
       "      <th>2304</th>\n",
       "      <td>0.052</td>\n",
       "      <td>36.539474</td>\n",
       "      <td>84</td>\n",
       "      <td>Rail Yard Ale (2009)</td>\n",
       "      <td>American Amber / Red Ale</td>\n",
       "      <td>424</td>\n",
       "      <td>12.0</td>\n",
       "      <td>Wynkoop Brewing Company</td>\n",
       "      <td>Denver</td>\n",
       "      <td>CO</td>\n",
       "      <td>0</td>\n",
       "    </tr>\n",
       "  </tbody>\n",
       "</table>\n",
       "<p>2160 rows × 11 columns</p>\n",
       "</div>"
      ],
      "text/plain": [
       "      알코올 도수       쓴 정도    id                    이름  \\\n",
       "0      0.050  26.600000  1436              Pub Beer   \n",
       "1      0.066  44.394366  2265           Devil's Cup   \n",
       "2      0.071  67.694444  2264   Rise of the Phoenix   \n",
       "3      0.090  93.323944  2263              Sinister   \n",
       "4      0.075  67.694444  2262         Sex and Candy   \n",
       "...      ...        ...   ...                   ...   \n",
       "2300   0.067  45.000000   928             Belgorado   \n",
       "2301   0.052  36.539474   807         Rail Yard Ale   \n",
       "2302   0.055  31.000000   620       B3K Black Lager   \n",
       "2303   0.055  40.000000   145   Silverback Pale Ale   \n",
       "2304   0.052  36.539474    84  Rail Yard Ale (2009)   \n",
       "\n",
       "                                 스타일  brewery_id    질량  \\\n",
       "0                American Pale Lager         408  12.0   \n",
       "1            American Pale Ale (APA)         177  12.0   \n",
       "2                       American IPA         177  12.0   \n",
       "3     American Double / Imperial IPA         177  12.0   \n",
       "4                       American IPA         177  12.0   \n",
       "...                              ...         ...   ...   \n",
       "2300                     Belgian IPA         424  12.0   \n",
       "2301        American Amber / Red Ale         424  12.0   \n",
       "2302                     Schwarzbier         424  12.0   \n",
       "2303         American Pale Ale (APA)         424  12.0   \n",
       "2304        American Amber / Red Ale         424  12.0   \n",
       "\n",
       "                         양조장 이름 양조장 소재 도시 양조장 소재 주  클러스터  \n",
       "0     10 Barrel Brewing Company      Bend       OR     2  \n",
       "1           18th Street Brewery      Gary       IN     0  \n",
       "2           18th Street Brewery      Gary       IN     3  \n",
       "3           18th Street Brewery      Gary       IN     1  \n",
       "4           18th Street Brewery      Gary       IN     3  \n",
       "...                         ...       ...      ...   ...  \n",
       "2300    Wynkoop Brewing Company    Denver       CO     0  \n",
       "2301    Wynkoop Brewing Company    Denver       CO     0  \n",
       "2302    Wynkoop Brewing Company    Denver       CO     0  \n",
       "2303    Wynkoop Brewing Company    Denver       CO     0  \n",
       "2304    Wynkoop Brewing Company    Denver       CO     0  \n",
       "\n",
       "[2160 rows x 11 columns]"
      ]
     },
     "execution_count": 35,
     "metadata": {},
     "output_type": "execute_result"
    }
   ],
   "source": [
    "kmeans = KMeans(n_clusters=4, random_state=0)\n",
    "merged_df['클러스터'] = kmeans.fit_predict(X)\n",
    "merged_df"
   ]
  },
  {
   "cell_type": "markdown",
   "id": "ccd52941",
   "metadata": {},
   "source": [
    "4개의 클러스터 각각에 대한 특성치들을 알아본다."
   ]
  },
  {
   "cell_type": "code",
   "execution_count": 36,
   "id": "27c6615f",
   "metadata": {
    "ExecuteTime": {
     "end_time": "2023-11-21T06:05:10.756709Z",
     "start_time": "2023-11-21T06:05:10.733000Z"
    }
   },
   "outputs": [
    {
     "data": {
      "text/html": [
       "<div>\n",
       "<style scoped>\n",
       "    .dataframe tbody tr th:only-of-type {\n",
       "        vertical-align: middle;\n",
       "    }\n",
       "\n",
       "    .dataframe tbody tr th {\n",
       "        vertical-align: top;\n",
       "    }\n",
       "\n",
       "    .dataframe thead th {\n",
       "        text-align: right;\n",
       "    }\n",
       "</style>\n",
       "<table border=\"1\" class=\"dataframe\">\n",
       "  <thead>\n",
       "    <tr style=\"text-align: right;\">\n",
       "      <th></th>\n",
       "      <th>개수</th>\n",
       "      <th>알코올 도수</th>\n",
       "      <th>쓴 정도</th>\n",
       "    </tr>\n",
       "    <tr>\n",
       "      <th>클러스터</th>\n",
       "      <th></th>\n",
       "      <th></th>\n",
       "      <th></th>\n",
       "    </tr>\n",
       "  </thead>\n",
       "  <tbody>\n",
       "    <tr>\n",
       "      <th>0</th>\n",
       "      <td>644</td>\n",
       "      <td>0.056857</td>\n",
       "      <td>38.270879</td>\n",
       "    </tr>\n",
       "    <tr>\n",
       "      <th>1</th>\n",
       "      <td>176</td>\n",
       "      <td>0.081205</td>\n",
       "      <td>92.954105</td>\n",
       "    </tr>\n",
       "    <tr>\n",
       "      <th>2</th>\n",
       "      <td>886</td>\n",
       "      <td>0.054133</td>\n",
       "      <td>20.123265</td>\n",
       "    </tr>\n",
       "    <tr>\n",
       "      <th>3</th>\n",
       "      <td>454</td>\n",
       "      <td>0.066868</td>\n",
       "      <td>65.332110</td>\n",
       "    </tr>\n",
       "  </tbody>\n",
       "</table>\n",
       "</div>"
      ],
      "text/plain": [
       "       개수    알코올 도수       쓴 정도\n",
       "클러스터                          \n",
       "0     644  0.056857  38.270879\n",
       "1     176  0.081205  92.954105\n",
       "2     886  0.054133  20.123265\n",
       "3     454  0.066868  65.332110"
      ]
     },
     "execution_count": 36,
     "metadata": {},
     "output_type": "execute_result"
    }
   ],
   "source": [
    "cluster_stats = merged_df.groupby('클러스터').agg({\n",
    "    '이름': 'count',\n",
    "    '알코올 도수': 'mean',\n",
    "    '쓴 정도': 'mean'\n",
    "}).rename(columns={'이름': '개수'})\n",
    "\n",
    "cluster_stats"
   ]
  },
  {
   "cell_type": "code",
   "execution_count": 37,
   "id": "f16159d5",
   "metadata": {
    "ExecuteTime": {
     "end_time": "2023-11-21T06:05:12.768022Z",
     "start_time": "2023-11-21T06:05:12.508827Z"
    }
   },
   "outputs": [
    {
     "data": {
      "image/png": "[encoded data removed]",
      "text/plain": [
       "<Figure size 1200x400 with 2 Axes>"
      ]
     },
     "metadata": {},
     "output_type": "display_data"
    }
   ],
   "source": [
    "fig, axes = plt.subplots(nrows=1, ncols=2, figsize=(12, 4), constrained_layout=True)\n",
    "\n",
    "sns.boxplot(x='클러스터', y='알코올 도수', data=merged_df, ax=axes[0])\n",
    "axes[0].axhline(merged_df['알코올 도수'].mean(), linestyle='--', color='red', linewidth=2)\n",
    "axes[0].set_title('각 클러스터의 알코올 도수 수준')\n",
    "\n",
    "sns.boxplot(x='클러스터', y='쓴 정도', data=merged_df, ax=axes[1])\n",
    "axes[1].axhline(merged_df['쓴 정도'].mean(), linestyle='--', color='red', linewidth=2)\n",
    "axes[1].set_title('각 클러스터의 쓴 정도 수준')\n",
    "\n",
    "plt.show()"
   ]
  },
  {
   "cell_type": "markdown",
   "id": "948621c7",
   "metadata": {},
   "source": [
    "대략적으로 살펴봤을 때, 매니아틱한 제품군이 1, 평균 제품군이 0과 3, 입문자용 제품군이 2인 것 같다."
   ]
  },
  {
   "cell_type": "code",
   "execution_count": 38,
   "id": "9b9b683c",
   "metadata": {
    "ExecuteTime": {
     "end_time": "2023-11-21T06:05:14.621468Z",
     "start_time": "2023-11-21T06:05:14.360223Z"
    }
   },
   "outputs": [
    {
     "data": {
      "image/png": "[encoded data removed]",
      "text/plain": [
       "<Figure size 640x480 with 1 Axes>"
      ]
     },
     "metadata": {},
     "output_type": "display_data"
    }
   ],
   "source": [
    "sns.scatterplot(merged_df, x='알코올 도수', y='쓴 정도', hue='클러스터')\n",
    "plt.title('제품군별 포지셔닝 시각화')\n",
    "plt.show()"
   ]
  },
  {
   "cell_type": "markdown",
   "id": "3d27e542",
   "metadata": {},
   "source": [
    "산점도로 그려보니 보다 뚜렷하게 구분된다. 다만 클러스터별 차이가 통계적으로 유의미한 것인지를 확인해 볼 필요는 있다. 지금부터는 알코올 도수와 쓴 정도가 **평균 대비 25% 이상** 뚜렷하게 구분되는 특징인지를 확인해 보고자 한다. 이 과정에는 Z-Score를 사용한다."
   ]
  },
  {
   "cell_type": "code",
   "execution_count": 39,
   "id": "df621e10",
   "metadata": {
    "ExecuteTime": {
     "end_time": "2023-11-21T06:05:16.152669Z",
     "start_time": "2023-11-21T06:05:16.135927Z"
    }
   },
   "outputs": [
    {
     "data": {
      "text/html": [
       "<div>\n",
       "<style scoped>\n",
       "    .dataframe tbody tr th:only-of-type {\n",
       "        vertical-align: middle;\n",
       "    }\n",
       "\n",
       "    .dataframe tbody tr th {\n",
       "        vertical-align: top;\n",
       "    }\n",
       "\n",
       "    .dataframe thead th {\n",
       "        text-align: right;\n",
       "    }\n",
       "</style>\n",
       "<table border=\"1\" class=\"dataframe\">\n",
       "  <thead>\n",
       "    <tr style=\"text-align: right;\">\n",
       "      <th></th>\n",
       "      <th>개수</th>\n",
       "      <th>알코올 도수</th>\n",
       "      <th>쓴 정도</th>\n",
       "    </tr>\n",
       "    <tr>\n",
       "      <th>클러스터</th>\n",
       "      <th></th>\n",
       "      <th></th>\n",
       "      <th></th>\n",
       "    </tr>\n",
       "  </thead>\n",
       "  <tbody>\n",
       "    <tr>\n",
       "      <th>0</th>\n",
       "      <td>0.399982</td>\n",
       "      <td>-0.745417</td>\n",
       "      <td>-0.576653</td>\n",
       "    </tr>\n",
       "    <tr>\n",
       "      <th>1</th>\n",
       "      <td>-1.399938</td>\n",
       "      <td>1.549440</td>\n",
       "      <td>1.406668</td>\n",
       "    </tr>\n",
       "    <tr>\n",
       "      <th>2</th>\n",
       "      <td>1.330710</td>\n",
       "      <td>-1.002163</td>\n",
       "      <td>-1.234853</td>\n",
       "    </tr>\n",
       "    <tr>\n",
       "      <th>3</th>\n",
       "      <td>-0.330755</td>\n",
       "      <td>0.198139</td>\n",
       "      <td>0.404838</td>\n",
       "    </tr>\n",
       "  </tbody>\n",
       "</table>\n",
       "</div>"
      ],
      "text/plain": [
       "            개수    알코올 도수      쓴 정도\n",
       "클러스터                              \n",
       "0     0.399982 -0.745417 -0.576653\n",
       "1    -1.399938  1.549440  1.406668\n",
       "2     1.330710 -1.002163 -1.234853\n",
       "3    -0.330755  0.198139  0.404838"
      ]
     },
     "execution_count": 39,
     "metadata": {},
     "output_type": "execute_result"
    }
   ],
   "source": [
    "# Z-score를 계산\n",
    "z_scores = stats.zscore(cluster_stats)\n",
    "\n",
    "z_scores"
   ]
  },
  {
   "cell_type": "code",
   "execution_count": 40,
   "id": "943b53ae",
   "metadata": {
    "ExecuteTime": {
     "end_time": "2023-11-21T06:05:18.098210Z",
     "start_time": "2023-11-21T06:05:17.649756Z"
    }
   },
   "outputs": [
    {
     "data": {
      "image/png": "[encoded data removed]",
      "text/plain": [
       "<Figure size 1200x900 with 4 Axes>"
      ]
     },
     "metadata": {},
     "output_type": "display_data"
    }
   ],
   "source": [
    "# 25% 이상 크거나 작은 값을 확인\n",
    "threshold = 0.674\n",
    "\n",
    "fig, axes = plt.subplots(nrows=2, ncols=2, figsize=(12, 9), constrained_layout=True)\n",
    "\n",
    "for i in range(2):\n",
    "    for j in range(2):\n",
    "        axes[i][j].set_title(f\"클러스터 #{2 * i + j}\")\n",
    "        z_scores.loc[2 * i + j].plot(kind='bar', ax=axes[i][j])\n",
    "        axes[i][j].set_yticks([i for i in range(-3, 4)])\n",
    "        axes[i][j].axhline(threshold, color='red', linestyle='--', linewidth=2)\n",
    "        axes[i][j].axhline(0, color='black', linewidth=0.75)\n",
    "        axes[i][j].axhline(-threshold, color='red', linestyle='--', linewidth=2)"
   ]
  },
  {
   "cell_type": "markdown",
   "id": "5fa877ec",
   "metadata": {},
   "source": [
    "개수가 평균보다 유의미하게 많은 클러스터는 2번이다. 본 분석에서 가정한 바에 따라 2번 제품군이 가장 소비자 선호도가 높다. 이때 2번 제품군에 속하는 제품들은 알코올 도수와 쓴 정도가 모두 전체 제품 평균보다 25% 이상 두드러지게 낮은 수치를 가진다. 즉 **진입장벽이 낮을수록 대중적이다**라는 진리에 가까운 결과를 얻을 수 있다.\n",
    "\n",
    "이슬씨는 이 분석 결과를 접목하여 신규 제품 'HONEY DEW'를 다음과 같이 고안했다.\n",
    "- 산뜻하고 캐주얼한 노란색 캔 디자인\n",
    "- 알코올 도수가 5.4%로 낮고, 쓴 정도가 20으로 약한 제품\n",
    "- 가벼운 마음으로 먹을 수 있다는 취지의 마케팅 (치맥 같은 거)"
   ]
  },
  {
   "cell_type": "markdown",
   "id": "3d5ce7bb",
   "metadata": {},
   "source": [
    "## 4. 후기"
   ]
  },
  {
   "cell_type": "markdown",
   "id": "906d2368",
   "metadata": {},
   "source": [
    "본 분석을 통해 미국 수제 맥주 시장을 구성하는 다양한 제품들을 확인해 보았다. 미국 수제 맥주 시장에서는 알코올 도수가 낮고, 쓴 정도가 낮은 제품군의 점유율이 두드러지게 높은 점을 파악할 수 있었다.\n",
    "\n",
    "이번 분석에서 쓴 데이터셋은 어떤 개인 유저에 의해 직접적으로 수집된 데이터이기 때문에 예쁘게 가공되어 있지는 않았다. 중복된 데이터가 여러 개 포함되어 있는 경우가 있어서 그것에 대한 별도의 처리가 필요했고, 또한 IBU 같은 **핵심 컬럼의 결측치**가 다소 많아서 마음 편하게 drop해버리지 못하는 문제도 있었다. 특히 결측치 문제는 어떻게 처리할지 많은 고민이 필요했는데, 최종적으로 제품 스타일 단위로 평균을 취해서 넣어주었다. 결측치 처리 문제는 현업의 데분에서 정말 많이 고민해야 하는 요인이라고 들었는데 그런 과정을 일부분 경험해 볼 수 있었고 추후에도 이런 데이터들을 활용하면 경험치를 더욱 쌓아나갈 수 있겠다는 생각을 했다.\n",
    "\n",
    "이번 분석에서는 상황을 만들어서 그 상황에 몰입하는 방식으로 진행해 보았다. 제품 기획팀의 입장에서 어떤 식으로 시장을 분석해 나갈지 생각해 볼 수 있었던 경험이었다. 또한 얻어내야 하는 인사이트를 어떤 방식으로 접근할지도 고민해 볼 수 있었다. 최종적으로 선형회귀분석과 클러스터링을 적용하여 분석을 진행했다.\n",
    "\n",
    "아쉬웠던 점은 역시 실제 시장에서의 판매량 또는 고객 데이터를 구할 수 없었다는 점이다. 실제 판매량을 도입하거나, 유저 데이터를 활용할 수 이 있었더라면 더욱 정교한 분석을 진행해 볼 수 있었을 것이다."
   ]
  }
 ],
 "metadata": {
  "kernelspec": {
   "display_name": "Python 3 (ipykernel)",
   "language": "python",
   "name": "python3"
  },
  "language_info": {
   "codemirror_mode": {
    "name": "ipython",
    "version": 3
   },
   "file_extension": ".py",
   "mimetype": "text/x-python",
   "name": "python",
   "nbconvert_exporter": "python",
   "pygments_lexer": "ipython3",
   "version": "3.9.16"
  },
  "toc": {
   "base_numbering": 1,
   "nav_menu": {},
   "number_sections": false,
   "sideBar": true,
   "skip_h1_title": false,
   "title_cell": "Table of Contents",
   "title_sidebar": "Contents",
   "toc_cell": false,
   "toc_position": {},
   "toc_section_display": true,
   "toc_window_display": false
  }
 },
 "nbformat": 4,
 "nbformat_minor": 5
}
