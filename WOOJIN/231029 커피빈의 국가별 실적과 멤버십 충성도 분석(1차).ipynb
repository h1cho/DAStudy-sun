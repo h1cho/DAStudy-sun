{
 "cells": [
  {
   "cell_type": "code",
   "execution_count": 2,
   "id": "c3fa2c95",
   "metadata": {
    "ExecuteTime": {
     "end_time": "2023-10-29T09:23:14.414220Z",
     "start_time": "2023-10-29T09:23:11.422104Z"
    }
   },
   "outputs": [
    {
     "name": "stdout",
     "output_type": "stream",
     "text": [
      "Collecting openpyxl\n",
      "  Downloading openpyxl-3.1.2-py2.py3-none-any.whl (249 kB)\n",
      "     -------------------------------------- 250.0/250.0 kB 3.1 MB/s eta 0:00:00\n",
      "Collecting et-xmlfile\n",
      "  Downloading et_xmlfile-1.1.0-py3-none-any.whl (4.7 kB)\n",
      "Installing collected packages: et-xmlfile, openpyxl\n",
      "Successfully installed et-xmlfile-1.1.0 openpyxl-3.1.2\n"
     ]
    }
   ],
   "source": [
    "!pip install openpyxl"
   ]
  },
  {
   "cell_type": "code",
   "execution_count": 3,
   "id": "8cb65eb8",
   "metadata": {
    "ExecuteTime": {
     "end_time": "2023-10-29T09:23:17.735270Z",
     "start_time": "2023-10-29T09:23:16.415504Z"
    }
   },
   "outputs": [
    {
     "name": "stdout",
     "output_type": "stream",
     "text": [
      "3\n"
     ]
    }
   ],
   "source": [
    "import pandas as pd\n",
    "import numpy as np\n",
    "import matplotlib.pyplot as plt\n",
    "\n",
    "dfs = {}\n",
    "# Excel 파일을 열기\n",
    "for sheet in pd.ExcelFile('Raw Data.xlsx').sheet_names:\n",
    "    dfs[sheet] = pd.read_excel('Raw Data.xlsx', sheet_name=sheet)\n",
    "\n",
    "print(len(dfs))"
   ]
  },
  {
   "cell_type": "code",
   "execution_count": 5,
   "id": "dc4eac6f",
   "metadata": {
    "ExecuteTime": {
     "end_time": "2023-10-29T09:23:48.043150Z",
     "start_time": "2023-10-29T09:23:47.970746Z"
    }
   },
   "outputs": [
    {
     "data": {
      "text/plain": [
       "dict_keys(['orders', 'customers', 'products'])"
      ]
     },
     "execution_count": 5,
     "metadata": {},
     "output_type": "execute_result"
    }
   ],
   "source": [
    "dfs.keys()"
   ]
  },
  {
   "cell_type": "markdown",
   "id": "3998bc78",
   "metadata": {},
   "source": [
    "### orders"
   ]
  },
  {
   "cell_type": "code",
   "execution_count": 6,
   "id": "4fc8b279",
   "metadata": {
    "ExecuteTime": {
     "end_time": "2023-10-29T09:24:03.828691Z",
     "start_time": "2023-10-29T09:24:03.749382Z"
    }
   },
   "outputs": [
    {
     "data": {
      "text/html": [
       "<div>\n",
       "<style scoped>\n",
       "    .dataframe tbody tr th:only-of-type {\n",
       "        vertical-align: middle;\n",
       "    }\n",
       "\n",
       "    .dataframe tbody tr th {\n",
       "        vertical-align: top;\n",
       "    }\n",
       "\n",
       "    .dataframe thead th {\n",
       "        text-align: right;\n",
       "    }\n",
       "</style>\n",
       "<table border=\"1\" class=\"dataframe\">\n",
       "  <thead>\n",
       "    <tr style=\"text-align: right;\">\n",
       "      <th></th>\n",
       "      <th>Order ID</th>\n",
       "      <th>Order Date</th>\n",
       "      <th>Customer ID</th>\n",
       "      <th>Product ID</th>\n",
       "      <th>Quantity</th>\n",
       "      <th>Customer Name</th>\n",
       "      <th>Email</th>\n",
       "      <th>Country</th>\n",
       "      <th>Coffee Type</th>\n",
       "      <th>Roast Type</th>\n",
       "      <th>Size</th>\n",
       "      <th>Unit Price</th>\n",
       "      <th>Sales</th>\n",
       "    </tr>\n",
       "  </thead>\n",
       "  <tbody>\n",
       "    <tr>\n",
       "      <th>0</th>\n",
       "      <td>QEV-37451-860</td>\n",
       "      <td>2019-09-05</td>\n",
       "      <td>17670-51384-MA</td>\n",
       "      <td>R-M-1</td>\n",
       "      <td>2</td>\n",
       "      <td>NaN</td>\n",
       "      <td>NaN</td>\n",
       "      <td>NaN</td>\n",
       "      <td>NaN</td>\n",
       "      <td>NaN</td>\n",
       "      <td>NaN</td>\n",
       "      <td>NaN</td>\n",
       "      <td>NaN</td>\n",
       "    </tr>\n",
       "    <tr>\n",
       "      <th>1</th>\n",
       "      <td>QEV-37451-860</td>\n",
       "      <td>2019-09-05</td>\n",
       "      <td>17670-51384-MA</td>\n",
       "      <td>E-M-0.5</td>\n",
       "      <td>5</td>\n",
       "      <td>NaN</td>\n",
       "      <td>NaN</td>\n",
       "      <td>NaN</td>\n",
       "      <td>NaN</td>\n",
       "      <td>NaN</td>\n",
       "      <td>NaN</td>\n",
       "      <td>NaN</td>\n",
       "      <td>NaN</td>\n",
       "    </tr>\n",
       "    <tr>\n",
       "      <th>2</th>\n",
       "      <td>FAA-43335-268</td>\n",
       "      <td>2021-06-17</td>\n",
       "      <td>21125-22134-PX</td>\n",
       "      <td>A-L-1</td>\n",
       "      <td>1</td>\n",
       "      <td>NaN</td>\n",
       "      <td>NaN</td>\n",
       "      <td>NaN</td>\n",
       "      <td>NaN</td>\n",
       "      <td>NaN</td>\n",
       "      <td>NaN</td>\n",
       "      <td>NaN</td>\n",
       "      <td>NaN</td>\n",
       "    </tr>\n",
       "    <tr>\n",
       "      <th>3</th>\n",
       "      <td>KAC-83089-793</td>\n",
       "      <td>2021-07-15</td>\n",
       "      <td>23806-46781-OU</td>\n",
       "      <td>E-M-1</td>\n",
       "      <td>2</td>\n",
       "      <td>NaN</td>\n",
       "      <td>NaN</td>\n",
       "      <td>NaN</td>\n",
       "      <td>NaN</td>\n",
       "      <td>NaN</td>\n",
       "      <td>NaN</td>\n",
       "      <td>NaN</td>\n",
       "      <td>NaN</td>\n",
       "    </tr>\n",
       "    <tr>\n",
       "      <th>4</th>\n",
       "      <td>KAC-83089-793</td>\n",
       "      <td>2021-07-15</td>\n",
       "      <td>23806-46781-OU</td>\n",
       "      <td>R-L-2.5</td>\n",
       "      <td>2</td>\n",
       "      <td>NaN</td>\n",
       "      <td>NaN</td>\n",
       "      <td>NaN</td>\n",
       "      <td>NaN</td>\n",
       "      <td>NaN</td>\n",
       "      <td>NaN</td>\n",
       "      <td>NaN</td>\n",
       "      <td>NaN</td>\n",
       "    </tr>\n",
       "    <tr>\n",
       "      <th>...</th>\n",
       "      <td>...</td>\n",
       "      <td>...</td>\n",
       "      <td>...</td>\n",
       "      <td>...</td>\n",
       "      <td>...</td>\n",
       "      <td>...</td>\n",
       "      <td>...</td>\n",
       "      <td>...</td>\n",
       "      <td>...</td>\n",
       "      <td>...</td>\n",
       "      <td>...</td>\n",
       "      <td>...</td>\n",
       "      <td>...</td>\n",
       "    </tr>\n",
       "    <tr>\n",
       "      <th>995</th>\n",
       "      <td>RLM-96511-467</td>\n",
       "      <td>2020-01-06</td>\n",
       "      <td>43014-53743-XK</td>\n",
       "      <td>R-L-2.5</td>\n",
       "      <td>1</td>\n",
       "      <td>NaN</td>\n",
       "      <td>NaN</td>\n",
       "      <td>NaN</td>\n",
       "      <td>NaN</td>\n",
       "      <td>NaN</td>\n",
       "      <td>NaN</td>\n",
       "      <td>NaN</td>\n",
       "      <td>NaN</td>\n",
       "    </tr>\n",
       "    <tr>\n",
       "      <th>996</th>\n",
       "      <td>AEZ-13242-456</td>\n",
       "      <td>2022-05-04</td>\n",
       "      <td>62494-09113-RP</td>\n",
       "      <td>R-M-0.5</td>\n",
       "      <td>5</td>\n",
       "      <td>NaN</td>\n",
       "      <td>NaN</td>\n",
       "      <td>NaN</td>\n",
       "      <td>NaN</td>\n",
       "      <td>NaN</td>\n",
       "      <td>NaN</td>\n",
       "      <td>NaN</td>\n",
       "      <td>NaN</td>\n",
       "    </tr>\n",
       "    <tr>\n",
       "      <th>997</th>\n",
       "      <td>UME-75640-698</td>\n",
       "      <td>2019-10-11</td>\n",
       "      <td>62494-09113-RP</td>\n",
       "      <td>A-M-0.5</td>\n",
       "      <td>4</td>\n",
       "      <td>NaN</td>\n",
       "      <td>NaN</td>\n",
       "      <td>NaN</td>\n",
       "      <td>NaN</td>\n",
       "      <td>NaN</td>\n",
       "      <td>NaN</td>\n",
       "      <td>NaN</td>\n",
       "      <td>NaN</td>\n",
       "    </tr>\n",
       "    <tr>\n",
       "      <th>998</th>\n",
       "      <td>GJC-66474-557</td>\n",
       "      <td>2021-08-03</td>\n",
       "      <td>64965-78386-MY</td>\n",
       "      <td>A-D-1</td>\n",
       "      <td>1</td>\n",
       "      <td>NaN</td>\n",
       "      <td>NaN</td>\n",
       "      <td>NaN</td>\n",
       "      <td>NaN</td>\n",
       "      <td>NaN</td>\n",
       "      <td>NaN</td>\n",
       "      <td>NaN</td>\n",
       "      <td>NaN</td>\n",
       "    </tr>\n",
       "    <tr>\n",
       "      <th>999</th>\n",
       "      <td>IRV-20769-219</td>\n",
       "      <td>2020-10-15</td>\n",
       "      <td>77131-58092-GE</td>\n",
       "      <td>E-M-0.2</td>\n",
       "      <td>3</td>\n",
       "      <td>NaN</td>\n",
       "      <td>NaN</td>\n",
       "      <td>NaN</td>\n",
       "      <td>NaN</td>\n",
       "      <td>NaN</td>\n",
       "      <td>NaN</td>\n",
       "      <td>NaN</td>\n",
       "      <td>NaN</td>\n",
       "    </tr>\n",
       "  </tbody>\n",
       "</table>\n",
       "<p>1000 rows × 13 columns</p>\n",
       "</div>"
      ],
      "text/plain": [
       "          Order ID Order Date     Customer ID Product ID  Quantity  \\\n",
       "0    QEV-37451-860 2019-09-05  17670-51384-MA      R-M-1         2   \n",
       "1    QEV-37451-860 2019-09-05  17670-51384-MA    E-M-0.5         5   \n",
       "2    FAA-43335-268 2021-06-17  21125-22134-PX      A-L-1         1   \n",
       "3    KAC-83089-793 2021-07-15  23806-46781-OU      E-M-1         2   \n",
       "4    KAC-83089-793 2021-07-15  23806-46781-OU    R-L-2.5         2   \n",
       "..             ...        ...             ...        ...       ...   \n",
       "995  RLM-96511-467 2020-01-06  43014-53743-XK    R-L-2.5         1   \n",
       "996  AEZ-13242-456 2022-05-04  62494-09113-RP    R-M-0.5         5   \n",
       "997  UME-75640-698 2019-10-11  62494-09113-RP    A-M-0.5         4   \n",
       "998  GJC-66474-557 2021-08-03  64965-78386-MY      A-D-1         1   \n",
       "999  IRV-20769-219 2020-10-15  77131-58092-GE    E-M-0.2         3   \n",
       "\n",
       "     Customer Name  Email  Country  Coffee Type  Roast Type  Size  Unit Price  \\\n",
       "0              NaN    NaN      NaN          NaN         NaN   NaN         NaN   \n",
       "1              NaN    NaN      NaN          NaN         NaN   NaN         NaN   \n",
       "2              NaN    NaN      NaN          NaN         NaN   NaN         NaN   \n",
       "3              NaN    NaN      NaN          NaN         NaN   NaN         NaN   \n",
       "4              NaN    NaN      NaN          NaN         NaN   NaN         NaN   \n",
       "..             ...    ...      ...          ...         ...   ...         ...   \n",
       "995            NaN    NaN      NaN          NaN         NaN   NaN         NaN   \n",
       "996            NaN    NaN      NaN          NaN         NaN   NaN         NaN   \n",
       "997            NaN    NaN      NaN          NaN         NaN   NaN         NaN   \n",
       "998            NaN    NaN      NaN          NaN         NaN   NaN         NaN   \n",
       "999            NaN    NaN      NaN          NaN         NaN   NaN         NaN   \n",
       "\n",
       "     Sales  \n",
       "0      NaN  \n",
       "1      NaN  \n",
       "2      NaN  \n",
       "3      NaN  \n",
       "4      NaN  \n",
       "..     ...  \n",
       "995    NaN  \n",
       "996    NaN  \n",
       "997    NaN  \n",
       "998    NaN  \n",
       "999    NaN  \n",
       "\n",
       "[1000 rows x 13 columns]"
      ]
     },
     "execution_count": 6,
     "metadata": {},
     "output_type": "execute_result"
    }
   ],
   "source": [
    "dfs['orders']"
   ]
  },
  {
   "cell_type": "code",
   "execution_count": 7,
   "id": "b051c0ea",
   "metadata": {
    "ExecuteTime": {
     "end_time": "2023-10-29T09:24:12.352233Z",
     "start_time": "2023-10-29T09:24:12.298986Z"
    }
   },
   "outputs": [
    {
     "name": "stdout",
     "output_type": "stream",
     "text": [
      "<class 'pandas.core.frame.DataFrame'>\n",
      "RangeIndex: 1000 entries, 0 to 999\n",
      "Data columns (total 13 columns):\n",
      " #   Column         Non-Null Count  Dtype         \n",
      "---  ------         --------------  -----         \n",
      " 0   Order ID       1000 non-null   object        \n",
      " 1   Order Date     1000 non-null   datetime64[ns]\n",
      " 2   Customer ID    1000 non-null   object        \n",
      " 3   Product ID     1000 non-null   object        \n",
      " 4   Quantity       1000 non-null   int64         \n",
      " 5   Customer Name  0 non-null      float64       \n",
      " 6   Email          0 non-null      float64       \n",
      " 7   Country        0 non-null      float64       \n",
      " 8   Coffee Type    0 non-null      float64       \n",
      " 9   Roast Type     0 non-null      float64       \n",
      " 10  Size           0 non-null      float64       \n",
      " 11  Unit Price     0 non-null      float64       \n",
      " 12  Sales          0 non-null      float64       \n",
      "dtypes: datetime64[ns](1), float64(8), int64(1), object(3)\n",
      "memory usage: 101.7+ KB\n"
     ]
    }
   ],
   "source": [
    "dfs['orders'].info()"
   ]
  },
  {
   "cell_type": "code",
   "execution_count": 20,
   "id": "d9a7f614",
   "metadata": {
    "ExecuteTime": {
     "end_time": "2023-10-29T09:27:06.191221Z",
     "start_time": "2023-10-29T09:27:06.124715Z"
    }
   },
   "outputs": [
    {
     "data": {
      "text/html": [
       "<div>\n",
       "<style scoped>\n",
       "    .dataframe tbody tr th:only-of-type {\n",
       "        vertical-align: middle;\n",
       "    }\n",
       "\n",
       "    .dataframe tbody tr th {\n",
       "        vertical-align: top;\n",
       "    }\n",
       "\n",
       "    .dataframe thead th {\n",
       "        text-align: right;\n",
       "    }\n",
       "</style>\n",
       "<table border=\"1\" class=\"dataframe\">\n",
       "  <thead>\n",
       "    <tr style=\"text-align: right;\">\n",
       "      <th></th>\n",
       "      <th>Order Date</th>\n",
       "    </tr>\n",
       "  </thead>\n",
       "  <tbody>\n",
       "    <tr>\n",
       "      <th>2021</th>\n",
       "      <td>312</td>\n",
       "    </tr>\n",
       "    <tr>\n",
       "      <th>2020</th>\n",
       "      <td>263</td>\n",
       "    </tr>\n",
       "    <tr>\n",
       "      <th>2019</th>\n",
       "      <td>259</td>\n",
       "    </tr>\n",
       "    <tr>\n",
       "      <th>2022</th>\n",
       "      <td>166</td>\n",
       "    </tr>\n",
       "  </tbody>\n",
       "</table>\n",
       "</div>"
      ],
      "text/plain": [
       "      Order Date\n",
       "2021         312\n",
       "2020         263\n",
       "2019         259\n",
       "2022         166"
      ]
     },
     "execution_count": 20,
     "metadata": {},
     "output_type": "execute_result"
    }
   ],
   "source": [
    "# Order Date 연도 분포 보기\n",
    "dfs['orders']['Order Date'].apply(lambda x:x.year).value_counts().to_frame()"
   ]
  },
  {
   "cell_type": "markdown",
   "id": "5fd027ee",
   "metadata": {},
   "source": [
    "2019년부터 2022년까지의 데이터로 확인된다."
   ]
  },
  {
   "cell_type": "code",
   "execution_count": 24,
   "id": "674c72de",
   "metadata": {
    "ExecuteTime": {
     "end_time": "2023-10-29T09:27:48.141902Z",
     "start_time": "2023-10-29T09:27:48.085136Z"
    }
   },
   "outputs": [
    {
     "data": {
      "text/plain": [
       "48"
      ]
     },
     "execution_count": 24,
     "metadata": {},
     "output_type": "execute_result"
    }
   ],
   "source": [
    "# Product ID 분포 보기\n",
    "dfs['orders']['Product ID'].nunique()"
   ]
  },
  {
   "cell_type": "markdown",
   "id": "ff6b0029",
   "metadata": {},
   "source": [
    "유저들이 주문한 상품의 개수는 총 48개"
   ]
  },
  {
   "cell_type": "code",
   "execution_count": 25,
   "id": "d82fe55c",
   "metadata": {
    "ExecuteTime": {
     "end_time": "2023-10-29T09:28:36.557794Z",
     "start_time": "2023-10-29T09:28:36.503403Z"
    }
   },
   "outputs": [
    {
     "data": {
      "text/html": [
       "<div>\n",
       "<style scoped>\n",
       "    .dataframe tbody tr th:only-of-type {\n",
       "        vertical-align: middle;\n",
       "    }\n",
       "\n",
       "    .dataframe tbody tr th {\n",
       "        vertical-align: top;\n",
       "    }\n",
       "\n",
       "    .dataframe thead th {\n",
       "        text-align: right;\n",
       "    }\n",
       "</style>\n",
       "<table border=\"1\" class=\"dataframe\">\n",
       "  <thead>\n",
       "    <tr style=\"text-align: right;\">\n",
       "      <th></th>\n",
       "      <th>Quantity</th>\n",
       "    </tr>\n",
       "  </thead>\n",
       "  <tbody>\n",
       "    <tr>\n",
       "      <th>2</th>\n",
       "      <td>185</td>\n",
       "    </tr>\n",
       "    <tr>\n",
       "      <th>6</th>\n",
       "      <td>175</td>\n",
       "    </tr>\n",
       "    <tr>\n",
       "      <th>3</th>\n",
       "      <td>174</td>\n",
       "    </tr>\n",
       "    <tr>\n",
       "      <th>4</th>\n",
       "      <td>165</td>\n",
       "    </tr>\n",
       "    <tr>\n",
       "      <th>5</th>\n",
       "      <td>162</td>\n",
       "    </tr>\n",
       "    <tr>\n",
       "      <th>1</th>\n",
       "      <td>139</td>\n",
       "    </tr>\n",
       "  </tbody>\n",
       "</table>\n",
       "</div>"
      ],
      "text/plain": [
       "   Quantity\n",
       "2       185\n",
       "6       175\n",
       "3       174\n",
       "4       165\n",
       "5       162\n",
       "1       139"
      ]
     },
     "execution_count": 25,
     "metadata": {},
     "output_type": "execute_result"
    }
   ],
   "source": [
    "# Quantity 분포 보기\n",
    "dfs['orders']['Quantity'].value_counts().to_frame()"
   ]
  },
  {
   "cell_type": "markdown",
   "id": "edb8ab62",
   "metadata": {},
   "source": [
    "주문 개수는 1개부터 6개까지"
   ]
  },
  {
   "cell_type": "code",
   "execution_count": 29,
   "id": "4ee5dfb3",
   "metadata": {
    "ExecuteTime": {
     "end_time": "2023-10-29T09:29:35.549274Z",
     "start_time": "2023-10-29T09:29:35.496495Z"
    }
   },
   "outputs": [
    {
     "data": {
      "text/html": [
       "<div>\n",
       "<style scoped>\n",
       "    .dataframe tbody tr th:only-of-type {\n",
       "        vertical-align: middle;\n",
       "    }\n",
       "\n",
       "    .dataframe tbody tr th {\n",
       "        vertical-align: top;\n",
       "    }\n",
       "\n",
       "    .dataframe thead th {\n",
       "        text-align: right;\n",
       "    }\n",
       "</style>\n",
       "<table border=\"1\" class=\"dataframe\">\n",
       "  <thead>\n",
       "    <tr style=\"text-align: right;\">\n",
       "      <th></th>\n",
       "      <th>0</th>\n",
       "    </tr>\n",
       "  </thead>\n",
       "  <tbody>\n",
       "    <tr>\n",
       "      <th>Order ID</th>\n",
       "      <td>0</td>\n",
       "    </tr>\n",
       "    <tr>\n",
       "      <th>Order Date</th>\n",
       "      <td>0</td>\n",
       "    </tr>\n",
       "    <tr>\n",
       "      <th>Customer ID</th>\n",
       "      <td>0</td>\n",
       "    </tr>\n",
       "    <tr>\n",
       "      <th>Product ID</th>\n",
       "      <td>0</td>\n",
       "    </tr>\n",
       "    <tr>\n",
       "      <th>Quantity</th>\n",
       "      <td>0</td>\n",
       "    </tr>\n",
       "    <tr>\n",
       "      <th>Customer Name</th>\n",
       "      <td>1000</td>\n",
       "    </tr>\n",
       "    <tr>\n",
       "      <th>Email</th>\n",
       "      <td>1000</td>\n",
       "    </tr>\n",
       "    <tr>\n",
       "      <th>Country</th>\n",
       "      <td>1000</td>\n",
       "    </tr>\n",
       "    <tr>\n",
       "      <th>Coffee Type</th>\n",
       "      <td>1000</td>\n",
       "    </tr>\n",
       "    <tr>\n",
       "      <th>Roast Type</th>\n",
       "      <td>1000</td>\n",
       "    </tr>\n",
       "    <tr>\n",
       "      <th>Size</th>\n",
       "      <td>1000</td>\n",
       "    </tr>\n",
       "    <tr>\n",
       "      <th>Unit Price</th>\n",
       "      <td>1000</td>\n",
       "    </tr>\n",
       "    <tr>\n",
       "      <th>Sales</th>\n",
       "      <td>1000</td>\n",
       "    </tr>\n",
       "  </tbody>\n",
       "</table>\n",
       "</div>"
      ],
      "text/plain": [
       "                  0\n",
       "Order ID          0\n",
       "Order Date        0\n",
       "Customer ID       0\n",
       "Product ID        0\n",
       "Quantity          0\n",
       "Customer Name  1000\n",
       "Email          1000\n",
       "Country        1000\n",
       "Coffee Type    1000\n",
       "Roast Type     1000\n",
       "Size           1000\n",
       "Unit Price     1000\n",
       "Sales          1000"
      ]
     },
     "execution_count": 29,
     "metadata": {},
     "output_type": "execute_result"
    }
   ],
   "source": [
    "dfs['orders'].isna().sum().to_frame()"
   ]
  },
  {
   "cell_type": "markdown",
   "id": "2e1fc9b4",
   "metadata": {},
   "source": [
    "지금 살펴본 것 외에 다른 컬럼들은 전부 null값이 들어있다. 그냥 지워버리면 될 듯"
   ]
  },
  {
   "cell_type": "code",
   "execution_count": 32,
   "id": "0b06f636",
   "metadata": {
    "ExecuteTime": {
     "end_time": "2023-10-29T09:30:32.287567Z",
     "start_time": "2023-10-29T09:30:32.216461Z"
    }
   },
   "outputs": [
    {
     "data": {
      "text/html": [
       "<div>\n",
       "<style scoped>\n",
       "    .dataframe tbody tr th:only-of-type {\n",
       "        vertical-align: middle;\n",
       "    }\n",
       "\n",
       "    .dataframe tbody tr th {\n",
       "        vertical-align: top;\n",
       "    }\n",
       "\n",
       "    .dataframe thead th {\n",
       "        text-align: right;\n",
       "    }\n",
       "</style>\n",
       "<table border=\"1\" class=\"dataframe\">\n",
       "  <thead>\n",
       "    <tr style=\"text-align: right;\">\n",
       "      <th></th>\n",
       "      <th>Order ID</th>\n",
       "      <th>Order Date</th>\n",
       "      <th>Customer ID</th>\n",
       "      <th>Product ID</th>\n",
       "      <th>Quantity</th>\n",
       "    </tr>\n",
       "  </thead>\n",
       "  <tbody>\n",
       "    <tr>\n",
       "      <th>0</th>\n",
       "      <td>QEV-37451-860</td>\n",
       "      <td>2019-09-05</td>\n",
       "      <td>17670-51384-MA</td>\n",
       "      <td>R-M-1</td>\n",
       "      <td>2</td>\n",
       "    </tr>\n",
       "    <tr>\n",
       "      <th>1</th>\n",
       "      <td>QEV-37451-860</td>\n",
       "      <td>2019-09-05</td>\n",
       "      <td>17670-51384-MA</td>\n",
       "      <td>E-M-0.5</td>\n",
       "      <td>5</td>\n",
       "    </tr>\n",
       "    <tr>\n",
       "      <th>2</th>\n",
       "      <td>FAA-43335-268</td>\n",
       "      <td>2021-06-17</td>\n",
       "      <td>21125-22134-PX</td>\n",
       "      <td>A-L-1</td>\n",
       "      <td>1</td>\n",
       "    </tr>\n",
       "    <tr>\n",
       "      <th>3</th>\n",
       "      <td>KAC-83089-793</td>\n",
       "      <td>2021-07-15</td>\n",
       "      <td>23806-46781-OU</td>\n",
       "      <td>E-M-1</td>\n",
       "      <td>2</td>\n",
       "    </tr>\n",
       "    <tr>\n",
       "      <th>4</th>\n",
       "      <td>KAC-83089-793</td>\n",
       "      <td>2021-07-15</td>\n",
       "      <td>23806-46781-OU</td>\n",
       "      <td>R-L-2.5</td>\n",
       "      <td>2</td>\n",
       "    </tr>\n",
       "    <tr>\n",
       "      <th>...</th>\n",
       "      <td>...</td>\n",
       "      <td>...</td>\n",
       "      <td>...</td>\n",
       "      <td>...</td>\n",
       "      <td>...</td>\n",
       "    </tr>\n",
       "    <tr>\n",
       "      <th>995</th>\n",
       "      <td>RLM-96511-467</td>\n",
       "      <td>2020-01-06</td>\n",
       "      <td>43014-53743-XK</td>\n",
       "      <td>R-L-2.5</td>\n",
       "      <td>1</td>\n",
       "    </tr>\n",
       "    <tr>\n",
       "      <th>996</th>\n",
       "      <td>AEZ-13242-456</td>\n",
       "      <td>2022-05-04</td>\n",
       "      <td>62494-09113-RP</td>\n",
       "      <td>R-M-0.5</td>\n",
       "      <td>5</td>\n",
       "    </tr>\n",
       "    <tr>\n",
       "      <th>997</th>\n",
       "      <td>UME-75640-698</td>\n",
       "      <td>2019-10-11</td>\n",
       "      <td>62494-09113-RP</td>\n",
       "      <td>A-M-0.5</td>\n",
       "      <td>4</td>\n",
       "    </tr>\n",
       "    <tr>\n",
       "      <th>998</th>\n",
       "      <td>GJC-66474-557</td>\n",
       "      <td>2021-08-03</td>\n",
       "      <td>64965-78386-MY</td>\n",
       "      <td>A-D-1</td>\n",
       "      <td>1</td>\n",
       "    </tr>\n",
       "    <tr>\n",
       "      <th>999</th>\n",
       "      <td>IRV-20769-219</td>\n",
       "      <td>2020-10-15</td>\n",
       "      <td>77131-58092-GE</td>\n",
       "      <td>E-M-0.2</td>\n",
       "      <td>3</td>\n",
       "    </tr>\n",
       "  </tbody>\n",
       "</table>\n",
       "<p>1000 rows × 5 columns</p>\n",
       "</div>"
      ],
      "text/plain": [
       "          Order ID Order Date     Customer ID Product ID  Quantity\n",
       "0    QEV-37451-860 2019-09-05  17670-51384-MA      R-M-1         2\n",
       "1    QEV-37451-860 2019-09-05  17670-51384-MA    E-M-0.5         5\n",
       "2    FAA-43335-268 2021-06-17  21125-22134-PX      A-L-1         1\n",
       "3    KAC-83089-793 2021-07-15  23806-46781-OU      E-M-1         2\n",
       "4    KAC-83089-793 2021-07-15  23806-46781-OU    R-L-2.5         2\n",
       "..             ...        ...             ...        ...       ...\n",
       "995  RLM-96511-467 2020-01-06  43014-53743-XK    R-L-2.5         1\n",
       "996  AEZ-13242-456 2022-05-04  62494-09113-RP    R-M-0.5         5\n",
       "997  UME-75640-698 2019-10-11  62494-09113-RP    A-M-0.5         4\n",
       "998  GJC-66474-557 2021-08-03  64965-78386-MY      A-D-1         1\n",
       "999  IRV-20769-219 2020-10-15  77131-58092-GE    E-M-0.2         3\n",
       "\n",
       "[1000 rows x 5 columns]"
      ]
     },
     "execution_count": 32,
     "metadata": {},
     "output_type": "execute_result"
    }
   ],
   "source": [
    "order_df = dfs['orders'].dropna(axis=1)\n",
    "order_df"
   ]
  },
  {
   "cell_type": "markdown",
   "id": "f11971c5",
   "metadata": {},
   "source": [
    "### customers"
   ]
  },
  {
   "cell_type": "code",
   "execution_count": 33,
   "id": "e57e732b",
   "metadata": {
    "ExecuteTime": {
     "end_time": "2023-10-29T09:31:09.457746Z",
     "start_time": "2023-10-29T09:31:09.397145Z"
    }
   },
   "outputs": [
    {
     "data": {
      "text/html": [
       "<div>\n",
       "<style scoped>\n",
       "    .dataframe tbody tr th:only-of-type {\n",
       "        vertical-align: middle;\n",
       "    }\n",
       "\n",
       "    .dataframe tbody tr th {\n",
       "        vertical-align: top;\n",
       "    }\n",
       "\n",
       "    .dataframe thead th {\n",
       "        text-align: right;\n",
       "    }\n",
       "</style>\n",
       "<table border=\"1\" class=\"dataframe\">\n",
       "  <thead>\n",
       "    <tr style=\"text-align: right;\">\n",
       "      <th></th>\n",
       "      <th>Customer ID</th>\n",
       "      <th>Customer Name</th>\n",
       "      <th>Email</th>\n",
       "      <th>Phone Number</th>\n",
       "      <th>Address Line 1</th>\n",
       "      <th>City</th>\n",
       "      <th>Country</th>\n",
       "      <th>Postcode</th>\n",
       "      <th>Loyalty Card</th>\n",
       "    </tr>\n",
       "  </thead>\n",
       "  <tbody>\n",
       "    <tr>\n",
       "      <th>0</th>\n",
       "      <td>17670-51384-MA</td>\n",
       "      <td>Aloisia Allner</td>\n",
       "      <td>aallner0@lulu.com</td>\n",
       "      <td>+1 (862) 817-0124</td>\n",
       "      <td>57999 Pepper Wood Alley</td>\n",
       "      <td>Paterson</td>\n",
       "      <td>United States</td>\n",
       "      <td>7505</td>\n",
       "      <td>Yes</td>\n",
       "    </tr>\n",
       "    <tr>\n",
       "      <th>1</th>\n",
       "      <td>73342-18763-UW</td>\n",
       "      <td>Piotr Bote</td>\n",
       "      <td>pbote1@yelp.com</td>\n",
       "      <td>+353 (913) 396-4653</td>\n",
       "      <td>2112 Ridgeway Hill</td>\n",
       "      <td>Crumlin</td>\n",
       "      <td>Ireland</td>\n",
       "      <td>D6W</td>\n",
       "      <td>No</td>\n",
       "    </tr>\n",
       "    <tr>\n",
       "      <th>2</th>\n",
       "      <td>21125-22134-PX</td>\n",
       "      <td>Jami Redholes</td>\n",
       "      <td>jredholes2@tmall.com</td>\n",
       "      <td>+1 (210) 986-6806</td>\n",
       "      <td>5214 Bartillon Park</td>\n",
       "      <td>San Antonio</td>\n",
       "      <td>United States</td>\n",
       "      <td>78205</td>\n",
       "      <td>Yes</td>\n",
       "    </tr>\n",
       "    <tr>\n",
       "      <th>3</th>\n",
       "      <td>71253-00052-RN</td>\n",
       "      <td>Dene Azema</td>\n",
       "      <td>dazema3@facebook.com</td>\n",
       "      <td>+1 (217) 418-0714</td>\n",
       "      <td>27 Maywood Place</td>\n",
       "      <td>Springfield</td>\n",
       "      <td>United States</td>\n",
       "      <td>62711</td>\n",
       "      <td>Yes</td>\n",
       "    </tr>\n",
       "    <tr>\n",
       "      <th>4</th>\n",
       "      <td>23806-46781-OU</td>\n",
       "      <td>Christoffer O' Shea</td>\n",
       "      <td>NaN</td>\n",
       "      <td>+353 (698) 362-9201</td>\n",
       "      <td>38980 Manitowish Junction</td>\n",
       "      <td>Cill Airne</td>\n",
       "      <td>Ireland</td>\n",
       "      <td>N41</td>\n",
       "      <td>No</td>\n",
       "    </tr>\n",
       "    <tr>\n",
       "      <th>...</th>\n",
       "      <td>...</td>\n",
       "      <td>...</td>\n",
       "      <td>...</td>\n",
       "      <td>...</td>\n",
       "      <td>...</td>\n",
       "      <td>...</td>\n",
       "      <td>...</td>\n",
       "      <td>...</td>\n",
       "      <td>...</td>\n",
       "    </tr>\n",
       "    <tr>\n",
       "      <th>995</th>\n",
       "      <td>43014-53743-XK</td>\n",
       "      <td>Jennica Tewelson</td>\n",
       "      <td>jtewelsonrn@samsung.com</td>\n",
       "      <td>+1 (469) 573-8379</td>\n",
       "      <td>4040 Hoard Junction</td>\n",
       "      <td>Dallas</td>\n",
       "      <td>United States</td>\n",
       "      <td>75210</td>\n",
       "      <td>No</td>\n",
       "    </tr>\n",
       "    <tr>\n",
       "      <th>996</th>\n",
       "      <td>62494-09113-RP</td>\n",
       "      <td>Marguerite Graves</td>\n",
       "      <td>NaN</td>\n",
       "      <td>+1 (479) 204-9111</td>\n",
       "      <td>91413 Scott Way</td>\n",
       "      <td>Fort Smith</td>\n",
       "      <td>United States</td>\n",
       "      <td>72905</td>\n",
       "      <td>No</td>\n",
       "    </tr>\n",
       "    <tr>\n",
       "      <th>997</th>\n",
       "      <td>10940-42739-ET</td>\n",
       "      <td>Etan Featenby</td>\n",
       "      <td>NaN</td>\n",
       "      <td>+1 (719) 416-9560</td>\n",
       "      <td>885 Toban Plaza</td>\n",
       "      <td>Colorado Springs</td>\n",
       "      <td>United States</td>\n",
       "      <td>80920</td>\n",
       "      <td>Yes</td>\n",
       "    </tr>\n",
       "    <tr>\n",
       "      <th>998</th>\n",
       "      <td>64965-78386-MY</td>\n",
       "      <td>Nicolina Jenny</td>\n",
       "      <td>njennyrq@bigcartel.com</td>\n",
       "      <td>+1 (562) 679-4750</td>\n",
       "      <td>6099 American Ash Court</td>\n",
       "      <td>Whittier</td>\n",
       "      <td>United States</td>\n",
       "      <td>90610</td>\n",
       "      <td>No</td>\n",
       "    </tr>\n",
       "    <tr>\n",
       "      <th>999</th>\n",
       "      <td>77131-58092-GE</td>\n",
       "      <td>Vidovic Antonelli</td>\n",
       "      <td>NaN</td>\n",
       "      <td>+44 (810) 927-9266</td>\n",
       "      <td>3242 Corscot Pass</td>\n",
       "      <td>London</td>\n",
       "      <td>United Kingdom</td>\n",
       "      <td>EC1V</td>\n",
       "      <td>Yes</td>\n",
       "    </tr>\n",
       "  </tbody>\n",
       "</table>\n",
       "<p>1000 rows × 9 columns</p>\n",
       "</div>"
      ],
      "text/plain": [
       "        Customer ID        Customer Name                    Email  \\\n",
       "0    17670-51384-MA       Aloisia Allner        aallner0@lulu.com   \n",
       "1    73342-18763-UW           Piotr Bote          pbote1@yelp.com   \n",
       "2    21125-22134-PX        Jami Redholes     jredholes2@tmall.com   \n",
       "3    71253-00052-RN           Dene Azema     dazema3@facebook.com   \n",
       "4    23806-46781-OU  Christoffer O' Shea                      NaN   \n",
       "..              ...                  ...                      ...   \n",
       "995  43014-53743-XK     Jennica Tewelson  jtewelsonrn@samsung.com   \n",
       "996  62494-09113-RP    Marguerite Graves                      NaN   \n",
       "997  10940-42739-ET        Etan Featenby                      NaN   \n",
       "998  64965-78386-MY       Nicolina Jenny   njennyrq@bigcartel.com   \n",
       "999  77131-58092-GE    Vidovic Antonelli                      NaN   \n",
       "\n",
       "            Phone Number             Address Line 1              City  \\\n",
       "0      +1 (862) 817-0124    57999 Pepper Wood Alley          Paterson   \n",
       "1    +353 (913) 396-4653         2112 Ridgeway Hill           Crumlin   \n",
       "2      +1 (210) 986-6806        5214 Bartillon Park       San Antonio   \n",
       "3      +1 (217) 418-0714           27 Maywood Place       Springfield   \n",
       "4    +353 (698) 362-9201  38980 Manitowish Junction        Cill Airne   \n",
       "..                   ...                        ...               ...   \n",
       "995    +1 (469) 573-8379        4040 Hoard Junction            Dallas   \n",
       "996    +1 (479) 204-9111            91413 Scott Way        Fort Smith   \n",
       "997    +1 (719) 416-9560            885 Toban Plaza  Colorado Springs   \n",
       "998    +1 (562) 679-4750    6099 American Ash Court          Whittier   \n",
       "999   +44 (810) 927-9266          3242 Corscot Pass            London   \n",
       "\n",
       "            Country Postcode Loyalty Card  \n",
       "0     United States     7505          Yes  \n",
       "1           Ireland      D6W           No  \n",
       "2     United States    78205          Yes  \n",
       "3     United States    62711          Yes  \n",
       "4           Ireland      N41           No  \n",
       "..              ...      ...          ...  \n",
       "995   United States    75210           No  \n",
       "996   United States    72905           No  \n",
       "997   United States    80920          Yes  \n",
       "998   United States    90610           No  \n",
       "999  United Kingdom     EC1V          Yes  \n",
       "\n",
       "[1000 rows x 9 columns]"
      ]
     },
     "execution_count": 33,
     "metadata": {},
     "output_type": "execute_result"
    }
   ],
   "source": [
    "dfs['customers']"
   ]
  },
  {
   "cell_type": "code",
   "execution_count": 34,
   "id": "5b54bdab",
   "metadata": {
    "ExecuteTime": {
     "end_time": "2023-10-29T09:31:20.809968Z",
     "start_time": "2023-10-29T09:31:20.739445Z"
    }
   },
   "outputs": [
    {
     "name": "stdout",
     "output_type": "stream",
     "text": [
      "<class 'pandas.core.frame.DataFrame'>\n",
      "RangeIndex: 1000 entries, 0 to 999\n",
      "Data columns (total 9 columns):\n",
      " #   Column          Non-Null Count  Dtype \n",
      "---  ------          --------------  ----- \n",
      " 0   Customer ID     1000 non-null   object\n",
      " 1   Customer Name   1000 non-null   object\n",
      " 2   Email           796 non-null    object\n",
      " 3   Phone Number    870 non-null    object\n",
      " 4   Address Line 1  1000 non-null   object\n",
      " 5   City            1000 non-null   object\n",
      " 6   Country         1000 non-null   object\n",
      " 7   Postcode        1000 non-null   object\n",
      " 8   Loyalty Card    1000 non-null   object\n",
      "dtypes: object(9)\n",
      "memory usage: 70.4+ KB\n"
     ]
    }
   ],
   "source": [
    "dfs['customers'].info()"
   ]
  },
  {
   "cell_type": "code",
   "execution_count": 35,
   "id": "1fd0f48a",
   "metadata": {
    "ExecuteTime": {
     "end_time": "2023-10-29T09:31:40.453660Z",
     "start_time": "2023-10-29T09:31:40.385356Z"
    }
   },
   "outputs": [
    {
     "data": {
      "text/html": [
       "<div>\n",
       "<style scoped>\n",
       "    .dataframe tbody tr th:only-of-type {\n",
       "        vertical-align: middle;\n",
       "    }\n",
       "\n",
       "    .dataframe tbody tr th {\n",
       "        vertical-align: top;\n",
       "    }\n",
       "\n",
       "    .dataframe thead th {\n",
       "        text-align: right;\n",
       "    }\n",
       "</style>\n",
       "<table border=\"1\" class=\"dataframe\">\n",
       "  <thead>\n",
       "    <tr style=\"text-align: right;\">\n",
       "      <th></th>\n",
       "      <th>0</th>\n",
       "    </tr>\n",
       "  </thead>\n",
       "  <tbody>\n",
       "    <tr>\n",
       "      <th>Customer ID</th>\n",
       "      <td>0</td>\n",
       "    </tr>\n",
       "    <tr>\n",
       "      <th>Customer Name</th>\n",
       "      <td>0</td>\n",
       "    </tr>\n",
       "    <tr>\n",
       "      <th>Email</th>\n",
       "      <td>204</td>\n",
       "    </tr>\n",
       "    <tr>\n",
       "      <th>Phone Number</th>\n",
       "      <td>130</td>\n",
       "    </tr>\n",
       "    <tr>\n",
       "      <th>Address Line 1</th>\n",
       "      <td>0</td>\n",
       "    </tr>\n",
       "    <tr>\n",
       "      <th>City</th>\n",
       "      <td>0</td>\n",
       "    </tr>\n",
       "    <tr>\n",
       "      <th>Country</th>\n",
       "      <td>0</td>\n",
       "    </tr>\n",
       "    <tr>\n",
       "      <th>Postcode</th>\n",
       "      <td>0</td>\n",
       "    </tr>\n",
       "    <tr>\n",
       "      <th>Loyalty Card</th>\n",
       "      <td>0</td>\n",
       "    </tr>\n",
       "  </tbody>\n",
       "</table>\n",
       "</div>"
      ],
      "text/plain": [
       "                  0\n",
       "Customer ID       0\n",
       "Customer Name     0\n",
       "Email           204\n",
       "Phone Number    130\n",
       "Address Line 1    0\n",
       "City              0\n",
       "Country           0\n",
       "Postcode          0\n",
       "Loyalty Card      0"
      ]
     },
     "execution_count": 35,
     "metadata": {},
     "output_type": "execute_result"
    }
   ],
   "source": [
    "dfs['customers'].isna().sum().to_frame()"
   ]
  },
  {
   "cell_type": "markdown",
   "id": "082ed780",
   "metadata": {},
   "source": [
    "Email과 Phone Number에는 null 값이 있고 나머지는 잘 들어가 있다."
   ]
  },
  {
   "cell_type": "code",
   "execution_count": 39,
   "id": "c6b42cca",
   "metadata": {
    "ExecuteTime": {
     "end_time": "2023-10-29T09:32:28.716066Z",
     "start_time": "2023-10-29T09:32:28.653019Z"
    }
   },
   "outputs": [
    {
     "data": {
      "text/plain": [
       "Washington       27\n",
       "Houston          14\n",
       "New York City    13\n",
       "El Paso          12\n",
       "Los Angeles      12\n",
       "                 ..\n",
       "Sutton            1\n",
       "New Brunswick     1\n",
       "Valleymount       1\n",
       "Alhambra          1\n",
       "Oceanside         1\n",
       "Name: City, Length: 386, dtype: int64"
      ]
     },
     "execution_count": 39,
     "metadata": {},
     "output_type": "execute_result"
    }
   ],
   "source": [
    "dfs['customers']['City'].value_counts()"
   ]
  },
  {
   "cell_type": "markdown",
   "id": "f895640c",
   "metadata": {},
   "source": [
    "도시가 386개나 된다."
   ]
  },
  {
   "cell_type": "code",
   "execution_count": 40,
   "id": "cb877665",
   "metadata": {
    "ExecuteTime": {
     "end_time": "2023-10-29T09:33:19.787412Z",
     "start_time": "2023-10-29T09:33:19.724351Z"
    }
   },
   "outputs": [
    {
     "data": {
      "text/plain": [
       "United States     782\n",
       "Ireland           150\n",
       "United Kingdom     68\n",
       "Name: Country, dtype: int64"
      ]
     },
     "execution_count": 40,
     "metadata": {},
     "output_type": "execute_result"
    }
   ],
   "source": [
    "dfs['customers']['Country'].value_counts()"
   ]
  },
  {
   "cell_type": "markdown",
   "id": "c6b7339e",
   "metadata": {},
   "source": [
    "미국, 아일랜드, 영국의 데이터인 모양이다."
   ]
  },
  {
   "cell_type": "code",
   "execution_count": 41,
   "id": "e8b9d1da",
   "metadata": {
    "ExecuteTime": {
     "end_time": "2023-10-29T09:33:52.155222Z",
     "start_time": "2023-10-29T09:33:52.097225Z"
    }
   },
   "outputs": [
    {
     "data": {
      "text/plain": [
       "No     513\n",
       "Yes    487\n",
       "Name: Loyalty Card, dtype: int64"
      ]
     },
     "execution_count": 41,
     "metadata": {},
     "output_type": "execute_result"
    }
   ],
   "source": [
    "dfs['customers']['Loyalty Card'].value_counts()"
   ]
  },
  {
   "cell_type": "markdown",
   "id": "88f8ba6d",
   "metadata": {},
   "source": [
    "Loyalty Card가 뭔데...?"
   ]
  },
  {
   "cell_type": "code",
   "execution_count": 47,
   "id": "e5c7eab4",
   "metadata": {
    "ExecuteTime": {
     "end_time": "2023-10-29T09:36:52.683362Z",
     "start_time": "2023-10-29T09:36:52.623698Z"
    }
   },
   "outputs": [
    {
     "data": {
      "text/plain": [
       "0    513\n",
       "1    487\n",
       "Name: Loyalty Card_b, dtype: int64"
      ]
     },
     "execution_count": 47,
     "metadata": {},
     "output_type": "execute_result"
    }
   ],
   "source": [
    "dfs['customers']['Loyalty Card_b'] = dfs['customers']['Loyalty Card'].apply(lambda x:1 if x == 'Yes' else 0)\n",
    "dfs['customers']['Loyalty Card_b'].value_counts()"
   ]
  },
  {
   "cell_type": "markdown",
   "id": "8fa09137",
   "metadata": {},
   "source": [
    "편하게 컨트롤하기 위해 binary로 바꿔버리고"
   ]
  },
  {
   "cell_type": "code",
   "execution_count": 54,
   "id": "94d42129",
   "metadata": {
    "ExecuteTime": {
     "end_time": "2023-10-29T09:38:34.285108Z",
     "start_time": "2023-10-29T09:38:34.223641Z"
    }
   },
   "outputs": [
    {
     "data": {
      "text/html": [
       "<div>\n",
       "<style scoped>\n",
       "    .dataframe tbody tr th:only-of-type {\n",
       "        vertical-align: middle;\n",
       "    }\n",
       "\n",
       "    .dataframe tbody tr th {\n",
       "        vertical-align: top;\n",
       "    }\n",
       "\n",
       "    .dataframe thead th {\n",
       "        text-align: right;\n",
       "    }\n",
       "</style>\n",
       "<table border=\"1\" class=\"dataframe\">\n",
       "  <thead>\n",
       "    <tr style=\"text-align: right;\">\n",
       "      <th></th>\n",
       "      <th>Loyalty Card_b</th>\n",
       "      <th>Loyalty Card</th>\n",
       "    </tr>\n",
       "    <tr>\n",
       "      <th>Country</th>\n",
       "      <th></th>\n",
       "      <th></th>\n",
       "    </tr>\n",
       "  </thead>\n",
       "  <tbody>\n",
       "    <tr>\n",
       "      <th>United States</th>\n",
       "      <td>380</td>\n",
       "      <td>782</td>\n",
       "    </tr>\n",
       "    <tr>\n",
       "      <th>Ireland</th>\n",
       "      <td>80</td>\n",
       "      <td>150</td>\n",
       "    </tr>\n",
       "    <tr>\n",
       "      <th>United Kingdom</th>\n",
       "      <td>27</td>\n",
       "      <td>68</td>\n",
       "    </tr>\n",
       "  </tbody>\n",
       "</table>\n",
       "</div>"
      ],
      "text/plain": [
       "                Loyalty Card_b  Loyalty Card\n",
       "Country                                     \n",
       "United States              380           782\n",
       "Ireland                     80           150\n",
       "United Kingdom              27            68"
      ]
     },
     "execution_count": 54,
     "metadata": {},
     "output_type": "execute_result"
    }
   ],
   "source": [
    "loyalty_df = dfs['customers'].groupby('Country').agg({\n",
    "    'Loyalty Card_b': 'sum', 'Loyalty Card': 'count'\n",
    "}).sort_values('Loyalty Card_b', ascending=False)\n",
    "\n",
    "loyalty_df"
   ]
  },
  {
   "cell_type": "code",
   "execution_count": 61,
   "id": "ff4eb00c",
   "metadata": {
    "ExecuteTime": {
     "end_time": "2023-10-29T09:41:22.429045Z",
     "start_time": "2023-10-29T09:41:22.265353Z"
    }
   },
   "outputs": [
    {
     "data": {
      "image/png": "[encoded data removed]",
      "text/plain": [
       "<Figure size 640x480 with 1 Axes>"
      ]
     },
     "metadata": {},
     "output_type": "display_data"
    }
   ],
   "source": [
    "loyalty_df['Loyalty Card_b'].plot(kind='bar')\n",
    "plt.title('국가 별 Loyalty Card 가입자 수')\n",
    "plt.xlabel('국가')\n",
    "plt.ylabel('Loyalty Card 가입자 수(명)')\n",
    "plt.show()"
   ]
  },
  {
   "cell_type": "markdown",
   "id": "ba9e79a2",
   "metadata": {},
   "source": [
    "미국, 아일랜드, 영국 순서로 Loyalty Card 가입자 수가 많다."
   ]
  },
  {
   "cell_type": "code",
   "execution_count": 58,
   "id": "46a41791",
   "metadata": {
    "ExecuteTime": {
     "end_time": "2023-10-29T09:39:52.331051Z",
     "start_time": "2023-10-29T09:39:52.262465Z"
    }
   },
   "outputs": [
    {
     "data": {
      "text/html": [
       "<div>\n",
       "<style scoped>\n",
       "    .dataframe tbody tr th:only-of-type {\n",
       "        vertical-align: middle;\n",
       "    }\n",
       "\n",
       "    .dataframe tbody tr th {\n",
       "        vertical-align: top;\n",
       "    }\n",
       "\n",
       "    .dataframe thead th {\n",
       "        text-align: right;\n",
       "    }\n",
       "</style>\n",
       "<table border=\"1\" class=\"dataframe\">\n",
       "  <thead>\n",
       "    <tr style=\"text-align: right;\">\n",
       "      <th></th>\n",
       "      <th>Loyalty Card_b</th>\n",
       "      <th>Loyalty Card</th>\n",
       "      <th>Ratio</th>\n",
       "    </tr>\n",
       "    <tr>\n",
       "      <th>Country</th>\n",
       "      <th></th>\n",
       "      <th></th>\n",
       "      <th></th>\n",
       "    </tr>\n",
       "  </thead>\n",
       "  <tbody>\n",
       "    <tr>\n",
       "      <th>Ireland</th>\n",
       "      <td>80</td>\n",
       "      <td>150</td>\n",
       "      <td>0.53</td>\n",
       "    </tr>\n",
       "    <tr>\n",
       "      <th>United States</th>\n",
       "      <td>380</td>\n",
       "      <td>782</td>\n",
       "      <td>0.49</td>\n",
       "    </tr>\n",
       "    <tr>\n",
       "      <th>United Kingdom</th>\n",
       "      <td>27</td>\n",
       "      <td>68</td>\n",
       "      <td>0.40</td>\n",
       "    </tr>\n",
       "  </tbody>\n",
       "</table>\n",
       "</div>"
      ],
      "text/plain": [
       "                Loyalty Card_b  Loyalty Card  Ratio\n",
       "Country                                            \n",
       "Ireland                     80           150   0.53\n",
       "United States              380           782   0.49\n",
       "United Kingdom              27            68   0.40"
      ]
     },
     "execution_count": 58,
     "metadata": {},
     "output_type": "execute_result"
    }
   ],
   "source": [
    "loyalty_df['Ratio'] = round(loyalty_df['Loyalty Card_b'] / loyalty_df['Loyalty Card'], 2)\n",
    "loyalty_df.sort_values('Ratio', ascending=False)"
   ]
  },
  {
   "cell_type": "markdown",
   "id": "2e54e9ec",
   "metadata": {},
   "source": [
    "Loyalty Card 가입 비율은 아일랜드, 미국, 영국 순서이다."
   ]
  },
  {
   "cell_type": "markdown",
   "id": "0a9b92cc",
   "metadata": {},
   "source": [
    "### products"
   ]
  },
  {
   "cell_type": "code",
   "execution_count": 62,
   "id": "8a2155eb",
   "metadata": {
    "ExecuteTime": {
     "end_time": "2023-10-29T09:41:57.854963Z",
     "start_time": "2023-10-29T09:41:57.780209Z"
    }
   },
   "outputs": [
    {
     "data": {
      "text/html": [
       "<div>\n",
       "<style scoped>\n",
       "    .dataframe tbody tr th:only-of-type {\n",
       "        vertical-align: middle;\n",
       "    }\n",
       "\n",
       "    .dataframe tbody tr th {\n",
       "        vertical-align: top;\n",
       "    }\n",
       "\n",
       "    .dataframe thead th {\n",
       "        text-align: right;\n",
       "    }\n",
       "</style>\n",
       "<table border=\"1\" class=\"dataframe\">\n",
       "  <thead>\n",
       "    <tr style=\"text-align: right;\">\n",
       "      <th></th>\n",
       "      <th>Product ID</th>\n",
       "      <th>Coffee Type</th>\n",
       "      <th>Roast Type</th>\n",
       "      <th>Size</th>\n",
       "      <th>Unit Price</th>\n",
       "      <th>Price per 100g</th>\n",
       "      <th>Profit</th>\n",
       "    </tr>\n",
       "  </thead>\n",
       "  <tbody>\n",
       "    <tr>\n",
       "      <th>0</th>\n",
       "      <td>A-L-0.2</td>\n",
       "      <td>Ara</td>\n",
       "      <td>L</td>\n",
       "      <td>0.2</td>\n",
       "      <td>3.885</td>\n",
       "      <td>1.9425</td>\n",
       "      <td>0.34965</td>\n",
       "    </tr>\n",
       "    <tr>\n",
       "      <th>1</th>\n",
       "      <td>A-L-0.5</td>\n",
       "      <td>Ara</td>\n",
       "      <td>L</td>\n",
       "      <td>0.5</td>\n",
       "      <td>7.770</td>\n",
       "      <td>1.5540</td>\n",
       "      <td>0.69930</td>\n",
       "    </tr>\n",
       "    <tr>\n",
       "      <th>2</th>\n",
       "      <td>A-L-1</td>\n",
       "      <td>Ara</td>\n",
       "      <td>L</td>\n",
       "      <td>1.0</td>\n",
       "      <td>12.950</td>\n",
       "      <td>1.2950</td>\n",
       "      <td>1.16550</td>\n",
       "    </tr>\n",
       "    <tr>\n",
       "      <th>3</th>\n",
       "      <td>A-L-2.5</td>\n",
       "      <td>Ara</td>\n",
       "      <td>L</td>\n",
       "      <td>2.5</td>\n",
       "      <td>29.785</td>\n",
       "      <td>1.1914</td>\n",
       "      <td>2.68065</td>\n",
       "    </tr>\n",
       "    <tr>\n",
       "      <th>4</th>\n",
       "      <td>A-M-0.2</td>\n",
       "      <td>Ara</td>\n",
       "      <td>M</td>\n",
       "      <td>0.2</td>\n",
       "      <td>3.375</td>\n",
       "      <td>1.6875</td>\n",
       "      <td>0.30375</td>\n",
       "    </tr>\n",
       "    <tr>\n",
       "      <th>5</th>\n",
       "      <td>A-M-0.5</td>\n",
       "      <td>Ara</td>\n",
       "      <td>M</td>\n",
       "      <td>0.5</td>\n",
       "      <td>6.750</td>\n",
       "      <td>1.3500</td>\n",
       "      <td>0.60750</td>\n",
       "    </tr>\n",
       "    <tr>\n",
       "      <th>6</th>\n",
       "      <td>A-M-1</td>\n",
       "      <td>Ara</td>\n",
       "      <td>M</td>\n",
       "      <td>1.0</td>\n",
       "      <td>11.250</td>\n",
       "      <td>1.1250</td>\n",
       "      <td>1.01250</td>\n",
       "    </tr>\n",
       "    <tr>\n",
       "      <th>7</th>\n",
       "      <td>A-M-2.5</td>\n",
       "      <td>Ara</td>\n",
       "      <td>M</td>\n",
       "      <td>2.5</td>\n",
       "      <td>25.875</td>\n",
       "      <td>1.0350</td>\n",
       "      <td>2.32875</td>\n",
       "    </tr>\n",
       "    <tr>\n",
       "      <th>8</th>\n",
       "      <td>A-D-0.2</td>\n",
       "      <td>Ara</td>\n",
       "      <td>D</td>\n",
       "      <td>0.2</td>\n",
       "      <td>2.985</td>\n",
       "      <td>1.4925</td>\n",
       "      <td>0.26865</td>\n",
       "    </tr>\n",
       "    <tr>\n",
       "      <th>9</th>\n",
       "      <td>A-D-0.5</td>\n",
       "      <td>Ara</td>\n",
       "      <td>D</td>\n",
       "      <td>0.5</td>\n",
       "      <td>5.970</td>\n",
       "      <td>1.1940</td>\n",
       "      <td>0.53730</td>\n",
       "    </tr>\n",
       "    <tr>\n",
       "      <th>10</th>\n",
       "      <td>A-D-1</td>\n",
       "      <td>Ara</td>\n",
       "      <td>D</td>\n",
       "      <td>1.0</td>\n",
       "      <td>9.950</td>\n",
       "      <td>0.9950</td>\n",
       "      <td>0.89550</td>\n",
       "    </tr>\n",
       "    <tr>\n",
       "      <th>11</th>\n",
       "      <td>A-D-2.5</td>\n",
       "      <td>Ara</td>\n",
       "      <td>D</td>\n",
       "      <td>2.5</td>\n",
       "      <td>22.885</td>\n",
       "      <td>0.9154</td>\n",
       "      <td>2.05965</td>\n",
       "    </tr>\n",
       "    <tr>\n",
       "      <th>12</th>\n",
       "      <td>R-L-0.2</td>\n",
       "      <td>Rob</td>\n",
       "      <td>L</td>\n",
       "      <td>0.2</td>\n",
       "      <td>3.585</td>\n",
       "      <td>1.7925</td>\n",
       "      <td>0.21510</td>\n",
       "    </tr>\n",
       "    <tr>\n",
       "      <th>13</th>\n",
       "      <td>R-L-0.5</td>\n",
       "      <td>Rob</td>\n",
       "      <td>L</td>\n",
       "      <td>0.5</td>\n",
       "      <td>7.170</td>\n",
       "      <td>1.4340</td>\n",
       "      <td>0.43020</td>\n",
       "    </tr>\n",
       "    <tr>\n",
       "      <th>14</th>\n",
       "      <td>R-L-1</td>\n",
       "      <td>Rob</td>\n",
       "      <td>L</td>\n",
       "      <td>1.0</td>\n",
       "      <td>11.950</td>\n",
       "      <td>1.1950</td>\n",
       "      <td>0.71700</td>\n",
       "    </tr>\n",
       "    <tr>\n",
       "      <th>15</th>\n",
       "      <td>R-L-2.5</td>\n",
       "      <td>Rob</td>\n",
       "      <td>L</td>\n",
       "      <td>2.5</td>\n",
       "      <td>27.485</td>\n",
       "      <td>1.0994</td>\n",
       "      <td>1.64910</td>\n",
       "    </tr>\n",
       "    <tr>\n",
       "      <th>16</th>\n",
       "      <td>R-M-0.2</td>\n",
       "      <td>Rob</td>\n",
       "      <td>M</td>\n",
       "      <td>0.2</td>\n",
       "      <td>2.985</td>\n",
       "      <td>1.4925</td>\n",
       "      <td>0.17910</td>\n",
       "    </tr>\n",
       "    <tr>\n",
       "      <th>17</th>\n",
       "      <td>R-M-0.5</td>\n",
       "      <td>Rob</td>\n",
       "      <td>M</td>\n",
       "      <td>0.5</td>\n",
       "      <td>5.970</td>\n",
       "      <td>1.1940</td>\n",
       "      <td>0.35820</td>\n",
       "    </tr>\n",
       "    <tr>\n",
       "      <th>18</th>\n",
       "      <td>R-M-1</td>\n",
       "      <td>Rob</td>\n",
       "      <td>M</td>\n",
       "      <td>1.0</td>\n",
       "      <td>9.950</td>\n",
       "      <td>0.9950</td>\n",
       "      <td>0.59700</td>\n",
       "    </tr>\n",
       "    <tr>\n",
       "      <th>19</th>\n",
       "      <td>R-M-2.5</td>\n",
       "      <td>Rob</td>\n",
       "      <td>M</td>\n",
       "      <td>2.5</td>\n",
       "      <td>22.885</td>\n",
       "      <td>0.9154</td>\n",
       "      <td>1.37310</td>\n",
       "    </tr>\n",
       "    <tr>\n",
       "      <th>20</th>\n",
       "      <td>R-D-0.2</td>\n",
       "      <td>Rob</td>\n",
       "      <td>D</td>\n",
       "      <td>0.2</td>\n",
       "      <td>2.685</td>\n",
       "      <td>1.3425</td>\n",
       "      <td>0.16110</td>\n",
       "    </tr>\n",
       "    <tr>\n",
       "      <th>21</th>\n",
       "      <td>R-D-0.5</td>\n",
       "      <td>Rob</td>\n",
       "      <td>D</td>\n",
       "      <td>0.5</td>\n",
       "      <td>5.370</td>\n",
       "      <td>1.0740</td>\n",
       "      <td>0.32220</td>\n",
       "    </tr>\n",
       "    <tr>\n",
       "      <th>22</th>\n",
       "      <td>R-D-1</td>\n",
       "      <td>Rob</td>\n",
       "      <td>D</td>\n",
       "      <td>1.0</td>\n",
       "      <td>8.950</td>\n",
       "      <td>0.8950</td>\n",
       "      <td>0.53700</td>\n",
       "    </tr>\n",
       "    <tr>\n",
       "      <th>23</th>\n",
       "      <td>R-D-2.5</td>\n",
       "      <td>Rob</td>\n",
       "      <td>D</td>\n",
       "      <td>2.5</td>\n",
       "      <td>20.585</td>\n",
       "      <td>0.8234</td>\n",
       "      <td>1.23510</td>\n",
       "    </tr>\n",
       "    <tr>\n",
       "      <th>24</th>\n",
       "      <td>L-L-0.2</td>\n",
       "      <td>Lib</td>\n",
       "      <td>L</td>\n",
       "      <td>0.2</td>\n",
       "      <td>4.755</td>\n",
       "      <td>2.3775</td>\n",
       "      <td>0.61815</td>\n",
       "    </tr>\n",
       "    <tr>\n",
       "      <th>25</th>\n",
       "      <td>L-L-0.5</td>\n",
       "      <td>Lib</td>\n",
       "      <td>L</td>\n",
       "      <td>0.5</td>\n",
       "      <td>9.510</td>\n",
       "      <td>1.9020</td>\n",
       "      <td>1.23630</td>\n",
       "    </tr>\n",
       "    <tr>\n",
       "      <th>26</th>\n",
       "      <td>L-L-1</td>\n",
       "      <td>Lib</td>\n",
       "      <td>L</td>\n",
       "      <td>1.0</td>\n",
       "      <td>15.850</td>\n",
       "      <td>1.5850</td>\n",
       "      <td>2.06050</td>\n",
       "    </tr>\n",
       "    <tr>\n",
       "      <th>27</th>\n",
       "      <td>L-L-2.5</td>\n",
       "      <td>Lib</td>\n",
       "      <td>L</td>\n",
       "      <td>2.5</td>\n",
       "      <td>36.455</td>\n",
       "      <td>1.4582</td>\n",
       "      <td>4.73915</td>\n",
       "    </tr>\n",
       "    <tr>\n",
       "      <th>28</th>\n",
       "      <td>L-M-0.2</td>\n",
       "      <td>Lib</td>\n",
       "      <td>M</td>\n",
       "      <td>0.2</td>\n",
       "      <td>4.365</td>\n",
       "      <td>2.1825</td>\n",
       "      <td>0.56745</td>\n",
       "    </tr>\n",
       "    <tr>\n",
       "      <th>29</th>\n",
       "      <td>L-M-0.5</td>\n",
       "      <td>Lib</td>\n",
       "      <td>M</td>\n",
       "      <td>0.5</td>\n",
       "      <td>8.730</td>\n",
       "      <td>1.7460</td>\n",
       "      <td>1.13490</td>\n",
       "    </tr>\n",
       "    <tr>\n",
       "      <th>30</th>\n",
       "      <td>L-M-1</td>\n",
       "      <td>Lib</td>\n",
       "      <td>M</td>\n",
       "      <td>1.0</td>\n",
       "      <td>14.550</td>\n",
       "      <td>1.4550</td>\n",
       "      <td>1.89150</td>\n",
       "    </tr>\n",
       "    <tr>\n",
       "      <th>31</th>\n",
       "      <td>L-M-2.5</td>\n",
       "      <td>Lib</td>\n",
       "      <td>M</td>\n",
       "      <td>2.5</td>\n",
       "      <td>33.465</td>\n",
       "      <td>1.3386</td>\n",
       "      <td>4.35045</td>\n",
       "    </tr>\n",
       "    <tr>\n",
       "      <th>32</th>\n",
       "      <td>L-D-0.2</td>\n",
       "      <td>Lib</td>\n",
       "      <td>D</td>\n",
       "      <td>0.2</td>\n",
       "      <td>3.885</td>\n",
       "      <td>1.9425</td>\n",
       "      <td>0.50505</td>\n",
       "    </tr>\n",
       "    <tr>\n",
       "      <th>33</th>\n",
       "      <td>L-D-0.5</td>\n",
       "      <td>Lib</td>\n",
       "      <td>D</td>\n",
       "      <td>0.5</td>\n",
       "      <td>7.770</td>\n",
       "      <td>1.5540</td>\n",
       "      <td>1.01010</td>\n",
       "    </tr>\n",
       "    <tr>\n",
       "      <th>34</th>\n",
       "      <td>L-D-1</td>\n",
       "      <td>Lib</td>\n",
       "      <td>D</td>\n",
       "      <td>1.0</td>\n",
       "      <td>12.950</td>\n",
       "      <td>1.2950</td>\n",
       "      <td>1.68350</td>\n",
       "    </tr>\n",
       "    <tr>\n",
       "      <th>35</th>\n",
       "      <td>L-D-2.5</td>\n",
       "      <td>Lib</td>\n",
       "      <td>D</td>\n",
       "      <td>2.5</td>\n",
       "      <td>29.785</td>\n",
       "      <td>1.1914</td>\n",
       "      <td>3.87205</td>\n",
       "    </tr>\n",
       "    <tr>\n",
       "      <th>36</th>\n",
       "      <td>E-L-0.2</td>\n",
       "      <td>Exc</td>\n",
       "      <td>L</td>\n",
       "      <td>0.2</td>\n",
       "      <td>4.455</td>\n",
       "      <td>2.2275</td>\n",
       "      <td>0.49005</td>\n",
       "    </tr>\n",
       "    <tr>\n",
       "      <th>37</th>\n",
       "      <td>E-L-0.5</td>\n",
       "      <td>Exc</td>\n",
       "      <td>L</td>\n",
       "      <td>0.5</td>\n",
       "      <td>8.910</td>\n",
       "      <td>1.7820</td>\n",
       "      <td>0.98010</td>\n",
       "    </tr>\n",
       "    <tr>\n",
       "      <th>38</th>\n",
       "      <td>E-L-1</td>\n",
       "      <td>Exc</td>\n",
       "      <td>L</td>\n",
       "      <td>1.0</td>\n",
       "      <td>14.850</td>\n",
       "      <td>1.4850</td>\n",
       "      <td>1.63350</td>\n",
       "    </tr>\n",
       "    <tr>\n",
       "      <th>39</th>\n",
       "      <td>E-L-2.5</td>\n",
       "      <td>Exc</td>\n",
       "      <td>L</td>\n",
       "      <td>2.5</td>\n",
       "      <td>34.155</td>\n",
       "      <td>1.3662</td>\n",
       "      <td>3.75705</td>\n",
       "    </tr>\n",
       "    <tr>\n",
       "      <th>40</th>\n",
       "      <td>E-M-0.2</td>\n",
       "      <td>Exc</td>\n",
       "      <td>M</td>\n",
       "      <td>0.2</td>\n",
       "      <td>4.125</td>\n",
       "      <td>2.0625</td>\n",
       "      <td>0.45375</td>\n",
       "    </tr>\n",
       "    <tr>\n",
       "      <th>41</th>\n",
       "      <td>E-M-0.5</td>\n",
       "      <td>Exc</td>\n",
       "      <td>M</td>\n",
       "      <td>0.5</td>\n",
       "      <td>8.250</td>\n",
       "      <td>1.6500</td>\n",
       "      <td>0.90750</td>\n",
       "    </tr>\n",
       "    <tr>\n",
       "      <th>42</th>\n",
       "      <td>E-M-1</td>\n",
       "      <td>Exc</td>\n",
       "      <td>M</td>\n",
       "      <td>1.0</td>\n",
       "      <td>13.750</td>\n",
       "      <td>1.3750</td>\n",
       "      <td>1.51250</td>\n",
       "    </tr>\n",
       "    <tr>\n",
       "      <th>43</th>\n",
       "      <td>E-M-2.5</td>\n",
       "      <td>Exc</td>\n",
       "      <td>M</td>\n",
       "      <td>2.5</td>\n",
       "      <td>31.625</td>\n",
       "      <td>1.2650</td>\n",
       "      <td>3.47875</td>\n",
       "    </tr>\n",
       "    <tr>\n",
       "      <th>44</th>\n",
       "      <td>E-D-0.2</td>\n",
       "      <td>Exc</td>\n",
       "      <td>D</td>\n",
       "      <td>0.2</td>\n",
       "      <td>3.645</td>\n",
       "      <td>1.8225</td>\n",
       "      <td>0.40095</td>\n",
       "    </tr>\n",
       "    <tr>\n",
       "      <th>45</th>\n",
       "      <td>E-D-0.5</td>\n",
       "      <td>Exc</td>\n",
       "      <td>D</td>\n",
       "      <td>0.5</td>\n",
       "      <td>7.290</td>\n",
       "      <td>1.4580</td>\n",
       "      <td>0.80190</td>\n",
       "    </tr>\n",
       "    <tr>\n",
       "      <th>46</th>\n",
       "      <td>E-D-1</td>\n",
       "      <td>Exc</td>\n",
       "      <td>D</td>\n",
       "      <td>1.0</td>\n",
       "      <td>12.150</td>\n",
       "      <td>1.2150</td>\n",
       "      <td>1.33650</td>\n",
       "    </tr>\n",
       "    <tr>\n",
       "      <th>47</th>\n",
       "      <td>E-D-2.5</td>\n",
       "      <td>Exc</td>\n",
       "      <td>D</td>\n",
       "      <td>2.5</td>\n",
       "      <td>27.945</td>\n",
       "      <td>1.1178</td>\n",
       "      <td>3.07395</td>\n",
       "    </tr>\n",
       "  </tbody>\n",
       "</table>\n",
       "</div>"
      ],
      "text/plain": [
       "   Product ID Coffee Type Roast Type  Size  Unit Price  Price per 100g  \\\n",
       "0     A-L-0.2         Ara          L   0.2       3.885          1.9425   \n",
       "1     A-L-0.5         Ara          L   0.5       7.770          1.5540   \n",
       "2       A-L-1         Ara          L   1.0      12.950          1.2950   \n",
       "3     A-L-2.5         Ara          L   2.5      29.785          1.1914   \n",
       "4     A-M-0.2         Ara          M   0.2       3.375          1.6875   \n",
       "5     A-M-0.5         Ara          M   0.5       6.750          1.3500   \n",
       "6       A-M-1         Ara          M   1.0      11.250          1.1250   \n",
       "7     A-M-2.5         Ara          M   2.5      25.875          1.0350   \n",
       "8     A-D-0.2         Ara          D   0.2       2.985          1.4925   \n",
       "9     A-D-0.5         Ara          D   0.5       5.970          1.1940   \n",
       "10      A-D-1         Ara          D   1.0       9.950          0.9950   \n",
       "11    A-D-2.5         Ara          D   2.5      22.885          0.9154   \n",
       "12    R-L-0.2         Rob          L   0.2       3.585          1.7925   \n",
       "13    R-L-0.5         Rob          L   0.5       7.170          1.4340   \n",
       "14      R-L-1         Rob          L   1.0      11.950          1.1950   \n",
       "15    R-L-2.5         Rob          L   2.5      27.485          1.0994   \n",
       "16    R-M-0.2         Rob          M   0.2       2.985          1.4925   \n",
       "17    R-M-0.5         Rob          M   0.5       5.970          1.1940   \n",
       "18      R-M-1         Rob          M   1.0       9.950          0.9950   \n",
       "19    R-M-2.5         Rob          M   2.5      22.885          0.9154   \n",
       "20    R-D-0.2         Rob          D   0.2       2.685          1.3425   \n",
       "21    R-D-0.5         Rob          D   0.5       5.370          1.0740   \n",
       "22      R-D-1         Rob          D   1.0       8.950          0.8950   \n",
       "23    R-D-2.5         Rob          D   2.5      20.585          0.8234   \n",
       "24    L-L-0.2         Lib          L   0.2       4.755          2.3775   \n",
       "25    L-L-0.5         Lib          L   0.5       9.510          1.9020   \n",
       "26      L-L-1         Lib          L   1.0      15.850          1.5850   \n",
       "27    L-L-2.5         Lib          L   2.5      36.455          1.4582   \n",
       "28    L-M-0.2         Lib          M   0.2       4.365          2.1825   \n",
       "29    L-M-0.5         Lib          M   0.5       8.730          1.7460   \n",
       "30      L-M-1         Lib          M   1.0      14.550          1.4550   \n",
       "31    L-M-2.5         Lib          M   2.5      33.465          1.3386   \n",
       "32    L-D-0.2         Lib          D   0.2       3.885          1.9425   \n",
       "33    L-D-0.5         Lib          D   0.5       7.770          1.5540   \n",
       "34      L-D-1         Lib          D   1.0      12.950          1.2950   \n",
       "35    L-D-2.5         Lib          D   2.5      29.785          1.1914   \n",
       "36    E-L-0.2         Exc          L   0.2       4.455          2.2275   \n",
       "37    E-L-0.5         Exc          L   0.5       8.910          1.7820   \n",
       "38      E-L-1         Exc          L   1.0      14.850          1.4850   \n",
       "39    E-L-2.5         Exc          L   2.5      34.155          1.3662   \n",
       "40    E-M-0.2         Exc          M   0.2       4.125          2.0625   \n",
       "41    E-M-0.5         Exc          M   0.5       8.250          1.6500   \n",
       "42      E-M-1         Exc          M   1.0      13.750          1.3750   \n",
       "43    E-M-2.5         Exc          M   2.5      31.625          1.2650   \n",
       "44    E-D-0.2         Exc          D   0.2       3.645          1.8225   \n",
       "45    E-D-0.5         Exc          D   0.5       7.290          1.4580   \n",
       "46      E-D-1         Exc          D   1.0      12.150          1.2150   \n",
       "47    E-D-2.5         Exc          D   2.5      27.945          1.1178   \n",
       "\n",
       "     Profit  \n",
       "0   0.34965  \n",
       "1   0.69930  \n",
       "2   1.16550  \n",
       "3   2.68065  \n",
       "4   0.30375  \n",
       "5   0.60750  \n",
       "6   1.01250  \n",
       "7   2.32875  \n",
       "8   0.26865  \n",
       "9   0.53730  \n",
       "10  0.89550  \n",
       "11  2.05965  \n",
       "12  0.21510  \n",
       "13  0.43020  \n",
       "14  0.71700  \n",
       "15  1.64910  \n",
       "16  0.17910  \n",
       "17  0.35820  \n",
       "18  0.59700  \n",
       "19  1.37310  \n",
       "20  0.16110  \n",
       "21  0.32220  \n",
       "22  0.53700  \n",
       "23  1.23510  \n",
       "24  0.61815  \n",
       "25  1.23630  \n",
       "26  2.06050  \n",
       "27  4.73915  \n",
       "28  0.56745  \n",
       "29  1.13490  \n",
       "30  1.89150  \n",
       "31  4.35045  \n",
       "32  0.50505  \n",
       "33  1.01010  \n",
       "34  1.68350  \n",
       "35  3.87205  \n",
       "36  0.49005  \n",
       "37  0.98010  \n",
       "38  1.63350  \n",
       "39  3.75705  \n",
       "40  0.45375  \n",
       "41  0.90750  \n",
       "42  1.51250  \n",
       "43  3.47875  \n",
       "44  0.40095  \n",
       "45  0.80190  \n",
       "46  1.33650  \n",
       "47  3.07395  "
      ]
     },
     "execution_count": 62,
     "metadata": {},
     "output_type": "execute_result"
    }
   ],
   "source": [
    "dfs['products']"
   ]
  },
  {
   "cell_type": "code",
   "execution_count": 63,
   "id": "92d3033c",
   "metadata": {
    "ExecuteTime": {
     "end_time": "2023-10-29T09:42:25.146902Z",
     "start_time": "2023-10-29T09:42:25.092755Z"
    }
   },
   "outputs": [
    {
     "name": "stdout",
     "output_type": "stream",
     "text": [
      "<class 'pandas.core.frame.DataFrame'>\n",
      "RangeIndex: 48 entries, 0 to 47\n",
      "Data columns (total 7 columns):\n",
      " #   Column          Non-Null Count  Dtype  \n",
      "---  ------          --------------  -----  \n",
      " 0   Product ID      48 non-null     object \n",
      " 1   Coffee Type     48 non-null     object \n",
      " 2   Roast Type      48 non-null     object \n",
      " 3   Size            48 non-null     float64\n",
      " 4   Unit Price      48 non-null     float64\n",
      " 5   Price per 100g  48 non-null     float64\n",
      " 6   Profit          48 non-null     float64\n",
      "dtypes: float64(4), object(3)\n",
      "memory usage: 2.8+ KB\n"
     ]
    }
   ],
   "source": [
    "dfs['products'].info()"
   ]
  },
  {
   "cell_type": "code",
   "execution_count": 64,
   "id": "6aba2e4f",
   "metadata": {
    "ExecuteTime": {
     "end_time": "2023-10-29T09:42:44.980217Z",
     "start_time": "2023-10-29T09:42:44.924520Z"
    }
   },
   "outputs": [
    {
     "data": {
      "text/html": [
       "<div>\n",
       "<style scoped>\n",
       "    .dataframe tbody tr th:only-of-type {\n",
       "        vertical-align: middle;\n",
       "    }\n",
       "\n",
       "    .dataframe tbody tr th {\n",
       "        vertical-align: top;\n",
       "    }\n",
       "\n",
       "    .dataframe thead th {\n",
       "        text-align: right;\n",
       "    }\n",
       "</style>\n",
       "<table border=\"1\" class=\"dataframe\">\n",
       "  <thead>\n",
       "    <tr style=\"text-align: right;\">\n",
       "      <th></th>\n",
       "      <th>Coffee Type</th>\n",
       "    </tr>\n",
       "  </thead>\n",
       "  <tbody>\n",
       "    <tr>\n",
       "      <th>Ara</th>\n",
       "      <td>12</td>\n",
       "    </tr>\n",
       "    <tr>\n",
       "      <th>Rob</th>\n",
       "      <td>12</td>\n",
       "    </tr>\n",
       "    <tr>\n",
       "      <th>Lib</th>\n",
       "      <td>12</td>\n",
       "    </tr>\n",
       "    <tr>\n",
       "      <th>Exc</th>\n",
       "      <td>12</td>\n",
       "    </tr>\n",
       "  </tbody>\n",
       "</table>\n",
       "</div>"
      ],
      "text/plain": [
       "     Coffee Type\n",
       "Ara           12\n",
       "Rob           12\n",
       "Lib           12\n",
       "Exc           12"
      ]
     },
     "execution_count": 64,
     "metadata": {},
     "output_type": "execute_result"
    }
   ],
   "source": [
    "dfs['products']['Coffee Type'].value_counts().to_frame()"
   ]
  },
  {
   "cell_type": "code",
   "execution_count": 65,
   "id": "7657a51e",
   "metadata": {
    "ExecuteTime": {
     "end_time": "2023-10-29T09:43:15.598067Z",
     "start_time": "2023-10-29T09:43:15.539737Z"
    }
   },
   "outputs": [
    {
     "data": {
      "text/html": [
       "<div>\n",
       "<style scoped>\n",
       "    .dataframe tbody tr th:only-of-type {\n",
       "        vertical-align: middle;\n",
       "    }\n",
       "\n",
       "    .dataframe tbody tr th {\n",
       "        vertical-align: top;\n",
       "    }\n",
       "\n",
       "    .dataframe thead th {\n",
       "        text-align: right;\n",
       "    }\n",
       "</style>\n",
       "<table border=\"1\" class=\"dataframe\">\n",
       "  <thead>\n",
       "    <tr style=\"text-align: right;\">\n",
       "      <th></th>\n",
       "      <th>Roast Type</th>\n",
       "    </tr>\n",
       "  </thead>\n",
       "  <tbody>\n",
       "    <tr>\n",
       "      <th>L</th>\n",
       "      <td>16</td>\n",
       "    </tr>\n",
       "    <tr>\n",
       "      <th>M</th>\n",
       "      <td>16</td>\n",
       "    </tr>\n",
       "    <tr>\n",
       "      <th>D</th>\n",
       "      <td>16</td>\n",
       "    </tr>\n",
       "  </tbody>\n",
       "</table>\n",
       "</div>"
      ],
      "text/plain": [
       "   Roast Type\n",
       "L          16\n",
       "M          16\n",
       "D          16"
      ]
     },
     "execution_count": 65,
     "metadata": {},
     "output_type": "execute_result"
    }
   ],
   "source": [
    "dfs['products']['Roast Type'].value_counts().to_frame()"
   ]
  },
  {
   "cell_type": "code",
   "execution_count": 66,
   "id": "d610ecab",
   "metadata": {
    "ExecuteTime": {
     "end_time": "2023-10-29T09:43:37.509991Z",
     "start_time": "2023-10-29T09:43:37.444397Z"
    }
   },
   "outputs": [
    {
     "data": {
      "text/html": [
       "<div>\n",
       "<style scoped>\n",
       "    .dataframe tbody tr th:only-of-type {\n",
       "        vertical-align: middle;\n",
       "    }\n",
       "\n",
       "    .dataframe tbody tr th {\n",
       "        vertical-align: top;\n",
       "    }\n",
       "\n",
       "    .dataframe thead th {\n",
       "        text-align: right;\n",
       "    }\n",
       "</style>\n",
       "<table border=\"1\" class=\"dataframe\">\n",
       "  <thead>\n",
       "    <tr style=\"text-align: right;\">\n",
       "      <th></th>\n",
       "      <th>Size</th>\n",
       "    </tr>\n",
       "  </thead>\n",
       "  <tbody>\n",
       "    <tr>\n",
       "      <th>0.2</th>\n",
       "      <td>12</td>\n",
       "    </tr>\n",
       "    <tr>\n",
       "      <th>0.5</th>\n",
       "      <td>12</td>\n",
       "    </tr>\n",
       "    <tr>\n",
       "      <th>1.0</th>\n",
       "      <td>12</td>\n",
       "    </tr>\n",
       "    <tr>\n",
       "      <th>2.5</th>\n",
       "      <td>12</td>\n",
       "    </tr>\n",
       "  </tbody>\n",
       "</table>\n",
       "</div>"
      ],
      "text/plain": [
       "     Size\n",
       "0.2    12\n",
       "0.5    12\n",
       "1.0    12\n",
       "2.5    12"
      ]
     },
     "execution_count": 66,
     "metadata": {},
     "output_type": "execute_result"
    }
   ],
   "source": [
    "dfs['products']['Size'].value_counts().to_frame()"
   ]
  },
  {
   "cell_type": "markdown",
   "id": "41716251",
   "metadata": {},
   "source": [
    "Coffee Type 4가지, Roast Type 3가지, Size 4가지가 조합되어 48개의 상품을 구성한다.\n",
    "\n",
    "내가 보기에 Size의 단위는 L이다. 한국 스타벅스 기준으로 생각해 보면 톨(0.354L), 그란데(0.473L), 벤티(0.591L)이니까 대충 맞지 싶다. 근데 2.5는 뭐야...?"
   ]
  },
  {
   "cell_type": "code",
   "execution_count": 67,
   "id": "59ad550c",
   "metadata": {
    "ExecuteTime": {
     "end_time": "2023-10-29T09:45:26.569883Z",
     "start_time": "2023-10-29T09:45:26.495032Z"
    }
   },
   "outputs": [
    {
     "data": {
      "text/html": [
       "<div>\n",
       "<style scoped>\n",
       "    .dataframe tbody tr th:only-of-type {\n",
       "        vertical-align: middle;\n",
       "    }\n",
       "\n",
       "    .dataframe tbody tr th {\n",
       "        vertical-align: top;\n",
       "    }\n",
       "\n",
       "    .dataframe thead th {\n",
       "        text-align: right;\n",
       "    }\n",
       "</style>\n",
       "<table border=\"1\" class=\"dataframe\">\n",
       "  <thead>\n",
       "    <tr style=\"text-align: right;\">\n",
       "      <th></th>\n",
       "      <th>Unit Price</th>\n",
       "      <th>Price per 100g</th>\n",
       "      <th>Profit</th>\n",
       "    </tr>\n",
       "  </thead>\n",
       "  <tbody>\n",
       "    <tr>\n",
       "      <th>count</th>\n",
       "      <td>48.000000</td>\n",
       "      <td>48.000000</td>\n",
       "      <td>48.000000</td>\n",
       "    </tr>\n",
       "    <tr>\n",
       "      <th>mean</th>\n",
       "      <td>13.046250</td>\n",
       "      <td>1.435087</td>\n",
       "      <td>1.316219</td>\n",
       "    </tr>\n",
       "    <tr>\n",
       "      <th>std</th>\n",
       "      <td>9.953578</td>\n",
       "      <td>0.371981</td>\n",
       "      <td>1.161426</td>\n",
       "    </tr>\n",
       "    <tr>\n",
       "      <th>min</th>\n",
       "      <td>2.685000</td>\n",
       "      <td>0.823400</td>\n",
       "      <td>0.161100</td>\n",
       "    </tr>\n",
       "    <tr>\n",
       "      <th>25%</th>\n",
       "      <td>5.216250</td>\n",
       "      <td>1.191400</td>\n",
       "      <td>0.501300</td>\n",
       "    </tr>\n",
       "    <tr>\n",
       "      <th>50%</th>\n",
       "      <td>9.230000</td>\n",
       "      <td>1.370600</td>\n",
       "      <td>0.943800</td>\n",
       "    </tr>\n",
       "    <tr>\n",
       "      <th>75%</th>\n",
       "      <td>17.033750</td>\n",
       "      <td>1.659375</td>\n",
       "      <td>1.657700</td>\n",
       "    </tr>\n",
       "    <tr>\n",
       "      <th>max</th>\n",
       "      <td>36.455000</td>\n",
       "      <td>2.377500</td>\n",
       "      <td>4.739150</td>\n",
       "    </tr>\n",
       "  </tbody>\n",
       "</table>\n",
       "</div>"
      ],
      "text/plain": [
       "       Unit Price  Price per 100g     Profit\n",
       "count   48.000000       48.000000  48.000000\n",
       "mean    13.046250        1.435087   1.316219\n",
       "std      9.953578        0.371981   1.161426\n",
       "min      2.685000        0.823400   0.161100\n",
       "25%      5.216250        1.191400   0.501300\n",
       "50%      9.230000        1.370600   0.943800\n",
       "75%     17.033750        1.659375   1.657700\n",
       "max     36.455000        2.377500   4.739150"
      ]
     },
     "execution_count": 67,
     "metadata": {},
     "output_type": "execute_result"
    }
   ],
   "source": [
    "dfs['products'][['Unit Price', 'Price per 100g', 'Profit']].describe()"
   ]
  },
  {
   "cell_type": "markdown",
   "id": "f3054af8",
   "metadata": {},
   "source": [
    "가격 단위는 달러일 것 같다."
   ]
  },
  {
   "cell_type": "code",
   "execution_count": 73,
   "id": "130c0a09",
   "metadata": {
    "ExecuteTime": {
     "end_time": "2023-10-29T09:52:59.601019Z",
     "start_time": "2023-10-29T09:52:59.523728Z"
    }
   },
   "outputs": [
    {
     "data": {
      "text/html": [
       "<div>\n",
       "<style scoped>\n",
       "    .dataframe tbody tr th:only-of-type {\n",
       "        vertical-align: middle;\n",
       "    }\n",
       "\n",
       "    .dataframe tbody tr th {\n",
       "        vertical-align: top;\n",
       "    }\n",
       "\n",
       "    .dataframe thead th {\n",
       "        text-align: right;\n",
       "    }\n",
       "</style>\n",
       "<table border=\"1\" class=\"dataframe\">\n",
       "  <thead>\n",
       "    <tr style=\"text-align: right;\">\n",
       "      <th></th>\n",
       "      <th>Unit Price</th>\n",
       "    </tr>\n",
       "    <tr>\n",
       "      <th>Coffee Type</th>\n",
       "      <th></th>\n",
       "    </tr>\n",
       "  </thead>\n",
       "  <tbody>\n",
       "    <tr>\n",
       "      <th>Lib</th>\n",
       "      <td>15.1725</td>\n",
       "    </tr>\n",
       "    <tr>\n",
       "      <th>Exc</th>\n",
       "      <td>14.2625</td>\n",
       "    </tr>\n",
       "    <tr>\n",
       "      <th>Ara</th>\n",
       "      <td>11.9525</td>\n",
       "    </tr>\n",
       "    <tr>\n",
       "      <th>Rob</th>\n",
       "      <td>10.7975</td>\n",
       "    </tr>\n",
       "  </tbody>\n",
       "</table>\n",
       "</div>"
      ],
      "text/plain": [
       "             Unit Price\n",
       "Coffee Type            \n",
       "Lib             15.1725\n",
       "Exc             14.2625\n",
       "Ara             11.9525\n",
       "Rob             10.7975"
      ]
     },
     "execution_count": 73,
     "metadata": {},
     "output_type": "execute_result"
    }
   ],
   "source": [
    "coffee_type_df = dfs['products'].groupby('Coffee Type').agg({'Unit Price': 'mean'}).sort_values('Unit Price', ascending=False)\n",
    "coffee_type_df"
   ]
  },
  {
   "cell_type": "code",
   "execution_count": 75,
   "id": "8477a826",
   "metadata": {
    "ExecuteTime": {
     "end_time": "2023-10-29T09:53:26.371063Z",
     "start_time": "2023-10-29T09:53:26.174835Z"
    }
   },
   "outputs": [
    {
     "data": {
      "image/png": "[encoded data removed]",
      "text/plain": [
       "<Figure size 640x480 with 1 Axes>"
      ]
     },
     "metadata": {},
     "output_type": "display_data"
    }
   ],
   "source": [
    "coffee_type_df.plot(kind='bar')\n",
    "plt.title('원두 유형에 따른 단위 가격')\n",
    "plt.xlabel('원두 유형')\n",
    "plt.ylabel('가격($)')\n",
    "plt.show()"
   ]
  },
  {
   "cell_type": "markdown",
   "id": "ce470d8e",
   "metadata": {},
   "source": [
    "원두는 Lib(리베리카) > Exc(엑셀사) > Ara(아라비카) > Rob(로부스타) 순서로 높은 가격이 책정된다."
   ]
  },
  {
   "cell_type": "code",
   "execution_count": 77,
   "id": "fb688aca",
   "metadata": {
    "ExecuteTime": {
     "end_time": "2023-10-29T09:54:06.607054Z",
     "start_time": "2023-10-29T09:54:06.540397Z"
    }
   },
   "outputs": [
    {
     "data": {
      "text/html": [
       "<div>\n",
       "<style scoped>\n",
       "    .dataframe tbody tr th:only-of-type {\n",
       "        vertical-align: middle;\n",
       "    }\n",
       "\n",
       "    .dataframe tbody tr th {\n",
       "        vertical-align: top;\n",
       "    }\n",
       "\n",
       "    .dataframe thead th {\n",
       "        text-align: right;\n",
       "    }\n",
       "</style>\n",
       "<table border=\"1\" class=\"dataframe\">\n",
       "  <thead>\n",
       "    <tr style=\"text-align: right;\">\n",
       "      <th></th>\n",
       "      <th>Unit Price</th>\n",
       "    </tr>\n",
       "    <tr>\n",
       "      <th>Roast Type</th>\n",
       "      <th></th>\n",
       "    </tr>\n",
       "  </thead>\n",
       "  <tbody>\n",
       "    <tr>\n",
       "      <th>L</th>\n",
       "      <td>14.59500</td>\n",
       "    </tr>\n",
       "    <tr>\n",
       "      <th>M</th>\n",
       "      <td>12.99375</td>\n",
       "    </tr>\n",
       "    <tr>\n",
       "      <th>D</th>\n",
       "      <td>11.55000</td>\n",
       "    </tr>\n",
       "  </tbody>\n",
       "</table>\n",
       "</div>"
      ],
      "text/plain": [
       "            Unit Price\n",
       "Roast Type            \n",
       "L             14.59500\n",
       "M             12.99375\n",
       "D             11.55000"
      ]
     },
     "execution_count": 77,
     "metadata": {},
     "output_type": "execute_result"
    }
   ],
   "source": [
    "roast_type_df = dfs['products'].groupby('Roast Type').agg({'Unit Price': 'mean'}).sort_values('Unit Price', ascending=False)\n",
    "roast_type_df"
   ]
  },
  {
   "cell_type": "code",
   "execution_count": 78,
   "id": "e95435c6",
   "metadata": {
    "ExecuteTime": {
     "end_time": "2023-10-29T09:54:22.673988Z",
     "start_time": "2023-10-29T09:54:22.488650Z"
    }
   },
   "outputs": [
    {
     "data": {
      "image/png": "[encoded data removed]",
      "text/plain": [
       "<Figure size 640x480 with 1 Axes>"
      ]
     },
     "metadata": {},
     "output_type": "display_data"
    }
   ],
   "source": [
    "roast_type_df.plot(kind='bar')\n",
    "plt.title('로스트 유형에 따른 단위 가격')\n",
    "plt.xlabel('로스트 유형')\n",
    "plt.ylabel('가격($)')\n",
    "plt.show()"
   ]
  },
  {
   "cell_type": "markdown",
   "id": "f12d87df",
   "metadata": {},
   "source": [
    "로스트 유형에는 Light, Medium, Dark가 있다고 한다. Light > Medium > Dark 순서로 높은 단위 가격을 형성한다."
   ]
  },
  {
   "cell_type": "code",
   "execution_count": 84,
   "id": "a27d8c3d",
   "metadata": {
    "ExecuteTime": {
     "end_time": "2023-10-29T09:57:49.474159Z",
     "start_time": "2023-10-29T09:57:49.401800Z"
    }
   },
   "outputs": [
    {
     "data": {
      "text/html": [
       "<div>\n",
       "<style scoped>\n",
       "    .dataframe tbody tr th:only-of-type {\n",
       "        vertical-align: middle;\n",
       "    }\n",
       "\n",
       "    .dataframe tbody tr th {\n",
       "        vertical-align: top;\n",
       "    }\n",
       "\n",
       "    .dataframe thead th {\n",
       "        text-align: right;\n",
       "    }\n",
       "</style>\n",
       "<table border=\"1\" class=\"dataframe\">\n",
       "  <thead>\n",
       "    <tr style=\"text-align: right;\">\n",
       "      <th></th>\n",
       "      <th>Size</th>\n",
       "      <th>Unit Price</th>\n",
       "      <th>Price per 100g</th>\n",
       "    </tr>\n",
       "  </thead>\n",
       "  <tbody>\n",
       "    <tr>\n",
       "      <th>0</th>\n",
       "      <td>2.5</td>\n",
       "      <td>28.5775</td>\n",
       "      <td>1.14310</td>\n",
       "    </tr>\n",
       "    <tr>\n",
       "      <th>1</th>\n",
       "      <td>1.0</td>\n",
       "      <td>12.4250</td>\n",
       "      <td>1.24250</td>\n",
       "    </tr>\n",
       "    <tr>\n",
       "      <th>2</th>\n",
       "      <td>0.5</td>\n",
       "      <td>7.4550</td>\n",
       "      <td>1.49100</td>\n",
       "    </tr>\n",
       "    <tr>\n",
       "      <th>3</th>\n",
       "      <td>0.2</td>\n",
       "      <td>3.7275</td>\n",
       "      <td>1.86375</td>\n",
       "    </tr>\n",
       "  </tbody>\n",
       "</table>\n",
       "</div>"
      ],
      "text/plain": [
       "   Size  Unit Price  Price per 100g\n",
       "0   2.5     28.5775         1.14310\n",
       "1   1.0     12.4250         1.24250\n",
       "2   0.5      7.4550         1.49100\n",
       "3   0.2      3.7275         1.86375"
      ]
     },
     "execution_count": 84,
     "metadata": {},
     "output_type": "execute_result"
    }
   ],
   "source": [
    "size_df = dfs['products'].groupby('Size').agg({'Unit Price': 'mean', 'Price per 100g': 'mean'}).sort_values('Unit Price', ascending=False).reset_index()\n",
    "size_df"
   ]
  },
  {
   "cell_type": "code",
   "execution_count": 85,
   "id": "8aa08a9c",
   "metadata": {
    "ExecuteTime": {
     "end_time": "2023-10-29T09:57:52.313242Z",
     "start_time": "2023-10-29T09:57:52.244799Z"
    }
   },
   "outputs": [
    {
     "data": {
      "text/html": [
       "<div>\n",
       "<style scoped>\n",
       "    .dataframe tbody tr th:only-of-type {\n",
       "        vertical-align: middle;\n",
       "    }\n",
       "\n",
       "    .dataframe tbody tr th {\n",
       "        vertical-align: top;\n",
       "    }\n",
       "\n",
       "    .dataframe thead th {\n",
       "        text-align: right;\n",
       "    }\n",
       "</style>\n",
       "<table border=\"1\" class=\"dataframe\">\n",
       "  <thead>\n",
       "    <tr style=\"text-align: right;\">\n",
       "      <th></th>\n",
       "      <th>Size</th>\n",
       "      <th>Unit Price</th>\n",
       "      <th>Price per 100g</th>\n",
       "      <th>Ratio</th>\n",
       "    </tr>\n",
       "  </thead>\n",
       "  <tbody>\n",
       "    <tr>\n",
       "      <th>0</th>\n",
       "      <td>2.5</td>\n",
       "      <td>28.5775</td>\n",
       "      <td>1.14310</td>\n",
       "      <td>11.4310</td>\n",
       "    </tr>\n",
       "    <tr>\n",
       "      <th>1</th>\n",
       "      <td>1.0</td>\n",
       "      <td>12.4250</td>\n",
       "      <td>1.24250</td>\n",
       "      <td>12.4250</td>\n",
       "    </tr>\n",
       "    <tr>\n",
       "      <th>2</th>\n",
       "      <td>0.5</td>\n",
       "      <td>7.4550</td>\n",
       "      <td>1.49100</td>\n",
       "      <td>14.9100</td>\n",
       "    </tr>\n",
       "    <tr>\n",
       "      <th>3</th>\n",
       "      <td>0.2</td>\n",
       "      <td>3.7275</td>\n",
       "      <td>1.86375</td>\n",
       "      <td>18.6375</td>\n",
       "    </tr>\n",
       "  </tbody>\n",
       "</table>\n",
       "</div>"
      ],
      "text/plain": [
       "   Size  Unit Price  Price per 100g    Ratio\n",
       "0   2.5     28.5775         1.14310  11.4310\n",
       "1   1.0     12.4250         1.24250  12.4250\n",
       "2   0.5      7.4550         1.49100  14.9100\n",
       "3   0.2      3.7275         1.86375  18.6375"
      ]
     },
     "execution_count": 85,
     "metadata": {},
     "output_type": "execute_result"
    }
   ],
   "source": [
    "size_df['Ratio'] = size_df['Unit Price'] / size_df['Size']\n",
    "size_df"
   ]
  },
  {
   "cell_type": "markdown",
   "id": "4c90f98a",
   "metadata": {},
   "source": [
    "Ratio를 굳이 구할 필요가 없었네요!"
   ]
  },
  {
   "cell_type": "code",
   "execution_count": 90,
   "id": "0dbed63a",
   "metadata": {
    "ExecuteTime": {
     "end_time": "2023-10-29T09:59:42.629218Z",
     "start_time": "2023-10-29T09:59:42.427871Z"
    }
   },
   "outputs": [
    {
     "data": {
      "image/png": "[encoded data removed]",
      "text/plain": [
       "<Figure size 640x480 with 1 Axes>"
      ]
     },
     "metadata": {},
     "output_type": "display_data"
    }
   ],
   "source": [
    "size_df.plot(kind='bar', x='Size', y='Price per 100g')\n",
    "plt.title('사이즈에 따른 100g당 가격')\n",
    "plt.xlabel('사이즈')\n",
    "plt.ylabel('가격($/100g)')\n",
    "plt.show()"
   ]
  },
  {
   "cell_type": "markdown",
   "id": "a333387e",
   "metadata": {},
   "source": [
    "클수록 단위 가격은 싸고 작을수록 단위 가격은 비싸다. 사실 당연한 거긴 하다...!"
   ]
  },
  {
   "cell_type": "markdown",
   "id": "54a1f8ad",
   "metadata": {},
   "source": [
    "### 어떤 국가에서 판매량이 많은가?"
   ]
  },
  {
   "cell_type": "markdown",
   "id": "513a0917",
   "metadata": {},
   "source": [
    "3개 df 묶어서 -> Country로 groupby -> Unit Price 및 Profit 확인"
   ]
  },
  {
   "cell_type": "markdown",
   "id": "25e66341",
   "metadata": {},
   "source": [
    "### 각 국가별 원두, 로스팅 선호도"
   ]
  },
  {
   "cell_type": "markdown",
   "id": "3dd9e52f",
   "metadata": {},
   "source": [
    "3개 df 묶어서 -> Country+Coffee Type 또는 Country+Roast Type으로 groupby -> count 또는 Unit Price 및 Profit 확인"
   ]
  },
  {
   "cell_type": "markdown",
   "id": "96a6a2a8",
   "metadata": {},
   "source": [
    "### Loyality Card 가입자는 더 많은 비용을 지출하는가?"
   ]
  },
  {
   "cell_type": "markdown",
   "id": "a74e77b5",
   "metadata": {},
   "source": [
    "H0: Loyality Card 가입자의 주문 횟수 = Loyality Card 비가입자의 주문 횟수\n",
    "\n",
    "H1: Loyality Card 가입자의 주문 횟수 > Loyality Card 비가입자의 주문 횟수\n",
    "\n",
    "그리고\n",
    "\n",
    "H0: Loyality Card 가입자의 전체 사용 금액(주문한 품목 별로 Unit Price 이용하여 도출) = Loyality Card 비가입자의 전체 사용 금액\n",
    "\n",
    "H1: Loyality Card 가입자의 전체 사용 금액 > Loyality Card 비가입자의 전체 사용 금액\n",
    "\n",
    "두 가지 가설 검정 수행하여 확인해보기"
   ]
  }
 ],
 "metadata": {
  "kernelspec": {
   "display_name": "Python 3 (ipykernel)",
   "language": "python",
   "name": "python3"
  },
  "language_info": {
   "codemirror_mode": {
    "name": "ipython",
    "version": 3
   },
   "file_extension": ".py",
   "mimetype": "text/x-python",
   "name": "python",
   "nbconvert_exporter": "python",
   "pygments_lexer": "ipython3",
   "version": "3.9.16"
  }
 },
 "nbformat": 4,
 "nbformat_minor": 5
}
