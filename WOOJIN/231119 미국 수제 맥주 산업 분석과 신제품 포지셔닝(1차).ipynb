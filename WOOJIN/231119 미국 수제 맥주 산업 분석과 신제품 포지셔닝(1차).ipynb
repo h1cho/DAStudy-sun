{
 "cells": [
  {
   "cell_type": "markdown",
   "id": "6fbc8efa",
   "metadata": {},
   "source": [
    "# 미국 수제 맥주 산업 분석\n",
    "2023.11.19"
   ]
  },
  {
   "cell_type": "markdown",
   "id": "bc2fb12c",
   "metadata": {},
   "source": [
    "## 1. 프로젝트 개요\n",
    "- **주제: 미국 수제 맥주 산업 분석**\n",
    "- 설명: 미국의 수제 맥주 및 양조장 데이터를 분석하여 수제 맥주 산업을 이루는 요소들과 그 발전 방향을 탐색\n",
    "- 사용 데이터셋\n",
    "    - [Craft Beers Dataset](https://www.kaggle.com/datasets/nickhould/craft-cans/)(Kaggle): 미국의 캔맥주 2K+, 미국의 500개 이상 양조장 데이터\n",
    "- 진행 절차 및 내용\n",
    "    - 수제 맥주 데이터, 양조장 데이터를 로딩하여 각 컬럼별 EDA 및 결측치 처리\n",
    "    - (추후 추가)"
   ]
  },
  {
   "cell_type": "markdown",
   "id": "4b27e1e8",
   "metadata": {},
   "source": [
    "## 2. 데이터 로딩 및 분포 확인"
   ]
  },
  {
   "cell_type": "markdown",
   "id": "6fe82a97",
   "metadata": {},
   "source": [
    "### 2-1. beers.csv"
   ]
  },
  {
   "cell_type": "markdown",
   "id": "89ab33b6",
   "metadata": {},
   "source": [
    "#### 2-1-1. 데이터 불러오기"
   ]
  },
  {
   "cell_type": "code",
   "execution_count": 1,
   "id": "a081a038",
   "metadata": {
    "ExecuteTime": {
     "end_time": "2023-11-19T06:06:30.681251Z",
     "start_time": "2023-11-19T06:06:28.859190Z"
    }
   },
   "outputs": [],
   "source": [
    "import pandas as pd\n",
    "import numpy as np\n",
    "import matplotlib.pyplot as plt\n",
    "import seaborn as sns\n",
    "from scipy import stats"
   ]
  },
  {
   "cell_type": "code",
   "execution_count": 5,
   "id": "b3620408",
   "metadata": {
    "ExecuteTime": {
     "end_time": "2023-11-19T06:07:26.750131Z",
     "start_time": "2023-11-19T06:07:26.719058Z"
    }
   },
   "outputs": [
    {
     "data": {
      "text/html": [
       "<div>\n",
       "<style scoped>\n",
       "    .dataframe tbody tr th:only-of-type {\n",
       "        vertical-align: middle;\n",
       "    }\n",
       "\n",
       "    .dataframe tbody tr th {\n",
       "        vertical-align: top;\n",
       "    }\n",
       "\n",
       "    .dataframe thead th {\n",
       "        text-align: right;\n",
       "    }\n",
       "</style>\n",
       "<table border=\"1\" class=\"dataframe\">\n",
       "  <thead>\n",
       "    <tr style=\"text-align: right;\">\n",
       "      <th></th>\n",
       "      <th>abv</th>\n",
       "      <th>ibu</th>\n",
       "      <th>id</th>\n",
       "      <th>name</th>\n",
       "      <th>style</th>\n",
       "      <th>brewery_id</th>\n",
       "      <th>ounces</th>\n",
       "    </tr>\n",
       "  </thead>\n",
       "  <tbody>\n",
       "    <tr>\n",
       "      <th>0</th>\n",
       "      <td>0.050</td>\n",
       "      <td>NaN</td>\n",
       "      <td>1436</td>\n",
       "      <td>Pub Beer</td>\n",
       "      <td>American Pale Lager</td>\n",
       "      <td>408</td>\n",
       "      <td>12.0</td>\n",
       "    </tr>\n",
       "    <tr>\n",
       "      <th>1</th>\n",
       "      <td>0.066</td>\n",
       "      <td>NaN</td>\n",
       "      <td>2265</td>\n",
       "      <td>Devil's Cup</td>\n",
       "      <td>American Pale Ale (APA)</td>\n",
       "      <td>177</td>\n",
       "      <td>12.0</td>\n",
       "    </tr>\n",
       "    <tr>\n",
       "      <th>2</th>\n",
       "      <td>0.071</td>\n",
       "      <td>NaN</td>\n",
       "      <td>2264</td>\n",
       "      <td>Rise of the Phoenix</td>\n",
       "      <td>American IPA</td>\n",
       "      <td>177</td>\n",
       "      <td>12.0</td>\n",
       "    </tr>\n",
       "    <tr>\n",
       "      <th>3</th>\n",
       "      <td>0.090</td>\n",
       "      <td>NaN</td>\n",
       "      <td>2263</td>\n",
       "      <td>Sinister</td>\n",
       "      <td>American Double / Imperial IPA</td>\n",
       "      <td>177</td>\n",
       "      <td>12.0</td>\n",
       "    </tr>\n",
       "    <tr>\n",
       "      <th>4</th>\n",
       "      <td>0.075</td>\n",
       "      <td>NaN</td>\n",
       "      <td>2262</td>\n",
       "      <td>Sex and Candy</td>\n",
       "      <td>American IPA</td>\n",
       "      <td>177</td>\n",
       "      <td>12.0</td>\n",
       "    </tr>\n",
       "    <tr>\n",
       "      <th>...</th>\n",
       "      <td>...</td>\n",
       "      <td>...</td>\n",
       "      <td>...</td>\n",
       "      <td>...</td>\n",
       "      <td>...</td>\n",
       "      <td>...</td>\n",
       "      <td>...</td>\n",
       "    </tr>\n",
       "    <tr>\n",
       "      <th>2405</th>\n",
       "      <td>0.067</td>\n",
       "      <td>45.0</td>\n",
       "      <td>928</td>\n",
       "      <td>Belgorado</td>\n",
       "      <td>Belgian IPA</td>\n",
       "      <td>424</td>\n",
       "      <td>12.0</td>\n",
       "    </tr>\n",
       "    <tr>\n",
       "      <th>2406</th>\n",
       "      <td>0.052</td>\n",
       "      <td>NaN</td>\n",
       "      <td>807</td>\n",
       "      <td>Rail Yard Ale</td>\n",
       "      <td>American Amber / Red Ale</td>\n",
       "      <td>424</td>\n",
       "      <td>12.0</td>\n",
       "    </tr>\n",
       "    <tr>\n",
       "      <th>2407</th>\n",
       "      <td>0.055</td>\n",
       "      <td>NaN</td>\n",
       "      <td>620</td>\n",
       "      <td>B3K Black Lager</td>\n",
       "      <td>Schwarzbier</td>\n",
       "      <td>424</td>\n",
       "      <td>12.0</td>\n",
       "    </tr>\n",
       "    <tr>\n",
       "      <th>2408</th>\n",
       "      <td>0.055</td>\n",
       "      <td>40.0</td>\n",
       "      <td>145</td>\n",
       "      <td>Silverback Pale Ale</td>\n",
       "      <td>American Pale Ale (APA)</td>\n",
       "      <td>424</td>\n",
       "      <td>12.0</td>\n",
       "    </tr>\n",
       "    <tr>\n",
       "      <th>2409</th>\n",
       "      <td>0.052</td>\n",
       "      <td>NaN</td>\n",
       "      <td>84</td>\n",
       "      <td>Rail Yard Ale (2009)</td>\n",
       "      <td>American Amber / Red Ale</td>\n",
       "      <td>424</td>\n",
       "      <td>12.0</td>\n",
       "    </tr>\n",
       "  </tbody>\n",
       "</table>\n",
       "<p>2410 rows × 7 columns</p>\n",
       "</div>"
      ],
      "text/plain": [
       "        abv   ibu    id                  name                           style  \\\n",
       "0     0.050   NaN  1436              Pub Beer             American Pale Lager   \n",
       "1     0.066   NaN  2265           Devil's Cup         American Pale Ale (APA)   \n",
       "2     0.071   NaN  2264   Rise of the Phoenix                    American IPA   \n",
       "3     0.090   NaN  2263              Sinister  American Double / Imperial IPA   \n",
       "4     0.075   NaN  2262         Sex and Candy                    American IPA   \n",
       "...     ...   ...   ...                   ...                             ...   \n",
       "2405  0.067  45.0   928             Belgorado                     Belgian IPA   \n",
       "2406  0.052   NaN   807         Rail Yard Ale        American Amber / Red Ale   \n",
       "2407  0.055   NaN   620       B3K Black Lager                     Schwarzbier   \n",
       "2408  0.055  40.0   145   Silverback Pale Ale         American Pale Ale (APA)   \n",
       "2409  0.052   NaN    84  Rail Yard Ale (2009)        American Amber / Red Ale   \n",
       "\n",
       "      brewery_id  ounces  \n",
       "0            408    12.0  \n",
       "1            177    12.0  \n",
       "2            177    12.0  \n",
       "3            177    12.0  \n",
       "4            177    12.0  \n",
       "...          ...     ...  \n",
       "2405         424    12.0  \n",
       "2406         424    12.0  \n",
       "2407         424    12.0  \n",
       "2408         424    12.0  \n",
       "2409         424    12.0  \n",
       "\n",
       "[2410 rows x 7 columns]"
      ]
     },
     "execution_count": 5,
     "metadata": {},
     "output_type": "execute_result"
    }
   ],
   "source": [
    "beers_df = pd.read_csv('beers.csv', index_col=0)\n",
    "beers_df"
   ]
  },
  {
   "cell_type": "code",
   "execution_count": 6,
   "id": "90db5474",
   "metadata": {
    "ExecuteTime": {
     "end_time": "2023-11-19T06:07:48.121225Z",
     "start_time": "2023-11-19T06:07:48.089534Z"
    }
   },
   "outputs": [
    {
     "name": "stdout",
     "output_type": "stream",
     "text": [
      "<class 'pandas.core.frame.DataFrame'>\n",
      "Int64Index: 2410 entries, 0 to 2409\n",
      "Data columns (total 7 columns):\n",
      " #   Column      Non-Null Count  Dtype  \n",
      "---  ------      --------------  -----  \n",
      " 0   abv         2348 non-null   float64\n",
      " 1   ibu         1405 non-null   float64\n",
      " 2   id          2410 non-null   int64  \n",
      " 3   name        2410 non-null   object \n",
      " 4   style       2405 non-null   object \n",
      " 5   brewery_id  2410 non-null   int64  \n",
      " 6   ounces      2410 non-null   float64\n",
      "dtypes: float64(3), int64(2), object(2)\n",
      "memory usage: 150.6+ KB\n"
     ]
    }
   ],
   "source": [
    "beers_df.info()"
   ]
  },
  {
   "cell_type": "code",
   "execution_count": 7,
   "id": "d7f23ed5",
   "metadata": {
    "ExecuteTime": {
     "end_time": "2023-11-19T06:07:55.876296Z",
     "start_time": "2023-11-19T06:07:55.859925Z"
    }
   },
   "outputs": [
    {
     "data": {
      "text/plain": [
       "abv             62\n",
       "ibu           1005\n",
       "id               0\n",
       "name             0\n",
       "style            5\n",
       "brewery_id       0\n",
       "ounces           0\n",
       "dtype: int64"
      ]
     },
     "execution_count": 7,
     "metadata": {},
     "output_type": "execute_result"
    }
   ],
   "source": [
    "beers_df.isna().sum()"
   ]
  },
  {
   "cell_type": "markdown",
   "id": "53203838",
   "metadata": {},
   "source": [
    "```beers_df```를 보면서 생각한 점\n",
    "- 컬럼명 한글화\n",
    "- abv, ibu 컬럼 null값 처리\n",
    "- 컬럼별로 분포 확인"
   ]
  },
  {
   "cell_type": "code",
   "execution_count": 12,
   "id": "ec4a5af1",
   "metadata": {
    "ExecuteTime": {
     "end_time": "2023-11-19T06:14:17.342859Z",
     "start_time": "2023-11-19T06:14:17.323859Z"
    }
   },
   "outputs": [
    {
     "data": {
      "text/html": [
       "<div>\n",
       "<style scoped>\n",
       "    .dataframe tbody tr th:only-of-type {\n",
       "        vertical-align: middle;\n",
       "    }\n",
       "\n",
       "    .dataframe tbody tr th {\n",
       "        vertical-align: top;\n",
       "    }\n",
       "\n",
       "    .dataframe thead th {\n",
       "        text-align: right;\n",
       "    }\n",
       "</style>\n",
       "<table border=\"1\" class=\"dataframe\">\n",
       "  <thead>\n",
       "    <tr style=\"text-align: right;\">\n",
       "      <th></th>\n",
       "      <th>알코올 도수</th>\n",
       "      <th>쓴 정도</th>\n",
       "      <th>id</th>\n",
       "      <th>이름</th>\n",
       "      <th>스타일</th>\n",
       "      <th>brewery_id</th>\n",
       "      <th>질량</th>\n",
       "    </tr>\n",
       "  </thead>\n",
       "  <tbody>\n",
       "    <tr>\n",
       "      <th>0</th>\n",
       "      <td>0.050</td>\n",
       "      <td>NaN</td>\n",
       "      <td>1436</td>\n",
       "      <td>Pub Beer</td>\n",
       "      <td>American Pale Lager</td>\n",
       "      <td>408</td>\n",
       "      <td>12.0</td>\n",
       "    </tr>\n",
       "    <tr>\n",
       "      <th>1</th>\n",
       "      <td>0.066</td>\n",
       "      <td>NaN</td>\n",
       "      <td>2265</td>\n",
       "      <td>Devil's Cup</td>\n",
       "      <td>American Pale Ale (APA)</td>\n",
       "      <td>177</td>\n",
       "      <td>12.0</td>\n",
       "    </tr>\n",
       "    <tr>\n",
       "      <th>2</th>\n",
       "      <td>0.071</td>\n",
       "      <td>NaN</td>\n",
       "      <td>2264</td>\n",
       "      <td>Rise of the Phoenix</td>\n",
       "      <td>American IPA</td>\n",
       "      <td>177</td>\n",
       "      <td>12.0</td>\n",
       "    </tr>\n",
       "    <tr>\n",
       "      <th>3</th>\n",
       "      <td>0.090</td>\n",
       "      <td>NaN</td>\n",
       "      <td>2263</td>\n",
       "      <td>Sinister</td>\n",
       "      <td>American Double / Imperial IPA</td>\n",
       "      <td>177</td>\n",
       "      <td>12.0</td>\n",
       "    </tr>\n",
       "    <tr>\n",
       "      <th>4</th>\n",
       "      <td>0.075</td>\n",
       "      <td>NaN</td>\n",
       "      <td>2262</td>\n",
       "      <td>Sex and Candy</td>\n",
       "      <td>American IPA</td>\n",
       "      <td>177</td>\n",
       "      <td>12.0</td>\n",
       "    </tr>\n",
       "    <tr>\n",
       "      <th>...</th>\n",
       "      <td>...</td>\n",
       "      <td>...</td>\n",
       "      <td>...</td>\n",
       "      <td>...</td>\n",
       "      <td>...</td>\n",
       "      <td>...</td>\n",
       "      <td>...</td>\n",
       "    </tr>\n",
       "    <tr>\n",
       "      <th>2405</th>\n",
       "      <td>0.067</td>\n",
       "      <td>45.0</td>\n",
       "      <td>928</td>\n",
       "      <td>Belgorado</td>\n",
       "      <td>Belgian IPA</td>\n",
       "      <td>424</td>\n",
       "      <td>12.0</td>\n",
       "    </tr>\n",
       "    <tr>\n",
       "      <th>2406</th>\n",
       "      <td>0.052</td>\n",
       "      <td>NaN</td>\n",
       "      <td>807</td>\n",
       "      <td>Rail Yard Ale</td>\n",
       "      <td>American Amber / Red Ale</td>\n",
       "      <td>424</td>\n",
       "      <td>12.0</td>\n",
       "    </tr>\n",
       "    <tr>\n",
       "      <th>2407</th>\n",
       "      <td>0.055</td>\n",
       "      <td>NaN</td>\n",
       "      <td>620</td>\n",
       "      <td>B3K Black Lager</td>\n",
       "      <td>Schwarzbier</td>\n",
       "      <td>424</td>\n",
       "      <td>12.0</td>\n",
       "    </tr>\n",
       "    <tr>\n",
       "      <th>2408</th>\n",
       "      <td>0.055</td>\n",
       "      <td>40.0</td>\n",
       "      <td>145</td>\n",
       "      <td>Silverback Pale Ale</td>\n",
       "      <td>American Pale Ale (APA)</td>\n",
       "      <td>424</td>\n",
       "      <td>12.0</td>\n",
       "    </tr>\n",
       "    <tr>\n",
       "      <th>2409</th>\n",
       "      <td>0.052</td>\n",
       "      <td>NaN</td>\n",
       "      <td>84</td>\n",
       "      <td>Rail Yard Ale (2009)</td>\n",
       "      <td>American Amber / Red Ale</td>\n",
       "      <td>424</td>\n",
       "      <td>12.0</td>\n",
       "    </tr>\n",
       "  </tbody>\n",
       "</table>\n",
       "<p>2410 rows × 7 columns</p>\n",
       "</div>"
      ],
      "text/plain": [
       "      알코올 도수  쓴 정도    id                    이름  \\\n",
       "0      0.050   NaN  1436              Pub Beer   \n",
       "1      0.066   NaN  2265           Devil's Cup   \n",
       "2      0.071   NaN  2264   Rise of the Phoenix   \n",
       "3      0.090   NaN  2263              Sinister   \n",
       "4      0.075   NaN  2262         Sex and Candy   \n",
       "...      ...   ...   ...                   ...   \n",
       "2405   0.067  45.0   928             Belgorado   \n",
       "2406   0.052   NaN   807         Rail Yard Ale   \n",
       "2407   0.055   NaN   620       B3K Black Lager   \n",
       "2408   0.055  40.0   145   Silverback Pale Ale   \n",
       "2409   0.052   NaN    84  Rail Yard Ale (2009)   \n",
       "\n",
       "                                 스타일  brewery_id    질량  \n",
       "0                American Pale Lager         408  12.0  \n",
       "1            American Pale Ale (APA)         177  12.0  \n",
       "2                       American IPA         177  12.0  \n",
       "3     American Double / Imperial IPA         177  12.0  \n",
       "4                       American IPA         177  12.0  \n",
       "...                              ...         ...   ...  \n",
       "2405                     Belgian IPA         424  12.0  \n",
       "2406        American Amber / Red Ale         424  12.0  \n",
       "2407                     Schwarzbier         424  12.0  \n",
       "2408         American Pale Ale (APA)         424  12.0  \n",
       "2409        American Amber / Red Ale         424  12.0  \n",
       "\n",
       "[2410 rows x 7 columns]"
      ]
     },
     "execution_count": 12,
     "metadata": {},
     "output_type": "execute_result"
    }
   ],
   "source": [
    "named_beers_df = beers_df.rename(columns={\n",
    "    'abv': '알코올 도수',\n",
    "    'ibu': '쓴 정도',\n",
    "    # id는 안 바꾸기\n",
    "    'name': '이름',\n",
    "    'style': '스타일',\n",
    "    # brewery_id는 안 바꾸기\n",
    "    'ounces': '질량'\n",
    "})\n",
    "\n",
    "named_beers_df"
   ]
  },
  {
   "cell_type": "markdown",
   "id": "389fdad5",
   "metadata": {},
   "source": [
    "#### 2-1-2. 컬럼별 분포 확인(이름)"
   ]
  },
  {
   "cell_type": "code",
   "execution_count": 67,
   "id": "36e04fde",
   "metadata": {
    "ExecuteTime": {
     "end_time": "2023-11-19T06:35:16.398143Z",
     "start_time": "2023-11-19T06:35:16.380196Z"
    }
   },
   "outputs": [
    {
     "data": {
      "text/plain": [
       "2305"
      ]
     },
     "execution_count": 67,
     "metadata": {},
     "output_type": "execute_result"
    }
   ],
   "source": [
    "named_beers_df['이름'].nunique()"
   ]
  },
  {
   "cell_type": "markdown",
   "id": "3bc0bc5c",
   "metadata": {},
   "source": [
    "데이터 개수가 2410개인데 이름의 고유값이 2305종류라는 것은 중복으로 들어간 게 105개라는 뜻 같다."
   ]
  },
  {
   "cell_type": "code",
   "execution_count": 72,
   "id": "d7792d26",
   "metadata": {
    "ExecuteTime": {
     "end_time": "2023-11-19T06:37:04.550315Z",
     "start_time": "2023-11-19T06:37:04.531308Z"
    }
   },
   "outputs": [
    {
     "data": {
      "text/html": [
       "<div>\n",
       "<style scoped>\n",
       "    .dataframe tbody tr th:only-of-type {\n",
       "        vertical-align: middle;\n",
       "    }\n",
       "\n",
       "    .dataframe tbody tr th {\n",
       "        vertical-align: top;\n",
       "    }\n",
       "\n",
       "    .dataframe thead th {\n",
       "        text-align: right;\n",
       "    }\n",
       "</style>\n",
       "<table border=\"1\" class=\"dataframe\">\n",
       "  <thead>\n",
       "    <tr style=\"text-align: right;\">\n",
       "      <th></th>\n",
       "      <th>알코올 도수</th>\n",
       "      <th>쓴 정도</th>\n",
       "      <th>id</th>\n",
       "      <th>이름</th>\n",
       "      <th>스타일</th>\n",
       "      <th>brewery_id</th>\n",
       "      <th>질량</th>\n",
       "    </tr>\n",
       "  </thead>\n",
       "  <tbody>\n",
       "    <tr>\n",
       "      <th>1254</th>\n",
       "      <td>0.051</td>\n",
       "      <td>20.0</td>\n",
       "      <td>360</td>\n",
       "      <td>#9</td>\n",
       "      <td>Fruit / Vegetable Beer</td>\n",
       "      <td>303</td>\n",
       "      <td>12.0</td>\n",
       "    </tr>\n",
       "    <tr>\n",
       "      <th>304</th>\n",
       "      <td>0.056</td>\n",
       "      <td>37.0</td>\n",
       "      <td>886</td>\n",
       "      <td>1327 Pod's ESB</td>\n",
       "      <td>Extra Special / Strong Bitter (ESB)</td>\n",
       "      <td>380</td>\n",
       "      <td>12.0</td>\n",
       "    </tr>\n",
       "    <tr>\n",
       "      <th>305</th>\n",
       "      <td>0.056</td>\n",
       "      <td>37.0</td>\n",
       "      <td>612</td>\n",
       "      <td>1327 Pod's ESB</td>\n",
       "      <td>Extra Special / Strong Bitter (ESB)</td>\n",
       "      <td>380</td>\n",
       "      <td>12.0</td>\n",
       "    </tr>\n",
       "    <tr>\n",
       "      <th>916</th>\n",
       "      <td>0.054</td>\n",
       "      <td>30.0</td>\n",
       "      <td>2202</td>\n",
       "      <td>312 Urban Pale Ale</td>\n",
       "      <td>American Pale Ale (APA)</td>\n",
       "      <td>88</td>\n",
       "      <td>12.0</td>\n",
       "    </tr>\n",
       "    <tr>\n",
       "      <th>918</th>\n",
       "      <td>0.042</td>\n",
       "      <td>18.0</td>\n",
       "      <td>1829</td>\n",
       "      <td>312 Urban Wheat Ale</td>\n",
       "      <td>American Pale Wheat Ale</td>\n",
       "      <td>88</td>\n",
       "      <td>12.0</td>\n",
       "    </tr>\n",
       "    <tr>\n",
       "      <th>...</th>\n",
       "      <td>...</td>\n",
       "      <td>...</td>\n",
       "      <td>...</td>\n",
       "      <td>...</td>\n",
       "      <td>...</td>\n",
       "      <td>...</td>\n",
       "      <td>...</td>\n",
       "    </tr>\n",
       "    <tr>\n",
       "      <th>1320</th>\n",
       "      <td>0.072</td>\n",
       "      <td>75.0</td>\n",
       "      <td>2185</td>\n",
       "      <td>Tsunami IPA</td>\n",
       "      <td>American IPA</td>\n",
       "      <td>203</td>\n",
       "      <td>12.0</td>\n",
       "    </tr>\n",
       "    <tr>\n",
       "      <th>1696</th>\n",
       "      <td>0.047</td>\n",
       "      <td>25.0</td>\n",
       "      <td>2513</td>\n",
       "      <td>Vanilla Porter</td>\n",
       "      <td>American Porter</td>\n",
       "      <td>68</td>\n",
       "      <td>16.0</td>\n",
       "    </tr>\n",
       "    <tr>\n",
       "      <th>2173</th>\n",
       "      <td>0.051</td>\n",
       "      <td>11.0</td>\n",
       "      <td>2421</td>\n",
       "      <td>Watermelon Ale</td>\n",
       "      <td>Fruit / Vegetable Beer</td>\n",
       "      <td>108</td>\n",
       "      <td>12.0</td>\n",
       "    </tr>\n",
       "    <tr>\n",
       "      <th>558</th>\n",
       "      <td>0.047</td>\n",
       "      <td>NaN</td>\n",
       "      <td>638</td>\n",
       "      <td>White Zombie Ale</td>\n",
       "      <td>Witbier</td>\n",
       "      <td>331</td>\n",
       "      <td>12.0</td>\n",
       "    </tr>\n",
       "    <tr>\n",
       "      <th>1563</th>\n",
       "      <td>0.085</td>\n",
       "      <td>NaN</td>\n",
       "      <td>992</td>\n",
       "      <td>oSKAr the G'Rauch</td>\n",
       "      <td>American IPA</td>\n",
       "      <td>166</td>\n",
       "      <td>16.0</td>\n",
       "    </tr>\n",
       "  </tbody>\n",
       "</table>\n",
       "<p>105 rows × 7 columns</p>\n",
       "</div>"
      ],
      "text/plain": [
       "      알코올 도수  쓴 정도    id                   이름  \\\n",
       "1254   0.051  20.0   360                   #9   \n",
       "304    0.056  37.0   886       1327 Pod's ESB   \n",
       "305    0.056  37.0   612       1327 Pod's ESB   \n",
       "916    0.054  30.0  2202   312 Urban Pale Ale   \n",
       "918    0.042  18.0  1829  312 Urban Wheat Ale   \n",
       "...      ...   ...   ...                  ...   \n",
       "1320   0.072  75.0  2185          Tsunami IPA   \n",
       "1696   0.047  25.0  2513       Vanilla Porter   \n",
       "2173   0.051  11.0  2421       Watermelon Ale   \n",
       "558    0.047   NaN   638     White Zombie Ale   \n",
       "1563   0.085   NaN   992    oSKAr the G'Rauch   \n",
       "\n",
       "                                      스타일  brewery_id    질량  \n",
       "1254               Fruit / Vegetable Beer         303  12.0  \n",
       "304   Extra Special / Strong Bitter (ESB)         380  12.0  \n",
       "305   Extra Special / Strong Bitter (ESB)         380  12.0  \n",
       "916               American Pale Ale (APA)          88  12.0  \n",
       "918               American Pale Wheat Ale          88  12.0  \n",
       "...                                   ...         ...   ...  \n",
       "1320                         American IPA         203  12.0  \n",
       "1696                      American Porter          68  16.0  \n",
       "2173               Fruit / Vegetable Beer         108  12.0  \n",
       "558                               Witbier         331  12.0  \n",
       "1563                         American IPA         166  16.0  \n",
       "\n",
       "[105 rows x 7 columns]"
      ]
     },
     "execution_count": 72,
     "metadata": {},
     "output_type": "execute_result"
    }
   ],
   "source": [
    "named_beers_df[named_beers_df['이름'].duplicated()].sort_values('이름')"
   ]
  },
  {
   "cell_type": "markdown",
   "id": "a4812c32",
   "metadata": {},
   "source": [
    "중복되는 값들은 drop하는 게 좋겠다."
   ]
  },
  {
   "cell_type": "code",
   "execution_count": 120,
   "id": "cbfc5f2c",
   "metadata": {
    "ExecuteTime": {
     "end_time": "2023-11-19T07:38:17.347052Z",
     "start_time": "2023-11-19T07:38:17.316835Z"
    }
   },
   "outputs": [
    {
     "data": {
      "text/html": [
       "<div>\n",
       "<style scoped>\n",
       "    .dataframe tbody tr th:only-of-type {\n",
       "        vertical-align: middle;\n",
       "    }\n",
       "\n",
       "    .dataframe tbody tr th {\n",
       "        vertical-align: top;\n",
       "    }\n",
       "\n",
       "    .dataframe thead th {\n",
       "        text-align: right;\n",
       "    }\n",
       "</style>\n",
       "<table border=\"1\" class=\"dataframe\">\n",
       "  <thead>\n",
       "    <tr style=\"text-align: right;\">\n",
       "      <th></th>\n",
       "      <th>알코올 도수</th>\n",
       "      <th>쓴 정도</th>\n",
       "      <th>id</th>\n",
       "      <th>이름</th>\n",
       "      <th>스타일</th>\n",
       "      <th>brewery_id</th>\n",
       "      <th>질량</th>\n",
       "    </tr>\n",
       "  </thead>\n",
       "  <tbody>\n",
       "    <tr>\n",
       "      <th>0</th>\n",
       "      <td>0.050</td>\n",
       "      <td>NaN</td>\n",
       "      <td>1436</td>\n",
       "      <td>Pub Beer</td>\n",
       "      <td>American Pale Lager</td>\n",
       "      <td>408</td>\n",
       "      <td>12.0</td>\n",
       "    </tr>\n",
       "    <tr>\n",
       "      <th>1</th>\n",
       "      <td>0.066</td>\n",
       "      <td>NaN</td>\n",
       "      <td>2265</td>\n",
       "      <td>Devil's Cup</td>\n",
       "      <td>American Pale Ale (APA)</td>\n",
       "      <td>177</td>\n",
       "      <td>12.0</td>\n",
       "    </tr>\n",
       "    <tr>\n",
       "      <th>2</th>\n",
       "      <td>0.071</td>\n",
       "      <td>NaN</td>\n",
       "      <td>2264</td>\n",
       "      <td>Rise of the Phoenix</td>\n",
       "      <td>American IPA</td>\n",
       "      <td>177</td>\n",
       "      <td>12.0</td>\n",
       "    </tr>\n",
       "    <tr>\n",
       "      <th>3</th>\n",
       "      <td>0.090</td>\n",
       "      <td>NaN</td>\n",
       "      <td>2263</td>\n",
       "      <td>Sinister</td>\n",
       "      <td>American Double / Imperial IPA</td>\n",
       "      <td>177</td>\n",
       "      <td>12.0</td>\n",
       "    </tr>\n",
       "    <tr>\n",
       "      <th>4</th>\n",
       "      <td>0.075</td>\n",
       "      <td>NaN</td>\n",
       "      <td>2262</td>\n",
       "      <td>Sex and Candy</td>\n",
       "      <td>American IPA</td>\n",
       "      <td>177</td>\n",
       "      <td>12.0</td>\n",
       "    </tr>\n",
       "    <tr>\n",
       "      <th>...</th>\n",
       "      <td>...</td>\n",
       "      <td>...</td>\n",
       "      <td>...</td>\n",
       "      <td>...</td>\n",
       "      <td>...</td>\n",
       "      <td>...</td>\n",
       "      <td>...</td>\n",
       "    </tr>\n",
       "    <tr>\n",
       "      <th>2405</th>\n",
       "      <td>0.067</td>\n",
       "      <td>45.0</td>\n",
       "      <td>928</td>\n",
       "      <td>Belgorado</td>\n",
       "      <td>Belgian IPA</td>\n",
       "      <td>424</td>\n",
       "      <td>12.0</td>\n",
       "    </tr>\n",
       "    <tr>\n",
       "      <th>2406</th>\n",
       "      <td>0.052</td>\n",
       "      <td>NaN</td>\n",
       "      <td>807</td>\n",
       "      <td>Rail Yard Ale</td>\n",
       "      <td>American Amber / Red Ale</td>\n",
       "      <td>424</td>\n",
       "      <td>12.0</td>\n",
       "    </tr>\n",
       "    <tr>\n",
       "      <th>2407</th>\n",
       "      <td>0.055</td>\n",
       "      <td>NaN</td>\n",
       "      <td>620</td>\n",
       "      <td>B3K Black Lager</td>\n",
       "      <td>Schwarzbier</td>\n",
       "      <td>424</td>\n",
       "      <td>12.0</td>\n",
       "    </tr>\n",
       "    <tr>\n",
       "      <th>2408</th>\n",
       "      <td>0.055</td>\n",
       "      <td>40.0</td>\n",
       "      <td>145</td>\n",
       "      <td>Silverback Pale Ale</td>\n",
       "      <td>American Pale Ale (APA)</td>\n",
       "      <td>424</td>\n",
       "      <td>12.0</td>\n",
       "    </tr>\n",
       "    <tr>\n",
       "      <th>2409</th>\n",
       "      <td>0.052</td>\n",
       "      <td>NaN</td>\n",
       "      <td>84</td>\n",
       "      <td>Rail Yard Ale (2009)</td>\n",
       "      <td>American Amber / Red Ale</td>\n",
       "      <td>424</td>\n",
       "      <td>12.0</td>\n",
       "    </tr>\n",
       "  </tbody>\n",
       "</table>\n",
       "<p>2305 rows × 7 columns</p>\n",
       "</div>"
      ],
      "text/plain": [
       "      알코올 도수  쓴 정도    id                    이름  \\\n",
       "0      0.050   NaN  1436              Pub Beer   \n",
       "1      0.066   NaN  2265           Devil's Cup   \n",
       "2      0.071   NaN  2264   Rise of the Phoenix   \n",
       "3      0.090   NaN  2263              Sinister   \n",
       "4      0.075   NaN  2262         Sex and Candy   \n",
       "...      ...   ...   ...                   ...   \n",
       "2405   0.067  45.0   928             Belgorado   \n",
       "2406   0.052   NaN   807         Rail Yard Ale   \n",
       "2407   0.055   NaN   620       B3K Black Lager   \n",
       "2408   0.055  40.0   145   Silverback Pale Ale   \n",
       "2409   0.052   NaN    84  Rail Yard Ale (2009)   \n",
       "\n",
       "                                 스타일  brewery_id    질량  \n",
       "0                American Pale Lager         408  12.0  \n",
       "1            American Pale Ale (APA)         177  12.0  \n",
       "2                       American IPA         177  12.0  \n",
       "3     American Double / Imperial IPA         177  12.0  \n",
       "4                       American IPA         177  12.0  \n",
       "...                              ...         ...   ...  \n",
       "2405                     Belgian IPA         424  12.0  \n",
       "2406        American Amber / Red Ale         424  12.0  \n",
       "2407                     Schwarzbier         424  12.0  \n",
       "2408         American Pale Ale (APA)         424  12.0  \n",
       "2409        American Amber / Red Ale         424  12.0  \n",
       "\n",
       "[2305 rows x 7 columns]"
      ]
     },
     "execution_count": 120,
     "metadata": {},
     "output_type": "execute_result"
    }
   ],
   "source": [
    "named_beers_df.drop_duplicates('이름', inplace=True)\n",
    "named_beers_df"
   ]
  },
  {
   "cell_type": "markdown",
   "id": "b3c238e3",
   "metadata": {},
   "source": [
    "#### 2-1-3. 컬럼별 분포 확인(알코올 도수)"
   ]
  },
  {
   "cell_type": "code",
   "execution_count": 121,
   "id": "5b1f0021",
   "metadata": {
    "ExecuteTime": {
     "end_time": "2023-11-19T07:38:32.592946Z",
     "start_time": "2023-11-19T07:38:32.567607Z"
    }
   },
   "outputs": [
    {
     "data": {
      "text/html": [
       "<div>\n",
       "<style scoped>\n",
       "    .dataframe tbody tr th:only-of-type {\n",
       "        vertical-align: middle;\n",
       "    }\n",
       "\n",
       "    .dataframe tbody tr th {\n",
       "        vertical-align: top;\n",
       "    }\n",
       "\n",
       "    .dataframe thead th {\n",
       "        text-align: right;\n",
       "    }\n",
       "</style>\n",
       "<table border=\"1\" class=\"dataframe\">\n",
       "  <thead>\n",
       "    <tr style=\"text-align: right;\">\n",
       "      <th></th>\n",
       "      <th>알코올 도수</th>\n",
       "    </tr>\n",
       "  </thead>\n",
       "  <tbody>\n",
       "    <tr>\n",
       "      <th>count</th>\n",
       "      <td>2245.000000</td>\n",
       "    </tr>\n",
       "    <tr>\n",
       "      <th>mean</th>\n",
       "      <td>0.059923</td>\n",
       "    </tr>\n",
       "    <tr>\n",
       "      <th>std</th>\n",
       "      <td>0.013555</td>\n",
       "    </tr>\n",
       "    <tr>\n",
       "      <th>min</th>\n",
       "      <td>0.001000</td>\n",
       "    </tr>\n",
       "    <tr>\n",
       "      <th>25%</th>\n",
       "      <td>0.050000</td>\n",
       "    </tr>\n",
       "    <tr>\n",
       "      <th>50%</th>\n",
       "      <td>0.057000</td>\n",
       "    </tr>\n",
       "    <tr>\n",
       "      <th>75%</th>\n",
       "      <td>0.068000</td>\n",
       "    </tr>\n",
       "    <tr>\n",
       "      <th>max</th>\n",
       "      <td>0.128000</td>\n",
       "    </tr>\n",
       "  </tbody>\n",
       "</table>\n",
       "</div>"
      ],
      "text/plain": [
       "            알코올 도수\n",
       "count  2245.000000\n",
       "mean      0.059923\n",
       "std       0.013555\n",
       "min       0.001000\n",
       "25%       0.050000\n",
       "50%       0.057000\n",
       "75%       0.068000\n",
       "max       0.128000"
      ]
     },
     "execution_count": 121,
     "metadata": {},
     "output_type": "execute_result"
    }
   ],
   "source": [
    "named_beers_df['알코올 도수'].describe().to_frame()"
   ]
  },
  {
   "cell_type": "code",
   "execution_count": 123,
   "id": "2d1ea7e8",
   "metadata": {
    "ExecuteTime": {
     "end_time": "2023-11-19T07:38:38.779475Z",
     "start_time": "2023-11-19T07:38:38.655082Z"
    }
   },
   "outputs": [
    {
     "data": {
      "image/png": "[encoded data removed]",
      "text/plain": [
       "<Figure size 640x480 with 1 Axes>"
      ]
     },
     "metadata": {},
     "output_type": "display_data"
    }
   ],
   "source": [
    "named_beers_df['알코올 도수'].plot(kind='box')\n",
    "plt.title('알코올 도수 분포')\n",
    "plt.show()"
   ]
  },
  {
   "cell_type": "markdown",
   "id": "4d89a1fc",
   "metadata": {},
   "source": [
    "우리가 흔히 생각하는 맥주의 도수에 분포가 몰려있는데, 12도 이상의 높은 분포를 보이는 맥주들도 있다."
   ]
  },
  {
   "cell_type": "code",
   "execution_count": 124,
   "id": "6f16f9a3",
   "metadata": {
    "ExecuteTime": {
     "end_time": "2023-11-19T07:38:46.017196Z",
     "start_time": "2023-11-19T07:38:45.984703Z"
    }
   },
   "outputs": [
    {
     "data": {
      "text/html": [
       "<div>\n",
       "<style scoped>\n",
       "    .dataframe tbody tr th:only-of-type {\n",
       "        vertical-align: middle;\n",
       "    }\n",
       "\n",
       "    .dataframe tbody tr th {\n",
       "        vertical-align: top;\n",
       "    }\n",
       "\n",
       "    .dataframe thead th {\n",
       "        text-align: right;\n",
       "    }\n",
       "</style>\n",
       "<table border=\"1\" class=\"dataframe\">\n",
       "  <thead>\n",
       "    <tr style=\"text-align: right;\">\n",
       "      <th></th>\n",
       "      <th>알코올 도수</th>\n",
       "      <th>쓴 정도</th>\n",
       "      <th>id</th>\n",
       "      <th>이름</th>\n",
       "      <th>스타일</th>\n",
       "      <th>brewery_id</th>\n",
       "      <th>질량</th>\n",
       "    </tr>\n",
       "  </thead>\n",
       "  <tbody>\n",
       "    <tr>\n",
       "      <th>2278</th>\n",
       "      <td>0.128</td>\n",
       "      <td>NaN</td>\n",
       "      <td>2565</td>\n",
       "      <td>Lee Hill Series Vol. 5 - Belgian Style Quadrup...</td>\n",
       "      <td>Quadrupel (Quad)</td>\n",
       "      <td>51</td>\n",
       "      <td>19.2</td>\n",
       "    </tr>\n",
       "  </tbody>\n",
       "</table>\n",
       "</div>"
      ],
      "text/plain": [
       "      알코올 도수  쓴 정도    id                                                 이름  \\\n",
       "2278   0.128   NaN  2565  Lee Hill Series Vol. 5 - Belgian Style Quadrup...   \n",
       "\n",
       "                   스타일  brewery_id    질량  \n",
       "2278  Quadrupel (Quad)          51  19.2  "
      ]
     },
     "execution_count": 124,
     "metadata": {},
     "output_type": "execute_result"
    }
   ],
   "source": [
    "named_beers_df[named_beers_df['알코올 도수'] == np.max(named_beers_df['알코올 도수'])]"
   ]
  },
  {
   "cell_type": "markdown",
   "id": "7ea69e17",
   "metadata": {},
   "source": [
    "알코올 도수가 최대값인 맥주는 Lee Hill Series Vol. 5 - Belgian Style Quadrup... 로 12.8%에 달한다."
   ]
  },
  {
   "cell_type": "code",
   "execution_count": 125,
   "id": "64948955",
   "metadata": {
    "ExecuteTime": {
     "end_time": "2023-11-19T07:38:48.874324Z",
     "start_time": "2023-11-19T07:38:48.855968Z"
    }
   },
   "outputs": [
    {
     "data": {
      "text/html": [
       "<div>\n",
       "<style scoped>\n",
       "    .dataframe tbody tr th:only-of-type {\n",
       "        vertical-align: middle;\n",
       "    }\n",
       "\n",
       "    .dataframe tbody tr th {\n",
       "        vertical-align: top;\n",
       "    }\n",
       "\n",
       "    .dataframe thead th {\n",
       "        text-align: right;\n",
       "    }\n",
       "</style>\n",
       "<table border=\"1\" class=\"dataframe\">\n",
       "  <thead>\n",
       "    <tr style=\"text-align: right;\">\n",
       "      <th></th>\n",
       "      <th>알코올 도수</th>\n",
       "      <th>쓴 정도</th>\n",
       "      <th>id</th>\n",
       "      <th>이름</th>\n",
       "      <th>스타일</th>\n",
       "      <th>brewery_id</th>\n",
       "      <th>질량</th>\n",
       "    </tr>\n",
       "  </thead>\n",
       "  <tbody>\n",
       "    <tr>\n",
       "      <th>2266</th>\n",
       "      <td>0.001</td>\n",
       "      <td>NaN</td>\n",
       "      <td>606</td>\n",
       "      <td>Scotty K NA</td>\n",
       "      <td>Low Alcohol Beer</td>\n",
       "      <td>522</td>\n",
       "      <td>16.0</td>\n",
       "    </tr>\n",
       "  </tbody>\n",
       "</table>\n",
       "</div>"
      ],
      "text/plain": [
       "      알코올 도수  쓴 정도   id           이름               스타일  brewery_id    질량\n",
       "2266   0.001   NaN  606  Scotty K NA  Low Alcohol Beer         522  16.0"
      ]
     },
     "execution_count": 125,
     "metadata": {},
     "output_type": "execute_result"
    }
   ],
   "source": [
    "named_beers_df[named_beers_df['알코올 도수'] == np.min(named_beers_df['알코올 도수'])]"
   ]
  },
  {
   "cell_type": "markdown",
   "id": "62a55a1e",
   "metadata": {},
   "source": [
    "알코올 도수가 최소값인 맥주는 Scotty K NA로 0.1%다. 음료수 아님?"
   ]
  },
  {
   "cell_type": "code",
   "execution_count": 126,
   "id": "2a30c2fb",
   "metadata": {
    "ExecuteTime": {
     "end_time": "2023-11-19T07:38:51.090568Z",
     "start_time": "2023-11-19T07:38:51.071764Z"
    }
   },
   "outputs": [
    {
     "name": "stdout",
     "output_type": "stream",
     "text": [
      "결측치 개수: 60\n",
      "결측치 비율: 2.67%\n"
     ]
    }
   ],
   "source": [
    "print(f\"결측치 개수: {named_beers_df['알코올 도수'].isna().sum()}\")\n",
    "print(f\"결측치 비율: {round(named_beers_df['알코올 도수'].isna().sum() * 100 / named_beers_df['알코올 도수'].count(), 2)}%\")"
   ]
  },
  {
   "cell_type": "markdown",
   "id": "21b2076f",
   "metadata": {},
   "source": [
    "#### 2-1-3. 컬럼별 분포 확인(쓴 정도)"
   ]
  },
  {
   "cell_type": "code",
   "execution_count": 127,
   "id": "b7e6cb33",
   "metadata": {
    "ExecuteTime": {
     "end_time": "2023-11-19T07:38:54.337194Z",
     "start_time": "2023-11-19T07:38:54.304414Z"
    }
   },
   "outputs": [
    {
     "data": {
      "text/html": [
       "<div>\n",
       "<style scoped>\n",
       "    .dataframe tbody tr th:only-of-type {\n",
       "        vertical-align: middle;\n",
       "    }\n",
       "\n",
       "    .dataframe tbody tr th {\n",
       "        vertical-align: top;\n",
       "    }\n",
       "\n",
       "    .dataframe thead th {\n",
       "        text-align: right;\n",
       "    }\n",
       "</style>\n",
       "<table border=\"1\" class=\"dataframe\">\n",
       "  <thead>\n",
       "    <tr style=\"text-align: right;\">\n",
       "      <th></th>\n",
       "      <th>쓴 정도</th>\n",
       "    </tr>\n",
       "  </thead>\n",
       "  <tbody>\n",
       "    <tr>\n",
       "      <th>count</th>\n",
       "      <td>1326.000000</td>\n",
       "    </tr>\n",
       "    <tr>\n",
       "      <th>mean</th>\n",
       "      <td>42.957768</td>\n",
       "    </tr>\n",
       "    <tr>\n",
       "      <th>std</th>\n",
       "      <td>25.972636</td>\n",
       "    </tr>\n",
       "    <tr>\n",
       "      <th>min</th>\n",
       "      <td>4.000000</td>\n",
       "    </tr>\n",
       "    <tr>\n",
       "      <th>25%</th>\n",
       "      <td>22.000000</td>\n",
       "    </tr>\n",
       "    <tr>\n",
       "      <th>50%</th>\n",
       "      <td>35.000000</td>\n",
       "    </tr>\n",
       "    <tr>\n",
       "      <th>75%</th>\n",
       "      <td>64.000000</td>\n",
       "    </tr>\n",
       "    <tr>\n",
       "      <th>max</th>\n",
       "      <td>138.000000</td>\n",
       "    </tr>\n",
       "  </tbody>\n",
       "</table>\n",
       "</div>"
      ],
      "text/plain": [
       "              쓴 정도\n",
       "count  1326.000000\n",
       "mean     42.957768\n",
       "std      25.972636\n",
       "min       4.000000\n",
       "25%      22.000000\n",
       "50%      35.000000\n",
       "75%      64.000000\n",
       "max     138.000000"
      ]
     },
     "execution_count": 127,
     "metadata": {},
     "output_type": "execute_result"
    }
   ],
   "source": [
    "named_beers_df['쓴 정도'].describe().to_frame()"
   ]
  },
  {
   "cell_type": "code",
   "execution_count": 128,
   "id": "ff9b9f05",
   "metadata": {
    "ExecuteTime": {
     "end_time": "2023-11-19T07:38:58.061755Z",
     "start_time": "2023-11-19T07:38:57.951332Z"
    }
   },
   "outputs": [
    {
     "data": {
      "image/png": "[encoded data removed]",
      "text/plain": [
       "<Figure size 640x480 with 1 Axes>"
      ]
     },
     "metadata": {},
     "output_type": "display_data"
    }
   ],
   "source": [
    "named_beers_df['쓴 정도'].plot(kind='box')\n",
    "plt.title('쓴 정도(IBU) 분포')\n",
    "plt.show()"
   ]
  },
  {
   "cell_type": "markdown",
   "id": "f1898cec",
   "metadata": {},
   "source": [
    "쓴 정도는 21 ~ 64에 몰려있다. 찾아봤을 때에는 0부터 100까지의 스케일로 되어있다고 했는데 왜 138 같은 애가 있는지 잘 모르겠다."
   ]
  },
  {
   "cell_type": "code",
   "execution_count": 129,
   "id": "d8b23692",
   "metadata": {
    "ExecuteTime": {
     "end_time": "2023-11-19T07:39:19.110567Z",
     "start_time": "2023-11-19T07:39:19.080014Z"
    }
   },
   "outputs": [
    {
     "data": {
      "text/html": [
       "<div>\n",
       "<style scoped>\n",
       "    .dataframe tbody tr th:only-of-type {\n",
       "        vertical-align: middle;\n",
       "    }\n",
       "\n",
       "    .dataframe tbody tr th {\n",
       "        vertical-align: top;\n",
       "    }\n",
       "\n",
       "    .dataframe thead th {\n",
       "        text-align: right;\n",
       "    }\n",
       "</style>\n",
       "<table border=\"1\" class=\"dataframe\">\n",
       "  <thead>\n",
       "    <tr style=\"text-align: right;\">\n",
       "      <th></th>\n",
       "      <th>알코올 도수</th>\n",
       "      <th>쓴 정도</th>\n",
       "      <th>id</th>\n",
       "      <th>이름</th>\n",
       "      <th>스타일</th>\n",
       "      <th>brewery_id</th>\n",
       "      <th>질량</th>\n",
       "    </tr>\n",
       "  </thead>\n",
       "  <tbody>\n",
       "    <tr>\n",
       "      <th>147</th>\n",
       "      <td>0.082</td>\n",
       "      <td>138.0</td>\n",
       "      <td>980</td>\n",
       "      <td>Bitter Bitch Imperial IPA</td>\n",
       "      <td>American Double / Imperial IPA</td>\n",
       "      <td>374</td>\n",
       "      <td>12.0</td>\n",
       "    </tr>\n",
       "  </tbody>\n",
       "</table>\n",
       "</div>"
      ],
      "text/plain": [
       "     알코올 도수   쓴 정도   id                         이름  \\\n",
       "147   0.082  138.0  980  Bitter Bitch Imperial IPA   \n",
       "\n",
       "                                스타일  brewery_id    질량  \n",
       "147  American Double / Imperial IPA         374  12.0  "
      ]
     },
     "execution_count": 129,
     "metadata": {},
     "output_type": "execute_result"
    }
   ],
   "source": [
    "named_beers_df[named_beers_df['쓴 정도'] == np.max(named_beers_df['쓴 정도'])]"
   ]
  },
  {
   "cell_type": "markdown",
   "id": "cead1515",
   "metadata": {},
   "source": [
    "이름부터가 Bitter인 거 보니까 작정하고 쓰게 만들었나... 원래 맥주면 100 안에 들어와야 하는데 그것보다도 훨씬 써서 138인가?"
   ]
  },
  {
   "cell_type": "code",
   "execution_count": 130,
   "id": "65ac0e96",
   "metadata": {
    "ExecuteTime": {
     "end_time": "2023-11-19T07:39:20.478943Z",
     "start_time": "2023-11-19T07:39:20.448583Z"
    }
   },
   "outputs": [
    {
     "data": {
      "text/html": [
       "<div>\n",
       "<style scoped>\n",
       "    .dataframe tbody tr th:only-of-type {\n",
       "        vertical-align: middle;\n",
       "    }\n",
       "\n",
       "    .dataframe tbody tr th {\n",
       "        vertical-align: top;\n",
       "    }\n",
       "\n",
       "    .dataframe thead th {\n",
       "        text-align: right;\n",
       "    }\n",
       "</style>\n",
       "<table border=\"1\" class=\"dataframe\">\n",
       "  <thead>\n",
       "    <tr style=\"text-align: right;\">\n",
       "      <th></th>\n",
       "      <th>알코올 도수</th>\n",
       "      <th>쓴 정도</th>\n",
       "      <th>id</th>\n",
       "      <th>이름</th>\n",
       "      <th>스타일</th>\n",
       "      <th>brewery_id</th>\n",
       "      <th>질량</th>\n",
       "    </tr>\n",
       "  </thead>\n",
       "  <tbody>\n",
       "    <tr>\n",
       "      <th>106</th>\n",
       "      <td>0.056</td>\n",
       "      <td>4.0</td>\n",
       "      <td>1350</td>\n",
       "      <td>Summer Solstice</td>\n",
       "      <td>Cream Ale</td>\n",
       "      <td>171</td>\n",
       "      <td>12.0</td>\n",
       "    </tr>\n",
       "    <tr>\n",
       "      <th>112</th>\n",
       "      <td>0.056</td>\n",
       "      <td>4.0</td>\n",
       "      <td>753</td>\n",
       "      <td>Summer Solstice Cerveza Crema (2009)</td>\n",
       "      <td>Cream Ale</td>\n",
       "      <td>171</td>\n",
       "      <td>12.0</td>\n",
       "    </tr>\n",
       "    <tr>\n",
       "      <th>117</th>\n",
       "      <td>0.056</td>\n",
       "      <td>4.0</td>\n",
       "      <td>77</td>\n",
       "      <td>Summer Solstice (2011)</td>\n",
       "      <td>Cream Ale</td>\n",
       "      <td>171</td>\n",
       "      <td>12.0</td>\n",
       "    </tr>\n",
       "  </tbody>\n",
       "</table>\n",
       "</div>"
      ],
      "text/plain": [
       "     알코올 도수  쓴 정도    id                                    이름        스타일  \\\n",
       "106   0.056   4.0  1350                       Summer Solstice  Cream Ale   \n",
       "112   0.056   4.0   753  Summer Solstice Cerveza Crema (2009)  Cream Ale   \n",
       "117   0.056   4.0    77                Summer Solstice (2011)  Cream Ale   \n",
       "\n",
       "     brewery_id    질량  \n",
       "106         171  12.0  \n",
       "112         171  12.0  \n",
       "117         171  12.0  "
      ]
     },
     "execution_count": 130,
     "metadata": {},
     "output_type": "execute_result"
    }
   ],
   "source": [
    "named_beers_df[named_beers_df['쓴 정도'] == np.min(named_beers_df['쓴 정도'])]"
   ]
  },
  {
   "cell_type": "markdown",
   "id": "7adf2967",
   "metadata": {},
   "source": [
    "나는 쓴 맛을 싫어해서 이 친구들이 가장 좋을 것 같다. 셋 다 Cream Ale 스타일인 걸 보면 나중에 스타일별로 알코올 도수, 쓴 정도 보는 것도 재밌겠다."
   ]
  },
  {
   "cell_type": "code",
   "execution_count": 131,
   "id": "cf1a2707",
   "metadata": {
    "ExecuteTime": {
     "end_time": "2023-11-19T07:39:42.530695Z",
     "start_time": "2023-11-19T07:39:42.512388Z"
    }
   },
   "outputs": [
    {
     "name": "stdout",
     "output_type": "stream",
     "text": [
      "결측치 개수: 979\n",
      "결측치 비율: 43.61%\n"
     ]
    }
   ],
   "source": [
    "print(f\"결측치 개수: {named_beers_df['쓴 정도'].isna().sum()}\")\n",
    "print(f\"결측치 비율: {round(named_beers_df['쓴 정도'].isna().sum() * 100 / named_beers_df['알코올 도수'].count(), 2)}%\")"
   ]
  },
  {
   "cell_type": "markdown",
   "id": "98a1b1dc",
   "metadata": {},
   "source": [
    "결측치 겁나 많네..."
   ]
  },
  {
   "cell_type": "markdown",
   "id": "7ff5f2f7",
   "metadata": {},
   "source": [
    "#### 2-1-5. 컬럼별 분포 확인(스타일)"
   ]
  },
  {
   "cell_type": "code",
   "execution_count": 132,
   "id": "a36c2468",
   "metadata": {
    "ExecuteTime": {
     "end_time": "2023-11-19T07:39:50.517158Z",
     "start_time": "2023-11-19T07:39:50.495626Z"
    }
   },
   "outputs": [
    {
     "data": {
      "text/plain": [
       "99"
      ]
     },
     "execution_count": 132,
     "metadata": {},
     "output_type": "execute_result"
    }
   ],
   "source": [
    "named_beers_df['스타일'].nunique()"
   ]
  },
  {
   "cell_type": "code",
   "execution_count": 133,
   "id": "f8d90cf3",
   "metadata": {
    "ExecuteTime": {
     "end_time": "2023-11-19T07:39:51.286449Z",
     "start_time": "2023-11-19T07:39:51.256437Z"
    }
   },
   "outputs": [
    {
     "data": {
      "text/html": [
       "<div>\n",
       "<style scoped>\n",
       "    .dataframe tbody tr th:only-of-type {\n",
       "        vertical-align: middle;\n",
       "    }\n",
       "\n",
       "    .dataframe tbody tr th {\n",
       "        vertical-align: top;\n",
       "    }\n",
       "\n",
       "    .dataframe thead th {\n",
       "        text-align: right;\n",
       "    }\n",
       "</style>\n",
       "<table border=\"1\" class=\"dataframe\">\n",
       "  <thead>\n",
       "    <tr style=\"text-align: right;\">\n",
       "      <th></th>\n",
       "      <th>개수</th>\n",
       "    </tr>\n",
       "  </thead>\n",
       "  <tbody>\n",
       "    <tr>\n",
       "      <th>American IPA</th>\n",
       "      <td>409</td>\n",
       "    </tr>\n",
       "    <tr>\n",
       "      <th>American Pale Ale (APA)</th>\n",
       "      <td>233</td>\n",
       "    </tr>\n",
       "    <tr>\n",
       "      <th>American Amber / Red Ale</th>\n",
       "      <td>131</td>\n",
       "    </tr>\n",
       "    <tr>\n",
       "      <th>American Blonde Ale</th>\n",
       "      <td>103</td>\n",
       "    </tr>\n",
       "    <tr>\n",
       "      <th>American Double / Imperial IPA</th>\n",
       "      <td>99</td>\n",
       "    </tr>\n",
       "    <tr>\n",
       "      <th>...</th>\n",
       "      <td>...</td>\n",
       "    </tr>\n",
       "    <tr>\n",
       "      <th>American Malt Liquor</th>\n",
       "      <td>1</td>\n",
       "    </tr>\n",
       "    <tr>\n",
       "      <th>Wheat Ale</th>\n",
       "      <td>1</td>\n",
       "    </tr>\n",
       "    <tr>\n",
       "      <th>Flanders Red Ale</th>\n",
       "      <td>1</td>\n",
       "    </tr>\n",
       "    <tr>\n",
       "      <th>Kristalweizen</th>\n",
       "      <td>1</td>\n",
       "    </tr>\n",
       "    <tr>\n",
       "      <th>Low Alcohol Beer</th>\n",
       "      <td>1</td>\n",
       "    </tr>\n",
       "  </tbody>\n",
       "</table>\n",
       "<p>99 rows × 1 columns</p>\n",
       "</div>"
      ],
      "text/plain": [
       "                                 개수\n",
       "American IPA                    409\n",
       "American Pale Ale (APA)         233\n",
       "American Amber / Red Ale        131\n",
       "American Blonde Ale             103\n",
       "American Double / Imperial IPA   99\n",
       "...                             ...\n",
       "American Malt Liquor              1\n",
       "Wheat Ale                         1\n",
       "Flanders Red Ale                  1\n",
       "Kristalweizen                     1\n",
       "Low Alcohol Beer                  1\n",
       "\n",
       "[99 rows x 1 columns]"
      ]
     },
     "execution_count": 133,
     "metadata": {},
     "output_type": "execute_result"
    }
   ],
   "source": [
    "beer_styles_df = named_beers_df['스타일'].value_counts().to_frame().rename(columns={'스타일': '개수'})\n",
    "beer_styles_df"
   ]
  },
  {
   "cell_type": "code",
   "execution_count": 134,
   "id": "e9efca27",
   "metadata": {
    "ExecuteTime": {
     "end_time": "2023-11-19T07:39:53.679429Z",
     "start_time": "2023-11-19T07:39:53.657338Z"
    }
   },
   "outputs": [
    {
     "name": "stdout",
     "output_type": "stream",
     "text": [
      "개수가 10개 미만인 스타일: 51종\n",
      "개수가 10개 이상 50개 미만인 스타일: 38종\n",
      "개수가 50개 이상인 스타일: 10종\n"
     ]
    }
   ],
   "source": [
    "print(\"개수가 10개 미만인 스타일:\", end=' ')\n",
    "print(f\"{int(beer_styles_df[beer_styles_df['개수'] < 10].count())}종\")\n",
    "\n",
    "print(\"개수가 10개 이상 50개 미만인 스타일:\", end=' ')\n",
    "print(f\"{int(beer_styles_df[(beer_styles_df['개수'] >= 10) & (beer_styles_df['개수'] < 50)].count())}종\")\n",
    "\n",
    "print(\"개수가 50개 이상인 스타일:\", end=' ')\n",
    "print(f\"{int(beer_styles_df[beer_styles_df['개수'] >= 50].count())}종\")"
   ]
  },
  {
   "cell_type": "code",
   "execution_count": 169,
   "id": "1289648b",
   "metadata": {
    "ExecuteTime": {
     "end_time": "2023-11-19T07:50:51.988443Z",
     "start_time": "2023-11-19T07:50:51.846757Z"
    }
   },
   "outputs": [
    {
     "data": {
      "image/png": "[encoded data removed]",
      "text/plain": [
       "<Figure size 640x480 with 1 Axes>"
      ]
     },
     "metadata": {},
     "output_type": "display_data"
    }
   ],
   "source": [
    "pd.DataFrame({\n",
    "    '10개 미만': int(beer_styles_df[beer_styles_df['개수'] < 10].count()),\n",
    "    '10개 이상 50개 미만': int(beer_styles_df[(beer_styles_df['개수'] >= 10) & (beer_styles_df['개수'] < 50)].count()),\n",
    "    '50개 이상': int(beer_styles_df[beer_styles_df['개수'] >= 50].count())\n",
    "}, index=['맥주 스타일 빈도']).T.plot(kind='bar')\n",
    "\n",
    "plt.title('스타일별 맥주 개수 분포')\n",
    "plt.show()"
   ]
  },
  {
   "cell_type": "markdown",
   "id": "858a1581",
   "metadata": {},
   "source": [
    "개수가 10개 미만인 스타일이 51종이나 있다."
   ]
  },
  {
   "cell_type": "code",
   "execution_count": 170,
   "id": "7c82496f",
   "metadata": {
    "ExecuteTime": {
     "end_time": "2023-11-19T07:51:29.717521Z",
     "start_time": "2023-11-19T07:51:29.690145Z"
    }
   },
   "outputs": [
    {
     "data": {
      "text/html": [
       "<div>\n",
       "<style scoped>\n",
       "    .dataframe tbody tr th:only-of-type {\n",
       "        vertical-align: middle;\n",
       "    }\n",
       "\n",
       "    .dataframe tbody tr th {\n",
       "        vertical-align: top;\n",
       "    }\n",
       "\n",
       "    .dataframe thead th {\n",
       "        text-align: right;\n",
       "    }\n",
       "</style>\n",
       "<table border=\"1\" class=\"dataframe\">\n",
       "  <thead>\n",
       "    <tr style=\"text-align: right;\">\n",
       "      <th></th>\n",
       "      <th>맥주 스타일 빈도</th>\n",
       "    </tr>\n",
       "    <tr>\n",
       "      <th>개수</th>\n",
       "      <th></th>\n",
       "    </tr>\n",
       "  </thead>\n",
       "  <tbody>\n",
       "    <tr>\n",
       "      <th>1</th>\n",
       "      <td>10</td>\n",
       "    </tr>\n",
       "    <tr>\n",
       "      <th>2</th>\n",
       "      <td>7</td>\n",
       "    </tr>\n",
       "    <tr>\n",
       "      <th>3</th>\n",
       "      <td>9</td>\n",
       "    </tr>\n",
       "    <tr>\n",
       "      <th>4</th>\n",
       "      <td>4</td>\n",
       "    </tr>\n",
       "    <tr>\n",
       "      <th>5</th>\n",
       "      <td>5</td>\n",
       "    </tr>\n",
       "    <tr>\n",
       "      <th>6</th>\n",
       "      <td>8</td>\n",
       "    </tr>\n",
       "    <tr>\n",
       "      <th>7</th>\n",
       "      <td>4</td>\n",
       "    </tr>\n",
       "    <tr>\n",
       "      <th>9</th>\n",
       "      <td>4</td>\n",
       "    </tr>\n",
       "  </tbody>\n",
       "</table>\n",
       "</div>"
      ],
      "text/plain": [
       "    맥주 스타일 빈도\n",
       "개수           \n",
       "1          10\n",
       "2           7\n",
       "3           9\n",
       "4           4\n",
       "5           5\n",
       "6           8\n",
       "7           4\n",
       "9           4"
      ]
     },
     "execution_count": 170,
     "metadata": {},
     "output_type": "execute_result"
    }
   ],
   "source": [
    "beer_styles_df[beer_styles_df['개수'] < 10]['개수'].value_counts().to_frame().reset_index().rename(columns={\n",
    "    '개수': '맥주 스타일 빈도',\n",
    "    'index': '개수'\n",
    "}).sort_values('개수').set_index('개수')"
   ]
  },
  {
   "cell_type": "markdown",
   "id": "471f95d1",
   "metadata": {},
   "source": [
    "보니까 개수가 1개뿐인 스타일도 10종이나 있다. 맥주 스타일이 이렇게 다양하게 있구나..."
   ]
  },
  {
   "cell_type": "markdown",
   "id": "9bd7e546",
   "metadata": {},
   "source": [
    "#### 2-1-6. 컬럼별 분포 확인(질량)"
   ]
  },
  {
   "cell_type": "code",
   "execution_count": 136,
   "id": "599a6d18",
   "metadata": {
    "ExecuteTime": {
     "end_time": "2023-11-19T07:40:08.489645Z",
     "start_time": "2023-11-19T07:40:08.470318Z"
    }
   },
   "outputs": [
    {
     "data": {
      "text/plain": [
       "count    2305.000000\n",
       "mean       13.587375\n",
       "std         2.363536\n",
       "min         8.400000\n",
       "25%        12.000000\n",
       "50%        12.000000\n",
       "75%        16.000000\n",
       "max        32.000000\n",
       "Name: 질량, dtype: float64"
      ]
     },
     "execution_count": 136,
     "metadata": {},
     "output_type": "execute_result"
    }
   ],
   "source": [
    "named_beers_df['질량'].describe()"
   ]
  },
  {
   "cell_type": "code",
   "execution_count": 137,
   "id": "9d52b48f",
   "metadata": {
    "ExecuteTime": {
     "end_time": "2023-11-19T07:40:10.504290Z",
     "start_time": "2023-11-19T07:40:10.392431Z"
    }
   },
   "outputs": [
    {
     "data": {
      "image/png": "[encoded data removed]",
      "text/plain": [
       "<Figure size 640x480 with 1 Axes>"
      ]
     },
     "metadata": {},
     "output_type": "display_data"
    }
   ],
   "source": [
    "named_beers_df['질량'].plot(kind='box')\n",
    "plt.title('질량의 분포')\n",
    "plt.ylabel('질량(온스)')\n",
    "plt.show()"
   ]
  },
  {
   "cell_type": "markdown",
   "id": "9792e679",
   "metadata": {},
   "source": [
    "12온스가 압도적으로 많은 분포를 띠는 모양이다. 12온스는 약 340g이다. 우리가 흔히 보는 355ml짜리 캔을 말하는 것 같다."
   ]
  },
  {
   "cell_type": "code",
   "execution_count": 138,
   "id": "ac01de3d",
   "metadata": {
    "ExecuteTime": {
     "end_time": "2023-11-19T07:40:14.116596Z",
     "start_time": "2023-11-19T07:40:14.102064Z"
    }
   },
   "outputs": [
    {
     "data": {
      "text/plain": [
       "12.0    1463\n",
       "16.0     800\n",
       "24.0      22\n",
       "19.2      13\n",
       "32.0       5\n",
       "8.4        1\n",
       "16.9       1\n",
       "Name: 질량, dtype: int64"
      ]
     },
     "execution_count": 138,
     "metadata": {},
     "output_type": "execute_result"
    }
   ],
   "source": [
    "named_beers_df['질량'].value_counts()"
   ]
  },
  {
   "cell_type": "markdown",
   "id": "123f02ce",
   "metadata": {},
   "source": [
    "16온스는 454g이니까 500ml 캔인 것 같다. 역시 355ml와 500ml 용량이 압도적인 분포를 보인다."
   ]
  },
  {
   "cell_type": "code",
   "execution_count": 139,
   "id": "a122e11e",
   "metadata": {
    "ExecuteTime": {
     "end_time": "2023-11-19T07:40:17.400607Z",
     "start_time": "2023-11-19T07:40:17.368371Z"
    }
   },
   "outputs": [
    {
     "data": {
      "text/html": [
       "<div>\n",
       "<style scoped>\n",
       "    .dataframe tbody tr th:only-of-type {\n",
       "        vertical-align: middle;\n",
       "    }\n",
       "\n",
       "    .dataframe tbody tr th {\n",
       "        vertical-align: top;\n",
       "    }\n",
       "\n",
       "    .dataframe thead th {\n",
       "        text-align: right;\n",
       "    }\n",
       "</style>\n",
       "<table border=\"1\" class=\"dataframe\">\n",
       "  <thead>\n",
       "    <tr style=\"text-align: right;\">\n",
       "      <th></th>\n",
       "      <th>알코올 도수</th>\n",
       "      <th>쓴 정도</th>\n",
       "      <th>id</th>\n",
       "      <th>이름</th>\n",
       "      <th>스타일</th>\n",
       "      <th>brewery_id</th>\n",
       "      <th>질량</th>\n",
       "    </tr>\n",
       "  </thead>\n",
       "  <tbody>\n",
       "    <tr>\n",
       "      <th>1374</th>\n",
       "      <td>0.050</td>\n",
       "      <td>NaN</td>\n",
       "      <td>2442</td>\n",
       "      <td>Cortez Gold</td>\n",
       "      <td>Belgian Pale Ale</td>\n",
       "      <td>98</td>\n",
       "      <td>32.0</td>\n",
       "    </tr>\n",
       "    <tr>\n",
       "      <th>1375</th>\n",
       "      <td>0.068</td>\n",
       "      <td>66.0</td>\n",
       "      <td>2441</td>\n",
       "      <td>Mission IPA</td>\n",
       "      <td>American IPA</td>\n",
       "      <td>98</td>\n",
       "      <td>32.0</td>\n",
       "    </tr>\n",
       "    <tr>\n",
       "      <th>1376</th>\n",
       "      <td>0.048</td>\n",
       "      <td>44.0</td>\n",
       "      <td>1460</td>\n",
       "      <td>El Conquistador Extra Pale Ale</td>\n",
       "      <td>American Pale Ale (APA)</td>\n",
       "      <td>98</td>\n",
       "      <td>32.0</td>\n",
       "    </tr>\n",
       "    <tr>\n",
       "      <th>1377</th>\n",
       "      <td>0.092</td>\n",
       "      <td>75.0</td>\n",
       "      <td>1459</td>\n",
       "      <td>Shipwrecked Double IPA</td>\n",
       "      <td>American Double / Imperial IPA</td>\n",
       "      <td>98</td>\n",
       "      <td>32.0</td>\n",
       "    </tr>\n",
       "    <tr>\n",
       "      <th>1554</th>\n",
       "      <td>NaN</td>\n",
       "      <td>NaN</td>\n",
       "      <td>1796</td>\n",
       "      <td>The CROWLER™</td>\n",
       "      <td>NaN</td>\n",
       "      <td>166</td>\n",
       "      <td>32.0</td>\n",
       "    </tr>\n",
       "  </tbody>\n",
       "</table>\n",
       "</div>"
      ],
      "text/plain": [
       "      알코올 도수  쓴 정도    id                              이름  \\\n",
       "1374   0.050   NaN  2442                     Cortez Gold   \n",
       "1375   0.068  66.0  2441                     Mission IPA   \n",
       "1376   0.048  44.0  1460  El Conquistador Extra Pale Ale   \n",
       "1377   0.092  75.0  1459          Shipwrecked Double IPA   \n",
       "1554     NaN   NaN  1796                    The CROWLER™   \n",
       "\n",
       "                                 스타일  brewery_id    질량  \n",
       "1374                Belgian Pale Ale          98  32.0  \n",
       "1375                    American IPA          98  32.0  \n",
       "1376         American Pale Ale (APA)          98  32.0  \n",
       "1377  American Double / Imperial IPA          98  32.0  \n",
       "1554                             NaN         166  32.0  "
      ]
     },
     "execution_count": 139,
     "metadata": {},
     "output_type": "execute_result"
    }
   ],
   "source": [
    "named_beers_df[named_beers_df['질량'] == np.max(named_beers_df['질량'])]"
   ]
  },
  {
   "cell_type": "markdown",
   "id": "8a6c5f6f",
   "metadata": {},
   "source": [
    "가장 큰 맥주는 32온스(=907g)이다. 분명 캔맥주 데이터랬는데 1L짜리 캔이 있다고?!"
   ]
  },
  {
   "cell_type": "code",
   "execution_count": 140,
   "id": "2423c39e",
   "metadata": {
    "ExecuteTime": {
     "end_time": "2023-11-19T07:40:22.713053Z",
     "start_time": "2023-11-19T07:40:22.694703Z"
    }
   },
   "outputs": [
    {
     "data": {
      "text/html": [
       "<div>\n",
       "<style scoped>\n",
       "    .dataframe tbody tr th:only-of-type {\n",
       "        vertical-align: middle;\n",
       "    }\n",
       "\n",
       "    .dataframe tbody tr th {\n",
       "        vertical-align: top;\n",
       "    }\n",
       "\n",
       "    .dataframe thead th {\n",
       "        text-align: right;\n",
       "    }\n",
       "</style>\n",
       "<table border=\"1\" class=\"dataframe\">\n",
       "  <thead>\n",
       "    <tr style=\"text-align: right;\">\n",
       "      <th></th>\n",
       "      <th>알코올 도수</th>\n",
       "      <th>쓴 정도</th>\n",
       "      <th>id</th>\n",
       "      <th>이름</th>\n",
       "      <th>스타일</th>\n",
       "      <th>brewery_id</th>\n",
       "      <th>질량</th>\n",
       "    </tr>\n",
       "  </thead>\n",
       "  <tbody>\n",
       "    <tr>\n",
       "      <th>21</th>\n",
       "      <td>0.099</td>\n",
       "      <td>92.0</td>\n",
       "      <td>1036</td>\n",
       "      <td>Lower De Boom</td>\n",
       "      <td>American Barleywine</td>\n",
       "      <td>368</td>\n",
       "      <td>8.4</td>\n",
       "    </tr>\n",
       "  </tbody>\n",
       "</table>\n",
       "</div>"
      ],
      "text/plain": [
       "    알코올 도수  쓴 정도    id             이름                  스타일  brewery_id   질량\n",
       "21   0.099  92.0  1036  Lower De Boom  American Barleywine         368  8.4"
      ]
     },
     "execution_count": 140,
     "metadata": {},
     "output_type": "execute_result"
    }
   ],
   "source": [
    "named_beers_df[named_beers_df['질량'] == np.min(named_beers_df['질량'])]"
   ]
  },
  {
   "cell_type": "markdown",
   "id": "53cb6f0f",
   "metadata": {},
   "source": [
    "가장 작은 맥주는 8.4온스(=238g)이다. "
   ]
  },
  {
   "cell_type": "markdown",
   "id": "6c469c5b",
   "metadata": {},
   "source": [
    "### 2-2. breweries.csv"
   ]
  },
  {
   "cell_type": "markdown",
   "id": "38af2345",
   "metadata": {},
   "source": [
    "#### 2-2-1. 데이터 불러오기"
   ]
  },
  {
   "cell_type": "code",
   "execution_count": 141,
   "id": "648556b2",
   "metadata": {
    "ExecuteTime": {
     "end_time": "2023-11-19T07:41:12.484917Z",
     "start_time": "2023-11-19T07:41:12.449712Z"
    }
   },
   "outputs": [
    {
     "data": {
      "text/html": [
       "<div>\n",
       "<style scoped>\n",
       "    .dataframe tbody tr th:only-of-type {\n",
       "        vertical-align: middle;\n",
       "    }\n",
       "\n",
       "    .dataframe tbody tr th {\n",
       "        vertical-align: top;\n",
       "    }\n",
       "\n",
       "    .dataframe thead th {\n",
       "        text-align: right;\n",
       "    }\n",
       "</style>\n",
       "<table border=\"1\" class=\"dataframe\">\n",
       "  <thead>\n",
       "    <tr style=\"text-align: right;\">\n",
       "      <th></th>\n",
       "      <th>Unnamed: 0</th>\n",
       "      <th>name</th>\n",
       "      <th>city</th>\n",
       "      <th>state</th>\n",
       "    </tr>\n",
       "  </thead>\n",
       "  <tbody>\n",
       "    <tr>\n",
       "      <th>0</th>\n",
       "      <td>0</td>\n",
       "      <td>NorthGate Brewing</td>\n",
       "      <td>Minneapolis</td>\n",
       "      <td>MN</td>\n",
       "    </tr>\n",
       "    <tr>\n",
       "      <th>1</th>\n",
       "      <td>1</td>\n",
       "      <td>Against the Grain Brewery</td>\n",
       "      <td>Louisville</td>\n",
       "      <td>KY</td>\n",
       "    </tr>\n",
       "    <tr>\n",
       "      <th>2</th>\n",
       "      <td>2</td>\n",
       "      <td>Jack's Abby Craft Lagers</td>\n",
       "      <td>Framingham</td>\n",
       "      <td>MA</td>\n",
       "    </tr>\n",
       "    <tr>\n",
       "      <th>3</th>\n",
       "      <td>3</td>\n",
       "      <td>Mike Hess Brewing Company</td>\n",
       "      <td>San Diego</td>\n",
       "      <td>CA</td>\n",
       "    </tr>\n",
       "    <tr>\n",
       "      <th>4</th>\n",
       "      <td>4</td>\n",
       "      <td>Fort Point Beer Company</td>\n",
       "      <td>San Francisco</td>\n",
       "      <td>CA</td>\n",
       "    </tr>\n",
       "    <tr>\n",
       "      <th>...</th>\n",
       "      <td>...</td>\n",
       "      <td>...</td>\n",
       "      <td>...</td>\n",
       "      <td>...</td>\n",
       "    </tr>\n",
       "    <tr>\n",
       "      <th>553</th>\n",
       "      <td>553</td>\n",
       "      <td>Covington Brewhouse</td>\n",
       "      <td>Covington</td>\n",
       "      <td>LA</td>\n",
       "    </tr>\n",
       "    <tr>\n",
       "      <th>554</th>\n",
       "      <td>554</td>\n",
       "      <td>Dave's Brewfarm</td>\n",
       "      <td>Wilson</td>\n",
       "      <td>WI</td>\n",
       "    </tr>\n",
       "    <tr>\n",
       "      <th>555</th>\n",
       "      <td>555</td>\n",
       "      <td>Ukiah Brewing Company</td>\n",
       "      <td>Ukiah</td>\n",
       "      <td>CA</td>\n",
       "    </tr>\n",
       "    <tr>\n",
       "      <th>556</th>\n",
       "      <td>556</td>\n",
       "      <td>Butternuts Beer and Ale</td>\n",
       "      <td>Garrattsville</td>\n",
       "      <td>NY</td>\n",
       "    </tr>\n",
       "    <tr>\n",
       "      <th>557</th>\n",
       "      <td>557</td>\n",
       "      <td>Sleeping Lady Brewing Company</td>\n",
       "      <td>Anchorage</td>\n",
       "      <td>AK</td>\n",
       "    </tr>\n",
       "  </tbody>\n",
       "</table>\n",
       "<p>558 rows × 4 columns</p>\n",
       "</div>"
      ],
      "text/plain": [
       "     Unnamed: 0                           name           city state\n",
       "0             0             NorthGate Brewing     Minneapolis    MN\n",
       "1             1      Against the Grain Brewery     Louisville    KY\n",
       "2             2       Jack's Abby Craft Lagers     Framingham    MA\n",
       "3             3      Mike Hess Brewing Company      San Diego    CA\n",
       "4             4        Fort Point Beer Company  San Francisco    CA\n",
       "..          ...                            ...            ...   ...\n",
       "553         553            Covington Brewhouse      Covington    LA\n",
       "554         554                Dave's Brewfarm         Wilson    WI\n",
       "555         555          Ukiah Brewing Company          Ukiah    CA\n",
       "556         556        Butternuts Beer and Ale  Garrattsville    NY\n",
       "557         557  Sleeping Lady Brewing Company      Anchorage    AK\n",
       "\n",
       "[558 rows x 4 columns]"
      ]
     },
     "execution_count": 141,
     "metadata": {},
     "output_type": "execute_result"
    }
   ],
   "source": [
    "breweries_df = pd.read_csv('breweries.csv')\n",
    "breweries_df"
   ]
  },
  {
   "cell_type": "code",
   "execution_count": 142,
   "id": "8f907421",
   "metadata": {
    "ExecuteTime": {
     "end_time": "2023-11-19T07:41:21.980431Z",
     "start_time": "2023-11-19T07:41:21.959662Z"
    }
   },
   "outputs": [
    {
     "name": "stdout",
     "output_type": "stream",
     "text": [
      "<class 'pandas.core.frame.DataFrame'>\n",
      "RangeIndex: 558 entries, 0 to 557\n",
      "Data columns (total 4 columns):\n",
      " #   Column      Non-Null Count  Dtype \n",
      "---  ------      --------------  ----- \n",
      " 0   Unnamed: 0  558 non-null    int64 \n",
      " 1   name        558 non-null    object\n",
      " 2   city        558 non-null    object\n",
      " 3   state       558 non-null    object\n",
      "dtypes: int64(1), object(3)\n",
      "memory usage: 17.6+ KB\n"
     ]
    }
   ],
   "source": [
    "breweries_df.info()"
   ]
  },
  {
   "cell_type": "code",
   "execution_count": 143,
   "id": "9b063faa",
   "metadata": {
    "ExecuteTime": {
     "end_time": "2023-11-19T07:41:24.276988Z",
     "start_time": "2023-11-19T07:41:24.255389Z"
    }
   },
   "outputs": [
    {
     "data": {
      "text/plain": [
       "Unnamed: 0    0\n",
       "name          0\n",
       "city          0\n",
       "state         0\n",
       "dtype: int64"
      ]
     },
     "execution_count": 143,
     "metadata": {},
     "output_type": "execute_result"
    }
   ],
   "source": [
    "breweries_df.isna().sum()"
   ]
  },
  {
   "cell_type": "markdown",
   "id": "cff21fbb",
   "metadata": {},
   "source": [
    "```breweries_df```를 보면서 생각한 것\n",
    "- 있어야 할 ```brewery_id``` 컬럼이 없다. 아마 맨 앞에 index로 들어가야 하는 컬럼(```Unnamed: 0```)이 그 역할인 것 같다.\n",
    "- 솔직히 얘는 컬럼명 알아보기 쉬워서 한글화 딱히 필요없을 듯\n",
    "- 근데 추후 merge할 때를 생각하면 컬럼명에 양조장을 붙여야 더 구체적으로 설명이 될 것 같다\n",
    "- 정수형 데이터가 하나도 없고 전부 텍스트로 구성되어 있다\n",
    "- 결측치 하나도 없어서 아주 마음에 든다"
   ]
  },
  {
   "cell_type": "code",
   "execution_count": 144,
   "id": "6d0f6019",
   "metadata": {
    "ExecuteTime": {
     "end_time": "2023-11-19T07:42:25.984205Z",
     "start_time": "2023-11-19T07:42:25.961834Z"
    }
   },
   "outputs": [
    {
     "data": {
      "text/html": [
       "<div>\n",
       "<style scoped>\n",
       "    .dataframe tbody tr th:only-of-type {\n",
       "        vertical-align: middle;\n",
       "    }\n",
       "\n",
       "    .dataframe tbody tr th {\n",
       "        vertical-align: top;\n",
       "    }\n",
       "\n",
       "    .dataframe thead th {\n",
       "        text-align: right;\n",
       "    }\n",
       "</style>\n",
       "<table border=\"1\" class=\"dataframe\">\n",
       "  <thead>\n",
       "    <tr style=\"text-align: right;\">\n",
       "      <th></th>\n",
       "      <th>brewery_id</th>\n",
       "      <th>양조장 이름</th>\n",
       "      <th>양조장 소재 도시</th>\n",
       "      <th>양조장 소재 주</th>\n",
       "    </tr>\n",
       "  </thead>\n",
       "  <tbody>\n",
       "    <tr>\n",
       "      <th>0</th>\n",
       "      <td>0</td>\n",
       "      <td>NorthGate Brewing</td>\n",
       "      <td>Minneapolis</td>\n",
       "      <td>MN</td>\n",
       "    </tr>\n",
       "    <tr>\n",
       "      <th>1</th>\n",
       "      <td>1</td>\n",
       "      <td>Against the Grain Brewery</td>\n",
       "      <td>Louisville</td>\n",
       "      <td>KY</td>\n",
       "    </tr>\n",
       "    <tr>\n",
       "      <th>2</th>\n",
       "      <td>2</td>\n",
       "      <td>Jack's Abby Craft Lagers</td>\n",
       "      <td>Framingham</td>\n",
       "      <td>MA</td>\n",
       "    </tr>\n",
       "    <tr>\n",
       "      <th>3</th>\n",
       "      <td>3</td>\n",
       "      <td>Mike Hess Brewing Company</td>\n",
       "      <td>San Diego</td>\n",
       "      <td>CA</td>\n",
       "    </tr>\n",
       "    <tr>\n",
       "      <th>4</th>\n",
       "      <td>4</td>\n",
       "      <td>Fort Point Beer Company</td>\n",
       "      <td>San Francisco</td>\n",
       "      <td>CA</td>\n",
       "    </tr>\n",
       "    <tr>\n",
       "      <th>...</th>\n",
       "      <td>...</td>\n",
       "      <td>...</td>\n",
       "      <td>...</td>\n",
       "      <td>...</td>\n",
       "    </tr>\n",
       "    <tr>\n",
       "      <th>553</th>\n",
       "      <td>553</td>\n",
       "      <td>Covington Brewhouse</td>\n",
       "      <td>Covington</td>\n",
       "      <td>LA</td>\n",
       "    </tr>\n",
       "    <tr>\n",
       "      <th>554</th>\n",
       "      <td>554</td>\n",
       "      <td>Dave's Brewfarm</td>\n",
       "      <td>Wilson</td>\n",
       "      <td>WI</td>\n",
       "    </tr>\n",
       "    <tr>\n",
       "      <th>555</th>\n",
       "      <td>555</td>\n",
       "      <td>Ukiah Brewing Company</td>\n",
       "      <td>Ukiah</td>\n",
       "      <td>CA</td>\n",
       "    </tr>\n",
       "    <tr>\n",
       "      <th>556</th>\n",
       "      <td>556</td>\n",
       "      <td>Butternuts Beer and Ale</td>\n",
       "      <td>Garrattsville</td>\n",
       "      <td>NY</td>\n",
       "    </tr>\n",
       "    <tr>\n",
       "      <th>557</th>\n",
       "      <td>557</td>\n",
       "      <td>Sleeping Lady Brewing Company</td>\n",
       "      <td>Anchorage</td>\n",
       "      <td>AK</td>\n",
       "    </tr>\n",
       "  </tbody>\n",
       "</table>\n",
       "<p>558 rows × 4 columns</p>\n",
       "</div>"
      ],
      "text/plain": [
       "     brewery_id                         양조장 이름      양조장 소재 도시 양조장 소재 주\n",
       "0             0             NorthGate Brewing     Minneapolis       MN\n",
       "1             1      Against the Grain Brewery     Louisville       KY\n",
       "2             2       Jack's Abby Craft Lagers     Framingham       MA\n",
       "3             3      Mike Hess Brewing Company      San Diego       CA\n",
       "4             4        Fort Point Beer Company  San Francisco       CA\n",
       "..          ...                            ...            ...      ...\n",
       "553         553            Covington Brewhouse      Covington       LA\n",
       "554         554                Dave's Brewfarm         Wilson       WI\n",
       "555         555          Ukiah Brewing Company          Ukiah       CA\n",
       "556         556        Butternuts Beer and Ale  Garrattsville       NY\n",
       "557         557  Sleeping Lady Brewing Company      Anchorage       AK\n",
       "\n",
       "[558 rows x 4 columns]"
      ]
     },
     "execution_count": 144,
     "metadata": {},
     "output_type": "execute_result"
    }
   ],
   "source": [
    "named_breweries_df = breweries_df.rename(columns={\n",
    "    'Unnamed: 0': 'brewery_id', 'name': '양조장 이름', 'city': '양조장 소재 도시', 'state': '양조장 소재 주'\n",
    "})\n",
    "\n",
    "named_breweries_df"
   ]
  },
  {
   "cell_type": "markdown",
   "id": "e44c9a68",
   "metadata": {},
   "source": [
    "#### 2-2-2. 컬럼별 분포 확인(양조장 이름)"
   ]
  },
  {
   "cell_type": "code",
   "execution_count": 145,
   "id": "f34aba62",
   "metadata": {
    "ExecuteTime": {
     "end_time": "2023-11-19T07:42:38.080462Z",
     "start_time": "2023-11-19T07:42:38.065939Z"
    }
   },
   "outputs": [
    {
     "data": {
      "text/plain": [
       "551"
      ]
     },
     "execution_count": 145,
     "metadata": {},
     "output_type": "execute_result"
    }
   ],
   "source": [
    "named_breweries_df['양조장 이름'].nunique()"
   ]
  },
  {
   "cell_type": "code",
   "execution_count": 146,
   "id": "d1a5dbfa",
   "metadata": {
    "ExecuteTime": {
     "end_time": "2023-11-19T07:42:38.701589Z",
     "start_time": "2023-11-19T07:42:38.672579Z"
    }
   },
   "outputs": [
    {
     "data": {
      "text/html": [
       "<div>\n",
       "<style scoped>\n",
       "    .dataframe tbody tr th:only-of-type {\n",
       "        vertical-align: middle;\n",
       "    }\n",
       "\n",
       "    .dataframe tbody tr th {\n",
       "        vertical-align: top;\n",
       "    }\n",
       "\n",
       "    .dataframe thead th {\n",
       "        text-align: right;\n",
       "    }\n",
       "</style>\n",
       "<table border=\"1\" class=\"dataframe\">\n",
       "  <thead>\n",
       "    <tr style=\"text-align: right;\">\n",
       "      <th></th>\n",
       "      <th>brewery_id</th>\n",
       "      <th>양조장 이름</th>\n",
       "      <th>양조장 소재 도시</th>\n",
       "      <th>양조장 소재 주</th>\n",
       "    </tr>\n",
       "  </thead>\n",
       "  <tbody>\n",
       "    <tr>\n",
       "      <th>95</th>\n",
       "      <td>95</td>\n",
       "      <td>Blackrocks Brewery</td>\n",
       "      <td>Marquette</td>\n",
       "      <td>MA</td>\n",
       "    </tr>\n",
       "    <tr>\n",
       "      <th>414</th>\n",
       "      <td>414</td>\n",
       "      <td>Blue Mountain Brewery</td>\n",
       "      <td>Arrington</td>\n",
       "      <td>VA</td>\n",
       "    </tr>\n",
       "    <tr>\n",
       "      <th>456</th>\n",
       "      <td>456</td>\n",
       "      <td>Lucette Brewing Company</td>\n",
       "      <td>Menominie</td>\n",
       "      <td>WI</td>\n",
       "    </tr>\n",
       "    <tr>\n",
       "      <th>503</th>\n",
       "      <td>503</td>\n",
       "      <td>Oskar Blues Brewery</td>\n",
       "      <td>Lyons</td>\n",
       "      <td>CO</td>\n",
       "    </tr>\n",
       "    <tr>\n",
       "      <th>275</th>\n",
       "      <td>275</td>\n",
       "      <td>Otter Creek Brewing</td>\n",
       "      <td>Middlebury</td>\n",
       "      <td>VT</td>\n",
       "    </tr>\n",
       "    <tr>\n",
       "      <th>371</th>\n",
       "      <td>371</td>\n",
       "      <td>Sly Fox Brewing Company</td>\n",
       "      <td>Pottstown</td>\n",
       "      <td>PA</td>\n",
       "    </tr>\n",
       "    <tr>\n",
       "      <th>138</th>\n",
       "      <td>138</td>\n",
       "      <td>Summit Brewing Company</td>\n",
       "      <td>St Paul</td>\n",
       "      <td>MN</td>\n",
       "    </tr>\n",
       "  </tbody>\n",
       "</table>\n",
       "</div>"
      ],
      "text/plain": [
       "     brewery_id                   양조장 이름   양조장 소재 도시 양조장 소재 주\n",
       "95           95       Blackrocks Brewery   Marquette       MA\n",
       "414         414    Blue Mountain Brewery   Arrington       VA\n",
       "456         456  Lucette Brewing Company   Menominie       WI\n",
       "503         503      Oskar Blues Brewery       Lyons       CO\n",
       "275         275      Otter Creek Brewing  Middlebury       VT\n",
       "371         371  Sly Fox Brewing Company   Pottstown       PA\n",
       "138         138   Summit Brewing Company     St Paul       MN"
      ]
     },
     "execution_count": 146,
     "metadata": {},
     "output_type": "execute_result"
    }
   ],
   "source": [
    "named_breweries_df[named_breweries_df['양조장 이름'].duplicated()].sort_values('양조장 이름')"
   ]
  },
  {
   "cell_type": "markdown",
   "id": "e4bf54bc",
   "metadata": {},
   "source": [
    "7개의 중복된 양조장이 들어가 있다."
   ]
  },
  {
   "cell_type": "code",
   "execution_count": 147,
   "id": "af5bde7a",
   "metadata": {
    "ExecuteTime": {
     "end_time": "2023-11-19T07:43:02.415522Z",
     "start_time": "2023-11-19T07:43:02.392882Z"
    }
   },
   "outputs": [
    {
     "data": {
      "text/html": [
       "<div>\n",
       "<style scoped>\n",
       "    .dataframe tbody tr th:only-of-type {\n",
       "        vertical-align: middle;\n",
       "    }\n",
       "\n",
       "    .dataframe tbody tr th {\n",
       "        vertical-align: top;\n",
       "    }\n",
       "\n",
       "    .dataframe thead th {\n",
       "        text-align: right;\n",
       "    }\n",
       "</style>\n",
       "<table border=\"1\" class=\"dataframe\">\n",
       "  <thead>\n",
       "    <tr style=\"text-align: right;\">\n",
       "      <th></th>\n",
       "      <th>brewery_id</th>\n",
       "      <th>양조장 이름</th>\n",
       "      <th>양조장 소재 도시</th>\n",
       "      <th>양조장 소재 주</th>\n",
       "    </tr>\n",
       "  </thead>\n",
       "  <tbody>\n",
       "    <tr>\n",
       "      <th>0</th>\n",
       "      <td>0</td>\n",
       "      <td>NorthGate Brewing</td>\n",
       "      <td>Minneapolis</td>\n",
       "      <td>MN</td>\n",
       "    </tr>\n",
       "    <tr>\n",
       "      <th>1</th>\n",
       "      <td>1</td>\n",
       "      <td>Against the Grain Brewery</td>\n",
       "      <td>Louisville</td>\n",
       "      <td>KY</td>\n",
       "    </tr>\n",
       "    <tr>\n",
       "      <th>2</th>\n",
       "      <td>2</td>\n",
       "      <td>Jack's Abby Craft Lagers</td>\n",
       "      <td>Framingham</td>\n",
       "      <td>MA</td>\n",
       "    </tr>\n",
       "    <tr>\n",
       "      <th>3</th>\n",
       "      <td>3</td>\n",
       "      <td>Mike Hess Brewing Company</td>\n",
       "      <td>San Diego</td>\n",
       "      <td>CA</td>\n",
       "    </tr>\n",
       "    <tr>\n",
       "      <th>4</th>\n",
       "      <td>4</td>\n",
       "      <td>Fort Point Beer Company</td>\n",
       "      <td>San Francisco</td>\n",
       "      <td>CA</td>\n",
       "    </tr>\n",
       "    <tr>\n",
       "      <th>...</th>\n",
       "      <td>...</td>\n",
       "      <td>...</td>\n",
       "      <td>...</td>\n",
       "      <td>...</td>\n",
       "    </tr>\n",
       "    <tr>\n",
       "      <th>553</th>\n",
       "      <td>553</td>\n",
       "      <td>Covington Brewhouse</td>\n",
       "      <td>Covington</td>\n",
       "      <td>LA</td>\n",
       "    </tr>\n",
       "    <tr>\n",
       "      <th>554</th>\n",
       "      <td>554</td>\n",
       "      <td>Dave's Brewfarm</td>\n",
       "      <td>Wilson</td>\n",
       "      <td>WI</td>\n",
       "    </tr>\n",
       "    <tr>\n",
       "      <th>555</th>\n",
       "      <td>555</td>\n",
       "      <td>Ukiah Brewing Company</td>\n",
       "      <td>Ukiah</td>\n",
       "      <td>CA</td>\n",
       "    </tr>\n",
       "    <tr>\n",
       "      <th>556</th>\n",
       "      <td>556</td>\n",
       "      <td>Butternuts Beer and Ale</td>\n",
       "      <td>Garrattsville</td>\n",
       "      <td>NY</td>\n",
       "    </tr>\n",
       "    <tr>\n",
       "      <th>557</th>\n",
       "      <td>557</td>\n",
       "      <td>Sleeping Lady Brewing Company</td>\n",
       "      <td>Anchorage</td>\n",
       "      <td>AK</td>\n",
       "    </tr>\n",
       "  </tbody>\n",
       "</table>\n",
       "<p>551 rows × 4 columns</p>\n",
       "</div>"
      ],
      "text/plain": [
       "     brewery_id                         양조장 이름      양조장 소재 도시 양조장 소재 주\n",
       "0             0             NorthGate Brewing     Minneapolis       MN\n",
       "1             1      Against the Grain Brewery     Louisville       KY\n",
       "2             2       Jack's Abby Craft Lagers     Framingham       MA\n",
       "3             3      Mike Hess Brewing Company      San Diego       CA\n",
       "4             4        Fort Point Beer Company  San Francisco       CA\n",
       "..          ...                            ...            ...      ...\n",
       "553         553            Covington Brewhouse      Covington       LA\n",
       "554         554                Dave's Brewfarm         Wilson       WI\n",
       "555         555          Ukiah Brewing Company          Ukiah       CA\n",
       "556         556        Butternuts Beer and Ale  Garrattsville       NY\n",
       "557         557  Sleeping Lady Brewing Company      Anchorage       AK\n",
       "\n",
       "[551 rows x 4 columns]"
      ]
     },
     "execution_count": 147,
     "metadata": {},
     "output_type": "execute_result"
    }
   ],
   "source": [
    "named_breweries_df.drop_duplicates('양조장 이름', inplace=True)\n",
    "named_breweries_df"
   ]
  },
  {
   "cell_type": "markdown",
   "id": "dfb0b7cb",
   "metadata": {},
   "source": [
    "#### 2-2-3. 컬럼별 분포 확인(양조장 소재 도시)"
   ]
  },
  {
   "cell_type": "code",
   "execution_count": 172,
   "id": "dad1753d",
   "metadata": {
    "ExecuteTime": {
     "end_time": "2023-11-19T07:52:45.098958Z",
     "start_time": "2023-11-19T07:52:45.072437Z"
    }
   },
   "outputs": [
    {
     "data": {
      "text/html": [
       "<div>\n",
       "<style scoped>\n",
       "    .dataframe tbody tr th:only-of-type {\n",
       "        vertical-align: middle;\n",
       "    }\n",
       "\n",
       "    .dataframe tbody tr th {\n",
       "        vertical-align: top;\n",
       "    }\n",
       "\n",
       "    .dataframe thead th {\n",
       "        text-align: right;\n",
       "    }\n",
       "</style>\n",
       "<table border=\"1\" class=\"dataframe\">\n",
       "  <thead>\n",
       "    <tr style=\"text-align: right;\">\n",
       "      <th></th>\n",
       "      <th>개수</th>\n",
       "    </tr>\n",
       "  </thead>\n",
       "  <tbody>\n",
       "    <tr>\n",
       "      <th>Portland</th>\n",
       "      <td>17</td>\n",
       "    </tr>\n",
       "    <tr>\n",
       "      <th>Chicago</th>\n",
       "      <td>9</td>\n",
       "    </tr>\n",
       "    <tr>\n",
       "      <th>Seattle</th>\n",
       "      <td>9</td>\n",
       "    </tr>\n",
       "    <tr>\n",
       "      <th>Boulder</th>\n",
       "      <td>9</td>\n",
       "    </tr>\n",
       "    <tr>\n",
       "      <th>San Diego</th>\n",
       "      <td>8</td>\n",
       "    </tr>\n",
       "    <tr>\n",
       "      <th>...</th>\n",
       "      <td>...</td>\n",
       "    </tr>\n",
       "    <tr>\n",
       "      <th>Henderson</th>\n",
       "      <td>1</td>\n",
       "    </tr>\n",
       "    <tr>\n",
       "      <th>Buellton</th>\n",
       "      <td>1</td>\n",
       "    </tr>\n",
       "    <tr>\n",
       "      <th>Dripping Springs</th>\n",
       "      <td>1</td>\n",
       "    </tr>\n",
       "    <tr>\n",
       "      <th>Gloucester</th>\n",
       "      <td>1</td>\n",
       "    </tr>\n",
       "    <tr>\n",
       "      <th>Garrattsville</th>\n",
       "      <td>1</td>\n",
       "    </tr>\n",
       "  </tbody>\n",
       "</table>\n",
       "<p>381 rows × 1 columns</p>\n",
       "</div>"
      ],
      "text/plain": [
       "                  개수\n",
       "Portland          17\n",
       "Chicago            9\n",
       "Seattle            9\n",
       "Boulder            9\n",
       "San Diego          8\n",
       "...               ..\n",
       "Henderson          1\n",
       "Buellton           1\n",
       "Dripping Springs   1\n",
       "Gloucester         1\n",
       "Garrattsville      1\n",
       "\n",
       "[381 rows x 1 columns]"
      ]
     },
     "execution_count": 172,
     "metadata": {},
     "output_type": "execute_result"
    }
   ],
   "source": [
    "cities_df = named_breweries_df['양조장 소재 도시'].value_counts().to_frame().rename(columns={'양조장 소재 도시': '개수'})\n",
    "cities_df"
   ]
  },
  {
   "cell_type": "code",
   "execution_count": 177,
   "id": "a85bdb62",
   "metadata": {
    "ExecuteTime": {
     "end_time": "2023-11-19T07:54:19.131023Z",
     "start_time": "2023-11-19T07:54:19.112307Z"
    }
   },
   "outputs": [
    {
     "data": {
      "text/html": [
       "<div>\n",
       "<style scoped>\n",
       "    .dataframe tbody tr th:only-of-type {\n",
       "        vertical-align: middle;\n",
       "    }\n",
       "\n",
       "    .dataframe tbody tr th {\n",
       "        vertical-align: top;\n",
       "    }\n",
       "\n",
       "    .dataframe thead th {\n",
       "        text-align: right;\n",
       "    }\n",
       "</style>\n",
       "<table border=\"1\" class=\"dataframe\">\n",
       "  <thead>\n",
       "    <tr style=\"text-align: right;\">\n",
       "      <th></th>\n",
       "      <th>도시 수</th>\n",
       "    </tr>\n",
       "    <tr>\n",
       "      <th>개수</th>\n",
       "      <th></th>\n",
       "    </tr>\n",
       "  </thead>\n",
       "  <tbody>\n",
       "    <tr>\n",
       "      <th>1</th>\n",
       "      <td>299</td>\n",
       "    </tr>\n",
       "    <tr>\n",
       "      <th>2</th>\n",
       "      <td>51</td>\n",
       "    </tr>\n",
       "    <tr>\n",
       "      <th>3</th>\n",
       "      <td>17</td>\n",
       "    </tr>\n",
       "    <tr>\n",
       "      <th>4</th>\n",
       "      <td>5</td>\n",
       "    </tr>\n",
       "    <tr>\n",
       "      <th>5</th>\n",
       "      <td>1</td>\n",
       "    </tr>\n",
       "    <tr>\n",
       "      <th>6</th>\n",
       "      <td>1</td>\n",
       "    </tr>\n",
       "    <tr>\n",
       "      <th>8</th>\n",
       "      <td>3</td>\n",
       "    </tr>\n",
       "    <tr>\n",
       "      <th>9</th>\n",
       "      <td>3</td>\n",
       "    </tr>\n",
       "    <tr>\n",
       "      <th>17</th>\n",
       "      <td>1</td>\n",
       "    </tr>\n",
       "  </tbody>\n",
       "</table>\n",
       "</div>"
      ],
      "text/plain": [
       "    도시 수\n",
       "개수      \n",
       "1    299\n",
       "2     51\n",
       "3     17\n",
       "4      5\n",
       "5      1\n",
       "6      1\n",
       "8      3\n",
       "9      3\n",
       "17     1"
      ]
     },
     "execution_count": 177,
     "metadata": {},
     "output_type": "execute_result"
    }
   ],
   "source": [
    "cities_df['개수'].value_counts().to_frame().reset_index().sort_values('index').rename(columns={\n",
    "    'index': '개수', '개수': '도시 수'\n",
    "}).set_index('개수')"
   ]
  },
  {
   "cell_type": "markdown",
   "id": "41399021",
   "metadata": {},
   "source": [
    "양조장이 1개 있는 도시가 299개나 있다. 양조장이 굉장히 다양하게 분포되어 있음을 파악할 수 있다."
   ]
  },
  {
   "cell_type": "markdown",
   "id": "11874263",
   "metadata": {},
   "source": [
    "#### 2-2-4. 컬럼별 분포 확인(양조장 소재 주)"
   ]
  },
  {
   "cell_type": "code",
   "execution_count": 194,
   "id": "6be4e89a",
   "metadata": {
    "ExecuteTime": {
     "end_time": "2023-11-19T08:15:33.419982Z",
     "start_time": "2023-11-19T08:15:33.394623Z"
    }
   },
   "outputs": [
    {
     "data": {
      "text/html": [
       "<div>\n",
       "<style scoped>\n",
       "    .dataframe tbody tr th:only-of-type {\n",
       "        vertical-align: middle;\n",
       "    }\n",
       "\n",
       "    .dataframe tbody tr th {\n",
       "        vertical-align: top;\n",
       "    }\n",
       "\n",
       "    .dataframe thead th {\n",
       "        text-align: right;\n",
       "    }\n",
       "</style>\n",
       "<table border=\"1\" class=\"dataframe\">\n",
       "  <thead>\n",
       "    <tr style=\"text-align: right;\">\n",
       "      <th></th>\n",
       "      <th>주</th>\n",
       "      <th>개수</th>\n",
       "    </tr>\n",
       "  </thead>\n",
       "  <tbody>\n",
       "    <tr>\n",
       "      <th>0</th>\n",
       "      <td>CO</td>\n",
       "      <td>46</td>\n",
       "    </tr>\n",
       "    <tr>\n",
       "      <th>1</th>\n",
       "      <td>CA</td>\n",
       "      <td>39</td>\n",
       "    </tr>\n",
       "    <tr>\n",
       "      <th>2</th>\n",
       "      <td>MI</td>\n",
       "      <td>32</td>\n",
       "    </tr>\n",
       "    <tr>\n",
       "      <th>3</th>\n",
       "      <td>OR</td>\n",
       "      <td>29</td>\n",
       "    </tr>\n",
       "    <tr>\n",
       "      <th>4</th>\n",
       "      <td>TX</td>\n",
       "      <td>28</td>\n",
       "    </tr>\n",
       "    <tr>\n",
       "      <th>5</th>\n",
       "      <td>PA</td>\n",
       "      <td>24</td>\n",
       "    </tr>\n",
       "    <tr>\n",
       "      <th>6</th>\n",
       "      <td>WA</td>\n",
       "      <td>23</td>\n",
       "    </tr>\n",
       "    <tr>\n",
       "      <th>7</th>\n",
       "      <td>MA</td>\n",
       "      <td>22</td>\n",
       "    </tr>\n",
       "    <tr>\n",
       "      <th>8</th>\n",
       "      <td>IN</td>\n",
       "      <td>22</td>\n",
       "    </tr>\n",
       "    <tr>\n",
       "      <th>9</th>\n",
       "      <td>NC</td>\n",
       "      <td>19</td>\n",
       "    </tr>\n",
       "    <tr>\n",
       "      <th>10</th>\n",
       "      <td>WI</td>\n",
       "      <td>19</td>\n",
       "    </tr>\n",
       "    <tr>\n",
       "      <th>11</th>\n",
       "      <td>IL</td>\n",
       "      <td>18</td>\n",
       "    </tr>\n",
       "    <tr>\n",
       "      <th>12</th>\n",
       "      <td>NY</td>\n",
       "      <td>16</td>\n",
       "    </tr>\n",
       "    <tr>\n",
       "      <th>13</th>\n",
       "      <td>OH</td>\n",
       "      <td>15</td>\n",
       "    </tr>\n",
       "    <tr>\n",
       "      <th>14</th>\n",
       "      <td>FL</td>\n",
       "      <td>15</td>\n",
       "    </tr>\n",
       "    <tr>\n",
       "      <th>15</th>\n",
       "      <td>VA</td>\n",
       "      <td>15</td>\n",
       "    </tr>\n",
       "    <tr>\n",
       "      <th>16</th>\n",
       "      <td>MN</td>\n",
       "      <td>11</td>\n",
       "    </tr>\n",
       "    <tr>\n",
       "      <th>17</th>\n",
       "      <td>AZ</td>\n",
       "      <td>11</td>\n",
       "    </tr>\n",
       "    <tr>\n",
       "      <th>18</th>\n",
       "      <td>ME</td>\n",
       "      <td>9</td>\n",
       "    </tr>\n",
       "    <tr>\n",
       "      <th>19</th>\n",
       "      <td>VT</td>\n",
       "      <td>9</td>\n",
       "    </tr>\n",
       "    <tr>\n",
       "      <th>20</th>\n",
       "      <td>MO</td>\n",
       "      <td>9</td>\n",
       "    </tr>\n",
       "    <tr>\n",
       "      <th>21</th>\n",
       "      <td>MT</td>\n",
       "      <td>9</td>\n",
       "    </tr>\n",
       "    <tr>\n",
       "      <th>22</th>\n",
       "      <td>CT</td>\n",
       "      <td>8</td>\n",
       "    </tr>\n",
       "    <tr>\n",
       "      <th>23</th>\n",
       "      <td>AK</td>\n",
       "      <td>7</td>\n",
       "    </tr>\n",
       "    <tr>\n",
       "      <th>24</th>\n",
       "      <td>GA</td>\n",
       "      <td>7</td>\n",
       "    </tr>\n",
       "    <tr>\n",
       "      <th>25</th>\n",
       "      <td>MD</td>\n",
       "      <td>7</td>\n",
       "    </tr>\n",
       "    <tr>\n",
       "      <th>26</th>\n",
       "      <td>OK</td>\n",
       "      <td>6</td>\n",
       "    </tr>\n",
       "    <tr>\n",
       "      <th>27</th>\n",
       "      <td>LA</td>\n",
       "      <td>5</td>\n",
       "    </tr>\n",
       "    <tr>\n",
       "      <th>28</th>\n",
       "      <td>NE</td>\n",
       "      <td>5</td>\n",
       "    </tr>\n",
       "    <tr>\n",
       "      <th>29</th>\n",
       "      <td>ID</td>\n",
       "      <td>5</td>\n",
       "    </tr>\n",
       "    <tr>\n",
       "      <th>30</th>\n",
       "      <td>IA</td>\n",
       "      <td>5</td>\n",
       "    </tr>\n",
       "    <tr>\n",
       "      <th>31</th>\n",
       "      <td>RI</td>\n",
       "      <td>5</td>\n",
       "    </tr>\n",
       "    <tr>\n",
       "      <th>32</th>\n",
       "      <td>NM</td>\n",
       "      <td>4</td>\n",
       "    </tr>\n",
       "    <tr>\n",
       "      <th>33</th>\n",
       "      <td>SC</td>\n",
       "      <td>4</td>\n",
       "    </tr>\n",
       "    <tr>\n",
       "      <th>34</th>\n",
       "      <td>KY</td>\n",
       "      <td>4</td>\n",
       "    </tr>\n",
       "    <tr>\n",
       "      <th>35</th>\n",
       "      <td>WY</td>\n",
       "      <td>4</td>\n",
       "    </tr>\n",
       "    <tr>\n",
       "      <th>36</th>\n",
       "      <td>HI</td>\n",
       "      <td>4</td>\n",
       "    </tr>\n",
       "    <tr>\n",
       "      <th>37</th>\n",
       "      <td>UT</td>\n",
       "      <td>4</td>\n",
       "    </tr>\n",
       "    <tr>\n",
       "      <th>38</th>\n",
       "      <td>AL</td>\n",
       "      <td>3</td>\n",
       "    </tr>\n",
       "    <tr>\n",
       "      <th>39</th>\n",
       "      <td>TN</td>\n",
       "      <td>3</td>\n",
       "    </tr>\n",
       "    <tr>\n",
       "      <th>40</th>\n",
       "      <td>NJ</td>\n",
       "      <td>3</td>\n",
       "    </tr>\n",
       "    <tr>\n",
       "      <th>41</th>\n",
       "      <td>KS</td>\n",
       "      <td>3</td>\n",
       "    </tr>\n",
       "    <tr>\n",
       "      <th>42</th>\n",
       "      <td>NH</td>\n",
       "      <td>3</td>\n",
       "    </tr>\n",
       "    <tr>\n",
       "      <th>43</th>\n",
       "      <td>NV</td>\n",
       "      <td>2</td>\n",
       "    </tr>\n",
       "    <tr>\n",
       "      <th>44</th>\n",
       "      <td>AR</td>\n",
       "      <td>2</td>\n",
       "    </tr>\n",
       "    <tr>\n",
       "      <th>45</th>\n",
       "      <td>MS</td>\n",
       "      <td>2</td>\n",
       "    </tr>\n",
       "    <tr>\n",
       "      <th>46</th>\n",
       "      <td>DE</td>\n",
       "      <td>2</td>\n",
       "    </tr>\n",
       "    <tr>\n",
       "      <th>47</th>\n",
       "      <td>SD</td>\n",
       "      <td>1</td>\n",
       "    </tr>\n",
       "    <tr>\n",
       "      <th>48</th>\n",
       "      <td>DC</td>\n",
       "      <td>1</td>\n",
       "    </tr>\n",
       "    <tr>\n",
       "      <th>49</th>\n",
       "      <td>WV</td>\n",
       "      <td>1</td>\n",
       "    </tr>\n",
       "    <tr>\n",
       "      <th>50</th>\n",
       "      <td>ND</td>\n",
       "      <td>1</td>\n",
       "    </tr>\n",
       "  </tbody>\n",
       "</table>\n",
       "</div>"
      ],
      "text/plain": [
       "      주  개수\n",
       "0    CO  46\n",
       "1    CA  39\n",
       "2    MI  32\n",
       "3    OR  29\n",
       "4    TX  28\n",
       "5    PA  24\n",
       "6    WA  23\n",
       "7    MA  22\n",
       "8    IN  22\n",
       "9    NC  19\n",
       "10   WI  19\n",
       "11   IL  18\n",
       "12   NY  16\n",
       "13   OH  15\n",
       "14   FL  15\n",
       "15   VA  15\n",
       "16   MN  11\n",
       "17   AZ  11\n",
       "18   ME   9\n",
       "19   VT   9\n",
       "20   MO   9\n",
       "21   MT   9\n",
       "22   CT   8\n",
       "23   AK   7\n",
       "24   GA   7\n",
       "25   MD   7\n",
       "26   OK   6\n",
       "27   LA   5\n",
       "28   NE   5\n",
       "29   ID   5\n",
       "30   IA   5\n",
       "31   RI   5\n",
       "32   NM   4\n",
       "33   SC   4\n",
       "34   KY   4\n",
       "35   WY   4\n",
       "36   HI   4\n",
       "37   UT   4\n",
       "38   AL   3\n",
       "39   TN   3\n",
       "40   NJ   3\n",
       "41   KS   3\n",
       "42   NH   3\n",
       "43   NV   2\n",
       "44   AR   2\n",
       "45   MS   2\n",
       "46   DE   2\n",
       "47   SD   1\n",
       "48   DC   1\n",
       "49   WV   1\n",
       "50   ND   1"
      ]
     },
     "execution_count": 194,
     "metadata": {},
     "output_type": "execute_result"
    }
   ],
   "source": [
    "states_df = named_breweries_df['양조장 소재 주'].value_counts().to_frame().reset_index().rename(columns={\n",
    "    '양조장 소재 주': '개수', 'index': '주'\n",
    "})\n",
    "states_df"
   ]
  },
  {
   "cell_type": "markdown",
   "id": "a1b844d0",
   "metadata": {},
   "source": [
    "아 예... 그렇군요"
   ]
  },
  {
   "cell_type": "markdown",
   "id": "fa999076",
   "metadata": {},
   "source": [
    "## 3. 데이터 분석"
   ]
  },
  {
   "cell_type": "markdown",
   "id": "8388d73e",
   "metadata": {},
   "source": [
    "추후 진행할 만한 분석 내용 브레인스토밍\n",
    "- **(맥주 회사 제품 기획팀의 입장)** 우리 회사는 미국 수제 맥주 시장에 신규 진입하려고 하는 상황이다. 미국 시장에서 성공하려면 제품을 어떻게 기획하고, 포지셔닝을 어떻게 잡아야 할까?\n",
    "    - 알코올 도수와 쓴 정도 사이에는 유의미한 상관관계가 있을까?\n",
    "    - 미국에서 가장 많이 생산되는 맥주 스타일은 무엇일까? → 해당 스타일의 특징 및 인기 비결은 무엇일까? (=많이 생산되는 스타일이 유리할까?)\n",
    "- **(미국 주 행정당국 입장)** 우리 지역은 미국 내에서 상대적으로 주류 산업이 활성화되지 않은 지역이다. 주류 산업의 활성화를 위해 수제 맥주 산업을 촉진시키고 싶다. 소규모 양조장의 창업을 돕는 정책이 유효할 것이라고 판단했기에, 양조장의 입지 선정을 지원하기 위한 분석을 진행하고자 한다.\n",
    "    - 많이 생산되는 지역은 그 이유가 무엇일까? → 어떤 장점을 본받아야 할까?\n",
    "    - 적게 생산되는 지역의 이유는 무엇일까? → 어떤 단점을 보완해야 할까?\n",
    "- **(이우진 입장)** 그냥 궁금하다.\n",
    "    - 내가 좋아하는 맥주 스타일은 뭘까? → 내가 좋아하는 유형을 사람들도 좋아할까? (=시장 점유율이 높을까?)"
   ]
  },
  {
   "cell_type": "markdown",
   "id": "3d5ce7bb",
   "metadata": {},
   "source": [
    "## 4. 결과 해석 및 후기"
   ]
  }
 ],
 "metadata": {
  "kernelspec": {
   "display_name": "Python 3 (ipykernel)",
   "language": "python",
   "name": "python3"
  },
  "language_info": {
   "codemirror_mode": {
    "name": "ipython",
    "version": 3
   },
   "file_extension": ".py",
   "mimetype": "text/x-python",
   "name": "python",
   "nbconvert_exporter": "python",
   "pygments_lexer": "ipython3",
   "version": "3.9.16"
  },
  "toc": {
   "base_numbering": 1,
   "nav_menu": {},
   "number_sections": false,
   "sideBar": true,
   "skip_h1_title": false,
   "title_cell": "Table of Contents",
   "title_sidebar": "Contents",
   "toc_cell": false,
   "toc_position": {},
   "toc_section_display": true,
   "toc_window_display": false
  }
 },
 "nbformat": 4,
 "nbformat_minor": 5
}
