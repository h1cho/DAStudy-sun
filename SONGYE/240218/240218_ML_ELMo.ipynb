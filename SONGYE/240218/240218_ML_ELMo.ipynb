{
 "cells": [
  {
   "cell_type": "code",
   "execution_count": null,
   "metadata": {},
   "outputs": [],
   "source": [
    "import tensorflow_hub as hub\n",
    "import tensorflow as tf\n",
    "\n",
    "# ELMo 모델 로드\n",
    "elmo = hub.load(\"https://tfhub.dev/google/elmo/3\")\n",
    "\n",
    "# 입력 문장\n",
    "input_text = [\"Hello, how are you?\", \"What is the weather today?\"]\n",
    "\n",
    "# 문장을 ELMo 임베딩으로 변환\n",
    "embeddings = elmo(input_text, signature=\"default\", as_dict=True)[\"elmo\"]\n",
    "\n",
    "# TensorFlow 세션 시작\n",
    "with tf.compat.v1.Session() as sess:\n",
    "    # 임베딩 계산\n",
    "    sess.run(tf.compat.v1.global_variables_initializer())\n",
    "    sess.run(tf.compat.v1.tables_initializer())\n",
    "    embedded_sequences = sess.run(embeddings)\n",
    "\n",
    "# 임베딩 결과 출력\n",
    "print(embedded_sequences.shape)  # (2, max_length, embedding_dim)\n"
   ]
  }
 ],
 "metadata": {
  "language_info": {
   "name": "python"
  }
 },
 "nbformat": 4,
 "nbformat_minor": 2
}
