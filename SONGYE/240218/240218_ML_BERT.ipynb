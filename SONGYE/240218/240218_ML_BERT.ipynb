{
 "cells": [
  {
   "cell_type": "code",
   "execution_count": null,
   "metadata": {},
   "outputs": [],
   "source": [
    "from transformers import BertTokenizer, BertModel\n",
    "import torch\n",
    "\n",
    "# BERT 토크나이저 및 모델 불러오기\n",
    "tokenizer = BertTokenizer.from_pretrained('bert-base-uncased')\n",
    "model = BertModel.from_pretrained('bert-base-uncased')\n",
    "\n",
    "# 입력 문장\n",
    "input_text = \"Hello, how are you?\"\n",
    "\n",
    "# 문장 토큰화 및 패딩\n",
    "tokens = tokenizer(input_text, padding=True, truncation=True, return_tensors='pt')\n",
    "\n",
    "# BERT 모델을 통해 임베딩 생성\n",
    "outputs = model(**tokens)\n",
    "\n",
    "# 임베딩 추출\n",
    "embedded_sequences = outputs.last_hidden_state\n"
   ]
  }
 ],
 "metadata": {
  "language_info": {
   "name": "python"
  }
 },
 "nbformat": 4,
 "nbformat_minor": 2
}
