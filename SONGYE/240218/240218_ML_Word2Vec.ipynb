{
 "cells": [
  {
   "cell_type": "code",
   "execution_count": 1,
   "metadata": {},
   "outputs": [],
   "source": [
    "import pandas as pd"
   ]
  },
  {
   "cell_type": "code",
   "execution_count": 2,
   "metadata": {},
   "outputs": [],
   "source": [
    "df= pd.read_csv(\"../dataset/240128_TripAdvisorHotelReviews/dataset_1K_removed_stopwords_ver.csv\")"
   ]
  },
  {
   "cell_type": "code",
   "execution_count": 5,
   "metadata": {},
   "outputs": [
    {
     "data": {
      "text/plain": [
       "\"['everyone', 'alby', 'made', 'reservation', 'deenny', 'greeted', 'every', 'morning', 'hailed', 'cabs', 'jennifer', 'front', 'desk', 'made', 'sure', 'stay', 'wonderful', 'already', 'rebooked', 'extended', 'stay', 'next', 'month', 'work', 'takes', 'back', 'thanks']\""
      ]
     },
     "execution_count": 5,
     "metadata": {},
     "output_type": "execute_result"
    }
   ],
   "source": [
    "df['tokens'][0]"
   ]
  },
  {
   "cell_type": "code",
   "execution_count": 16,
   "metadata": {},
   "outputs": [],
   "source": [
    "##!! 저장을 해도 어차피 다시 list로 변환을 해주어야 한다. \n",
    "\n",
    "import pandas as pd\n",
    "import ast\n",
    "\n",
    "# 문자열을 파싱하여 리스트로 변환하는 함수\n",
    "def parse_string_to_list(tokens_str):\n",
    "    return ast.literal_eval(tokens_str)\n",
    "\n",
    "# 모든 행에 대해 함수 적용\n",
    "df['tokens'] = df['tokens'].apply(parse_string_to_list)\n",
    "\n"
   ]
  },
  {
   "cell_type": "code",
   "execution_count": 17,
   "metadata": {},
   "outputs": [
    {
     "data": {
      "text/plain": [
       "list"
      ]
     },
     "execution_count": 17,
     "metadata": {},
     "output_type": "execute_result"
    }
   ],
   "source": [
    "type(df['tokens'][0])"
   ]
  },
  {
   "cell_type": "code",
   "execution_count": 18,
   "metadata": {},
   "outputs": [
    {
     "name": "stderr",
     "output_type": "stream",
     "text": [
      "2024-02-16 16:50:06.388507: I tensorflow/core/platform/cpu_feature_guard.cc:182] This TensorFlow binary is optimized to use available CPU instructions in performance-critical operations.\n",
      "To enable the following instructions: AVX2 FMA, in other operations, rebuild TensorFlow with the appropriate compiler flags.\n"
     ]
    }
   ],
   "source": [
    "from keras.preprocessing.text import Tokenizer\n",
    "from keras.preprocessing.sequence import pad_sequences\n",
    "\n",
    "# 예시 데이터 (refined_df['tokens']에 토큰이 이미 들어가 있다고 가정)\n",
    "# 토큰화된 데이터가 저장된 컬럼 이름이 'tokens'일 경우:\n",
    "tokenized_text = df['tokens']\n",
    "\n",
    "# 토크나이저 객체 생성\n",
    "tokenizer = Tokenizer()\n",
    "tokenizer.fit_on_texts(tokenized_text)\n",
    "\n",
    "# 토큰들을 시퀀스로 변환\n",
    "sequences = tokenizer.texts_to_sequences(tokenized_text)\n",
    "\n",
    "# 시퀀스 패딩\n",
    "max_sequence_length = 200  # 시퀀스의 최대 길이 (임의 설정)\n",
    "padded_sequences = pad_sequences(sequences, maxlen=max_sequence_length, padding='post', truncating='post')"
   ]
  },
  {
   "cell_type": "code",
   "execution_count": 8,
   "metadata": {},
   "outputs": [
    {
     "data": {
      "text/plain": [
       "200"
      ]
     },
     "execution_count": 8,
     "metadata": {},
     "output_type": "execute_result"
    }
   ],
   "source": [
    "len(padded_sequences[0])"
   ]
  },
  {
   "cell_type": "code",
   "execution_count": 19,
   "metadata": {},
   "outputs": [],
   "source": [
    "sentences = df['tokens']"
   ]
  },
  {
   "cell_type": "code",
   "execution_count": 20,
   "metadata": {},
   "outputs": [
    {
     "data": {
      "text/plain": [
       "['everyone',\n",
       " 'alby',\n",
       " 'made',\n",
       " 'reservation',\n",
       " 'deenny',\n",
       " 'greeted',\n",
       " 'every',\n",
       " 'morning',\n",
       " 'hailed',\n",
       " 'cabs',\n",
       " 'jennifer',\n",
       " 'front',\n",
       " 'desk',\n",
       " 'made',\n",
       " 'sure',\n",
       " 'stay',\n",
       " 'wonderful',\n",
       " 'already',\n",
       " 'rebooked',\n",
       " 'extended',\n",
       " 'stay',\n",
       " 'next',\n",
       " 'month',\n",
       " 'work',\n",
       " 'takes',\n",
       " 'back',\n",
       " 'thanks']"
      ]
     },
     "execution_count": 20,
     "metadata": {},
     "output_type": "execute_result"
    }
   ],
   "source": [
    "sentences[0]"
   ]
  },
  {
   "cell_type": "code",
   "execution_count": 21,
   "metadata": {},
   "outputs": [],
   "source": [
    "from gensim.models import Word2Vec\n",
    "\n",
    "# 토큰화된 문장으로 Word2Vec 모델 학습\n",
    "model = Word2Vec(sentences, vector_size=300, window=5, min_count=1, workers=4)\n"
   ]
  },
  {
   "cell_type": "code",
   "execution_count": 22,
   "metadata": {},
   "outputs": [],
   "source": [
    "# 단어 임베딩\n",
    "embedding_dim = 300\n",
    "embedded_sequences = [[model.wv[word] for word in sequence] for sequence in sentences]"
   ]
  },
  {
   "cell_type": "code",
   "execution_count": 34,
   "metadata": {},
   "outputs": [
    {
     "name": "stdout",
     "output_type": "stream",
     "text": [
      "<class 'numpy.ndarray'>\n",
      "[-2.27506249e-03 -1.43191323e-01  4.71233130e-01  3.45108062e-01\n",
      "  2.04571024e-01 -1.63900316e-01 -9.73402709e-02  7.67093956e-01\n",
      "  5.66698432e-01  6.94274232e-02 -7.17939734e-02 -1.43689126e-01\n",
      " -3.36179525e-01  6.65461481e-01 -3.28025967e-01 -4.64671493e-01\n",
      "  2.42835134e-01 -2.75199831e-01  9.51434001e-02 -1.73462525e-01\n",
      " -1.82299227e-01 -9.82957259e-02  4.15712833e-01 -2.18232602e-01\n",
      "  7.18213320e-02  4.49402511e-01 -6.60594940e-01  4.56836849e-01\n",
      " -3.86141658e-01 -2.12032683e-02 -8.51802975e-02  6.75134838e-01\n",
      "  6.68359995e-02  1.51967201e-02 -6.79864168e-01 -8.58689845e-02\n",
      " -1.94605693e-01 -2.04200059e-01  3.47510964e-01 -6.41800687e-02\n",
      " -2.36679480e-04 -1.78667784e-01  1.01720020e-01 -5.44405937e-01\n",
      " -2.73129910e-01 -1.38759896e-01  2.42875010e-01 -1.56210944e-01\n",
      "  2.91986810e-03  4.04177189e-01  6.79537132e-02  1.40970368e-02\n",
      "  2.34983694e-02 -2.71483213e-01  3.88604581e-01 -5.67896813e-02\n",
      " -1.87130615e-01  2.36883879e-01  3.28505844e-01 -2.37209320e-01\n",
      " -4.71776277e-01 -4.56368387e-01  2.26099923e-01 -3.38068873e-01\n",
      " -2.38825276e-01  1.41688153e-01  3.54392320e-01 -3.44449997e-01\n",
      " -6.64624333e-01 -1.25360608e-01 -1.07240185e-01 -2.83657759e-01\n",
      "  1.25102282e-01 -5.44535041e-01 -2.36306995e-01  2.07302049e-01\n",
      "  7.09972978e-02 -9.08723474e-02 -5.83192825e-01 -3.73094022e-01\n",
      " -1.52126983e-01 -3.06569308e-01 -1.01725511e-01  6.99629903e-01\n",
      "  1.13647953e-01 -1.13206729e-01 -3.00488640e-02 -6.77450597e-01\n",
      "  3.03259671e-01  1.20528944e-01  2.96250999e-01 -3.22124302e-01\n",
      "  2.34823555e-01 -2.47476369e-01  1.55491635e-01  4.20468926e-01\n",
      "  1.50369480e-01  2.30538860e-01  1.41422853e-01  5.74244618e-01\n",
      " -1.08250678e-01  1.35154575e-01  6.16088472e-02  2.44598016e-01\n",
      " -2.03478962e-01 -2.73371935e-01 -3.22237462e-01 -3.02472681e-01\n",
      " -2.84192562e-01 -1.22481234e-01 -1.28762674e+00  7.09601223e-01\n",
      " -4.94375020e-01  5.76376975e-01  6.43864274e-01  5.66462994e-01\n",
      "  2.06476092e-01  3.34618360e-01  6.18383765e-01 -8.33109915e-01\n",
      " -5.57915531e-02  2.63673902e-01  2.96078086e-01  3.72509331e-01\n",
      " -2.82679707e-01  4.14528757e-01 -3.15660715e-01 -7.27042735e-01\n",
      "  7.28423847e-03  5.37399352e-01  3.54815781e-01  8.73048127e-01\n",
      "  6.17873549e-01 -6.87169492e-01  4.13165480e-01  8.73456001e-02\n",
      " -6.98191056e-04  4.83658254e-01 -6.30822599e-01 -5.68491638e-01\n",
      " -5.31242013e-01  1.65381897e-02 -1.71155587e-01  2.61968642e-01\n",
      " -1.91228360e-01 -2.26079613e-01 -3.51896554e-01 -5.00956714e-01\n",
      "  2.18755826e-01  6.06088698e-01 -2.60042638e-01 -4.75073844e-01\n",
      " -3.86572897e-01  1.16448123e-02 -1.74704894e-01  2.31234118e-01\n",
      " -5.40580392e-01 -5.39273143e-01 -3.26291531e-01  4.62190330e-01\n",
      "  2.42888108e-01  2.01654822e-01 -4.66370016e-01  2.08405450e-01\n",
      "  1.23376630e-01 -1.98051661e-01 -1.01446323e-01 -1.20889898e-02\n",
      "  1.92995861e-01  6.94194555e-01  6.61638319e-01  1.02335550e-01\n",
      " -3.64641935e-01  1.82553172e-01  4.14827436e-01 -4.30729508e-01\n",
      " -1.04801744e-01  2.84590483e-01  2.12546229e-01 -1.40425205e-01\n",
      " -1.51261732e-01  3.01493436e-01  2.78628230e-01  6.63293153e-02\n",
      " -2.00844467e-01  1.64328158e-01  1.00241601e+00  9.35890496e-01\n",
      "  5.34716666e-01 -5.73500276e-01  4.34133828e-01  1.10829651e-01\n",
      " -2.33332828e-01 -8.68577436e-02 -2.41945595e-01 -2.46782646e-01\n",
      "  2.33516060e-02  6.24959124e-03  1.86202511e-01  2.89200515e-01\n",
      "  4.43968534e-01  1.06636859e-01  6.87988326e-02 -4.11064118e-01\n",
      "  2.88857549e-01 -3.61704230e-01  2.74855584e-01  2.53270596e-01\n",
      " -3.08706071e-02 -3.94217633e-02  1.60132930e-01 -7.01104403e-01\n",
      " -5.10104716e-01 -4.56857026e-01 -3.85959357e-01 -5.57626598e-02\n",
      " -3.20207447e-01 -9.28110600e-01 -2.13779509e-01 -8.11046541e-01\n",
      "  1.93549946e-01  1.28503546e-01 -8.57204497e-02  1.97689921e-01\n",
      "  1.82159886e-01 -9.08464193e-02  2.31539294e-01 -3.26312304e-01\n",
      " -4.93952215e-01 -1.02966800e-01 -5.46751261e-01 -8.65691379e-02\n",
      " -4.51274365e-01  1.51858494e-01 -8.43893886e-02  2.64021847e-02\n",
      " -3.81600440e-01  6.47263765e-01  2.71762937e-01 -5.26949354e-02\n",
      "  5.21827877e-01 -1.17691964e-01  1.32613689e-01  6.03917129e-02\n",
      "  5.50035536e-01  2.43659690e-03 -1.16624571e-01  6.83988929e-01\n",
      "  8.40463489e-02  5.66092193e-01 -4.93809618e-02  4.03177917e-01\n",
      "  2.41523042e-01 -6.15105629e-01 -1.70598388e-01 -3.91193300e-01\n",
      "  7.97604680e-01  8.26970994e-01 -3.53083223e-01  4.15270418e-01\n",
      "  2.43542805e-01 -6.71209991e-01  3.65718991e-01 -1.25458896e-01\n",
      "  7.61078596e-02  3.69410776e-02  5.80604732e-01  2.53462851e-01\n",
      "  8.31752364e-03 -2.35453218e-01 -3.86245996e-01 -5.83539367e-01\n",
      "  4.60386395e-01 -1.80869792e-02 -2.57034332e-01  2.93521255e-01\n",
      "  6.25751615e-01  3.57913226e-01 -6.57565594e-02  3.16239327e-01\n",
      "  3.66027616e-02  5.35207152e-01  9.03428048e-02 -1.45874964e-02\n",
      " -1.38179079e-01 -2.12218106e-01  1.11070774e-01  1.35215178e-01\n",
      "  4.09021258e-01  7.45584011e-01  6.27097189e-01  2.80762315e-01\n",
      "  2.36679390e-01  4.37202066e-01  1.61370561e-02  2.22486407e-02\n",
      "  2.36124575e-01  2.12062538e-01 -8.41135234e-02 -1.08654546e-02]\n"
     ]
    }
   ],
   "source": [
    "print(type(embedded_sequences[0][0]))\n",
    "print(embedded_sequences[0][0])\n"
   ]
  },
  {
   "cell_type": "code",
   "execution_count": 35,
   "metadata": {},
   "outputs": [],
   "source": [
    "# 패딩 처리\n",
    "padded_sequences = pad_sequences(embedded_sequences, padding='post', maxlen=200)"
   ]
  },
  {
   "cell_type": "code",
   "execution_count": 40,
   "metadata": {},
   "outputs": [
    {
     "data": {
      "text/plain": [
       "300"
      ]
     },
     "execution_count": 40,
     "metadata": {},
     "output_type": "execute_result"
    }
   ],
   "source": [
    "len(padded_sequences[0][0])\n",
    "\n",
    "#총 10000개의 데이터가 있고\n",
    "#각 데이터는 200을 max length로 해서 맞춰 놓음. \n",
    "#그리고 각 단어별로는 300을 embedding 차원으로 정함. "
   ]
  },
  {
   "cell_type": "code",
   "execution_count": 41,
   "metadata": {},
   "outputs": [
    {
     "data": {
      "text/plain": [
       "'high'"
      ]
     },
     "execution_count": 41,
     "metadata": {},
     "output_type": "execute_result"
    }
   ],
   "source": [
    "labels = df['ratings']\n",
    "labels[0]"
   ]
  },
  {
   "cell_type": "code",
   "execution_count": 42,
   "metadata": {},
   "outputs": [
    {
     "name": "stdout",
     "output_type": "stream",
     "text": [
      "Modified labels: [1 1 1 ... 0 0 0]\n"
     ]
    }
   ],
   "source": [
    "import numpy as np\n",
    "\n",
    "# labels 배열\n",
    "labels = np.array(labels)\n",
    "\n",
    "# 값을 숫자로 변환하는 코드\n",
    "labels = np.array([1 if value == 'high' else 0 for value in labels])\n",
    "\n",
    "print(\"Modified labels:\", labels)\n"
   ]
  },
  {
   "cell_type": "code",
   "execution_count": 47,
   "metadata": {},
   "outputs": [],
   "source": [
    "import numpy as np\n",
    "\n",
    "# 넘파이 배열로 변환\n",
    "embedded_sequences = np.array(padded_sequences)\n",
    "labels = np.array(labels)\n"
   ]
  },
  {
   "cell_type": "code",
   "execution_count": 48,
   "metadata": {},
   "outputs": [],
   "source": [
    "from sklearn.model_selection import train_test_split\n",
    "\n",
    "# PyTorch DataLoader로 사용할 데이터셋 클래스를 정의하고 데이터를 생성하는 작업이 필요\n",
    "\n",
    "# 예시: X는 embedded_sequence, y는 refined_df['ratings']\n",
    "X_train, X_temp, y_train, y_temp = train_test_split(embedded_sequences, labels, test_size=0.3, random_state=42)\n",
    "X_val, X_test, y_val, y_test = train_test_split(X_temp, y_temp, test_size=0.5, random_state=42)"
   ]
  },
  {
   "cell_type": "code",
   "execution_count": 49,
   "metadata": {},
   "outputs": [
    {
     "data": {
      "text/plain": [
       "numpy.ndarray"
      ]
     },
     "execution_count": 49,
     "metadata": {},
     "output_type": "execute_result"
    }
   ],
   "source": [
    "type(X_train)"
   ]
  },
  {
   "cell_type": "code",
   "execution_count": 50,
   "metadata": {},
   "outputs": [
    {
     "name": "stdout",
     "output_type": "stream",
     "text": [
      "Train data shapes: (7000, 200, 300) (7000,)\n",
      "Validation data shapes: (1500, 200, 300) (1500,)\n",
      "Test data shapes: (1500, 200, 300) (1500,)\n"
     ]
    }
   ],
   "source": [
    "# 결과 확인\n",
    "print(\"Train data shapes:\", X_train.shape, y_train.shape)\n",
    "print(\"Validation data shapes:\", X_val.shape, y_val.shape)\n",
    "print(\"Test data shapes:\", X_test.shape, y_test.shape)"
   ]
  },
  {
   "cell_type": "code",
   "execution_count": 51,
   "metadata": {},
   "outputs": [],
   "source": [
    "from sklearn.linear_model import LogisticRegression\n",
    "from sklearn.metrics import accuracy_score\n",
    "\n",
    "# 데이터셋을 플랫하게 펼침\n",
    "X_train_flat = X_train.reshape(X_train.shape[0], -1)\n",
    "X_val_flat = X_val.reshape(X_val.shape[0], -1)\n",
    "X_test_flat = X_val.reshape(X_val.shape[0], -1)\n"
   ]
  },
  {
   "cell_type": "code",
   "execution_count": 53,
   "metadata": {},
   "outputs": [
    {
     "data": {
      "text/plain": [
       "(7000, 60000)"
      ]
     },
     "execution_count": 53,
     "metadata": {},
     "output_type": "execute_result"
    }
   ],
   "source": [
    "X_train_flat.shape"
   ]
  },
  {
   "cell_type": "code",
   "execution_count": 54,
   "metadata": {},
   "outputs": [
    {
     "name": "stderr",
     "output_type": "stream",
     "text": [
      "/Users/songye/opt/anaconda3/envs/aiffel2/lib/python3.11/site-packages/sklearn/linear_model/_logistic.py:460: ConvergenceWarning: lbfgs failed to converge (status=1):\n",
      "STOP: TOTAL NO. of ITERATIONS REACHED LIMIT.\n",
      "\n",
      "Increase the number of iterations (max_iter) or scale the data as shown in:\n",
      "    https://scikit-learn.org/stable/modules/preprocessing.html\n",
      "Please also refer to the documentation for alternative solver options:\n",
      "    https://scikit-learn.org/stable/modules/linear_model.html#logistic-regression\n",
      "  n_iter_i = _check_optimize_result(\n"
     ]
    },
    {
     "data": {
      "text/html": [
       "<style>#sk-container-id-1 {color: black;}#sk-container-id-1 pre{padding: 0;}#sk-container-id-1 div.sk-toggleable {background-color: white;}#sk-container-id-1 label.sk-toggleable__label {cursor: pointer;display: block;width: 100%;margin-bottom: 0;padding: 0.3em;box-sizing: border-box;text-align: center;}#sk-container-id-1 label.sk-toggleable__label-arrow:before {content: \"▸\";float: left;margin-right: 0.25em;color: #696969;}#sk-container-id-1 label.sk-toggleable__label-arrow:hover:before {color: black;}#sk-container-id-1 div.sk-estimator:hover label.sk-toggleable__label-arrow:before {color: black;}#sk-container-id-1 div.sk-toggleable__content {max-height: 0;max-width: 0;overflow: hidden;text-align: left;background-color: #f0f8ff;}#sk-container-id-1 div.sk-toggleable__content pre {margin: 0.2em;color: black;border-radius: 0.25em;background-color: #f0f8ff;}#sk-container-id-1 input.sk-toggleable__control:checked~div.sk-toggleable__content {max-height: 200px;max-width: 100%;overflow: auto;}#sk-container-id-1 input.sk-toggleable__control:checked~label.sk-toggleable__label-arrow:before {content: \"▾\";}#sk-container-id-1 div.sk-estimator input.sk-toggleable__control:checked~label.sk-toggleable__label {background-color: #d4ebff;}#sk-container-id-1 div.sk-label input.sk-toggleable__control:checked~label.sk-toggleable__label {background-color: #d4ebff;}#sk-container-id-1 input.sk-hidden--visually {border: 0;clip: rect(1px 1px 1px 1px);clip: rect(1px, 1px, 1px, 1px);height: 1px;margin: -1px;overflow: hidden;padding: 0;position: absolute;width: 1px;}#sk-container-id-1 div.sk-estimator {font-family: monospace;background-color: #f0f8ff;border: 1px dotted black;border-radius: 0.25em;box-sizing: border-box;margin-bottom: 0.5em;}#sk-container-id-1 div.sk-estimator:hover {background-color: #d4ebff;}#sk-container-id-1 div.sk-parallel-item::after {content: \"\";width: 100%;border-bottom: 1px solid gray;flex-grow: 1;}#sk-container-id-1 div.sk-label:hover label.sk-toggleable__label {background-color: #d4ebff;}#sk-container-id-1 div.sk-serial::before {content: \"\";position: absolute;border-left: 1px solid gray;box-sizing: border-box;top: 0;bottom: 0;left: 50%;z-index: 0;}#sk-container-id-1 div.sk-serial {display: flex;flex-direction: column;align-items: center;background-color: white;padding-right: 0.2em;padding-left: 0.2em;position: relative;}#sk-container-id-1 div.sk-item {position: relative;z-index: 1;}#sk-container-id-1 div.sk-parallel {display: flex;align-items: stretch;justify-content: center;background-color: white;position: relative;}#sk-container-id-1 div.sk-item::before, #sk-container-id-1 div.sk-parallel-item::before {content: \"\";position: absolute;border-left: 1px solid gray;box-sizing: border-box;top: 0;bottom: 0;left: 50%;z-index: -1;}#sk-container-id-1 div.sk-parallel-item {display: flex;flex-direction: column;z-index: 1;position: relative;background-color: white;}#sk-container-id-1 div.sk-parallel-item:first-child::after {align-self: flex-end;width: 50%;}#sk-container-id-1 div.sk-parallel-item:last-child::after {align-self: flex-start;width: 50%;}#sk-container-id-1 div.sk-parallel-item:only-child::after {width: 0;}#sk-container-id-1 div.sk-dashed-wrapped {border: 1px dashed gray;margin: 0 0.4em 0.5em 0.4em;box-sizing: border-box;padding-bottom: 0.4em;background-color: white;}#sk-container-id-1 div.sk-label label {font-family: monospace;font-weight: bold;display: inline-block;line-height: 1.2em;}#sk-container-id-1 div.sk-label-container {text-align: center;}#sk-container-id-1 div.sk-container {/* jupyter's `normalize.less` sets `[hidden] { display: none; }` but bootstrap.min.css set `[hidden] { display: none !important; }` so we also need the `!important` here to be able to override the default hidden behavior on the sphinx rendered scikit-learn.org. See: https://github.com/scikit-learn/scikit-learn/issues/21755 */display: inline-block !important;position: relative;}#sk-container-id-1 div.sk-text-repr-fallback {display: none;}</style><div id=\"sk-container-id-1\" class=\"sk-top-container\"><div class=\"sk-text-repr-fallback\"><pre>LogisticRegression()</pre><b>In a Jupyter environment, please rerun this cell to show the HTML representation or trust the notebook. <br />On GitHub, the HTML representation is unable to render, please try loading this page with nbviewer.org.</b></div><div class=\"sk-container\" hidden><div class=\"sk-item\"><div class=\"sk-estimator sk-toggleable\"><input class=\"sk-toggleable__control sk-hidden--visually\" id=\"sk-estimator-id-1\" type=\"checkbox\" checked><label for=\"sk-estimator-id-1\" class=\"sk-toggleable__label sk-toggleable__label-arrow\">LogisticRegression</label><div class=\"sk-toggleable__content\"><pre>LogisticRegression()</pre></div></div></div></div></div>"
      ],
      "text/plain": [
       "LogisticRegression()"
      ]
     },
     "execution_count": 54,
     "metadata": {},
     "output_type": "execute_result"
    }
   ],
   "source": [
    "\n",
    "from sklearn.linear_model import LogisticRegression\n",
    "from sklearn.metrics import accuracy_score\n",
    "\n",
    "\n",
    "# 모델 초기화\n",
    "model = LogisticRegression()\n",
    "\n",
    "# 모델 학습\n",
    "model.fit(X_train_flat, y_train)"
   ]
  },
  {
   "cell_type": "code",
   "execution_count": 55,
   "metadata": {},
   "outputs": [
    {
     "name": "stdout",
     "output_type": "stream",
     "text": [
      "Validation Accuracy: 0.7013333333333334\n"
     ]
    }
   ],
   "source": [
    "# 예측\n",
    "y_pred = model.predict(X_val_flat)\n",
    "\n",
    "# 정확도 평가\n",
    "accuracy = accuracy_score(y_val, y_pred)\n",
    "print(f\"Validation Accuracy: {accuracy}\")"
   ]
  }
 ],
 "metadata": {
  "kernelspec": {
   "display_name": "Python 3",
   "language": "python",
   "name": "python3"
  },
  "language_info": {
   "codemirror_mode": {
    "name": "ipython",
    "version": 3
   },
   "file_extension": ".py",
   "mimetype": "text/x-python",
   "name": "python",
   "nbconvert_exporter": "python",
   "pygments_lexer": "ipython3",
   "version": "3.11.5"
  }
 },
 "nbformat": 4,
 "nbformat_minor": 2
}
