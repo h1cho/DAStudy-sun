{
 "cells": [
  {
   "cell_type": "code",
   "execution_count": 1,
   "metadata": {},
   "outputs": [],
   "source": [
    "import pandas as pd"
   ]
  },
  {
   "cell_type": "code",
   "execution_count": 2,
   "metadata": {},
   "outputs": [],
   "source": [
    "df= pd.read_csv(\"../dataset/240128_TripAdvisorHotelReviews/dataset_removed_stopwords_ver.csv\")"
   ]
  },
  {
   "cell_type": "code",
   "execution_count": 3,
   "metadata": {},
   "outputs": [
    {
     "name": "stderr",
     "output_type": "stream",
     "text": [
      "2024-02-07 06:59:22.412887: I tensorflow/core/platform/cpu_feature_guard.cc:182] This TensorFlow binary is optimized to use available CPU instructions in performance-critical operations.\n",
      "To enable the following instructions: AVX2 FMA, in other operations, rebuild TensorFlow with the appropriate compiler flags.\n"
     ]
    }
   ],
   "source": [
    "from keras.preprocessing.text import Tokenizer\n",
    "from keras.preprocessing.sequence import pad_sequences\n",
    "\n",
    "# 예시 데이터 (refined_df['tokens']에 토큰이 이미 들어가 있다고 가정)\n",
    "# 토큰화된 데이터가 저장된 컬럼 이름이 'tokens'일 경우:\n",
    "tokenized_text = df['tokens']\n",
    "\n",
    "# 토크나이저 객체 생성\n",
    "tokenizer = Tokenizer()\n",
    "tokenizer.fit_on_texts(tokenized_text)\n",
    "\n",
    "# 토큰들을 시퀀스로 변환\n",
    "sequences = tokenizer.texts_to_sequences(tokenized_text)\n",
    "\n",
    "# 시퀀스 패딩\n",
    "max_sequence_length = 200  # 시퀀스의 최대 길이 (임의 설정)\n",
    "padded_sequences = pad_sequences(sequences, maxlen=max_sequence_length, padding='post', truncating='post')"
   ]
  },
  {
   "cell_type": "code",
   "execution_count": 5,
   "metadata": {},
   "outputs": [
    {
     "data": {
      "text/plain": [
       "\"['everyone', 'alby', 'made', 'reservation', 'deenny', 'greeted', 'every', 'morning', 'hailed', 'cabs', 'jennifer', 'front', 'desk', 'made', 'sure', 'stay', 'wonderful', 'already', 'rebooked', 'extended', 'stay', 'next', 'month', 'work', 'takes', 'back', 'thanks']\""
      ]
     },
     "execution_count": 5,
     "metadata": {},
     "output_type": "execute_result"
    }
   ],
   "source": [
    "sentences = df['tokens']"
   ]
  },
  {
   "cell_type": "code",
   "execution_count": null,
   "metadata": {},
   "outputs": [],
   "source": [
    "sentences = [\n",
    "    ['I', 'love', 'machine', 'learning'],\n",
    "    ['Natural', 'language', 'processing', 'is', 'fascinating'],\n",
    "    ['Word', 'embeddings', 'capture', 'semantic', 'meaning'],\n",
    "    # Add more sentences as needed\n",
    "]"
   ]
  },
  {
   "cell_type": "code",
   "execution_count": null,
   "metadata": {},
   "outputs": [],
   "source": [
    "from gensim.models import Word2Vec\n",
    "\n",
    "# 토큰화된 문장으로 Word2Vec 모델 학습\n",
    "model = Word2Vec(sentences, vector_size=300, window=5, min_count=1, workers=4)\n",
    "\n",
    "# 단어 임베딩\n",
    "embedding_dim = 100\n",
    "embedded_sequences = [[model.wv[word] for word in sequence] for sequence in tokenized_sentences]\n"
   ]
  }
 ],
 "metadata": {
  "kernelspec": {
   "display_name": "Python 3",
   "language": "python",
   "name": "python3"
  },
  "language_info": {
   "codemirror_mode": {
    "name": "ipython",
    "version": 3
   },
   "file_extension": ".py",
   "mimetype": "text/x-python",
   "name": "python",
   "nbconvert_exporter": "python",
   "pygments_lexer": "ipython3",
   "version": "3.11.5"
  }
 },
 "nbformat": 4,
 "nbformat_minor": 2
}
