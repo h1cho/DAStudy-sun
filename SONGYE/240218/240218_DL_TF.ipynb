{
 "cells": [
  {
   "cell_type": "markdown",
   "metadata": {},
   "source": [
    "#### 참고자료 : https://www.tensorflow.org/tutorials/keras/text_classification?hl=ko\n",
    "\n",
    "간단히 말해서, tf.keras.layers.TextVectorization은 단어 수준의 임베딩을 생성하는 반면에 BERT와 ELMo는 문맥을 고려하여 단어를 임베딩합니다. 따라서 문맥을 고려해야 하는 자연어 처리 작업에는 BERT나 ELMo를 사용하는 것이 더 적합할 수 있습니다."
   ]
  }
 ],
 "metadata": {
  "language_info": {
   "name": "python"
  }
 },
 "nbformat": 4,
 "nbformat_minor": 2
}
