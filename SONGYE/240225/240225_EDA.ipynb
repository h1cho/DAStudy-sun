{
 "cells": [
  {
   "cell_type": "markdown",
   "metadata": {},
   "source": [
    "##### 데이터셋 링크 : https://www.kaggle.com/competitions/playground-series-s4e2/data\n",
    "- 참고자료 : https://www.kaggle.com/code/christina0626/feature-engineering-model-combined\n",
    "- 참고자료 : https://www.kaggle.com/code/thomasmeiner/ps4e2-eda-feature-engineering-modelling\n"
   ]
  },
  {
   "cell_type": "markdown",
   "metadata": {},
   "source": [
    "# 1.Load Data"
   ]
  },
  {
   "cell_type": "code",
   "execution_count": 2,
   "metadata": {},
   "outputs": [],
   "source": [
    "import pandas as pd\n",
    "import numpy as np"
   ]
  },
  {
   "cell_type": "code",
   "execution_count": 3,
   "metadata": {},
   "outputs": [],
   "source": [
    "df = pd.read_csv(\"../dataset/240225_Multi-Class Prediction of Obesity Risk/train.csv\")"
   ]
  },
  {
   "cell_type": "code",
   "execution_count": 4,
   "metadata": {},
   "outputs": [
    {
     "name": "stdout",
     "output_type": "stream",
     "text": [
      "<class 'pandas.core.frame.DataFrame'>\n",
      "RangeIndex: 20758 entries, 0 to 20757\n",
      "Data columns (total 18 columns):\n",
      " #   Column                          Non-Null Count  Dtype  \n",
      "---  ------                          --------------  -----  \n",
      " 0   id                              20758 non-null  int64  \n",
      " 1   Gender                          20758 non-null  object \n",
      " 2   Age                             20758 non-null  float64\n",
      " 3   Height                          20758 non-null  float64\n",
      " 4   Weight                          20758 non-null  float64\n",
      " 5   family_history_with_overweight  20758 non-null  object \n",
      " 6   FAVC                            20758 non-null  object \n",
      " 7   FCVC                            20758 non-null  float64\n",
      " 8   NCP                             20758 non-null  float64\n",
      " 9   CAEC                            20758 non-null  object \n",
      " 10  SMOKE                           20758 non-null  object \n",
      " 11  CH2O                            20758 non-null  float64\n",
      " 12  SCC                             20758 non-null  object \n",
      " 13  FAF                             20758 non-null  float64\n",
      " 14  TUE                             20758 non-null  float64\n",
      " 15  CALC                            20758 non-null  object \n",
      " 16  MTRANS                          20758 non-null  object \n",
      " 17  NObeyesdad                      20758 non-null  object \n",
      "dtypes: float64(8), int64(1), object(9)\n",
      "memory usage: 2.9+ MB\n"
     ]
    }
   ],
   "source": [
    "df.info()"
   ]
  },
  {
   "cell_type": "code",
   "execution_count": 5,
   "metadata": {},
   "outputs": [
    {
     "name": "stdout",
     "output_type": "stream",
     "text": [
      "id                                0\n",
      "Gender                            0\n",
      "Age                               0\n",
      "Height                            0\n",
      "Weight                            0\n",
      "family_history_with_overweight    0\n",
      "FAVC                              0\n",
      "FCVC                              0\n",
      "NCP                               0\n",
      "CAEC                              0\n",
      "SMOKE                             0\n",
      "CH2O                              0\n",
      "SCC                               0\n",
      "FAF                               0\n",
      "TUE                               0\n",
      "CALC                              0\n",
      "MTRANS                            0\n",
      "NObeyesdad                        0\n",
      "dtype: int64\n"
     ]
    }
   ],
   "source": [
    "null_counts = df.isnull().sum()\n",
    "print(null_counts)"
   ]
  },
  {
   "cell_type": "code",
   "execution_count": 6,
   "metadata": {},
   "outputs": [
    {
     "data": {
      "text/html": [
       "<div>\n",
       "<style scoped>\n",
       "    .dataframe tbody tr th:only-of-type {\n",
       "        vertical-align: middle;\n",
       "    }\n",
       "\n",
       "    .dataframe tbody tr th {\n",
       "        vertical-align: top;\n",
       "    }\n",
       "\n",
       "    .dataframe thead th {\n",
       "        text-align: right;\n",
       "    }\n",
       "</style>\n",
       "<table border=\"1\" class=\"dataframe\">\n",
       "  <thead>\n",
       "    <tr style=\"text-align: right;\">\n",
       "      <th></th>\n",
       "      <th>id</th>\n",
       "      <th>Age</th>\n",
       "      <th>Height</th>\n",
       "      <th>Weight</th>\n",
       "      <th>FCVC</th>\n",
       "      <th>NCP</th>\n",
       "      <th>CH2O</th>\n",
       "      <th>FAF</th>\n",
       "      <th>TUE</th>\n",
       "    </tr>\n",
       "  </thead>\n",
       "  <tbody>\n",
       "    <tr>\n",
       "      <th>count</th>\n",
       "      <td>20758.00000</td>\n",
       "      <td>20758.000000</td>\n",
       "      <td>20758.000000</td>\n",
       "      <td>20758.000000</td>\n",
       "      <td>20758.000000</td>\n",
       "      <td>20758.000000</td>\n",
       "      <td>20758.000000</td>\n",
       "      <td>20758.000000</td>\n",
       "      <td>20758.000000</td>\n",
       "    </tr>\n",
       "    <tr>\n",
       "      <th>mean</th>\n",
       "      <td>10378.50000</td>\n",
       "      <td>23.841804</td>\n",
       "      <td>1.700245</td>\n",
       "      <td>87.887768</td>\n",
       "      <td>2.445908</td>\n",
       "      <td>2.761332</td>\n",
       "      <td>2.029418</td>\n",
       "      <td>0.981747</td>\n",
       "      <td>0.616756</td>\n",
       "    </tr>\n",
       "    <tr>\n",
       "      <th>std</th>\n",
       "      <td>5992.46278</td>\n",
       "      <td>5.688072</td>\n",
       "      <td>0.087312</td>\n",
       "      <td>26.379443</td>\n",
       "      <td>0.533218</td>\n",
       "      <td>0.705375</td>\n",
       "      <td>0.608467</td>\n",
       "      <td>0.838302</td>\n",
       "      <td>0.602113</td>\n",
       "    </tr>\n",
       "    <tr>\n",
       "      <th>min</th>\n",
       "      <td>0.00000</td>\n",
       "      <td>14.000000</td>\n",
       "      <td>1.450000</td>\n",
       "      <td>39.000000</td>\n",
       "      <td>1.000000</td>\n",
       "      <td>1.000000</td>\n",
       "      <td>1.000000</td>\n",
       "      <td>0.000000</td>\n",
       "      <td>0.000000</td>\n",
       "    </tr>\n",
       "    <tr>\n",
       "      <th>25%</th>\n",
       "      <td>5189.25000</td>\n",
       "      <td>20.000000</td>\n",
       "      <td>1.631856</td>\n",
       "      <td>66.000000</td>\n",
       "      <td>2.000000</td>\n",
       "      <td>3.000000</td>\n",
       "      <td>1.792022</td>\n",
       "      <td>0.008013</td>\n",
       "      <td>0.000000</td>\n",
       "    </tr>\n",
       "    <tr>\n",
       "      <th>50%</th>\n",
       "      <td>10378.50000</td>\n",
       "      <td>22.815416</td>\n",
       "      <td>1.700000</td>\n",
       "      <td>84.064875</td>\n",
       "      <td>2.393837</td>\n",
       "      <td>3.000000</td>\n",
       "      <td>2.000000</td>\n",
       "      <td>1.000000</td>\n",
       "      <td>0.573887</td>\n",
       "    </tr>\n",
       "    <tr>\n",
       "      <th>75%</th>\n",
       "      <td>15567.75000</td>\n",
       "      <td>26.000000</td>\n",
       "      <td>1.762887</td>\n",
       "      <td>111.600553</td>\n",
       "      <td>3.000000</td>\n",
       "      <td>3.000000</td>\n",
       "      <td>2.549617</td>\n",
       "      <td>1.587406</td>\n",
       "      <td>1.000000</td>\n",
       "    </tr>\n",
       "    <tr>\n",
       "      <th>max</th>\n",
       "      <td>20757.00000</td>\n",
       "      <td>61.000000</td>\n",
       "      <td>1.975663</td>\n",
       "      <td>165.057269</td>\n",
       "      <td>3.000000</td>\n",
       "      <td>4.000000</td>\n",
       "      <td>3.000000</td>\n",
       "      <td>3.000000</td>\n",
       "      <td>2.000000</td>\n",
       "    </tr>\n",
       "  </tbody>\n",
       "</table>\n",
       "</div>"
      ],
      "text/plain": [
       "                id           Age        Height        Weight          FCVC  \\\n",
       "count  20758.00000  20758.000000  20758.000000  20758.000000  20758.000000   \n",
       "mean   10378.50000     23.841804      1.700245     87.887768      2.445908   \n",
       "std     5992.46278      5.688072      0.087312     26.379443      0.533218   \n",
       "min        0.00000     14.000000      1.450000     39.000000      1.000000   \n",
       "25%     5189.25000     20.000000      1.631856     66.000000      2.000000   \n",
       "50%    10378.50000     22.815416      1.700000     84.064875      2.393837   \n",
       "75%    15567.75000     26.000000      1.762887    111.600553      3.000000   \n",
       "max    20757.00000     61.000000      1.975663    165.057269      3.000000   \n",
       "\n",
       "                NCP          CH2O           FAF           TUE  \n",
       "count  20758.000000  20758.000000  20758.000000  20758.000000  \n",
       "mean       2.761332      2.029418      0.981747      0.616756  \n",
       "std        0.705375      0.608467      0.838302      0.602113  \n",
       "min        1.000000      1.000000      0.000000      0.000000  \n",
       "25%        3.000000      1.792022      0.008013      0.000000  \n",
       "50%        3.000000      2.000000      1.000000      0.573887  \n",
       "75%        3.000000      2.549617      1.587406      1.000000  \n",
       "max        4.000000      3.000000      3.000000      2.000000  "
      ]
     },
     "execution_count": 6,
     "metadata": {},
     "output_type": "execute_result"
    }
   ],
   "source": [
    "df.describe()"
   ]
  },
  {
   "cell_type": "code",
   "execution_count": 69,
   "metadata": {},
   "outputs": [],
   "source": [
    "import warnings\n",
    "\n",
    "# 경고 메시지를 무시하도록 설정\n",
    "warnings.filterwarnings(\"ignore\")\n",
    "\n",
    "# 코드 실행\n",
    "# 이후에 발생하는 경고 메시지들은 출력되지 않습니다."
   ]
  },
  {
   "cell_type": "code",
   "execution_count": 70,
   "metadata": {},
   "outputs": [
    {
     "data": {
      "text/plain": [
       "array([[<Axes: title={'center': 'id'}>, <Axes: title={'center': 'Age'}>,\n",
       "        <Axes: title={'center': 'Height'}>],\n",
       "       [<Axes: title={'center': 'Weight'}>,\n",
       "        <Axes: title={'center': 'FCVC'}>,\n",
       "        <Axes: title={'center': 'NCP'}>],\n",
       "       [<Axes: title={'center': 'CH2O'}>,\n",
       "        <Axes: title={'center': 'FAF'}>, <Axes: title={'center': 'TUE'}>],\n",
       "       [<Axes: title={'center': 'BMI'}>, <Axes: >, <Axes: >]],\n",
       "      dtype=object)"
      ]
     },
     "execution_count": 70,
     "metadata": {},
     "output_type": "execute_result"
    },
    {
     "name": "stderr",
     "output_type": "stream",
     "text": [
      "findfont: Font family 'NanumSquareOTFRegular' not found.\n",
      "findfont: Font family 'Malgun Gothic' not found.\n",
      "findfont: Font family 'NanumSquareOTFRegular' not found.\n",
      "findfont: Font family 'Malgun Gothic' not found.\n",
      "findfont: Font family 'NanumSquareOTFRegular' not found.\n",
      "findfont: Font family 'Malgun Gothic' not found.\n",
      "findfont: Font family 'NanumSquareOTFRegular' not found.\n",
      "findfont: Font family 'Malgun Gothic' not found.\n",
      "findfont: Font family 'NanumSquareOTFRegular' not found.\n",
      "findfont: Font family 'Malgun Gothic' not found.\n",
      "findfont: Font family 'NanumSquareOTFRegular' not found.\n",
      "findfont: Font family 'Malgun Gothic' not found.\n",
      "findfont: Font family 'NanumSquareOTFRegular' not found.\n",
      "findfont: Font family 'Malgun Gothic' not found.\n",
      "findfont: Font family 'NanumSquareOTFRegular' not found.\n",
      "findfont: Font family 'Malgun Gothic' not found.\n",
      "findfont: Font family 'NanumSquareOTFRegular' not found.\n",
      "findfont: Font family 'Malgun Gothic' not found.\n",
      "findfont: Font family 'NanumSquareOTFRegular' not found.\n",
      "findfont: Font family 'Malgun Gothic' not found.\n",
      "findfont: Font family 'NanumSquareOTFRegular' not found.\n",
      "findfont: Font family 'Malgun Gothic' not found.\n",
      "findfont: Font family 'NanumSquareOTFRegular' not found.\n",
      "findfont: Font family 'Malgun Gothic' not found.\n",
      "findfont: Font family 'NanumSquareOTFRegular' not found.\n",
      "findfont: Font family 'Malgun Gothic' not found.\n",
      "findfont: Font family 'NanumSquareOTFRegular' not found.\n",
      "findfont: Font family 'Malgun Gothic' not found.\n",
      "findfont: Font family 'NanumSquareOTFRegular' not found.\n",
      "findfont: Font family 'Malgun Gothic' not found.\n",
      "findfont: Font family 'NanumSquareOTFRegular' not found.\n",
      "findfont: Font family 'Malgun Gothic' not found.\n",
      "findfont: Font family 'NanumSquareOTFRegular' not found.\n",
      "findfont: Font family 'Malgun Gothic' not found.\n",
      "findfont: Font family 'NanumSquareOTFRegular' not found.\n",
      "findfont: Font family 'Malgun Gothic' not found.\n",
      "findfont: Font family 'NanumSquareOTFRegular' not found.\n",
      "findfont: Font family 'Malgun Gothic' not found.\n",
      "findfont: Font family 'NanumSquareOTFRegular' not found.\n",
      "findfont: Font family 'Malgun Gothic' not found.\n",
      "findfont: Font family 'NanumSquareOTFRegular' not found.\n",
      "findfont: Font family 'Malgun Gothic' not found.\n",
      "findfont: Font family 'NanumSquareOTFRegular' not found.\n",
      "findfont: Font family 'Malgun Gothic' not found.\n",
      "findfont: Font family 'NanumSquareOTFRegular' not found.\n",
      "findfont: Font family 'Malgun Gothic' not found.\n",
      "findfont: Font family 'NanumSquareOTFRegular' not found.\n",
      "findfont: Font family 'Malgun Gothic' not found.\n",
      "findfont: Font family 'NanumSquareOTFRegular' not found.\n",
      "findfont: Font family 'Malgun Gothic' not found.\n",
      "findfont: Font family 'NanumSquareOTFRegular' not found.\n",
      "findfont: Font family 'Malgun Gothic' not found.\n",
      "findfont: Font family 'NanumSquareOTFRegular' not found.\n",
      "findfont: Font family 'Malgun Gothic' not found.\n",
      "findfont: Font family 'NanumSquareOTFRegular' not found.\n",
      "findfont: Font family 'Malgun Gothic' not found.\n",
      "findfont: Font family 'NanumSquareOTFRegular' not found.\n",
      "findfont: Font family 'Malgun Gothic' not found.\n",
      "findfont: Font family 'NanumSquareOTFRegular' not found.\n",
      "findfont: Font family 'Malgun Gothic' not found.\n",
      "findfont: Font family 'NanumSquareOTFRegular' not found.\n",
      "findfont: Font family 'Malgun Gothic' not found.\n",
      "findfont: Font family 'NanumSquareOTFRegular' not found.\n",
      "findfont: Font family 'Malgun Gothic' not found.\n",
      "findfont: Font family 'NanumSquareOTFRegular' not found.\n",
      "findfont: Font family 'Malgun Gothic' not found.\n",
      "findfont: Font family 'NanumSquareOTFRegular' not found.\n",
      "findfont: Font family 'Malgun Gothic' not found.\n",
      "findfont: Font family 'NanumSquareOTFRegular' not found.\n",
      "findfont: Font family 'Malgun Gothic' not found.\n",
      "findfont: Font family 'NanumSquareOTFRegular' not found.\n",
      "findfont: Font family 'Malgun Gothic' not found.\n",
      "findfont: Font family 'NanumSquareOTFRegular' not found.\n",
      "findfont: Font family 'Malgun Gothic' not found.\n",
      "findfont: Font family 'NanumSquareOTFRegular' not found.\n",
      "findfont: Font family 'Malgun Gothic' not found.\n",
      "findfont: Font family 'NanumSquareOTFRegular' not found.\n",
      "findfont: Font family 'Malgun Gothic' not found.\n",
      "findfont: Font family 'NanumSquareOTFRegular' not found.\n",
      "findfont: Font family 'Malgun Gothic' not found.\n",
      "findfont: Font family 'NanumSquareOTFRegular' not found.\n",
      "findfont: Font family 'Malgun Gothic' not found.\n",
      "findfont: Font family 'NanumSquareOTFRegular' not found.\n",
      "findfont: Font family 'Malgun Gothic' not found.\n",
      "findfont: Font family 'NanumSquareOTFRegular' not found.\n",
      "findfont: Font family 'Malgun Gothic' not found.\n",
      "findfont: Font family 'NanumSquareOTFRegular' not found.\n",
      "findfont: Font family 'Malgun Gothic' not found.\n",
      "findfont: Font family 'NanumSquareOTFRegular' not found.\n",
      "findfont: Font family 'Malgun Gothic' not found.\n",
      "findfont: Font family 'NanumSquareOTFRegular' not found.\n",
      "findfont: Font family 'Malgun Gothic' not found.\n",
      "findfont: Font family 'NanumSquareOTFRegular' not found.\n",
      "findfont: Font family 'Malgun Gothic' not found.\n",
      "findfont: Font family 'NanumSquareOTFRegular' not found.\n",
      "findfont: Font family 'Malgun Gothic' not found.\n",
      "findfont: Font family 'NanumSquareOTFRegular' not found.\n",
      "findfont: Font family 'Malgun Gothic' not found.\n",
      "findfont: Font family 'NanumSquareOTFRegular' not found.\n",
      "findfont: Font family 'Malgun Gothic' not found.\n",
      "findfont: Font family 'NanumSquareOTFRegular' not found.\n",
      "findfont: Font family 'Malgun Gothic' not found.\n",
      "findfont: Font family 'NanumSquareOTFRegular' not found.\n",
      "findfont: Font family 'Malgun Gothic' not found.\n",
      "findfont: Font family 'NanumSquareOTFRegular' not found.\n",
      "findfont: Font family 'Malgun Gothic' not found.\n",
      "findfont: Font family 'NanumSquareOTFRegular' not found.\n",
      "findfont: Font family 'Malgun Gothic' not found.\n",
      "findfont: Font family 'NanumSquareOTFRegular' not found.\n",
      "findfont: Font family 'Malgun Gothic' not found.\n",
      "findfont: Font family 'NanumSquareOTFRegular' not found.\n",
      "findfont: Font family 'Malgun Gothic' not found.\n",
      "findfont: Font family 'NanumSquareOTFRegular' not found.\n",
      "findfont: Font family 'Malgun Gothic' not found.\n",
      "findfont: Font family 'NanumSquareOTFRegular' not found.\n",
      "findfont: Font family 'Malgun Gothic' not found.\n",
      "findfont: Font family 'NanumSquareOTFRegular' not found.\n",
      "findfont: Font family 'Malgun Gothic' not found.\n",
      "findfont: Font family 'NanumSquareOTFRegular' not found.\n",
      "findfont: Font family 'Malgun Gothic' not found.\n",
      "findfont: Font family 'NanumSquareOTFRegular' not found.\n",
      "findfont: Font family 'Malgun Gothic' not found.\n",
      "findfont: Font family 'NanumSquareOTFRegular' not found.\n",
      "findfont: Font family 'Malgun Gothic' not found.\n",
      "findfont: Font family 'NanumSquareOTFRegular' not found.\n",
      "findfont: Font family 'Malgun Gothic' not found.\n",
      "findfont: Font family 'NanumSquareOTFRegular' not found.\n",
      "findfont: Font family 'Malgun Gothic' not found.\n",
      "findfont: Font family 'NanumSquareOTFRegular' not found.\n",
      "findfont: Font family 'Malgun Gothic' not found.\n",
      "findfont: Font family 'NanumSquareOTFRegular' not found.\n",
      "findfont: Font family 'Malgun Gothic' not found.\n",
      "findfont: Font family 'NanumSquareOTFRegular' not found.\n",
      "findfont: Font family 'Malgun Gothic' not found.\n",
      "findfont: Font family 'NanumSquareOTFRegular' not found.\n",
      "findfont: Font family 'Malgun Gothic' not found.\n",
      "findfont: Font family 'NanumSquareOTFRegular' not found.\n",
      "findfont: Font family 'Malgun Gothic' not found.\n",
      "findfont: Font family 'NanumSquareOTFRegular' not found.\n",
      "findfont: Font family 'Malgun Gothic' not found.\n",
      "findfont: Font family 'NanumSquareOTFRegular' not found.\n",
      "findfont: Font family 'Malgun Gothic' not found.\n",
      "findfont: Font family 'NanumSquareOTFRegular' not found.\n",
      "findfont: Font family 'Malgun Gothic' not found.\n",
      "findfont: Font family 'NanumSquareOTFRegular' not found.\n",
      "findfont: Font family 'Malgun Gothic' not found.\n",
      "findfont: Font family 'NanumSquareOTFRegular' not found.\n",
      "findfont: Font family 'Malgun Gothic' not found.\n",
      "findfont: Font family 'NanumSquareOTFRegular' not found.\n",
      "findfont: Font family 'Malgun Gothic' not found.\n",
      "findfont: Font family 'NanumSquareOTFRegular' not found.\n",
      "findfont: Font family 'Malgun Gothic' not found.\n",
      "findfont: Font family 'NanumSquareOTFRegular' not found.\n",
      "findfont: Font family 'Malgun Gothic' not found.\n",
      "findfont: Font family 'NanumSquareOTFRegular' not found.\n",
      "findfont: Font family 'Malgun Gothic' not found.\n",
      "findfont: Font family 'NanumSquareOTFRegular' not found.\n",
      "findfont: Font family 'Malgun Gothic' not found.\n",
      "findfont: Font family 'NanumSquareOTFRegular' not found.\n",
      "findfont: Font family 'Malgun Gothic' not found.\n",
      "findfont: Font family 'NanumSquareOTFRegular' not found.\n",
      "findfont: Font family 'Malgun Gothic' not found.\n",
      "findfont: Font family 'NanumSquareOTFRegular' not found.\n",
      "findfont: Font family 'Malgun Gothic' not found.\n",
      "findfont: Font family 'NanumSquareOTFRegular' not found.\n",
      "findfont: Font family 'Malgun Gothic' not found.\n",
      "findfont: Font family 'NanumSquareOTFRegular' not found.\n",
      "findfont: Font family 'Malgun Gothic' not found.\n",
      "findfont: Font family 'NanumSquareOTFRegular' not found.\n",
      "findfont: Font family 'Malgun Gothic' not found.\n",
      "findfont: Font family 'NanumSquareOTFRegular' not found.\n",
      "findfont: Font family 'Malgun Gothic' not found.\n",
      "findfont: Font family 'NanumSquareOTFRegular' not found.\n",
      "findfont: Font family 'Malgun Gothic' not found.\n",
      "findfont: Font family 'NanumSquareOTFRegular' not found.\n",
      "findfont: Font family 'Malgun Gothic' not found.\n",
      "findfont: Font family 'NanumSquareOTFRegular' not found.\n",
      "findfont: Font family 'Malgun Gothic' not found.\n",
      "findfont: Font family 'NanumSquareOTFRegular' not found.\n",
      "findfont: Font family 'Malgun Gothic' not found.\n",
      "findfont: Font family 'NanumSquareOTFRegular' not found.\n",
      "findfont: Font family 'Malgun Gothic' not found.\n",
      "findfont: Font family 'NanumSquareOTFRegular' not found.\n",
      "findfont: Font family 'Malgun Gothic' not found.\n",
      "findfont: Font family 'NanumSquareOTFRegular' not found.\n",
      "findfont: Font family 'Malgun Gothic' not found.\n",
      "findfont: Font family 'NanumSquareOTFRegular' not found.\n",
      "findfont: Font family 'Malgun Gothic' not found.\n",
      "findfont: Font family 'NanumSquareOTFRegular' not found.\n",
      "findfont: Font family 'Malgun Gothic' not found.\n",
      "findfont: Font family 'NanumSquareOTFRegular' not found.\n",
      "findfont: Font family 'Malgun Gothic' not found.\n",
      "findfont: Font family 'NanumSquareOTFRegular' not found.\n",
      "findfont: Font family 'Malgun Gothic' not found.\n",
      "findfont: Font family 'NanumSquareOTFRegular' not found.\n",
      "findfont: Font family 'Malgun Gothic' not found.\n",
      "findfont: Font family 'NanumSquareOTFRegular' not found.\n",
      "findfont: Font family 'Malgun Gothic' not found.\n",
      "findfont: Font family 'NanumSquareOTFRegular' not found.\n",
      "findfont: Font family 'Malgun Gothic' not found.\n",
      "findfont: Font family 'NanumSquareOTFRegular' not found.\n",
      "findfont: Font family 'Malgun Gothic' not found.\n",
      "findfont: Font family 'NanumSquareOTFRegular' not found.\n",
      "findfont: Font family 'Malgun Gothic' not found.\n",
      "findfont: Font family 'NanumSquareOTFRegular' not found.\n",
      "findfont: Font family 'Malgun Gothic' not found.\n",
      "findfont: Font family 'NanumSquareOTFRegular' not found.\n",
      "findfont: Font family 'Malgun Gothic' not found.\n",
      "findfont: Font family 'NanumSquareOTFRegular' not found.\n",
      "findfont: Font family 'Malgun Gothic' not found.\n",
      "findfont: Font family 'NanumSquareOTFRegular' not found.\n",
      "findfont: Font family 'Malgun Gothic' not found.\n",
      "findfont: Font family 'NanumSquareOTFRegular' not found.\n",
      "findfont: Font family 'Malgun Gothic' not found.\n",
      "findfont: Font family 'NanumSquareOTFRegular' not found.\n",
      "findfont: Font family 'Malgun Gothic' not found.\n",
      "findfont: Font family 'NanumSquareOTFRegular' not found.\n",
      "findfont: Font family 'Malgun Gothic' not found.\n",
      "findfont: Font family 'NanumSquareOTFRegular' not found.\n",
      "findfont: Font family 'Malgun Gothic' not found.\n",
      "findfont: Font family 'NanumSquareOTFRegular' not found.\n",
      "findfont: Font family 'Malgun Gothic' not found.\n",
      "findfont: Font family 'NanumSquareOTFRegular' not found.\n",
      "findfont: Font family 'Malgun Gothic' not found.\n",
      "findfont: Font family 'NanumSquareOTFRegular' not found.\n",
      "findfont: Font family 'Malgun Gothic' not found.\n",
      "findfont: Font family 'NanumSquareOTFRegular' not found.\n",
      "findfont: Font family 'Malgun Gothic' not found.\n",
      "findfont: Font family 'NanumSquareOTFRegular' not found.\n",
      "findfont: Font family 'Malgun Gothic' not found.\n",
      "findfont: Font family 'NanumSquareOTFRegular' not found.\n",
      "findfont: Font family 'Malgun Gothic' not found.\n",
      "findfont: Font family 'NanumSquareOTFRegular' not found.\n",
      "findfont: Font family 'Malgun Gothic' not found.\n",
      "findfont: Font family 'NanumSquareOTFRegular' not found.\n",
      "findfont: Font family 'Malgun Gothic' not found.\n",
      "findfont: Font family 'NanumSquareOTFRegular' not found.\n",
      "findfont: Font family 'Malgun Gothic' not found.\n",
      "findfont: Font family 'NanumSquareOTFRegular' not found.\n",
      "findfont: Font family 'Malgun Gothic' not found.\n",
      "findfont: Font family 'NanumSquareOTFRegular' not found.\n",
      "findfont: Font family 'Malgun Gothic' not found.\n",
      "findfont: Font family 'NanumSquareOTFRegular' not found.\n",
      "findfont: Font family 'Malgun Gothic' not found.\n",
      "findfont: Font family 'NanumSquareOTFRegular' not found.\n",
      "findfont: Font family 'Malgun Gothic' not found.\n",
      "findfont: Font family 'NanumSquareOTFRegular' not found.\n",
      "findfont: Font family 'Malgun Gothic' not found.\n",
      "findfont: Font family 'NanumSquareOTFRegular' not found.\n",
      "findfont: Font family 'Malgun Gothic' not found.\n",
      "findfont: Font family 'NanumSquareOTFRegular' not found.\n",
      "findfont: Font family 'Malgun Gothic' not found.\n",
      "findfont: Font family 'NanumSquareOTFRegular' not found.\n",
      "findfont: Font family 'Malgun Gothic' not found.\n",
      "findfont: Font family 'NanumSquareOTFRegular' not found.\n",
      "findfont: Font family 'Malgun Gothic' not found.\n",
      "findfont: Font family 'NanumSquareOTFRegular' not found.\n",
      "findfont: Font family 'Malgun Gothic' not found.\n",
      "findfont: Font family 'NanumSquareOTFRegular' not found.\n",
      "findfont: Font family 'Malgun Gothic' not found.\n",
      "findfont: Font family 'NanumSquareOTFRegular' not found.\n",
      "findfont: Font family 'Malgun Gothic' not found.\n",
      "findfont: Font family 'NanumSquareOTFRegular' not found.\n",
      "findfont: Font family 'Malgun Gothic' not found.\n",
      "findfont: Font family 'NanumSquareOTFRegular' not found.\n",
      "findfont: Font family 'Malgun Gothic' not found.\n",
      "findfont: Font family 'NanumSquareOTFRegular' not found.\n",
      "findfont: Font family 'Malgun Gothic' not found.\n",
      "findfont: Font family 'NanumSquareOTFRegular' not found.\n",
      "findfont: Font family 'Malgun Gothic' not found.\n",
      "findfont: Font family 'NanumSquareOTFRegular' not found.\n",
      "findfont: Font family 'Malgun Gothic' not found.\n",
      "findfont: Font family 'NanumSquareOTFRegular' not found.\n",
      "findfont: Font family 'Malgun Gothic' not found.\n",
      "findfont: Font family 'NanumSquareOTFRegular' not found.\n",
      "findfont: Font family 'Malgun Gothic' not found.\n",
      "findfont: Font family 'NanumSquareOTFRegular' not found.\n",
      "findfont: Font family 'Malgun Gothic' not found.\n",
      "findfont: Font family 'NanumSquareOTFRegular' not found.\n",
      "findfont: Font family 'Malgun Gothic' not found.\n",
      "findfont: Font family 'NanumSquareOTFRegular' not found.\n",
      "findfont: Font family 'Malgun Gothic' not found.\n",
      "findfont: Font family 'NanumSquareOTFRegular' not found.\n",
      "findfont: Font family 'Malgun Gothic' not found.\n",
      "findfont: Font family 'NanumSquareOTFRegular' not found.\n",
      "findfont: Font family 'Malgun Gothic' not found.\n",
      "findfont: Font family 'NanumSquareOTFRegular' not found.\n",
      "findfont: Font family 'Malgun Gothic' not found.\n",
      "findfont: Font family 'NanumSquareOTFRegular' not found.\n",
      "findfont: Font family 'Malgun Gothic' not found.\n",
      "findfont: Font family 'NanumSquareOTFRegular' not found.\n",
      "findfont: Font family 'Malgun Gothic' not found.\n",
      "findfont: Font family 'NanumSquareOTFRegular' not found.\n",
      "findfont: Font family 'Malgun Gothic' not found.\n",
      "findfont: Font family 'NanumSquareOTFRegular' not found.\n",
      "findfont: Font family 'Malgun Gothic' not found.\n",
      "findfont: Font family 'NanumSquareOTFRegular' not found.\n",
      "findfont: Font family 'Malgun Gothic' not found.\n",
      "findfont: Font family 'NanumSquareOTFRegular' not found.\n",
      "findfont: Font family 'Malgun Gothic' not found.\n",
      "findfont: Font family 'NanumSquareOTFRegular' not found.\n",
      "findfont: Font family 'Malgun Gothic' not found.\n",
      "findfont: Font family 'NanumSquareOTFRegular' not found.\n",
      "findfont: Font family 'Malgun Gothic' not found.\n",
      "findfont: Font family 'NanumSquareOTFRegular' not found.\n",
      "findfont: Font family 'Malgun Gothic' not found.\n",
      "findfont: Font family 'NanumSquareOTFRegular' not found.\n",
      "findfont: Font family 'Malgun Gothic' not found.\n",
      "findfont: Font family 'NanumSquareOTFRegular' not found.\n",
      "findfont: Font family 'Malgun Gothic' not found.\n",
      "findfont: Font family 'NanumSquareOTFRegular' not found.\n",
      "findfont: Font family 'Malgun Gothic' not found.\n",
      "findfont: Font family 'NanumSquareOTFRegular' not found.\n",
      "findfont: Font family 'Malgun Gothic' not found.\n",
      "findfont: Font family 'NanumSquareOTFRegular' not found.\n",
      "findfont: Font family 'Malgun Gothic' not found.\n",
      "findfont: Font family 'NanumSquareOTFRegular' not found.\n",
      "findfont: Font family 'Malgun Gothic' not found.\n",
      "findfont: Font family 'NanumSquareOTFRegular' not found.\n",
      "findfont: Font family 'Malgun Gothic' not found.\n",
      "findfont: Font family 'NanumSquareOTFRegular' not found.\n",
      "findfont: Font family 'Malgun Gothic' not found.\n",
      "findfont: Font family 'NanumSquareOTFRegular' not found.\n",
      "findfont: Font family 'Malgun Gothic' not found.\n",
      "findfont: Font family 'NanumSquareOTFRegular' not found.\n",
      "findfont: Font family 'Malgun Gothic' not found.\n",
      "findfont: Font family 'NanumSquareOTFRegular' not found.\n",
      "findfont: Font family 'Malgun Gothic' not found.\n",
      "findfont: Font family 'NanumSquareOTFRegular' not found.\n",
      "findfont: Font family 'Malgun Gothic' not found.\n",
      "findfont: Font family 'NanumSquareOTFRegular' not found.\n",
      "findfont: Font family 'Malgun Gothic' not found.\n",
      "findfont: Font family 'NanumSquareOTFRegular' not found.\n",
      "findfont: Font family 'Malgun Gothic' not found.\n",
      "findfont: Font family 'NanumSquareOTFRegular' not found.\n",
      "findfont: Font family 'Malgun Gothic' not found.\n",
      "findfont: Font family 'NanumSquareOTFRegular' not found.\n",
      "findfont: Font family 'Malgun Gothic' not found.\n",
      "findfont: Font family 'NanumSquareOTFRegular' not found.\n",
      "findfont: Font family 'Malgun Gothic' not found.\n",
      "findfont: Font family 'NanumSquareOTFRegular' not found.\n",
      "findfont: Font family 'Malgun Gothic' not found.\n",
      "findfont: Font family 'NanumSquareOTFRegular' not found.\n",
      "findfont: Font family 'Malgun Gothic' not found.\n",
      "findfont: Font family 'NanumSquareOTFRegular' not found.\n",
      "findfont: Font family 'Malgun Gothic' not found.\n",
      "findfont: Font family 'NanumSquareOTFRegular' not found.\n",
      "findfont: Font family 'Malgun Gothic' not found.\n",
      "findfont: Font family 'NanumSquareOTFRegular' not found.\n",
      "findfont: Font family 'Malgun Gothic' not found.\n",
      "findfont: Font family 'NanumSquareOTFRegular' not found.\n",
      "findfont: Font family 'Malgun Gothic' not found.\n",
      "findfont: Font family 'NanumSquareOTFRegular' not found.\n",
      "findfont: Font family 'Malgun Gothic' not found.\n",
      "findfont: Font family 'NanumSquareOTFRegular' not found.\n",
      "findfont: Font family 'Malgun Gothic' not found.\n",
      "findfont: Font family 'NanumSquareOTFRegular' not found.\n",
      "findfont: Font family 'Malgun Gothic' not found.\n",
      "findfont: Font family 'NanumSquareOTFRegular' not found.\n",
      "findfont: Font family 'Malgun Gothic' not found.\n",
      "findfont: Font family 'NanumSquareOTFRegular' not found.\n",
      "findfont: Font family 'Malgun Gothic' not found.\n",
      "findfont: Font family 'NanumSquareOTFRegular' not found.\n",
      "findfont: Font family 'Malgun Gothic' not found.\n",
      "findfont: Font family 'NanumSquareOTFRegular' not found.\n",
      "findfont: Font family 'Malgun Gothic' not found.\n",
      "findfont: Font family 'NanumSquareOTFRegular' not found.\n",
      "findfont: Font family 'Malgun Gothic' not found.\n",
      "findfont: Font family 'NanumSquareOTFRegular' not found.\n",
      "findfont: Font family 'Malgun Gothic' not found.\n",
      "findfont: Font family 'NanumSquareOTFRegular' not found.\n",
      "findfont: Font family 'Malgun Gothic' not found.\n",
      "findfont: Font family 'NanumSquareOTFRegular' not found.\n",
      "findfont: Font family 'Malgun Gothic' not found.\n",
      "findfont: Font family 'NanumSquareOTFRegular' not found.\n",
      "findfont: Font family 'Malgun Gothic' not found.\n",
      "findfont: Font family 'NanumSquareOTFRegular' not found.\n",
      "findfont: Font family 'Malgun Gothic' not found.\n",
      "findfont: Font family 'NanumSquareOTFRegular' not found.\n",
      "findfont: Font family 'Malgun Gothic' not found.\n",
      "findfont: Font family 'NanumSquareOTFRegular' not found.\n",
      "findfont: Font family 'Malgun Gothic' not found.\n",
      "findfont: Font family 'NanumSquareOTFRegular' not found.\n",
      "findfont: Font family 'Malgun Gothic' not found.\n",
      "findfont: Font family 'NanumSquareOTFRegular' not found.\n",
      "findfont: Font family 'Malgun Gothic' not found.\n",
      "findfont: Font family 'NanumSquareOTFRegular' not found.\n",
      "findfont: Font family 'Malgun Gothic' not found.\n",
      "findfont: Font family 'NanumSquareOTFRegular' not found.\n",
      "findfont: Font family 'Malgun Gothic' not found.\n",
      "findfont: Font family 'NanumSquareOTFRegular' not found.\n",
      "findfont: Font family 'Malgun Gothic' not found.\n",
      "findfont: Font family 'NanumSquareOTFRegular' not found.\n",
      "findfont: Font family 'Malgun Gothic' not found.\n",
      "findfont: Font family 'NanumSquareOTFRegular' not found.\n",
      "findfont: Font family 'Malgun Gothic' not found.\n",
      "findfont: Font family 'NanumSquareOTFRegular' not found.\n",
      "findfont: Font family 'Malgun Gothic' not found.\n",
      "findfont: Font family 'NanumSquareOTFRegular' not found.\n",
      "findfont: Font family 'Malgun Gothic' not found.\n",
      "findfont: Font family 'NanumSquareOTFRegular' not found.\n",
      "findfont: Font family 'Malgun Gothic' not found.\n",
      "findfont: Font family 'NanumSquareOTFRegular' not found.\n",
      "findfont: Font family 'Malgun Gothic' not found.\n",
      "findfont: Font family 'NanumSquareOTFRegular' not found.\n",
      "findfont: Font family 'Malgun Gothic' not found.\n",
      "findfont: Font family 'NanumSquareOTFRegular' not found.\n",
      "findfont: Font family 'Malgun Gothic' not found.\n",
      "findfont: Font family 'NanumSquareOTFRegular' not found.\n",
      "findfont: Font family 'Malgun Gothic' not found.\n",
      "findfont: Font family 'NanumSquareOTFRegular' not found.\n",
      "findfont: Font family 'Malgun Gothic' not found.\n",
      "findfont: Font family 'NanumSquareOTFRegular' not found.\n",
      "findfont: Font family 'Malgun Gothic' not found.\n",
      "findfont: Font family 'NanumSquareOTFRegular' not found.\n",
      "findfont: Font family 'Malgun Gothic' not found.\n",
      "findfont: Font family 'NanumSquareOTFRegular' not found.\n",
      "findfont: Font family 'Malgun Gothic' not found.\n",
      "findfont: Font family 'NanumSquareOTFRegular' not found.\n",
      "findfont: Font family 'Malgun Gothic' not found.\n",
      "findfont: Font family 'NanumSquareOTFRegular' not found.\n",
      "findfont: Font family 'Malgun Gothic' not found.\n",
      "findfont: Font family 'NanumSquareOTFRegular' not found.\n",
      "findfont: Font family 'Malgun Gothic' not found.\n",
      "findfont: Font family 'NanumSquareOTFRegular' not found.\n",
      "findfont: Font family 'Malgun Gothic' not found.\n",
      "findfont: Font family 'NanumSquareOTFRegular' not found.\n",
      "findfont: Font family 'Malgun Gothic' not found.\n",
      "findfont: Font family 'NanumSquareOTFRegular' not found.\n",
      "findfont: Font family 'Malgun Gothic' not found.\n",
      "findfont: Font family 'NanumSquareOTFRegular' not found.\n",
      "findfont: Font family 'Malgun Gothic' not found.\n",
      "findfont: Font family 'NanumSquareOTFRegular' not found.\n",
      "findfont: Font family 'Malgun Gothic' not found.\n",
      "findfont: Font family 'NanumSquareOTFRegular' not found.\n",
      "findfont: Font family 'Malgun Gothic' not found.\n",
      "findfont: Font family 'NanumSquareOTFRegular' not found.\n",
      "findfont: Font family 'Malgun Gothic' not found.\n",
      "findfont: Font family 'NanumSquareOTFRegular' not found.\n",
      "findfont: Font family 'Malgun Gothic' not found.\n",
      "findfont: Font family 'NanumSquareOTFRegular' not found.\n",
      "findfont: Font family 'Malgun Gothic' not found.\n",
      "findfont: Font family 'NanumSquareOTFRegular' not found.\n",
      "findfont: Font family 'Malgun Gothic' not found.\n",
      "findfont: Font family 'NanumSquareOTFRegular' not found.\n",
      "findfont: Font family 'Malgun Gothic' not found.\n",
      "findfont: Font family 'NanumSquareOTFRegular' not found.\n",
      "findfont: Font family 'Malgun Gothic' not found.\n",
      "findfont: Font family 'NanumSquareOTFRegular' not found.\n",
      "findfont: Font family 'Malgun Gothic' not found.\n",
      "findfont: Font family 'NanumSquareOTFRegular' not found.\n",
      "findfont: Font family 'Malgun Gothic' not found.\n",
      "findfont: Font family 'NanumSquareOTFRegular' not found.\n",
      "findfont: Font family 'Malgun Gothic' not found.\n",
      "findfont: Font family 'NanumSquareOTFRegular' not found.\n",
      "findfont: Font family 'Malgun Gothic' not found.\n",
      "findfont: Font family 'NanumSquareOTFRegular' not found.\n",
      "findfont: Font family 'Malgun Gothic' not found.\n",
      "findfont: Font family 'NanumSquareOTFRegular' not found.\n",
      "findfont: Font family 'Malgun Gothic' not found.\n",
      "findfont: Font family 'NanumSquareOTFRegular' not found.\n",
      "findfont: Font family 'Malgun Gothic' not found.\n",
      "findfont: Font family 'NanumSquareOTFRegular' not found.\n",
      "findfont: Font family 'Malgun Gothic' not found.\n",
      "findfont: Font family 'NanumSquareOTFRegular' not found.\n",
      "findfont: Font family 'Malgun Gothic' not found.\n",
      "findfont: Font family 'NanumSquareOTFRegular' not found.\n",
      "findfont: Font family 'Malgun Gothic' not found.\n",
      "findfont: Font family 'NanumSquareOTFRegular' not found.\n",
      "findfont: Font family 'Malgun Gothic' not found.\n",
      "findfont: Font family 'NanumSquareOTFRegular' not found.\n",
      "findfont: Font family 'Malgun Gothic' not found.\n",
      "findfont: Font family 'NanumSquareOTFRegular' not found.\n",
      "findfont: Font family 'Malgun Gothic' not found.\n",
      "findfont: Font family 'NanumSquareOTFRegular' not found.\n",
      "findfont: Font family 'Malgun Gothic' not found.\n",
      "findfont: Font family 'NanumSquareOTFRegular' not found.\n",
      "findfont: Font family 'Malgun Gothic' not found.\n",
      "findfont: Font family 'NanumSquareOTFRegular' not found.\n",
      "findfont: Font family 'Malgun Gothic' not found.\n",
      "findfont: Font family 'NanumSquareOTFRegular' not found.\n",
      "findfont: Font family 'Malgun Gothic' not found.\n",
      "findfont: Font family 'NanumSquareOTFRegular' not found.\n",
      "findfont: Font family 'Malgun Gothic' not found.\n",
      "findfont: Font family 'NanumSquareOTFRegular' not found.\n",
      "findfont: Font family 'Malgun Gothic' not found.\n",
      "findfont: Font family 'NanumSquareOTFRegular' not found.\n",
      "findfont: Font family 'Malgun Gothic' not found.\n",
      "findfont: Font family 'NanumSquareOTFRegular' not found.\n",
      "findfont: Font family 'Malgun Gothic' not found.\n",
      "findfont: Font family 'NanumSquareOTFRegular' not found.\n",
      "findfont: Font family 'Malgun Gothic' not found.\n",
      "findfont: Font family 'NanumSquareOTFRegular' not found.\n",
      "findfont: Font family 'Malgun Gothic' not found.\n",
      "findfont: Font family 'NanumSquareOTFRegular' not found.\n",
      "findfont: Font family 'Malgun Gothic' not found.\n",
      "findfont: Font family 'NanumSquareOTFRegular' not found.\n",
      "findfont: Font family 'Malgun Gothic' not found.\n",
      "findfont: Font family 'NanumSquareOTFRegular' not found.\n",
      "findfont: Font family 'Malgun Gothic' not found.\n",
      "findfont: Font family 'NanumSquareOTFRegular' not found.\n",
      "findfont: Font family 'Malgun Gothic' not found.\n",
      "findfont: Font family 'NanumSquareOTFRegular' not found.\n",
      "findfont: Font family 'Malgun Gothic' not found.\n",
      "findfont: Font family 'NanumSquareOTFRegular' not found.\n",
      "findfont: Font family 'Malgun Gothic' not found.\n",
      "findfont: Font family 'NanumSquareOTFRegular' not found.\n",
      "findfont: Font family 'Malgun Gothic' not found.\n",
      "findfont: Font family 'NanumSquareOTFRegular' not found.\n",
      "findfont: Font family 'Malgun Gothic' not found.\n",
      "findfont: Font family 'NanumSquareOTFRegular' not found.\n",
      "findfont: Font family 'Malgun Gothic' not found.\n",
      "findfont: Font family 'NanumSquareOTFRegular' not found.\n",
      "findfont: Font family 'Malgun Gothic' not found.\n",
      "findfont: Font family 'NanumSquareOTFRegular' not found.\n",
      "findfont: Font family 'Malgun Gothic' not found.\n",
      "findfont: Font family 'NanumSquareOTFRegular' not found.\n",
      "findfont: Font family 'Malgun Gothic' not found.\n",
      "findfont: Font family 'NanumSquareOTFRegular' not found.\n",
      "findfont: Font family 'Malgun Gothic' not found.\n",
      "findfont: Font family 'NanumSquareOTFRegular' not found.\n",
      "findfont: Font family 'Malgun Gothic' not found.\n",
      "findfont: Font family 'NanumSquareOTFRegular' not found.\n",
      "findfont: Font family 'Malgun Gothic' not found.\n",
      "findfont: Font family 'NanumSquareOTFRegular' not found.\n",
      "findfont: Font family 'Malgun Gothic' not found.\n",
      "findfont: Font family 'NanumSquareOTFRegular' not found.\n",
      "findfont: Font family 'Malgun Gothic' not found.\n",
      "findfont: Font family 'NanumSquareOTFRegular' not found.\n",
      "findfont: Font family 'Malgun Gothic' not found.\n",
      "findfont: Font family 'NanumSquareOTFRegular' not found.\n",
      "findfont: Font family 'Malgun Gothic' not found.\n",
      "findfont: Font family 'NanumSquareOTFRegular' not found.\n",
      "findfont: Font family 'Malgun Gothic' not found.\n",
      "findfont: Font family 'NanumSquareOTFRegular' not found.\n",
      "findfont: Font family 'Malgun Gothic' not found.\n",
      "findfont: Font family 'NanumSquareOTFRegular' not found.\n",
      "findfont: Font family 'Malgun Gothic' not found.\n",
      "findfont: Font family 'NanumSquareOTFRegular' not found.\n",
      "findfont: Font family 'Malgun Gothic' not found.\n",
      "findfont: Font family 'NanumSquareOTFRegular' not found.\n",
      "findfont: Font family 'Malgun Gothic' not found.\n",
      "findfont: Font family 'NanumSquareOTFRegular' not found.\n",
      "findfont: Font family 'Malgun Gothic' not found.\n",
      "findfont: Font family 'NanumSquareOTFRegular' not found.\n",
      "findfont: Font family 'Malgun Gothic' not found.\n",
      "findfont: Font family 'NanumSquareOTFRegular' not found.\n",
      "findfont: Font family 'Malgun Gothic' not found.\n",
      "findfont: Font family 'NanumSquareOTFRegular' not found.\n",
      "findfont: Font family 'Malgun Gothic' not found.\n",
      "findfont: Font family 'NanumSquareOTFRegular' not found.\n",
      "findfont: Font family 'Malgun Gothic' not found.\n",
      "findfont: Font family 'NanumSquareOTFRegular' not found.\n",
      "findfont: Font family 'Malgun Gothic' not found.\n",
      "findfont: Font family 'NanumSquareOTFRegular' not found.\n",
      "findfont: Font family 'Malgun Gothic' not found.\n",
      "findfont: Font family 'NanumSquareOTFRegular' not found.\n",
      "findfont: Font family 'Malgun Gothic' not found.\n",
      "findfont: Font family 'NanumSquareOTFRegular' not found.\n",
      "findfont: Font family 'Malgun Gothic' not found.\n",
      "findfont: Font family 'NanumSquareOTFRegular' not found.\n",
      "findfont: Font family 'Malgun Gothic' not found.\n",
      "findfont: Font family 'NanumSquareOTFRegular' not found.\n",
      "findfont: Font family 'Malgun Gothic' not found.\n",
      "findfont: Font family 'NanumSquareOTFRegular' not found.\n",
      "findfont: Font family 'Malgun Gothic' not found.\n",
      "findfont: Font family 'NanumSquareOTFRegular' not found.\n",
      "findfont: Font family 'Malgun Gothic' not found.\n",
      "findfont: Font family 'NanumSquareOTFRegular' not found.\n",
      "findfont: Font family 'Malgun Gothic' not found.\n",
      "findfont: Font family 'NanumSquareOTFRegular' not found.\n",
      "findfont: Font family 'Malgun Gothic' not found.\n",
      "findfont: Font family 'NanumSquareOTFRegular' not found.\n",
      "findfont: Font family 'Malgun Gothic' not found.\n",
      "findfont: Font family 'NanumSquareOTFRegular' not found.\n",
      "findfont: Font family 'Malgun Gothic' not found.\n",
      "findfont: Font family 'NanumSquareOTFRegular' not found.\n",
      "findfont: Font family 'Malgun Gothic' not found.\n",
      "findfont: Font family 'NanumSquareOTFRegular' not found.\n",
      "findfont: Font family 'Malgun Gothic' not found.\n",
      "findfont: Font family 'NanumSquareOTFRegular' not found.\n",
      "findfont: Font family 'Malgun Gothic' not found.\n",
      "findfont: Font family 'NanumSquareOTFRegular' not found.\n",
      "findfont: Font family 'Malgun Gothic' not found.\n",
      "findfont: Font family 'NanumSquareOTFRegular' not found.\n",
      "findfont: Font family 'Malgun Gothic' not found.\n",
      "findfont: Font family 'NanumSquareOTFRegular' not found.\n",
      "findfont: Font family 'Malgun Gothic' not found.\n",
      "findfont: Font family 'NanumSquareOTFRegular' not found.\n",
      "findfont: Font family 'Malgun Gothic' not found.\n",
      "findfont: Font family 'NanumSquareOTFRegular' not found.\n",
      "findfont: Font family 'Malgun Gothic' not found.\n",
      "findfont: Font family 'NanumSquareOTFRegular' not found.\n",
      "findfont: Font family 'Malgun Gothic' not found.\n",
      "findfont: Font family 'NanumSquareOTFRegular' not found.\n",
      "findfont: Font family 'Malgun Gothic' not found.\n",
      "findfont: Font family 'NanumSquareOTFRegular' not found.\n",
      "findfont: Font family 'Malgun Gothic' not found.\n",
      "findfont: Font family 'NanumSquareOTFRegular' not found.\n",
      "findfont: Font family 'Malgun Gothic' not found.\n",
      "findfont: Font family 'NanumSquareOTFRegular' not found.\n",
      "findfont: Font family 'Malgun Gothic' not found.\n",
      "findfont: Font family 'NanumSquareOTFRegular' not found.\n",
      "findfont: Font family 'Malgun Gothic' not found.\n",
      "findfont: Font family 'NanumSquareOTFRegular' not found.\n",
      "findfont: Font family 'Malgun Gothic' not found.\n",
      "findfont: Font family 'NanumSquareOTFRegular' not found.\n",
      "findfont: Font family 'Malgun Gothic' not found.\n",
      "findfont: Font family 'NanumSquareOTFRegular' not found.\n",
      "findfont: Font family 'Malgun Gothic' not found.\n",
      "findfont: Font family 'NanumSquareOTFRegular' not found.\n",
      "findfont: Font family 'Malgun Gothic' not found.\n",
      "findfont: Font family 'NanumSquareOTFRegular' not found.\n",
      "findfont: Font family 'Malgun Gothic' not found.\n",
      "findfont: Font family 'NanumSquareOTFRegular' not found.\n",
      "findfont: Font family 'Malgun Gothic' not found.\n",
      "findfont: Font family 'NanumSquareOTFRegular' not found.\n",
      "findfont: Font family 'Malgun Gothic' not found.\n",
      "findfont: Font family 'NanumSquareOTFRegular' not found.\n",
      "findfont: Font family 'Malgun Gothic' not found.\n",
      "findfont: Font family 'NanumSquareOTFRegular' not found.\n",
      "findfont: Font family 'Malgun Gothic' not found.\n",
      "findfont: Font family 'NanumSquareOTFRegular' not found.\n",
      "findfont: Font family 'Malgun Gothic' not found.\n",
      "findfont: Font family 'NanumSquareOTFRegular' not found.\n",
      "findfont: Font family 'Malgun Gothic' not found.\n",
      "findfont: Font family 'NanumSquareOTFRegular' not found.\n",
      "findfont: Font family 'Malgun Gothic' not found.\n",
      "findfont: Font family 'NanumSquareOTFRegular' not found.\n",
      "findfont: Font family 'Malgun Gothic' not found.\n",
      "findfont: Font family 'NanumSquareOTFRegular' not found.\n",
      "findfont: Font family 'Malgun Gothic' not found.\n",
      "findfont: Font family 'NanumSquareOTFRegular' not found.\n",
      "findfont: Font family 'Malgun Gothic' not found.\n",
      "findfont: Font family 'NanumSquareOTFRegular' not found.\n",
      "findfont: Font family 'Malgun Gothic' not found.\n",
      "findfont: Font family 'NanumSquareOTFRegular' not found.\n",
      "findfont: Font family 'Malgun Gothic' not found.\n",
      "findfont: Font family 'NanumSquareOTFRegular' not found.\n",
      "findfont: Font family 'Malgun Gothic' not found.\n",
      "findfont: Font family 'NanumSquareOTFRegular' not found.\n",
      "findfont: Font family 'Malgun Gothic' not found.\n",
      "findfont: Font family 'NanumSquareOTFRegular' not found.\n",
      "findfont: Font family 'Malgun Gothic' not found.\n",
      "findfont: Font family 'NanumSquareOTFRegular' not found.\n",
      "findfont: Font family 'Malgun Gothic' not found.\n",
      "findfont: Font family 'NanumSquareOTFRegular' not found.\n",
      "findfont: Font family 'Malgun Gothic' not found.\n",
      "findfont: Font family 'NanumSquareOTFRegular' not found.\n",
      "findfont: Font family 'Malgun Gothic' not found.\n",
      "findfont: Font family 'NanumSquareOTFRegular' not found.\n",
      "findfont: Font family 'Malgun Gothic' not found.\n",
      "findfont: Font family 'NanumSquareOTFRegular' not found.\n",
      "findfont: Font family 'Malgun Gothic' not found.\n",
      "findfont: Font family 'NanumSquareOTFRegular' not found.\n",
      "findfont: Font family 'Malgun Gothic' not found.\n",
      "findfont: Font family 'NanumSquareOTFRegular' not found.\n",
      "findfont: Font family 'Malgun Gothic' not found.\n",
      "findfont: Font family 'NanumSquareOTFRegular' not found.\n",
      "findfont: Font family 'Malgun Gothic' not found.\n",
      "findfont: Font family 'NanumSquareOTFRegular' not found.\n",
      "findfont: Font family 'Malgun Gothic' not found.\n",
      "findfont: Font family 'NanumSquareOTFRegular' not found.\n",
      "findfont: Font family 'Malgun Gothic' not found.\n",
      "findfont: Font family 'NanumSquareOTFRegular' not found.\n",
      "findfont: Font family 'Malgun Gothic' not found.\n",
      "findfont: Font family 'NanumSquareOTFRegular' not found.\n",
      "findfont: Font family 'Malgun Gothic' not found.\n",
      "findfont: Font family 'NanumSquareOTFRegular' not found.\n",
      "findfont: Font family 'Malgun Gothic' not found.\n",
      "findfont: Font family 'NanumSquareOTFRegular' not found.\n",
      "findfont: Font family 'Malgun Gothic' not found.\n",
      "findfont: Font family 'NanumSquareOTFRegular' not found.\n",
      "findfont: Font family 'Malgun Gothic' not found.\n",
      "findfont: Font family 'NanumSquareOTFRegular' not found.\n",
      "findfont: Font family 'Malgun Gothic' not found.\n",
      "findfont: Font family 'NanumSquareOTFRegular' not found.\n",
      "findfont: Font family 'Malgun Gothic' not found.\n",
      "findfont: Font family 'NanumSquareOTFRegular' not found.\n",
      "findfont: Font family 'Malgun Gothic' not found.\n",
      "findfont: Font family 'NanumSquareOTFRegular' not found.\n",
      "findfont: Font family 'Malgun Gothic' not found.\n",
      "findfont: Font family 'NanumSquareOTFRegular' not found.\n",
      "findfont: Font family 'Malgun Gothic' not found.\n",
      "findfont: Font family 'NanumSquareOTFRegular' not found.\n",
      "findfont: Font family 'Malgun Gothic' not found.\n",
      "findfont: Font family 'NanumSquareOTFRegular' not found.\n",
      "findfont: Font family 'Malgun Gothic' not found.\n",
      "findfont: Font family 'NanumSquareOTFRegular' not found.\n",
      "findfont: Font family 'Malgun Gothic' not found.\n",
      "findfont: Font family 'NanumSquareOTFRegular' not found.\n",
      "findfont: Font family 'Malgun Gothic' not found.\n",
      "findfont: Font family 'NanumSquareOTFRegular' not found.\n",
      "findfont: Font family 'Malgun Gothic' not found.\n",
      "findfont: Font family 'NanumSquareOTFRegular' not found.\n",
      "findfont: Font family 'Malgun Gothic' not found.\n",
      "findfont: Font family 'NanumSquareOTFRegular' not found.\n",
      "findfont: Font family 'Malgun Gothic' not found.\n",
      "findfont: Font family 'NanumSquareOTFRegular' not found.\n",
      "findfont: Font family 'Malgun Gothic' not found.\n",
      "findfont: Font family 'NanumSquareOTFRegular' not found.\n",
      "findfont: Font family 'Malgun Gothic' not found.\n",
      "findfont: Font family 'NanumSquareOTFRegular' not found.\n",
      "findfont: Font family 'Malgun Gothic' not found.\n",
      "findfont: Font family 'NanumSquareOTFRegular' not found.\n",
      "findfont: Font family 'Malgun Gothic' not found.\n",
      "findfont: Font family 'NanumSquareOTFRegular' not found.\n",
      "findfont: Font family 'Malgun Gothic' not found.\n",
      "findfont: Font family 'NanumSquareOTFRegular' not found.\n",
      "findfont: Font family 'Malgun Gothic' not found.\n",
      "findfont: Font family 'NanumSquareOTFRegular' not found.\n",
      "findfont: Font family 'Malgun Gothic' not found.\n",
      "findfont: Font family 'NanumSquareOTFRegular' not found.\n",
      "findfont: Font family 'Malgun Gothic' not found.\n",
      "findfont: Font family 'NanumSquareOTFRegular' not found.\n",
      "findfont: Font family 'Malgun Gothic' not found.\n",
      "findfont: Font family 'NanumSquareOTFRegular' not found.\n",
      "findfont: Font family 'Malgun Gothic' not found.\n",
      "findfont: Font family 'NanumSquareOTFRegular' not found.\n",
      "findfont: Font family 'Malgun Gothic' not found.\n",
      "findfont: Font family 'NanumSquareOTFRegular' not found.\n",
      "findfont: Font family 'Malgun Gothic' not found.\n",
      "findfont: Font family 'NanumSquareOTFRegular' not found.\n",
      "findfont: Font family 'Malgun Gothic' not found.\n",
      "findfont: Font family 'NanumSquareOTFRegular' not found.\n",
      "findfont: Font family 'Malgun Gothic' not found.\n",
      "findfont: Font family 'NanumSquareOTFRegular' not found.\n",
      "findfont: Font family 'Malgun Gothic' not found.\n",
      "findfont: Font family 'NanumSquareOTFRegular' not found.\n",
      "findfont: Font family 'Malgun Gothic' not found.\n",
      "findfont: Font family 'NanumSquareOTFRegular' not found.\n",
      "findfont: Font family 'Malgun Gothic' not found.\n",
      "findfont: Font family 'NanumSquareOTFRegular' not found.\n",
      "findfont: Font family 'Malgun Gothic' not found.\n",
      "findfont: Font family 'NanumSquareOTFRegular' not found.\n",
      "findfont: Font family 'Malgun Gothic' not found.\n",
      "findfont: Font family 'NanumSquareOTFRegular' not found.\n",
      "findfont: Font family 'Malgun Gothic' not found.\n",
      "findfont: Font family 'NanumSquareOTFRegular' not found.\n",
      "findfont: Font family 'Malgun Gothic' not found.\n",
      "findfont: Font family 'NanumSquareOTFRegular' not found.\n",
      "findfont: Font family 'Malgun Gothic' not found.\n",
      "findfont: Font family 'NanumSquareOTFRegular' not found.\n",
      "findfont: Font family 'Malgun Gothic' not found.\n",
      "findfont: Font family 'NanumSquareOTFRegular' not found.\n",
      "findfont: Font family 'Malgun Gothic' not found.\n",
      "findfont: Font family 'NanumSquareOTFRegular' not found.\n",
      "findfont: Font family 'Malgun Gothic' not found.\n",
      "findfont: Font family 'NanumSquareOTFRegular' not found.\n",
      "findfont: Font family 'Malgun Gothic' not found.\n",
      "findfont: Font family 'NanumSquareOTFRegular' not found.\n",
      "findfont: Font family 'Malgun Gothic' not found.\n",
      "findfont: Font family 'NanumSquareOTFRegular' not found.\n",
      "findfont: Font family 'Malgun Gothic' not found.\n",
      "findfont: Font family 'NanumSquareOTFRegular' not found.\n",
      "findfont: Font family 'Malgun Gothic' not found.\n",
      "findfont: Font family 'NanumSquareOTFRegular' not found.\n",
      "findfont: Font family 'Malgun Gothic' not found.\n",
      "findfont: Font family 'NanumSquareOTFRegular' not found.\n",
      "findfont: Font family 'Malgun Gothic' not found.\n",
      "findfont: Font family 'NanumSquareOTFRegular' not found.\n",
      "findfont: Font family 'Malgun Gothic' not found.\n",
      "findfont: Font family 'NanumSquareOTFRegular' not found.\n",
      "findfont: Font family 'Malgun Gothic' not found.\n",
      "findfont: Font family 'NanumSquareOTFRegular' not found.\n",
      "findfont: Font family 'Malgun Gothic' not found.\n",
      "findfont: Font family 'NanumSquareOTFRegular' not found.\n",
      "findfont: Font family 'Malgun Gothic' not found.\n",
      "findfont: Font family 'NanumSquareOTFRegular' not found.\n",
      "findfont: Font family 'Malgun Gothic' not found.\n",
      "findfont: Font family 'NanumSquareOTFRegular' not found.\n",
      "findfont: Font family 'Malgun Gothic' not found.\n",
      "findfont: Font family 'NanumSquareOTFRegular' not found.\n",
      "findfont: Font family 'Malgun Gothic' not found.\n",
      "findfont: Font family 'NanumSquareOTFRegular' not found.\n",
      "findfont: Font family 'Malgun Gothic' not found.\n",
      "findfont: Font family 'NanumSquareOTFRegular' not found.\n",
      "findfont: Font family 'Malgun Gothic' not found.\n",
      "findfont: Font family 'NanumSquareOTFRegular' not found.\n",
      "findfont: Font family 'Malgun Gothic' not found.\n",
      "findfont: Font family 'NanumSquareOTFRegular' not found.\n",
      "findfont: Font family 'Malgun Gothic' not found.\n",
      "findfont: Font family 'NanumSquareOTFRegular' not found.\n",
      "findfont: Font family 'Malgun Gothic' not found.\n",
      "findfont: Font family 'NanumSquareOTFRegular' not found.\n",
      "findfont: Font family 'Malgun Gothic' not found.\n",
      "findfont: Font family 'NanumSquareOTFRegular' not found.\n",
      "findfont: Font family 'Malgun Gothic' not found.\n",
      "findfont: Font family 'NanumSquareOTFRegular' not found.\n",
      "findfont: Font family 'Malgun Gothic' not found.\n",
      "findfont: Font family 'NanumSquareOTFRegular' not found.\n",
      "findfont: Font family 'Malgun Gothic' not found.\n",
      "findfont: Font family 'NanumSquareOTFRegular' not found.\n",
      "findfont: Font family 'Malgun Gothic' not found.\n",
      "findfont: Font family 'NanumSquareOTFRegular' not found.\n",
      "findfont: Font family 'Malgun Gothic' not found.\n",
      "findfont: Font family 'NanumSquareOTFRegular' not found.\n",
      "findfont: Font family 'Malgun Gothic' not found.\n",
      "findfont: Font family 'NanumSquareOTFRegular' not found.\n",
      "findfont: Font family 'Malgun Gothic' not found.\n",
      "findfont: Font family 'NanumSquareOTFRegular' not found.\n",
      "findfont: Font family 'Malgun Gothic' not found.\n",
      "findfont: Font family 'NanumSquareOTFRegular' not found.\n",
      "findfont: Font family 'Malgun Gothic' not found.\n",
      "findfont: Font family 'NanumSquareOTFRegular' not found.\n",
      "findfont: Font family 'Malgun Gothic' not found.\n",
      "findfont: Font family 'NanumSquareOTFRegular' not found.\n",
      "findfont: Font family 'Malgun Gothic' not found.\n",
      "findfont: Font family 'NanumSquareOTFRegular' not found.\n",
      "findfont: Font family 'Malgun Gothic' not found.\n",
      "findfont: Font family 'NanumSquareOTFRegular' not found.\n",
      "findfont: Font family 'Malgun Gothic' not found.\n",
      "findfont: Font family 'NanumSquareOTFRegular' not found.\n",
      "findfont: Font family 'Malgun Gothic' not found.\n",
      "findfont: Font family 'NanumSquareOTFRegular' not found.\n",
      "findfont: Font family 'Malgun Gothic' not found.\n",
      "findfont: Font family 'NanumSquareOTFRegular' not found.\n",
      "findfont: Font family 'Malgun Gothic' not found.\n",
      "findfont: Font family 'NanumSquareOTFRegular' not found.\n",
      "findfont: Font family 'Malgun Gothic' not found.\n",
      "findfont: Font family 'NanumSquareOTFRegular' not found.\n",
      "findfont: Font family 'Malgun Gothic' not found.\n",
      "findfont: Font family 'NanumSquareOTFRegular' not found.\n",
      "findfont: Font family 'Malgun Gothic' not found.\n",
      "findfont: Font family 'NanumSquareOTFRegular' not found.\n",
      "findfont: Font family 'Malgun Gothic' not found.\n",
      "findfont: Font family 'NanumSquareOTFRegular' not found.\n",
      "findfont: Font family 'Malgun Gothic' not found.\n",
      "findfont: Font family 'NanumSquareOTFRegular' not found.\n",
      "findfont: Font family 'Malgun Gothic' not found.\n",
      "findfont: Font family 'NanumSquareOTFRegular' not found.\n",
      "findfont: Font family 'Malgun Gothic' not found.\n",
      "findfont: Font family 'NanumSquareOTFRegular' not found.\n",
      "findfont: Font family 'Malgun Gothic' not found.\n",
      "findfont: Font family 'NanumSquareOTFRegular' not found.\n",
      "findfont: Font family 'Malgun Gothic' not found.\n",
      "findfont: Font family 'NanumSquareOTFRegular' not found.\n",
      "findfont: Font family 'Malgun Gothic' not found.\n",
      "findfont: Font family 'NanumSquareOTFRegular' not found.\n",
      "findfont: Font family 'Malgun Gothic' not found.\n",
      "findfont: Font family 'NanumSquareOTFRegular' not found.\n",
      "findfont: Font family 'Malgun Gothic' not found.\n",
      "findfont: Font family 'NanumSquareOTFRegular' not found.\n",
      "findfont: Font family 'Malgun Gothic' not found.\n",
      "findfont: Font family 'NanumSquareOTFRegular' not found.\n",
      "findfont: Font family 'Malgun Gothic' not found.\n",
      "findfont: Font family 'NanumSquareOTFRegular' not found.\n",
      "findfont: Font family 'Malgun Gothic' not found.\n",
      "findfont: Font family 'NanumSquareOTFRegular' not found.\n",
      "findfont: Font family 'Malgun Gothic' not found.\n",
      "findfont: Font family 'NanumSquareOTFRegular' not found.\n",
      "findfont: Font family 'Malgun Gothic' not found.\n",
      "findfont: Font family 'NanumSquareOTFRegular' not found.\n",
      "findfont: Font family 'Malgun Gothic' not found.\n",
      "findfont: Font family 'NanumSquareOTFRegular' not found.\n",
      "findfont: Font family 'Malgun Gothic' not found.\n",
      "findfont: Font family 'NanumSquareOTFRegular' not found.\n",
      "findfont: Font family 'Malgun Gothic' not found.\n",
      "findfont: Font family 'NanumSquareOTFRegular' not found.\n",
      "findfont: Font family 'Malgun Gothic' not found.\n",
      "findfont: Font family 'NanumSquareOTFRegular' not found.\n",
      "findfont: Font family 'Malgun Gothic' not found.\n",
      "findfont: Font family 'NanumSquareOTFRegular' not found.\n",
      "findfont: Font family 'Malgun Gothic' not found.\n",
      "findfont: Font family 'NanumSquareOTFRegular' not found.\n",
      "findfont: Font family 'Malgun Gothic' not found.\n",
      "findfont: Font family 'NanumSquareOTFRegular' not found.\n",
      "findfont: Font family 'Malgun Gothic' not found.\n",
      "findfont: Font family 'NanumSquareOTFRegular' not found.\n",
      "findfont: Font family 'Malgun Gothic' not found.\n",
      "findfont: Font family 'NanumSquareOTFRegular' not found.\n",
      "findfont: Font family 'Malgun Gothic' not found.\n",
      "findfont: Font family 'NanumSquareOTFRegular' not found.\n",
      "findfont: Font family 'Malgun Gothic' not found.\n",
      "findfont: Font family 'NanumSquareOTFRegular' not found.\n",
      "findfont: Font family 'Malgun Gothic' not found.\n",
      "findfont: Font family 'NanumSquareOTFRegular' not found.\n",
      "findfont: Font family 'Malgun Gothic' not found.\n",
      "findfont: Font family 'NanumSquareOTFRegular' not found.\n",
      "findfont: Font family 'Malgun Gothic' not found.\n"
     ]
    },
    {
     "data": {
      "image/png": "[encoded data removed]",
      "text/plain": [
       "<Figure size 2000x1500 with 12 Axes>"
      ]
     },
     "metadata": {},
     "output_type": "display_data"
    }
   ],
   "source": [
    "df.hist(bins=50,figsize=(20,15))"
   ]
  },
  {
   "cell_type": "code",
   "execution_count": 8,
   "metadata": {},
   "outputs": [
    {
     "data": {
      "text/plain": [
       "id     Gender  Age        Height    Weight      family_history_with_overweight  FAVC  FCVC      NCP       CAEC       SMOKE  CH2O      SCC  FAF       TUE       CALC       MTRANS                 NObeyesdad         \n",
       "0      Male    24.443011  1.699998  81.669950   yes                             yes   2.000000  2.983297  Sometimes  no     2.763573  no   0.000000  0.976473  Sometimes  Public_Transportation  Overweight_Level_II    1\n",
       "13826  Male    21.012569  1.697421  100.431625  yes                             yes   2.000000  1.627555  Sometimes  no     1.000000  no   1.000000  0.460866  Sometimes  Public_Transportation  Obesity_Type_I         1\n",
       "13844  Female  16.496978  1.691206  82.000000   yes                             yes   2.668890  1.680838  Sometimes  no     1.876915  no   0.130417  1.796136  Sometimes  Public_Transportation  Obesity_Type_I         1\n",
       "13843  Female  21.024970  1.735810  131.042274  yes                             yes   3.000000  3.000000  Sometimes  no     1.650612  no   1.645532  0.912187  Sometimes  Public_Transportation  Obesity_Type_III       1\n",
       "13842  Female  27.000000  1.677573  77.493596   yes                             yes   3.000000  3.000000  Sometimes  no     1.968011  no   0.908981  0.753077  Sometimes  Public_Transportation  Overweight_Level_II    1\n",
       "                                                                                                                                                                                                                       ..\n",
       "6917   Female  21.285965  1.766888  131.335786  yes                             yes   3.000000  3.000000  Sometimes  no     1.959777  no   1.931173  0.893514  Sometimes  Public_Transportation  Obesity_Type_III       1\n",
       "6916   Male    22.038327  1.872517  91.052215   yes                             yes   2.000000  1.010319  Sometimes  no     1.011849  no   0.000000  0.453404  Sometimes  Public_Transportation  Obesity_Type_I         1\n",
       "6915   Female  22.771001  1.720000  82.000000   yes                             yes   2.607747  2.870661  Sometimes  no     1.005367  no   1.000000  0.000000  Sometimes  Public_Transportation  Obesity_Type_I         1\n",
       "6914   Male    40.317787  1.735851  109.889334  yes                             yes   2.522183  3.000000  Sometimes  no     1.144539  no   0.854957  0.000000  Sometimes  Automobile             Obesity_Type_II        1\n",
       "20757  Male    26.680376  1.816547  118.134898  yes                             yes   3.000000  3.000000  Sometimes  no     2.003563  no   0.684487  0.713823  Sometimes  Public_Transportation  Obesity_Type_II        1\n",
       "Name: count, Length: 20758, dtype: int64"
      ]
     },
     "execution_count": 8,
     "metadata": {},
     "output_type": "execute_result"
    }
   ],
   "source": [
    "df.value_counts()"
   ]
  },
  {
   "cell_type": "code",
   "execution_count": 9,
   "metadata": {},
   "outputs": [
    {
     "data": {
      "text/plain": [
       "Age\n",
       "18.000000    1916\n",
       "26.000000    1806\n",
       "21.000000    1643\n",
       "23.000000    1202\n",
       "19.000000     886\n",
       "             ... \n",
       "23.462915       1\n",
       "18.065817       1\n",
       "21.945380       1\n",
       "16.120699       1\n",
       "33.852953       1\n",
       "Name: count, Length: 1703, dtype: int64"
      ]
     },
     "execution_count": 9,
     "metadata": {},
     "output_type": "execute_result"
    }
   ],
   "source": [
    "df['Age'].value_counts()"
   ]
  },
  {
   "cell_type": "markdown",
   "metadata": {},
   "source": [
    "# * 각 칼럼에 대한 설명"
   ]
  },
  {
   "cell_type": "markdown",
   "metadata": {},
   "source": [
    "### **Gender**: \n",
    "- categorical variable that shows the biological sex of the individual (male or female).\n",
    "### **Age**: \n",
    "- numerical variable that shows the individual’s age in years.\n",
    "### **Height**: \n",
    "- numerical variable that shows the individuals’ height in meters.\n",
    "### **Weight**: \n",
    "- numerical variable that shows the individuals’ weight in kilograms.\n",
    "### **Family history of overweight**: \n",
    "- categorical variable that shows if the individual has a family member who is overweight or obese (yes or no).\n",
    "### **FAVC**  고칼로리 음식을 자주 섭취하는가?  -> yes/ no Frequently consumed high-calorie food (FAVC): \n",
    "- categorical variable that shows if the individual often eats high-calorie food \n",
    "- (yes or no).         \n",
    "### **FCVC**  야채를 자주 섭취하는가? -> 빈도 Frequency of consumption of vegetables (FCVC): \n",
    "- ordinal variable that shows how often the individual eats vegetables \n",
    "- (1 = never, 2 = sometimes, 3 = always).\n",
    "### **NCP** 메인 식사를 하루에 몇번 가지는가? -> 횟수 Number of main meals (NCP): \n",
    " - ordinal variable that shows how many main meals the individual has daily \n",
    " - (1 = between 1 and 2, 2 = three, 3 = more than three, 4 = no answer).                        \n",
    "### **CAEC**  식사와 식사 사이에 몇번 먹는가? -> 빈도 Consumption of food between meals (CAEC): \n",
    " - ordinal variable that shows how often the individual eats food between meals \n",
    " - (1 = no, 2 = sometimes, 3 = frequently, 4 = always).\n",
    " ### **SMOKE**  흡연 유무                        \n",
    " ### **CH2O** 물을 얼마나 마시는가? Consumption of water daily (CH2O): \n",
    " - ordinal variable that shows how much water the individual drinks daily \n",
    " - (1 = less than a liter, 2 = between 1 and 2 L, 3 = more than 2 L).                         \n",
    " ### **SCC** 칼로리를 확인하는가? -> yes / no Monitor calorie intake (SCC): \n",
    " - categorical variable that shows if the individual keeps track of their caloric intake \n",
    " - (yes or no).\n",
    " ### **FAF** 신체활동을 몇 번 하는가? -> 횟수 Frequency of physical activity (FAF): \n",
    " - ordinal variable that shows how often the individual does physical activity \n",
    " - (1 = never, 2 = once or twice a week, 3 = two or three times a week, 4 = four or five times a week).                           \n",
    " ### **TUE** 전자기기를 몇시간이나 사용하는가? Time using electronic devices (TUE): \n",
    " - ordinal variable that shows how long the individual uses electronic devices \n",
    " - (0 = none, 1 = less than an hour, 2 = between one and three hours, 3 = more than three hours).\n",
    " ### **CALC** 술은 얼마나 마시는가? Consumption of alcohol (CALC): \n",
    " - ordinal variable that shows how often the individual drinks alcohol \n",
    " - (1 = no, 2 = sometimes, 3 = frequently, 4 = always).\n",
    " ### **MTRANS** 교통수단은 뭘 이용하는가? Type of transportation used (MTRANS): \n",
    " - categorical variable that shows what kind of transportation the individual uses \n",
    " - (automobile, motorbike, bike, public transportation, walking).\n",
    " ### **NObeyesdad** : 비만유형"
   ]
  },
  {
   "cell_type": "markdown",
   "metadata": {},
   "source": [
    "# EDA"
   ]
  },
  {
   "cell_type": "code",
   "execution_count": 50,
   "metadata": {},
   "outputs": [
    {
     "data": {
      "text/plain": [
       "NObeyesdad\n",
       "Obesity_Type_III       4046\n",
       "Obesity_Type_II        3248\n",
       "Normal_Weight          3082\n",
       "Obesity_Type_I         2910\n",
       "Insufficient_Weight    2523\n",
       "Overweight_Level_II    2522\n",
       "Overweight_Level_I     2427\n",
       "Name: count, dtype: int64"
      ]
     },
     "execution_count": 50,
     "metadata": {},
     "output_type": "execute_result"
    }
   ],
   "source": [
    "df['NObeyesdad'].value_counts()"
   ]
  },
  {
   "cell_type": "code",
   "execution_count": 10,
   "metadata": {},
   "outputs": [
    {
     "data": {
      "text/plain": [
       "FAVC\n",
       "yes    18982\n",
       "no      1776\n",
       "Name: count, dtype: int64"
      ]
     },
     "execution_count": 10,
     "metadata": {},
     "output_type": "execute_result"
    }
   ],
   "source": [
    "df['FAVC'].value_counts()"
   ]
  },
  {
   "cell_type": "code",
   "execution_count": 11,
   "metadata": {},
   "outputs": [
    {
     "data": {
      "text/plain": [
       "FCVC\n",
       "3.000000    7658\n",
       "2.000000    7653\n",
       "1.000000     275\n",
       "2.967300     121\n",
       "2.766612      54\n",
       "            ... \n",
       "2.443674       1\n",
       "1.111887       1\n",
       "1.595746       1\n",
       "2.577427       1\n",
       "2.731368       1\n",
       "Name: count, Length: 934, dtype: int64"
      ]
     },
     "execution_count": 11,
     "metadata": {},
     "output_type": "execute_result"
    }
   ],
   "source": [
    "df['FCVC'].value_counts()\n",
    "# (1 = never, 2 = sometimes, 3 = always)."
   ]
  },
  {
   "cell_type": "code",
   "execution_count": 12,
   "metadata": {},
   "outputs": [
    {
     "name": "stdout",
     "output_type": "stream",
     "text": [
      "정수로 표시된 값들의 비율: 0.7508430484632431\n",
      "소수점으로 나와있는 값들의 비율: 0.24915695153675688\n"
     ]
    }
   ],
   "source": [
    "# 정수로 표시된 값들의 비율 계산\n",
    "integer_count = df['FCVC'].apply(lambda x: x.is_integer()).sum()\n",
    "total_count = len(df)\n",
    "integer_ratio = integer_count / total_count\n",
    "\n",
    "# 소수점으로 나와있는 값들의 비율 계산\n",
    "decimal_ratio = 1 - integer_ratio\n",
    "\n",
    "print(\"정수로 표시된 값들의 비율:\", integer_ratio)\n",
    "print(\"소수점으로 나와있는 값들의 비율:\", decimal_ratio)\n"
   ]
  },
  {
   "cell_type": "code",
   "execution_count": 13,
   "metadata": {},
   "outputs": [
    {
     "data": {
      "text/plain": [
       "NCP\n",
       "3.000000    14706\n",
       "1.000000     1976\n",
       "4.000000      715\n",
       "2.993623       39\n",
       "2.695396       25\n",
       "            ...  \n",
       "3.608850        1\n",
       "1.193486        1\n",
       "2.737620        1\n",
       "3.019574        1\n",
       "2.256119        1\n",
       "Name: count, Length: 689, dtype: int64"
      ]
     },
     "execution_count": 13,
     "metadata": {},
     "output_type": "execute_result"
    }
   ],
   "source": [
    "df['NCP'].value_counts()\n",
    "# (1 = between 1 and 2, 2 = three, 3 = more than three, 4 = no answer).  "
   ]
  },
  {
   "cell_type": "code",
   "execution_count": 14,
   "metadata": {},
   "outputs": [
    {
     "name": "stdout",
     "output_type": "stream",
     "text": [
      "정수로 표시된 값들의 비율: 0.8386164370363234\n",
      "소수점으로 나와있는 값들의 비율: 0.16138356296367662\n"
     ]
    }
   ],
   "source": [
    "# 정수로 표시된 값들의 비율 계산\n",
    "integer_count = df['NCP'].apply(lambda x: x.is_integer()).sum()\n",
    "total_count = len(df)\n",
    "integer_ratio = integer_count / total_count\n",
    "\n",
    "# 소수점으로 나와있는 값들의 비율 계산\n",
    "decimal_ratio = 1 - integer_ratio\n",
    "\n",
    "print(\"정수로 표시된 값들의 비율:\", integer_ratio)\n",
    "print(\"소수점으로 나와있는 값들의 비율:\", decimal_ratio)\n"
   ]
  },
  {
   "cell_type": "code",
   "execution_count": 15,
   "metadata": {},
   "outputs": [
    {
     "data": {
      "text/plain": [
       "CAEC\n",
       "Sometimes     17529\n",
       "Frequently     2472\n",
       "Always          478\n",
       "no              279\n",
       "Name: count, dtype: int64"
      ]
     },
     "execution_count": 15,
     "metadata": {},
     "output_type": "execute_result"
    }
   ],
   "source": [
    "df['CAEC'].value_counts()"
   ]
  },
  {
   "cell_type": "code",
   "execution_count": 16,
   "metadata": {},
   "outputs": [
    {
     "data": {
      "text/plain": [
       "SMOKE\n",
       "no     20513\n",
       "yes      245\n",
       "Name: count, dtype: int64"
      ]
     },
     "execution_count": 16,
     "metadata": {},
     "output_type": "execute_result"
    }
   ],
   "source": [
    "df['SMOKE'].value_counts()"
   ]
  },
  {
   "cell_type": "code",
   "execution_count": 17,
   "metadata": {},
   "outputs": [
    {
     "data": {
      "text/plain": [
       "CH2O\n",
       "2.000000    6616\n",
       "1.000000    2799\n",
       "3.000000    1571\n",
       "2.825629      77\n",
       "2.868167      60\n",
       "            ... \n",
       "2.835195       1\n",
       "2.632983       1\n",
       "2.090213       1\n",
       "2.756916       1\n",
       "1.365188       1\n",
       "Name: count, Length: 1506, dtype: int64"
      ]
     },
     "execution_count": 17,
     "metadata": {},
     "output_type": "execute_result"
    }
   ],
   "source": [
    "#(1 = less than a liter, 2 = between 1 and 2 L, 3 = more than 2 L).   \n",
    "df['CH2O'].value_counts()"
   ]
  },
  {
   "cell_type": "code",
   "execution_count": 18,
   "metadata": {},
   "outputs": [
    {
     "name": "stdout",
     "output_type": "stream",
     "text": [
      "정수로 표시된 값들의 비율: 0.5292417381250603\n",
      "소수점으로 나와있는 값들의 비율: 0.47075826187493974\n"
     ]
    }
   ],
   "source": [
    "# 정수로 표시된 값들의 비율 계산\n",
    "integer_count = df['CH2O'].apply(lambda x: x.is_integer()).sum()\n",
    "total_count = len(df)\n",
    "integer_ratio = integer_count / total_count\n",
    "\n",
    "# 소수점으로 나와있는 값들의 비율 계산\n",
    "decimal_ratio = 1 - integer_ratio\n",
    "\n",
    "print(\"정수로 표시된 값들의 비율:\", integer_ratio)\n",
    "print(\"소수점으로 나와있는 값들의 비율:\", decimal_ratio)"
   ]
  },
  {
   "cell_type": "code",
   "execution_count": 19,
   "metadata": {},
   "outputs": [
    {
     "data": {
      "text/plain": [
       "SCC\n",
       "no     20071\n",
       "yes      687\n",
       "Name: count, dtype: int64"
      ]
     },
     "execution_count": 19,
     "metadata": {},
     "output_type": "execute_result"
    }
   ],
   "source": [
    "df['SCC'].value_counts()"
   ]
  },
  {
   "cell_type": "code",
   "execution_count": 20,
   "metadata": {},
   "outputs": [
    {
     "data": {
      "text/plain": [
       "FAF\n",
       "0.000000    5044\n",
       "1.000000    4097\n",
       "2.000000    2391\n",
       "3.000000     800\n",
       "1.097905      56\n",
       "            ... \n",
       "1.706287       1\n",
       "0.675983       1\n",
       "1.923607       1\n",
       "1.320209       1\n",
       "0.988668       1\n",
       "Name: count, Length: 1360, dtype: int64"
      ]
     },
     "execution_count": 20,
     "metadata": {},
     "output_type": "execute_result"
    }
   ],
   "source": [
    "#(1 = never, 2 = once or twice a week, 3 = two or three times a week, 4 = four or five times a week).   \n",
    "df['FAF'].value_counts()"
   ]
  },
  {
   "cell_type": "code",
   "execution_count": 21,
   "metadata": {},
   "outputs": [
    {
     "name": "stdout",
     "output_type": "stream",
     "text": [
      "정수로 표시된 값들의 비율: 0.5940842084979285\n",
      "소수점으로 나와있는 값들의 비율: 0.40591579150207147\n"
     ]
    }
   ],
   "source": [
    "# 정수로 표시된 값들의 비율 계산\n",
    "integer_count = df['FAF'].apply(lambda x: x.is_integer()).sum()\n",
    "total_count = len(df)\n",
    "integer_ratio = integer_count / total_count\n",
    "\n",
    "# 소수점으로 나와있는 값들의 비율 계산\n",
    "decimal_ratio = 1 - integer_ratio\n",
    "\n",
    "print(\"정수로 표시된 값들의 비율:\", integer_ratio)\n",
    "print(\"소수점으로 나와있는 값들의 비율:\", decimal_ratio)"
   ]
  },
  {
   "cell_type": "code",
   "execution_count": 22,
   "metadata": {},
   "outputs": [
    {
     "data": {
      "text/plain": [
       "TUE\n",
       "0.000000    6566\n",
       "1.000000    4326\n",
       "2.000000    1133\n",
       "0.002600      78\n",
       "0.723154      65\n",
       "            ... \n",
       "1.223661       1\n",
       "0.057868       1\n",
       "0.236067       1\n",
       "0.073088       1\n",
       "0.768375       1\n",
       "Name: count, Length: 1297, dtype: int64"
      ]
     },
     "execution_count": 22,
     "metadata": {},
     "output_type": "execute_result"
    }
   ],
   "source": [
    "# (0 = none, 1 = less than an hour, 2 = between one and three hours, 3 = more than three hours).\n",
    "df['TUE'].value_counts()"
   ]
  },
  {
   "cell_type": "code",
   "execution_count": 23,
   "metadata": {},
   "outputs": [
    {
     "name": "stdout",
     "output_type": "stream",
     "text": [
      "정수로 표시된 값들의 비율: 0.5792947297427498\n",
      "소수점으로 나와있는 값들의 비율: 0.42070527025725024\n"
     ]
    }
   ],
   "source": [
    "# 정수로 표시된 값들의 비율 계산\n",
    "integer_count = df['TUE'].apply(lambda x: x.is_integer()).sum()\n",
    "total_count = len(df)\n",
    "integer_ratio = integer_count / total_count\n",
    "\n",
    "# 소수점으로 나와있는 값들의 비율 계산\n",
    "decimal_ratio = 1 - integer_ratio\n",
    "\n",
    "print(\"정수로 표시된 값들의 비율:\", integer_ratio)\n",
    "print(\"소수점으로 나와있는 값들의 비율:\", decimal_ratio)"
   ]
  },
  {
   "cell_type": "code",
   "execution_count": 24,
   "metadata": {},
   "outputs": [
    {
     "data": {
      "text/plain": [
       "CALC\n",
       "Sometimes     15066\n",
       "no             5163\n",
       "Frequently      529\n",
       "Name: count, dtype: int64"
      ]
     },
     "execution_count": 24,
     "metadata": {},
     "output_type": "execute_result"
    }
   ],
   "source": [
    "df['CALC'].value_counts()"
   ]
  },
  {
   "cell_type": "code",
   "execution_count": 25,
   "metadata": {},
   "outputs": [
    {
     "data": {
      "text/plain": [
       "MTRANS\n",
       "Public_Transportation    16687\n",
       "Automobile                3534\n",
       "Walking                    467\n",
       "Motorbike                   38\n",
       "Bike                        32\n",
       "Name: count, dtype: int64"
      ]
     },
     "execution_count": 25,
     "metadata": {},
     "output_type": "execute_result"
    }
   ],
   "source": [
    "df['MTRANS'].value_counts()"
   ]
  },
  {
   "cell_type": "code",
   "execution_count": 26,
   "metadata": {},
   "outputs": [
    {
     "data": {
      "text/plain": [
       "NObeyesdad\n",
       "Obesity_Type_III       4046\n",
       "Obesity_Type_II        3248\n",
       "Normal_Weight          3082\n",
       "Obesity_Type_I         2910\n",
       "Insufficient_Weight    2523\n",
       "Overweight_Level_II    2522\n",
       "Overweight_Level_I     2427\n",
       "Name: count, dtype: int64"
      ]
     },
     "execution_count": 26,
     "metadata": {},
     "output_type": "execute_result"
    }
   ],
   "source": [
    "df['NObeyesdad'].value_counts()"
   ]
  },
  {
   "cell_type": "markdown",
   "metadata": {},
   "source": [
    "# 상관관계 분석"
   ]
  },
  {
   "cell_type": "code",
   "execution_count": 28,
   "metadata": {},
   "outputs": [
    {
     "data": {
      "text/plain": [
       "Age\n",
       "18.000000    1916\n",
       "26.000000    1806\n",
       "21.000000    1643\n",
       "23.000000    1202\n",
       "19.000000     886\n",
       "             ... \n",
       "23.462915       1\n",
       "18.065817       1\n",
       "21.945380       1\n",
       "16.120699       1\n",
       "33.852953       1\n",
       "Name: count, Length: 1703, dtype: int64"
      ]
     },
     "execution_count": 28,
     "metadata": {},
     "output_type": "execute_result"
    }
   ],
   "source": [
    "df['Age'].value_counts()"
   ]
  },
  {
   "cell_type": "code",
   "execution_count": 29,
   "metadata": {},
   "outputs": [],
   "source": [
    "# Age 열을 소수점 이하 자릿수를 제거하여 정수로 변환\n",
    "df['Age'] = df['Age'].astype(int)"
   ]
  },
  {
   "cell_type": "code",
   "execution_count": 31,
   "metadata": {},
   "outputs": [
    {
     "data": {
      "text/plain": [
       "<Axes: >"
      ]
     },
     "execution_count": 31,
     "metadata": {},
     "output_type": "execute_result"
    },
    {
     "name": "stderr",
     "output_type": "stream",
     "text": [
      "findfont: Font family 'NanumSquareOTFRegular' not found.\n",
      "findfont: Font family 'Malgun Gothic' not found.\n",
      "findfont: Font family 'NanumSquareOTFRegular' not found.\n",
      "findfont: Font family 'Malgun Gothic' not found.\n",
      "findfont: Font family 'NanumSquareOTFRegular' not found.\n",
      "findfont: Font family 'Malgun Gothic' not found.\n",
      "findfont: Font family 'NanumSquareOTFRegular' not found.\n",
      "findfont: Font family 'Malgun Gothic' not found.\n",
      "findfont: Font family 'NanumSquareOTFRegular' not found.\n",
      "findfont: Font family 'Malgun Gothic' not found.\n",
      "findfont: Font family 'NanumSquareOTFRegular' not found.\n",
      "findfont: Font family 'Malgun Gothic' not found.\n",
      "findfont: Font family 'NanumSquareOTFRegular' not found.\n",
      "findfont: Font family 'Malgun Gothic' not found.\n",
      "findfont: Font family 'NanumSquareOTFRegular' not found.\n",
      "findfont: Font family 'Malgun Gothic' not found.\n",
      "findfont: Font family 'NanumSquareOTFRegular' not found.\n",
      "findfont: Font family 'Malgun Gothic' not found.\n",
      "findfont: Font family 'NanumSquareOTFRegular' not found.\n",
      "findfont: Font family 'Malgun Gothic' not found.\n",
      "findfont: Font family 'NanumSquareOTFRegular' not found.\n",
      "findfont: Font family 'Malgun Gothic' not found.\n",
      "findfont: Font family 'NanumSquareOTFRegular' not found.\n",
      "findfont: Font family 'Malgun Gothic' not found.\n",
      "findfont: Font family 'NanumSquareOTFRegular' not found.\n",
      "findfont: Font family 'Malgun Gothic' not found.\n",
      "findfont: Font family 'NanumSquareOTFRegular' not found.\n",
      "findfont: Font family 'Malgun Gothic' not found.\n",
      "findfont: Font family 'NanumSquareOTFRegular' not found.\n",
      "findfont: Font family 'Malgun Gothic' not found.\n",
      "findfont: Font family 'NanumSquareOTFRegular' not found.\n",
      "findfont: Font family 'Malgun Gothic' not found.\n",
      "findfont: Font family 'NanumSquareOTFRegular' not found.\n",
      "findfont: Font family 'Malgun Gothic' not found.\n",
      "findfont: Font family 'NanumSquareOTFRegular' not found.\n",
      "findfont: Font family 'Malgun Gothic' not found.\n",
      "findfont: Font family 'NanumSquareOTFRegular' not found.\n",
      "findfont: Font family 'Malgun Gothic' not found.\n",
      "findfont: Font family 'NanumSquareOTFRegular' not found.\n",
      "findfont: Font family 'Malgun Gothic' not found.\n",
      "findfont: Font family 'NanumSquareOTFRegular' not found.\n",
      "findfont: Font family 'Malgun Gothic' not found.\n",
      "findfont: Font family 'NanumSquareOTFRegular' not found.\n",
      "findfont: Font family 'Malgun Gothic' not found.\n",
      "findfont: Font family 'NanumSquareOTFRegular' not found.\n",
      "findfont: Font family 'Malgun Gothic' not found.\n",
      "findfont: Font family 'NanumSquareOTFRegular' not found.\n",
      "findfont: Font family 'Malgun Gothic' not found.\n",
      "findfont: Font family 'NanumSquareOTFRegular' not found.\n",
      "findfont: Font family 'Malgun Gothic' not found.\n",
      "findfont: Font family 'NanumSquareOTFRegular' not found.\n",
      "findfont: Font family 'Malgun Gothic' not found.\n",
      "findfont: Font family 'NanumSquareOTFRegular' not found.\n",
      "findfont: Font family 'Malgun Gothic' not found.\n",
      "findfont: Font family 'NanumSquareOTFRegular' not found.\n",
      "findfont: Font family 'Malgun Gothic' not found.\n",
      "findfont: Font family 'NanumSquareOTFRegular' not found.\n",
      "findfont: Font family 'Malgun Gothic' not found.\n",
      "findfont: Font family 'NanumSquareOTFRegular' not found.\n",
      "findfont: Font family 'Malgun Gothic' not found.\n",
      "findfont: Font family 'NanumSquareOTFRegular' not found.\n",
      "findfont: Font family 'Malgun Gothic' not found.\n",
      "findfont: Font family 'NanumSquareOTFRegular' not found.\n",
      "findfont: Font family 'Malgun Gothic' not found.\n",
      "findfont: Font family 'NanumSquareOTFRegular' not found.\n",
      "findfont: Font family 'Malgun Gothic' not found.\n",
      "findfont: Font family 'NanumSquareOTFRegular' not found.\n",
      "findfont: Font family 'Malgun Gothic' not found.\n",
      "findfont: Font family 'NanumSquareOTFRegular' not found.\n",
      "findfont: Font family 'Malgun Gothic' not found.\n",
      "findfont: Font family 'NanumSquareOTFRegular' not found.\n",
      "findfont: Font family 'Malgun Gothic' not found.\n",
      "findfont: Font family 'NanumSquareOTFRegular' not found.\n",
      "findfont: Font family 'Malgun Gothic' not found.\n",
      "findfont: Font family 'NanumSquareOTFRegular' not found.\n",
      "findfont: Font family 'Malgun Gothic' not found.\n",
      "findfont: Font family 'NanumSquareOTFRegular' not found.\n",
      "findfont: Font family 'Malgun Gothic' not found.\n",
      "findfont: Font family 'NanumSquareOTFRegular' not found.\n",
      "findfont: Font family 'Malgun Gothic' not found.\n",
      "findfont: Font family 'NanumSquareOTFRegular' not found.\n",
      "findfont: Font family 'Malgun Gothic' not found.\n",
      "findfont: Font family 'NanumSquareOTFRegular' not found.\n",
      "findfont: Font family 'Malgun Gothic' not found.\n"
     ]
    },
    {
     "data": {
      "image/png": "[encoded data removed]",
      "text/plain": [
       "<Figure size 640x480 with 1 Axes>"
      ]
     },
     "metadata": {},
     "output_type": "display_data"
    }
   ],
   "source": [
    "df['Age'].hist()"
   ]
  },
  {
   "cell_type": "code",
   "execution_count": 32,
   "metadata": {},
   "outputs": [
    {
     "data": {
      "text/plain": [
       "id     Gender  Age  Height    Weight      family_history_with_overweight  FAVC  FCVC      NCP       CAEC       SMOKE  CH2O      SCC  FAF       TUE       CALC       MTRANS                 NObeyesdad         \n",
       "0      Male    24   1.699998  81.669950   yes                             yes   2.000000  2.983297  Sometimes  no     2.763573  no   0.000000  0.976473  Sometimes  Public_Transportation  Overweight_Level_II    1\n",
       "13826  Male    21   1.697421  100.431625  yes                             yes   2.000000  1.627555  Sometimes  no     1.000000  no   1.000000  0.460866  Sometimes  Public_Transportation  Obesity_Type_I         1\n",
       "13844  Female  16   1.691206  82.000000   yes                             yes   2.668890  1.680838  Sometimes  no     1.876915  no   0.130417  1.796136  Sometimes  Public_Transportation  Obesity_Type_I         1\n",
       "13843  Female  21   1.735810  131.042274  yes                             yes   3.000000  3.000000  Sometimes  no     1.650612  no   1.645532  0.912187  Sometimes  Public_Transportation  Obesity_Type_III       1\n",
       "13842  Female  27   1.677573  77.493596   yes                             yes   3.000000  3.000000  Sometimes  no     1.968011  no   0.908981  0.753077  Sometimes  Public_Transportation  Overweight_Level_II    1\n",
       "                                                                                                                                                                                                                 ..\n",
       "6917   Female  21   1.766888  131.335786  yes                             yes   3.000000  3.000000  Sometimes  no     1.959777  no   1.931173  0.893514  Sometimes  Public_Transportation  Obesity_Type_III       1\n",
       "6916   Male    22   1.872517  91.052215   yes                             yes   2.000000  1.010319  Sometimes  no     1.011849  no   0.000000  0.453404  Sometimes  Public_Transportation  Obesity_Type_I         1\n",
       "6915   Female  22   1.720000  82.000000   yes                             yes   2.607747  2.870661  Sometimes  no     1.005367  no   1.000000  0.000000  Sometimes  Public_Transportation  Obesity_Type_I         1\n",
       "6914   Male    40   1.735851  109.889334  yes                             yes   2.522183  3.000000  Sometimes  no     1.144539  no   0.854957  0.000000  Sometimes  Automobile             Obesity_Type_II        1\n",
       "20757  Male    26   1.816547  118.134898  yes                             yes   3.000000  3.000000  Sometimes  no     2.003563  no   0.684487  0.713823  Sometimes  Public_Transportation  Obesity_Type_II        1\n",
       "Name: count, Length: 20758, dtype: int64"
      ]
     },
     "execution_count": 32,
     "metadata": {},
     "output_type": "execute_result"
    }
   ],
   "source": [
    "df.value_counts()"
   ]
  },
  {
   "cell_type": "code",
   "execution_count": 33,
   "metadata": {},
   "outputs": [
    {
     "data": {
      "text/plain": [
       "Height\n",
       "1.700000    1334\n",
       "1.650000     782\n",
       "1.600000     672\n",
       "1.750000     659\n",
       "1.800000     517\n",
       "            ... \n",
       "1.631456       1\n",
       "1.753471       1\n",
       "1.782521       1\n",
       "1.930416       1\n",
       "1.536819       1\n",
       "Name: count, Length: 1833, dtype: int64"
      ]
     },
     "execution_count": 33,
     "metadata": {},
     "output_type": "execute_result"
    }
   ],
   "source": [
    "df['Height'].value_counts()"
   ]
  },
  {
   "cell_type": "code",
   "execution_count": 34,
   "metadata": {},
   "outputs": [],
   "source": [
    "df['Height'] = df['Height'].round(2)"
   ]
  },
  {
   "cell_type": "code",
   "execution_count": 35,
   "metadata": {},
   "outputs": [
    {
     "data": {
      "text/plain": [
       "Height\n",
       "1.70    1775\n",
       "1.75    1445\n",
       "1.62    1096\n",
       "1.65    1037\n",
       "1.63     998\n",
       "1.64     932\n",
       "1.60     900\n",
       "1.76     865\n",
       "1.72     834\n",
       "1.77     722\n",
       "1.80     698\n",
       "1.74     681\n",
       "1.78     576\n",
       "1.71     555\n",
       "1.79     549\n",
       "1.61     526\n",
       "1.67     471\n",
       "1.68     456\n",
       "1.66     455\n",
       "1.85     443\n",
       "1.82     410\n",
       "1.56     399\n",
       "1.69     389\n",
       "1.83     385\n",
       "1.73     365\n",
       "1.84     333\n",
       "1.55     275\n",
       "1.81     230\n",
       "1.57     216\n",
       "1.59     214\n",
       "1.87     205\n",
       "1.58     199\n",
       "1.50     175\n",
       "1.53     160\n",
       "1.52     159\n",
       "1.54     142\n",
       "1.86     137\n",
       "1.91     101\n",
       "1.88      55\n",
       "1.51      54\n",
       "1.90      37\n",
       "1.89      29\n",
       "1.92      25\n",
       "1.93      16\n",
       "1.48      12\n",
       "1.49       5\n",
       "1.98       4\n",
       "1.94       4\n",
       "1.95       4\n",
       "1.46       3\n",
       "1.45       2\n",
       "Name: count, dtype: int64"
      ]
     },
     "execution_count": 35,
     "metadata": {},
     "output_type": "execute_result"
    }
   ],
   "source": [
    "df['Height'].value_counts()"
   ]
  },
  {
   "cell_type": "code",
   "execution_count": 36,
   "metadata": {},
   "outputs": [
    {
     "data": {
      "text/plain": [
       "id     Gender  Age  Height  Weight      family_history_with_overweight  FAVC  FCVC      NCP       CAEC       SMOKE  CH2O      SCC  FAF       TUE       CALC       MTRANS                 NObeyesdad         \n",
       "0      Male    24   1.70    81.669950   yes                             yes   2.000000  2.983297  Sometimes  no     2.763573  no   0.000000  0.976473  Sometimes  Public_Transportation  Overweight_Level_II    1\n",
       "13826  Male    21   1.70    100.431625  yes                             yes   2.000000  1.627555  Sometimes  no     1.000000  no   1.000000  0.460866  Sometimes  Public_Transportation  Obesity_Type_I         1\n",
       "13844  Female  16   1.69    82.000000   yes                             yes   2.668890  1.680838  Sometimes  no     1.876915  no   0.130417  1.796136  Sometimes  Public_Transportation  Obesity_Type_I         1\n",
       "13843  Female  21   1.74    131.042274  yes                             yes   3.000000  3.000000  Sometimes  no     1.650612  no   1.645532  0.912187  Sometimes  Public_Transportation  Obesity_Type_III       1\n",
       "13842  Female  27   1.68    77.493596   yes                             yes   3.000000  3.000000  Sometimes  no     1.968011  no   0.908981  0.753077  Sometimes  Public_Transportation  Overweight_Level_II    1\n",
       "                                                                                                                                                                                                               ..\n",
       "6917   Female  21   1.77    131.335786  yes                             yes   3.000000  3.000000  Sometimes  no     1.959777  no   1.931173  0.893514  Sometimes  Public_Transportation  Obesity_Type_III       1\n",
       "6916   Male    22   1.87    91.052215   yes                             yes   2.000000  1.010319  Sometimes  no     1.011849  no   0.000000  0.453404  Sometimes  Public_Transportation  Obesity_Type_I         1\n",
       "6915   Female  22   1.72    82.000000   yes                             yes   2.607747  2.870661  Sometimes  no     1.005367  no   1.000000  0.000000  Sometimes  Public_Transportation  Obesity_Type_I         1\n",
       "6914   Male    40   1.74    109.889334  yes                             yes   2.522183  3.000000  Sometimes  no     1.144539  no   0.854957  0.000000  Sometimes  Automobile             Obesity_Type_II        1\n",
       "20757  Male    26   1.82    118.134898  yes                             yes   3.000000  3.000000  Sometimes  no     2.003563  no   0.684487  0.713823  Sometimes  Public_Transportation  Obesity_Type_II        1\n",
       "Name: count, Length: 20758, dtype: int64"
      ]
     },
     "execution_count": 36,
     "metadata": {},
     "output_type": "execute_result"
    }
   ],
   "source": [
    "df.value_counts()"
   ]
  },
  {
   "cell_type": "code",
   "execution_count": 37,
   "metadata": {},
   "outputs": [],
   "source": [
    "df['Weight'] = df['Weight'].astype(int)"
   ]
  },
  {
   "cell_type": "code",
   "execution_count": 46,
   "metadata": {},
   "outputs": [],
   "source": [
    "df.drop(columns=['BMI'], inplace=True)"
   ]
  },
  {
   "cell_type": "code",
   "execution_count": 47,
   "metadata": {},
   "outputs": [
    {
     "data": {
      "text/plain": [
       "Index(['id', 'Gender', 'Age', 'Height', 'Weight',\n",
       "       'family_history_with_overweight', 'FAVC', 'FCVC', 'NCP', 'CAEC',\n",
       "       'SMOKE', 'CH2O', 'SCC', 'FAF', 'TUE', 'CALC', 'MTRANS', 'NObeyesdad'],\n",
       "      dtype='object')"
      ]
     },
     "execution_count": 47,
     "metadata": {},
     "output_type": "execute_result"
    }
   ],
   "source": [
    "df.columns"
   ]
  },
  {
   "cell_type": "code",
   "execution_count": 41,
   "metadata": {},
   "outputs": [
    {
     "data": {
      "text/plain": [
       "id     Gender  Age  Height  Weight  family_history_with_overweight  FAVC  FCVC      NCP       CAEC       SMOKE  CH2O      SCC  FAF       TUE       CALC       MTRANS                 NObeyesdad         \n",
       "0      Male    24   1.70    81      yes                             yes   2.000000  2.983297  Sometimes  no     2.763573  no   0.000000  0.976473  Sometimes  Public_Transportation  Overweight_Level_II    1\n",
       "13826  Male    21   1.70    100     yes                             yes   2.000000  1.627555  Sometimes  no     1.000000  no   1.000000  0.460866  Sometimes  Public_Transportation  Obesity_Type_I         1\n",
       "13844  Female  16   1.69    82      yes                             yes   2.668890  1.680838  Sometimes  no     1.876915  no   0.130417  1.796136  Sometimes  Public_Transportation  Obesity_Type_I         1\n",
       "13843  Female  21   1.74    131     yes                             yes   3.000000  3.000000  Sometimes  no     1.650612  no   1.645532  0.912187  Sometimes  Public_Transportation  Obesity_Type_III       1\n",
       "13842  Female  27   1.68    77      yes                             yes   3.000000  3.000000  Sometimes  no     1.968011  no   0.908981  0.753077  Sometimes  Public_Transportation  Overweight_Level_II    1\n",
       "                                                                                                                                                                                                           ..\n",
       "6917   Female  21   1.77    131     yes                             yes   3.000000  3.000000  Sometimes  no     1.959777  no   1.931173  0.893514  Sometimes  Public_Transportation  Obesity_Type_III       1\n",
       "6916   Male    22   1.87    91      yes                             yes   2.000000  1.010319  Sometimes  no     1.011849  no   0.000000  0.453404  Sometimes  Public_Transportation  Obesity_Type_I         1\n",
       "6915   Female  22   1.72    82      yes                             yes   2.607747  2.870661  Sometimes  no     1.005367  no   1.000000  0.000000  Sometimes  Public_Transportation  Obesity_Type_I         1\n",
       "6914   Male    40   1.74    109     yes                             yes   2.522183  3.000000  Sometimes  no     1.144539  no   0.854957  0.000000  Sometimes  Automobile             Obesity_Type_II        1\n",
       "20757  Male    26   1.82    118     yes                             yes   3.000000  3.000000  Sometimes  no     2.003563  no   0.684487  0.713823  Sometimes  Public_Transportation  Obesity_Type_II        1\n",
       "Name: count, Length: 20758, dtype: int64"
      ]
     },
     "execution_count": 41,
     "metadata": {},
     "output_type": "execute_result"
    }
   ],
   "source": [
    "df.value_counts()"
   ]
  },
  {
   "cell_type": "code",
   "execution_count": 48,
   "metadata": {},
   "outputs": [],
   "source": [
    "# BMI를 계산하여 새로운 열로 추가\n",
    "df['BMI'] = (df['Weight'] / (df['Height'] ** 2)).round(1)"
   ]
  },
  {
   "cell_type": "code",
   "execution_count": 49,
   "metadata": {},
   "outputs": [
    {
     "data": {
      "text/plain": [
       "BMI\n",
       "41.3    477\n",
       "43.4    319\n",
       "27.7    315\n",
       "41.8    295\n",
       "29.4    293\n",
       "       ... \n",
       "49.2      1\n",
       "15.0      1\n",
       "50.8      1\n",
       "52.1      1\n",
       "47.5      1\n",
       "Name: count, Length: 374, dtype: int64"
      ]
     },
     "execution_count": 49,
     "metadata": {},
     "output_type": "execute_result"
    }
   ],
   "source": [
    "df['BMI'].value_counts()"
   ]
  },
  {
   "cell_type": "code",
   "execution_count": 53,
   "metadata": {},
   "outputs": [
    {
     "name": "stdout",
     "output_type": "stream",
     "text": [
      "NObeyesdad\n",
      "Insufficient_Weight    2210\n",
      "Normal_Weight           158\n",
      "Overweight_Level_I       12\n",
      "Obesity_Type_I            3\n",
      "Obesity_Type_III          1\n",
      "Name: count, dtype: int64\n"
     ]
    }
   ],
   "source": [
    "bmi_18_5 = df[df['BMI'] < 18.5]\n",
    "print(bmi_18_5['NObeyesdad'].value_counts())"
   ]
  },
  {
   "cell_type": "code",
   "execution_count": 56,
   "metadata": {},
   "outputs": [
    {
     "name": "stdout",
     "output_type": "stream",
     "text": [
      "NObeyesdad\n",
      "Normal_Weight          2747\n",
      "Overweight_Level_I      402\n",
      "Insufficient_Weight     301\n",
      "Overweight_Level_II      73\n",
      "Obesity_Type_I            9\n",
      "Obesity_Type_II           2\n",
      "Name: count, dtype: int64\n"
     ]
    }
   ],
   "source": [
    "bmi_18_5 = df[(df['BMI'] >= 18.5) & (df['BMI'] <= 24.9)]\n",
    "print(bmi_18_5['NObeyesdad'].value_counts())\n"
   ]
  },
  {
   "cell_type": "code",
   "execution_count": 59,
   "metadata": {},
   "outputs": [
    {
     "name": "stdout",
     "output_type": "stream",
     "text": [
      "NObeyesdad\n",
      "Overweight_Level_II    2201\n",
      "Overweight_Level_I     1966\n",
      "Obesity_Type_I          373\n",
      "Normal_Weight           172\n",
      "Obesity_Type_II          35\n",
      "Insufficient_Weight      11\n",
      "Obesity_Type_III          3\n",
      "Name: count, dtype: int64\n"
     ]
    }
   ],
   "source": [
    "bmi_18_5 = df[(df['BMI'] >=25.0) & (df['BMI'] <= 29.9)]\n",
    "print(bmi_18_5['NObeyesdad'].value_counts())"
   ]
  },
  {
   "cell_type": "code",
   "execution_count": 58,
   "metadata": {},
   "outputs": [
    {
     "name": "stdout",
     "output_type": "stream",
     "text": [
      "NObeyesdad\n",
      "Obesity_Type_III       0.194913\n",
      "Obesity_Type_II        0.156470\n",
      "Normal_Weight          0.148473\n",
      "Obesity_Type_I         0.140187\n",
      "Insufficient_Weight    0.121544\n",
      "Overweight_Level_II    0.121495\n",
      "Overweight_Level_I     0.116919\n",
      "Name: count, dtype: float64\n"
     ]
    }
   ],
   "source": [
    "#비교적 고르게 분포되어 있다. \n",
    "# 각 비만도별 횟수 계산\n",
    "obesity_counts = df['NObeyesdad'].value_counts()\n",
    "\n",
    "# 전체 행의 수 계산\n",
    "total_samples = len(df)\n",
    "\n",
    "# 각 비만도별 비율 계산\n",
    "obesity_ratios = obesity_counts / total_samples\n",
    "\n",
    "# 결과 출력\n",
    "print(obesity_ratios)\n"
   ]
  },
  {
   "cell_type": "code",
   "execution_count": 63,
   "metadata": {},
   "outputs": [
    {
     "name": "stdout",
     "output_type": "stream",
     "text": [
      "<class 'pandas.core.frame.DataFrame'>\n",
      "RangeIndex: 20758 entries, 0 to 20757\n",
      "Data columns (total 19 columns):\n",
      " #   Column                          Non-Null Count  Dtype  \n",
      "---  ------                          --------------  -----  \n",
      " 0   id                              20758 non-null  int64  \n",
      " 1   Gender                          20758 non-null  object \n",
      " 2   Age                             20758 non-null  int64  \n",
      " 3   Height                          20758 non-null  float64\n",
      " 4   Weight                          20758 non-null  int64  \n",
      " 5   family_history_with_overweight  20758 non-null  object \n",
      " 6   FAVC                            20758 non-null  object \n",
      " 7   FCVC                            20758 non-null  float64\n",
      " 8   NCP                             20758 non-null  float64\n",
      " 9   CAEC                            20758 non-null  object \n",
      " 10  SMOKE                           20758 non-null  object \n",
      " 11  CH2O                            20758 non-null  float64\n",
      " 12  SCC                             20758 non-null  object \n",
      " 13  FAF                             20758 non-null  float64\n",
      " 14  TUE                             20758 non-null  float64\n",
      " 15  CALC                            20758 non-null  object \n",
      " 16  MTRANS                          20758 non-null  object \n",
      " 17  NObeyesdad                      20758 non-null  object \n",
      " 18  BMI                             20758 non-null  float64\n",
      "dtypes: float64(7), int64(3), object(9)\n",
      "memory usage: 3.0+ MB\n"
     ]
    }
   ],
   "source": [
    "df.info()"
   ]
  },
  {
   "cell_type": "code",
   "execution_count": 64,
   "metadata": {},
   "outputs": [
    {
     "name": "stdout",
     "output_type": "stream",
     "text": [
      "Chi-square value: 216.3006126923555\n",
      "p-value: 6.396981747148517e-44\n",
      "Degrees of freedom: 6\n",
      "Expected frequencies table:\n",
      "[[2493.22184218 3045.62414491 2875.65420561 3209.66490028 3998.24636285\n",
      "  2398.35489932 2492.23364486]\n",
      " [  29.77815782   36.37585509   34.34579439   38.33509972   47.75363715\n",
      "    28.64510068   29.76635514]]\n"
     ]
    }
   ],
   "source": [
    "from scipy.stats import chi2_contingency\n",
    "\n",
    "# 'Age'와 'NObesity' 간의 관계를 카이제곱 검정으로 분석\n",
    "crosstab = pd.crosstab(df['SMOKE'], df['NObeyesdad'])\n",
    "chi2, p, dof, expected = chi2_contingency(crosstab)\n",
    "\n",
    "# 결과 출력\n",
    "print(\"Chi-square value:\", chi2)\n",
    "print(\"p-value:\", p)\n",
    "print(\"Degrees of freedom:\", dof)\n",
    "print(\"Expected frequencies table:\")\n",
    "print(expected)\n",
    "\n"
   ]
  },
  {
   "cell_type": "code",
   "execution_count": 66,
   "metadata": {},
   "outputs": [
    {
     "name": "stdout",
     "output_type": "stream",
     "text": [
      "Chi-square value: 6423.317090815157\n",
      "p-value: 0.0\n",
      "Degrees of freedom: 6\n",
      "Expected frequencies table:\n",
      "[[ 455.05886887  555.88245496  524.85981308  585.82291165  729.7535408\n",
      "   437.74390596  454.87850467]\n",
      " [2067.94113113 2526.11754504 2385.14018692 2662.17708835 3316.2464592\n",
      "  1989.25609404 2067.12149533]]\n"
     ]
    }
   ],
   "source": [
    "from scipy.stats import chi2_contingency\n",
    "\n",
    "# 'Age'와 'NObesity' 간의 관계를 카이제곱 검정으로 분석\n",
    "crosstab = pd.crosstab(df['family_history_with_overweight'], df['NObeyesdad'])\n",
    "chi2, p, dof, expected = chi2_contingency(crosstab)\n",
    "\n",
    "# 결과 출력\n",
    "print(\"Chi-square value:\", chi2)\n",
    "print(\"p-value:\", p)\n",
    "print(\"Degrees of freedom:\", dof)\n",
    "print(\"Expected frequencies table:\")\n",
    "print(expected)\n",
    "\n"
   ]
  },
  {
   "cell_type": "code",
   "execution_count": 68,
   "metadata": {},
   "outputs": [
    {
     "name": "stdout",
     "output_type": "stream",
     "text": [
      "Chi-square value: 2349.082567778232\n",
      "p-value: 0.0\n",
      "Degrees of freedom: 24\n",
      "Expected frequencies table:\n",
      "[[ 429.5347336   524.70315059  495.42056075  552.96425475  688.82185182\n",
      "   413.19096252  429.36448598]\n",
      " [   3.88939204    4.75113209    4.48598131    5.00703343    6.23720975\n",
      "     3.74140091    3.88785047]\n",
      " [   4.61865305    5.64196936    5.3271028     5.9458522     7.40668658\n",
      "     4.44291358    4.61682243]\n",
      " [2028.1964062  2477.56691396 2339.29906542 2611.01146546 3252.50997206\n",
      "  1951.02365353 2027.39252336]\n",
      " [  56.76081511   69.33683399   65.46728972   73.07139416   91.0242798\n",
      "    54.60106947   56.73831776]]\n"
     ]
    }
   ],
   "source": [
    "from scipy.stats import chi2_contingency\n",
    "\n",
    "# 'Age'와 'NObesity' 간의 관계를 카이제곱 검정으로 분석\n",
    "crosstab = pd.crosstab(df['MTRANS'], df['NObeyesdad'])\n",
    "chi2, p, dof, expected = chi2_contingency(crosstab)\n",
    "\n",
    "# 결과 출력\n",
    "print(\"Chi-square value:\", chi2)\n",
    "print(\"p-value:\", p)\n",
    "print(\"Degrees of freedom:\", dof)\n",
    "print(\"Expected frequencies table:\")\n",
    "print(expected)\n",
    "\n"
   ]
  },
  {
   "cell_type": "code",
   "execution_count": 71,
   "metadata": {},
   "outputs": [
    {
     "name": "stdout",
     "output_type": "stream",
     "text": [
      "<class 'pandas.core.frame.DataFrame'>\n",
      "RangeIndex: 20758 entries, 0 to 20757\n",
      "Data columns (total 19 columns):\n",
      " #   Column                          Non-Null Count  Dtype  \n",
      "---  ------                          --------------  -----  \n",
      " 0   id                              20758 non-null  int64  \n",
      " 1   Gender                          20758 non-null  object \n",
      " 2   Age                             20758 non-null  int64  \n",
      " 3   Height                          20758 non-null  float64\n",
      " 4   Weight                          20758 non-null  int64  \n",
      " 5   family_history_with_overweight  20758 non-null  object \n",
      " 6   FAVC                            20758 non-null  object \n",
      " 7   FCVC                            20758 non-null  float64\n",
      " 8   NCP                             20758 non-null  float64\n",
      " 9   CAEC                            20758 non-null  object \n",
      " 10  SMOKE                           20758 non-null  object \n",
      " 11  CH2O                            20758 non-null  float64\n",
      " 12  SCC                             20758 non-null  object \n",
      " 13  FAF                             20758 non-null  float64\n",
      " 14  TUE                             20758 non-null  float64\n",
      " 15  CALC                            20758 non-null  object \n",
      " 16  MTRANS                          20758 non-null  object \n",
      " 17  NObeyesdad                      20758 non-null  object \n",
      " 18  BMI                             20758 non-null  float64\n",
      "dtypes: float64(7), int64(3), object(9)\n",
      "memory usage: 3.0+ MB\n"
     ]
    }
   ],
   "source": [
    "df.info()"
   ]
  },
  {
   "cell_type": "code",
   "execution_count": 72,
   "metadata": {},
   "outputs": [
    {
     "name": "stdout",
     "output_type": "stream",
     "text": [
      "Chi-square value for Gender vs NObeyesdad: 7953.767544285371\n",
      "p-value for Gender vs NObeyesdad: 0.0\n",
      "\n",
      "Chi-square value for family_history_with_overweight vs NObeyesdad: 6423.317090815157\n",
      "p-value for family_history_with_overweight vs NObeyesdad: 0.0\n",
      "\n",
      "Chi-square value for FAVC vs NObeyesdad: 1553.6297505782907\n",
      "p-value for FAVC vs NObeyesdad: 0.0\n",
      "\n",
      "Chi-square value for CAEC vs NObeyesdad: 6897.329566047414\n",
      "p-value for CAEC vs NObeyesdad: 0.0\n",
      "\n",
      "Chi-square value for SMOKE vs NObeyesdad: 216.3006126923555\n",
      "p-value for SMOKE vs NObeyesdad: 6.396981747148517e-44\n",
      "\n",
      "Chi-square value for SCC vs NObeyesdad: 1024.7984666527484\n",
      "p-value for SCC vs NObeyesdad: 3.870102954479357e-218\n",
      "\n",
      "Chi-square value for CALC vs NObeyesdad: 4013.082706081725\n",
      "p-value for CALC vs NObeyesdad: 0.0\n",
      "\n"
     ]
    }
   ],
   "source": [
    "from scipy.stats import chi2_contingency\n",
    "\n",
    "# 변수들을 포함한 데이터프레임 준비\n",
    "variables = ['Gender', 'family_history_with_overweight', 'FAVC', 'CAEC', 'SMOKE', 'SCC', 'CALC', 'NObeyesdad']\n",
    "df_selected = df[variables]\n",
    "\n",
    "# 각 변수들 간의 교차표 생성 및 카이제곱 검정 수행\n",
    "for variable in variables[:-1]:  # 마지막 변수인 'NObeyesdad'는 타겟 변수이므로 제외\n",
    "    crosstab = pd.crosstab(df_selected[variable], df_selected['NObeyesdad'])\n",
    "    chi2, p, dof, expected = chi2_contingency(crosstab)\n",
    "    print(f\"Chi-square value for {variable} vs NObeyesdad:\", chi2)\n",
    "    print(f\"p-value for {variable} vs NObeyesdad:\", p)\n",
    "    print()\n"
   ]
  },
  {
   "cell_type": "code",
   "execution_count": 73,
   "metadata": {},
   "outputs": [
    {
     "name": "stdout",
     "output_type": "stream",
     "text": [
      "                         Variable  Chi-square value        p-value\n",
      "0                          Gender       7953.767544   0.000000e+00\n",
      "1  family_history_with_overweight       6423.317091   0.000000e+00\n",
      "2                            FAVC       1553.629751   0.000000e+00\n",
      "3                            CAEC       6897.329566   0.000000e+00\n",
      "4                           SMOKE        216.300613   6.396982e-44\n",
      "5                             SCC       1024.798467  3.870103e-218\n",
      "6                            CALC       4013.082706   0.000000e+00\n"
     ]
    }
   ],
   "source": [
    "import pandas as pd\n",
    "from scipy.stats import chi2_contingency\n",
    "\n",
    "# 변수들을 포함한 데이터프레임 준비\n",
    "variables = ['Gender', 'family_history_with_overweight', 'FAVC', 'CAEC', 'SMOKE', 'SCC', 'CALC', 'NObeyesdad']\n",
    "df_selected = df[variables]\n",
    "\n",
    "# 결과를 저장할 빈 리스트 생성\n",
    "results = []\n",
    "\n",
    "# 각 변수들 간의 교차표 생성 및 카이제곱 검정 수행\n",
    "for variable in variables[:-1]:  # 마지막 변수인 'NObeyesdad'는 타겟 변수이므로 제외\n",
    "    crosstab = pd.crosstab(df_selected[variable], df_selected['NObeyesdad'])\n",
    "    chi2, p, dof, expected = chi2_contingency(crosstab)\n",
    "    results.append({'Variable': variable, 'Chi-square value': chi2, 'p-value': p})\n",
    "\n",
    "# 결과를 DataFrame으로 변환하여 출력\n",
    "results_df = pd.DataFrame(results)\n",
    "print(results_df)\n"
   ]
  },
  {
   "cell_type": "code",
   "execution_count": 74,
   "metadata": {},
   "outputs": [
    {
     "name": "stdout",
     "output_type": "stream",
     "text": [
      "Cramer's V value: NObeyesdad\n",
      "Insufficient_Weight    0.292799\n",
      "Normal_Weight          0.264919\n",
      "Obesity_Type_I         0.272635\n",
      "Obesity_Type_II        0.258060\n",
      "Obesity_Type_III       0.231215\n",
      "Overweight_Level_I     0.298534\n",
      "Overweight_Level_II    0.292857\n",
      "dtype: float64\n"
     ]
    }
   ],
   "source": [
    "import numpy as np\n",
    "from scipy.stats import chi2_contingency\n",
    "import pandas as pd\n",
    "\n",
    "def cramers_v(confusion_matrix):\n",
    "    chi2 = chi2_contingency(confusion_matrix)[0]\n",
    "    n = confusion_matrix.sum()\n",
    "    r, c = confusion_matrix.shape\n",
    "    v = np.sqrt(chi2 / (n * min(r-1, c-1)))\n",
    "    return v\n",
    "\n",
    "# 교차표 생성\n",
    "confusion_matrix = pd.crosstab(df['SMOKE'], df['NObeyesdad'])\n",
    "\n",
    "# Cramer's V 값 계산\n",
    "v = cramers_v(confusion_matrix)\n",
    "print(\"Cramer's V value:\", v)\n"
   ]
  },
  {
   "cell_type": "code",
   "execution_count": 75,
   "metadata": {},
   "outputs": [
    {
     "name": "stdout",
     "output_type": "stream",
     "text": [
      "Cramer's V value: NObeyesdad\n",
      "Insufficient_Weight    1.775529\n",
      "Normal_Weight          1.606461\n",
      "Obesity_Type_I         1.653255\n",
      "Obesity_Type_II        1.564871\n",
      "Obesity_Type_III       1.402082\n",
      "Overweight_Level_I     1.810304\n",
      "Overweight_Level_II    1.775881\n",
      "dtype: float64\n"
     ]
    }
   ],
   "source": [
    "import numpy as np\n",
    "from scipy.stats import chi2_contingency\n",
    "import pandas as pd\n",
    "\n",
    "def cramers_v(confusion_matrix):\n",
    "    chi2 = chi2_contingency(confusion_matrix)[0]\n",
    "    n = confusion_matrix.sum()\n",
    "    r, c = confusion_matrix.shape\n",
    "    v = np.sqrt(chi2 / (n * min(r-1, c-1)))\n",
    "    return v\n",
    "\n",
    "# 교차표 생성\n",
    "confusion_matrix = pd.crosstab(df['Gender'], df['NObeyesdad'])\n",
    "\n",
    "# Cramer's V 값 계산\n",
    "v = cramers_v(confusion_matrix)\n",
    "print(\"Cramer's V value:\", v)\n"
   ]
  },
  {
   "cell_type": "code",
   "execution_count": 76,
   "metadata": {},
   "outputs": [
    {
     "name": "stdout",
     "output_type": "stream",
     "text": [
      "Cramer's V value: NObeyesdad\n",
      "Insufficient_Weight    1.595589\n",
      "Normal_Weight          1.443655\n",
      "Obesity_Type_I         1.485707\n",
      "Obesity_Type_II        1.406280\n",
      "Obesity_Type_III       1.259989\n",
      "Overweight_Level_I     1.626840\n",
      "Overweight_Level_II    1.595905\n",
      "dtype: float64\n"
     ]
    }
   ],
   "source": [
    "import numpy as np\n",
    "from scipy.stats import chi2_contingency\n",
    "import pandas as pd\n",
    "\n",
    "def cramers_v(confusion_matrix):\n",
    "    chi2 = chi2_contingency(confusion_matrix)[0]\n",
    "    n = confusion_matrix.sum()\n",
    "    r, c = confusion_matrix.shape\n",
    "    v = np.sqrt(chi2 / (n * min(r-1, c-1)))\n",
    "    return v\n",
    "\n",
    "# 교차표 생성\n",
    "confusion_matrix = pd.crosstab(df['family_history_with_overweight'], df['NObeyesdad'])\n",
    "\n",
    "# Cramer's V 값 계산\n",
    "v = cramers_v(confusion_matrix)\n",
    "print(\"Cramer's V value:\", v)\n"
   ]
  },
  {
   "cell_type": "code",
   "execution_count": 77,
   "metadata": {},
   "outputs": [
    {
     "name": "stdout",
     "output_type": "stream",
     "text": [
      "Cramer's V value: NObeyesdad\n",
      "Insufficient_Weight    0.784721\n",
      "Normal_Weight          0.709999\n",
      "Obesity_Type_I         0.730680\n",
      "Obesity_Type_II        0.691617\n",
      "Obesity_Type_III       0.619671\n",
      "Overweight_Level_I     0.800090\n",
      "Overweight_Level_II    0.784876\n",
      "dtype: float64\n"
     ]
    }
   ],
   "source": [
    "import numpy as np\n",
    "from scipy.stats import chi2_contingency\n",
    "import pandas as pd\n",
    "\n",
    "def cramers_v(confusion_matrix):\n",
    "    chi2 = chi2_contingency(confusion_matrix)[0]\n",
    "    n = confusion_matrix.sum()\n",
    "    r, c = confusion_matrix.shape\n",
    "    v = np.sqrt(chi2 / (n * min(r-1, c-1)))\n",
    "    return v\n",
    "\n",
    "# 교차표 생성\n",
    "confusion_matrix = pd.crosstab(df['FAVC'], df['NObeyesdad'])\n",
    "\n",
    "# Cramer's V 값 계산\n",
    "v = cramers_v(confusion_matrix)\n",
    "print(\"Cramer's V value:\", v)\n"
   ]
  },
  {
   "cell_type": "code",
   "execution_count": 78,
   "metadata": {},
   "outputs": [
    {
     "name": "stdout",
     "output_type": "stream",
     "text": [
      "Cramer's V value: NObeyesdad\n",
      "Insufficient_Weight    0.637324\n",
      "Normal_Weight          0.576638\n",
      "Obesity_Type_I         0.593434\n",
      "Obesity_Type_II        0.561709\n",
      "Obesity_Type_III       0.503276\n",
      "Overweight_Level_I     0.649807\n",
      "Overweight_Level_II    0.637451\n",
      "dtype: float64\n"
     ]
    }
   ],
   "source": [
    "import numpy as np\n",
    "from scipy.stats import chi2_contingency\n",
    "import pandas as pd\n",
    "\n",
    "def cramers_v(confusion_matrix):\n",
    "    chi2 = chi2_contingency(confusion_matrix)[0]\n",
    "    n = confusion_matrix.sum()\n",
    "    r, c = confusion_matrix.shape\n",
    "    v = np.sqrt(chi2 / (n * min(r-1, c-1)))\n",
    "    return v\n",
    "\n",
    "# 교차표 생성\n",
    "confusion_matrix = pd.crosstab(df['SCC'], df['NObeyesdad'])\n",
    "\n",
    "# Cramer's V 값 계산\n",
    "v = cramers_v(confusion_matrix)\n",
    "print(\"Cramer's V value:\", v)\n"
   ]
  },
  {
   "cell_type": "code",
   "execution_count": 79,
   "metadata": {},
   "outputs": [
    {
     "name": "stdout",
     "output_type": "stream",
     "text": [
      "                         Variable  Chi-square value        p-value  \\\n",
      "0                          Gender       7953.767544   0.000000e+00   \n",
      "1  family_history_with_overweight       6423.317091   0.000000e+00   \n",
      "2                            FAVC       1553.629751   0.000000e+00   \n",
      "3                            CAEC       6897.329566   0.000000e+00   \n",
      "4                           SMOKE        216.300613   6.396982e-44   \n",
      "5                             SCC       1024.798467  3.870103e-218   \n",
      "6                            CALC       4013.082706   0.000000e+00   \n",
      "\n",
      "                                          Cramer's V  \n",
      "0  NObeyesdad\n",
      "Insufficient_Weight    1.775529\n",
      "Nor...  \n",
      "1  NObeyesdad\n",
      "Insufficient_Weight    1.595589\n",
      "Nor...  \n",
      "2  NObeyesdad\n",
      "Insufficient_Weight    0.784721\n",
      "Nor...  \n",
      "3  NObeyesdad\n",
      "Insufficient_Weight    0.954600\n",
      "Nor...  \n",
      "4  NObeyesdad\n",
      "Insufficient_Weight    0.292799\n",
      "Nor...  \n",
      "5  NObeyesdad\n",
      "Insufficient_Weight    0.637324\n",
      "Nor...  \n",
      "6  NObeyesdad\n",
      "Insufficient_Weight    0.891796\n",
      "Nor...  \n"
     ]
    }
   ],
   "source": [
    "import pandas as pd\n",
    "from scipy.stats import chi2_contingency\n",
    "\n",
    "# Cramer's V 계산 함수\n",
    "def cramers_v(confusion_matrix):\n",
    "    chi2 = chi2_contingency(confusion_matrix)[0]\n",
    "    n = confusion_matrix.sum()\n",
    "    r, c = confusion_matrix.shape\n",
    "    v = np.sqrt(chi2 / (n * min(r-1, c-1)))\n",
    "    return v\n",
    "\n",
    "# 변수들을 포함한 데이터프레임 준비\n",
    "variables = ['Gender', 'family_history_with_overweight', 'FAVC', 'CAEC', 'SMOKE', 'SCC', 'CALC', 'NObeyesdad']\n",
    "df_selected = df[variables]\n",
    "\n",
    "# 결과를 저장할 빈 리스트 생성\n",
    "results = []\n",
    "\n",
    "# 각 변수들 간의 교차표 생성 및 카이제곱 검정 수행\n",
    "for variable in variables[:-1]:  # 마지막 변수인 'NObeyesdad'는 타겟 변수이므로 제외\n",
    "    crosstab = pd.crosstab(df_selected[variable], df_selected['NObeyesdad'])\n",
    "    chi2, p, dof, expected = chi2_contingency(crosstab)\n",
    "    v = cramers_v(crosstab)\n",
    "    results.append({'Variable': variable, 'Chi-square value': chi2, 'p-value': p, \"Cramer's V\": v})\n",
    "\n",
    "# 결과를 DataFrame으로 변환하여 출력\n",
    "results_df = pd.DataFrame(results)\n",
    "print(results_df)\n"
   ]
  },
  {
   "cell_type": "code",
   "execution_count": 80,
   "metadata": {},
   "outputs": [
    {
     "name": "stdout",
     "output_type": "stream",
     "text": [
      "                         Variable  Chi-square value  \\\n",
      "0                          Gender           7953.77   \n",
      "3                            CAEC           6897.33   \n",
      "1  family_history_with_overweight           6423.32   \n",
      "6                            CALC           4013.08   \n",
      "2                            FAVC           1553.63   \n",
      "5                             SCC           1024.80   \n",
      "4                           SMOKE            216.30   \n",
      "\n",
      "                                          Cramer's V  \n",
      "0  NObeyesdad\n",
      "Insufficient_Weight    1.775529\n",
      "Nor...  \n",
      "3  NObeyesdad\n",
      "Insufficient_Weight    0.954600\n",
      "Nor...  \n",
      "1  NObeyesdad\n",
      "Insufficient_Weight    1.595589\n",
      "Nor...  \n",
      "6  NObeyesdad\n",
      "Insufficient_Weight    0.891796\n",
      "Nor...  \n",
      "2  NObeyesdad\n",
      "Insufficient_Weight    0.784721\n",
      "Nor...  \n",
      "5  NObeyesdad\n",
      "Insufficient_Weight    0.637324\n",
      "Nor...  \n",
      "4  NObeyesdad\n",
      "Insufficient_Weight    0.292799\n",
      "Nor...  \n"
     ]
    }
   ],
   "source": [
    "# 결과를 DataFrame으로 변환하여 출력\n",
    "results_df = pd.DataFrame(results)\n",
    "# 필요한 정보만 선택하여 출력\n",
    "simple_results_df = results_df[['Variable', 'Chi-square value', \"Cramer's V\"]]\n",
    "# 소수점 제한\n",
    "simple_results_df = simple_results_df.round(2)\n",
    "# 결과를 Chi-square value 값으로 정렬\n",
    "simple_results_df = simple_results_df.sort_values(by='Chi-square value', ascending=False)\n",
    "print(simple_results_df)\n"
   ]
  },
  {
   "cell_type": "markdown",
   "metadata": {},
   "source": [
    "# 성별은 비만에 얼마나 영향을 줄까?"
   ]
  },
  {
   "cell_type": "code",
   "execution_count": 81,
   "metadata": {},
   "outputs": [
    {
     "name": "stderr",
     "output_type": "stream",
     "text": [
      "findfont: Font family 'NanumSquareOTFRegular' not found.\n",
      "findfont: Font family 'Malgun Gothic' not found.\n",
      "findfont: Font family 'NanumSquareOTFRegular' not found.\n",
      "findfont: Font family 'Malgun Gothic' not found.\n",
      "findfont: Font family 'NanumSquareOTFRegular' not found.\n",
      "findfont: Font family 'Malgun Gothic' not found.\n",
      "findfont: Font family 'NanumSquareOTFRegular' not found.\n",
      "findfont: Font family 'Malgun Gothic' not found.\n",
      "findfont: Font family 'NanumSquareOTFRegular' not found.\n",
      "findfont: Font family 'Malgun Gothic' not found.\n",
      "findfont: Font family 'NanumSquareOTFRegular' not found.\n",
      "findfont: Font family 'Malgun Gothic' not found.\n",
      "findfont: Font family 'NanumSquareOTFRegular' not found.\n",
      "findfont: Font family 'Malgun Gothic' not found.\n",
      "findfont: Font family 'NanumSquareOTFRegular' not found.\n",
      "findfont: Font family 'Malgun Gothic' not found.\n",
      "findfont: Font family 'NanumSquareOTFRegular' not found.\n",
      "findfont: Font family 'Malgun Gothic' not found.\n",
      "findfont: Font family 'NanumSquareOTFRegular' not found.\n",
      "findfont: Font family 'Malgun Gothic' not found.\n",
      "findfont: Font family 'NanumSquareOTFRegular' not found.\n",
      "findfont: Font family 'Malgun Gothic' not found.\n",
      "findfont: Font family 'NanumSquareOTFRegular' not found.\n",
      "findfont: Font family 'Malgun Gothic' not found.\n",
      "findfont: Font family 'NanumSquareOTFRegular' not found.\n",
      "findfont: Font family 'Malgun Gothic' not found.\n",
      "findfont: Font family 'NanumSquareOTFRegular' not found.\n",
      "findfont: Font family 'Malgun Gothic' not found.\n",
      "findfont: Font family 'NanumSquareOTFRegular' not found.\n",
      "findfont: Font family 'Malgun Gothic' not found.\n",
      "findfont: Font family 'NanumSquareOTFRegular' not found.\n",
      "findfont: Font family 'Malgun Gothic' not found.\n",
      "findfont: Font family 'NanumSquareOTFRegular' not found.\n",
      "findfont: Font family 'Malgun Gothic' not found.\n",
      "findfont: Font family 'NanumSquareOTFRegular' not found.\n",
      "findfont: Font family 'Malgun Gothic' not found.\n",
      "findfont: Font family 'NanumSquareOTFRegular' not found.\n",
      "findfont: Font family 'Malgun Gothic' not found.\n",
      "findfont: Font family 'NanumSquareOTFRegular' not found.\n",
      "findfont: Font family 'Malgun Gothic' not found.\n",
      "findfont: Font family 'NanumSquareOTFRegular' not found.\n",
      "findfont: Font family 'Malgun Gothic' not found.\n",
      "findfont: Font family 'NanumSquareOTFRegular' not found.\n",
      "findfont: Font family 'Malgun Gothic' not found.\n",
      "findfont: Font family 'NanumSquareOTFRegular' not found.\n",
      "findfont: Font family 'Malgun Gothic' not found.\n",
      "findfont: Font family 'NanumSquareOTFRegular' not found.\n",
      "findfont: Font family 'Malgun Gothic' not found.\n",
      "findfont: Font family 'NanumSquareOTFRegular' not found.\n",
      "findfont: Font family 'Malgun Gothic' not found.\n",
      "findfont: Font family 'NanumSquareOTFRegular' not found.\n",
      "findfont: Font family 'Malgun Gothic' not found.\n",
      "findfont: Font family 'NanumSquareOTFRegular' not found.\n",
      "findfont: Font family 'Malgun Gothic' not found.\n",
      "findfont: Font family 'NanumSquareOTFRegular' not found.\n",
      "findfont: Font family 'Malgun Gothic' not found.\n",
      "findfont: Font family 'NanumSquareOTFRegular' not found.\n",
      "findfont: Font family 'Malgun Gothic' not found.\n",
      "findfont: Font family 'NanumSquareOTFRegular' not found.\n",
      "findfont: Font family 'Malgun Gothic' not found.\n",
      "findfont: Font family 'NanumSquareOTFRegular' not found.\n",
      "findfont: Font family 'Malgun Gothic' not found.\n",
      "findfont: Font family 'NanumSquareOTFRegular' not found.\n",
      "findfont: Font family 'Malgun Gothic' not found.\n",
      "findfont: Font family 'NanumSquareOTFRegular' not found.\n",
      "findfont: Font family 'Malgun Gothic' not found.\n",
      "findfont: Font family 'NanumSquareOTFRegular' not found.\n",
      "findfont: Font family 'Malgun Gothic' not found.\n",
      "findfont: Font family 'NanumSquareOTFRegular' not found.\n",
      "findfont: Font family 'Malgun Gothic' not found.\n",
      "findfont: Font family 'NanumSquareOTFRegular' not found.\n",
      "findfont: Font family 'Malgun Gothic' not found.\n",
      "findfont: Font family 'NanumSquareOTFRegular' not found.\n",
      "findfont: Font family 'Malgun Gothic' not found.\n",
      "findfont: Font family 'NanumSquareOTFRegular' not found.\n",
      "findfont: Font family 'Malgun Gothic' not found.\n",
      "findfont: Font family 'NanumSquareOTFRegular' not found.\n",
      "findfont: Font family 'Malgun Gothic' not found.\n",
      "findfont: Font family 'NanumSquareOTFRegular' not found.\n",
      "findfont: Font family 'Malgun Gothic' not found.\n",
      "findfont: Font family 'NanumSquareOTFRegular' not found.\n",
      "findfont: Font family 'Malgun Gothic' not found.\n",
      "findfont: Font family 'NanumSquareOTFRegular' not found.\n",
      "findfont: Font family 'Malgun Gothic' not found.\n",
      "findfont: Font family 'NanumSquareOTFRegular' not found.\n",
      "findfont: Font family 'Malgun Gothic' not found.\n",
      "findfont: Font family 'NanumSquareOTFRegular' not found.\n",
      "findfont: Font family 'Malgun Gothic' not found.\n",
      "findfont: Font family 'NanumSquareOTFRegular' not found.\n",
      "findfont: Font family 'Malgun Gothic' not found.\n",
      "findfont: Font family 'NanumSquareOTFRegular' not found.\n",
      "findfont: Font family 'Malgun Gothic' not found.\n",
      "findfont: Font family 'NanumSquareOTFRegular' not found.\n",
      "findfont: Font family 'Malgun Gothic' not found.\n",
      "findfont: Font family 'NanumSquareOTFRegular' not found.\n",
      "findfont: Font family 'Malgun Gothic' not found.\n",
      "findfont: Font family 'NanumSquareOTFRegular' not found.\n",
      "findfont: Font family 'Malgun Gothic' not found.\n",
      "findfont: Font family 'NanumSquareOTFRegular' not found.\n",
      "findfont: Font family 'Malgun Gothic' not found.\n",
      "findfont: Font family 'NanumSquareOTFRegular' not found.\n",
      "findfont: Font family 'Malgun Gothic' not found.\n",
      "findfont: Font family 'NanumSquareOTFRegular' not found.\n",
      "findfont: Font family 'Malgun Gothic' not found.\n",
      "findfont: Font family 'NanumSquareOTFRegular' not found.\n",
      "findfont: Font family 'Malgun Gothic' not found.\n",
      "findfont: Font family 'NanumSquareOTFRegular' not found.\n",
      "findfont: Font family 'Malgun Gothic' not found.\n",
      "findfont: Font family 'NanumSquareOTFRegular' not found.\n",
      "findfont: Font family 'Malgun Gothic' not found.\n",
      "findfont: Font family 'NanumSquareOTFRegular' not found.\n",
      "findfont: Font family 'Malgun Gothic' not found.\n",
      "findfont: Font family 'NanumSquareOTFRegular' not found.\n",
      "findfont: Font family 'Malgun Gothic' not found.\n",
      "findfont: Font family 'NanumSquareOTFRegular' not found.\n",
      "findfont: Font family 'Malgun Gothic' not found.\n",
      "findfont: Font family 'NanumSquareOTFRegular' not found.\n",
      "findfont: Font family 'Malgun Gothic' not found.\n",
      "findfont: Font family 'NanumSquareOTFRegular' not found.\n",
      "findfont: Font family 'Malgun Gothic' not found.\n",
      "findfont: Font family 'NanumSquareOTFRegular' not found.\n",
      "findfont: Font family 'Malgun Gothic' not found.\n",
      "findfont: Font family 'NanumSquareOTFRegular' not found.\n",
      "findfont: Font family 'Malgun Gothic' not found.\n",
      "findfont: Font family 'NanumSquareOTFRegular' not found.\n",
      "findfont: Font family 'Malgun Gothic' not found.\n",
      "findfont: Font family 'NanumSquareOTFRegular' not found.\n",
      "findfont: Font family 'Malgun Gothic' not found.\n",
      "findfont: Font family 'NanumSquareOTFRegular' not found.\n",
      "findfont: Font family 'Malgun Gothic' not found.\n",
      "findfont: Font family 'NanumSquareOTFRegular' not found.\n",
      "findfont: Font family 'Malgun Gothic' not found.\n",
      "findfont: Font family 'NanumSquareOTFRegular' not found.\n",
      "findfont: Font family 'Malgun Gothic' not found.\n",
      "findfont: Font family 'NanumSquareOTFRegular' not found.\n",
      "findfont: Font family 'Malgun Gothic' not found.\n",
      "findfont: Font family 'NanumSquareOTFRegular' not found.\n",
      "findfont: Font family 'Malgun Gothic' not found.\n",
      "findfont: Font family 'NanumSquareOTFRegular' not found.\n",
      "findfont: Font family 'Malgun Gothic' not found.\n",
      "findfont: Font family 'NanumSquareOTFRegular' not found.\n",
      "findfont: Font family 'Malgun Gothic' not found.\n",
      "findfont: Font family 'NanumSquareOTFRegular' not found.\n",
      "findfont: Font family 'Malgun Gothic' not found.\n",
      "findfont: Font family 'NanumSquareOTFRegular' not found.\n",
      "findfont: Font family 'Malgun Gothic' not found.\n",
      "findfont: Font family 'NanumSquareOTFRegular' not found.\n",
      "findfont: Font family 'Malgun Gothic' not found.\n",
      "findfont: Font family 'NanumSquareOTFRegular' not found.\n",
      "findfont: Font family 'Malgun Gothic' not found.\n",
      "findfont: Font family 'NanumSquareOTFRegular' not found.\n",
      "findfont: Font family 'Malgun Gothic' not found.\n",
      "findfont: Font family 'NanumSquareOTFRegular' not found.\n",
      "findfont: Font family 'Malgun Gothic' not found.\n",
      "findfont: Font family 'NanumSquareOTFRegular' not found.\n",
      "findfont: Font family 'Malgun Gothic' not found.\n",
      "findfont: Font family 'NanumSquareOTFRegular' not found.\n",
      "findfont: Font family 'Malgun Gothic' not found.\n",
      "findfont: Font family 'NanumSquareOTFRegular' not found.\n",
      "findfont: Font family 'Malgun Gothic' not found.\n",
      "findfont: Font family 'NanumSquareOTFRegular' not found.\n",
      "findfont: Font family 'Malgun Gothic' not found.\n",
      "findfont: Font family 'NanumSquareOTFRegular' not found.\n",
      "findfont: Font family 'Malgun Gothic' not found.\n",
      "findfont: Font family 'NanumSquareOTFRegular' not found.\n",
      "findfont: Font family 'Malgun Gothic' not found.\n",
      "findfont: Font family 'NanumSquareOTFRegular' not found.\n",
      "findfont: Font family 'Malgun Gothic' not found.\n",
      "findfont: Font family 'NanumSquareOTFRegular' not found.\n",
      "findfont: Font family 'Malgun Gothic' not found.\n",
      "findfont: Font family 'NanumSquareOTFRegular' not found.\n",
      "findfont: Font family 'Malgun Gothic' not found.\n",
      "findfont: Font family 'NanumSquareOTFRegular' not found.\n",
      "findfont: Font family 'Malgun Gothic' not found.\n",
      "findfont: Font family 'NanumSquareOTFRegular' not found.\n",
      "findfont: Font family 'Malgun Gothic' not found.\n",
      "findfont: Font family 'NanumSquareOTFRegular' not found.\n",
      "findfont: Font family 'Malgun Gothic' not found.\n",
      "findfont: Font family 'NanumSquareOTFRegular' not found.\n",
      "findfont: Font family 'Malgun Gothic' not found.\n",
      "findfont: Font family 'NanumSquareOTFRegular' not found.\n",
      "findfont: Font family 'Malgun Gothic' not found.\n",
      "findfont: Font family 'NanumSquareOTFRegular' not found.\n",
      "findfont: Font family 'Malgun Gothic' not found.\n",
      "findfont: Font family 'NanumSquareOTFRegular' not found.\n",
      "findfont: Font family 'Malgun Gothic' not found.\n",
      "findfont: Font family 'NanumSquareOTFRegular' not found.\n",
      "findfont: Font family 'Malgun Gothic' not found.\n",
      "findfont: Font family 'NanumSquareOTFRegular' not found.\n",
      "findfont: Font family 'Malgun Gothic' not found.\n",
      "findfont: Font family 'NanumSquareOTFRegular' not found.\n",
      "findfont: Font family 'Malgun Gothic' not found.\n",
      "findfont: Font family 'NanumSquareOTFRegular' not found.\n",
      "findfont: Font family 'Malgun Gothic' not found.\n",
      "findfont: Font family 'NanumSquareOTFRegular' not found.\n",
      "findfont: Font family 'Malgun Gothic' not found.\n",
      "findfont: Font family 'NanumSquareOTFRegular' not found.\n",
      "findfont: Font family 'Malgun Gothic' not found.\n",
      "findfont: Font family 'NanumSquareOTFRegular' not found.\n",
      "findfont: Font family 'Malgun Gothic' not found.\n",
      "findfont: Font family 'NanumSquareOTFRegular' not found.\n",
      "findfont: Font family 'Malgun Gothic' not found.\n",
      "findfont: Font family 'NanumSquareOTFRegular' not found.\n",
      "findfont: Font family 'Malgun Gothic' not found.\n",
      "findfont: Font family 'NanumSquareOTFRegular' not found.\n",
      "findfont: Font family 'Malgun Gothic' not found.\n",
      "findfont: Font family 'NanumSquareOTFRegular' not found.\n",
      "findfont: Font family 'Malgun Gothic' not found.\n",
      "findfont: Font family 'NanumSquareOTFRegular' not found.\n",
      "findfont: Font family 'Malgun Gothic' not found.\n",
      "findfont: Font family 'NanumSquareOTFRegular' not found.\n",
      "findfont: Font family 'Malgun Gothic' not found.\n",
      "findfont: Font family 'NanumSquareOTFRegular' not found.\n",
      "findfont: Font family 'Malgun Gothic' not found.\n",
      "findfont: Font family 'NanumSquareOTFRegular' not found.\n",
      "findfont: Font family 'Malgun Gothic' not found.\n",
      "findfont: Font family 'NanumSquareOTFRegular' not found.\n",
      "findfont: Font family 'Malgun Gothic' not found.\n",
      "findfont: Font family 'NanumSquareOTFRegular' not found.\n",
      "findfont: Font family 'Malgun Gothic' not found.\n",
      "findfont: Font family 'NanumSquareOTFRegular' not found.\n",
      "findfont: Font family 'Malgun Gothic' not found.\n",
      "findfont: Font family 'NanumSquareOTFRegular' not found.\n",
      "findfont: Font family 'Malgun Gothic' not found.\n",
      "findfont: Font family 'NanumSquareOTFRegular' not found.\n",
      "findfont: Font family 'Malgun Gothic' not found.\n",
      "findfont: Font family 'NanumSquareOTFRegular' not found.\n",
      "findfont: Font family 'Malgun Gothic' not found.\n",
      "findfont: Font family 'NanumSquareOTFRegular' not found.\n",
      "findfont: Font family 'Malgun Gothic' not found.\n",
      "findfont: Font family 'NanumSquareOTFRegular' not found.\n",
      "findfont: Font family 'Malgun Gothic' not found.\n",
      "findfont: Font family 'NanumSquareOTFRegular' not found.\n",
      "findfont: Font family 'Malgun Gothic' not found.\n",
      "findfont: Font family 'NanumSquareOTFRegular' not found.\n",
      "findfont: Font family 'Malgun Gothic' not found.\n",
      "findfont: Font family 'NanumSquareOTFRegular' not found.\n",
      "findfont: Font family 'Malgun Gothic' not found.\n",
      "findfont: Font family 'NanumSquareOTFRegular' not found.\n",
      "findfont: Font family 'Malgun Gothic' not found.\n",
      "findfont: Font family 'NanumSquareOTFRegular' not found.\n",
      "findfont: Font family 'Malgun Gothic' not found.\n",
      "findfont: Font family 'NanumSquareOTFRegular' not found.\n",
      "findfont: Font family 'Malgun Gothic' not found.\n",
      "findfont: Font family 'NanumSquareOTFRegular' not found.\n",
      "findfont: Font family 'Malgun Gothic' not found.\n"
     ]
    },
    {
     "data": {
      "image/png": "[encoded data removed]",
      "text/plain": [
       "<Figure size 640x480 with 2 Axes>"
      ]
     },
     "metadata": {},
     "output_type": "display_data"
    }
   ],
   "source": [
    "import seaborn as sns\n",
    "import matplotlib.pyplot as plt\n",
    "\n",
    "# Gender와 NObeyesdad 간의 교차표 생성\n",
    "gender_obesity_cross = pd.crosstab(df['Gender'], df['NObeyesdad'])\n",
    "\n",
    "# 교차표 시각화\n",
    "sns.heatmap(gender_obesity_cross, annot=True, cmap='Blues', fmt='d')\n",
    "plt.title('Gender vs. NObeyesdad')\n",
    "plt.xlabel('NObeyesdad')\n",
    "plt.ylabel('Gender')\n",
    "plt.show()\n"
   ]
  },
  {
   "cell_type": "code",
   "execution_count": 86,
   "metadata": {},
   "outputs": [
    {
     "name": "stdout",
     "output_type": "stream",
     "text": [
      "NObeyesdad\n",
      "Obesity_Type_III       38.773748\n",
      "Normal_Weight          15.927845\n",
      "Insufficient_Weight    15.553637\n",
      "Obesity_Type_I         12.156976\n",
      "Overweight_Level_I     10.266743\n",
      "Overweight_Level_II     7.244291\n",
      "Obesity_Type_II         0.076761\n",
      "Name: count, dtype: float64\n"
     ]
    }
   ],
   "source": [
    "female_data = df[df['Gender'] == 'Female']\n",
    "female_counts = female_data['NObeyesdad'].value_counts()\n",
    "female_ratios = female_counts / len(female_data) * 100\n",
    "print(female_ratios)\n"
   ]
  },
  {
   "cell_type": "code",
   "execution_count": 87,
   "metadata": {},
   "outputs": [
    {
     "name": "stdout",
     "output_type": "stream",
     "text": [
      "NObeyesdad\n",
      "Obesity_Type_II        31.346749\n",
      "Overweight_Level_II    17.095588\n",
      "Obesity_Type_I         15.895898\n",
      "Normal_Weight          13.757740\n",
      "Overweight_Level_I     13.128870\n",
      "Insufficient_Weight     8.726780\n",
      "Obesity_Type_III        0.048375\n",
      "Name: count, dtype: float64\n"
     ]
    }
   ],
   "source": [
    "male_data = df[df['Gender'] == 'Male']\n",
    "male_counts = male_data['NObeyesdad'].value_counts()\n",
    "male_ratios = male_counts / len(male_data) * 100\n",
    "print(male_ratios)"
   ]
  },
  {
   "cell_type": "markdown",
   "metadata": {},
   "source": [
    "| NObeyesdad          | Female (%) | Male (%) |\n",
    "|---------------------|------------|----------|\n",
    "| Insufficient_Weight | 6.31       | 38.70    |\n",
    "| Normal_Weight       | 10.52      | 34.51    |\n",
    "| Overweight_Level_I  | 9.82       | 20.19    |\n",
    "| Overweight_Level_II | 13.69      | 5.15     |\n",
    "| Obesity_Type_I      | 16.82      | 1.28     |\n",
    "| Obesity_Type_II     | 19.06      | 31.34    |\n",
    "| Obesity_Type_III    | 23.77      | 0.04     |\n"
   ]
  },
  {
   "cell_type": "code",
   "execution_count": 89,
   "metadata": {},
   "outputs": [
    {
     "name": "stdout",
     "output_type": "stream",
     "text": [
      "            NObeyesdad     Female       Male\n",
      "0  Insufficient_Weight  15.553637   8.726780\n",
      "1        Normal_Weight  15.927845  13.757740\n",
      "2   Overweight_Level_I  10.266743  13.128870\n",
      "3  Overweight_Level_II   7.244291  17.095588\n",
      "4       Obesity_Type_I  12.156976  15.895898\n",
      "5      Obesity_Type_II   0.076761  31.346749\n",
      "6     Obesity_Type_III  38.773748   0.048375\n"
     ]
    }
   ],
   "source": [
    "import pandas as pd\n",
    "\n",
    "# 각 성별의 결과를 딕셔너리 형태로 정의\n",
    "female_results = {\n",
    "    'Obesity_Type_III': 38.773748,\n",
    "    'Normal_Weight': 15.927845,\n",
    "    'Insufficient_Weight': 15.553637,\n",
    "    'Obesity_Type_I': 12.156976,\n",
    "    'Overweight_Level_I': 10.266743,\n",
    "    'Overweight_Level_II': 7.244291,\n",
    "    'Obesity_Type_II': 0.076761\n",
    "}\n",
    "\n",
    "male_results = {\n",
    "    'Obesity_Type_II': 31.346749,\n",
    "    'Overweight_Level_II': 17.095588,\n",
    "    'Obesity_Type_I': 15.895898,\n",
    "    'Normal_Weight': 13.757740,\n",
    "    'Overweight_Level_I': 13.128870,\n",
    "    'Insufficient_Weight': 8.726780,\n",
    "    'Obesity_Type_III': 0.048375\n",
    "}\n",
    "\n",
    "# 딕셔너리를 DataFrame으로 변환\n",
    "female_df = pd.DataFrame(list(female_results.items()), columns=['NObeyesdad', 'Female'])\n",
    "male_df = pd.DataFrame(list(male_results.items()), columns=['NObeyesdad', 'Male'])\n",
    "\n",
    "# 두 DataFrame을 NObeyesdad 기준으로 병합\n",
    "result_df = pd.merge(female_df, male_df, on='NObeyesdad', how='outer')\n",
    "\n",
    "# 표시\n",
    "# NObeyesdad 카테고리 순서대로 정렬\n",
    "categories_order = [\n",
    "    'Insufficient_Weight', 'Normal_Weight', 'Overweight_Level_I', \n",
    "    'Overweight_Level_II', 'Obesity_Type_I', 'Obesity_Type_II', 'Obesity_Type_III'\n",
    "]\n",
    "result_df = result_df.set_index('NObeyesdad').loc[categories_order].reset_index()\n",
    "\n",
    "# 결과 출력\n",
    "print(result_df)\n",
    "\n"
   ]
  },
  {
   "cell_type": "markdown",
   "metadata": {},
   "source": [
    "# 가족이력은 비만도에 어떤 영향을 미칠까?"
   ]
  },
  {
   "cell_type": "code",
   "execution_count": 92,
   "metadata": {},
   "outputs": [
    {
     "data": {
      "text/plain": [
       "family_history_with_overweight\n",
       "yes    81.96358\n",
       "no     18.03642\n",
       "Name: count, dtype: float64"
      ]
     },
     "execution_count": 92,
     "metadata": {},
     "output_type": "execute_result"
    }
   ],
   "source": [
    "df['family_history_with_overweight'].value_counts() / len(df) * 100"
   ]
  },
  {
   "cell_type": "code",
   "execution_count": 96,
   "metadata": {},
   "outputs": [
    {
     "name": "stdout",
     "output_type": "stream",
     "text": [
      "NObeyesdad\n",
      "Obesity_Type_III       23.774539\n",
      "Obesity_Type_II        19.060773\n",
      "Obesity_Type_I         16.821441\n",
      "Overweight_Level_II    13.688727\n",
      "Normal_Weight          10.520748\n",
      "Overweight_Level_I      9.821324\n",
      "Insufficient_Weight     6.312449\n",
      "Name: count, dtype: float64\n"
     ]
    }
   ],
   "source": [
    "counts = df[df['family_history_with_overweight'] == 'yes']['NObeyesdad'].value_counts()\n",
    "ratios = counts / len(df[df['family_history_with_overweight'] == 'yes']) * 100\n",
    "print(ratios)"
   ]
  },
  {
   "cell_type": "code",
   "execution_count": 97,
   "metadata": {},
   "outputs": [
    {
     "name": "stdout",
     "output_type": "stream",
     "text": [
      "NObeyesdad\n",
      "Insufficient_Weight    38.701923\n",
      "Normal_Weight          34.508547\n",
      "Overweight_Level_I     20.192308\n",
      "Overweight_Level_II     5.154915\n",
      "Obesity_Type_I          1.282051\n",
      "Obesity_Type_II         0.133547\n",
      "Obesity_Type_III        0.026709\n",
      "Name: count, dtype: float64\n"
     ]
    }
   ],
   "source": [
    "counts = df[df['family_history_with_overweight'] == 'no']['NObeyesdad'].value_counts()\n",
    "ratios = counts / len(df[df['family_history_with_overweight'] == 'no']) * 100\n",
    "print(ratios)"
   ]
  },
  {
   "cell_type": "markdown",
   "metadata": {},
   "source": [
    "| NObeyesdad          | family_history_with_overweight (==yes) | family_history_with_overweight (==no) |\n",
    "|---------------------|---------------------|---------------------|\n",
    "| Insufficient_Weight |  6.31%              | 38.70%              |\n",
    "| Normal_Weight       | 10.52%              | 34.51%              |\n",
    "| Overweight_Level_I  |  9.82%              | 20.19%              |\n",
    "| Overweight_Level_II | 13.69%              |  5.15%              |\n",
    "| Obesity_Type_I      | 16.82%              |  1.28%              |\n",
    "| Obesity_Type_II     | 19.06%              |  0.13%              |\n",
    "| Obesity_Type_III    | 23.77%              |  0.02%              |\n"
   ]
  },
  {
   "cell_type": "code",
   "execution_count": 98,
   "metadata": {},
   "outputs": [
    {
     "name": "stdout",
     "output_type": "stream",
     "text": [
      "<class 'pandas.core.frame.DataFrame'>\n",
      "RangeIndex: 20758 entries, 0 to 20757\n",
      "Data columns (total 19 columns):\n",
      " #   Column                          Non-Null Count  Dtype  \n",
      "---  ------                          --------------  -----  \n",
      " 0   id                              20758 non-null  int64  \n",
      " 1   Gender                          20758 non-null  object \n",
      " 2   Age                             20758 non-null  int64  \n",
      " 3   Height                          20758 non-null  float64\n",
      " 4   Weight                          20758 non-null  int64  \n",
      " 5   family_history_with_overweight  20758 non-null  object \n",
      " 6   FAVC                            20758 non-null  object \n",
      " 7   FCVC                            20758 non-null  float64\n",
      " 8   NCP                             20758 non-null  float64\n",
      " 9   CAEC                            20758 non-null  object \n",
      " 10  SMOKE                           20758 non-null  object \n",
      " 11  CH2O                            20758 non-null  float64\n",
      " 12  SCC                             20758 non-null  object \n",
      " 13  FAF                             20758 non-null  float64\n",
      " 14  TUE                             20758 non-null  float64\n",
      " 15  CALC                            20758 non-null  object \n",
      " 16  MTRANS                          20758 non-null  object \n",
      " 17  NObeyesdad                      20758 non-null  object \n",
      " 18  BMI                             20758 non-null  float64\n",
      "dtypes: float64(7), int64(3), object(9)\n",
      "memory usage: 3.0+ MB\n"
     ]
    }
   ],
   "source": [
    "df.info()"
   ]
  },
  {
   "cell_type": "markdown",
   "metadata": {},
   "source": [
    "# 나이는 비만에 어떤 영향을 줄까?"
   ]
  },
  {
   "cell_type": "code",
   "execution_count": 99,
   "metadata": {},
   "outputs": [
    {
     "data": {
      "text/plain": [
       "CALC\n",
       "Sometimes     15066\n",
       "no             5163\n",
       "Frequently      529\n",
       "Name: count, dtype: int64"
      ]
     },
     "execution_count": 99,
     "metadata": {},
     "output_type": "execute_result"
    }
   ],
   "source": [
    "df['CALC'].value_counts()"
   ]
  },
  {
   "cell_type": "code",
   "execution_count": 101,
   "metadata": {},
   "outputs": [
    {
     "name": "stdout",
     "output_type": "stream",
     "text": [
      "NObeyesdad  Insufficient_Weight  Normal_Weight  Obesity_Type_I  \\\n",
      "CALC                                                             \n",
      "Frequently             0.026465       0.128544        0.143667   \n",
      "Sometimes              0.107527       0.128767        0.095845   \n",
      "no                     0.172187       0.208019        0.269223   \n",
      "\n",
      "NObeyesdad  Obesity_Type_II  Obesity_Type_III  Overweight_Level_I  \\\n",
      "CALC                                                                \n",
      "Frequently         0.024575               NaN            0.245747   \n",
      "Sometimes          0.184322          0.268552            0.130094   \n",
      "no                 0.088708               NaN            0.065272   \n",
      "\n",
      "NObeyesdad  Overweight_Level_II  \n",
      "CALC                             \n",
      "Frequently             0.431002  \n",
      "Sometimes              0.084893  \n",
      "no                     0.196591  \n"
     ]
    }
   ],
   "source": [
    "# CALC별 비만도 비율 구하기\n",
    "calc_obesity_ratio = df.groupby('CALC')['NObeyesdad'].value_counts(normalize=True).unstack()\n",
    "\n",
    "print(calc_obesity_ratio)"
   ]
  }
 ],
 "metadata": {
  "kernelspec": {
   "display_name": "Python 3",
   "language": "python",
   "name": "python3"
  },
  "language_info": {
   "codemirror_mode": {
    "name": "ipython",
    "version": 3
   },
   "file_extension": ".py",
   "mimetype": "text/x-python",
   "name": "python",
   "nbconvert_exporter": "python",
   "pygments_lexer": "ipython3",
   "version": "3.11.5"
  }
 },
 "nbformat": 4,
 "nbformat_minor": 2
}
