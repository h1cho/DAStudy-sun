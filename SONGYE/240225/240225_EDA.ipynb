{
 "cells": [
  {
   "cell_type": "markdown",
   "metadata": {},
   "source": [
    "##### 데이터셋 링크 : https://www.kaggle.com/competitions/playground-series-s4e2/data\n",
    "- 참고자료 : https://www.kaggle.com/code/christina0626/feature-engineering-model-combined\n",
    "- 참고자료 : https://www.kaggle.com/code/thomasmeiner/ps4e2-eda-feature-engineering-modelling\n"
   ]
  },
  {
   "cell_type": "code",
   "execution_count": 136,
   "metadata": {},
   "outputs": [],
   "source": [
    "# Matplotlib에서 기본 폰트로 변경\n",
    "import matplotlib.pyplot as plt\n",
    "plt.rcParams['font.family'] = 'DejaVu Sans'"
   ]
  },
  {
   "cell_type": "markdown",
   "metadata": {},
   "source": [
    "# 1.Load Data"
   ]
  },
  {
   "cell_type": "code",
   "execution_count": 1,
   "metadata": {},
   "outputs": [],
   "source": [
    "import pandas as pd\n",
    "import numpy as np"
   ]
  },
  {
   "cell_type": "code",
   "execution_count": 2,
   "metadata": {},
   "outputs": [],
   "source": [
    "df = pd.read_csv(\"../dataset/240225_Multi-Class Prediction of Obesity Risk/train.csv\")"
   ]
  },
  {
   "cell_type": "code",
   "execution_count": 3,
   "metadata": {},
   "outputs": [
    {
     "name": "stdout",
     "output_type": "stream",
     "text": [
      "<class 'pandas.core.frame.DataFrame'>\n",
      "RangeIndex: 20758 entries, 0 to 20757\n",
      "Data columns (total 18 columns):\n",
      " #   Column                          Non-Null Count  Dtype  \n",
      "---  ------                          --------------  -----  \n",
      " 0   id                              20758 non-null  int64  \n",
      " 1   Gender                          20758 non-null  object \n",
      " 2   Age                             20758 non-null  float64\n",
      " 3   Height                          20758 non-null  float64\n",
      " 4   Weight                          20758 non-null  float64\n",
      " 5   family_history_with_overweight  20758 non-null  object \n",
      " 6   FAVC                            20758 non-null  object \n",
      " 7   FCVC                            20758 non-null  float64\n",
      " 8   NCP                             20758 non-null  float64\n",
      " 9   CAEC                            20758 non-null  object \n",
      " 10  SMOKE                           20758 non-null  object \n",
      " 11  CH2O                            20758 non-null  float64\n",
      " 12  SCC                             20758 non-null  object \n",
      " 13  FAF                             20758 non-null  float64\n",
      " 14  TUE                             20758 non-null  float64\n",
      " 15  CALC                            20758 non-null  object \n",
      " 16  MTRANS                          20758 non-null  object \n",
      " 17  NObeyesdad                      20758 non-null  object \n",
      "dtypes: float64(8), int64(1), object(9)\n",
      "memory usage: 2.9+ MB\n"
     ]
    }
   ],
   "source": [
    "df.info()"
   ]
  },
  {
   "cell_type": "code",
   "execution_count": 4,
   "metadata": {},
   "outputs": [
    {
     "name": "stdout",
     "output_type": "stream",
     "text": [
      "id                                0\n",
      "Gender                            0\n",
      "Age                               0\n",
      "Height                            0\n",
      "Weight                            0\n",
      "family_history_with_overweight    0\n",
      "FAVC                              0\n",
      "FCVC                              0\n",
      "NCP                               0\n",
      "CAEC                              0\n",
      "SMOKE                             0\n",
      "CH2O                              0\n",
      "SCC                               0\n",
      "FAF                               0\n",
      "TUE                               0\n",
      "CALC                              0\n",
      "MTRANS                            0\n",
      "NObeyesdad                        0\n",
      "dtype: int64\n"
     ]
    }
   ],
   "source": [
    "null_counts = df.isnull().sum()\n",
    "print(null_counts)"
   ]
  },
  {
   "cell_type": "code",
   "execution_count": 5,
   "metadata": {},
   "outputs": [
    {
     "data": {
      "text/html": [
       "<div>\n",
       "<style scoped>\n",
       "    .dataframe tbody tr th:only-of-type {\n",
       "        vertical-align: middle;\n",
       "    }\n",
       "\n",
       "    .dataframe tbody tr th {\n",
       "        vertical-align: top;\n",
       "    }\n",
       "\n",
       "    .dataframe thead th {\n",
       "        text-align: right;\n",
       "    }\n",
       "</style>\n",
       "<table border=\"1\" class=\"dataframe\">\n",
       "  <thead>\n",
       "    <tr style=\"text-align: right;\">\n",
       "      <th></th>\n",
       "      <th>id</th>\n",
       "      <th>Age</th>\n",
       "      <th>Height</th>\n",
       "      <th>Weight</th>\n",
       "      <th>FCVC</th>\n",
       "      <th>NCP</th>\n",
       "      <th>CH2O</th>\n",
       "      <th>FAF</th>\n",
       "      <th>TUE</th>\n",
       "    </tr>\n",
       "  </thead>\n",
       "  <tbody>\n",
       "    <tr>\n",
       "      <th>count</th>\n",
       "      <td>20758.00000</td>\n",
       "      <td>20758.000000</td>\n",
       "      <td>20758.000000</td>\n",
       "      <td>20758.000000</td>\n",
       "      <td>20758.000000</td>\n",
       "      <td>20758.000000</td>\n",
       "      <td>20758.000000</td>\n",
       "      <td>20758.000000</td>\n",
       "      <td>20758.000000</td>\n",
       "    </tr>\n",
       "    <tr>\n",
       "      <th>mean</th>\n",
       "      <td>10378.50000</td>\n",
       "      <td>23.841804</td>\n",
       "      <td>1.700245</td>\n",
       "      <td>87.887768</td>\n",
       "      <td>2.445908</td>\n",
       "      <td>2.761332</td>\n",
       "      <td>2.029418</td>\n",
       "      <td>0.981747</td>\n",
       "      <td>0.616756</td>\n",
       "    </tr>\n",
       "    <tr>\n",
       "      <th>std</th>\n",
       "      <td>5992.46278</td>\n",
       "      <td>5.688072</td>\n",
       "      <td>0.087312</td>\n",
       "      <td>26.379443</td>\n",
       "      <td>0.533218</td>\n",
       "      <td>0.705375</td>\n",
       "      <td>0.608467</td>\n",
       "      <td>0.838302</td>\n",
       "      <td>0.602113</td>\n",
       "    </tr>\n",
       "    <tr>\n",
       "      <th>min</th>\n",
       "      <td>0.00000</td>\n",
       "      <td>14.000000</td>\n",
       "      <td>1.450000</td>\n",
       "      <td>39.000000</td>\n",
       "      <td>1.000000</td>\n",
       "      <td>1.000000</td>\n",
       "      <td>1.000000</td>\n",
       "      <td>0.000000</td>\n",
       "      <td>0.000000</td>\n",
       "    </tr>\n",
       "    <tr>\n",
       "      <th>25%</th>\n",
       "      <td>5189.25000</td>\n",
       "      <td>20.000000</td>\n",
       "      <td>1.631856</td>\n",
       "      <td>66.000000</td>\n",
       "      <td>2.000000</td>\n",
       "      <td>3.000000</td>\n",
       "      <td>1.792022</td>\n",
       "      <td>0.008013</td>\n",
       "      <td>0.000000</td>\n",
       "    </tr>\n",
       "    <tr>\n",
       "      <th>50%</th>\n",
       "      <td>10378.50000</td>\n",
       "      <td>22.815416</td>\n",
       "      <td>1.700000</td>\n",
       "      <td>84.064875</td>\n",
       "      <td>2.393837</td>\n",
       "      <td>3.000000</td>\n",
       "      <td>2.000000</td>\n",
       "      <td>1.000000</td>\n",
       "      <td>0.573887</td>\n",
       "    </tr>\n",
       "    <tr>\n",
       "      <th>75%</th>\n",
       "      <td>15567.75000</td>\n",
       "      <td>26.000000</td>\n",
       "      <td>1.762887</td>\n",
       "      <td>111.600553</td>\n",
       "      <td>3.000000</td>\n",
       "      <td>3.000000</td>\n",
       "      <td>2.549617</td>\n",
       "      <td>1.587406</td>\n",
       "      <td>1.000000</td>\n",
       "    </tr>\n",
       "    <tr>\n",
       "      <th>max</th>\n",
       "      <td>20757.00000</td>\n",
       "      <td>61.000000</td>\n",
       "      <td>1.975663</td>\n",
       "      <td>165.057269</td>\n",
       "      <td>3.000000</td>\n",
       "      <td>4.000000</td>\n",
       "      <td>3.000000</td>\n",
       "      <td>3.000000</td>\n",
       "      <td>2.000000</td>\n",
       "    </tr>\n",
       "  </tbody>\n",
       "</table>\n",
       "</div>"
      ],
      "text/plain": [
       "                id           Age        Height        Weight          FCVC  \\\n",
       "count  20758.00000  20758.000000  20758.000000  20758.000000  20758.000000   \n",
       "mean   10378.50000     23.841804      1.700245     87.887768      2.445908   \n",
       "std     5992.46278      5.688072      0.087312     26.379443      0.533218   \n",
       "min        0.00000     14.000000      1.450000     39.000000      1.000000   \n",
       "25%     5189.25000     20.000000      1.631856     66.000000      2.000000   \n",
       "50%    10378.50000     22.815416      1.700000     84.064875      2.393837   \n",
       "75%    15567.75000     26.000000      1.762887    111.600553      3.000000   \n",
       "max    20757.00000     61.000000      1.975663    165.057269      3.000000   \n",
       "\n",
       "                NCP          CH2O           FAF           TUE  \n",
       "count  20758.000000  20758.000000  20758.000000  20758.000000  \n",
       "mean       2.761332      2.029418      0.981747      0.616756  \n",
       "std        0.705375      0.608467      0.838302      0.602113  \n",
       "min        1.000000      1.000000      0.000000      0.000000  \n",
       "25%        3.000000      1.792022      0.008013      0.000000  \n",
       "50%        3.000000      2.000000      1.000000      0.573887  \n",
       "75%        3.000000      2.549617      1.587406      1.000000  \n",
       "max        4.000000      3.000000      3.000000      2.000000  "
      ]
     },
     "execution_count": 5,
     "metadata": {},
     "output_type": "execute_result"
    }
   ],
   "source": [
    "df.describe()"
   ]
  },
  {
   "cell_type": "code",
   "execution_count": 6,
   "metadata": {},
   "outputs": [],
   "source": [
    "import warnings\n",
    "\n",
    "# 경고 메시지를 무시하도록 설정\n",
    "warnings.filterwarnings(\"ignore\")\n",
    "\n",
    "# 코드 실행\n",
    "# 이후에 발생하는 경고 메시지들은 출력되지 않습니다."
   ]
  },
  {
   "cell_type": "code",
   "execution_count": 149,
   "metadata": {},
   "outputs": [
    {
     "data": {
      "text/plain": [
       "array([[<Axes: title={'center': 'id'}>, <Axes: title={'center': 'Age'}>,\n",
       "        <Axes: title={'center': 'Height'}>],\n",
       "       [<Axes: title={'center': 'Weight'}>,\n",
       "        <Axes: title={'center': 'FCVC'}>,\n",
       "        <Axes: title={'center': 'NCP'}>],\n",
       "       [<Axes: title={'center': 'CH2O'}>,\n",
       "        <Axes: title={'center': 'FAF'}>, <Axes: title={'center': 'TUE'}>],\n",
       "       [<Axes: title={'center': 'BMI'}>, <Axes: >, <Axes: >]],\n",
       "      dtype=object)"
      ]
     },
     "execution_count": 149,
     "metadata": {},
     "output_type": "execute_result"
    },
    {
     "data": {
      "image/png": "[encoded data removed]",
      "text/plain": [
       "<Figure size 2000x1500 with 12 Axes>"
      ]
     },
     "metadata": {},
     "output_type": "display_data"
    }
   ],
   "source": [
    "df.hist(bins=50,figsize=(20,15))"
   ]
  },
  {
   "cell_type": "code",
   "execution_count": 8,
   "metadata": {},
   "outputs": [
    {
     "data": {
      "text/plain": [
       "id     Gender  Age        Height    Weight      family_history_with_overweight  FAVC  FCVC      NCP       CAEC       SMOKE  CH2O      SCC  FAF       TUE       CALC       MTRANS                 NObeyesdad         \n",
       "0      Male    24.443011  1.699998  81.669950   yes                             yes   2.000000  2.983297  Sometimes  no     2.763573  no   0.000000  0.976473  Sometimes  Public_Transportation  Overweight_Level_II    1\n",
       "13826  Male    21.012569  1.697421  100.431625  yes                             yes   2.000000  1.627555  Sometimes  no     1.000000  no   1.000000  0.460866  Sometimes  Public_Transportation  Obesity_Type_I         1\n",
       "13844  Female  16.496978  1.691206  82.000000   yes                             yes   2.668890  1.680838  Sometimes  no     1.876915  no   0.130417  1.796136  Sometimes  Public_Transportation  Obesity_Type_I         1\n",
       "13843  Female  21.024970  1.735810  131.042274  yes                             yes   3.000000  3.000000  Sometimes  no     1.650612  no   1.645532  0.912187  Sometimes  Public_Transportation  Obesity_Type_III       1\n",
       "13842  Female  27.000000  1.677573  77.493596   yes                             yes   3.000000  3.000000  Sometimes  no     1.968011  no   0.908981  0.753077  Sometimes  Public_Transportation  Overweight_Level_II    1\n",
       "                                                                                                                                                                                                                       ..\n",
       "6917   Female  21.285965  1.766888  131.335786  yes                             yes   3.000000  3.000000  Sometimes  no     1.959777  no   1.931173  0.893514  Sometimes  Public_Transportation  Obesity_Type_III       1\n",
       "6916   Male    22.038327  1.872517  91.052215   yes                             yes   2.000000  1.010319  Sometimes  no     1.011849  no   0.000000  0.453404  Sometimes  Public_Transportation  Obesity_Type_I         1\n",
       "6915   Female  22.771001  1.720000  82.000000   yes                             yes   2.607747  2.870661  Sometimes  no     1.005367  no   1.000000  0.000000  Sometimes  Public_Transportation  Obesity_Type_I         1\n",
       "6914   Male    40.317787  1.735851  109.889334  yes                             yes   2.522183  3.000000  Sometimes  no     1.144539  no   0.854957  0.000000  Sometimes  Automobile             Obesity_Type_II        1\n",
       "20757  Male    26.680376  1.816547  118.134898  yes                             yes   3.000000  3.000000  Sometimes  no     2.003563  no   0.684487  0.713823  Sometimes  Public_Transportation  Obesity_Type_II        1\n",
       "Name: count, Length: 20758, dtype: int64"
      ]
     },
     "execution_count": 8,
     "metadata": {},
     "output_type": "execute_result"
    }
   ],
   "source": [
    "df.value_counts()"
   ]
  },
  {
   "cell_type": "code",
   "execution_count": 9,
   "metadata": {},
   "outputs": [
    {
     "data": {
      "text/plain": [
       "Age\n",
       "18.000000    1916\n",
       "26.000000    1806\n",
       "21.000000    1643\n",
       "23.000000    1202\n",
       "19.000000     886\n",
       "             ... \n",
       "23.462915       1\n",
       "18.065817       1\n",
       "21.945380       1\n",
       "16.120699       1\n",
       "33.852953       1\n",
       "Name: count, Length: 1703, dtype: int64"
      ]
     },
     "execution_count": 9,
     "metadata": {},
     "output_type": "execute_result"
    }
   ],
   "source": [
    "df['Age'].value_counts()"
   ]
  },
  {
   "cell_type": "markdown",
   "metadata": {},
   "source": [
    "# * 각 칼럼에 대한 설명"
   ]
  },
  {
   "cell_type": "markdown",
   "metadata": {},
   "source": [
    "### **Gender**: \n",
    "- categorical variable that shows the biological sex of the individual (male or female).\n",
    "### **Age**: \n",
    "- numerical variable that shows the individual’s age in years.\n",
    "### **Height**: \n",
    "- numerical variable that shows the individuals’ height in meters.\n",
    "### **Weight**: \n",
    "- numerical variable that shows the individuals’ weight in kilograms.\n",
    "### **Family history of overweight**: \n",
    "- categorical variable that shows if the individual has a family member who is overweight or obese (yes or no).\n",
    "### **FAVC**  고칼로리 음식을 자주 섭취하는가?  -> yes/ no Frequently consumed high-calorie food (FAVC): \n",
    "- categorical variable that shows if the individual often eats high-calorie food \n",
    "- (yes or no).         \n",
    "### **FCVC**  야채를 자주 섭취하는가? -> 빈도 Frequency of consumption of vegetables (FCVC): \n",
    "- ordinal variable that shows how often the individual eats vegetables \n",
    "- (1 = never, 2 = sometimes, 3 = always).\n",
    "### **NCP** 메인 식사를 하루에 몇번 가지는가? -> 횟수 Number of main meals (NCP): \n",
    " - ordinal variable that shows how many main meals the individual has daily \n",
    " - (1 = between 1 and 2, 2 = three, 3 = more than three, 4 = no answer).                        \n",
    "### **CAEC**  식사와 식사 사이에 몇번 먹는가? -> 빈도 Consumption of food between meals (CAEC): \n",
    " - ordinal variable that shows how often the individual eats food between meals \n",
    " - (1 = no, 2 = sometimes, 3 = frequently, 4 = always).\n",
    " ### **SMOKE**  흡연 유무                        \n",
    " ### **CH2O** 물을 얼마나 마시는가? Consumption of water daily (CH2O): \n",
    " - ordinal variable that shows how much water the individual drinks daily \n",
    " - (1 = less than a liter, 2 = between 1 and 2 L, 3 = more than 2 L).                         \n",
    " ### **SCC** 칼로리를 확인하는가? -> yes / no Monitor calorie intake (SCC): \n",
    " - categorical variable that shows if the individual keeps track of their caloric intake \n",
    " - (yes or no).\n",
    " ### **FAF** 신체활동을 몇 번 하는가? -> 횟수 Frequency of physical activity (FAF): \n",
    " - ordinal variable that shows how often the individual does physical activity \n",
    " - (1 = never, 2 = once or twice a week, 3 = two or three times a week, 4 = four or five times a week).                           \n",
    " ### **TUE** 전자기기를 몇시간이나 사용하는가? Time using electronic devices (TUE): \n",
    " - ordinal variable that shows how long the individual uses electronic devices \n",
    " - (0 = none, 1 = less than an hour, 2 = between one and three hours, 3 = more than three hours).\n",
    " ### **CALC** 술은 얼마나 마시는가? Consumption of alcohol (CALC): \n",
    " - ordinal variable that shows how often the individual drinks alcohol \n",
    " - (1 = no, 2 = sometimes, 3 = frequently, 4 = always).\n",
    " ### **MTRANS** 교통수단은 뭘 이용하는가? Type of transportation used (MTRANS): \n",
    " - categorical variable that shows what kind of transportation the individual uses \n",
    " - (automobile, motorbike, bike, public transportation, walking).\n",
    " ### **NObeyesdad** : 비만유형"
   ]
  },
  {
   "cell_type": "markdown",
   "metadata": {},
   "source": [
    "# EDA"
   ]
  },
  {
   "cell_type": "code",
   "execution_count": 10,
   "metadata": {},
   "outputs": [
    {
     "data": {
      "text/plain": [
       "NObeyesdad\n",
       "Obesity_Type_III       4046\n",
       "Obesity_Type_II        3248\n",
       "Normal_Weight          3082\n",
       "Obesity_Type_I         2910\n",
       "Insufficient_Weight    2523\n",
       "Overweight_Level_II    2522\n",
       "Overweight_Level_I     2427\n",
       "Name: count, dtype: int64"
      ]
     },
     "execution_count": 10,
     "metadata": {},
     "output_type": "execute_result"
    }
   ],
   "source": [
    "df['NObeyesdad'].value_counts()"
   ]
  },
  {
   "cell_type": "code",
   "execution_count": 11,
   "metadata": {},
   "outputs": [
    {
     "data": {
      "text/plain": [
       "FAVC\n",
       "yes    18982\n",
       "no      1776\n",
       "Name: count, dtype: int64"
      ]
     },
     "execution_count": 11,
     "metadata": {},
     "output_type": "execute_result"
    }
   ],
   "source": [
    "df['FAVC'].value_counts()"
   ]
  },
  {
   "cell_type": "code",
   "execution_count": 12,
   "metadata": {},
   "outputs": [
    {
     "data": {
      "text/plain": [
       "FCVC\n",
       "3.000000    7658\n",
       "2.000000    7653\n",
       "1.000000     275\n",
       "2.967300     121\n",
       "2.766612      54\n",
       "            ... \n",
       "2.443674       1\n",
       "1.111887       1\n",
       "1.595746       1\n",
       "2.577427       1\n",
       "2.731368       1\n",
       "Name: count, Length: 934, dtype: int64"
      ]
     },
     "execution_count": 12,
     "metadata": {},
     "output_type": "execute_result"
    }
   ],
   "source": [
    "df['FCVC'].value_counts()\n",
    "# (1 = never, 2 = sometimes, 3 = always)."
   ]
  },
  {
   "cell_type": "code",
   "execution_count": 13,
   "metadata": {},
   "outputs": [
    {
     "name": "stdout",
     "output_type": "stream",
     "text": [
      "정수로 표시된 값들의 비율: 0.7508430484632431\n",
      "소수점으로 나와있는 값들의 비율: 0.24915695153675688\n"
     ]
    }
   ],
   "source": [
    "# 정수로 표시된 값들의 비율 계산\n",
    "integer_count = df['FCVC'].apply(lambda x: x.is_integer()).sum()\n",
    "total_count = len(df)\n",
    "integer_ratio = integer_count / total_count\n",
    "\n",
    "# 소수점으로 나와있는 값들의 비율 계산\n",
    "decimal_ratio = 1 - integer_ratio\n",
    "\n",
    "print(\"정수로 표시된 값들의 비율:\", integer_ratio)\n",
    "print(\"소수점으로 나와있는 값들의 비율:\", decimal_ratio)\n"
   ]
  },
  {
   "cell_type": "code",
   "execution_count": 14,
   "metadata": {},
   "outputs": [
    {
     "data": {
      "text/plain": [
       "NCP\n",
       "3.000000    14706\n",
       "1.000000     1976\n",
       "4.000000      715\n",
       "2.993623       39\n",
       "2.695396       25\n",
       "            ...  \n",
       "3.608850        1\n",
       "1.193486        1\n",
       "2.737620        1\n",
       "3.019574        1\n",
       "2.256119        1\n",
       "Name: count, Length: 689, dtype: int64"
      ]
     },
     "execution_count": 14,
     "metadata": {},
     "output_type": "execute_result"
    }
   ],
   "source": [
    "df['NCP'].value_counts()\n",
    "# (1 = between 1 and 2, 2 = three, 3 = more than three, 4 = no answer).  "
   ]
  },
  {
   "cell_type": "code",
   "execution_count": 15,
   "metadata": {},
   "outputs": [
    {
     "name": "stdout",
     "output_type": "stream",
     "text": [
      "정수로 표시된 값들의 비율: 0.8386164370363234\n",
      "소수점으로 나와있는 값들의 비율: 0.16138356296367662\n"
     ]
    }
   ],
   "source": [
    "# 정수로 표시된 값들의 비율 계산\n",
    "integer_count = df['NCP'].apply(lambda x: x.is_integer()).sum()\n",
    "total_count = len(df)\n",
    "integer_ratio = integer_count / total_count\n",
    "\n",
    "# 소수점으로 나와있는 값들의 비율 계산\n",
    "decimal_ratio = 1 - integer_ratio\n",
    "\n",
    "print(\"정수로 표시된 값들의 비율:\", integer_ratio)\n",
    "print(\"소수점으로 나와있는 값들의 비율:\", decimal_ratio)\n"
   ]
  },
  {
   "cell_type": "code",
   "execution_count": 16,
   "metadata": {},
   "outputs": [
    {
     "data": {
      "text/plain": [
       "CAEC\n",
       "Sometimes     17529\n",
       "Frequently     2472\n",
       "Always          478\n",
       "no              279\n",
       "Name: count, dtype: int64"
      ]
     },
     "execution_count": 16,
     "metadata": {},
     "output_type": "execute_result"
    }
   ],
   "source": [
    "df['CAEC'].value_counts()"
   ]
  },
  {
   "cell_type": "code",
   "execution_count": 17,
   "metadata": {},
   "outputs": [
    {
     "data": {
      "text/plain": [
       "SMOKE\n",
       "no     20513\n",
       "yes      245\n",
       "Name: count, dtype: int64"
      ]
     },
     "execution_count": 17,
     "metadata": {},
     "output_type": "execute_result"
    }
   ],
   "source": [
    "df['SMOKE'].value_counts()"
   ]
  },
  {
   "cell_type": "code",
   "execution_count": 18,
   "metadata": {},
   "outputs": [
    {
     "data": {
      "text/plain": [
       "CH2O\n",
       "2.000000    6616\n",
       "1.000000    2799\n",
       "3.000000    1571\n",
       "2.825629      77\n",
       "2.868167      60\n",
       "            ... \n",
       "2.835195       1\n",
       "2.632983       1\n",
       "2.090213       1\n",
       "2.756916       1\n",
       "1.365188       1\n",
       "Name: count, Length: 1506, dtype: int64"
      ]
     },
     "execution_count": 18,
     "metadata": {},
     "output_type": "execute_result"
    }
   ],
   "source": [
    "#(1 = less than a liter, 2 = between 1 and 2 L, 3 = more than 2 L).   \n",
    "df['CH2O'].value_counts()"
   ]
  },
  {
   "cell_type": "code",
   "execution_count": 19,
   "metadata": {},
   "outputs": [
    {
     "name": "stdout",
     "output_type": "stream",
     "text": [
      "정수로 표시된 값들의 비율: 0.5292417381250603\n",
      "소수점으로 나와있는 값들의 비율: 0.47075826187493974\n"
     ]
    }
   ],
   "source": [
    "# 정수로 표시된 값들의 비율 계산\n",
    "integer_count = df['CH2O'].apply(lambda x: x.is_integer()).sum()\n",
    "total_count = len(df)\n",
    "integer_ratio = integer_count / total_count\n",
    "\n",
    "# 소수점으로 나와있는 값들의 비율 계산\n",
    "decimal_ratio = 1 - integer_ratio\n",
    "\n",
    "print(\"정수로 표시된 값들의 비율:\", integer_ratio)\n",
    "print(\"소수점으로 나와있는 값들의 비율:\", decimal_ratio)"
   ]
  },
  {
   "cell_type": "code",
   "execution_count": 20,
   "metadata": {},
   "outputs": [
    {
     "data": {
      "text/plain": [
       "SCC\n",
       "no     20071\n",
       "yes      687\n",
       "Name: count, dtype: int64"
      ]
     },
     "execution_count": 20,
     "metadata": {},
     "output_type": "execute_result"
    }
   ],
   "source": [
    "df['SCC'].value_counts()"
   ]
  },
  {
   "cell_type": "code",
   "execution_count": 21,
   "metadata": {},
   "outputs": [
    {
     "data": {
      "text/plain": [
       "FAF\n",
       "0.000000    5044\n",
       "1.000000    4097\n",
       "2.000000    2391\n",
       "3.000000     800\n",
       "1.097905      56\n",
       "            ... \n",
       "1.706287       1\n",
       "0.675983       1\n",
       "1.923607       1\n",
       "1.320209       1\n",
       "0.988668       1\n",
       "Name: count, Length: 1360, dtype: int64"
      ]
     },
     "execution_count": 21,
     "metadata": {},
     "output_type": "execute_result"
    }
   ],
   "source": [
    "#(1 = never, 2 = once or twice a week, 3 = two or three times a week, 4 = four or five times a week).   \n",
    "df['FAF'].value_counts()"
   ]
  },
  {
   "cell_type": "code",
   "execution_count": 22,
   "metadata": {},
   "outputs": [
    {
     "name": "stdout",
     "output_type": "stream",
     "text": [
      "정수로 표시된 값들의 비율: 0.5940842084979285\n",
      "소수점으로 나와있는 값들의 비율: 0.40591579150207147\n"
     ]
    }
   ],
   "source": [
    "# 정수로 표시된 값들의 비율 계산\n",
    "integer_count = df['FAF'].apply(lambda x: x.is_integer()).sum()\n",
    "total_count = len(df)\n",
    "integer_ratio = integer_count / total_count\n",
    "\n",
    "# 소수점으로 나와있는 값들의 비율 계산\n",
    "decimal_ratio = 1 - integer_ratio\n",
    "\n",
    "print(\"정수로 표시된 값들의 비율:\", integer_ratio)\n",
    "print(\"소수점으로 나와있는 값들의 비율:\", decimal_ratio)"
   ]
  },
  {
   "cell_type": "code",
   "execution_count": 23,
   "metadata": {},
   "outputs": [
    {
     "data": {
      "text/plain": [
       "TUE\n",
       "0.000000    6566\n",
       "1.000000    4326\n",
       "2.000000    1133\n",
       "0.002600      78\n",
       "0.723154      65\n",
       "            ... \n",
       "1.223661       1\n",
       "0.057868       1\n",
       "0.236067       1\n",
       "0.073088       1\n",
       "0.768375       1\n",
       "Name: count, Length: 1297, dtype: int64"
      ]
     },
     "execution_count": 23,
     "metadata": {},
     "output_type": "execute_result"
    }
   ],
   "source": [
    "# (0 = none, 1 = less than an hour, 2 = between one and three hours, 3 = more than three hours).\n",
    "df['TUE'].value_counts()"
   ]
  },
  {
   "cell_type": "code",
   "execution_count": 24,
   "metadata": {},
   "outputs": [
    {
     "name": "stdout",
     "output_type": "stream",
     "text": [
      "정수로 표시된 값들의 비율: 0.5792947297427498\n",
      "소수점으로 나와있는 값들의 비율: 0.42070527025725024\n"
     ]
    }
   ],
   "source": [
    "# 정수로 표시된 값들의 비율 계산\n",
    "integer_count = df['TUE'].apply(lambda x: x.is_integer()).sum()\n",
    "total_count = len(df)\n",
    "integer_ratio = integer_count / total_count\n",
    "\n",
    "# 소수점으로 나와있는 값들의 비율 계산\n",
    "decimal_ratio = 1 - integer_ratio\n",
    "\n",
    "print(\"정수로 표시된 값들의 비율:\", integer_ratio)\n",
    "print(\"소수점으로 나와있는 값들의 비율:\", decimal_ratio)"
   ]
  },
  {
   "cell_type": "code",
   "execution_count": 25,
   "metadata": {},
   "outputs": [
    {
     "data": {
      "text/plain": [
       "CALC\n",
       "Sometimes     15066\n",
       "no             5163\n",
       "Frequently      529\n",
       "Name: count, dtype: int64"
      ]
     },
     "execution_count": 25,
     "metadata": {},
     "output_type": "execute_result"
    }
   ],
   "source": [
    "df['CALC'].value_counts()"
   ]
  },
  {
   "cell_type": "code",
   "execution_count": 26,
   "metadata": {},
   "outputs": [
    {
     "data": {
      "text/plain": [
       "MTRANS\n",
       "Public_Transportation    16687\n",
       "Automobile                3534\n",
       "Walking                    467\n",
       "Motorbike                   38\n",
       "Bike                        32\n",
       "Name: count, dtype: int64"
      ]
     },
     "execution_count": 26,
     "metadata": {},
     "output_type": "execute_result"
    }
   ],
   "source": [
    "df['MTRANS'].value_counts()"
   ]
  },
  {
   "cell_type": "code",
   "execution_count": 27,
   "metadata": {},
   "outputs": [
    {
     "data": {
      "text/plain": [
       "NObeyesdad\n",
       "Obesity_Type_III       4046\n",
       "Obesity_Type_II        3248\n",
       "Normal_Weight          3082\n",
       "Obesity_Type_I         2910\n",
       "Insufficient_Weight    2523\n",
       "Overweight_Level_II    2522\n",
       "Overweight_Level_I     2427\n",
       "Name: count, dtype: int64"
      ]
     },
     "execution_count": 27,
     "metadata": {},
     "output_type": "execute_result"
    }
   ],
   "source": [
    "df['NObeyesdad'].value_counts()"
   ]
  },
  {
   "cell_type": "markdown",
   "metadata": {},
   "source": [
    "# 상관관계 분석"
   ]
  },
  {
   "cell_type": "code",
   "execution_count": 28,
   "metadata": {},
   "outputs": [
    {
     "data": {
      "text/plain": [
       "Age\n",
       "18.000000    1916\n",
       "26.000000    1806\n",
       "21.000000    1643\n",
       "23.000000    1202\n",
       "19.000000     886\n",
       "             ... \n",
       "23.462915       1\n",
       "18.065817       1\n",
       "21.945380       1\n",
       "16.120699       1\n",
       "33.852953       1\n",
       "Name: count, Length: 1703, dtype: int64"
      ]
     },
     "execution_count": 28,
     "metadata": {},
     "output_type": "execute_result"
    }
   ],
   "source": [
    "df['Age'].value_counts()"
   ]
  },
  {
   "cell_type": "code",
   "execution_count": 29,
   "metadata": {},
   "outputs": [],
   "source": [
    "# Age 열을 소수점 이하 자릿수를 제거하여 정수로 변환\n",
    "df['Age'] = df['Age'].astype(int)"
   ]
  },
  {
   "cell_type": "code",
   "execution_count": 148,
   "metadata": {},
   "outputs": [
    {
     "data": {
      "text/plain": [
       "<Axes: >"
      ]
     },
     "execution_count": 148,
     "metadata": {},
     "output_type": "execute_result"
    },
    {
     "data": {
      "image/png": "[encoded data removed]",
      "text/plain": [
       "<Figure size 640x480 with 1 Axes>"
      ]
     },
     "metadata": {},
     "output_type": "display_data"
    }
   ],
   "source": [
    "df['Age'].hist()"
   ]
  },
  {
   "cell_type": "code",
   "execution_count": 31,
   "metadata": {},
   "outputs": [
    {
     "data": {
      "text/plain": [
       "id     Gender  Age  Height    Weight      family_history_with_overweight  FAVC  FCVC      NCP       CAEC       SMOKE  CH2O      SCC  FAF       TUE       CALC       MTRANS                 NObeyesdad         \n",
       "0      Male    24   1.699998  81.669950   yes                             yes   2.000000  2.983297  Sometimes  no     2.763573  no   0.000000  0.976473  Sometimes  Public_Transportation  Overweight_Level_II    1\n",
       "13826  Male    21   1.697421  100.431625  yes                             yes   2.000000  1.627555  Sometimes  no     1.000000  no   1.000000  0.460866  Sometimes  Public_Transportation  Obesity_Type_I         1\n",
       "13844  Female  16   1.691206  82.000000   yes                             yes   2.668890  1.680838  Sometimes  no     1.876915  no   0.130417  1.796136  Sometimes  Public_Transportation  Obesity_Type_I         1\n",
       "13843  Female  21   1.735810  131.042274  yes                             yes   3.000000  3.000000  Sometimes  no     1.650612  no   1.645532  0.912187  Sometimes  Public_Transportation  Obesity_Type_III       1\n",
       "13842  Female  27   1.677573  77.493596   yes                             yes   3.000000  3.000000  Sometimes  no     1.968011  no   0.908981  0.753077  Sometimes  Public_Transportation  Overweight_Level_II    1\n",
       "                                                                                                                                                                                                                 ..\n",
       "6917   Female  21   1.766888  131.335786  yes                             yes   3.000000  3.000000  Sometimes  no     1.959777  no   1.931173  0.893514  Sometimes  Public_Transportation  Obesity_Type_III       1\n",
       "6916   Male    22   1.872517  91.052215   yes                             yes   2.000000  1.010319  Sometimes  no     1.011849  no   0.000000  0.453404  Sometimes  Public_Transportation  Obesity_Type_I         1\n",
       "6915   Female  22   1.720000  82.000000   yes                             yes   2.607747  2.870661  Sometimes  no     1.005367  no   1.000000  0.000000  Sometimes  Public_Transportation  Obesity_Type_I         1\n",
       "6914   Male    40   1.735851  109.889334  yes                             yes   2.522183  3.000000  Sometimes  no     1.144539  no   0.854957  0.000000  Sometimes  Automobile             Obesity_Type_II        1\n",
       "20757  Male    26   1.816547  118.134898  yes                             yes   3.000000  3.000000  Sometimes  no     2.003563  no   0.684487  0.713823  Sometimes  Public_Transportation  Obesity_Type_II        1\n",
       "Name: count, Length: 20758, dtype: int64"
      ]
     },
     "execution_count": 31,
     "metadata": {},
     "output_type": "execute_result"
    }
   ],
   "source": [
    "df.value_counts()"
   ]
  },
  {
   "cell_type": "code",
   "execution_count": 32,
   "metadata": {},
   "outputs": [
    {
     "data": {
      "text/plain": [
       "Height\n",
       "1.700000    1334\n",
       "1.650000     782\n",
       "1.600000     672\n",
       "1.750000     659\n",
       "1.800000     517\n",
       "            ... \n",
       "1.631456       1\n",
       "1.753471       1\n",
       "1.782521       1\n",
       "1.930416       1\n",
       "1.536819       1\n",
       "Name: count, Length: 1833, dtype: int64"
      ]
     },
     "execution_count": 32,
     "metadata": {},
     "output_type": "execute_result"
    }
   ],
   "source": [
    "df['Height'].value_counts()"
   ]
  },
  {
   "cell_type": "code",
   "execution_count": 33,
   "metadata": {},
   "outputs": [],
   "source": [
    "df['Height'] = df['Height'].round(2)"
   ]
  },
  {
   "cell_type": "code",
   "execution_count": 34,
   "metadata": {},
   "outputs": [
    {
     "data": {
      "text/plain": [
       "Height\n",
       "1.70    1775\n",
       "1.75    1445\n",
       "1.62    1096\n",
       "1.65    1037\n",
       "1.63     998\n",
       "1.64     932\n",
       "1.60     900\n",
       "1.76     865\n",
       "1.72     834\n",
       "1.77     722\n",
       "1.80     698\n",
       "1.74     681\n",
       "1.78     576\n",
       "1.71     555\n",
       "1.79     549\n",
       "1.61     526\n",
       "1.67     471\n",
       "1.68     456\n",
       "1.66     455\n",
       "1.85     443\n",
       "1.82     410\n",
       "1.56     399\n",
       "1.69     389\n",
       "1.83     385\n",
       "1.73     365\n",
       "1.84     333\n",
       "1.55     275\n",
       "1.81     230\n",
       "1.57     216\n",
       "1.59     214\n",
       "1.87     205\n",
       "1.58     199\n",
       "1.50     175\n",
       "1.53     160\n",
       "1.52     159\n",
       "1.54     142\n",
       "1.86     137\n",
       "1.91     101\n",
       "1.88      55\n",
       "1.51      54\n",
       "1.90      37\n",
       "1.89      29\n",
       "1.92      25\n",
       "1.93      16\n",
       "1.48      12\n",
       "1.49       5\n",
       "1.98       4\n",
       "1.94       4\n",
       "1.95       4\n",
       "1.46       3\n",
       "1.45       2\n",
       "Name: count, dtype: int64"
      ]
     },
     "execution_count": 34,
     "metadata": {},
     "output_type": "execute_result"
    }
   ],
   "source": [
    "df['Height'].value_counts()"
   ]
  },
  {
   "cell_type": "code",
   "execution_count": 35,
   "metadata": {},
   "outputs": [],
   "source": [
    "df['Weight'] = df['Weight'].astype(int)"
   ]
  },
  {
   "cell_type": "code",
   "execution_count": 36,
   "metadata": {},
   "outputs": [
    {
     "data": {
      "text/plain": [
       "Index(['id', 'Gender', 'Age', 'Height', 'Weight',\n",
       "       'family_history_with_overweight', 'FAVC', 'FCVC', 'NCP', 'CAEC',\n",
       "       'SMOKE', 'CH2O', 'SCC', 'FAF', 'TUE', 'CALC', 'MTRANS', 'NObeyesdad'],\n",
       "      dtype='object')"
      ]
     },
     "execution_count": 36,
     "metadata": {},
     "output_type": "execute_result"
    }
   ],
   "source": [
    "df.columns"
   ]
  },
  {
   "cell_type": "code",
   "execution_count": 37,
   "metadata": {},
   "outputs": [],
   "source": [
    "# BMI를 계산하여 새로운 열로 추가\n",
    "df['BMI'] = (df['Weight'] / (df['Height'] ** 2)).round(1)"
   ]
  },
  {
   "cell_type": "code",
   "execution_count": 38,
   "metadata": {},
   "outputs": [
    {
     "data": {
      "text/plain": [
       "BMI\n",
       "41.3    477\n",
       "43.4    319\n",
       "27.7    315\n",
       "41.8    295\n",
       "29.4    293\n",
       "       ... \n",
       "49.2      1\n",
       "15.0      1\n",
       "50.8      1\n",
       "52.1      1\n",
       "47.5      1\n",
       "Name: count, Length: 374, dtype: int64"
      ]
     },
     "execution_count": 38,
     "metadata": {},
     "output_type": "execute_result"
    }
   ],
   "source": [
    "df['BMI'].value_counts()"
   ]
  },
  {
   "cell_type": "code",
   "execution_count": 39,
   "metadata": {},
   "outputs": [
    {
     "name": "stdout",
     "output_type": "stream",
     "text": [
      "NObeyesdad\n",
      "Insufficient_Weight    2210\n",
      "Normal_Weight           158\n",
      "Overweight_Level_I       12\n",
      "Obesity_Type_I            3\n",
      "Obesity_Type_III          1\n",
      "Name: count, dtype: int64\n"
     ]
    }
   ],
   "source": [
    "bmi_18_5 = df[df['BMI'] < 18.5]\n",
    "print(bmi_18_5['NObeyesdad'].value_counts())"
   ]
  },
  {
   "cell_type": "code",
   "execution_count": 40,
   "metadata": {},
   "outputs": [
    {
     "name": "stdout",
     "output_type": "stream",
     "text": [
      "NObeyesdad\n",
      "Normal_Weight          2747\n",
      "Overweight_Level_I      402\n",
      "Insufficient_Weight     301\n",
      "Overweight_Level_II      73\n",
      "Obesity_Type_I            9\n",
      "Obesity_Type_II           2\n",
      "Name: count, dtype: int64\n"
     ]
    }
   ],
   "source": [
    "bmi_18_5 = df[(df['BMI'] >= 18.5) & (df['BMI'] <= 24.9)]\n",
    "print(bmi_18_5['NObeyesdad'].value_counts())\n"
   ]
  },
  {
   "cell_type": "code",
   "execution_count": 41,
   "metadata": {},
   "outputs": [
    {
     "name": "stdout",
     "output_type": "stream",
     "text": [
      "NObeyesdad\n",
      "Overweight_Level_II    2201\n",
      "Overweight_Level_I     1966\n",
      "Obesity_Type_I          373\n",
      "Normal_Weight           172\n",
      "Obesity_Type_II          35\n",
      "Insufficient_Weight      11\n",
      "Obesity_Type_III          3\n",
      "Name: count, dtype: int64\n"
     ]
    }
   ],
   "source": [
    "bmi_18_5 = df[(df['BMI'] >=25.0) & (df['BMI'] <= 29.9)]\n",
    "print(bmi_18_5['NObeyesdad'].value_counts())"
   ]
  },
  {
   "cell_type": "code",
   "execution_count": 42,
   "metadata": {},
   "outputs": [
    {
     "name": "stdout",
     "output_type": "stream",
     "text": [
      "NObeyesdad\n",
      "Obesity_Type_III       0.194913\n",
      "Obesity_Type_II        0.156470\n",
      "Normal_Weight          0.148473\n",
      "Obesity_Type_I         0.140187\n",
      "Insufficient_Weight    0.121544\n",
      "Overweight_Level_II    0.121495\n",
      "Overweight_Level_I     0.116919\n",
      "Name: count, dtype: float64\n"
     ]
    }
   ],
   "source": [
    "#비교적 고르게 분포되어 있다. \n",
    "# 각 비만도별 횟수 계산\n",
    "obesity_counts = df['NObeyesdad'].value_counts()\n",
    "\n",
    "# 전체 행의 수 계산\n",
    "total_samples = len(df)\n",
    "\n",
    "# 각 비만도별 비율 계산\n",
    "obesity_ratios = obesity_counts / total_samples\n",
    "\n",
    "# 결과 출력\n",
    "print(obesity_ratios)\n"
   ]
  },
  {
   "cell_type": "code",
   "execution_count": 43,
   "metadata": {},
   "outputs": [
    {
     "name": "stdout",
     "output_type": "stream",
     "text": [
      "Chi-square value: 216.3006126923555\n",
      "p-value: 6.396981747148517e-44\n",
      "Degrees of freedom: 6\n",
      "Expected frequencies table:\n",
      "[[2493.22184218 3045.62414491 2875.65420561 3209.66490028 3998.24636285\n",
      "  2398.35489932 2492.23364486]\n",
      " [  29.77815782   36.37585509   34.34579439   38.33509972   47.75363715\n",
      "    28.64510068   29.76635514]]\n"
     ]
    }
   ],
   "source": [
    "from scipy.stats import chi2_contingency\n",
    "\n",
    "# 'Age'와 'NObesity' 간의 관계를 카이제곱 검정으로 분석\n",
    "crosstab = pd.crosstab(df['SMOKE'], df['NObeyesdad'])\n",
    "chi2, p, dof, expected = chi2_contingency(crosstab)\n",
    "\n",
    "# 결과 출력\n",
    "print(\"Chi-square value:\", chi2)\n",
    "print(\"p-value:\", p)\n",
    "print(\"Degrees of freedom:\", dof)\n",
    "print(\"Expected frequencies table:\")\n",
    "print(expected)\n",
    "\n"
   ]
  },
  {
   "cell_type": "code",
   "execution_count": 45,
   "metadata": {},
   "outputs": [
    {
     "name": "stdout",
     "output_type": "stream",
     "text": [
      "Chi-square value: 6423.317090815157\n",
      "p-value: 0.0\n",
      "Degrees of freedom: 6\n",
      "Expected frequencies table:\n",
      "[[ 455.05886887  555.88245496  524.85981308  585.82291165  729.7535408\n",
      "   437.74390596  454.87850467]\n",
      " [2067.94113113 2526.11754504 2385.14018692 2662.17708835 3316.2464592\n",
      "  1989.25609404 2067.12149533]]\n"
     ]
    }
   ],
   "source": [
    "from scipy.stats import chi2_contingency\n",
    "\n",
    "# 'Age'와 'NObesity' 간의 관계를 카이제곱 검정으로 분석\n",
    "crosstab = pd.crosstab(df['family_history_with_overweight'], df['NObeyesdad'])\n",
    "chi2, p, dof, expected = chi2_contingency(crosstab)\n",
    "\n",
    "# 결과 출력\n",
    "print(\"Chi-square value:\", chi2)\n",
    "print(\"p-value:\", p)\n",
    "print(\"Degrees of freedom:\", dof)\n",
    "print(\"Expected frequencies table:\")\n",
    "print(expected)\n",
    "\n"
   ]
  },
  {
   "cell_type": "code",
   "execution_count": 46,
   "metadata": {},
   "outputs": [
    {
     "name": "stdout",
     "output_type": "stream",
     "text": [
      "Chi-square value: 2349.082567778232\n",
      "p-value: 0.0\n",
      "Degrees of freedom: 24\n",
      "Expected frequencies table:\n",
      "[[ 429.5347336   524.70315059  495.42056075  552.96425475  688.82185182\n",
      "   413.19096252  429.36448598]\n",
      " [   3.88939204    4.75113209    4.48598131    5.00703343    6.23720975\n",
      "     3.74140091    3.88785047]\n",
      " [   4.61865305    5.64196936    5.3271028     5.9458522     7.40668658\n",
      "     4.44291358    4.61682243]\n",
      " [2028.1964062  2477.56691396 2339.29906542 2611.01146546 3252.50997206\n",
      "  1951.02365353 2027.39252336]\n",
      " [  56.76081511   69.33683399   65.46728972   73.07139416   91.0242798\n",
      "    54.60106947   56.73831776]]\n"
     ]
    }
   ],
   "source": [
    "from scipy.stats import chi2_contingency\n",
    "\n",
    "# 'Age'와 'NObesity' 간의 관계를 카이제곱 검정으로 분석\n",
    "crosstab = pd.crosstab(df['MTRANS'], df['NObeyesdad'])\n",
    "chi2, p, dof, expected = chi2_contingency(crosstab)\n",
    "\n",
    "# 결과 출력\n",
    "print(\"Chi-square value:\", chi2)\n",
    "print(\"p-value:\", p)\n",
    "print(\"Degrees of freedom:\", dof)\n",
    "print(\"Expected frequencies table:\")\n",
    "print(expected)\n",
    "\n"
   ]
  },
  {
   "cell_type": "code",
   "execution_count": 47,
   "metadata": {},
   "outputs": [
    {
     "name": "stdout",
     "output_type": "stream",
     "text": [
      "Chi-square value for Gender vs NObeyesdad: 7953.767544285371\n",
      "p-value for Gender vs NObeyesdad: 0.0\n",
      "\n",
      "Chi-square value for family_history_with_overweight vs NObeyesdad: 6423.317090815157\n",
      "p-value for family_history_with_overweight vs NObeyesdad: 0.0\n",
      "\n",
      "Chi-square value for FAVC vs NObeyesdad: 1553.6297505782907\n",
      "p-value for FAVC vs NObeyesdad: 0.0\n",
      "\n",
      "Chi-square value for CAEC vs NObeyesdad: 6897.329566047414\n",
      "p-value for CAEC vs NObeyesdad: 0.0\n",
      "\n",
      "Chi-square value for SMOKE vs NObeyesdad: 216.3006126923555\n",
      "p-value for SMOKE vs NObeyesdad: 6.396981747148517e-44\n",
      "\n",
      "Chi-square value for SCC vs NObeyesdad: 1024.7984666527484\n",
      "p-value for SCC vs NObeyesdad: 3.870102954479357e-218\n",
      "\n",
      "Chi-square value for CALC vs NObeyesdad: 4013.082706081725\n",
      "p-value for CALC vs NObeyesdad: 0.0\n",
      "\n"
     ]
    }
   ],
   "source": [
    "from scipy.stats import chi2_contingency\n",
    "\n",
    "# 변수들을 포함한 데이터프레임 준비\n",
    "variables = ['Gender', 'family_history_with_overweight', 'FAVC', 'CAEC', 'SMOKE', 'SCC', 'CALC', 'NObeyesdad']\n",
    "df_selected = df[variables]\n",
    "\n",
    "# 각 변수들 간의 교차표 생성 및 카이제곱 검정 수행\n",
    "for variable in variables[:-1]:  # 마지막 변수인 'NObeyesdad'는 타겟 변수이므로 제외\n",
    "    crosstab = pd.crosstab(df_selected[variable], df_selected['NObeyesdad'])\n",
    "    chi2, p, dof, expected = chi2_contingency(crosstab)\n",
    "    print(f\"Chi-square value for {variable} vs NObeyesdad:\", chi2)\n",
    "    print(f\"p-value for {variable} vs NObeyesdad:\", p)\n",
    "    print()\n"
   ]
  },
  {
   "cell_type": "code",
   "execution_count": 48,
   "metadata": {},
   "outputs": [
    {
     "name": "stdout",
     "output_type": "stream",
     "text": [
      "Cramer's V value: NObeyesdad\n",
      "Insufficient_Weight    0.292799\n",
      "Normal_Weight          0.264919\n",
      "Obesity_Type_I         0.272635\n",
      "Obesity_Type_II        0.258060\n",
      "Obesity_Type_III       0.231215\n",
      "Overweight_Level_I     0.298534\n",
      "Overweight_Level_II    0.292857\n",
      "dtype: float64\n"
     ]
    }
   ],
   "source": [
    "import numpy as np\n",
    "from scipy.stats import chi2_contingency\n",
    "import pandas as pd\n",
    "\n",
    "def cramers_v(confusion_matrix):\n",
    "    chi2 = chi2_contingency(confusion_matrix)[0]\n",
    "    n = confusion_matrix.sum()\n",
    "    r, c = confusion_matrix.shape\n",
    "    v = np.sqrt(chi2 / (n * min(r-1, c-1)))\n",
    "    return v\n",
    "\n",
    "# 교차표 생성\n",
    "confusion_matrix = pd.crosstab(df['SMOKE'], df['NObeyesdad'])\n",
    "\n",
    "# Cramer's V 값 계산\n",
    "v = cramers_v(confusion_matrix)\n",
    "print(\"Cramer's V value:\", v)\n"
   ]
  },
  {
   "cell_type": "code",
   "execution_count": 49,
   "metadata": {},
   "outputs": [
    {
     "name": "stdout",
     "output_type": "stream",
     "text": [
      "Cramer's V value: NObeyesdad\n",
      "Insufficient_Weight    1.775529\n",
      "Normal_Weight          1.606461\n",
      "Obesity_Type_I         1.653255\n",
      "Obesity_Type_II        1.564871\n",
      "Obesity_Type_III       1.402082\n",
      "Overweight_Level_I     1.810304\n",
      "Overweight_Level_II    1.775881\n",
      "dtype: float64\n"
     ]
    }
   ],
   "source": [
    "import numpy as np\n",
    "from scipy.stats import chi2_contingency\n",
    "import pandas as pd\n",
    "\n",
    "def cramers_v(confusion_matrix):\n",
    "    chi2 = chi2_contingency(confusion_matrix)[0]\n",
    "    n = confusion_matrix.sum()\n",
    "    r, c = confusion_matrix.shape\n",
    "    v = np.sqrt(chi2 / (n * min(r-1, c-1)))\n",
    "    return v\n",
    "\n",
    "# 교차표 생성\n",
    "confusion_matrix = pd.crosstab(df['Gender'], df['NObeyesdad'])\n",
    "\n",
    "# Cramer's V 값 계산\n",
    "v = cramers_v(confusion_matrix)\n",
    "print(\"Cramer's V value:\", v)\n"
   ]
  },
  {
   "cell_type": "code",
   "execution_count": 50,
   "metadata": {},
   "outputs": [
    {
     "name": "stdout",
     "output_type": "stream",
     "text": [
      "Cramer's V value: NObeyesdad\n",
      "Insufficient_Weight    1.595589\n",
      "Normal_Weight          1.443655\n",
      "Obesity_Type_I         1.485707\n",
      "Obesity_Type_II        1.406280\n",
      "Obesity_Type_III       1.259989\n",
      "Overweight_Level_I     1.626840\n",
      "Overweight_Level_II    1.595905\n",
      "dtype: float64\n"
     ]
    }
   ],
   "source": [
    "import numpy as np\n",
    "from scipy.stats import chi2_contingency\n",
    "import pandas as pd\n",
    "\n",
    "def cramers_v(confusion_matrix):\n",
    "    chi2 = chi2_contingency(confusion_matrix)[0]\n",
    "    n = confusion_matrix.sum()\n",
    "    r, c = confusion_matrix.shape\n",
    "    v = np.sqrt(chi2 / (n * min(r-1, c-1)))\n",
    "    return v\n",
    "\n",
    "# 교차표 생성\n",
    "confusion_matrix = pd.crosstab(df['family_history_with_overweight'], df['NObeyesdad'])\n",
    "\n",
    "# Cramer's V 값 계산\n",
    "v = cramers_v(confusion_matrix)\n",
    "print(\"Cramer's V value:\", v)\n"
   ]
  },
  {
   "cell_type": "code",
   "execution_count": 51,
   "metadata": {},
   "outputs": [
    {
     "name": "stdout",
     "output_type": "stream",
     "text": [
      "Cramer's V value: NObeyesdad\n",
      "Insufficient_Weight    0.784721\n",
      "Normal_Weight          0.709999\n",
      "Obesity_Type_I         0.730680\n",
      "Obesity_Type_II        0.691617\n",
      "Obesity_Type_III       0.619671\n",
      "Overweight_Level_I     0.800090\n",
      "Overweight_Level_II    0.784876\n",
      "dtype: float64\n"
     ]
    }
   ],
   "source": [
    "import numpy as np\n",
    "from scipy.stats import chi2_contingency\n",
    "import pandas as pd\n",
    "\n",
    "def cramers_v(confusion_matrix):\n",
    "    chi2 = chi2_contingency(confusion_matrix)[0]\n",
    "    n = confusion_matrix.sum()\n",
    "    r, c = confusion_matrix.shape\n",
    "    v = np.sqrt(chi2 / (n * min(r-1, c-1)))\n",
    "    return v\n",
    "\n",
    "# 교차표 생성\n",
    "confusion_matrix = pd.crosstab(df['FAVC'], df['NObeyesdad'])\n",
    "\n",
    "# Cramer's V 값 계산\n",
    "v = cramers_v(confusion_matrix)\n",
    "print(\"Cramer's V value:\", v)\n"
   ]
  },
  {
   "cell_type": "code",
   "execution_count": 52,
   "metadata": {},
   "outputs": [
    {
     "name": "stdout",
     "output_type": "stream",
     "text": [
      "Cramer's V value: NObeyesdad\n",
      "Insufficient_Weight    0.637324\n",
      "Normal_Weight          0.576638\n",
      "Obesity_Type_I         0.593434\n",
      "Obesity_Type_II        0.561709\n",
      "Obesity_Type_III       0.503276\n",
      "Overweight_Level_I     0.649807\n",
      "Overweight_Level_II    0.637451\n",
      "dtype: float64\n"
     ]
    }
   ],
   "source": [
    "import numpy as np\n",
    "from scipy.stats import chi2_contingency\n",
    "import pandas as pd\n",
    "\n",
    "def cramers_v(confusion_matrix):\n",
    "    chi2 = chi2_contingency(confusion_matrix)[0]\n",
    "    n = confusion_matrix.sum()\n",
    "    r, c = confusion_matrix.shape\n",
    "    v = np.sqrt(chi2 / (n * min(r-1, c-1)))\n",
    "    return v\n",
    "\n",
    "# 교차표 생성\n",
    "confusion_matrix = pd.crosstab(df['SCC'], df['NObeyesdad'])\n",
    "\n",
    "# Cramer's V 값 계산\n",
    "v = cramers_v(confusion_matrix)\n",
    "print(\"Cramer's V value:\", v)\n"
   ]
  },
  {
   "cell_type": "code",
   "execution_count": 53,
   "metadata": {},
   "outputs": [
    {
     "name": "stdout",
     "output_type": "stream",
     "text": [
      "                         Variable  Chi-square value        p-value  \\\n",
      "0                          Gender       7953.767544   0.000000e+00   \n",
      "1  family_history_with_overweight       6423.317091   0.000000e+00   \n",
      "2                            FAVC       1553.629751   0.000000e+00   \n",
      "3                            CAEC       6897.329566   0.000000e+00   \n",
      "4                           SMOKE        216.300613   6.396982e-44   \n",
      "5                             SCC       1024.798467  3.870103e-218   \n",
      "6                            CALC       4013.082706   0.000000e+00   \n",
      "\n",
      "                                          Cramer's V  \n",
      "0  NObeyesdad\n",
      "Insufficient_Weight    1.775529\n",
      "Nor...  \n",
      "1  NObeyesdad\n",
      "Insufficient_Weight    1.595589\n",
      "Nor...  \n",
      "2  NObeyesdad\n",
      "Insufficient_Weight    0.784721\n",
      "Nor...  \n",
      "3  NObeyesdad\n",
      "Insufficient_Weight    0.954600\n",
      "Nor...  \n",
      "4  NObeyesdad\n",
      "Insufficient_Weight    0.292799\n",
      "Nor...  \n",
      "5  NObeyesdad\n",
      "Insufficient_Weight    0.637324\n",
      "Nor...  \n",
      "6  NObeyesdad\n",
      "Insufficient_Weight    0.891796\n",
      "Nor...  \n"
     ]
    }
   ],
   "source": [
    "import pandas as pd\n",
    "from scipy.stats import chi2_contingency\n",
    "\n",
    "# Cramer's V 계산 함수\n",
    "def cramers_v(confusion_matrix):\n",
    "    chi2 = chi2_contingency(confusion_matrix)[0]\n",
    "    n = confusion_matrix.sum()\n",
    "    r, c = confusion_matrix.shape\n",
    "    v = np.sqrt(chi2 / (n * min(r-1, c-1)))\n",
    "    return v\n",
    "\n",
    "# 변수들을 포함한 데이터프레임 준비\n",
    "variables = ['Gender', 'family_history_with_overweight', 'FAVC', 'CAEC', 'SMOKE', 'SCC', 'CALC', 'NObeyesdad']\n",
    "df_selected = df[variables]\n",
    "\n",
    "# 결과를 저장할 빈 리스트 생성\n",
    "results = []\n",
    "\n",
    "# 각 변수들 간의 교차표 생성 및 카이제곱 검정 수행\n",
    "for variable in variables[:-1]:  # 마지막 변수인 'NObeyesdad'는 타겟 변수이므로 제외\n",
    "    crosstab = pd.crosstab(df_selected[variable], df_selected['NObeyesdad'])\n",
    "    chi2, p, dof, expected = chi2_contingency(crosstab)\n",
    "    v = cramers_v(crosstab)\n",
    "    results.append({'Variable': variable, 'Chi-square value': chi2, 'p-value': p, \"Cramer's V\": v})\n",
    "\n",
    "# 결과를 DataFrame으로 변환하여 출력\n",
    "results_df = pd.DataFrame(results)\n",
    "print(results_df)\n"
   ]
  },
  {
   "cell_type": "code",
   "execution_count": 54,
   "metadata": {},
   "outputs": [
    {
     "name": "stdout",
     "output_type": "stream",
     "text": [
      "                         Variable  Chi-square value  \\\n",
      "0                          Gender           7953.77   \n",
      "3                            CAEC           6897.33   \n",
      "1  family_history_with_overweight           6423.32   \n",
      "6                            CALC           4013.08   \n",
      "2                            FAVC           1553.63   \n",
      "5                             SCC           1024.80   \n",
      "4                           SMOKE            216.30   \n",
      "\n",
      "                                          Cramer's V  \n",
      "0  NObeyesdad\n",
      "Insufficient_Weight    1.775529\n",
      "Nor...  \n",
      "3  NObeyesdad\n",
      "Insufficient_Weight    0.954600\n",
      "Nor...  \n",
      "1  NObeyesdad\n",
      "Insufficient_Weight    1.595589\n",
      "Nor...  \n",
      "6  NObeyesdad\n",
      "Insufficient_Weight    0.891796\n",
      "Nor...  \n",
      "2  NObeyesdad\n",
      "Insufficient_Weight    0.784721\n",
      "Nor...  \n",
      "5  NObeyesdad\n",
      "Insufficient_Weight    0.637324\n",
      "Nor...  \n",
      "4  NObeyesdad\n",
      "Insufficient_Weight    0.292799\n",
      "Nor...  \n"
     ]
    }
   ],
   "source": [
    "# 결과를 DataFrame으로 변환하여 출력\n",
    "results_df = pd.DataFrame(results)\n",
    "# 필요한 정보만 선택하여 출력\n",
    "simple_results_df = results_df[['Variable', 'Chi-square value', \"Cramer's V\"]]\n",
    "# 소수점 제한\n",
    "simple_results_df = simple_results_df.round(2)\n",
    "# 결과를 Chi-square value 값으로 정렬\n",
    "simple_results_df = simple_results_df.sort_values(by='Chi-square value', ascending=False)\n",
    "print(simple_results_df)\n"
   ]
  },
  {
   "cell_type": "markdown",
   "metadata": {},
   "source": [
    "# 성별은 비만에 얼마나 영향을 줄까?"
   ]
  },
  {
   "cell_type": "code",
   "execution_count": 147,
   "metadata": {},
   "outputs": [
    {
     "data": {
      "image/png": "[encoded data removed]",
      "text/plain": [
       "<Figure size 640x480 with 2 Axes>"
      ]
     },
     "metadata": {},
     "output_type": "display_data"
    }
   ],
   "source": [
    "import seaborn as sns\n",
    "import matplotlib.pyplot as plt\n",
    "\n",
    "# Gender와 NObeyesdad 간의 교차표 생성\n",
    "gender_obesity_cross = pd.crosstab(df['Gender'], df['NObeyesdad'])\n",
    "\n",
    "# 교차표 시각화\n",
    "sns.heatmap(gender_obesity_cross, annot=True, cmap='Blues', fmt='d')\n",
    "plt.title('Gender vs. NObeyesdad')\n",
    "plt.xlabel('NObeyesdad')\n",
    "plt.ylabel('Gender')\n",
    "plt.show()\n"
   ]
  },
  {
   "cell_type": "code",
   "execution_count": 56,
   "metadata": {},
   "outputs": [
    {
     "name": "stdout",
     "output_type": "stream",
     "text": [
      "NObeyesdad\n",
      "Obesity_Type_III       38.773748\n",
      "Normal_Weight          15.927845\n",
      "Insufficient_Weight    15.553637\n",
      "Obesity_Type_I         12.156976\n",
      "Overweight_Level_I     10.266743\n",
      "Overweight_Level_II     7.244291\n",
      "Obesity_Type_II         0.076761\n",
      "Name: count, dtype: float64\n"
     ]
    }
   ],
   "source": [
    "female_data = df[df['Gender'] == 'Female']\n",
    "female_counts = female_data['NObeyesdad'].value_counts()\n",
    "female_ratios = female_counts / len(female_data) * 100\n",
    "print(female_ratios)\n"
   ]
  },
  {
   "cell_type": "code",
   "execution_count": 57,
   "metadata": {},
   "outputs": [
    {
     "name": "stdout",
     "output_type": "stream",
     "text": [
      "NObeyesdad\n",
      "Obesity_Type_II        31.346749\n",
      "Overweight_Level_II    17.095588\n",
      "Obesity_Type_I         15.895898\n",
      "Normal_Weight          13.757740\n",
      "Overweight_Level_I     13.128870\n",
      "Insufficient_Weight     8.726780\n",
      "Obesity_Type_III        0.048375\n",
      "Name: count, dtype: float64\n"
     ]
    }
   ],
   "source": [
    "male_data = df[df['Gender'] == 'Male']\n",
    "male_counts = male_data['NObeyesdad'].value_counts()\n",
    "male_ratios = male_counts / len(male_data) * 100\n",
    "print(male_ratios)"
   ]
  },
  {
   "cell_type": "markdown",
   "metadata": {},
   "source": [
    "## 성별에 따른 비만도\n",
    "\n",
    "| NObeyesdad          | Female (%) | Male (%) |\n",
    "|---------------------|------------|----------|\n",
    "| Insufficient_Weight | 6.31       | 38.70    |\n",
    "| Normal_Weight       | 10.52      | 34.51    |\n",
    "| Overweight_Level_I  | 9.82       | 20.19    |\n",
    "| Overweight_Level_II | 13.69      | 5.15     |\n",
    "| Obesity_Type_I      | 16.82      | 1.28     |\n",
    "| Obesity_Type_II     | 19.06      | 31.34    |\n",
    "| Obesity_Type_III    | 23.77      | 0.04     |\n"
   ]
  },
  {
   "cell_type": "markdown",
   "metadata": {},
   "source": [
    "# 가족이력은 비만도에 어떤 영향을 미칠까?"
   ]
  },
  {
   "cell_type": "code",
   "execution_count": 58,
   "metadata": {},
   "outputs": [
    {
     "data": {
      "text/plain": [
       "family_history_with_overweight\n",
       "yes    81.96358\n",
       "no     18.03642\n",
       "Name: count, dtype: float64"
      ]
     },
     "execution_count": 58,
     "metadata": {},
     "output_type": "execute_result"
    }
   ],
   "source": [
    "df['family_history_with_overweight'].value_counts() / len(df) * 100"
   ]
  },
  {
   "cell_type": "code",
   "execution_count": 59,
   "metadata": {},
   "outputs": [
    {
     "name": "stdout",
     "output_type": "stream",
     "text": [
      "NObeyesdad\n",
      "Obesity_Type_III       23.774539\n",
      "Obesity_Type_II        19.060773\n",
      "Obesity_Type_I         16.821441\n",
      "Overweight_Level_II    13.688727\n",
      "Normal_Weight          10.520748\n",
      "Overweight_Level_I      9.821324\n",
      "Insufficient_Weight     6.312449\n",
      "Name: count, dtype: float64\n"
     ]
    }
   ],
   "source": [
    "counts = df[df['family_history_with_overweight'] == 'yes']['NObeyesdad'].value_counts()\n",
    "ratios = counts / len(df[df['family_history_with_overweight'] == 'yes']) * 100\n",
    "print(ratios)"
   ]
  },
  {
   "cell_type": "code",
   "execution_count": 60,
   "metadata": {},
   "outputs": [
    {
     "name": "stdout",
     "output_type": "stream",
     "text": [
      "NObeyesdad\n",
      "Insufficient_Weight    38.701923\n",
      "Normal_Weight          34.508547\n",
      "Overweight_Level_I     20.192308\n",
      "Overweight_Level_II     5.154915\n",
      "Obesity_Type_I          1.282051\n",
      "Obesity_Type_II         0.133547\n",
      "Obesity_Type_III        0.026709\n",
      "Name: count, dtype: float64\n"
     ]
    }
   ],
   "source": [
    "counts = df[df['family_history_with_overweight'] == 'no']['NObeyesdad'].value_counts()\n",
    "ratios = counts / len(df[df['family_history_with_overweight'] == 'no']) * 100\n",
    "print(ratios)"
   ]
  },
  {
   "cell_type": "markdown",
   "metadata": {},
   "source": [
    "\n",
    "### 가족력에 따른 비만도\n",
    "\n",
    "| NObeyesdad          | family_history_with_overweight (==yes) | family_history_with_overweight (==no) |\n",
    "|---------------------|---------------------|---------------------|\n",
    "| Insufficient_Weight |  6.31%              | 38.70%              |\n",
    "| Normal_Weight       | 10.52%              | 34.51%              |\n",
    "| Overweight_Level_I  |  9.82%              | 20.19%              |\n",
    "| Overweight_Level_II | 13.69%              |  5.15%              |\n",
    "| Obesity_Type_I      | 16.82%              |  1.28%              |\n",
    "| Obesity_Type_II     | 19.06%              |  0.13%              |\n",
    "| Obesity_Type_III    | 23.77%              |  0.02%              |\n"
   ]
  },
  {
   "cell_type": "code",
   "execution_count": 61,
   "metadata": {},
   "outputs": [
    {
     "name": "stdout",
     "output_type": "stream",
     "text": [
      "<class 'pandas.core.frame.DataFrame'>\n",
      "RangeIndex: 20758 entries, 0 to 20757\n",
      "Data columns (total 19 columns):\n",
      " #   Column                          Non-Null Count  Dtype  \n",
      "---  ------                          --------------  -----  \n",
      " 0   id                              20758 non-null  int64  \n",
      " 1   Gender                          20758 non-null  object \n",
      " 2   Age                             20758 non-null  int64  \n",
      " 3   Height                          20758 non-null  float64\n",
      " 4   Weight                          20758 non-null  int64  \n",
      " 5   family_history_with_overweight  20758 non-null  object \n",
      " 6   FAVC                            20758 non-null  object \n",
      " 7   FCVC                            20758 non-null  float64\n",
      " 8   NCP                             20758 non-null  float64\n",
      " 9   CAEC                            20758 non-null  object \n",
      " 10  SMOKE                           20758 non-null  object \n",
      " 11  CH2O                            20758 non-null  float64\n",
      " 12  SCC                             20758 non-null  object \n",
      " 13  FAF                             20758 non-null  float64\n",
      " 14  TUE                             20758 non-null  float64\n",
      " 15  CALC                            20758 non-null  object \n",
      " 16  MTRANS                          20758 non-null  object \n",
      " 17  NObeyesdad                      20758 non-null  object \n",
      " 18  BMI                             20758 non-null  float64\n",
      "dtypes: float64(7), int64(3), object(9)\n",
      "memory usage: 3.0+ MB\n"
     ]
    }
   ],
   "source": [
    "df.info()"
   ]
  },
  {
   "cell_type": "markdown",
   "metadata": {},
   "source": [
    "# 나이는 비만에 어떤 영향을 줄까?"
   ]
  },
  {
   "cell_type": "code",
   "execution_count": 62,
   "metadata": {},
   "outputs": [],
   "source": [
    "# 10대: 10~19세, 20대: 20~29세, 30대: 30세 이상\n",
    "bins = [10, 20, 30,40,50,60,70,80,float('inf')]\n",
    "labels = ['10대', '20대', '30대','40대','50대','60대','70대','80대']\n",
    "df['Age_Group'] = pd.cut(df['Age'], bins=bins, labels=labels, right=False)"
   ]
  },
  {
   "cell_type": "code",
   "execution_count": 63,
   "metadata": {},
   "outputs": [
    {
     "data": {
      "text/plain": [
       "Age_Group\n",
       "20대    12722\n",
       "10대     5140\n",
       "30대     2509\n",
       "40대      317\n",
       "50대       68\n",
       "60대        2\n",
       "70대        0\n",
       "80대        0\n",
       "Name: count, dtype: int64"
      ]
     },
     "execution_count": 63,
     "metadata": {},
     "output_type": "execute_result"
    }
   ],
   "source": [
    "df['Age_Group'].value_counts()"
   ]
  },
  {
   "cell_type": "code",
   "execution_count": 64,
   "metadata": {},
   "outputs": [
    {
     "data": {
      "text/plain": [
       "NObeyesdad\n",
       "Obesity_Type_III       29.107059\n",
       "Obesity_Type_II        16.530420\n",
       "Normal_Weight          13.889326\n",
       "Obesity_Type_I         13.661374\n",
       "Overweight_Level_I     11.326835\n",
       "Overweight_Level_II     9.778337\n",
       "Insufficient_Weight     5.706650\n",
       "Name: count, dtype: float64"
      ]
     },
     "execution_count": 64,
     "metadata": {},
     "output_type": "execute_result"
    }
   ],
   "source": [
    "df[df['Age_Group']=='20대']['NObeyesdad'].value_counts() / len(df[df['Age_Group']=='20대']) * 100"
   ]
  },
  {
   "cell_type": "code",
   "execution_count": 65,
   "metadata": {},
   "outputs": [
    {
     "data": {
      "text/plain": [
       "NObeyesdad\n",
       "Obesity_Type_II        42.925468\n",
       "Overweight_Level_II    25.906736\n",
       "Obesity_Type_I         16.301315\n",
       "Overweight_Level_I     11.279394\n",
       "Normal_Weight           3.188521\n",
       "Insufficient_Weight     0.358709\n",
       "Obesity_Type_III        0.039857\n",
       "Name: count, dtype: float64"
      ]
     },
     "execution_count": 65,
     "metadata": {},
     "output_type": "execute_result"
    }
   ],
   "source": [
    "df[df['Age_Group']=='30대']['NObeyesdad'].value_counts() / len(df[df['Age_Group']=='30대']) * 100"
   ]
  },
  {
   "cell_type": "code",
   "execution_count": 66,
   "metadata": {},
   "outputs": [
    {
     "data": {
      "text/plain": [
       "NObeyesdad\n",
       "Obesity_Type_I         54.258675\n",
       "Overweight_Level_II    18.296530\n",
       "Obesity_Type_II        17.034700\n",
       "Overweight_Level_I      8.201893\n",
       "Normal_Weight           1.577287\n",
       "Insufficient_Weight     0.630915\n",
       "Name: count, dtype: float64"
      ]
     },
     "execution_count": 66,
     "metadata": {},
     "output_type": "execute_result"
    }
   ],
   "source": [
    "df[df['Age_Group']=='40대']['NObeyesdad'].value_counts() / len(df[df['Age_Group']=='40대']) * 100"
   ]
  },
  {
   "cell_type": "code",
   "execution_count": 67,
   "metadata": {},
   "outputs": [
    {
     "data": {
      "text/plain": [
       "NObeyesdad\n",
       "Overweight_Level_II    77.941176\n",
       "Overweight_Level_I     14.705882\n",
       "Obesity_Type_I          4.411765\n",
       "Normal_Weight           1.470588\n",
       "Obesity_Type_II         1.470588\n",
       "Name: count, dtype: float64"
      ]
     },
     "execution_count": 67,
     "metadata": {},
     "output_type": "execute_result"
    }
   ],
   "source": [
    "df[df['Age_Group']=='50대']['NObeyesdad'].value_counts() / len(df[df['Age_Group']=='50대']) * 100"
   ]
  },
  {
   "cell_type": "code",
   "execution_count": 68,
   "metadata": {},
   "outputs": [
    {
     "data": {
      "text/plain": [
       "NObeyesdad\n",
       "Insufficient_Weight    34.747082\n",
       "Normal_Weight          23.910506\n",
       "Overweight_Level_I     12.937743\n",
       "Obesity_Type_I         11.439689\n",
       "Overweight_Level_II    10.058366\n",
       "Obesity_Type_III        6.653696\n",
       "Obesity_Type_II         0.252918\n",
       "Name: count, dtype: float64"
      ]
     },
     "execution_count": 68,
     "metadata": {},
     "output_type": "execute_result"
    }
   ],
   "source": [
    "df[df['Age_Group']=='10대']['NObeyesdad'].value_counts() / len(df[df['Age_Group']=='10대']) * 100"
   ]
  },
  {
   "cell_type": "markdown",
   "metadata": {},
   "source": [
    "### 연령대에 따른 비만도\n",
    "\n",
    "| Age_group           | 10s(%)       | 20s(%)       | 30s(%)       | 40s(%)       | 50s(%)       |\n",
    "|---------------------|-----------|-----------|-----------|-----------|-----------|\n",
    "| Insufficient_Weight | 34.747082 | 5.706650  | 0.358709  | 0.630915  | x         |\n",
    "| Normal_Weight       | 23.910506 | 13.889326 | 3.188521  | 1.577287  | 1.470588  |\n",
    "| Overweight_Level_I  | 12.937743 | 11.326835 | 11.279394 | 8.201893  | 14.705882 |\n",
    "| Overweight_Level_II | 10.058366 | 9.778337  | 25.906736 | 18.296530 | 77.941176 |\n",
    "| Obesity_Type_I      | 11.439689 | 13.661374 | 16.301315 | 54.258675 | 4.411765  |\n",
    "| Obesity_Type_II     | 0.252918  | 16.530420 | 42.925468 | 17.034700 | 1.470588  |\n",
    "| Obesity_Type_III    | 6.653696  | 29.107059 | 0.039857  | x         | x         |"
   ]
  },
  {
   "cell_type": "code",
   "execution_count": 69,
   "metadata": {},
   "outputs": [
    {
     "data": {
      "text/plain": [
       "Age_Group\n",
       "20대    61.287215\n",
       "10대    24.761538\n",
       "30대    12.086906\n",
       "40대     1.527122\n",
       "50대     0.327585\n",
       "60대     0.009635\n",
       "70대     0.000000\n",
       "80대     0.000000\n",
       "Name: count, dtype: float64"
      ]
     },
     "execution_count": 69,
     "metadata": {},
     "output_type": "execute_result"
    }
   ],
   "source": [
    "df['Age_Group'].value_counts() / len(df['Age_Group']) * 100\n",
    "#20대의 비중이 제일 높음. "
   ]
  },
  {
   "cell_type": "code",
   "execution_count": 70,
   "metadata": {},
   "outputs": [
    {
     "name": "stdout",
     "output_type": "stream",
     "text": [
      "20대 여성의 비만도 비율:\n",
      "NObeyesdad\n",
      "Obesity_Type_III       54.817670\n",
      "Normal_Weight          13.489475\n",
      "Obesity_Type_I          9.072043\n",
      "Overweight_Level_I      8.612511\n",
      "Insufficient_Weight     8.345686\n",
      "Overweight_Level_II     5.647791\n",
      "Obesity_Type_II         0.014824\n",
      "Name: count, dtype: float64\n",
      "\n",
      "20대 남성의 비만도 비율:\n",
      "NObeyesdad\n",
      "Obesity_Type_II        35.174029\n",
      "Obesity_Type_I         18.842035\n",
      "Overweight_Level_II    14.441098\n",
      "Overweight_Level_I     14.390897\n",
      "Normal_Weight          14.340696\n",
      "Insufficient_Weight     2.727577\n",
      "Obesity_Type_III        0.083668\n",
      "Name: count, dtype: float64\n"
     ]
    }
   ],
   "source": [
    "# 20대 여성의 비만도 비율\n",
    "female_obesity = df[(df['Age_Group']=='20대') & (df['Gender']=='Female')]['NObeyesdad'].value_counts() / len(df[(df['Age_Group']=='20대') & (df['Gender']=='Female')]) * 100\n",
    "\n",
    "# 20대 남성의 비만도 비율\n",
    "male_obesity = df[(df['Age_Group']=='20대') & (df['Gender']=='Male')]['NObeyesdad'].value_counts() / len(df[(df['Age_Group']=='20대') & (df['Gender']=='Male')]) * 100\n",
    "\n",
    "print(\"20대 여성의 비만도 비율:\")\n",
    "print(female_obesity)\n",
    "\n",
    "print(\"\\n20대 남성의 비만도 비율:\")\n",
    "print(male_obesity)\n"
   ]
  },
  {
   "cell_type": "code",
   "execution_count": null,
   "metadata": {},
   "outputs": [],
   "source": []
  },
  {
   "cell_type": "code",
   "execution_count": 71,
   "metadata": {},
   "outputs": [
    {
     "name": "stdout",
     "output_type": "stream",
     "text": [
      "10대 여성의 비만도 비율:\n",
      "NObeyesdad\n",
      "Insufficient_Weight    38.126362\n",
      "Normal_Weight          25.599129\n",
      "Obesity_Type_III       12.418301\n",
      "Overweight_Level_I     10.203341\n",
      "Obesity_Type_I          8.460421\n",
      "Overweight_Level_II     5.156137\n",
      "Obesity_Type_II         0.036311\n",
      "Name: count, dtype: float64\n",
      "\n",
      "10대 남성의 비만도 비율:\n",
      "NObeyesdad\n",
      "Insufficient_Weight    30.846605\n",
      "Normal_Weight          21.961442\n",
      "Overweight_Level_I     16.093881\n",
      "Overweight_Level_II    15.716681\n",
      "Obesity_Type_I         14.878458\n",
      "Obesity_Type_II         0.502934\n",
      "Name: count, dtype: float64\n"
     ]
    }
   ],
   "source": [
    "# 20대 여성의 비만도 비율\n",
    "female_obesity = df[(df['Age_Group']=='10대') & (df['Gender']=='Female')]['NObeyesdad'].value_counts() / len(df[(df['Age_Group']=='10대') & (df['Gender']=='Female')]) * 100\n",
    "\n",
    "# 20대 남성의 비만도 비율\n",
    "male_obesity = df[(df['Age_Group']=='10대') & (df['Gender']=='Male')]['NObeyesdad'].value_counts() / len(df[(df['Age_Group']=='10대') & (df['Gender']=='Male')]) * 100\n",
    "\n",
    "print(\"10대 여성의 비만도 비율:\")\n",
    "print(female_obesity)\n",
    "\n",
    "print(\"\\n10대 남성의 비만도 비율:\")\n",
    "print(male_obesity)\n"
   ]
  },
  {
   "cell_type": "code",
   "execution_count": 72,
   "metadata": {},
   "outputs": [
    {
     "name": "stdout",
     "output_type": "stream",
     "text": [
      "30대 여성의 비만도 비율:\n",
      "NObeyesdad\n",
      "Obesity_Type_I         39.714286\n",
      "Overweight_Level_II    26.571429\n",
      "Overweight_Level_I     26.142857\n",
      "Normal_Weight           5.571429\n",
      "Insufficient_Weight     1.000000\n",
      "Obesity_Type_II         0.857143\n",
      "Obesity_Type_III        0.142857\n",
      "Name: count, dtype: float64\n",
      "\n",
      "30대 남성의 비만도 비율:\n",
      "NObeyesdad\n",
      "Obesity_Type_II        59.203980\n",
      "Overweight_Level_II    25.649530\n",
      "Obesity_Type_I          7.241570\n",
      "Overweight_Level_I      5.527916\n",
      "Normal_Weight           2.266446\n",
      "Insufficient_Weight     0.110558\n",
      "Name: count, dtype: float64\n"
     ]
    }
   ],
   "source": [
    "# 30대 여성의 비만도 비율\n",
    "female_obesity = df[(df['Age_Group']=='30대') & (df['Gender']=='Female')]['NObeyesdad'].value_counts() / len(df[(df['Age_Group']=='30대') & (df['Gender']=='Female')]) * 100\n",
    "\n",
    "# 30대 남성의 비만도 비율\n",
    "male_obesity = df[(df['Age_Group']=='30대') & (df['Gender']=='Male')]['NObeyesdad'].value_counts() / len(df[(df['Age_Group']=='30대') & (df['Gender']=='Male')]) * 100\n",
    "\n",
    "print(\"30대 여성의 비만도 비율:\")\n",
    "print(female_obesity)\n",
    "\n",
    "print(\"\\n30대 남성의 비만도 비율:\")\n",
    "print(male_obesity)"
   ]
  },
  {
   "cell_type": "markdown",
   "metadata": {},
   "source": [
    "\n",
    "### 10대 남여의 비만도\n",
    "\n",
    "| 10s Age_group       | Female    | Male      |\n",
    "|---------------------|-----------|-----------|\n",
    "| Insufficient_Weight | 38.126362 | 30.846605 |\n",
    "| Normal_Weight       | 25.599129 | 21.961442 |\n",
    "| Overweight_Level_I  | 10.203341 | 16.093881 |\n",
    "| Overweight_Level_II | 5.156137  | 15.716681 |\n",
    "| Obesity_Type_I      | 8.460421  | 14.878458 |\n",
    "| Obesity_Type_II     | 0.036311  | 0.502934  |\n",
    "| Obesity_Type_III    | 12.418301 | x         |\n",
    "\n",
    "\n",
    "\n",
    "### 20대 남여의 비만도 \n",
    "\n",
    "| 20s Age_group       | Female    | Male      |\n",
    "|---------------------|-----------|-----------|\n",
    "| Insufficient_Weight | 8.345686  | 2.727577  |\n",
    "| Normal_Weight       | 13.489475 | 14.340696 |\n",
    "| Overweight_Level_I  | 8.612511  | 14.390897 |\n",
    "| Overweight_Level_II | 5.647791  | 14.441098 |\n",
    "| Obesity_Type_I      | 9.072043  | 18.842035 |\n",
    "| Obesity_Type_II     | 0.014824  | 35.174029 |\n",
    "| Obesity_Type_III    | 54.817670 | 0.083668  |\n",
    "\n",
    "\n",
    "### 30대 남여의 비만도\n",
    "| 30s Age_group       | Female    | Male      |\n",
    "|---------------------|-----------|-----------|\n",
    "| Insufficient_Weight | 1.000000  | 0.110558  |\n",
    "| Normal_Weight       | 5.571429  | 2.266446  |\n",
    "| Overweight_Level_I  | 26.142857 | 5.527916  |\n",
    "| Overweight_Level_II | 26.571429 | 25.649530 |\n",
    "| Obesity_Type_I      | 39.714286 | 7.241570  |\n",
    "| Obesity_Type_II     | 0.857143  | 59.203980 |\n",
    "| Obesity_Type_III    | 0.142857  | x         |"
   ]
  },
  {
   "cell_type": "code",
   "execution_count": 76,
   "metadata": {},
   "outputs": [
    {
     "data": {
      "text/plain": [
       "NObeyesdad\n",
       "Insufficient_Weight    38.126362\n",
       "Normal_Weight          25.599129\n",
       "Obesity_Type_III       12.418301\n",
       "Overweight_Level_I     10.203341\n",
       "Obesity_Type_I          8.460421\n",
       "Overweight_Level_II     5.156137\n",
       "Obesity_Type_II         0.036311\n",
       "Name: count, dtype: float64"
      ]
     },
     "execution_count": 76,
     "metadata": {},
     "output_type": "execute_result"
    }
   ],
   "source": [
    "df[(df['Age_Group']=='10대') & (df['Gender']=='Female')]['NObeyesdad'].value_counts() / len(df[(df['Age_Group']=='10대') & (df['Gender']=='Female')]) * 100"
   ]
  },
  {
   "cell_type": "code",
   "execution_count": 77,
   "metadata": {},
   "outputs": [
    {
     "data": {
      "text/plain": [
       "NObeyesdad\n",
       "Obesity_Type_III       54.817670\n",
       "Normal_Weight          13.489475\n",
       "Obesity_Type_I          9.072043\n",
       "Overweight_Level_I      8.612511\n",
       "Insufficient_Weight     8.345686\n",
       "Overweight_Level_II     5.647791\n",
       "Obesity_Type_II         0.014824\n",
       "Name: count, dtype: float64"
      ]
     },
     "execution_count": 77,
     "metadata": {},
     "output_type": "execute_result"
    }
   ],
   "source": [
    "df[(df['Age_Group']=='20대') & (df['Gender']=='Female')]['NObeyesdad'].value_counts() / len(df[(df['Age_Group']=='20대') & (df['Gender']=='Female')]) * 100"
   ]
  },
  {
   "cell_type": "code",
   "execution_count": 82,
   "metadata": {},
   "outputs": [
    {
     "data": {
      "text/plain": [
       "Index(['id', 'Gender', 'Age', 'Height', 'Weight',\n",
       "       'family_history_with_overweight', 'FAVC', 'FCVC', 'NCP', 'CAEC',\n",
       "       'SMOKE', 'CH2O', 'SCC', 'FAF', 'TUE', 'CALC', 'MTRANS', 'NObeyesdad',\n",
       "       'BMI', 'Age_Group'],\n",
       "      dtype='object')"
      ]
     },
     "execution_count": 82,
     "metadata": {},
     "output_type": "execute_result"
    }
   ],
   "source": [
    "df.columns"
   ]
  },
  {
   "cell_type": "markdown",
   "metadata": {},
   "source": [
    "# 10대 여성의 Obesity_Type_III 비율과 20대 여성의 Obesity_Type_III 이 너무 많이 차이가 난다. 원인이 뭘까?"
   ]
  },
  {
   "cell_type": "markdown",
   "metadata": {},
   "source": [
    "#### 고칼로리를 더 많이 섭취하는가?\n"
   ]
  },
  {
   "cell_type": "code",
   "execution_count": 80,
   "metadata": {},
   "outputs": [
    {
     "data": {
      "text/plain": [
       "FAVC\n",
       "yes    86.456064\n",
       "no     13.543936\n",
       "Name: count, dtype: float64"
      ]
     },
     "execution_count": 80,
     "metadata": {},
     "output_type": "execute_result"
    }
   ],
   "source": [
    "df[(df['Age_Group']=='10대') & (df['Gender']=='Female')]['FAVC'].value_counts()  / len(df[(df['Age_Group']=='10대') & (df['Gender']=='Female')]) * 100"
   ]
  },
  {
   "cell_type": "code",
   "execution_count": 81,
   "metadata": {},
   "outputs": [
    {
     "data": {
      "text/plain": [
       "FAVC\n",
       "yes    92.677142\n",
       "no      7.322858\n",
       "Name: count, dtype: float64"
      ]
     },
     "execution_count": 81,
     "metadata": {},
     "output_type": "execute_result"
    }
   ],
   "source": [
    "df[(df['Age_Group']=='20대') & (df['Gender']=='Female')]['FAVC'].value_counts()  / len(df[(df['Age_Group']=='20대') & (df['Gender']=='Female')]) * 100"
   ]
  },
  {
   "cell_type": "markdown",
   "metadata": {},
   "source": [
    "#### 채소 섭취 빈도의 차이?"
   ]
  },
  {
   "cell_type": "code",
   "execution_count": 83,
   "metadata": {},
   "outputs": [
    {
     "data": {
      "text/plain": [
       "2.472472498928831"
      ]
     },
     "execution_count": 83,
     "metadata": {},
     "output_type": "execute_result"
    }
   ],
   "source": [
    "df[(df['Age_Group']=='10대') & (df['Gender']=='Female')]['FCVC'].mean()\n"
   ]
  },
  {
   "cell_type": "code",
   "execution_count": 84,
   "metadata": {},
   "outputs": [
    {
     "data": {
      "text/plain": [
       "2.709776288022532"
      ]
     },
     "execution_count": 84,
     "metadata": {},
     "output_type": "execute_result"
    }
   ],
   "source": [
    "df[(df['Age_Group']=='20대') & (df['Gender']=='Female')]['FCVC'].mean()"
   ]
  },
  {
   "cell_type": "markdown",
   "metadata": {},
   "source": [
    "#### 신체 활동 빈도의 차이?\n",
    "- 10대 여성이 신체 활동의 빈도 평균이 더 높다."
   ]
  },
  {
   "cell_type": "code",
   "execution_count": 85,
   "metadata": {},
   "outputs": [
    {
     "data": {
      "text/plain": [
       "1.1293450188816267"
      ]
     },
     "execution_count": 85,
     "metadata": {},
     "output_type": "execute_result"
    }
   ],
   "source": [
    "df[(df['Age_Group']=='10대') & (df['Gender']=='Female')]['FAF'].mean()"
   ]
  },
  {
   "cell_type": "code",
   "execution_count": 86,
   "metadata": {},
   "outputs": [
    {
     "data": {
      "text/plain": [
       "0.6741797303972725"
      ]
     },
     "execution_count": 86,
     "metadata": {},
     "output_type": "execute_result"
    }
   ],
   "source": [
    "df[(df['Age_Group']=='20대') & (df['Gender']=='Female')]['FAF'].mean()"
   ]
  },
  {
   "cell_type": "markdown",
   "metadata": {},
   "source": [
    "#### 음주 정도가 차이를 만느나?"
   ]
  },
  {
   "cell_type": "code",
   "execution_count": 88,
   "metadata": {},
   "outputs": [
    {
     "data": {
      "text/plain": [
       "CALC\n",
       "Sometimes     15066\n",
       "no             5163\n",
       "Frequently      529\n",
       "Name: count, dtype: int64"
      ]
     },
     "execution_count": 88,
     "metadata": {},
     "output_type": "execute_result"
    }
   ],
   "source": [
    "df['CALC'].value_counts()"
   ]
  },
  {
   "cell_type": "code",
   "execution_count": 89,
   "metadata": {},
   "outputs": [
    {
     "data": {
      "text/plain": [
       "CALC\n",
       "Sometimes     70.007262\n",
       "no            28.503994\n",
       "Frequently     1.488744\n",
       "Name: count, dtype: float64"
      ]
     },
     "execution_count": 89,
     "metadata": {},
     "output_type": "execute_result"
    }
   ],
   "source": [
    "df[(df['Age_Group']=='10대') & (df['Gender']=='Female')]['CALC'].value_counts() / len(df[(df['Age_Group']=='10대') & (df['Gender']=='Female')])* 100"
   ]
  },
  {
   "cell_type": "code",
   "execution_count": 90,
   "metadata": {},
   "outputs": [
    {
     "data": {
      "text/plain": [
       "CALC\n",
       "Sometimes     80.002965\n",
       "no            18.499852\n",
       "Frequently     1.497184\n",
       "Name: count, dtype: float64"
      ]
     },
     "execution_count": 90,
     "metadata": {},
     "output_type": "execute_result"
    }
   ],
   "source": [
    "df[(df['Age_Group']=='20대') & (df['Gender']=='Female')]['CALC'].value_counts() / len(df[(df['Age_Group']=='20대') & (df['Gender']=='Female')])* 100"
   ]
  },
  {
   "cell_type": "code",
   "execution_count": 98,
   "metadata": {},
   "outputs": [],
   "source": [
    "f_df = df[(df['Age_Group']=='20대') & (df['Gender']=='Female')]"
   ]
  },
  {
   "cell_type": "code",
   "execution_count": 102,
   "metadata": {},
   "outputs": [],
   "source": [
    "bins = [20, 25, float('inf')]\n",
    "labels = ['early_20s', 'late_20s']\n",
    "f_df['20_Age_Group'] = pd.cut(f_df['Age'], bins=bins, labels=labels, right=False)\n"
   ]
  },
  {
   "cell_type": "code",
   "execution_count": 106,
   "metadata": {},
   "outputs": [
    {
     "data": {
      "text/html": [
       "<div>\n",
       "<style scoped>\n",
       "    .dataframe tbody tr th:only-of-type {\n",
       "        vertical-align: middle;\n",
       "    }\n",
       "\n",
       "    .dataframe tbody tr th {\n",
       "        vertical-align: top;\n",
       "    }\n",
       "\n",
       "    .dataframe thead th {\n",
       "        text-align: right;\n",
       "    }\n",
       "</style>\n",
       "<table border=\"1\" class=\"dataframe\">\n",
       "  <thead>\n",
       "    <tr style=\"text-align: right;\">\n",
       "      <th></th>\n",
       "      <th>id</th>\n",
       "      <th>Gender</th>\n",
       "      <th>Age</th>\n",
       "      <th>Height</th>\n",
       "      <th>Weight</th>\n",
       "      <th>family_history_with_overweight</th>\n",
       "      <th>FAVC</th>\n",
       "      <th>FCVC</th>\n",
       "      <th>NCP</th>\n",
       "      <th>CAEC</th>\n",
       "      <th>...</th>\n",
       "      <th>CH2O</th>\n",
       "      <th>SCC</th>\n",
       "      <th>FAF</th>\n",
       "      <th>TUE</th>\n",
       "      <th>CALC</th>\n",
       "      <th>MTRANS</th>\n",
       "      <th>NObeyesdad</th>\n",
       "      <th>BMI</th>\n",
       "      <th>Age_Group</th>\n",
       "      <th>20_Age_Group</th>\n",
       "    </tr>\n",
       "  </thead>\n",
       "  <tbody>\n",
       "    <tr>\n",
       "      <th>3</th>\n",
       "      <td>3</td>\n",
       "      <td>Female</td>\n",
       "      <td>20</td>\n",
       "      <td>1.71</td>\n",
       "      <td>131</td>\n",
       "      <td>yes</td>\n",
       "      <td>yes</td>\n",
       "      <td>3.0</td>\n",
       "      <td>3.0</td>\n",
       "      <td>Sometimes</td>\n",
       "      <td>...</td>\n",
       "      <td>1.674061</td>\n",
       "      <td>no</td>\n",
       "      <td>1.467863</td>\n",
       "      <td>0.780199</td>\n",
       "      <td>Sometimes</td>\n",
       "      <td>Public_Transportation</td>\n",
       "      <td>Obesity_Type_III</td>\n",
       "      <td>44.8</td>\n",
       "      <td>20대</td>\n",
       "      <td>early_20s</td>\n",
       "    </tr>\n",
       "    <tr>\n",
       "      <th>9</th>\n",
       "      <td>9</td>\n",
       "      <td>Female</td>\n",
       "      <td>26</td>\n",
       "      <td>1.64</td>\n",
       "      <td>111</td>\n",
       "      <td>yes</td>\n",
       "      <td>yes</td>\n",
       "      <td>3.0</td>\n",
       "      <td>3.0</td>\n",
       "      <td>Sometimes</td>\n",
       "      <td>...</td>\n",
       "      <td>2.632253</td>\n",
       "      <td>no</td>\n",
       "      <td>0.000000</td>\n",
       "      <td>0.218645</td>\n",
       "      <td>Sometimes</td>\n",
       "      <td>Public_Transportation</td>\n",
       "      <td>Obesity_Type_III</td>\n",
       "      <td>41.3</td>\n",
       "      <td>20대</td>\n",
       "      <td>late_20s</td>\n",
       "    </tr>\n",
       "    <tr>\n",
       "      <th>10</th>\n",
       "      <td>10</td>\n",
       "      <td>Female</td>\n",
       "      <td>20</td>\n",
       "      <td>1.65</td>\n",
       "      <td>65</td>\n",
       "      <td>yes</td>\n",
       "      <td>yes</td>\n",
       "      <td>3.0</td>\n",
       "      <td>3.0</td>\n",
       "      <td>Sometimes</td>\n",
       "      <td>...</td>\n",
       "      <td>3.000000</td>\n",
       "      <td>no</td>\n",
       "      <td>1.000000</td>\n",
       "      <td>0.000000</td>\n",
       "      <td>Sometimes</td>\n",
       "      <td>Public_Transportation</td>\n",
       "      <td>Overweight_Level_I</td>\n",
       "      <td>23.9</td>\n",
       "      <td>20대</td>\n",
       "      <td>early_20s</td>\n",
       "    </tr>\n",
       "    <tr>\n",
       "      <th>13</th>\n",
       "      <td>13</td>\n",
       "      <td>Female</td>\n",
       "      <td>21</td>\n",
       "      <td>1.73</td>\n",
       "      <td>131</td>\n",
       "      <td>yes</td>\n",
       "      <td>yes</td>\n",
       "      <td>3.0</td>\n",
       "      <td>3.0</td>\n",
       "      <td>Sometimes</td>\n",
       "      <td>...</td>\n",
       "      <td>1.959531</td>\n",
       "      <td>no</td>\n",
       "      <td>1.425712</td>\n",
       "      <td>0.947884</td>\n",
       "      <td>Sometimes</td>\n",
       "      <td>Public_Transportation</td>\n",
       "      <td>Obesity_Type_III</td>\n",
       "      <td>43.8</td>\n",
       "      <td>20대</td>\n",
       "      <td>early_20s</td>\n",
       "    </tr>\n",
       "    <tr>\n",
       "      <th>14</th>\n",
       "      <td>14</td>\n",
       "      <td>Female</td>\n",
       "      <td>20</td>\n",
       "      <td>1.57</td>\n",
       "      <td>49</td>\n",
       "      <td>no</td>\n",
       "      <td>no</td>\n",
       "      <td>2.0</td>\n",
       "      <td>1.0</td>\n",
       "      <td>Sometimes</td>\n",
       "      <td>...</td>\n",
       "      <td>1.000000</td>\n",
       "      <td>no</td>\n",
       "      <td>3.000000</td>\n",
       "      <td>2.000000</td>\n",
       "      <td>no</td>\n",
       "      <td>Walking</td>\n",
       "      <td>Normal_Weight</td>\n",
       "      <td>19.9</td>\n",
       "      <td>20대</td>\n",
       "      <td>early_20s</td>\n",
       "    </tr>\n",
       "    <tr>\n",
       "      <th>...</th>\n",
       "      <td>...</td>\n",
       "      <td>...</td>\n",
       "      <td>...</td>\n",
       "      <td>...</td>\n",
       "      <td>...</td>\n",
       "      <td>...</td>\n",
       "      <td>...</td>\n",
       "      <td>...</td>\n",
       "      <td>...</td>\n",
       "      <td>...</td>\n",
       "      <td>...</td>\n",
       "      <td>...</td>\n",
       "      <td>...</td>\n",
       "      <td>...</td>\n",
       "      <td>...</td>\n",
       "      <td>...</td>\n",
       "      <td>...</td>\n",
       "      <td>...</td>\n",
       "      <td>...</td>\n",
       "      <td>...</td>\n",
       "      <td>...</td>\n",
       "    </tr>\n",
       "    <tr>\n",
       "      <th>20737</th>\n",
       "      <td>20737</td>\n",
       "      <td>Female</td>\n",
       "      <td>25</td>\n",
       "      <td>1.63</td>\n",
       "      <td>104</td>\n",
       "      <td>yes</td>\n",
       "      <td>yes</td>\n",
       "      <td>3.0</td>\n",
       "      <td>3.0</td>\n",
       "      <td>Sometimes</td>\n",
       "      <td>...</td>\n",
       "      <td>1.322004</td>\n",
       "      <td>no</td>\n",
       "      <td>0.246290</td>\n",
       "      <td>0.723154</td>\n",
       "      <td>Sometimes</td>\n",
       "      <td>Public_Transportation</td>\n",
       "      <td>Obesity_Type_III</td>\n",
       "      <td>39.1</td>\n",
       "      <td>20대</td>\n",
       "      <td>late_20s</td>\n",
       "    </tr>\n",
       "    <tr>\n",
       "      <th>20740</th>\n",
       "      <td>20740</td>\n",
       "      <td>Female</td>\n",
       "      <td>20</td>\n",
       "      <td>1.59</td>\n",
       "      <td>49</td>\n",
       "      <td>no</td>\n",
       "      <td>no</td>\n",
       "      <td>2.0</td>\n",
       "      <td>3.0</td>\n",
       "      <td>Sometimes</td>\n",
       "      <td>...</td>\n",
       "      <td>2.000000</td>\n",
       "      <td>no</td>\n",
       "      <td>2.000000</td>\n",
       "      <td>0.000000</td>\n",
       "      <td>Sometimes</td>\n",
       "      <td>Public_Transportation</td>\n",
       "      <td>Normal_Weight</td>\n",
       "      <td>19.4</td>\n",
       "      <td>20대</td>\n",
       "      <td>early_20s</td>\n",
       "    </tr>\n",
       "    <tr>\n",
       "      <th>20744</th>\n",
       "      <td>20744</td>\n",
       "      <td>Female</td>\n",
       "      <td>26</td>\n",
       "      <td>1.64</td>\n",
       "      <td>111</td>\n",
       "      <td>yes</td>\n",
       "      <td>yes</td>\n",
       "      <td>3.0</td>\n",
       "      <td>3.0</td>\n",
       "      <td>Sometimes</td>\n",
       "      <td>...</td>\n",
       "      <td>2.396977</td>\n",
       "      <td>no</td>\n",
       "      <td>0.000000</td>\n",
       "      <td>0.037078</td>\n",
       "      <td>Sometimes</td>\n",
       "      <td>Public_Transportation</td>\n",
       "      <td>Obesity_Type_III</td>\n",
       "      <td>41.3</td>\n",
       "      <td>20대</td>\n",
       "      <td>late_20s</td>\n",
       "    </tr>\n",
       "    <tr>\n",
       "      <th>20749</th>\n",
       "      <td>20749</td>\n",
       "      <td>Female</td>\n",
       "      <td>25</td>\n",
       "      <td>1.65</td>\n",
       "      <td>104</td>\n",
       "      <td>yes</td>\n",
       "      <td>yes</td>\n",
       "      <td>3.0</td>\n",
       "      <td>3.0</td>\n",
       "      <td>Sometimes</td>\n",
       "      <td>...</td>\n",
       "      <td>1.530992</td>\n",
       "      <td>no</td>\n",
       "      <td>0.015860</td>\n",
       "      <td>0.445495</td>\n",
       "      <td>Sometimes</td>\n",
       "      <td>Public_Transportation</td>\n",
       "      <td>Obesity_Type_III</td>\n",
       "      <td>38.2</td>\n",
       "      <td>20대</td>\n",
       "      <td>late_20s</td>\n",
       "    </tr>\n",
       "    <tr>\n",
       "      <th>20751</th>\n",
       "      <td>20751</td>\n",
       "      <td>Female</td>\n",
       "      <td>21</td>\n",
       "      <td>1.61</td>\n",
       "      <td>133</td>\n",
       "      <td>yes</td>\n",
       "      <td>yes</td>\n",
       "      <td>3.0</td>\n",
       "      <td>3.0</td>\n",
       "      <td>Sometimes</td>\n",
       "      <td>...</td>\n",
       "      <td>2.839069</td>\n",
       "      <td>no</td>\n",
       "      <td>1.683497</td>\n",
       "      <td>0.143675</td>\n",
       "      <td>Sometimes</td>\n",
       "      <td>Public_Transportation</td>\n",
       "      <td>Obesity_Type_III</td>\n",
       "      <td>51.3</td>\n",
       "      <td>20대</td>\n",
       "      <td>early_20s</td>\n",
       "    </tr>\n",
       "  </tbody>\n",
       "</table>\n",
       "<p>6746 rows × 21 columns</p>\n",
       "</div>"
      ],
      "text/plain": [
       "          id  Gender  Age  Height  Weight family_history_with_overweight FAVC  \\\n",
       "3          3  Female   20    1.71     131                            yes  yes   \n",
       "9          9  Female   26    1.64     111                            yes  yes   \n",
       "10        10  Female   20    1.65      65                            yes  yes   \n",
       "13        13  Female   21    1.73     131                            yes  yes   \n",
       "14        14  Female   20    1.57      49                             no   no   \n",
       "...      ...     ...  ...     ...     ...                            ...  ...   \n",
       "20737  20737  Female   25    1.63     104                            yes  yes   \n",
       "20740  20740  Female   20    1.59      49                             no   no   \n",
       "20744  20744  Female   26    1.64     111                            yes  yes   \n",
       "20749  20749  Female   25    1.65     104                            yes  yes   \n",
       "20751  20751  Female   21    1.61     133                            yes  yes   \n",
       "\n",
       "       FCVC  NCP       CAEC  ...      CH2O  SCC       FAF       TUE  \\\n",
       "3       3.0  3.0  Sometimes  ...  1.674061   no  1.467863  0.780199   \n",
       "9       3.0  3.0  Sometimes  ...  2.632253   no  0.000000  0.218645   \n",
       "10      3.0  3.0  Sometimes  ...  3.000000   no  1.000000  0.000000   \n",
       "13      3.0  3.0  Sometimes  ...  1.959531   no  1.425712  0.947884   \n",
       "14      2.0  1.0  Sometimes  ...  1.000000   no  3.000000  2.000000   \n",
       "...     ...  ...        ...  ...       ...  ...       ...       ...   \n",
       "20737   3.0  3.0  Sometimes  ...  1.322004   no  0.246290  0.723154   \n",
       "20740   2.0  3.0  Sometimes  ...  2.000000   no  2.000000  0.000000   \n",
       "20744   3.0  3.0  Sometimes  ...  2.396977   no  0.000000  0.037078   \n",
       "20749   3.0  3.0  Sometimes  ...  1.530992   no  0.015860  0.445495   \n",
       "20751   3.0  3.0  Sometimes  ...  2.839069   no  1.683497  0.143675   \n",
       "\n",
       "            CALC                 MTRANS          NObeyesdad   BMI  Age_Group  \\\n",
       "3      Sometimes  Public_Transportation    Obesity_Type_III  44.8        20대   \n",
       "9      Sometimes  Public_Transportation    Obesity_Type_III  41.3        20대   \n",
       "10     Sometimes  Public_Transportation  Overweight_Level_I  23.9        20대   \n",
       "13     Sometimes  Public_Transportation    Obesity_Type_III  43.8        20대   \n",
       "14            no                Walking       Normal_Weight  19.9        20대   \n",
       "...          ...                    ...                 ...   ...        ...   \n",
       "20737  Sometimes  Public_Transportation    Obesity_Type_III  39.1        20대   \n",
       "20740  Sometimes  Public_Transportation       Normal_Weight  19.4        20대   \n",
       "20744  Sometimes  Public_Transportation    Obesity_Type_III  41.3        20대   \n",
       "20749  Sometimes  Public_Transportation    Obesity_Type_III  38.2        20대   \n",
       "20751  Sometimes  Public_Transportation    Obesity_Type_III  51.3        20대   \n",
       "\n",
       "      20_Age_Group  \n",
       "3        early_20s  \n",
       "9         late_20s  \n",
       "10       early_20s  \n",
       "13       early_20s  \n",
       "14       early_20s  \n",
       "...            ...  \n",
       "20737     late_20s  \n",
       "20740    early_20s  \n",
       "20744     late_20s  \n",
       "20749     late_20s  \n",
       "20751    early_20s  \n",
       "\n",
       "[6746 rows x 21 columns]"
      ]
     },
     "execution_count": 106,
     "metadata": {},
     "output_type": "execute_result"
    }
   ],
   "source": [
    "f_df"
   ]
  },
  {
   "cell_type": "code",
   "execution_count": 105,
   "metadata": {},
   "outputs": [
    {
     "data": {
      "text/plain": [
       "NObeyesdad\n",
       "Obesity_Type_III       29.667452\n",
       "Normal_Weight          21.314480\n",
       "Insufficient_Weight    14.480230\n",
       "Obesity_Type_I         14.401676\n",
       "Overweight_Level_I     12.516366\n",
       "Overweight_Level_II     7.619796\n",
       "Name: count, dtype: float64"
      ]
     },
     "execution_count": 105,
     "metadata": {},
     "output_type": "execute_result"
    }
   ],
   "source": [
    "f_df[f_df['20_Age_Group']=='early_20s']['NObeyesdad'].value_counts() / len(f_df[f_df['20_Age_Group']=='early_20s']) * 100"
   ]
  },
  {
   "cell_type": "code",
   "execution_count": 107,
   "metadata": {},
   "outputs": [
    {
     "data": {
      "text/plain": [
       "NObeyesdad\n",
       "Obesity_Type_III       87.632388\n",
       "Overweight_Level_I      3.518961\n",
       "Normal_Weight           3.279809\n",
       "Overweight_Level_II     3.074821\n",
       "Obesity_Type_I          2.118210\n",
       "Insufficient_Weight     0.341647\n",
       "Obesity_Type_II         0.034165\n",
       "Name: count, dtype: float64"
      ]
     },
     "execution_count": 107,
     "metadata": {},
     "output_type": "execute_result"
    }
   ],
   "source": [
    "f_df[f_df['20_Age_Group']=='late_20s']['NObeyesdad'].value_counts() / len(f_df[f_df['20_Age_Group']=='late_20s']) * 100"
   ]
  },
  {
   "cell_type": "markdown",
   "metadata": {},
   "source": [
    "### 20대 여성을 초중반, 후반대로 나누어서 비만도 살펴보기\n",
    "| 20s FEMALE          | early_20s | late_20s  |\n",
    "|---------------------|-----------|-----------|\n",
    "| Insufficient_Weight | 14.480230 | 0.341647  |\n",
    "| Normal_Weight       | 21.314480 | 3.279809  |\n",
    "| Overweight_Level_I  | 12.516366 | 3.518961  |\n",
    "| Overweight_Level_II | 7.619796  | 3.074821  |\n",
    "| Obesity_Type_I      | 14.401676 | 2.118210  |\n",
    "| Obesity_Type_II     | 7.619796  | 0.034165  |\n",
    "| Obesity_Type_III    | 29.667452 | 87.632388 |"
   ]
  },
  {
   "cell_type": "markdown",
   "metadata": {},
   "source": [
    "### 20대 초중반 vs 후반 활동량 점수 평균 비교해보기 "
   ]
  },
  {
   "cell_type": "code",
   "execution_count": 108,
   "metadata": {},
   "outputs": [
    {
     "data": {
      "text/plain": [
       "1.0872375528305838"
      ]
     },
     "execution_count": 108,
     "metadata": {},
     "output_type": "execute_result"
    }
   ],
   "source": [
    "f_df[f_df['20_Age_Group']=='early_20s']['FAF'].mean()"
   ]
  },
  {
   "cell_type": "code",
   "execution_count": 109,
   "metadata": {},
   "outputs": [
    {
     "data": {
      "text/plain": [
       "0.1352429952169457"
      ]
     },
     "execution_count": 109,
     "metadata": {},
     "output_type": "execute_result"
    }
   ],
   "source": [
    "f_df[f_df['20_Age_Group']=='late_20s']['FAF'].mean()"
   ]
  },
  {
   "cell_type": "code",
   "execution_count": 113,
   "metadata": {},
   "outputs": [
    {
     "name": "stdout",
     "output_type": "stream",
     "text": [
      "<class 'pandas.core.frame.DataFrame'>\n",
      "Index: 6746 entries, 3 to 20751\n",
      "Data columns (total 21 columns):\n",
      " #   Column                          Non-Null Count  Dtype   \n",
      "---  ------                          --------------  -----   \n",
      " 0   id                              6746 non-null   int64   \n",
      " 1   Gender                          6746 non-null   object  \n",
      " 2   Age                             6746 non-null   int64   \n",
      " 3   Height                          6746 non-null   float64 \n",
      " 4   Weight                          6746 non-null   int64   \n",
      " 5   family_history_with_overweight  6746 non-null   object  \n",
      " 6   FAVC                            6746 non-null   object  \n",
      " 7   FCVC                            6746 non-null   float64 \n",
      " 8   NCP                             6746 non-null   float64 \n",
      " 9   CAEC                            6746 non-null   object  \n",
      " 10  SMOKE                           6746 non-null   object  \n",
      " 11  CH2O                            6746 non-null   float64 \n",
      " 12  SCC                             6746 non-null   object  \n",
      " 13  FAF                             6746 non-null   float64 \n",
      " 14  TUE                             6746 non-null   float64 \n",
      " 15  CALC                            6746 non-null   object  \n",
      " 16  MTRANS                          6746 non-null   object  \n",
      " 17  NObeyesdad                      6746 non-null   object  \n",
      " 18  BMI                             6746 non-null   float64 \n",
      " 19  Age_Group                       6746 non-null   category\n",
      " 20  20_Age_Group                    6746 non-null   category\n",
      "dtypes: category(2), float64(7), int64(3), object(9)\n",
      "memory usage: 1.0+ MB\n"
     ]
    }
   ],
   "source": [
    "f_df.info()"
   ]
  },
  {
   "cell_type": "code",
   "execution_count": 146,
   "metadata": {},
   "outputs": [
    {
     "data": {
      "image/png": "[encoded data removed]",
      "text/plain": [
       "<Figure size 600x400 with 1 Axes>"
      ]
     },
     "metadata": {},
     "output_type": "display_data"
    }
   ],
   "source": [
    "import numpy as np\n",
    "\n",
    "# late_20s와 early_20s의 각 항목에 대한 평균 계산\n",
    "late_20s_means = f_df[f_df['20_Age_Group']=='late_20s'][['FCVC', 'NCP', 'CH2O', 'FAF', 'TUE']].mean()\n",
    "early_20s_means = f_df[f_df['20_Age_Group']=='early_20s'][['FCVC', 'NCP', 'CH2O', 'FAF', 'TUE']].mean()\n",
    "\n",
    "# 항목들\n",
    "categories = late_20s_means.index\n",
    "\n",
    "# 막대의 위치 조정\n",
    "x = np.arange(len(categories))\n",
    "\n",
    "# 막대 그래프 그리기\n",
    "width = 0.35  # 막대의 너비\n",
    "plt.figure(figsize=(6, 4))\n",
    "plt.bar(x, early_20s_means, width, label='early_20s')\n",
    "plt.bar(x + width, late_20s_means, width, label='late_20s')\n",
    "plt.xlabel('Variables')\n",
    "plt.ylabel('Mean Value')\n",
    "plt.title('Comparison of Variables between early_20s and late_20s')\n",
    "plt.xticks(x + width / 2, categories, rotation=45)\n",
    "plt.legend()\n",
    "plt.tight_layout()\n",
    "plt.show()\n"
   ]
  },
  {
   "cell_type": "code",
   "execution_count": 139,
   "metadata": {},
   "outputs": [
    {
     "data": {
      "image/png": "[encoded data removed]",
      "text/plain": [
       "<Figure size 600x400 with 1 Axes>"
      ]
     },
     "metadata": {},
     "output_type": "display_data"
    }
   ],
   "source": [
    "import numpy as np\n",
    "\n",
    "# early_20s와 late_20s의 FAVC 항목에 대한 빈도 계산\n",
    "early_20s_favc_freq = f_df[f_df['20_Age_Group']=='early_20s']['FAVC'].value_counts().sort_index()\n",
    "late_20s_favc_freq = f_df[f_df['20_Age_Group']=='late_20s']['FAVC'].value_counts().sort_index()\n",
    "\n",
    "# 범주들\n",
    "categories = early_20s_favc_freq.index\n",
    "\n",
    "# 막대의 위치 조정\n",
    "x = np.arange(len(categories))\n",
    "\n",
    "# 막대 그래프 그리기\n",
    "width = 0.35  # 막대의 너비\n",
    "plt.figure(figsize=(6, 4))\n",
    "plt.bar(x - width/2, early_20s_favc_freq, width, label='early_20s')\n",
    "plt.bar(x + width/2, late_20s_favc_freq, width, label='late_20s')\n",
    "plt.xlabel('FAVC')\n",
    "plt.ylabel('Frequency')\n",
    "plt.title('Comparison of FAVC between early_20s and late_20s')\n",
    "plt.xticks(x, categories)\n",
    "plt.legend()\n",
    "plt.tight_layout()\n",
    "plt.show()\n"
   ]
  },
  {
   "cell_type": "code",
   "execution_count": 150,
   "metadata": {},
   "outputs": [
    {
     "data": {
      "image/png": "[encoded data removed]",
      "text/plain": [
       "<Figure size 600x400 with 1 Axes>"
      ]
     },
     "metadata": {},
     "output_type": "display_data"
    }
   ],
   "source": [
    "import numpy as np\n",
    "\n",
    "# early_20s와 late_20s의 FAVC 항목에 대한 빈도 계산\n",
    "early_20s_favc_freq = f_df[f_df['20_Age_Group']=='early_20s']['CAEC'].value_counts().sort_index()\n",
    "late_20s_favc_freq = f_df[f_df['20_Age_Group']=='late_20s']['CAEC'].value_counts().sort_index()\n",
    "\n",
    "# 범주들\n",
    "categories = early_20s_favc_freq.index\n",
    "\n",
    "# 막대의 위치 조정\n",
    "x = np.arange(len(categories))\n",
    "\n",
    "# 막대 그래프 그리기\n",
    "width = 0.35  # 막대의 너비\n",
    "plt.figure(figsize=(6, 4))\n",
    "plt.bar(x - width/2, early_20s_favc_freq, width, label='early_20s')\n",
    "plt.bar(x + width/2, late_20s_favc_freq, width, label='late_20s')\n",
    "plt.xlabel('CAEC')\n",
    "plt.ylabel('Frequency')\n",
    "plt.title('Comparison of CAEC between early_20s and late_20s')\n",
    "plt.xticks(x, categories)\n",
    "plt.legend()\n",
    "plt.tight_layout()\n",
    "plt.show()\n"
   ]
  },
  {
   "cell_type": "code",
   "execution_count": 151,
   "metadata": {},
   "outputs": [
    {
     "data": {
      "image/png": "[encoded data removed]",
      "text/plain": [
       "<Figure size 600x400 with 1 Axes>"
      ]
     },
     "metadata": {},
     "output_type": "display_data"
    }
   ],
   "source": [
    "import numpy as np\n",
    "\n",
    "# early_20s와 late_20s의 FAVC 항목에 대한 빈도 계산\n",
    "early_20s_favc_freq = f_df[f_df['20_Age_Group']=='early_20s']['SMOKE'].value_counts().sort_index()\n",
    "late_20s_favc_freq = f_df[f_df['20_Age_Group']=='late_20s']['SMOKE'].value_counts().sort_index()\n",
    "\n",
    "# 범주들\n",
    "categories = early_20s_favc_freq.index\n",
    "\n",
    "# 막대의 위치 조정\n",
    "x = np.arange(len(categories))\n",
    "\n",
    "# 막대 그래프 그리기\n",
    "width = 0.35  # 막대의 너비\n",
    "plt.figure(figsize=(6, 4))\n",
    "plt.bar(x - width/2, early_20s_favc_freq, width, label='early_20s')\n",
    "plt.bar(x + width/2, late_20s_favc_freq, width, label='late_20s')\n",
    "plt.xlabel('SMOKE')\n",
    "plt.ylabel('Frequency')\n",
    "plt.title('Comparison of SMOKE between early_20s and late_20s')\n",
    "plt.xticks(x, categories)\n",
    "plt.legend()\n",
    "plt.tight_layout()\n",
    "plt.show()\n"
   ]
  },
  {
   "cell_type": "code",
   "execution_count": 152,
   "metadata": {},
   "outputs": [
    {
     "data": {
      "image/png": "[encoded data removed]",
      "text/plain": [
       "<Figure size 600x400 with 1 Axes>"
      ]
     },
     "metadata": {},
     "output_type": "display_data"
    }
   ],
   "source": [
    "import numpy as np\n",
    "\n",
    "# early_20s와 late_20s의 FAVC 항목에 대한 빈도 계산\n",
    "early_20s_favc_freq = f_df[f_df['20_Age_Group']=='early_20s']['SCC'].value_counts().sort_index()\n",
    "late_20s_favc_freq = f_df[f_df['20_Age_Group']=='late_20s']['SCC'].value_counts().sort_index()\n",
    "\n",
    "# 범주들\n",
    "categories = early_20s_favc_freq.index\n",
    "\n",
    "# 막대의 위치 조정\n",
    "x = np.arange(len(categories))\n",
    "\n",
    "# 막대 그래프 그리기\n",
    "width = 0.35  # 막대의 너비\n",
    "plt.figure(figsize=(6, 4))\n",
    "plt.bar(x - width/2, early_20s_favc_freq, width, label='early_20s')\n",
    "plt.bar(x + width/2, late_20s_favc_freq, width, label='late_20s')\n",
    "plt.xlabel('SCC')\n",
    "plt.ylabel('Frequency')\n",
    "plt.title('Comparison of SCC between early_20s and late_20s')\n",
    "plt.xticks(x, categories)\n",
    "plt.legend()\n",
    "plt.tight_layout()\n",
    "plt.show()\n"
   ]
  },
  {
   "cell_type": "code",
   "execution_count": 153,
   "metadata": {},
   "outputs": [
    {
     "data": {
      "image/png": "[encoded data removed]",
      "text/plain": [
       "<Figure size 600x400 with 1 Axes>"
      ]
     },
     "metadata": {},
     "output_type": "display_data"
    }
   ],
   "source": [
    "import numpy as np\n",
    "\n",
    "# early_20s와 late_20s의 FAVC 항목에 대한 빈도 계산\n",
    "early_20s_favc_freq = f_df[f_df['20_Age_Group']=='early_20s']['CALC'].value_counts().sort_index()\n",
    "late_20s_favc_freq = f_df[f_df['20_Age_Group']=='late_20s']['CALC'].value_counts().sort_index()\n",
    "\n",
    "# 범주들\n",
    "categories = early_20s_favc_freq.index\n",
    "\n",
    "# 막대의 위치 조정\n",
    "x = np.arange(len(categories))\n",
    "\n",
    "# 막대 그래프 그리기\n",
    "width = 0.35  # 막대의 너비\n",
    "plt.figure(figsize=(6, 4))\n",
    "plt.bar(x - width/2, early_20s_favc_freq, width, label='early_20s')\n",
    "plt.bar(x + width/2, late_20s_favc_freq, width, label='late_20s')\n",
    "plt.xlabel('CALC')\n",
    "plt.ylabel('Frequency')\n",
    "plt.title('Comparison of CALC between early_20s and late_20s')\n",
    "plt.xticks(x, categories)\n",
    "plt.legend()\n",
    "plt.tight_layout()\n",
    "plt.show()\n"
   ]
  },
  {
   "cell_type": "markdown",
   "metadata": {},
   "source": [
    "### FAF 즉 활동빈도에 차이가 나니까 사용하는 교통수단에도 차이가 있나?\n",
    "- 별 차이는 없다. "
   ]
  },
  {
   "cell_type": "code",
   "execution_count": 156,
   "metadata": {},
   "outputs": [
    {
     "data": {
      "text/plain": [
       "MTRANS\n",
       "Public_Transportation    95.705682\n",
       "Automobile                2.697041\n",
       "Walking                   1.335428\n",
       "Bike                      0.130924\n",
       "Motorbike                 0.130924\n",
       "Name: count, dtype: float64"
      ]
     },
     "execution_count": 156,
     "metadata": {},
     "output_type": "execute_result"
    }
   ],
   "source": [
    "f_df[f_df['20_Age_Group']=='early_20s']['MTRANS'].value_counts() / len(f_df[f_df['20_Age_Group']=='early_20s'])*100"
   ]
  },
  {
   "cell_type": "code",
   "execution_count": 158,
   "metadata": {},
   "outputs": [
    {
     "data": {
      "text/plain": [
       "MTRANS\n",
       "Public_Transportation    94.841134\n",
       "Automobile                4.783054\n",
       "Walking                   0.273317\n",
       "Motorbike                 0.102494\n",
       "Name: count, dtype: float64"
      ]
     },
     "execution_count": 158,
     "metadata": {},
     "output_type": "execute_result"
    }
   ],
   "source": [
    "f_df[f_df['20_Age_Group']=='late_20s']['MTRANS'].value_counts() / len(f_df[f_df['20_Age_Group']=='late_20s'])*100"
   ]
  },
  {
   "cell_type": "markdown",
   "metadata": {},
   "source": [
    "## 결론\n",
    "- 20대 후반 여성들은 활동량이 너무 적다. \n",
    "- 아마 대학을 졸업하고 일을 시작하면서 활동량이 줄어든 것 아닌가 싶다.\n",
    "- 활동량을 채워줄 수 있는 시간이 필요하다. "
   ]
  }
 ],
 "metadata": {
  "kernelspec": {
   "display_name": "Python 3",
   "language": "python",
   "name": "python3"
  },
  "language_info": {
   "codemirror_mode": {
    "name": "ipython",
    "version": 3
   },
   "file_extension": ".py",
   "mimetype": "text/x-python",
   "name": "python",
   "nbconvert_exporter": "python",
   "pygments_lexer": "ipython3",
   "version": "3.11.5"
  }
 },
 "nbformat": 4,
 "nbformat_minor": 2
}
