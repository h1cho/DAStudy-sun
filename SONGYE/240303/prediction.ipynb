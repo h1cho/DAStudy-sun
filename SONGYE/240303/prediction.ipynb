{
 "cells": [
  {
   "cell_type": "markdown",
   "metadata": {},
   "source": [
    "### RFE를 이용한 특성 선택 방법\n",
    "- sklearn.feature_selection: Feature Selection 참고하기 "
   ]
  },
  {
   "cell_type": "code",
   "execution_count": null,
   "metadata": {},
   "outputs": [],
   "source": [
    "from sklearn.feature_selection import RFE\n",
    "from sklearn.linear_model import LinearRegression\n",
    "from sklearn.datasets import make_regression\n",
    "\n",
    "# 예제 데이터 생성\n",
    "X, y = make_regression(n_samples=100, n_features=10, noise=0.1, random_state=42)\n",
    "\n",
    "# RFE 모델 생성 (선형 회귀 모델 사용)\n",
    "estimator = LinearRegression()\n",
    "rfe = RFE(estimator, n_features_to_select=5, step=1)\n",
    "\n",
    "# RFE를 사용하여 특성 선택\n",
    "rfe.fit(X, y)\n",
    "\n",
    "# 선택된 특성들 출력\n",
    "selected_features = [f\"Feature {i+1}\" for i, selected in enumerate(rfe.support_) if selected]\n",
    "print(\"Selected Features:\", selected_features)\n"
   ]
  }
 ],
 "metadata": {
  "language_info": {
   "name": "python"
  }
 },
 "nbformat": 4,
 "nbformat_minor": 2
}
