{
 "cells": [
  {
   "cell_type": "markdown",
   "metadata": {},
   "source": [
    "# 1. EDA - 완료"
   ]
  },
  {
   "cell_type": "code",
   "execution_count": 1,
   "metadata": {},
   "outputs": [],
   "source": [
    "import pandas as pd"
   ]
  },
  {
   "cell_type": "code",
   "execution_count": 2,
   "metadata": {},
   "outputs": [
    {
     "name": "stderr",
     "output_type": "stream",
     "text": [
      "/var/folders/v5/f_7vslxd3bj07chbkmd7nlkh0000gn/T/ipykernel_2727/222469946.py:1: DtypeWarning: Columns (26) have mixed types. Specify dtype option on import or set low_memory=False.\n",
      "  df = pd.read_csv('../dataset/240128_TripAdvisorHotelReviews/merged.csv')\n"
     ]
    },
    {
     "data": {
      "text/plain": [
       "(666421, 29)"
      ]
     },
     "execution_count": 2,
     "metadata": {},
     "output_type": "execute_result"
    }
   ],
   "source": [
    "df = pd.read_csv('../dataset/240128_TripAdvisorHotelReviews/merged.csv')\n",
    "df.shape"
   ]
  },
  {
   "cell_type": "code",
   "execution_count": 4,
   "metadata": {},
   "outputs": [],
   "source": [
    "refined_df = df.drop(columns=df.columns.difference(['text', 'ratings_overall']))"
   ]
  },
  {
   "cell_type": "code",
   "execution_count": 5,
   "metadata": {},
   "outputs": [
    {
     "data": {
      "text/plain": [
       "<Axes: >"
      ]
     },
     "execution_count": 5,
     "metadata": {},
     "output_type": "execute_result"
    },
    {
     "data": {
      "image/png": "[encoded data removed]",
      "text/plain": [
       "<Figure size 640x480 with 1 Axes>"
      ]
     },
     "metadata": {},
     "output_type": "display_data"
    }
   ],
   "source": [
    "refined_df['ratings_overall'].hist()"
   ]
  },
  {
   "cell_type": "code",
   "execution_count": 6,
   "metadata": {},
   "outputs": [],
   "source": [
    "# 'ratings_overall' 값을 'low' 또는 'high'로 변환하는 함수 정의\n",
    "def map_ratings(value):\n",
    "    if value in [1.0, 2.0, 3.0]:\n",
    "        return 'low'\n",
    "    elif value in [4.0, 5.0]:\n",
    "        return 'high'\n",
    "    else:\n",
    "        return 'unknown'  # 다른 값에 대한 처리를 추가할 수도 있습니다.\n",
    "\n",
    "# 'ratings' 칼럼 생성 및 'ratings_overall' 값에 함수 적용\n",
    "refined_df['ratings'] = refined_df['ratings_overall'].apply(map_ratings)"
   ]
  },
  {
   "cell_type": "code",
   "execution_count": 7,
   "metadata": {},
   "outputs": [
    {
     "data": {
      "text/plain": [
       "ratings\n",
       "high       482500\n",
       "low        183920\n",
       "unknown         1\n",
       "Name: count, dtype: int64"
      ]
     },
     "execution_count": 7,
     "metadata": {},
     "output_type": "execute_result"
    }
   ],
   "source": [
    "refined_df['ratings'].value_counts()"
   ]
  },
  {
   "cell_type": "code",
   "execution_count": 8,
   "metadata": {},
   "outputs": [
    {
     "name": "stdout",
     "output_type": "stream",
     "text": [
      "ratings\n",
      "high    183920\n",
      "low     183920\n",
      "Name: count, dtype: int64\n"
     ]
    }
   ],
   "source": [
    "import pandas as pd\n",
    "\n",
    "# 'high'와 'low'의 개수 구하기\n",
    "high_count = refined_df['ratings'].value_counts()['high']\n",
    "low_count = refined_df['ratings'].value_counts()['low']\n",
    "\n",
    "# 'high'의 일부 행을 랜덤하게 삭제하여 개수를 'low'와 동일하게 만듦\n",
    "refined_df_balanced = pd.concat([\n",
    "    refined_df[refined_df['ratings'] == 'high'].sample(n=low_count, random_state=42),\n",
    "    refined_df[refined_df['ratings'] == 'low']\n",
    "])\n",
    "\n",
    "# 결과 확인\n",
    "print(refined_df_balanced['ratings'].value_counts())\n"
   ]
  },
  {
   "cell_type": "code",
   "execution_count": 9,
   "metadata": {},
   "outputs": [
    {
     "name": "stdout",
     "output_type": "stream",
     "text": [
      "ratings\n",
      "high    50000\n",
      "low     50000\n",
      "Name: count, dtype: int64\n"
     ]
    }
   ],
   "source": [
    "import pandas as pd\n",
    "\n",
    "# 'high'와 'low'의 개수 구하기\n",
    "high_count = 50000\n",
    "low_count = 50000\n",
    "\n",
    "# 'high'와 'low'의 일부 행을 랜덤하게 추출하여 새로운 DataFrame 생성\n",
    "refined_df_balanced = pd.concat([\n",
    "    refined_df[refined_df['ratings'] == 'high'].sample(n=high_count, random_state=42),\n",
    "    refined_df[refined_df['ratings'] == 'low'].sample(n=low_count, random_state=42)\n",
    "])\n",
    "\n",
    "# 결과 확인\n",
    "print(refined_df_balanced['ratings'].value_counts())\n"
   ]
  },
  {
   "cell_type": "code",
   "execution_count": 10,
   "metadata": {},
   "outputs": [
    {
     "data": {
      "text/html": [
       "<div>\n",
       "<style scoped>\n",
       "    .dataframe tbody tr th:only-of-type {\n",
       "        vertical-align: middle;\n",
       "    }\n",
       "\n",
       "    .dataframe tbody tr th {\n",
       "        vertical-align: top;\n",
       "    }\n",
       "\n",
       "    .dataframe thead th {\n",
       "        text-align: right;\n",
       "    }\n",
       "</style>\n",
       "<table border=\"1\" class=\"dataframe\">\n",
       "  <thead>\n",
       "    <tr style=\"text-align: right;\">\n",
       "      <th></th>\n",
       "      <th>text</th>\n",
       "      <th>ratings_overall</th>\n",
       "      <th>ratings</th>\n",
       "    </tr>\n",
       "  </thead>\n",
       "  <tbody>\n",
       "    <tr>\n",
       "      <th>631117</th>\n",
       "      <td>everyone from alby who made the reservation to...</td>\n",
       "      <td>5.0</td>\n",
       "      <td>high</td>\n",
       "    </tr>\n",
       "    <tr>\n",
       "      <th>507002</th>\n",
       "      <td>I stayed here for 6 nights over two consecutiv...</td>\n",
       "      <td>4.0</td>\n",
       "      <td>high</td>\n",
       "    </tr>\n",
       "    <tr>\n",
       "      <th>256569</th>\n",
       "      <td>Perfect location for seeing the sights in Holl...</td>\n",
       "      <td>4.0</td>\n",
       "      <td>high</td>\n",
       "    </tr>\n",
       "  </tbody>\n",
       "</table>\n",
       "</div>"
      ],
      "text/plain": [
       "                                                     text  ratings_overall  \\\n",
       "631117  everyone from alby who made the reservation to...              5.0   \n",
       "507002  I stayed here for 6 nights over two consecutiv...              4.0   \n",
       "256569  Perfect location for seeing the sights in Holl...              4.0   \n",
       "\n",
       "       ratings  \n",
       "631117    high  \n",
       "507002    high  \n",
       "256569    high  "
      ]
     },
     "execution_count": 10,
     "metadata": {},
     "output_type": "execute_result"
    }
   ],
   "source": [
    "refined_df = refined_df_balanced\n",
    "refined_df.head(3)"
   ]
  },
  {
   "cell_type": "code",
   "execution_count": 11,
   "metadata": {},
   "outputs": [
    {
     "name": "stdout",
     "output_type": "stream",
     "text": [
      "                                                     text ratings\n",
      "631117  everyone from alby who made the reservation to...    high\n",
      "507002  I stayed here for 6 nights over two consecutiv...    high\n",
      "256569  Perfect location for seeing the sights in Holl...    high\n",
      "193612  Everything there has a golden logo of lion:tow...    high\n",
      "139254  Stayed 3 nights. Absolutely great hotel. Frien...    high\n"
     ]
    }
   ],
   "source": [
    "# 'ratings_overall' 칼럼 삭제\n",
    "refined_df = refined_df.drop('ratings_overall', axis=1)\n",
    "\n",
    "# 결과 확인\n",
    "print(refined_df.head())\n"
   ]
  },
  {
   "cell_type": "markdown",
   "metadata": {},
   "source": [
    "# 2. 데이터 전처리"
   ]
  },
  {
   "cell_type": "markdown",
   "metadata": {},
   "source": [
    "## 2.1 토큰화"
   ]
  },
  {
   "cell_type": "code",
   "execution_count": 12,
   "metadata": {},
   "outputs": [
    {
     "name": "stderr",
     "output_type": "stream",
     "text": [
      "2024-02-03 12:21:14.334762: I tensorflow/core/platform/cpu_feature_guard.cc:182] This TensorFlow binary is optimized to use available CPU instructions in performance-critical operations.\n",
      "To enable the following instructions: AVX2 FMA, in other operations, rebuild TensorFlow with the appropriate compiler flags.\n"
     ]
    }
   ],
   "source": [
    "from nltk.tokenize import word_tokenize\n",
    "from nltk.tokenize import WordPunctTokenizer\n",
    "from tensorflow.keras.preprocessing.text import text_to_word_sequence"
   ]
  },
  {
   "cell_type": "code",
   "execution_count": 13,
   "metadata": {},
   "outputs": [
    {
     "name": "stdout",
     "output_type": "stream",
     "text": [
      "단어 토큰화3 : ['stayed', 'in', 'a', 'king', 'suite', 'for', '11', 'nights', 'and', 'yes', 'it', 'cots', 'us', 'a', 'bit', 'but', 'we', 'were', 'happy', 'with', 'the', 'standard', 'of', 'room', 'the', 'location', 'and', 'the', 'friendliness', 'of', 'the', 'staff', 'our', 'room', 'was', 'on', 'the', '20th', 'floor', 'overlooking', 'broadway', 'and', 'the', 'madhouse', 'of', 'the', 'fairway', 'market', 'room', 'was', 'quite', 'with', 'no', 'noise', 'evident', 'from', 'the', 'hallway', 'or', 'adjoining', 'rooms', 'it', 'was', 'great', 'to', 'be', 'able', 'to', 'open', 'windows', 'when', 'we', 'craved', 'fresh', 'rather', 'than', 'heated', 'air', 'the', 'beds', 'including', 'the', 'fold', 'out', 'sofa', 'bed', 'were', 'comfortable', 'and', 'the', 'rooms', 'were', 'cleaned', 'well', 'wi', 'fi', 'access', 'worked', 'like', 'a', 'dream', 'with', 'only', 'one', 'connectivity', 'issue', 'on', 'our', 'first', 'night', 'and', 'this', 'was', 'promptly', 'responded', 'to', 'with', 'a', 'call', 'from', 'the', 'service', 'provider', 'to', 'ensure', 'that', 'all', 'was', 'well', 'the', 'location', 'close', 'to', 'the', '72nd', 'street', 'subway', 'station', 'is', 'great', 'and', 'the', 'complimentary', 'umbrellas', 'on', 'the', 'drizzly', 'days', 'were', 'greatly', 'appreciated', 'it', 'is', 'fabulous', 'to', 'have', 'the', 'kitchen', 'with', 'cooking', 'facilities', 'and', 'the', 'access', 'to', 'a', 'whole', 'range', 'of', 'fresh', 'foods', 'directly', 'across', 'the', 'road', 'at', 'fairway', 'this', 'is', 'the', 'second', 'time', 'that', 'members', 'of', 'the', 'party', 'have', 'stayed', 'at', 'the', 'beacon', 'and', 'it', 'will', 'certainly', 'be', 'our', 'hotel', 'of', 'choice', 'for', 'future', 'visits']\n"
     ]
    }
   ],
   "source": [
    "text = df['text'].iloc[0]\n",
    "print('단어 토큰화3 :',text_to_word_sequence(text))"
   ]
  },
  {
   "cell_type": "code",
   "execution_count": 14,
   "metadata": {},
   "outputs": [
    {
     "name": "stdout",
     "output_type": "stream",
     "text": [
      "                                                     text ratings  \\\n",
      "631117  everyone from alby who made the reservation to...    high   \n",
      "507002  I stayed here for 6 nights over two consecutiv...    high   \n",
      "256569  Perfect location for seeing the sights in Holl...    high   \n",
      "193612  Everything there has a golden logo of lion:tow...    high   \n",
      "139254  Stayed 3 nights. Absolutely great hotel. Frien...    high   \n",
      "...                                                   ...     ...   \n",
      "354800  The best thing we can say is the hotel clerks ...     low   \n",
      "521987  This is no more than a 1 star property. Check-...     low   \n",
      "268645  We said one night prior to joining a cruise. I...     low   \n",
      "569439  From the outside, the place looked marvelous.B...     low   \n",
      "378218  This hotel has a number of rooms which face a ...     low   \n",
      "\n",
      "                                                   tokens  \n",
      "631117  [everyone, from, alby, who, made, the, reserva...  \n",
      "507002  [i, stayed, here, for, 6, nights, over, two, c...  \n",
      "256569  [perfect, location, for, seeing, the, sights, ...  \n",
      "193612  [everything, there, has, a, golden, logo, of, ...  \n",
      "139254  [stayed, 3, nights, absolutely, great, hotel, ...  \n",
      "...                                                   ...  \n",
      "354800  [the, best, thing, we, can, say, is, the, hote...  \n",
      "521987  [this, is, no, more, than, a, 1, star, propert...  \n",
      "268645  [we, said, one, night, prior, to, joining, a, ...  \n",
      "569439  [from, the, outside, the, place, looked, marve...  \n",
      "378218  [this, hotel, has, a, number, of, rooms, which...  \n",
      "\n",
      "[100000 rows x 3 columns]\n"
     ]
    }
   ],
   "source": [
    "# 'ratings_overall' 값을 'low' 또는 'high'로 변환하는 함수 정의\n",
    "def tokenizer(text):\n",
    "    return text_to_word_sequence(text)\n",
    "\n",
    "# 'ratings' 칼럼 생성 및 'ratings_overall' 값에 함수 적용\n",
    "refined_df['tokens'] = refined_df['text'].apply(tokenizer)\n",
    "\n",
    "# 결과 확인\n",
    "print(refined_df)"
   ]
  },
  {
   "cell_type": "markdown",
   "metadata": {},
   "source": [
    "### 2.2.3 길이가 짧은 토큰들은 제거해주기"
   ]
  },
  {
   "cell_type": "code",
   "execution_count": 15,
   "metadata": {},
   "outputs": [],
   "source": [
    "refined_df['tokens'] = refined_df['tokens'].apply(lambda token_list: [word for word in token_list if len(word) > 2])"
   ]
  },
  {
   "cell_type": "code",
   "execution_count": 16,
   "metadata": {},
   "outputs": [
    {
     "data": {
      "image/png": "[encoded data removed]",
      "text/plain": [
       "<Figure size 1200x500 with 2 Axes>"
      ]
     },
     "metadata": {},
     "output_type": "display_data"
    }
   ],
   "source": [
    "import matplotlib.pyplot as plt\n",
    "\n",
    "\n",
    "# 불용어 제거 전의 토큰 개수\n",
    "refined_df['token_count'] = refined_df['tokens'].apply(len)\n",
    "\n",
    "fig, axes = plt.subplots(nrows=1, ncols=2, figsize=(12, 5))\n",
    "\n",
    "# 불용어 제거 전의 토큰 개수 시각화\n",
    "axes[0].hist(refined_df['token_count'], bins=10, color='skyblue', edgecolor='black')\n",
    "axes[0].set_title('Token Count Before Removing Stopwords')\n",
    "axes[0].set_xlabel('Number of Tokens')\n",
    "axes[0].set_ylabel('Frequency')\n",
    "\n",
    "plt.tight_layout()\n",
    "plt.show()\n"
   ]
  },
  {
   "cell_type": "markdown",
   "metadata": {},
   "source": [
    "### 2.2.4 불용어 제거해주기"
   ]
  },
  {
   "cell_type": "code",
   "execution_count": 17,
   "metadata": {},
   "outputs": [
    {
     "name": "stderr",
     "output_type": "stream",
     "text": [
      "[nltk_data] Downloading package stopwords to\n",
      "[nltk_data]     /Users/songye/nltk_data...\n",
      "[nltk_data]   Package stopwords is already up-to-date!\n"
     ]
    },
    {
     "data": {
      "text/plain": [
       "True"
      ]
     },
     "execution_count": 17,
     "metadata": {},
     "output_type": "execute_result"
    }
   ],
   "source": [
    "import pandas as pd\n",
    "from nltk.corpus import stopwords\n",
    "from nltk.tokenize import word_tokenize\n",
    "\n",
    "# NLTK에서 불용어 다운로드\n",
    "import nltk\n",
    "nltk.download('stopwords')"
   ]
  },
  {
   "cell_type": "markdown",
   "metadata": {},
   "source": [
    "## 불용어 제거"
   ]
  },
  {
   "cell_type": "code",
   "execution_count": 18,
   "metadata": {},
   "outputs": [],
   "source": [
    "\n",
    "# NLTK에서 제공하는 불용어 리스트\n",
    "stop_words = set(stopwords.words('english'))\n",
    "\n",
    "# 'tokens' 칼럼에 있는 리스트에서 불용어 제거\n",
    "refined_df['tokens'] = refined_df['tokens'].apply(lambda token_list: [word for word in token_list if word.lower() not in stop_words])\n"
   ]
  },
  {
   "cell_type": "code",
   "execution_count": 19,
   "metadata": {},
   "outputs": [
    {
     "data": {
      "image/png": "[encoded data removed]",
      "text/plain": [
       "<Figure size 1200x500 with 2 Axes>"
      ]
     },
     "metadata": {},
     "output_type": "display_data"
    }
   ],
   "source": [
    "\n",
    "refined_df['token_count_after'] = refined_df['tokens'].apply(len)\n",
    "\n",
    "# 시각화\n",
    "fig, axes = plt.subplots(nrows=1, ncols=2, figsize=(12, 5))\n",
    "\n",
    "# 불용어 제거 전의 토큰 개수 시각화\n",
    "axes[0].hist(refined_df['token_count'], bins=10, color='skyblue', edgecolor='black')\n",
    "axes[0].set_title('Token Count Before Removing Stopwords')\n",
    "axes[0].set_xlabel('Number of Tokens')\n",
    "axes[0].set_ylabel('Frequency')\n",
    "\n",
    "# 불용어 제거 후의 토큰 개수 시각화\n",
    "axes[1].hist(refined_df['token_count_after'], bins=10, color='salmon', edgecolor='black')\n",
    "axes[1].set_title('Token Count After Removing Stopwords')\n",
    "axes[1].set_xlabel('Number of Tokens')\n",
    "axes[1].set_ylabel('Frequency')\n",
    "\n",
    "plt.tight_layout()\n",
    "plt.show()\n"
   ]
  },
  {
   "cell_type": "markdown",
   "metadata": {},
   "source": [
    "## 2.2 정제 및 정규화"
   ]
  },
  {
   "cell_type": "code",
   "execution_count": 15,
   "metadata": {},
   "outputs": [
    {
     "ename": "",
     "evalue": "",
     "output_type": "error",
     "traceback": [
      "\u001b[1;31mThe Kernel crashed while executing code in the the current cell or a previous cell. Please review the code in the cell(s) to identify a possible cause of the failure. Click <a href='https://aka.ms/vscodeJupyterKernelCrash'>here</a> for more info. View Jupyter <a href='command:jupyter.viewOutput'>log</a> for further details."
     ]
    }
   ],
   "source": [
    "import pandas as pd\n",
    "from sklearn.feature_extraction.text import TfidfVectorizer\n",
    "\n",
    "\n",
    "# TfidfVectorizer를 사용하여 TF-IDF 행렬 생성\n",
    "vectorizer = TfidfVectorizer()\n",
    "tfidf_matrix = vectorizer.fit_transform(refined_df['tokens'].apply(lambda x: ' '.join(x)))\n",
    "\n",
    "# TF-IDF 행렬을 DataFrame으로 변환 (선택사항, 확인용)\n",
    "tfidf_df = pd.DataFrame(tfidf_matrix.toarray(), columns=vectorizer.get_feature_names_out())\n",
    "\n",
    "# 특정 기준에 따라 단어 선택 (예: TF-IDF 값이 일정 threshold 이상인 경우)\n",
    "selected_words = tfidf_df.columns[tfidf_df.mean() > 0.1]  # 예시: 평균 TF-IDF 값이 0.1 이상인 단어 선택\n",
    "\n",
    "# 선택된 단어들로 새로운 'tokens' 칼럼 생성\n",
    "refined_df['tokens_tfidf'] = refined_df['tokens'].apply(lambda x: [word for word in x if word in selected_words])\n"
   ]
  },
  {
   "cell_type": "code",
   "execution_count": 20,
   "metadata": {},
   "outputs": [
    {
     "name": "stdout",
     "output_type": "stream",
     "text": [
      "비율: 94.51%\n"
     ]
    }
   ],
   "source": [
    "# 토큰의 개수가 200개 미만인 비율 구하기\n",
    "row_count_less_than_200 = len(refined_df[refined_df['token_count_after'] < 200])\n",
    "total_rows = len(refined_df)\n",
    "ratio_less_than_250_rows = row_count_less_than_200 / total_rows\n",
    "\n",
    "# 결과 출력\n",
    "print(f\"비율: {ratio_less_than_250_rows:.2%}\")"
   ]
  },
  {
   "cell_type": "code",
   "execution_count": 21,
   "metadata": {},
   "outputs": [
    {
     "data": {
      "text/html": [
       "<div>\n",
       "<style scoped>\n",
       "    .dataframe tbody tr th:only-of-type {\n",
       "        vertical-align: middle;\n",
       "    }\n",
       "\n",
       "    .dataframe tbody tr th {\n",
       "        vertical-align: top;\n",
       "    }\n",
       "\n",
       "    .dataframe thead th {\n",
       "        text-align: right;\n",
       "    }\n",
       "</style>\n",
       "<table border=\"1\" class=\"dataframe\">\n",
       "  <thead>\n",
       "    <tr style=\"text-align: right;\">\n",
       "      <th></th>\n",
       "      <th>text</th>\n",
       "      <th>ratings</th>\n",
       "      <th>tokens</th>\n",
       "      <th>token_count</th>\n",
       "      <th>token_count_after</th>\n",
       "    </tr>\n",
       "  </thead>\n",
       "  <tbody>\n",
       "    <tr>\n",
       "      <th>631117</th>\n",
       "      <td>everyone from alby who made the reservation to...</td>\n",
       "      <td>high</td>\n",
       "      <td>[everyone, alby, made, reservation, deenny, gr...</td>\n",
       "      <td>37</td>\n",
       "      <td>27</td>\n",
       "    </tr>\n",
       "    <tr>\n",
       "      <th>507002</th>\n",
       "      <td>I stayed here for 6 nights over two consecutiv...</td>\n",
       "      <td>high</td>\n",
       "      <td>[stayed, nights, two, consecutive, weeks, busi...</td>\n",
       "      <td>46</td>\n",
       "      <td>31</td>\n",
       "    </tr>\n",
       "    <tr>\n",
       "      <th>256569</th>\n",
       "      <td>Perfect location for seeing the sights in Holl...</td>\n",
       "      <td>high</td>\n",
       "      <td>[perfect, location, seeing, sights, hollywood,...</td>\n",
       "      <td>63</td>\n",
       "      <td>41</td>\n",
       "    </tr>\n",
       "  </tbody>\n",
       "</table>\n",
       "</div>"
      ],
      "text/plain": [
       "                                                     text ratings  \\\n",
       "631117  everyone from alby who made the reservation to...    high   \n",
       "507002  I stayed here for 6 nights over two consecutiv...    high   \n",
       "256569  Perfect location for seeing the sights in Holl...    high   \n",
       "\n",
       "                                                   tokens  token_count  \\\n",
       "631117  [everyone, alby, made, reservation, deenny, gr...           37   \n",
       "507002  [stayed, nights, two, consecutive, weeks, busi...           46   \n",
       "256569  [perfect, location, seeing, sights, hollywood,...           63   \n",
       "\n",
       "        token_count_after  \n",
       "631117                 27  \n",
       "507002                 31  \n",
       "256569                 41  "
      ]
     },
     "execution_count": 21,
     "metadata": {},
     "output_type": "execute_result"
    }
   ],
   "source": [
    "refined_df.head(3)"
   ]
  },
  {
   "cell_type": "markdown",
   "metadata": {},
   "source": [
    "- 과정\n",
    "- 토큰화\n",
    "- 시퀀스로 만들기\n",
    "- 그 다음 패딩 처리\n",
    "- glove로 임베딩 처리"
   ]
  },
  {
   "cell_type": "markdown",
   "metadata": {},
   "source": [
    "## 2.5 패딩 처리"
   ]
  },
  {
   "cell_type": "code",
   "execution_count": 22,
   "metadata": {},
   "outputs": [],
   "source": [
    "from keras.preprocessing.text import Tokenizer\n",
    "from keras.preprocessing.sequence import pad_sequences\n",
    "\n",
    "# 예시 데이터 (refined_df['tokens']에 토큰이 이미 들어가 있다고 가정)\n",
    "# 토큰화된 데이터가 저장된 컬럼 이름이 'tokens'일 경우:\n",
    "tokenized_text = refined_df['tokens']\n",
    "\n",
    "# 토크나이저 객체 생성\n",
    "tokenizer = Tokenizer()\n",
    "tokenizer.fit_on_texts(tokenized_text)\n",
    "\n",
    "# 토큰들을 시퀀스로 변환\n",
    "sequences = tokenizer.texts_to_sequences(tokenized_text)\n",
    "\n",
    "# 시퀀스 패딩\n",
    "max_sequence_length = 200  # 시퀀스의 최대 길이 (임의 설정)\n",
    "padded_sequences = pad_sequences(sequences, maxlen=max_sequence_length, padding='post', truncating='post')\n"
   ]
  },
  {
   "cell_type": "code",
   "execution_count": 23,
   "metadata": {},
   "outputs": [
    {
     "data": {
      "text/plain": [
       "array([  13,   59,   38, 6505,  852,   86,    9,  109,    1,   14,  145,\n",
       "        365,  292,  171, 1360, 1762,   85,  512,   60,  191,   20,  243,\n",
       "       2049,   17,   75,  329, 3550,   46, 1134,   54, 7264,    0,    0,\n",
       "          0,    0,    0,    0,    0,    0,    0,    0,    0,    0,    0,\n",
       "          0,    0,    0,    0,    0,    0,    0,    0,    0,    0,    0,\n",
       "          0,    0,    0,    0,    0,    0,    0,    0,    0,    0,    0,\n",
       "          0,    0,    0,    0,    0,    0,    0,    0,    0,    0,    0,\n",
       "          0,    0,    0,    0,    0,    0,    0,    0,    0,    0,    0,\n",
       "          0,    0,    0,    0,    0,    0,    0,    0,    0,    0,    0,\n",
       "          0,    0,    0,    0,    0,    0,    0,    0,    0,    0,    0,\n",
       "          0,    0,    0,    0,    0,    0,    0,    0,    0,    0,    0,\n",
       "          0,    0,    0,    0,    0,    0,    0,    0,    0,    0,    0,\n",
       "          0,    0,    0,    0,    0,    0,    0,    0,    0,    0,    0,\n",
       "          0,    0,    0,    0,    0,    0,    0,    0,    0,    0,    0,\n",
       "          0,    0,    0,    0,    0,    0,    0,    0,    0,    0,    0,\n",
       "          0,    0,    0,    0,    0,    0,    0,    0,    0,    0,    0,\n",
       "          0,    0,    0,    0,    0,    0,    0,    0,    0,    0,    0,\n",
       "          0,    0,    0,    0,    0,    0,    0,    0,    0,    0,    0,\n",
       "          0,    0], dtype=int32)"
      ]
     },
     "execution_count": 23,
     "metadata": {},
     "output_type": "execute_result"
    }
   ],
   "source": [
    "padded_sequences[1]"
   ]
  },
  {
   "cell_type": "markdown",
   "metadata": {},
   "source": [
    "## 2.4 텍스트 벡터화\n",
    "- Word2Vec\n",
    "- GloVe\n",
    "- BERT"
   ]
  },
  {
   "cell_type": "code",
   "execution_count": 24,
   "metadata": {},
   "outputs": [],
   "source": [
    "import numpy as np\n",
    "from keras.models import Sequential\n",
    "from keras.layers import Embedding, Flatten, Dense\n",
    "from keras.preprocessing.text import Tokenizer\n",
    "from keras.preprocessing.sequence import pad_sequences\n",
    "from sklearn.model_selection import train_test_split\n",
    "from sklearn.linear_model import LogisticRegression\n",
    "from sklearn.metrics import accuracy_score\n",
    "from gensim.models import KeyedVectors"
   ]
  },
  {
   "cell_type": "code",
   "execution_count": 1,
   "metadata": {},
   "outputs": [
    {
     "ename": "",
     "evalue": "",
     "output_type": "error",
     "traceback": [
      "\u001b[1;31mThe Kernel crashed while executing code in the the current cell or a previous cell. Please review the code in the cell(s) to identify a possible cause of the failure. Click <a href='https://aka.ms/vscodeJupyterKernelCrash'>here</a> for more info. View Jupyter <a href='command:jupyter.viewOutput'>log</a> for further details."
     ]
    }
   ],
   "source": [
    "import torchtext.vocab\n",
    "\n",
    "glove = torchtext.vocab.GloVe(name='6B', dim=100) # 이미 학습된 것을 불러오기만 하는 것임. torchtext의 vocab에 존재.\n",
    "# hidden size를 몇으로 정할래이다. V -> hidden (100 / 300 / 512 / 256)\n",
    "print(f'There are {len(glove.itos)} words in the vocabulary')\n",
    "# itos -> dictionary의 사이즈가 무엇이냐는 것.\n",
    "# 우리는 지금 아래와 같이 400000개의 words를 사용 가능함."
   ]
  },
  {
   "cell_type": "code",
   "execution_count": 26,
   "metadata": {},
   "outputs": [
    {
     "data": {
      "text/plain": [
       "100"
      ]
     },
     "execution_count": 26,
     "metadata": {},
     "output_type": "execute_result"
    }
   ],
   "source": [
    "embedding_dim = glove.vectors.shape[1]\n",
    "embedding_dim"
   ]
  },
  {
   "cell_type": "code",
   "execution_count": 27,
   "metadata": {},
   "outputs": [],
   "source": [
    "import torch\n",
    "import torch.nn.functional as F\n",
    "\n",
    "# 예시: 패딩된 시퀀스\n",
    "padded_sequence = torch.tensor(padded_sequences)\n",
    "\n",
    "# 임베딩 차원 설정\n",
    "embedding_dim = 100\n",
    "\n",
    "# 패딩된 시퀀스를 GloVe 임베딩으로 변환\n",
    "embedded_sequence = F.embedding(padded_sequence, glove.vectors)\n"
   ]
  },
  {
   "cell_type": "code",
   "execution_count": 28,
   "metadata": {},
   "outputs": [
    {
     "data": {
      "text/plain": [
       "torch.Size([100000, 200, 100])"
      ]
     },
     "execution_count": 28,
     "metadata": {},
     "output_type": "execute_result"
    }
   ],
   "source": [
    "# X data\n",
    "embedded_sequence.shape \n"
   ]
  },
  {
   "cell_type": "code",
   "execution_count": 29,
   "metadata": {},
   "outputs": [
    {
     "data": {
      "text/plain": [
       "(100000,)"
      ]
     },
     "execution_count": 29,
     "metadata": {},
     "output_type": "execute_result"
    }
   ],
   "source": [
    "refined_df['ratings'].shape"
   ]
  },
  {
   "cell_type": "code",
   "execution_count": 30,
   "metadata": {},
   "outputs": [],
   "source": [
    "import torch"
   ]
  },
  {
   "cell_type": "code",
   "execution_count": 31,
   "metadata": {},
   "outputs": [],
   "source": [
    "torch.save(embedded_sequence, '../dataset/240128_TripAdvisorHotelReviews/feature_tensor.pt')"
   ]
  },
  {
   "cell_type": "code",
   "execution_count": 34,
   "metadata": {},
   "outputs": [],
   "source": [
    "np.save('../dataset/240128_TripAdvisorHotelReviews/labels.npy', refined_df['ratings'].to_numpy())"
   ]
  },
  {
   "cell_type": "code",
   "execution_count": 2,
   "metadata": {},
   "outputs": [
    {
     "name": "stdout",
     "output_type": "stream",
     "text": [
      "torch.Size([100000, 200, 100])\n"
     ]
    }
   ],
   "source": [
    "# 저장된 파일 불러오기\n",
    "import torch\n",
    "embedded_sequence = torch.load('../dataset/240128_TripAdvisorHotelReviews/feature_tensor.pt')\n",
    "\n",
    "# 불러온 데이터 확인\n",
    "print(embedded_sequence.size())"
   ]
  },
  {
   "cell_type": "code",
   "execution_count": 3,
   "metadata": {},
   "outputs": [
    {
     "name": "stdout",
     "output_type": "stream",
     "text": [
      "['high' 'high' 'high' ... 'low' 'low' 'low']\n"
     ]
    }
   ],
   "source": [
    "import numpy as np\n",
    "\n",
    "# 저장된 파일 불러오기\n",
    "labels = np.load('../dataset/240128_TripAdvisorHotelReviews/labels.npy', allow_pickle=True)\n",
    "\n",
    "# 불러온 데이터 확인\n",
    "print(labels)\n"
   ]
  },
  {
   "cell_type": "code",
   "execution_count": 4,
   "metadata": {},
   "outputs": [
    {
     "name": "stdout",
     "output_type": "stream",
     "text": [
      "[1 1 1 ... 0 0 0]\n"
     ]
    }
   ],
   "source": [
    "import numpy as np\n",
    "labels = np.array([1 if value == 'high' else 0 for value in labels])\n",
    "\n",
    "print(labels)"
   ]
  },
  {
   "cell_type": "markdown",
   "metadata": {},
   "source": [
    "# 3. 데이터 분할"
   ]
  },
  {
   "cell_type": "code",
   "execution_count": 5,
   "metadata": {},
   "outputs": [
    {
     "name": "stdout",
     "output_type": "stream",
     "text": [
      "Train data shapes: torch.Size([70000, 200, 100]) (70000,)\n",
      "Validation data shapes: torch.Size([15000, 200, 100]) (15000,)\n",
      "Test data shapes: torch.Size([15000, 200, 100]) (15000,)\n"
     ]
    }
   ],
   "source": [
    "from sklearn.model_selection import train_test_split\n",
    "\n",
    "# PyTorch DataLoader로 사용할 데이터셋 클래스를 정의하고 데이터를 생성하는 작업이 필요\n",
    "\n",
    "# 예시: X는 embedded_sequence, y는 refined_df['ratings']\n",
    "X_train, X_temp, y_train, y_temp = train_test_split(embedded_sequence, labels, test_size=0.3, random_state=42)\n",
    "X_val, X_test, y_val, y_test = train_test_split(X_temp, y_temp, test_size=0.5, random_state=42)\n",
    "\n",
    "# 결과 확인\n",
    "print(\"Train data shapes:\", X_train.shape, y_train.shape)\n",
    "print(\"Validation data shapes:\", X_val.shape, y_val.shape)\n",
    "print(\"Test data shapes:\", X_test.shape, y_test.shape)\n"
   ]
  },
  {
   "cell_type": "code",
   "execution_count": 6,
   "metadata": {},
   "outputs": [
    {
     "data": {
      "text/plain": [
       "(15000,)"
      ]
     },
     "execution_count": 6,
     "metadata": {},
     "output_type": "execute_result"
    }
   ],
   "source": [
    "y_val.shape"
   ]
  },
  {
   "cell_type": "code",
   "execution_count": 7,
   "metadata": {},
   "outputs": [],
   "source": [
    "import numpy as np\n",
    "\n",
    "# 예시 데이터\n",
    "dataset = {\n",
    "    'X_train': X_train.numpy(),\n",
    "    'y_train': y_train,\n",
    "    'X_val': X_val.numpy(),\n",
    "    'y_val': y_val,\n",
    "    'X_test': X_test.numpy(),\n",
    "    'y_test': y_test\n",
    "}\n",
    "\n",
    "# Numpy 배열로 저장\n",
    "np.savez('../dataset/240128_TripAdvisorHotelReviews/train_test_dataset.npz', **dataset)\n"
   ]
  },
  {
   "cell_type": "code",
   "execution_count": 8,
   "metadata": {},
   "outputs": [],
   "source": [
    "import numpy as np\n",
    "import torch\n",
    "\n",
    "# Numpy 배열로 저장된 데이터 불러오기\n",
    "loaded_data_npz = np.load('../dataset/240128_TripAdvisorHotelReviews/train_test_dataset.npz', allow_pickle=True)\n",
    "\n",
    "# 데이터 형식 변환\n",
    "X_train = torch.Tensor(loaded_data_npz['X_train'].astype(np.float32))\n",
    "y_train = torch.Tensor(y_train.astype(np.float32))\n",
    "X_val = torch.Tensor(loaded_data_npz['X_val'].astype(np.float32))\n",
    "y_val = torch.Tensor(y_val.astype(np.float32))\n",
    "X_test = torch.Tensor(loaded_data_npz['X_test'].astype(np.float32))\n",
    "y_test = torch.Tensor(y_test.astype(np.float32))\n"
   ]
  },
  {
   "cell_type": "code",
   "execution_count": 9,
   "metadata": {},
   "outputs": [
    {
     "data": {
      "text/plain": [
       "torch.Size([70000, 200, 100])"
      ]
     },
     "execution_count": 9,
     "metadata": {},
     "output_type": "execute_result"
    }
   ],
   "source": [
    "X_train.shape"
   ]
  },
  {
   "cell_type": "markdown",
   "metadata": {},
   "source": [
    "# 4. 모델 선택 및 구성"
   ]
  },
  {
   "cell_type": "code",
   "execution_count": null,
   "metadata": {},
   "outputs": [],
   "source": [
    "from sklearn.linear_model import LogisticRegression\n",
    "from sklearn.metrics import accuracy_score\n",
    "\n",
    "# 데이터셋을 플랫하게 펼침\n",
    "X_train_flat = X_train.view(X_train.size(0), -1).numpy()\n",
    "X_val_flat = X_val.view(X_val.size(0), -1).numpy()"
   ]
  },
  {
   "cell_type": "markdown",
   "metadata": {},
   "source": [
    "# 5. 모델 컴파일 및 학습"
   ]
  },
  {
   "cell_type": "code",
   "execution_count": null,
   "metadata": {},
   "outputs": [],
   "source": [
    "# 모델 초기화\n",
    "model = LogisticRegression()\n",
    "\n",
    "# 모델 학습\n",
    "model.fit(X_train_flat, y_train)\n"
   ]
  },
  {
   "cell_type": "markdown",
   "metadata": {},
   "source": [
    "# 6. 모델 평가"
   ]
  },
  {
   "cell_type": "code",
   "execution_count": null,
   "metadata": {},
   "outputs": [],
   "source": [
    "# 예측\n",
    "y_pred = model.predict(X_val_flat)\n",
    "\n",
    "# 정확도 평가\n",
    "accuracy = accuracy_score(y_val, y_pred)\n",
    "print(f\"Validation Accuracy: {accuracy}\")"
   ]
  },
  {
   "cell_type": "markdown",
   "metadata": {},
   "source": [
    "# 7. 하이퍼파라미터 튜닝"
   ]
  }
 ],
 "metadata": {
  "kernelspec": {
   "display_name": "Python 3",
   "language": "python",
   "name": "python3"
  },
  "language_info": {
   "codemirror_mode": {
    "name": "ipython",
    "version": 3
   },
   "file_extension": ".py",
   "mimetype": "text/x-python",
   "name": "python",
   "nbconvert_exporter": "python",
   "pygments_lexer": "ipython3",
   "version": "3.11.5"
  }
 },
 "nbformat": 4,
 "nbformat_minor": 2
}
