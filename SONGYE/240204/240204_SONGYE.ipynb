{
 "cells": [
  {
   "cell_type": "markdown",
   "metadata": {},
   "source": [
    "# 1. EDA - 완료"
   ]
  },
  {
   "cell_type": "code",
   "execution_count": 1,
   "metadata": {},
   "outputs": [],
   "source": [
    "import pandas as pd"
   ]
  },
  {
   "cell_type": "code",
   "execution_count": 2,
   "metadata": {},
   "outputs": [
    {
     "name": "stderr",
     "output_type": "stream",
     "text": [
      "/var/folders/v5/f_7vslxd3bj07chbkmd7nlkh0000gn/T/ipykernel_98794/222469946.py:1: DtypeWarning: Columns (26) have mixed types. Specify dtype option on import or set low_memory=False.\n",
      "  df = pd.read_csv('../dataset/240128_TripAdvisorHotelReviews/merged.csv')\n"
     ]
    },
    {
     "data": {
      "text/plain": [
       "(666421, 29)"
      ]
     },
     "execution_count": 2,
     "metadata": {},
     "output_type": "execute_result"
    }
   ],
   "source": [
    "df = pd.read_csv('../dataset/240128_TripAdvisorHotelReviews/merged.csv')\n",
    "df.shape"
   ]
  },
  {
   "cell_type": "code",
   "execution_count": 9,
   "metadata": {},
   "outputs": [
    {
     "name": "stdout",
     "output_type": "stream",
     "text": [
      "                                                     text  ratings_overall\n",
      "0       Stayed in a king suite for 11 nights and yes i...              5.0\n",
      "1       On every visit to NYC, the Hotel Beacon is the...              5.0\n",
      "2       Our first stay on the upper west side and can'...              5.0\n",
      "3       Great room, very big with huge bed! Great loca...              5.0\n",
      "4       We go to New York every year and this is where...              5.0\n",
      "...                                                   ...              ...\n",
      "666416  If you enjoy being greeted every time you get ...              5.0\n",
      "666417  This hotel was so beautiful and the people wer...              5.0\n",
      "666418  What a great hotel. Ive been visiting Washing ...              5.0\n",
      "666419  Such a lovely old hotel that has been refurbis...              5.0\n",
      "666420  We couldn't have been happier with our choice ...              5.0\n",
      "\n",
      "[666421 rows x 2 columns]\n"
     ]
    }
   ],
   "source": [
    "refined_df = df.drop(columns=df.columns.difference(['text', 'ratings_overall']))\n",
    "\n",
    "print(refined_df)"
   ]
  },
  {
   "cell_type": "code",
   "execution_count": 10,
   "metadata": {},
   "outputs": [
    {
     "data": {
      "text/plain": [
       "<Axes: >"
      ]
     },
     "execution_count": 10,
     "metadata": {},
     "output_type": "execute_result"
    },
    {
     "data": {
      "image/png": "[encoded data removed]",
      "text/plain": [
       "<Figure size 640x480 with 1 Axes>"
      ]
     },
     "metadata": {},
     "output_type": "display_data"
    }
   ],
   "source": [
    "refined_df['ratings_overall'].hist()"
   ]
  },
  {
   "cell_type": "code",
   "execution_count": 11,
   "metadata": {},
   "outputs": [
    {
     "name": "stdout",
     "output_type": "stream",
     "text": [
      "                                                     text  ratings_overall  \\\n",
      "0       Stayed in a king suite for 11 nights and yes i...              5.0   \n",
      "1       On every visit to NYC, the Hotel Beacon is the...              5.0   \n",
      "2       Our first stay on the upper west side and can'...              5.0   \n",
      "3       Great room, very big with huge bed! Great loca...              5.0   \n",
      "4       We go to New York every year and this is where...              5.0   \n",
      "...                                                   ...              ...   \n",
      "666416  If you enjoy being greeted every time you get ...              5.0   \n",
      "666417  This hotel was so beautiful and the people wer...              5.0   \n",
      "666418  What a great hotel. Ive been visiting Washing ...              5.0   \n",
      "666419  Such a lovely old hotel that has been refurbis...              5.0   \n",
      "666420  We couldn't have been happier with our choice ...              5.0   \n",
      "\n",
      "       ratings  \n",
      "0         high  \n",
      "1         high  \n",
      "2         high  \n",
      "3         high  \n",
      "4         high  \n",
      "...        ...  \n",
      "666416    high  \n",
      "666417    high  \n",
      "666418    high  \n",
      "666419    high  \n",
      "666420    high  \n",
      "\n",
      "[666421 rows x 3 columns]\n"
     ]
    }
   ],
   "source": [
    "# 'ratings_overall' 값을 'low' 또는 'high'로 변환하는 함수 정의\n",
    "def map_ratings(value):\n",
    "    if value in [1.0, 2.0, 3.0]:\n",
    "        return 'low'\n",
    "    elif value in [4.0, 5.0]:\n",
    "        return 'high'\n",
    "    else:\n",
    "        return 'unknown'  # 다른 값에 대한 처리를 추가할 수도 있습니다.\n",
    "\n",
    "# 'ratings' 칼럼 생성 및 'ratings_overall' 값에 함수 적용\n",
    "refined_df['ratings'] = refined_df['ratings_overall'].apply(map_ratings)\n",
    "\n",
    "# 결과 확인\n",
    "print(refined_df)"
   ]
  },
  {
   "cell_type": "markdown",
   "metadata": {},
   "source": [
    "# 2. 데이터 전처리"
   ]
  },
  {
   "cell_type": "markdown",
   "metadata": {},
   "source": [
    "## 2.1 토큰화"
   ]
  },
  {
   "cell_type": "code",
   "execution_count": 6,
   "metadata": {},
   "outputs": [
    {
     "name": "stderr",
     "output_type": "stream",
     "text": [
      "2024-02-03 10:17:49.788228: I tensorflow/core/platform/cpu_feature_guard.cc:182] This TensorFlow binary is optimized to use available CPU instructions in performance-critical operations.\n",
      "To enable the following instructions: AVX2 FMA, in other operations, rebuild TensorFlow with the appropriate compiler flags.\n"
     ]
    }
   ],
   "source": [
    "from nltk.tokenize import word_tokenize\n",
    "from nltk.tokenize import WordPunctTokenizer\n",
    "from tensorflow.keras.preprocessing.text import text_to_word_sequence"
   ]
  },
  {
   "cell_type": "code",
   "execution_count": 8,
   "metadata": {},
   "outputs": [
    {
     "name": "stdout",
     "output_type": "stream",
     "text": [
      "단어 토큰화3 : ['stayed', 'in', 'a', 'king', 'suite', 'for', '11', 'nights', 'and', 'yes', 'it', 'cots', 'us', 'a', 'bit', 'but', 'we', 'were', 'happy', 'with', 'the', 'standard', 'of', 'room', 'the', 'location', 'and', 'the', 'friendliness', 'of', 'the', 'staff', 'our', 'room', 'was', 'on', 'the', '20th', 'floor', 'overlooking', 'broadway', 'and', 'the', 'madhouse', 'of', 'the', 'fairway', 'market', 'room', 'was', 'quite', 'with', 'no', 'noise', 'evident', 'from', 'the', 'hallway', 'or', 'adjoining', 'rooms', 'it', 'was', 'great', 'to', 'be', 'able', 'to', 'open', 'windows', 'when', 'we', 'craved', 'fresh', 'rather', 'than', 'heated', 'air', 'the', 'beds', 'including', 'the', 'fold', 'out', 'sofa', 'bed', 'were', 'comfortable', 'and', 'the', 'rooms', 'were', 'cleaned', 'well', 'wi', 'fi', 'access', 'worked', 'like', 'a', 'dream', 'with', 'only', 'one', 'connectivity', 'issue', 'on', 'our', 'first', 'night', 'and', 'this', 'was', 'promptly', 'responded', 'to', 'with', 'a', 'call', 'from', 'the', 'service', 'provider', 'to', 'ensure', 'that', 'all', 'was', 'well', 'the', 'location', 'close', 'to', 'the', '72nd', 'street', 'subway', 'station', 'is', 'great', 'and', 'the', 'complimentary', 'umbrellas', 'on', 'the', 'drizzly', 'days', 'were', 'greatly', 'appreciated', 'it', 'is', 'fabulous', 'to', 'have', 'the', 'kitchen', 'with', 'cooking', 'facilities', 'and', 'the', 'access', 'to', 'a', 'whole', 'range', 'of', 'fresh', 'foods', 'directly', 'across', 'the', 'road', 'at', 'fairway', 'this', 'is', 'the', 'second', 'time', 'that', 'members', 'of', 'the', 'party', 'have', 'stayed', 'at', 'the', 'beacon', 'and', 'it', 'will', 'certainly', 'be', 'our', 'hotel', 'of', 'choice', 'for', 'future', 'visits']\n"
     ]
    }
   ],
   "source": [
    "text = df['text'].iloc[0]\n",
    "print('단어 토큰화3 :',text_to_word_sequence(text))"
   ]
  },
  {
   "cell_type": "code",
   "execution_count": 12,
   "metadata": {},
   "outputs": [
    {
     "name": "stdout",
     "output_type": "stream",
     "text": [
      "                                                     text  ratings_overall  \\\n",
      "0       Stayed in a king suite for 11 nights and yes i...              5.0   \n",
      "1       On every visit to NYC, the Hotel Beacon is the...              5.0   \n",
      "2       Our first stay on the upper west side and can'...              5.0   \n",
      "3       Great room, very big with huge bed! Great loca...              5.0   \n",
      "4       We go to New York every year and this is where...              5.0   \n",
      "...                                                   ...              ...   \n",
      "666416  If you enjoy being greeted every time you get ...              5.0   \n",
      "666417  This hotel was so beautiful and the people wer...              5.0   \n",
      "666418  What a great hotel. Ive been visiting Washing ...              5.0   \n",
      "666419  Such a lovely old hotel that has been refurbis...              5.0   \n",
      "666420  We couldn't have been happier with our choice ...              5.0   \n",
      "\n",
      "       ratings                                             tokens  \n",
      "0         high  [stayed, in, a, king, suite, for, 11, nights, ...  \n",
      "1         high  [on, every, visit, to, nyc, the, hotel, beacon...  \n",
      "2         high  [our, first, stay, on, the, upper, west, side,...  \n",
      "3         high  [great, room, very, big, with, huge, bed, grea...  \n",
      "4         high  [we, go, to, new, york, every, year, and, this...  \n",
      "...        ...                                                ...  \n",
      "666416    high  [if, you, enjoy, being, greeted, every, time, ...  \n",
      "666417    high  [this, hotel, was, so, beautiful, and, the, pe...  \n",
      "666418    high  [what, a, great, hotel, ive, been, visiting, w...  \n",
      "666419    high  [such, a, lovely, old, hotel, that, has, been,...  \n",
      "666420    high  [we, couldn't, have, been, happier, with, our,...  \n",
      "\n",
      "[666421 rows x 4 columns]\n"
     ]
    }
   ],
   "source": [
    "# 'ratings_overall' 값을 'low' 또는 'high'로 변환하는 함수 정의\n",
    "def tokenizer(text):\n",
    "    return text_to_word_sequence(text)\n",
    "\n",
    "# 'ratings' 칼럼 생성 및 'ratings_overall' 값에 함수 적용\n",
    "refined_df['tokens'] = refined_df['text'].apply(tokenizer)\n",
    "\n",
    "# 결과 확인\n",
    "print(refined_df)"
   ]
  },
  {
   "cell_type": "markdown",
   "metadata": {},
   "source": [
    "## 2.2 정제 및 정규화"
   ]
  },
  {
   "cell_type": "markdown",
   "metadata": {},
   "source": [
    "## 2.3 불용어 제거"
   ]
  },
  {
   "cell_type": "markdown",
   "metadata": {},
   "source": [
    "## 2.4 텍스트 벡터화"
   ]
  },
  {
   "cell_type": "markdown",
   "metadata": {},
   "source": [
    "## 2.5 패딩 처리"
   ]
  },
  {
   "cell_type": "markdown",
   "metadata": {},
   "source": [
    "# 3. 데이터 분할"
   ]
  },
  {
   "cell_type": "markdown",
   "metadata": {},
   "source": [
    "# 4. 모델 선택 및 구성"
   ]
  },
  {
   "cell_type": "markdown",
   "metadata": {},
   "source": [
    "# 5. 모델 컴파일 및 학습"
   ]
  },
  {
   "cell_type": "markdown",
   "metadata": {},
   "source": [
    "# 6. 모델 평가"
   ]
  },
  {
   "cell_type": "markdown",
   "metadata": {},
   "source": [
    "# 7. 하이퍼파라미터 튜닝"
   ]
  }
 ],
 "metadata": {
  "kernelspec": {
   "display_name": "Python 3",
   "language": "python",
   "name": "python3"
  },
  "language_info": {
   "codemirror_mode": {
    "name": "ipython",
    "version": 3
   },
   "file_extension": ".py",
   "mimetype": "text/x-python",
   "name": "python",
   "nbconvert_exporter": "python",
   "pygments_lexer": "ipython3",
   "version": "3.11.5"
  }
 },
 "nbformat": 4,
 "nbformat_minor": 2
}
