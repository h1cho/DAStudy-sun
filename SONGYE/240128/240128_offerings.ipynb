{
 "cells": [
  {
   "cell_type": "code",
   "execution_count": 1,
   "metadata": {},
   "outputs": [],
   "source": [
    "import numpy as np\n",
    "import pandas as pd\n",
    "from pandas import json_normalize\n",
    "import json"
   ]
  },
  {
   "cell_type": "markdown",
   "metadata": {},
   "source": [
    "- 호텔 정보인 offering.csv파일과 리뷰 정보인 reviews.csv 파일을 연결지을만한 공통 칼럼이 없다. "
   ]
  },
  {
   "cell_type": "code",
   "execution_count": 2,
   "metadata": {},
   "outputs": [
    {
     "data": {
      "text/plain": [
       "(4333, 9)"
      ]
     },
     "execution_count": 2,
     "metadata": {},
     "output_type": "execute_result"
    }
   ],
   "source": [
    "df = pd.read_csv('../dataset/240128_TripAdvisorHotelReviews/offerings.csv')\n",
    "df.shape"
   ]
  },
  {
   "cell_type": "code",
   "execution_count": 3,
   "metadata": {},
   "outputs": [
    {
     "name": "stdout",
     "output_type": "stream",
     "text": [
      "<class 'pandas.core.frame.DataFrame'>\n",
      "RangeIndex: 4333 entries, 0 to 4332\n",
      "Data columns (total 9 columns):\n",
      " #   Column       Non-Null Count  Dtype  \n",
      "---  ------       --------------  -----  \n",
      " 0   hotel_class  3141 non-null   float64\n",
      " 1   region_id    4333 non-null   int64  \n",
      " 2   url          4333 non-null   object \n",
      " 3   phone        0 non-null      float64\n",
      " 4   details      0 non-null      float64\n",
      " 5   address      4333 non-null   object \n",
      " 6   type         4333 non-null   object \n",
      " 7   id           4333 non-null   int64  \n",
      " 8   name         4333 non-null   object \n",
      "dtypes: float64(3), int64(2), object(4)\n",
      "memory usage: 304.8+ KB\n"
     ]
    }
   ],
   "source": [
    "df.info()"
   ]
  },
  {
   "cell_type": "code",
   "execution_count": 4,
   "metadata": {},
   "outputs": [],
   "source": [
    "df['id'] = df['id'].astype(str)"
   ]
  },
  {
   "cell_type": "code",
   "execution_count": 5,
   "metadata": {},
   "outputs": [
    {
     "name": "stdout",
     "output_type": "stream",
     "text": [
      "<class 'pandas.core.frame.DataFrame'>\n",
      "RangeIndex: 4333 entries, 0 to 4332\n",
      "Data columns (total 9 columns):\n",
      " #   Column       Non-Null Count  Dtype  \n",
      "---  ------       --------------  -----  \n",
      " 0   hotel_class  3141 non-null   float64\n",
      " 1   region_id    4333 non-null   int64  \n",
      " 2   url          4333 non-null   object \n",
      " 3   phone        0 non-null      float64\n",
      " 4   details      0 non-null      float64\n",
      " 5   address      4333 non-null   object \n",
      " 6   type         4333 non-null   object \n",
      " 7   id           4333 non-null   object \n",
      " 8   name         4333 non-null   object \n",
      "dtypes: float64(3), int64(1), object(5)\n",
      "memory usage: 304.8+ KB\n"
     ]
    }
   ],
   "source": [
    "df.info()"
   ]
  },
  {
   "cell_type": "code",
   "execution_count": 9,
   "metadata": {},
   "outputs": [
    {
     "name": "stdout",
     "output_type": "stream",
     "text": [
      "각 'id' 값들의 개수:\n",
      "id\n",
      "113317    1\n",
      "109009    1\n",
      "225440    1\n",
      "288742    1\n",
      "98447     1\n",
      "         ..\n",
      "119733    1\n",
      "80138     1\n",
      "247027    1\n",
      "226611    1\n",
      "84117     1\n",
      "Name: count, Length: 4333, dtype: int64\n"
     ]
    }
   ],
   "source": [
    "id_value_counts = df['id'].value_counts()\n",
    "print(\"각 'id' 값들의 개수:\")\n",
    "print(id_value_counts)\n",
    "\n"
   ]
  }
 ],
 "metadata": {
  "kernelspec": {
   "display_name": "Python 3",
   "language": "python",
   "name": "python3"
  },
  "language_info": {
   "codemirror_mode": {
    "name": "ipython",
    "version": 3
   },
   "file_extension": ".py",
   "mimetype": "text/x-python",
   "name": "python",
   "nbconvert_exporter": "python",
   "pygments_lexer": "ipython3",
   "version": "3.11.5"
  }
 },
 "nbformat": 4,
 "nbformat_minor": 2
}
